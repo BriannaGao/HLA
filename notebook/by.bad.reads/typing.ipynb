{
 "cells": [
  {
   "cell_type": "code",
   "execution_count": 2,
   "metadata": {
    "collapsed": false
   },
   "outputs": [],
   "source": [
    "library(data.table)\n",
    "library(IRanges)"
   ]
  },
  {
   "cell_type": "code",
   "execution_count": 3,
   "metadata": {
    "collapsed": true
   },
   "outputs": [],
   "source": [
    "library(parallel)\n",
    "options(mc.cores = detectCores())"
   ]
  },
  {
   "cell_type": "code",
   "execution_count": 4,
   "metadata": {
    "collapsed": true
   },
   "outputs": [],
   "source": [
    "real <- c('A*02:01', 'A*03:01', 'B*13:02', 'B*51:01', 'C*01:02', 'C*06:02', 'DRB1*07:01', 'DRB1*11:01', 'DQB1*02:AB', 'DQB1*03:01', 'DPB1*02:01', 'DPB1*02:01')"
   ]
  },
  {
   "cell_type": "code",
   "execution_count": 5,
   "metadata": {
    "collapsed": false
   },
   "outputs": [
    {
     "name": "stdout",
     "output_type": "stream",
     "text": [
      "\r",
      "Read 16.1% of 5846112 rows\r",
      "Read 35.1% of 5846112 rows\r",
      "Read 54.1% of 5846112 rows\r",
      "Read 73.0% of 5846112 rows\r",
      "Read 92.0% of 5846112 rows\r",
      "Read 5846112 rows and 12 (of 12) columns from 0.421 GB file in 00:00:07\n"
     ]
    }
   ],
   "source": [
    "dt <- fread('187521910.m8')"
   ]
  },
  {
   "cell_type": "code",
   "execution_count": 6,
   "metadata": {
    "collapsed": false
   },
   "outputs": [],
   "source": [
    "setnames(dt, c('q', 't', 'iden', 'len', 'mis', 'gap', 'qf', 'qt', 'tf', 'tt', 'e', 'score'))\n",
    "#dt <- dt[iden == 100]\n",
    "tt <- dt[, gene := sub('\\\\*.+', '', t)]\n",
    "setkey(dt, q)"
   ]
  },
  {
   "cell_type": "code",
   "execution_count": 7,
   "metadata": {
    "collapsed": false
   },
   "outputs": [],
   "source": [
    "nexpr <- dt[grepl('\\\\D-', t)]\n",
    "dt <- dt[grepl('\\\\d-', t)]\n",
    "tt <- dt[, c('LEN', 'GOOD', 'GOOD.N', 'BAD.N', 'N') := .(\n",
    "    max(len), \n",
    "    paste(unique(gene[len == max(len)]), collapse = ','),\n",
    "    sum(len == max(len) & iden == 100),\n",
    "    sum(len < max(len) | iden < 100),\n",
    "    .N)\n",
    ", by = q]"
   ]
  },
  {
   "cell_type": "code",
   "execution_count": 8,
   "metadata": {
    "collapsed": true
   },
   "outputs": [],
   "source": [
    "good <- dt[len == LEN & iden == 100]\n",
    "dt <- dt[q %in% good$q]\n",
    "bad <- dt[gene == GOOD & (len < LEN | iden < 100)]\n",
    "setkey(good, t)\n",
    "setkey(bad, t)"
   ]
  },
  {
   "cell_type": "code",
   "execution_count": 9,
   "metadata": {
    "collapsed": false
   },
   "outputs": [],
   "source": [
    "score.cov <- good[, .(\n",
    "    nreads = .N,\n",
    "    cov = sum(width(reduce(IRanges(tf, tt))))\n",
    "), keyby = t]\n",
    "tt <- score.cov[, total := as.integer(sub('.+-', '', t))]"
   ]
  },
  {
   "cell_type": "code",
   "execution_count": null,
   "metadata": {
    "collapsed": true
   },
   "outputs": [],
   "source": [
    "score.bad <- bad[, .(\n",
    "    nreads.bad = .N,\n",
    "    cov.bad = sum(width(reduce(IRanges(tf, tt))))\n",
    "), keyby = t]\n",
    "score.cov <- score.bad[score.cov]"
   ]
  },
  {
   "cell_type": "code",
   "execution_count": 10,
   "metadata": {
    "collapsed": false
   },
   "outputs": [
    {
     "data": {
      "text/html": [
       "4"
      ],
      "text/latex": [
       "4"
      ],
      "text/markdown": [
       "4"
      ],
      "text/plain": [
       "[1] 4"
      ]
     },
     "execution_count": 10,
     "metadata": {},
     "output_type": "execute_result"
    }
   ],
   "source": [
    "rescue <- function(to.rescue, rescue.by, BAD = bad, GOOD = good){\n",
    "    explained <- unique(GOOD[t %in% rescue.by, q])\n",
    "    g <- sub('\\\\*.+', '', to.rescue)\n",
    "    BAD[t %in% to.rescue & !(q %in% explained), .N]\n",
    "}\n",
    "a <- 'A*02:01-365'\n",
    "b <- 'A*03:01-365'\n",
    "rescue(b, a)"
   ]
  },
  {
   "cell_type": "code",
   "execution_count": 11,
   "metadata": {
    "collapsed": false
   },
   "outputs": [
    {
     "data": {
      "text/html": [
       "<table>\n",
       "<thead><tr><th></th><th scope=col>t</th><th scope=col>nreads</th><th scope=col>cov</th><th scope=col>total</th><th scope=col>mapped</th></tr></thead>\n",
       "<tbody>\n",
       "\t<tr><th scope=row>1</th><td>C*06:51-181</td><td>49</td><td>181</td><td>181</td><td>1</td></tr>\n",
       "\t<tr><th scope=row>2</th><td>DOA*01:01-250</td><td>201</td><td>250</td><td>250</td><td>1</td></tr>\n",
       "\t<tr><th scope=row>3</th><td>DRB1*11:136-89</td><td>25</td><td>89</td><td>89</td><td>1</td></tr>\n",
       "\t<tr><th scope=row>4</th><td>A*02:20-273</td><td>84</td><td>272</td><td>273</td><td>0.996337</td></tr>\n",
       "\t<tr><th scope=row>5</th><td>A*02:327-273</td><td>97</td><td>272</td><td>273</td><td>0.996337</td></tr>\n",
       "\t<tr><th scope=row>6</th><td>DRA*01:01-254</td><td>215</td><td>253</td><td>254</td><td>0.996063</td></tr>\n",
       "</tbody>\n",
       "</table>\n"
      ],
      "text/latex": [
       "\\begin{tabular}{r|lllll}\n",
       "  & t & nreads & cov & total & mapped\\\\\n",
       "\\hline\n",
       "\t1 & C*06:51-181 & 49 & 181 & 181 & 1\\\\\n",
       "\t2 & DOA*01:01-250 & 201 & 250 & 250 & 1\\\\\n",
       "\t3 & DRB1*11:136-89 & 25 & 89 & 89 & 1\\\\\n",
       "\t4 & A*02:20-273 & 84 & 272 & 273 & 0.996337\\\\\n",
       "\t5 & A*02:327-273 & 97 & 272 & 273 & 0.996337\\\\\n",
       "\t6 & DRA*01:01-254 & 215 & 253 & 254 & 0.996063\\\\\n",
       "\\end{tabular}\n"
      ],
      "text/plain": [
       "                t nreads cov total   mapped\n",
       "1:    C*06:51-181     49 181   181 1.000000\n",
       "2:  DOA*01:01-250    201 250   250 1.000000\n",
       "3: DRB1*11:136-89     25  89    89 1.000000\n",
       "4:    A*02:20-273     84 272   273 0.996337\n",
       "5:   A*02:327-273     97 272   273 0.996337\n",
       "6:  DRA*01:01-254    215 253   254 0.996063"
      ]
     },
     "execution_count": 11,
     "metadata": {},
     "output_type": "execute_result"
    }
   ],
   "source": [
    "tt <- score.cov[, mapped := cov / total]\n",
    "score.cov <- score.cov[order(-mapped)]\n",
    "head(score.cov)"
   ]
  },
  {
   "cell_type": "code",
   "execution_count": 12,
   "metadata": {
    "collapsed": false
   },
   "outputs": [],
   "source": [
    "pairs <- function(G){\n",
    "    scoreA <- score.cov[grepl(sprintf('^%s', G), t)][mapped/max(mapped) >= 0.98 | cov/max(cov) >= 0.95][order(-cov)]\n",
    "    goodA <- good[t %in% scoreA$t]\n",
    "    badA <- bad[gene == G & q %in% goodA$q]\n",
    "    todo <- combn(scoreA$t, 2, simplify = F)\n",
    "    cand <- do.call(rbind, mclapply(todo, function(p){\n",
    "        h1 <- rescue(p[1], p[2], badA, goodA)\n",
    "        h2 <- rescue(p[2], p[1], badA, goodA)   \n",
    "        data.table(t1 = p[1], t2 = p[2], h1 = h1, h2 = h2, hopeless = h1 + h2)\n",
    "    }))\n",
    "    cand <- cand[order(hopeless)]\n",
    "    setkey(scoreA, t)\n",
    "    setkey(cand, t1)\n",
    "    cand <- cbind(cand, scoreA[cand, .(nreads, cov, mapped)])\n",
    "    setnames(cand, c('nreads', 'cov', 'mapped'), c('nreads1', 'cov1', 'mapped1'))\n",
    "    setkey(cand, t2)\n",
    "    cand <- cbind(cand, scoreA[cand, .(nreads, cov, mapped)])\n",
    "    setnames(cand, c('nreads', 'cov', 'mapped'), c('nreads2', 'cov2', 'mapped2'))\n",
    "    tt <- cand[, score := nreads1 + nreads2 - 10 * hopeless]\n",
    "    return(cand[order(-score)])\n",
    "}"
   ]
  },
  {
   "cell_type": "code",
   "execution_count": 13,
   "metadata": {
    "collapsed": false
   },
   "outputs": [
    {
     "data": {
      "text/html": [
       "<table>\n",
       "<thead><tr><th></th><th scope=col>t1</th><th scope=col>t2</th><th scope=col>h1</th><th scope=col>h2</th><th scope=col>hopeless</th><th scope=col>nreads1</th><th scope=col>cov1</th><th scope=col>mapped1</th><th scope=col>nreads2</th><th scope=col>cov2</th><th scope=col>mapped2</th><th scope=col>score</th></tr></thead>\n",
       "<tbody>\n",
       "\t<tr><th scope=row>1</th><td>A*02:01-365</td><td>A*03:01-365</td><td>4</td><td>4</td><td>8</td><td>107</td><td>297</td><td>0.8136986</td><td>147</td><td>296</td><td>0.8109589</td><td>174</td></tr>\n",
       "\t<tr><th scope=row>2</th><td>A*02:01-365</td><td>A*03:26-365</td><td>4</td><td>4</td><td>8</td><td>107</td><td>297</td><td>0.8136986</td><td>146</td><td>294</td><td>0.8054795</td><td>173</td></tr>\n",
       "\t<tr><th scope=row>3</th><td>A*03:01-365</td><td>A*02:134-337</td><td>4</td><td>4</td><td>8</td><td>147</td><td>296</td><td>0.8109589</td><td>104</td><td>293</td><td>0.8694362</td><td>171</td></tr>\n",
       "\t<tr><th scope=row>4</th><td>A*03:01-365</td><td>A*02:294-273</td><td>5</td><td>4</td><td>9</td><td>147</td><td>296</td><td>0.8109589</td><td>114</td><td>271</td><td>0.992674</td><td>171</td></tr>\n",
       "\t<tr><th scope=row>5</th><td>A*03:26-365</td><td>A*02:134-337</td><td>4</td><td>4</td><td>8</td><td>146</td><td>294</td><td>0.8054795</td><td>104</td><td>293</td><td>0.8694362</td><td>170</td></tr>\n",
       "\t<tr><th scope=row>6</th><td>A*03:26-365</td><td>A*02:294-273</td><td>5</td><td>4</td><td>9</td><td>146</td><td>294</td><td>0.8054795</td><td>114</td><td>271</td><td>0.992674</td><td>170</td></tr>\n",
       "</tbody>\n",
       "</table>\n"
      ],
      "text/latex": [
       "\\begin{tabular}{r|llllllllllll}\n",
       "  & t1 & t2 & h1 & h2 & hopeless & nreads1 & cov1 & mapped1 & nreads2 & cov2 & mapped2 & score\\\\\n",
       "\\hline\n",
       "\t1 & A*02:01-365 & A*03:01-365 & 4 & 4 & 8 & 107 & 297 & 0.8136986 & 147 & 296 & 0.8109589 & 174\\\\\n",
       "\t2 & A*02:01-365 & A*03:26-365 & 4 & 4 & 8 & 107 & 297 & 0.8136986 & 146 & 294 & 0.8054795 & 173\\\\\n",
       "\t3 & A*03:01-365 & A*02:134-337 & 4 & 4 & 8 & 147 & 296 & 0.8109589 & 104 & 293 & 0.8694362 & 171\\\\\n",
       "\t4 & A*03:01-365 & A*02:294-273 & 5 & 4 & 9 & 147 & 296 & 0.8109589 & 114 & 271 & 0.992674 & 171\\\\\n",
       "\t5 & A*03:26-365 & A*02:134-337 & 4 & 4 & 8 & 146 & 294 & 0.8054795 & 104 & 293 & 0.8694362 & 170\\\\\n",
       "\t6 & A*03:26-365 & A*02:294-273 & 5 & 4 & 9 & 146 & 294 & 0.8054795 & 114 & 271 & 0.992674 & 170\\\\\n",
       "\\end{tabular}\n"
      ],
      "text/plain": [
       "            t1           t2 h1 h2 hopeless nreads1 cov1   mapped1 nreads2 cov2\n",
       "1: A*02:01-365  A*03:01-365  4  4        8     107  297 0.8136986     147  296\n",
       "2: A*02:01-365  A*03:26-365  4  4        8     107  297 0.8136986     146  294\n",
       "3: A*03:01-365 A*02:134-337  4  4        8     147  296 0.8109589     104  293\n",
       "4: A*03:01-365 A*02:294-273  5  4        9     147  296 0.8109589     114  271\n",
       "5: A*03:26-365 A*02:134-337  4  4        8     146  294 0.8054795     104  293\n",
       "6: A*03:26-365 A*02:294-273  5  4        9     146  294 0.8054795     114  271\n",
       "     mapped2 score\n",
       "1: 0.8109589   174\n",
       "2: 0.8054795   173\n",
       "3: 0.8694362   171\n",
       "4: 0.9926740   171\n",
       "5: 0.8694362   170\n",
       "6: 0.9926740   170"
      ]
     },
     "execution_count": 13,
     "metadata": {},
     "output_type": "execute_result"
    }
   ],
   "source": [
    "head(pairs('A'))"
   ]
  },
  {
   "cell_type": "code",
   "execution_count": 14,
   "metadata": {
    "collapsed": false
   },
   "outputs": [
    {
     "data": {
      "text/html": [
       "<table>\n",
       "<thead><tr><th></th><th scope=col>t1</th><th scope=col>t2</th><th scope=col>h1</th><th scope=col>h2</th><th scope=col>hopeless</th><th scope=col>nreads1</th><th scope=col>cov1</th><th scope=col>mapped1</th><th scope=col>nreads2</th><th scope=col>cov2</th><th scope=col>mapped2</th><th scope=col>score</th></tr></thead>\n",
       "<tbody>\n",
       "\t<tr><th scope=row>1</th><td>B*51:30-273</td><td>B*13:69-273</td><td>0</td><td>0</td><td>0</td><td>88</td><td>268</td><td>0.981685</td><td>85</td><td>265</td><td>0.970696</td><td>173</td></tr>\n",
       "\t<tr><th scope=row>2</th><td>B*51:01-362</td><td>B*13:69-273</td><td>0</td><td>0</td><td>0</td><td>80</td><td>297</td><td>0.820442</td><td>85</td><td>265</td><td>0.970696</td><td>165</td></tr>\n",
       "\t<tr><th scope=row>3</th><td>B*51:193-362</td><td>B*13:69-273</td><td>0</td><td>0</td><td>0</td><td>80</td><td>297</td><td>0.820442</td><td>85</td><td>265</td><td>0.970696</td><td>165</td></tr>\n",
       "\t<tr><th scope=row>4</th><td>B*51:96-337</td><td>B*13:69-273</td><td>0</td><td>0</td><td>0</td><td>79</td><td>295</td><td>0.8753709</td><td>85</td><td>265</td><td>0.970696</td><td>164</td></tr>\n",
       "\t<tr><th scope=row>5</th><td>B*51:187-362</td><td>B*13:69-273</td><td>0</td><td>0</td><td>0</td><td>78</td><td>294</td><td>0.8121547</td><td>85</td><td>265</td><td>0.970696</td><td>163</td></tr>\n",
       "\t<tr><th scope=row>6</th><td>B*51:188-362</td><td>B*13:69-273</td><td>0</td><td>0</td><td>0</td><td>78</td><td>289</td><td>0.7983425</td><td>85</td><td>265</td><td>0.970696</td><td>163</td></tr>\n",
       "</tbody>\n",
       "</table>\n"
      ],
      "text/latex": [
       "\\begin{tabular}{r|llllllllllll}\n",
       "  & t1 & t2 & h1 & h2 & hopeless & nreads1 & cov1 & mapped1 & nreads2 & cov2 & mapped2 & score\\\\\n",
       "\\hline\n",
       "\t1 & B*51:30-273 & B*13:69-273 & 0 & 0 & 0 & 88 & 268 & 0.981685 & 85 & 265 & 0.970696 & 173\\\\\n",
       "\t2 & B*51:01-362 & B*13:69-273 & 0 & 0 & 0 & 80 & 297 & 0.820442 & 85 & 265 & 0.970696 & 165\\\\\n",
       "\t3 & B*51:193-362 & B*13:69-273 & 0 & 0 & 0 & 80 & 297 & 0.820442 & 85 & 265 & 0.970696 & 165\\\\\n",
       "\t4 & B*51:96-337 & B*13:69-273 & 0 & 0 & 0 & 79 & 295 & 0.8753709 & 85 & 265 & 0.970696 & 164\\\\\n",
       "\t5 & B*51:187-362 & B*13:69-273 & 0 & 0 & 0 & 78 & 294 & 0.8121547 & 85 & 265 & 0.970696 & 163\\\\\n",
       "\t6 & B*51:188-362 & B*13:69-273 & 0 & 0 & 0 & 78 & 289 & 0.7983425 & 85 & 265 & 0.970696 & 163\\\\\n",
       "\\end{tabular}\n"
      ],
      "text/plain": [
       "             t1          t2 h1 h2 hopeless nreads1 cov1   mapped1 nreads2 cov2\n",
       "1:  B*51:30-273 B*13:69-273  0  0        0      88  268 0.9816850      85  265\n",
       "2:  B*51:01-362 B*13:69-273  0  0        0      80  297 0.8204420      85  265\n",
       "3: B*51:193-362 B*13:69-273  0  0        0      80  297 0.8204420      85  265\n",
       "4:  B*51:96-337 B*13:69-273  0  0        0      79  295 0.8753709      85  265\n",
       "5: B*51:187-362 B*13:69-273  0  0        0      78  294 0.8121547      85  265\n",
       "6: B*51:188-362 B*13:69-273  0  0        0      78  289 0.7983425      85  265\n",
       "    mapped2 score\n",
       "1: 0.970696   173\n",
       "2: 0.970696   165\n",
       "3: 0.970696   165\n",
       "4: 0.970696   164\n",
       "5: 0.970696   163\n",
       "6: 0.970696   163"
      ]
     },
     "execution_count": 14,
     "metadata": {},
     "output_type": "execute_result"
    }
   ],
   "source": [
    "head(pairs('B'))"
   ]
  },
  {
   "cell_type": "code",
   "execution_count": 15,
   "metadata": {
    "collapsed": false
   },
   "outputs": [
    {
     "data": {
      "text/html": [
       "<table>\n",
       "<thead><tr><th></th><th scope=col>t1</th><th scope=col>t2</th><th scope=col>h1</th><th scope=col>h2</th><th scope=col>hopeless</th><th scope=col>nreads1</th><th scope=col>cov1</th><th scope=col>mapped1</th><th scope=col>nreads2</th><th scope=col>cov2</th><th scope=col>mapped2</th><th scope=col>score</th></tr></thead>\n",
       "<tbody>\n",
       "\t<tr><th scope=row>1</th><td>DRB1*07:01-266</td><td>DRB1*11:01-266</td><td>0</td><td>1</td><td>1</td><td>65</td><td>253</td><td>0.9511278</td><td>69</td><td>251</td><td>0.943609</td><td>124</td></tr>\n",
       "\t<tr><th scope=row>2</th><td>DRB1*07:01-266</td><td>DRB1*11:04-266</td><td>0</td><td>1</td><td>1</td><td>65</td><td>253</td><td>0.9511278</td><td>67</td><td>242</td><td>0.9097744</td><td>122</td></tr>\n",
       "\t<tr><th scope=row>3</th><td>DRB1*07:01-266</td><td>DRB1*14:141-266</td><td>0</td><td>0</td><td>0</td><td>65</td><td>253</td><td>0.9511278</td><td>53</td><td>251</td><td>0.943609</td><td>118</td></tr>\n",
       "\t<tr><th scope=row>4</th><td>DRB1*11:01-266</td><td>DRB1*11:04-266</td><td>1</td><td>1</td><td>2</td><td>69</td><td>251</td><td>0.943609</td><td>67</td><td>242</td><td>0.9097744</td><td>116</td></tr>\n",
       "\t<tr><th scope=row>5</th><td>DRB1*11:01-266</td><td>DRB1*14:141-266</td><td>1</td><td>0</td><td>1</td><td>69</td><td>251</td><td>0.943609</td><td>53</td><td>251</td><td>0.943609</td><td>112</td></tr>\n",
       "\t<tr><th scope=row>6</th><td>DRB1*14:141-266</td><td>DRB1*11:04-266</td><td>0</td><td>1</td><td>1</td><td>53</td><td>251</td><td>0.943609</td><td>67</td><td>242</td><td>0.9097744</td><td>110</td></tr>\n",
       "</tbody>\n",
       "</table>\n"
      ],
      "text/latex": [
       "\\begin{tabular}{r|llllllllllll}\n",
       "  & t1 & t2 & h1 & h2 & hopeless & nreads1 & cov1 & mapped1 & nreads2 & cov2 & mapped2 & score\\\\\n",
       "\\hline\n",
       "\t1 & DRB1*07:01-266 & DRB1*11:01-266 & 0 & 1 & 1 & 65 & 253 & 0.9511278 & 69 & 251 & 0.943609 & 124\\\\\n",
       "\t2 & DRB1*07:01-266 & DRB1*11:04-266 & 0 & 1 & 1 & 65 & 253 & 0.9511278 & 67 & 242 & 0.9097744 & 122\\\\\n",
       "\t3 & DRB1*07:01-266 & DRB1*14:141-266 & 0 & 0 & 0 & 65 & 253 & 0.9511278 & 53 & 251 & 0.943609 & 118\\\\\n",
       "\t4 & DRB1*11:01-266 & DRB1*11:04-266 & 1 & 1 & 2 & 69 & 251 & 0.943609 & 67 & 242 & 0.9097744 & 116\\\\\n",
       "\t5 & DRB1*11:01-266 & DRB1*14:141-266 & 1 & 0 & 1 & 69 & 251 & 0.943609 & 53 & 251 & 0.943609 & 112\\\\\n",
       "\t6 & DRB1*14:141-266 & DRB1*11:04-266 & 0 & 1 & 1 & 53 & 251 & 0.943609 & 67 & 242 & 0.9097744 & 110\\\\\n",
       "\\end{tabular}\n"
      ],
      "text/plain": [
       "                t1              t2 h1 h2 hopeless nreads1 cov1   mapped1\n",
       "1:  DRB1*07:01-266  DRB1*11:01-266  0  1        1      65  253 0.9511278\n",
       "2:  DRB1*07:01-266  DRB1*11:04-266  0  1        1      65  253 0.9511278\n",
       "3:  DRB1*07:01-266 DRB1*14:141-266  0  0        0      65  253 0.9511278\n",
       "4:  DRB1*11:01-266  DRB1*11:04-266  1  1        2      69  251 0.9436090\n",
       "5:  DRB1*11:01-266 DRB1*14:141-266  1  0        1      69  251 0.9436090\n",
       "6: DRB1*14:141-266  DRB1*11:04-266  0  1        1      53  251 0.9436090\n",
       "   nreads2 cov2   mapped2 score\n",
       "1:      69  251 0.9436090   124\n",
       "2:      67  242 0.9097744   122\n",
       "3:      53  251 0.9436090   118\n",
       "4:      67  242 0.9097744   116\n",
       "5:      53  251 0.9436090   112\n",
       "6:      67  242 0.9097744   110"
      ]
     },
     "execution_count": 15,
     "metadata": {},
     "output_type": "execute_result"
    }
   ],
   "source": [
    "head(pairs('DRB1'))"
   ]
  },
  {
   "cell_type": "code",
   "execution_count": 16,
   "metadata": {
    "collapsed": false
   },
   "outputs": [
    {
     "data": {
      "text/html": [
       "<table>\n",
       "<thead><tr><th></th><th scope=col>t1</th><th scope=col>t2</th><th scope=col>h1</th><th scope=col>h2</th><th scope=col>hopeless</th><th scope=col>nreads1</th><th scope=col>cov1</th><th scope=col>mapped1</th><th scope=col>nreads2</th><th scope=col>cov2</th><th scope=col>mapped2</th><th scope=col>score</th></tr></thead>\n",
       "<tbody>\n",
       "\t<tr><th scope=row>1</th><td>DQB1*03:01-261</td><td>DQB1*03:116-261</td><td>0</td><td>0</td><td>0</td><td>54</td><td>240</td><td>0.9195402</td><td>46</td><td>235</td><td>0.9003831</td><td>100</td></tr>\n",
       "\t<tr><th scope=row>2</th><td>DQB1*03:01-261</td><td>DQB1*03:19-183</td><td>0</td><td>0</td><td>0</td><td>54</td><td>240</td><td>0.9195402</td><td>15</td><td>172</td><td>0.9398907</td><td>69</td></tr>\n",
       "\t<tr><th scope=row>3</th><td>DQB1*03:01-261</td><td>DQB1*03:191-183</td><td>0</td><td>0</td><td>0</td><td>54</td><td>240</td><td>0.9195402</td><td>15</td><td>172</td><td>0.9398907</td><td>69</td></tr>\n",
       "\t<tr><th scope=row>4</th><td>DQB1*03:01-261</td><td>DQB1*03:29-183</td><td>0</td><td>0</td><td>0</td><td>54</td><td>240</td><td>0.9195402</td><td>15</td><td>172</td><td>0.9398907</td><td>69</td></tr>\n",
       "\t<tr><th scope=row>5</th><td>DQB1*03:01-261</td><td>DQB1*03:165-173</td><td>0</td><td>0</td><td>0</td><td>54</td><td>240</td><td>0.9195402</td><td>14</td><td>162</td><td>0.9364162</td><td>68</td></tr>\n",
       "\t<tr><th scope=row>6</th><td>DQB1*03:01-261</td><td>DQB1*03:120-89</td><td>0</td><td>0</td><td>0</td><td>54</td><td>240</td><td>0.9195402</td><td>8</td><td>85</td><td>0.9550562</td><td>62</td></tr>\n",
       "</tbody>\n",
       "</table>\n"
      ],
      "text/latex": [
       "\\begin{tabular}{r|llllllllllll}\n",
       "  & t1 & t2 & h1 & h2 & hopeless & nreads1 & cov1 & mapped1 & nreads2 & cov2 & mapped2 & score\\\\\n",
       "\\hline\n",
       "\t1 & DQB1*03:01-261 & DQB1*03:116-261 & 0 & 0 & 0 & 54 & 240 & 0.9195402 & 46 & 235 & 0.9003831 & 100\\\\\n",
       "\t2 & DQB1*03:01-261 & DQB1*03:19-183 & 0 & 0 & 0 & 54 & 240 & 0.9195402 & 15 & 172 & 0.9398907 & 69\\\\\n",
       "\t3 & DQB1*03:01-261 & DQB1*03:191-183 & 0 & 0 & 0 & 54 & 240 & 0.9195402 & 15 & 172 & 0.9398907 & 69\\\\\n",
       "\t4 & DQB1*03:01-261 & DQB1*03:29-183 & 0 & 0 & 0 & 54 & 240 & 0.9195402 & 15 & 172 & 0.9398907 & 69\\\\\n",
       "\t5 & DQB1*03:01-261 & DQB1*03:165-173 & 0 & 0 & 0 & 54 & 240 & 0.9195402 & 14 & 162 & 0.9364162 & 68\\\\\n",
       "\t6 & DQB1*03:01-261 & DQB1*03:120-89 & 0 & 0 & 0 & 54 & 240 & 0.9195402 & 8 & 85 & 0.9550562 & 62\\\\\n",
       "\\end{tabular}\n"
      ],
      "text/plain": [
       "               t1              t2 h1 h2 hopeless nreads1 cov1   mapped1 nreads2\n",
       "1: DQB1*03:01-261 DQB1*03:116-261  0  0        0      54  240 0.9195402      46\n",
       "2: DQB1*03:01-261  DQB1*03:19-183  0  0        0      54  240 0.9195402      15\n",
       "3: DQB1*03:01-261 DQB1*03:191-183  0  0        0      54  240 0.9195402      15\n",
       "4: DQB1*03:01-261  DQB1*03:29-183  0  0        0      54  240 0.9195402      15\n",
       "5: DQB1*03:01-261 DQB1*03:165-173  0  0        0      54  240 0.9195402      14\n",
       "6: DQB1*03:01-261  DQB1*03:120-89  0  0        0      54  240 0.9195402       8\n",
       "   cov2   mapped2 score\n",
       "1:  235 0.9003831   100\n",
       "2:  172 0.9398907    69\n",
       "3:  172 0.9398907    69\n",
       "4:  172 0.9398907    69\n",
       "5:  162 0.9364162    68\n",
       "6:   85 0.9550562    62"
      ]
     },
     "execution_count": 16,
     "metadata": {},
     "output_type": "execute_result"
    }
   ],
   "source": [
    "head(pairs('DQB1'))"
   ]
  },
  {
   "cell_type": "code",
   "execution_count": 17,
   "metadata": {
    "collapsed": false
   },
   "outputs": [
    {
     "data": {
      "text/html": [
       "<table>\n",
       "<thead><tr><th></th><th scope=col>t1</th><th scope=col>t2</th><th scope=col>h1</th><th scope=col>h2</th><th scope=col>hopeless</th><th scope=col>nreads1</th><th scope=col>cov1</th><th scope=col>mapped1</th><th scope=col>nreads2</th><th scope=col>cov2</th><th scope=col>mapped2</th><th scope=col>score</th></tr></thead>\n",
       "<tbody>\n",
       "\t<tr><th scope=row>1</th><td>DPB1*02:01-258</td><td>DPB1*02:02-258</td><td>0</td><td>0</td><td>0</td><td>187</td><td>215</td><td>0.8333333</td><td>148</td><td>208</td><td>0.8062016</td><td>335</td></tr>\n",
       "\t<tr><th scope=row>2</th><td>DPB1*02:01-258</td><td>DPB1*105:01-258</td><td>1</td><td>1</td><td>2</td><td>187</td><td>215</td><td>0.8333333</td><td>153</td><td>214</td><td>0.8294574</td><td>320</td></tr>\n",
       "\t<tr><th scope=row>3</th><td>DPB1*02:01-258</td><td>DPB1*04:02-258</td><td>1</td><td>1</td><td>2</td><td>187</td><td>215</td><td>0.8333333</td><td>115</td><td>205</td><td>0.7945736</td><td>282</td></tr>\n",
       "\t<tr><th scope=row>4</th><td>DPB1*02:01-258</td><td>DPB1*141:01-181</td><td>1</td><td>1</td><td>2</td><td>187</td><td>215</td><td>0.8333333</td><td>114</td><td>180</td><td>0.9944751</td><td>281</td></tr>\n",
       "\t<tr><th scope=row>5</th><td>DPB1*105:01-258</td><td>DPB1*141:01-181</td><td>1</td><td>1</td><td>2</td><td>153</td><td>214</td><td>0.8294574</td><td>114</td><td>180</td><td>0.9944751</td><td>247</td></tr>\n",
       "\t<tr><th scope=row>6</th><td>DPB1*04:02-258</td><td>DPB1*141:01-181</td><td>1</td><td>1</td><td>2</td><td>115</td><td>205</td><td>0.7945736</td><td>114</td><td>180</td><td>0.9944751</td><td>209</td></tr>\n",
       "</tbody>\n",
       "</table>\n"
      ],
      "text/latex": [
       "\\begin{tabular}{r|llllllllllll}\n",
       "  & t1 & t2 & h1 & h2 & hopeless & nreads1 & cov1 & mapped1 & nreads2 & cov2 & mapped2 & score\\\\\n",
       "\\hline\n",
       "\t1 & DPB1*02:01-258 & DPB1*02:02-258 & 0 & 0 & 0 & 187 & 215 & 0.8333333 & 148 & 208 & 0.8062016 & 335\\\\\n",
       "\t2 & DPB1*02:01-258 & DPB1*105:01-258 & 1 & 1 & 2 & 187 & 215 & 0.8333333 & 153 & 214 & 0.8294574 & 320\\\\\n",
       "\t3 & DPB1*02:01-258 & DPB1*04:02-258 & 1 & 1 & 2 & 187 & 215 & 0.8333333 & 115 & 205 & 0.7945736 & 282\\\\\n",
       "\t4 & DPB1*02:01-258 & DPB1*141:01-181 & 1 & 1 & 2 & 187 & 215 & 0.8333333 & 114 & 180 & 0.9944751 & 281\\\\\n",
       "\t5 & DPB1*105:01-258 & DPB1*141:01-181 & 1 & 1 & 2 & 153 & 214 & 0.8294574 & 114 & 180 & 0.9944751 & 247\\\\\n",
       "\t6 & DPB1*04:02-258 & DPB1*141:01-181 & 1 & 1 & 2 & 115 & 205 & 0.7945736 & 114 & 180 & 0.9944751 & 209\\\\\n",
       "\\end{tabular}\n"
      ],
      "text/plain": [
       "                t1              t2 h1 h2 hopeless nreads1 cov1   mapped1\n",
       "1:  DPB1*02:01-258  DPB1*02:02-258  0  0        0     187  215 0.8333333\n",
       "2:  DPB1*02:01-258 DPB1*105:01-258  1  1        2     187  215 0.8333333\n",
       "3:  DPB1*02:01-258  DPB1*04:02-258  1  1        2     187  215 0.8333333\n",
       "4:  DPB1*02:01-258 DPB1*141:01-181  1  1        2     187  215 0.8333333\n",
       "5: DPB1*105:01-258 DPB1*141:01-181  1  1        2     153  214 0.8294574\n",
       "6:  DPB1*04:02-258 DPB1*141:01-181  1  1        2     115  205 0.7945736\n",
       "   nreads2 cov2   mapped2 score\n",
       "1:     148  208 0.8062016   335\n",
       "2:     153  214 0.8294574   320\n",
       "3:     115  205 0.7945736   282\n",
       "4:     114  180 0.9944751   281\n",
       "5:     114  180 0.9944751   247\n",
       "6:     114  180 0.9944751   209"
      ]
     },
     "execution_count": 17,
     "metadata": {},
     "output_type": "execute_result"
    }
   ],
   "source": [
    "head(pairs('DPB1'))"
   ]
  },
  {
   "cell_type": "code",
   "execution_count": 18,
   "metadata": {
    "collapsed": false
   },
   "outputs": [
    {
     "data": {
      "text/html": [
       "<table>\n",
       "<thead><tr><th></th><th scope=col>t1</th><th scope=col>t2</th><th scope=col>h1</th><th scope=col>h2</th><th scope=col>hopeless</th><th scope=col>nreads1</th><th scope=col>cov1</th><th scope=col>mapped1</th><th scope=col>nreads2</th><th scope=col>cov2</th><th scope=col>mapped2</th><th scope=col>score</th></tr></thead>\n",
       "<tbody>\n",
       "\t<tr><th scope=row>1</th><td>C*06:73-273</td><td>C*06:02-366</td><td>0</td><td>0</td><td>0</td><td>105</td><td>262</td><td>0.959707</td><td>98</td><td>261</td><td>0.7131148</td><td>203</td></tr>\n",
       "\t<tr><th scope=row>2</th><td>C*06:73-273</td><td>C*06:108-273</td><td>0</td><td>0</td><td>0</td><td>105</td><td>262</td><td>0.959707</td><td>98</td><td>261</td><td>0.956044</td><td>203</td></tr>\n",
       "\t<tr><th scope=row>3</th><td>C*06:73-273</td><td>C*06:110-298</td><td>0</td><td>0</td><td>0</td><td>105</td><td>262</td><td>0.959707</td><td>98</td><td>261</td><td>0.8758389</td><td>203</td></tr>\n",
       "\t<tr><th scope=row>4</th><td>C*06:73-273</td><td>C*06:55-273</td><td>0</td><td>0</td><td>0</td><td>105</td><td>262</td><td>0.959707</td><td>98</td><td>261</td><td>0.956044</td><td>203</td></tr>\n",
       "\t<tr><th scope=row>5</th><td>C*06:73-273</td><td>C*06:83-365</td><td>0</td><td>0</td><td>0</td><td>105</td><td>262</td><td>0.959707</td><td>98</td><td>261</td><td>0.7150685</td><td>203</td></tr>\n",
       "\t<tr><th scope=row>6</th><td>C*06:73-273</td><td>C*06:30-273</td><td>0</td><td>0</td><td>0</td><td>105</td><td>262</td><td>0.959707</td><td>94</td><td>259</td><td>0.9487179</td><td>199</td></tr>\n",
       "</tbody>\n",
       "</table>\n"
      ],
      "text/latex": [
       "\\begin{tabular}{r|llllllllllll}\n",
       "  & t1 & t2 & h1 & h2 & hopeless & nreads1 & cov1 & mapped1 & nreads2 & cov2 & mapped2 & score\\\\\n",
       "\\hline\n",
       "\t1 & C*06:73-273 & C*06:02-366 & 0 & 0 & 0 & 105 & 262 & 0.959707 & 98 & 261 & 0.7131148 & 203\\\\\n",
       "\t2 & C*06:73-273 & C*06:108-273 & 0 & 0 & 0 & 105 & 262 & 0.959707 & 98 & 261 & 0.956044 & 203\\\\\n",
       "\t3 & C*06:73-273 & C*06:110-298 & 0 & 0 & 0 & 105 & 262 & 0.959707 & 98 & 261 & 0.8758389 & 203\\\\\n",
       "\t4 & C*06:73-273 & C*06:55-273 & 0 & 0 & 0 & 105 & 262 & 0.959707 & 98 & 261 & 0.956044 & 203\\\\\n",
       "\t5 & C*06:73-273 & C*06:83-365 & 0 & 0 & 0 & 105 & 262 & 0.959707 & 98 & 261 & 0.7150685 & 203\\\\\n",
       "\t6 & C*06:73-273 & C*06:30-273 & 0 & 0 & 0 & 105 & 262 & 0.959707 & 94 & 259 & 0.9487179 & 199\\\\\n",
       "\\end{tabular}\n"
      ],
      "text/plain": [
       "            t1           t2 h1 h2 hopeless nreads1 cov1  mapped1 nreads2 cov2\n",
       "1: C*06:73-273  C*06:02-366  0  0        0     105  262 0.959707      98  261\n",
       "2: C*06:73-273 C*06:108-273  0  0        0     105  262 0.959707      98  261\n",
       "3: C*06:73-273 C*06:110-298  0  0        0     105  262 0.959707      98  261\n",
       "4: C*06:73-273  C*06:55-273  0  0        0     105  262 0.959707      98  261\n",
       "5: C*06:73-273  C*06:83-365  0  0        0     105  262 0.959707      98  261\n",
       "6: C*06:73-273  C*06:30-273  0  0        0     105  262 0.959707      94  259\n",
       "     mapped2 score\n",
       "1: 0.7131148   203\n",
       "2: 0.9560440   203\n",
       "3: 0.8758389   203\n",
       "4: 0.9560440   203\n",
       "5: 0.7150685   203\n",
       "6: 0.9487179   199"
      ]
     },
     "execution_count": 18,
     "metadata": {},
     "output_type": "execute_result"
    }
   ],
   "source": [
    "head(pairs('C'))"
   ]
  },
  {
   "cell_type": "code",
   "execution_count": null,
   "metadata": {
    "collapsed": true
   },
   "outputs": [],
   "source": []
  }
 ],
 "metadata": {
  "kernelspec": {
   "display_name": "R",
   "language": "R",
   "name": "ir"
  },
  "language_info": {
   "codemirror_mode": "r",
   "file_extension": ".r",
   "mimetype": "text/x-r-source",
   "name": "R",
   "pygments_lexer": "r",
   "version": "3.2.1"
  }
 },
 "nbformat": 4,
 "nbformat_minor": 0
}
