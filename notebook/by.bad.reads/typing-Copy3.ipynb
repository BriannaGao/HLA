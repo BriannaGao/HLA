{
 "cells": [
  {
   "cell_type": "code",
   "execution_count": 2,
   "metadata": {
    "collapsed": false
   },
   "outputs": [],
   "source": [
    "library(data.table)\n",
    "library(IRanges)"
   ]
  },
  {
   "cell_type": "code",
   "execution_count": 3,
   "metadata": {
    "collapsed": true
   },
   "outputs": [],
   "source": [
    "library(parallel)\n",
    "options(mc.cores = detectCores())"
   ]
  },
  {
   "cell_type": "code",
   "execution_count": 4,
   "metadata": {
    "collapsed": true
   },
   "outputs": [],
   "source": [
    "real <- c('A*02:01', 'A*03:01', 'B*13:02', 'B*51:01', 'C*01:02', 'C*06:02', 'DRB1*07:01', 'DRB1*11:01', 'DQB1*02:AB', 'DQB1*03:01', 'DPB1*02:01', 'DPB1*02:01')"
   ]
  },
  {
   "cell_type": "code",
   "execution_count": 5,
   "metadata": {
    "collapsed": false
   },
   "outputs": [
    {
     "name": "stdout",
     "output_type": "stream",
     "text": [
      "\r",
      "Read 15.9% of 5846112 rows\r",
      "Read 34.9% of 5846112 rows\r",
      "Read 53.7% of 5846112 rows\r",
      "Read 72.5% of 5846112 rows\r",
      "Read 91.5% of 5846112 rows\r",
      "Read 5846112 rows and 12 (of 12) columns from 0.421 GB file in 00:00:07\n"
     ]
    }
   ],
   "source": [
    "dt <- fread('187521910.m8')"
   ]
  },
  {
   "cell_type": "code",
   "execution_count": 6,
   "metadata": {
    "collapsed": false
   },
   "outputs": [],
   "source": [
    "setnames(dt, c('q', 't', 'iden', 'len', 'mis', 'gap', 'qf', 'qt', 'tf', 'tt', 'e', 'score'))\n",
    "#dt <- dt[iden == 100]\n",
    "tt <- dt[, gene := sub('\\\\*.+', '', t)]\n",
    "setkey(dt, q)"
   ]
  },
  {
   "cell_type": "code",
   "execution_count": 7,
   "metadata": {
    "collapsed": false
   },
   "outputs": [],
   "source": [
    "nexpr <- dt[grepl('\\\\D-', t)]\n",
    "dt <- dt[grepl('\\\\d-', t)]\n",
    "tt <- dt[, c('LEN', 'GOOD', 'GOOD.N', 'BAD.N', 'N') := .(\n",
    "    max(len), \n",
    "    paste(unique(gene[len == max(len)]), collapse = ','),\n",
    "    sum(len == max(len) & iden == 100),\n",
    "    sum(len < max(len) | iden < 100),\n",
    "    .N)\n",
    ", by = q]"
   ]
  },
  {
   "cell_type": "code",
   "execution_count": 8,
   "metadata": {
    "collapsed": true
   },
   "outputs": [],
   "source": [
    "good <- dt[len == LEN & iden == 100]\n",
    "tt <- good[, pure := gene == GOOD]\n",
    "dt <- dt[q %in% good$q]\n",
    "bad <- dt[len < LEN | iden < 100]"
   ]
  },
  {
   "cell_type": "code",
   "execution_count": 9,
   "metadata": {
    "collapsed": true
   },
   "outputs": [],
   "source": [
    "ir.score <- function(tf, tt){\n",
    "    ir <- reduce(IRanges(tf, tt), min.gapwidth = 0)\n",
    "    return(list(\n",
    "        nreads = length(tf),\n",
    "        cov = sum(width(ir)),\n",
    "        nseg = length(ir),\n",
    "        nbreaks = sum(width(gaps(ir - 1)) == 2)\n",
    "    ))\n",
    "}"
   ]
  },
  {
   "cell_type": "code",
   "execution_count": 10,
   "metadata": {
    "collapsed": false
   },
   "outputs": [],
   "source": [
    "ir1 <- good[, ir.score(tf, tt), keyby = t]\n",
    "ir2 <- good[pure==T, ir.score(tf, tt), keyby = t]\n",
    "setnames(ir2, c('t', 'nreads2', 'cov2', 'nseg2', 'nbreaks2'))\n",
    "score <- ir2[ir1][order(-cov)]"
   ]
  },
  {
   "cell_type": "code",
   "execution_count": 11,
   "metadata": {
    "collapsed": false
   },
   "outputs": [],
   "source": [
    "get.bad <- function(g){\n",
    "    bad.score <- bad[gene == g & grepl(sprintf('^%s', g), GOOD), ir.score(tf, tt), keyby = t]\n",
    "    setnames(bad.score, c('t', 'bad.nreads', 'bad.cov', 'bad.nseg', 'bad.nbreaks'))\n",
    "    bad.score <- bad.score[score[grepl(sprintf(\"^%s\", g), t)]][order(-cov)]\n",
    "    return(bad.score)\n",
    "}\n",
    "bad.reads <- function(bad, hla){\n",
    "    dt[q %in% bad[t == hla, q]]\n",
    "}"
   ]
  },
  {
   "cell_type": "code",
   "execution_count": 12,
   "metadata": {
    "collapsed": false
   },
   "outputs": [
    {
     "data": {
      "text/html": [
       "<table>\n",
       "<thead><tr><th></th><th scope=col>t</th><th scope=col>bad.nreads</th><th scope=col>bad.cov</th><th scope=col>bad.nseg</th><th scope=col>bad.nbreaks</th><th scope=col>nreads2</th><th scope=col>cov2</th><th scope=col>nseg2</th><th scope=col>nbreaks2</th><th scope=col>nreads</th><th scope=col>cov</th><th scope=col>nseg</th><th scope=col>nbreaks</th></tr></thead>\n",
       "<tbody>\n",
       "\t<tr><th scope=row>1</th><td>A*03:01-365</td><td>50</td><td>286</td><td>3</td><td>0</td><td>34</td><td>153</td><td>1</td><td>0</td><td>147</td><td>296</td><td>3</td><td>0</td></tr>\n",
       "\t<tr><th scope=row>2</th><td>A*03:89-365</td><td>50</td><td>279</td><td>4</td><td>0</td><td>30</td><td>144</td><td>1</td><td>0</td><td>148</td><td>296</td><td>3</td><td>0</td></tr>\n",
       "\t<tr><th scope=row>3</th><td>A*03:26-365</td><td>51</td><td>286</td><td>3</td><td>0</td><td>34</td><td>153</td><td>1</td><td>0</td><td>146</td><td>294</td><td>3</td><td>0</td></tr>\n",
       "\t<tr><th scope=row>4</th><td>A*02:01-365</td><td>91</td><td>254</td><td>5</td><td>0</td><td>54</td><td>247</td><td>3</td><td>0</td><td>107</td><td>297</td><td>2</td><td>0</td></tr>\n",
       "\t<tr><th scope=row>5</th><td>A*02:24-365</td><td>104</td><td>281</td><td>5</td><td>0</td><td>44</td><td>247</td><td>3</td><td>0</td><td>97</td><td>297</td><td>2</td><td>0</td></tr>\n",
       "\t<tr><th scope=row>6</th><td>A*02:249-365</td><td>105</td><td>261</td><td>4</td><td>0</td><td>45</td><td>223</td><td>3</td><td>0</td><td>93</td><td>296</td><td>3</td><td>0</td></tr>\n",
       "</tbody>\n",
       "</table>\n"
      ],
      "text/latex": [
       "\\begin{tabular}{r|lllllllllllll}\n",
       "  & t & bad.nreads & bad.cov & bad.nseg & bad.nbreaks & nreads2 & cov2 & nseg2 & nbreaks2 & nreads & cov & nseg & nbreaks\\\\\n",
       "\\hline\n",
       "\t1 & A*03:01-365 & 50 & 286 & 3 & 0 & 34 & 153 & 1 & 0 & 147 & 296 & 3 & 0\\\\\n",
       "\t2 & A*03:89-365 & 50 & 279 & 4 & 0 & 30 & 144 & 1 & 0 & 148 & 296 & 3 & 0\\\\\n",
       "\t3 & A*03:26-365 & 51 & 286 & 3 & 0 & 34 & 153 & 1 & 0 & 146 & 294 & 3 & 0\\\\\n",
       "\t4 & A*02:01-365 & 91 & 254 & 5 & 0 & 54 & 247 & 3 & 0 & 107 & 297 & 2 & 0\\\\\n",
       "\t5 & A*02:24-365 & 104 & 281 & 5 & 0 & 44 & 247 & 3 & 0 & 97 & 297 & 2 & 0\\\\\n",
       "\t6 & A*02:249-365 & 105 & 261 & 4 & 0 & 45 & 223 & 3 & 0 & 93 & 296 & 3 & 0\\\\\n",
       "\\end{tabular}\n"
      ],
      "text/plain": [
       "              t bad.nreads bad.cov bad.nseg bad.nbreaks nreads2 cov2 nseg2\n",
       "1:  A*03:01-365         50     286        3           0      34  153     1\n",
       "2:  A*03:89-365         50     279        4           0      30  144     1\n",
       "3:  A*03:26-365         51     286        3           0      34  153     1\n",
       "4:  A*02:01-365         91     254        5           0      54  247     3\n",
       "5:  A*02:24-365        104     281        5           0      44  247     3\n",
       "6: A*02:249-365        105     261        4           0      45  223     3\n",
       "   nbreaks2 nreads cov nseg nbreaks\n",
       "1:        0    147 296    3       0\n",
       "2:        0    148 296    3       0\n",
       "3:        0    146 294    3       0\n",
       "4:        0    107 297    2       0\n",
       "5:        0     97 297    2       0\n",
       "6:        0     93 296    3       0"
      ]
     },
     "execution_count": 12,
     "metadata": {},
     "output_type": "execute_result"
    }
   ],
   "source": [
    "head(get.bad('A')[order(bad.nreads/10-cov)])"
   ]
  },
  {
   "cell_type": "code",
   "execution_count": 13,
   "metadata": {
    "collapsed": false
   },
   "outputs": [
    {
     "data": {
      "text/html": [
       "<table>\n",
       "<thead><tr><th></th><th scope=col>t</th><th scope=col>bad.nreads</th><th scope=col>bad.cov</th><th scope=col>bad.nseg</th><th scope=col>bad.nbreaks</th><th scope=col>nreads2</th><th scope=col>cov2</th><th scope=col>nseg2</th><th scope=col>nbreaks2</th><th scope=col>nreads</th><th scope=col>cov</th><th scope=col>nseg</th><th scope=col>nbreaks</th></tr></thead>\n",
       "<tbody>\n",
       "\t<tr><th scope=row>1</th><td>B*51:01-362</td><td>54</td><td>237</td><td>2</td><td>0</td><td>17</td><td>151</td><td>3</td><td>0</td><td>80</td><td>297</td><td>2</td><td>0</td></tr>\n",
       "\t<tr><th scope=row>2</th><td>B*51:193-362</td><td>54</td><td>237</td><td>2</td><td>0</td><td>17</td><td>151</td><td>3</td><td>0</td><td>80</td><td>297</td><td>2</td><td>0</td></tr>\n",
       "\t<tr><th scope=row>3</th><td>B*51:96-337</td><td>53</td><td>227</td><td>2</td><td>0</td><td>16</td><td>129</td><td>2</td><td>0</td><td>79</td><td>295</td><td>2</td><td>0</td></tr>\n",
       "\t<tr><th scope=row>4</th><td>B*51:187-362</td><td>55</td><td>237</td><td>2</td><td>0</td><td>17</td><td>151</td><td>3</td><td>0</td><td>78</td><td>294</td><td>3</td><td>0</td></tr>\n",
       "\t<tr><th scope=row>5</th><td>B*51:04-362</td><td>47</td><td>237</td><td>2</td><td>0</td><td>8</td><td>99</td><td>3</td><td>0</td><td>71</td><td>291</td><td>3</td><td>0</td></tr>\n",
       "\t<tr><th scope=row>6</th><td>B*51:192-362</td><td>66</td><td>237</td><td>2</td><td>0</td><td>9</td><td>119</td><td>3</td><td>0</td><td>65</td><td>292</td><td>3</td><td>0</td></tr>\n",
       "</tbody>\n",
       "</table>\n"
      ],
      "text/latex": [
       "\\begin{tabular}{r|lllllllllllll}\n",
       "  & t & bad.nreads & bad.cov & bad.nseg & bad.nbreaks & nreads2 & cov2 & nseg2 & nbreaks2 & nreads & cov & nseg & nbreaks\\\\\n",
       "\\hline\n",
       "\t1 & B*51:01-362 & 54 & 237 & 2 & 0 & 17 & 151 & 3 & 0 & 80 & 297 & 2 & 0\\\\\n",
       "\t2 & B*51:193-362 & 54 & 237 & 2 & 0 & 17 & 151 & 3 & 0 & 80 & 297 & 2 & 0\\\\\n",
       "\t3 & B*51:96-337 & 53 & 227 & 2 & 0 & 16 & 129 & 2 & 0 & 79 & 295 & 2 & 0\\\\\n",
       "\t4 & B*51:187-362 & 55 & 237 & 2 & 0 & 17 & 151 & 3 & 0 & 78 & 294 & 3 & 0\\\\\n",
       "\t5 & B*51:04-362 & 47 & 237 & 2 & 0 & 8 & 99 & 3 & 0 & 71 & 291 & 3 & 0\\\\\n",
       "\t6 & B*51:192-362 & 66 & 237 & 2 & 0 & 9 & 119 & 3 & 0 & 65 & 292 & 3 & 0\\\\\n",
       "\\end{tabular}\n"
      ],
      "text/plain": [
       "              t bad.nreads bad.cov bad.nseg bad.nbreaks nreads2 cov2 nseg2\n",
       "1:  B*51:01-362         54     237        2           0      17  151     3\n",
       "2: B*51:193-362         54     237        2           0      17  151     3\n",
       "3:  B*51:96-337         53     227        2           0      16  129     2\n",
       "4: B*51:187-362         55     237        2           0      17  151     3\n",
       "5:  B*51:04-362         47     237        2           0       8   99     3\n",
       "6: B*51:192-362         66     237        2           0       9  119     3\n",
       "   nbreaks2 nreads cov nseg nbreaks\n",
       "1:        0     80 297    2       0\n",
       "2:        0     80 297    2       0\n",
       "3:        0     79 295    2       0\n",
       "4:        0     78 294    3       0\n",
       "5:        0     71 291    3       0\n",
       "6:        0     65 292    3       0"
      ]
     },
     "execution_count": 13,
     "metadata": {},
     "output_type": "execute_result"
    }
   ],
   "source": [
    "head(get.bad('B')[order(bad.nreads/10-cov)])"
   ]
  },
  {
   "cell_type": "code",
   "execution_count": 14,
   "metadata": {
    "collapsed": false
   },
   "outputs": [
    {
     "data": {
      "text/html": [
       "<table>\n",
       "<thead><tr><th></th><th scope=col>t</th><th scope=col>bad.nreads</th><th scope=col>bad.cov</th><th scope=col>bad.nseg</th><th scope=col>bad.nbreaks</th><th scope=col>nreads2</th><th scope=col>cov2</th><th scope=col>nseg2</th><th scope=col>nbreaks2</th><th scope=col>nreads</th><th scope=col>cov</th><th scope=col>nseg</th><th scope=col>nbreaks</th></tr></thead>\n",
       "<tbody>\n",
       "\t<tr><th scope=row>1</th><td>C*06:107-349</td><td>56</td><td>245</td><td>4</td><td>0</td><td>4</td><td>29</td><td>1</td><td>0</td><td>91</td><td>263</td><td>4</td><td>1</td></tr>\n",
       "\t<tr><th scope=row>2</th><td>C*06:73-273</td><td>46</td><td>245</td><td>4</td><td>0</td><td>4</td><td>29</td><td>1</td><td>0</td><td>105</td><td>262</td><td>4</td><td>1</td></tr>\n",
       "\t<tr><th scope=row>3</th><td>C*06:55-273</td><td>39</td><td>244</td><td>4</td><td>0</td><td>4</td><td>29</td><td>1</td><td>0</td><td>98</td><td>261</td><td>4</td><td>1</td></tr>\n",
       "\t<tr><th scope=row>4</th><td>C*06:02-366</td><td>46</td><td>245</td><td>4</td><td>0</td><td>4</td><td>29</td><td>1</td><td>0</td><td>98</td><td>261</td><td>4</td><td>1</td></tr>\n",
       "\t<tr><th scope=row>5</th><td>C*06:108-273</td><td>46</td><td>245</td><td>4</td><td>0</td><td>4</td><td>29</td><td>1</td><td>0</td><td>98</td><td>261</td><td>4</td><td>1</td></tr>\n",
       "\t<tr><th scope=row>6</th><td>C*06:110-298</td><td>46</td><td>245</td><td>4</td><td>0</td><td>4</td><td>29</td><td>1</td><td>0</td><td>98</td><td>261</td><td>4</td><td>1</td></tr>\n",
       "</tbody>\n",
       "</table>\n"
      ],
      "text/latex": [
       "\\begin{tabular}{r|lllllllllllll}\n",
       "  & t & bad.nreads & bad.cov & bad.nseg & bad.nbreaks & nreads2 & cov2 & nseg2 & nbreaks2 & nreads & cov & nseg & nbreaks\\\\\n",
       "\\hline\n",
       "\t1 & C*06:107-349 & 56 & 245 & 4 & 0 & 4 & 29 & 1 & 0 & 91 & 263 & 4 & 1\\\\\n",
       "\t2 & C*06:73-273 & 46 & 245 & 4 & 0 & 4 & 29 & 1 & 0 & 105 & 262 & 4 & 1\\\\\n",
       "\t3 & C*06:55-273 & 39 & 244 & 4 & 0 & 4 & 29 & 1 & 0 & 98 & 261 & 4 & 1\\\\\n",
       "\t4 & C*06:02-366 & 46 & 245 & 4 & 0 & 4 & 29 & 1 & 0 & 98 & 261 & 4 & 1\\\\\n",
       "\t5 & C*06:108-273 & 46 & 245 & 4 & 0 & 4 & 29 & 1 & 0 & 98 & 261 & 4 & 1\\\\\n",
       "\t6 & C*06:110-298 & 46 & 245 & 4 & 0 & 4 & 29 & 1 & 0 & 98 & 261 & 4 & 1\\\\\n",
       "\\end{tabular}\n"
      ],
      "text/plain": [
       "              t bad.nreads bad.cov bad.nseg bad.nbreaks nreads2 cov2 nseg2\n",
       "1: C*06:107-349         56     245        4           0       4   29     1\n",
       "2:  C*06:73-273         46     245        4           0       4   29     1\n",
       "3:  C*06:55-273         39     244        4           0       4   29     1\n",
       "4:  C*06:02-366         46     245        4           0       4   29     1\n",
       "5: C*06:108-273         46     245        4           0       4   29     1\n",
       "6: C*06:110-298         46     245        4           0       4   29     1\n",
       "   nbreaks2 nreads cov nseg nbreaks\n",
       "1:        0     91 263    4       1\n",
       "2:        0    105 262    4       1\n",
       "3:        0     98 261    4       1\n",
       "4:        0     98 261    4       1\n",
       "5:        0     98 261    4       1\n",
       "6:        0     98 261    4       1"
      ]
     },
     "execution_count": 14,
     "metadata": {},
     "output_type": "execute_result"
    }
   ],
   "source": [
    "head(get.bad('C')[order(bad.nreads/10-cov)])"
   ]
  },
  {
   "cell_type": "code",
   "execution_count": 15,
   "metadata": {
    "collapsed": false
   },
   "outputs": [
    {
     "data": {
      "text/html": [
       "<table>\n",
       "<thead><tr><th></th><th scope=col>t</th><th scope=col>bad.nreads</th><th scope=col>bad.cov</th><th scope=col>bad.nseg</th><th scope=col>bad.nbreaks</th><th scope=col>nreads2</th><th scope=col>cov2</th><th scope=col>nseg2</th><th scope=col>nbreaks2</th><th scope=col>nreads</th><th scope=col>cov</th><th scope=col>nseg</th><th scope=col>nbreaks</th></tr></thead>\n",
       "<tbody>\n",
       "\t<tr><th scope=row>1</th><td>DQB1*03:01-261</td><td>19</td><td>131</td><td>2</td><td>0</td><td>52</td><td>217</td><td>3</td><td>1</td><td>54</td><td>240</td><td>4</td><td>2</td></tr>\n",
       "\t<tr><th scope=row>2</th><td>DQB1*03:116-261</td><td>27</td><td>131</td><td>2</td><td>0</td><td>44</td><td>212</td><td>4</td><td>1</td><td>46</td><td>235</td><td>5</td><td>2</td></tr>\n",
       "\t<tr><th scope=row>3</th><td>DQB1*03:94-261</td><td>26</td><td>131</td><td>2</td><td>0</td><td>41</td><td>199</td><td>3</td><td>1</td><td>43</td><td>222</td><td>4</td><td>1</td></tr>\n",
       "\t<tr><th scope=row>4</th><td>DQB1*02:02-261</td><td>31</td><td>131</td><td>2</td><td>0</td><td>34</td><td>199</td><td>3</td><td>1</td><td>36</td><td>222</td><td>4</td><td>2</td></tr>\n",
       "\t<tr><th scope=row>5</th><td>DQB1*02:12-261</td><td>31</td><td>131</td><td>2</td><td>0</td><td>34</td><td>199</td><td>3</td><td>1</td><td>36</td><td>222</td><td>4</td><td>2</td></tr>\n",
       "\t<tr><th scope=row>6</th><td>DQB1*02:01-261</td><td>32</td><td>131</td><td>2</td><td>0</td><td>33</td><td>199</td><td>4</td><td>2</td><td>35</td><td>222</td><td>5</td><td>3</td></tr>\n",
       "</tbody>\n",
       "</table>\n"
      ],
      "text/latex": [
       "\\begin{tabular}{r|lllllllllllll}\n",
       "  & t & bad.nreads & bad.cov & bad.nseg & bad.nbreaks & nreads2 & cov2 & nseg2 & nbreaks2 & nreads & cov & nseg & nbreaks\\\\\n",
       "\\hline\n",
       "\t1 & DQB1*03:01-261 & 19 & 131 & 2 & 0 & 52 & 217 & 3 & 1 & 54 & 240 & 4 & 2\\\\\n",
       "\t2 & DQB1*03:116-261 & 27 & 131 & 2 & 0 & 44 & 212 & 4 & 1 & 46 & 235 & 5 & 2\\\\\n",
       "\t3 & DQB1*03:94-261 & 26 & 131 & 2 & 0 & 41 & 199 & 3 & 1 & 43 & 222 & 4 & 1\\\\\n",
       "\t4 & DQB1*02:02-261 & 31 & 131 & 2 & 0 & 34 & 199 & 3 & 1 & 36 & 222 & 4 & 2\\\\\n",
       "\t5 & DQB1*02:12-261 & 31 & 131 & 2 & 0 & 34 & 199 & 3 & 1 & 36 & 222 & 4 & 2\\\\\n",
       "\t6 & DQB1*02:01-261 & 32 & 131 & 2 & 0 & 33 & 199 & 4 & 2 & 35 & 222 & 5 & 3\\\\\n",
       "\\end{tabular}\n"
      ],
      "text/plain": [
       "                 t bad.nreads bad.cov bad.nseg bad.nbreaks nreads2 cov2 nseg2\n",
       "1:  DQB1*03:01-261         19     131        2           0      52  217     3\n",
       "2: DQB1*03:116-261         27     131        2           0      44  212     4\n",
       "3:  DQB1*03:94-261         26     131        2           0      41  199     3\n",
       "4:  DQB1*02:02-261         31     131        2           0      34  199     3\n",
       "5:  DQB1*02:12-261         31     131        2           0      34  199     3\n",
       "6:  DQB1*02:01-261         32     131        2           0      33  199     4\n",
       "   nbreaks2 nreads cov nseg nbreaks\n",
       "1:        1     54 240    4       2\n",
       "2:        1     46 235    5       2\n",
       "3:        1     43 222    4       1\n",
       "4:        1     36 222    4       2\n",
       "5:        1     36 222    4       2\n",
       "6:        2     35 222    5       3"
      ]
     },
     "execution_count": 15,
     "metadata": {},
     "output_type": "execute_result"
    }
   ],
   "source": [
    "head(get.bad('DQB1')[order(bad.nreads/10-cov)])"
   ]
  },
  {
   "cell_type": "code",
   "execution_count": 16,
   "metadata": {
    "collapsed": false
   },
   "outputs": [
    {
     "data": {
      "text/html": [
       "4"
      ],
      "text/latex": [
       "4"
      ],
      "text/markdown": [
       "4"
      ],
      "text/plain": [
       "[1] 4"
      ]
     },
     "execution_count": 16,
     "metadata": {},
     "output_type": "execute_result"
    }
   ],
   "source": [
    "rescue <- function(to.rescue, rescue.by, BAD = bad, GOOD = good){\n",
    "    explained <- unique(GOOD[t %in% rescue.by, q])\n",
    "    g <- sub('\\\\*.+', '', to.rescue)\n",
    "    BAD[t %in% to.rescue & GOOD == g & !(q %in% explained), .N]\n",
    "}\n",
    "a <- 'A*02:01-365'\n",
    "b <- 'A*03:01-365'\n",
    "rescue(b, a)"
   ]
  },
  {
   "cell_type": "code",
   "execution_count": 17,
   "metadata": {
    "collapsed": false
   },
   "outputs": [
    {
     "data": {
      "text/plain": [
       "   user  system elapsed \n",
       "  0.148   0.000   0.146 "
      ]
     },
     "execution_count": 17,
     "metadata": {},
     "output_type": "execute_result"
    }
   ],
   "source": [
    "system.time(rescue(a, b))"
   ]
  },
  {
   "cell_type": "code",
   "execution_count": 18,
   "metadata": {
    "collapsed": false
   },
   "outputs": [
    {
     "data": {
      "text/html": [
       "45"
      ],
      "text/latex": [
       "45"
      ],
      "text/markdown": [
       "45"
      ],
      "text/plain": [
       "[1] 45"
      ]
     },
     "execution_count": 18,
     "metadata": {},
     "output_type": "execute_result"
    }
   ],
   "source": [
    "scoreA <- get.bad('A')\n",
    "scoreA <- scoreA[cov/max(cov) > 0.95]\n",
    "nrow(scoreA)"
   ]
  },
  {
   "cell_type": "code",
   "execution_count": 19,
   "metadata": {
    "collapsed": false
   },
   "outputs": [],
   "source": [
    "goodA <- good[t %in% scoreA$t]\n",
    "badA <- bad[gene == 'A' & grepl('^A', GOOD) & q %in% goodA$q]\n",
    "cand <- do.call(rbind, lapply(combn(scoreA$t, 2, simplify = F), function(p){\n",
    "    h1 <- rescue(p[1], p[2], badA, goodA)\n",
    "    h2 <- rescue(p[2], p[1], badA, goodA)   \n",
    "    data.table(t1 = p[1], t2 = p[2], h1 = h1, h2 = h2, hopeless = h1 + h2)\n",
    "}))\n",
    "cand <- cand[order(hopeless)]"
   ]
  },
  {
   "cell_type": "code",
   "execution_count": 20,
   "metadata": {
    "collapsed": false
   },
   "outputs": [
    {
     "data": {
      "text/html": [
       "<table>\n",
       "<thead><tr><th></th><th scope=col>t</th><th scope=col>bad.nreads</th><th scope=col>bad.cov</th><th scope=col>bad.nseg</th><th scope=col>bad.nbreaks</th><th scope=col>nreads2</th><th scope=col>cov2</th><th scope=col>nseg2</th><th scope=col>nbreaks2</th><th scope=col>nreads</th><th scope=col>cov</th><th scope=col>nseg</th><th scope=col>nbreaks</th></tr></thead>\n",
       "<tbody>\n",
       "\t<tr><th scope=row>1</th><td>A*02:01-365</td><td>91</td><td>254</td><td>5</td><td>0</td><td>54</td><td>247</td><td>3</td><td>0</td><td>107</td><td>297</td><td>2</td><td>0</td></tr>\n",
       "\t<tr><th scope=row>2</th><td>A*02:24-365</td><td>104</td><td>281</td><td>5</td><td>0</td><td>44</td><td>247</td><td>3</td><td>0</td><td>97</td><td>297</td><td>2</td><td>0</td></tr>\n",
       "\t<tr><th scope=row>3</th><td>A*02:249-365</td><td>105</td><td>261</td><td>4</td><td>0</td><td>45</td><td>223</td><td>3</td><td>0</td><td>93</td><td>296</td><td>3</td><td>0</td></tr>\n",
       "\t<tr><th scope=row>4</th><td>A*03:01-365</td><td>50</td><td>286</td><td>3</td><td>0</td><td>34</td><td>153</td><td>1</td><td>0</td><td>147</td><td>296</td><td>3</td><td>0</td></tr>\n",
       "\t<tr><th scope=row>5</th><td>A*03:89-365</td><td>50</td><td>279</td><td>4</td><td>0</td><td>30</td><td>144</td><td>1</td><td>0</td><td>148</td><td>296</td><td>3</td><td>0</td></tr>\n",
       "\t<tr><th scope=row>6</th><td>A*02:523-340</td><td>108</td><td>294</td><td>3</td><td>0</td><td>46</td><td>246</td><td>4</td><td>0</td><td>90</td><td>294</td><td>3</td><td>0</td></tr>\n",
       "</tbody>\n",
       "</table>\n"
      ],
      "text/latex": [
       "\\begin{tabular}{r|lllllllllllll}\n",
       "  & t & bad.nreads & bad.cov & bad.nseg & bad.nbreaks & nreads2 & cov2 & nseg2 & nbreaks2 & nreads & cov & nseg & nbreaks\\\\\n",
       "\\hline\n",
       "\t1 & A*02:01-365 & 91 & 254 & 5 & 0 & 54 & 247 & 3 & 0 & 107 & 297 & 2 & 0\\\\\n",
       "\t2 & A*02:24-365 & 104 & 281 & 5 & 0 & 44 & 247 & 3 & 0 & 97 & 297 & 2 & 0\\\\\n",
       "\t3 & A*02:249-365 & 105 & 261 & 4 & 0 & 45 & 223 & 3 & 0 & 93 & 296 & 3 & 0\\\\\n",
       "\t4 & A*03:01-365 & 50 & 286 & 3 & 0 & 34 & 153 & 1 & 0 & 147 & 296 & 3 & 0\\\\\n",
       "\t5 & A*03:89-365 & 50 & 279 & 4 & 0 & 30 & 144 & 1 & 0 & 148 & 296 & 3 & 0\\\\\n",
       "\t6 & A*02:523-340 & 108 & 294 & 3 & 0 & 46 & 246 & 4 & 0 & 90 & 294 & 3 & 0\\\\\n",
       "\\end{tabular}\n"
      ],
      "text/plain": [
       "              t bad.nreads bad.cov bad.nseg bad.nbreaks nreads2 cov2 nseg2\n",
       "1:  A*02:01-365         91     254        5           0      54  247     3\n",
       "2:  A*02:24-365        104     281        5           0      44  247     3\n",
       "3: A*02:249-365        105     261        4           0      45  223     3\n",
       "4:  A*03:01-365         50     286        3           0      34  153     1\n",
       "5:  A*03:89-365         50     279        4           0      30  144     1\n",
       "6: A*02:523-340        108     294        3           0      46  246     4\n",
       "   nbreaks2 nreads cov nseg nbreaks\n",
       "1:        0    107 297    2       0\n",
       "2:        0     97 297    2       0\n",
       "3:        0     93 296    3       0\n",
       "4:        0    147 296    3       0\n",
       "5:        0    148 296    3       0\n",
       "6:        0     90 294    3       0"
      ]
     },
     "execution_count": 20,
     "metadata": {},
     "output_type": "execute_result"
    }
   ],
   "source": [
    "head(scoreA)"
   ]
  },
  {
   "cell_type": "code",
   "execution_count": 21,
   "metadata": {
    "collapsed": false
   },
   "outputs": [],
   "source": [
    "setkey(scoreA, t)\n",
    "setkey(cand, t1)\n",
    "cand <- cbind(cand, scoreA[cand, .(nreads, cov)])\n",
    "setnames(cand, c('nreads', 'cov'), c('nreads1', 'cov1'))\n",
    "setkey(cand, t2)\n",
    "cand <- cbind(cand, scoreA[cand, .(nreads, cov)])\n",
    "setnames(cand, c('nreads', 'cov'), c('nreads2', 'cov2'))"
   ]
  },
  {
   "cell_type": "code",
   "execution_count": 22,
   "metadata": {
    "collapsed": false
   },
   "outputs": [
    {
     "data": {
      "text/html": [
       "<table>\n",
       "<thead><tr><th></th><th scope=col>t1</th><th scope=col>t2</th><th scope=col>h1</th><th scope=col>h2</th><th scope=col>hopeless</th><th scope=col>nreads1</th><th scope=col>cov1</th><th scope=col>nreads2</th><th scope=col>cov2</th><th scope=col>score</th></tr></thead>\n",
       "<tbody>\n",
       "\t<tr><th scope=row>1</th><td>A*02:01-365</td><td>A*03:01-365</td><td>2</td><td>0</td><td>2</td><td>107</td><td>297</td><td>147</td><td>296</td><td>234</td></tr>\n",
       "\t<tr><th scope=row>2</th><td>A*02:01-365</td><td>A*03:26-365</td><td>2</td><td>0</td><td>2</td><td>107</td><td>297</td><td>146</td><td>294</td><td>233</td></tr>\n",
       "\t<tr><th scope=row>3</th><td>A*03:01-365</td><td>A*02:134-337</td><td>0</td><td>2</td><td>2</td><td>147</td><td>296</td><td>104</td><td>293</td><td>231</td></tr>\n",
       "\t<tr><th scope=row>4</th><td>A*03:26-365</td><td>A*02:134-337</td><td>0</td><td>2</td><td>2</td><td>146</td><td>294</td><td>104</td><td>293</td><td>230</td></tr>\n",
       "\t<tr><th scope=row>5</th><td>A*02:01-365</td><td>A*03:134-365</td><td>2</td><td>0</td><td>2</td><td>107</td><td>297</td><td>138</td><td>286</td><td>225</td></tr>\n",
       "\t<tr><th scope=row>6</th><td>A*03:01-365</td><td>A*02:30-365</td><td>0</td><td>2</td><td>2</td><td>147</td><td>296</td><td>97</td><td>293</td><td>224</td></tr>\n",
       "</tbody>\n",
       "</table>\n"
      ],
      "text/latex": [
       "\\begin{tabular}{r|llllllllll}\n",
       "  & t1 & t2 & h1 & h2 & hopeless & nreads1 & cov1 & nreads2 & cov2 & score\\\\\n",
       "\\hline\n",
       "\t1 & A*02:01-365 & A*03:01-365 & 2 & 0 & 2 & 107 & 297 & 147 & 296 & 234\\\\\n",
       "\t2 & A*02:01-365 & A*03:26-365 & 2 & 0 & 2 & 107 & 297 & 146 & 294 & 233\\\\\n",
       "\t3 & A*03:01-365 & A*02:134-337 & 0 & 2 & 2 & 147 & 296 & 104 & 293 & 231\\\\\n",
       "\t4 & A*03:26-365 & A*02:134-337 & 0 & 2 & 2 & 146 & 294 & 104 & 293 & 230\\\\\n",
       "\t5 & A*02:01-365 & A*03:134-365 & 2 & 0 & 2 & 107 & 297 & 138 & 286 & 225\\\\\n",
       "\t6 & A*03:01-365 & A*02:30-365 & 0 & 2 & 2 & 147 & 296 & 97 & 293 & 224\\\\\n",
       "\\end{tabular}\n"
      ],
      "text/plain": [
       "            t1           t2 h1 h2 hopeless nreads1 cov1 nreads2 cov2 score\n",
       "1: A*02:01-365  A*03:01-365  2  0        2     107  297     147  296   234\n",
       "2: A*02:01-365  A*03:26-365  2  0        2     107  297     146  294   233\n",
       "3: A*03:01-365 A*02:134-337  0  2        2     147  296     104  293   231\n",
       "4: A*03:26-365 A*02:134-337  0  2        2     146  294     104  293   230\n",
       "5: A*02:01-365 A*03:134-365  2  0        2     107  297     138  286   225\n",
       "6: A*03:01-365  A*02:30-365  0  2        2     147  296      97  293   224"
      ]
     },
     "execution_count": 22,
     "metadata": {},
     "output_type": "execute_result"
    }
   ],
   "source": [
    "tt <- cand[, score := nreads1 + nreads2 - 10 * hopeless]\n",
    "head(cand[order(-score)])"
   ]
  },
  {
   "cell_type": "code",
   "execution_count": 23,
   "metadata": {
    "collapsed": false
   },
   "outputs": [],
   "source": [
    "pairs <- function(G){\n",
    "    scoreA <- get.bad(G)\n",
    "    scoreA <- scoreA[cov/max(cov) > 0.95]\n",
    "    nrow(scoreA)\n",
    "    goodA <- good[t %in% scoreA$t]\n",
    "    badA <- bad[gene == G & grepl(sprintf('^%s', G), GOOD) & q %in% goodA$q]\n",
    "    cand <- do.call(rbind, lapply(combn(scoreA$t, 2, simplify = F), function(p){\n",
    "        h1 <- rescue(p[1], p[2], badA, goodA)\n",
    "        h2 <- rescue(p[2], p[1], badA, goodA)   \n",
    "        data.table(t1 = p[1], t2 = p[2], h1 = h1, h2 = h2, hopeless = h1 + h2)\n",
    "    }))\n",
    "    cand <- cand[order(hopeless)]\n",
    "    setkey(scoreA, t)\n",
    "    setkey(cand, t1)\n",
    "    cand <- cbind(cand, scoreA[cand, .(nreads, cov)])\n",
    "    setnames(cand, c('nreads', 'cov'), c('nreads1', 'cov1'))\n",
    "    setkey(cand, t2)\n",
    "    cand <- cbind(cand, scoreA[cand, .(nreads, cov)])\n",
    "    setnames(cand, c('nreads', 'cov'), c('nreads2', 'cov2'))\n",
    "    tt <- cand[, score := nreads1 + nreads2 - 10 * hopeless]\n",
    "    return(cand[order(-score)])\n",
    "}"
   ]
  },
  {
   "cell_type": "code",
   "execution_count": 24,
   "metadata": {
    "collapsed": true
   },
   "outputs": [],
   "source": [
    "pairB <- pairs('B')"
   ]
  },
  {
   "cell_type": "code",
   "execution_count": 25,
   "metadata": {
    "collapsed": false
   },
   "outputs": [
    {
     "data": {
      "text/html": [
       "<table>\n",
       "<thead><tr><th></th><th scope=col>t1</th><th scope=col>t2</th><th scope=col>h1</th><th scope=col>h2</th><th scope=col>hopeless</th><th scope=col>nreads1</th><th scope=col>cov1</th><th scope=col>nreads2</th><th scope=col>cov2</th><th scope=col>score</th></tr></thead>\n",
       "<tbody>\n",
       "\t<tr><th scope=row>1</th><td>B*51:01-362</td><td>B*51:193-362</td><td>0</td><td>0</td><td>0</td><td>80</td><td>297</td><td>80</td><td>297</td><td>160</td></tr>\n",
       "\t<tr><th scope=row>2</th><td>B*51:01-362</td><td>B*51:96-337</td><td>0</td><td>0</td><td>0</td><td>80</td><td>297</td><td>79</td><td>295</td><td>159</td></tr>\n",
       "\t<tr><th scope=row>3</th><td>B*51:193-362</td><td>B*51:96-337</td><td>0</td><td>0</td><td>0</td><td>80</td><td>297</td><td>79</td><td>295</td><td>159</td></tr>\n",
       "\t<tr><th scope=row>4</th><td>B*51:01-362</td><td>B*51:187-362</td><td>0</td><td>0</td><td>0</td><td>80</td><td>297</td><td>78</td><td>294</td><td>158</td></tr>\n",
       "\t<tr><th scope=row>5</th><td>B*51:193-362</td><td>B*51:187-362</td><td>0</td><td>0</td><td>0</td><td>80</td><td>297</td><td>78</td><td>294</td><td>158</td></tr>\n",
       "\t<tr><th scope=row>6</th><td>B*51:01-362</td><td>B*51:188-362</td><td>0</td><td>0</td><td>0</td><td>80</td><td>297</td><td>78</td><td>289</td><td>158</td></tr>\n",
       "</tbody>\n",
       "</table>\n"
      ],
      "text/latex": [
       "\\begin{tabular}{r|llllllllll}\n",
       "  & t1 & t2 & h1 & h2 & hopeless & nreads1 & cov1 & nreads2 & cov2 & score\\\\\n",
       "\\hline\n",
       "\t1 & B*51:01-362 & B*51:193-362 & 0 & 0 & 0 & 80 & 297 & 80 & 297 & 160\\\\\n",
       "\t2 & B*51:01-362 & B*51:96-337 & 0 & 0 & 0 & 80 & 297 & 79 & 295 & 159\\\\\n",
       "\t3 & B*51:193-362 & B*51:96-337 & 0 & 0 & 0 & 80 & 297 & 79 & 295 & 159\\\\\n",
       "\t4 & B*51:01-362 & B*51:187-362 & 0 & 0 & 0 & 80 & 297 & 78 & 294 & 158\\\\\n",
       "\t5 & B*51:193-362 & B*51:187-362 & 0 & 0 & 0 & 80 & 297 & 78 & 294 & 158\\\\\n",
       "\t6 & B*51:01-362 & B*51:188-362 & 0 & 0 & 0 & 80 & 297 & 78 & 289 & 158\\\\\n",
       "\\end{tabular}\n"
      ],
      "text/plain": [
       "             t1           t2 h1 h2 hopeless nreads1 cov1 nreads2 cov2 score\n",
       "1:  B*51:01-362 B*51:193-362  0  0        0      80  297      80  297   160\n",
       "2:  B*51:01-362  B*51:96-337  0  0        0      80  297      79  295   159\n",
       "3: B*51:193-362  B*51:96-337  0  0        0      80  297      79  295   159\n",
       "4:  B*51:01-362 B*51:187-362  0  0        0      80  297      78  294   158\n",
       "5: B*51:193-362 B*51:187-362  0  0        0      80  297      78  294   158\n",
       "6:  B*51:01-362 B*51:188-362  0  0        0      80  297      78  289   158"
      ]
     },
     "execution_count": 25,
     "metadata": {},
     "output_type": "execute_result"
    }
   ],
   "source": [
    "head(pairB)"
   ]
  },
  {
   "cell_type": "code",
   "execution_count": null,
   "metadata": {
    "collapsed": true
   },
   "outputs": [],
   "source": []
  }
 ],
 "metadata": {
  "kernelspec": {
   "display_name": "R",
   "language": "R",
   "name": "ir"
  },
  "language_info": {
   "codemirror_mode": "r",
   "file_extension": ".r",
   "mimetype": "text/x-r-source",
   "name": "R",
   "pygments_lexer": "r",
   "version": "3.2.1"
  }
 },
 "nbformat": 4,
 "nbformat_minor": 0
}
