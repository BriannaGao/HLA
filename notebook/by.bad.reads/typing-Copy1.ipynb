{
 "cells": [
  {
   "cell_type": "code",
   "execution_count": 2,
   "metadata": {
    "collapsed": false
   },
   "outputs": [],
   "source": [
    "library(data.table)\n",
    "library(IRanges)"
   ]
  },
  {
   "cell_type": "code",
   "execution_count": 3,
   "metadata": {
    "collapsed": true
   },
   "outputs": [],
   "source": [
    "library(parallel)\n",
    "options(mc.cores = detectCores())"
   ]
  },
  {
   "cell_type": "code",
   "execution_count": 4,
   "metadata": {
    "collapsed": true
   },
   "outputs": [],
   "source": [
    "real <- c('A*02:01', 'A*03:01', 'B*13:02', 'B*51:01', 'C*01:02', 'C*06:02', 'DRB1*07:01', 'DRB1*11:01', 'QB1*02:AB', 'DQB1*03:01', 'DPB1*02:01', 'DPB1*02:01')"
   ]
  },
  {
   "cell_type": "code",
   "execution_count": 70,
   "metadata": {
    "collapsed": false
   },
   "outputs": [
    {
     "name": "stdout",
     "output_type": "stream",
     "text": [
      "\r",
      "Read 25.7% of 5846112 rows\r",
      "Read 44.8% of 5846112 rows\r",
      "Read 63.8% of 5846112 rows\r",
      "Read 83.1% of 5846112 rows\r",
      "Read 5846112 rows and 12 (of 12) columns from 0.421 GB file in 00:00:06\n"
     ]
    }
   ],
   "source": [
    "dt <- fread('187521910.m8')"
   ]
  },
  {
   "cell_type": "code",
   "execution_count": 71,
   "metadata": {
    "collapsed": false
   },
   "outputs": [],
   "source": [
    "setnames(dt, c('q', 't', 'iden', 'len', 'mis', 'gap', 'qf', 'qt', 'tf', 'tt', 'e', 'score'))\n",
    "dt <- dt[iden == 100]\n",
    "nexpr <- dt[grepl('\\\\D$', t)]\n",
    "dt <- dt[grepl('\\\\d$', t)]\n",
    "setkey(dt, q)\n"
   ]
  },
  {
   "cell_type": "code",
   "execution_count": 72,
   "metadata": {
    "collapsed": false
   },
   "outputs": [],
   "source": [
    "tt <- dt[, c('LEN', 'BEST') := .(max(len), paste(unique(sub('\\\\*.+', '', t[len == max(len)])), collapse = ',')), by = q]"
   ]
  },
  {
   "cell_type": "code",
   "execution_count": 76,
   "metadata": {
    "collapsed": false
   },
   "outputs": [
    {
     "data": {
      "text/plain": [
       "\n",
       "             A            A,B          A,B,C      A,B,C,E,F            A,C \n",
       "         74377           7682          45724           2706          11047 \n",
       "             B            B,C          B,C,E            B,F              C \n",
       "         35780          58437            760              5          41136 \n",
       "   C,A,B,E,F,G      C,A,B,G,E      C,A,G,E,B            C,B            DMA \n",
       "          1637           1825            784           5198            503 \n",
       "           DMB            DOA            DOB           DPA1           DPB1 \n",
       "           723            581            996            649          12433 \n",
       "          DQA1           DQB1      DQB1,DRB5            DRA           DRB1 \n",
       "          1397           4584             38            428           9056 \n",
       "     DRB1,DRB3 DRB1,DRB3,DRB4 DRB1,DRB3,DRB5      DRB1,DRB4      DRB1,DRB5 \n",
       "          8499           1552           1516            191           1036 \n",
       "          DRB3      DRB3,DRB1           DRB4           DRB5              E \n",
       "           557             21            282              1           1443 \n",
       "             F              G            G,B           MICA      MICA,MICB \n",
       "           595           2822             19          13590            578 \n",
       "          MICB           TAP1      TAP1,TAP2           TAP2 \n",
       "          6527           2961            143           1611 "
      ]
     },
     "execution_count": 76,
     "metadata": {},
     "output_type": "execute_result"
    }
   ],
   "source": [
    "table(dt$BEST)"
   ]
  },
  {
   "cell_type": "code",
   "execution_count": 10,
   "metadata": {
    "collapsed": false
   },
   "outputs": [],
   "source": [
    "bad <- dt[len < LEN]\n",
    "good <- dt[len == LEN]"
   ]
  },
  {
   "cell_type": "code",
   "execution_count": 11,
   "metadata": {
    "collapsed": false
   },
   "outputs": [
    {
     "data": {
      "text/html": [
       "298298"
      ],
      "text/latex": [
       "298298"
      ],
      "text/markdown": [
       "298298"
      ],
      "text/plain": [
       "[1] 298298"
      ]
     },
     "execution_count": 11,
     "metadata": {},
     "output_type": "execute_result"
    }
   ],
   "source": [
    "nrow(good)"
   ]
  },
  {
   "cell_type": "code",
   "execution_count": 12,
   "metadata": {
    "collapsed": false
   },
   "outputs": [
    {
     "data": {
      "text/html": [
       "64132"
      ],
      "text/latex": [
       "64132"
      ],
      "text/markdown": [
       "64132"
      ],
      "text/plain": [
       "[1] 64132"
      ]
     },
     "execution_count": 12,
     "metadata": {},
     "output_type": "execute_result"
    }
   ],
   "source": [
    "nrow(bad)"
   ]
  },
  {
   "cell_type": "code",
   "execution_count": 29,
   "metadata": {
    "collapsed": false
   },
   "outputs": [
    {
     "data": {
      "text/html": [
       "8973"
      ],
      "text/latex": [
       "8973"
      ],
      "text/markdown": [
       "8973"
      ],
      "text/plain": [
       "[1] 8973"
      ]
     },
     "execution_count": 29,
     "metadata": {},
     "output_type": "execute_result"
    }
   ],
   "source": [
    "length(unique(good$t))"
   ]
  },
  {
   "cell_type": "code",
   "execution_count": 30,
   "metadata": {
    "collapsed": false
   },
   "outputs": [
    {
     "data": {
      "text/html": [
       "7632"
      ],
      "text/latex": [
       "7632"
      ],
      "text/markdown": [
       "7632"
      ],
      "text/plain": [
       "[1] 7632"
      ]
     },
     "execution_count": 30,
     "metadata": {},
     "output_type": "execute_result"
    }
   ],
   "source": [
    "length(unique(bad$t))"
   ]
  },
  {
   "cell_type": "code",
   "execution_count": 31,
   "metadata": {
    "collapsed": true
   },
   "outputs": [],
   "source": [
    "best <- good[!t %in% bad$t]"
   ]
  },
  {
   "cell_type": "code",
   "execution_count": 33,
   "metadata": {
    "collapsed": false
   },
   "outputs": [
    {
     "data": {
      "text/html": [
       "1568"
      ],
      "text/latex": [
       "1568"
      ],
      "text/markdown": [
       "1568"
      ],
      "text/plain": [
       "[1] 1568"
      ]
     },
     "execution_count": 33,
     "metadata": {},
     "output_type": "execute_result"
    }
   ],
   "source": [
    "length(unique(best$t))"
   ]
  },
  {
   "cell_type": "code",
   "execution_count": 35,
   "metadata": {
    "collapsed": true
   },
   "outputs": [],
   "source": [
    "cands <- sub('-.+', '', unique(best$t))"
   ]
  },
  {
   "cell_type": "code",
   "execution_count": 54,
   "metadata": {
    "collapsed": false
   },
   "outputs": [
    {
     "data": {
      "text/html": [
       "<dl class=dl-horizontal>\n",
       "\t<dt>A*01:37-365</dt>\n",
       "\t\t<dd>1</dd>\n",
       "\t<dt>A*02:250N-218</dt>\n",
       "\t\t<dd>1</dd>\n",
       "\t<dt>A*11:172-337</dt>\n",
       "\t\t<dd>1</dd>\n",
       "</dl>\n"
      ],
      "text/latex": [
       "\\begin{description*}\n",
       "\\item[A*01:37-365] 1\n",
       "\\item[A*02:250N-218] 1\n",
       "\\item[A*11:172-337] 1\n",
       "\\end{description*}\n"
      ],
      "text/markdown": [
       "A*01:37-365\n",
       ":   1A*02:250N-218\n",
       ":   1A*11:172-337\n",
       ":   1\n",
       "\n"
      ],
      "text/plain": [
       "\n",
       "  A*01:37-365 A*02:250N-218  A*11:172-337 \n",
       "            1             1             1 "
      ]
     },
     "execution_count": 54,
     "metadata": {},
     "output_type": "execute_result"
    }
   ],
   "source": [
    "temp <- bad[t == 'A*03:01-365']\n",
    "sort(table(good[grepl('^A', t) & q %in% temp$q, t]))"
   ]
  },
  {
   "cell_type": "code",
   "execution_count": 56,
   "metadata": {
    "collapsed": false
   },
   "outputs": [
    {
     "data": {
      "text/html": [
       "<table>\n",
       "<thead><tr><th></th><th scope=col>q</th><th scope=col>t</th><th scope=col>iden</th><th scope=col>len</th><th scope=col>mis</th><th scope=col>gap</th><th scope=col>qf</th><th scope=col>qt</th><th scope=col>tf</th><th scope=col>tt</th><th scope=col>e</th><th scope=col>score</th><th scope=col>LEN</th></tr></thead>\n",
       "<tbody>\n",
       "\t<tr><th scope=row>1</th><td>H5JCKCCXX:2:1:759613:0/1</td><td>A*01:37-365</td><td>100</td><td>28</td><td>0</td><td>0</td><td>148</td><td>65</td><td>252</td><td>279</td><td>4.9e-11</td><td>60.8</td><td>28</td></tr>\n",
       "\t<tr><th scope=row>2</th><td>H5JCKCCXX:6:12:1110124:0/2</td><td>A*02:250N-218</td><td>100</td><td>21</td><td>0</td><td>0</td><td>1</td><td>63</td><td>186</td><td>206</td><td>2.4e-07</td><td>48.1</td><td>21</td></tr>\n",
       "\t<tr><th scope=row>3</th><td>H5JCKCCXX:2:1:759613:0/1</td><td>A*11:172-337</td><td>100</td><td>28</td><td>0</td><td>0</td><td>148</td><td>65</td><td>252</td><td>279</td><td>4.9e-11</td><td>60.8</td><td>28</td></tr>\n",
       "</tbody>\n",
       "</table>\n"
      ],
      "text/latex": [
       "\\begin{tabular}{r|lllllllllllll}\n",
       "  & q & t & iden & len & mis & gap & qf & qt & tf & tt & e & score & LEN\\\\\n",
       "\\hline\n",
       "\t1 & H5JCKCCXX:2:1:759613:0/1 & A*01:37-365 & 100 & 28 & 0 & 0 & 148 & 65 & 252 & 279 & 4.9e-11 & 60.8 & 28\\\\\n",
       "\t2 & H5JCKCCXX:6:12:1110124:0/2 & A*02:250N-218 & 100 & 21 & 0 & 0 & 1 & 63 & 186 & 206 & 2.4e-07 & 48.1 & 21\\\\\n",
       "\t3 & H5JCKCCXX:2:1:759613:0/1 & A*11:172-337 & 100 & 28 & 0 & 0 & 148 & 65 & 252 & 279 & 4.9e-11 & 60.8 & 28\\\\\n",
       "\\end{tabular}\n"
      ],
      "text/plain": [
       "                            q             t iden len mis gap  qf qt  tf  tt\n",
       "1:   H5JCKCCXX:2:1:759613:0/1   A*01:37-365  100  28   0   0 148 65 252 279\n",
       "2: H5JCKCCXX:6:12:1110124:0/2 A*02:250N-218  100  21   0   0   1 63 186 206\n",
       "3:   H5JCKCCXX:2:1:759613:0/1  A*11:172-337  100  28   0   0 148 65 252 279\n",
       "         e score LEN\n",
       "1: 4.9e-11  60.8  28\n",
       "2: 2.4e-07  48.1  21\n",
       "3: 4.9e-11  60.8  28"
      ]
     },
     "execution_count": 56,
     "metadata": {},
     "output_type": "execute_result"
    }
   ],
   "source": [
    "head(good[grepl('^A', t) & q %in% temp$q])"
   ]
  },
  {
   "cell_type": "code",
   "execution_count": 57,
   "metadata": {
    "collapsed": false
   },
   "outputs": [
    {
     "data": {
      "text/html": [
       "<table>\n",
       "<thead><tr><th></th><th scope=col>q</th><th scope=col>t</th><th scope=col>iden</th><th scope=col>len</th><th scope=col>mis</th><th scope=col>gap</th><th scope=col>qf</th><th scope=col>qt</th><th scope=col>tf</th><th scope=col>tt</th><th scope=col>e</th><th scope=col>score</th><th scope=col>LEN</th></tr></thead>\n",
       "<tbody>\n",
       "\t<tr><th scope=row>1</th><td>H5JCKCCXX:2:1:759613:0/1</td><td>A*03:01-365</td><td>100</td><td>27</td><td>0</td><td>0</td><td>145</td><td>65</td><td>253</td><td>279</td><td>1.9e-10</td><td>58.9</td><td>28</td></tr>\n",
       "\t<tr><th scope=row>2</th><td>H5JCKCCXX:5:5:3023936:0/2</td><td>A*03:01-365</td><td>100</td><td>20</td><td>0</td><td>0</td><td>115</td><td>56</td><td>186</td><td>205</td><td>4.4e-07</td><td>47.4</td><td>22</td></tr>\n",
       "\t<tr><th scope=row>3</th><td>H5JCKCCXX:6:12:1110124:0/2</td><td>A*03:01-365</td><td>100</td><td>20</td><td>0</td><td>0</td><td>2</td><td>61</td><td>187</td><td>206</td><td>5.4e-07</td><td>47</td><td>21</td></tr>\n",
       "</tbody>\n",
       "</table>\n"
      ],
      "text/latex": [
       "\\begin{tabular}{r|lllllllllllll}\n",
       "  & q & t & iden & len & mis & gap & qf & qt & tf & tt & e & score & LEN\\\\\n",
       "\\hline\n",
       "\t1 & H5JCKCCXX:2:1:759613:0/1 & A*03:01-365 & 100 & 27 & 0 & 0 & 145 & 65 & 253 & 279 & 1.9e-10 & 58.9 & 28\\\\\n",
       "\t2 & H5JCKCCXX:5:5:3023936:0/2 & A*03:01-365 & 100 & 20 & 0 & 0 & 115 & 56 & 186 & 205 & 4.4e-07 & 47.4 & 22\\\\\n",
       "\t3 & H5JCKCCXX:6:12:1110124:0/2 & A*03:01-365 & 100 & 20 & 0 & 0 & 2 & 61 & 187 & 206 & 5.4e-07 & 47 & 21\\\\\n",
       "\\end{tabular}\n"
      ],
      "text/plain": [
       "                            q           t iden len mis gap  qf qt  tf  tt\n",
       "1:   H5JCKCCXX:2:1:759613:0/1 A*03:01-365  100  27   0   0 145 65 253 279\n",
       "2:  H5JCKCCXX:5:5:3023936:0/2 A*03:01-365  100  20   0   0 115 56 186 205\n",
       "3: H5JCKCCXX:6:12:1110124:0/2 A*03:01-365  100  20   0   0   2 61 187 206\n",
       "         e score LEN\n",
       "1: 1.9e-10  58.9  28\n",
       "2: 4.4e-07  47.4  22\n",
       "3: 5.4e-07  47.0  21"
      ]
     },
     "execution_count": 57,
     "metadata": {},
     "output_type": "execute_result"
    }
   ],
   "source": [
    "head(temp)"
   ]
  },
  {
   "cell_type": "code",
   "execution_count": 60,
   "metadata": {
    "collapsed": false
   },
   "outputs": [
    {
     "data": {
      "text/html": [
       "<table>\n",
       "<thead><tr><th></th><th scope=col>q</th><th scope=col>t</th><th scope=col>iden</th><th scope=col>len</th><th scope=col>mis</th><th scope=col>gap</th><th scope=col>qf</th><th scope=col>qt</th><th scope=col>tf</th><th scope=col>tt</th><th scope=col>e</th><th scope=col>score</th><th scope=col>LEN</th></tr></thead>\n",
       "<tbody>\n",
       "\t<tr><th scope=row>1</th><td>H5JCKCCXX:2:1:759613:0/1</td><td>A*03:01-365</td><td>100</td><td>27</td><td>0</td><td>0</td><td>145</td><td>65</td><td>253</td><td>279</td><td>1.9e-10</td><td>58.9</td><td>28</td></tr>\n",
       "\t<tr><th scope=row>2</th><td>H5JCKCCXX:2:1:759613:0/1</td><td>A*03:01:01:02N-319</td><td>100</td><td>27</td><td>0</td><td>0</td><td>145</td><td>65</td><td>253</td><td>279</td><td>1.9e-10</td><td>58.9</td><td>28</td></tr>\n",
       "</tbody>\n",
       "</table>\n"
      ],
      "text/latex": [
       "\\begin{tabular}{r|lllllllllllll}\n",
       "  & q & t & iden & len & mis & gap & qf & qt & tf & tt & e & score & LEN\\\\\n",
       "\\hline\n",
       "\t1 & H5JCKCCXX:2:1:759613:0/1 & A*03:01-365 & 100 & 27 & 0 & 0 & 145 & 65 & 253 & 279 & 1.9e-10 & 58.9 & 28\\\\\n",
       "\t2 & H5JCKCCXX:2:1:759613:0/1 & A*03:01:01:02N-319 & 100 & 27 & 0 & 0 & 145 & 65 & 253 & 279 & 1.9e-10 & 58.9 & 28\\\\\n",
       "\\end{tabular}\n"
      ],
      "text/plain": [
       "                          q                  t iden len mis gap  qf qt  tf  tt\n",
       "1: H5JCKCCXX:2:1:759613:0/1        A*03:01-365  100  27   0   0 145 65 253 279\n",
       "2: H5JCKCCXX:2:1:759613:0/1 A*03:01:01:02N-319  100  27   0   0 145 65 253 279\n",
       "         e score LEN\n",
       "1: 1.9e-10  58.9  28\n",
       "2: 1.9e-10  58.9  28"
      ]
     },
     "execution_count": 60,
     "metadata": {},
     "output_type": "execute_result"
    }
   ],
   "source": [
    "dt[q == 'H5JCKCCXX:2:1:759613:0/1' & grepl('03:01', t)]"
   ]
  },
  {
   "cell_type": "code",
   "execution_count": 13,
   "metadata": {
    "collapsed": false
   },
   "outputs": [],
   "source": [
    "setkey(good, t)"
   ]
  },
  {
   "cell_type": "code",
   "execution_count": 14,
   "metadata": {
    "collapsed": false
   },
   "outputs": [
    {
     "name": "stdout",
     "output_type": "stream",
     "text": [
      "              t  ir\n",
      "1:  A*02:01-365 297\n",
      "2:  A*03:01-365 297\n",
      "3: A*03:231-365 297\n",
      "4:  A*03:26-365 297\n",
      "5:  A*03:89-365 297\n",
      "6: A*02:249-365 296\n"
     ]
    },
    {
     "data": {
      "text/html": [
       "<table>\n",
       "<thead><tr><th></th><th scope=col>t</th><th scope=col>ir</th></tr></thead>\n",
       "<tbody>\n",
       "\t<tr><th scope=row>1</th><td>A*02:01-365</td><td>297</td></tr>\n",
       "\t<tr><th scope=row>2</th><td>A*03:01-365</td><td>297</td></tr>\n",
       "</tbody>\n",
       "</table>\n"
      ],
      "text/latex": [
       "\\begin{tabular}{r|ll}\n",
       "  & t & ir\\\\\n",
       "\\hline\n",
       "\t1 & A*02:01-365 & 297\\\\\n",
       "\t2 & A*03:01-365 & 297\\\\\n",
       "\\end{tabular}\n"
      ],
      "text/plain": [
       "             t  ir\n",
       "1: A*02:01-365 297\n",
       "2: A*03:01-365 297"
      ]
     },
     "execution_count": 14,
     "metadata": {},
     "output_type": "execute_result"
    }
   ],
   "source": [
    "acov <- good[grep('^A\\\\*', t), .(ir = sum(width(reduce(IRanges(tf, tt))))), by = t][order(-ir)]\n",
    "print(head(acov))\n",
    "acand <- acov[ir >= max(ir) * 0.85]\n",
    "acand[sub('-.+', '', t) %in% real]"
   ]
  },
  {
   "cell_type": "code",
   "execution_count": 15,
   "metadata": {
    "collapsed": false
   },
   "outputs": [
    {
     "data": {
      "text/html": [
       "242"
      ],
      "text/latex": [
       "242"
      ],
      "text/markdown": [
       "242"
      ],
      "text/plain": [
       "[1] 242"
      ]
     },
     "execution_count": 15,
     "metadata": {},
     "output_type": "execute_result"
    }
   ],
   "source": [
    "nrow(acand)"
   ]
  },
  {
   "cell_type": "code",
   "execution_count": 16,
   "metadata": {
    "collapsed": false
   },
   "outputs": [],
   "source": [
    "amatch <- good[t %in% acand$t]"
   ]
  },
  {
   "cell_type": "code",
   "execution_count": 17,
   "metadata": {
    "collapsed": false
   },
   "outputs": [
    {
     "data": {
      "text/html": [
       "25727"
      ],
      "text/latex": [
       "25727"
      ],
      "text/markdown": [
       "25727"
      ],
      "text/plain": [
       "[1] 25727"
      ]
     },
     "execution_count": 17,
     "metadata": {},
     "output_type": "execute_result"
    }
   ],
   "source": [
    "nrow(amatch)"
   ]
  },
  {
   "cell_type": "code",
   "execution_count": null,
   "metadata": {
    "collapsed": true
   },
   "outputs": [],
   "source": [
    "amatch[q %in% ]"
   ]
  },
  {
   "cell_type": "code",
   "execution_count": 18,
   "metadata": {
    "collapsed": false
   },
   "outputs": [
    {
     "data": {
      "text/html": [
       "22920"
      ],
      "text/latex": [
       "22920"
      ],
      "text/markdown": [
       "22920"
      ],
      "text/plain": [
       "[1] 22920"
      ]
     },
     "execution_count": 18,
     "metadata": {},
     "output_type": "execute_result"
    }
   ],
   "source": [
    "aneg <- good[q %in% amatch$q & !(grepl('^A', t))]\n",
    "nrow(aneg)"
   ]
  },
  {
   "cell_type": "code",
   "execution_count": 22,
   "metadata": {
    "collapsed": false
   },
   "outputs": [
    {
     "data": {
      "text/html": [
       "96"
      ],
      "text/latex": [
       "96"
      ],
      "text/markdown": [
       "96"
      ],
      "text/plain": [
       "[1] 96"
      ]
     },
     "execution_count": 22,
     "metadata": {},
     "output_type": "execute_result"
    }
   ],
   "source": [
    "nrow(aneg)"
   ]
  },
  {
   "cell_type": "code",
   "execution_count": 23,
   "metadata": {
    "collapsed": false
   },
   "outputs": [],
   "source": [
    "am <- dcast(amatch, q~t, value.var = 'len', fill = 0)\n",
    "am <- am[, q := NULL]"
   ]
  },
  {
   "cell_type": "code",
   "execution_count": 24,
   "metadata": {
    "collapsed": false
   },
   "outputs": [
    {
     "data": {
      "text/html": [
       "277"
      ],
      "text/latex": [
       "277"
      ],
      "text/markdown": [
       "277"
      ],
      "text/plain": [
       "[1] 277"
      ]
     },
     "execution_count": 24,
     "metadata": {},
     "output_type": "execute_result"
    }
   ],
   "source": [
    "nrow(am)"
   ]
  },
  {
   "cell_type": "code",
   "execution_count": 28,
   "metadata": {
    "collapsed": false
   },
   "outputs": [
    {
     "data": {
      "text/html": [
       "<table>\n",
       "<thead><tr><th></th><th scope=col>A*02:01-365</th><th scope=col>A*02:02-365</th><th scope=col>A*02:03-365</th><th scope=col>A*02:04-365</th><th scope=col>A*02:06-365</th><th scope=col>A*02:07-365</th><th scope=col>A*02:09-365</th><th scope=col>A*02:10-365</th><th scope=col>A*02:11-365</th><th scope=col>A*02:110-273</th><th scope=col>A*02:12-365</th><th scope=col>A*02:121-273</th><th scope=col>A*02:123-273</th><th scope=col>A*02:124-365</th><th scope=col>A*02:13-365</th><th scope=col>A*02:131-273</th><th scope=col>A*02:133-273</th><th scope=col>A*02:134-337</th><th scope=col>A*02:137-273</th><th scope=col>A*02:140-273</th><th scope=col>A*02:142-273</th><th scope=col>A*02:143-273</th><th scope=col>A*02:144-273</th><th scope=col>A*02:145-273</th><th scope=col>A*02:146-273</th><th scope=col>A*02:150-273</th><th scope=col>A*02:153-337</th><th scope=col>A*02:157-273</th><th scope=col>A*02:16-365</th><th scope=col>A*02:169-273</th><th scope=col>A*02:17-365</th><th scope=col>A*02:170-273</th><th scope=col>A*02:171-273</th><th scope=col>A*02:191-273</th><th scope=col>A*02:193-365</th><th scope=col>A*02:20-273</th><th scope=col>A*02:207-273</th><th scope=col>A*02:21-365</th><th scope=col>A*02:217-273</th><th scope=col>A*02:22-365</th><th scope=col>A*02:221-273</th><th scope=col>A*02:230-365</th><th scope=col>A*02:24-365</th><th scope=col>A*02:241-273</th><th scope=col>A*02:242-273</th><th scope=col>A*02:243-337</th><th scope=col>A*02:247-273</th><th scope=col>A*02:249-365</th><th scope=col>A*02:251-365</th><th scope=col>A*02:252-365</th><th scope=col>A*02:253-365</th><th scope=col>A*02:254-298</th><th scope=col>A*02:256-298</th><th scope=col>A*02:259-365</th><th scope=col>A*02:26-363</th><th scope=col>A*02:260-273</th><th scope=col>A*02:262-273</th><th scope=col>A*02:265-365</th><th scope=col>A*02:266-365</th><th scope=col>A*02:269-365</th><th scope=col>A*02:279-365</th><th scope=col>A*02:28-273</th><th scope=col>A*02:29-273</th><th scope=col>A*02:291-273</th><th scope=col>A*02:294-273</th><th scope=col>A*02:295-273</th><th scope=col>A*02:30-365</th><th scope=col>A*02:315-273</th><th scope=col>A*02:322-273</th><th scope=col>A*02:327-273</th><th scope=col>A*02:328-273</th><th scope=col>A*02:329-273</th><th scope=col>A*02:33-365</th><th scope=col>A*02:333-273</th><th scope=col>A*02:335-273</th><th scope=col>A*02:336-273</th><th scope=col>A*02:338-273</th><th scope=col>A*02:342-337</th><th scope=col>A*02:355-273</th><th scope=col>A*02:356N-255</th><th scope=col>A*02:358-273</th><th scope=col>A*02:369-273</th><th scope=col>A*02:370-273</th><th scope=col>A*02:372-298</th><th scope=col>A*02:374-357</th><th scope=col>A*02:390-337</th><th scope=col>A*02:393-273</th><th scope=col>A*02:394-273</th><th scope=col>A*02:397-273</th><th scope=col>A*02:40-273</th><th scope=col>A*02:403-273</th><th scope=col>A*02:404-337</th><th scope=col>A*02:405-273</th><th scope=col>A*02:406-273</th><th scope=col>A*02:407-273</th><th scope=col>A*02:409-337</th><th scope=col>A*02:41-273</th><th scope=col>A*02:411-273</th><th scope=col>A*02:415-273</th><th scope=col>A*02:416-273</th><th scope=col>A*02:418-273</th><th scope=col>A*02:419-337</th><th scope=col>A*02:42-273</th><th scope=col>A*02:426-337</th><th scope=col>A*02:427-273</th><th scope=col>A*02:428-337</th><th scope=col>A*02:436-339</th><th scope=col>A*02:437-273</th><th scope=col>A*02:441-273</th><th scope=col>A*02:442-337</th><th scope=col>A*02:443-337</th><th scope=col>A*02:444-337</th><th scope=col>A*02:445-337</th><th scope=col>A*02:446-337</th><th scope=col>A*02:447-337</th><th scope=col>A*02:448-337</th><th scope=col>A*02:449-337</th><th scope=col>A*02:450-337</th><th scope=col>A*02:451-337</th><th scope=col>A*02:452-337</th><th scope=col>A*02:453-337</th><th scope=col>A*02:454-273</th><th scope=col>A*02:455-365</th><th scope=col>A*02:463-273</th><th scope=col>A*02:464-273</th><th scope=col>A*02:465-337</th><th scope=col>A*02:467-337</th><th scope=col>A*02:469-337</th><th scope=col>A*02:470-337</th><th scope=col>A*02:471-337</th><th scope=col>A*02:472-337</th><th scope=col>A*02:473-337</th><th scope=col>A*02:474-337</th><th scope=col>A*02:475-337</th><th scope=col>A*02:477-337</th><th scope=col>A*02:478-337</th><th scope=col>A*02:479-337</th><th scope=col>A*02:48-365</th><th scope=col>A*02:480-337</th><th scope=col>A*02:481-273</th><th scope=col>A*02:482-273</th><th scope=col>A*02:488-273</th><th scope=col>A*02:493-337</th><th scope=col>A*02:506N-262</th><th scope=col>A*02:509-273</th><th scope=col>A*02:51-365</th><th scope=col>A*02:512-273</th><th scope=col>A*02:523-340</th><th scope=col>A*02:524-340</th><th scope=col>A*02:526-340</th><th scope=col>A*02:533-365</th><th scope=col>A*02:534-340</th><th scope=col>A*02:535-340</th><th scope=col>A*02:537-340</th><th scope=col>A*02:538-273</th><th scope=col>A*02:539-273</th><th scope=col>A*02:543-273</th><th scope=col>A*02:547-340</th><th scope=col>A*02:557-273</th><th scope=col>A*02:558-273</th><th scope=col>A*02:559-273</th><th scope=col>A*02:57-365</th><th scope=col>A*02:59-273</th><th scope=col>A*02:590-337</th><th scope=col>A*02:60-365</th><th scope=col>A*02:61-273</th><th scope=col>A*02:64-365</th><th scope=col>A*02:66-289</th><th scope=col>A*02:67-270</th><th scope=col>A*02:68-365</th><th scope=col>A*02:70-273</th><th scope=col>A*02:71-273</th><th scope=col>A*02:72-273</th><th scope=col>A*02:73-273</th><th scope=col>A*02:74-273</th><th scope=col>A*02:75-273</th><th scope=col>A*02:76-273</th><th scope=col>A*02:77-365</th><th scope=col>A*02:79-365</th><th scope=col>A*02:80-273</th><th scope=col>A*02:81-365</th><th scope=col>A*02:84-282</th><th scope=col>A*02:85-273</th><th scope=col>A*02:87-273</th><th scope=col>A*02:89-365</th><th scope=col>A*02:90-273</th><th scope=col>A*02:95-365</th><th scope=col>A*02:96-273</th><th scope=col>A*02:97-273</th><th scope=col>A*03:01-365</th><th scope=col>A*03:01:01:02N-319</th><th scope=col>A*03:02-365</th><th scope=col>A*03:03N-363</th><th scope=col>A*03:04-365</th><th scope=col>A*03:05-285</th><th scope=col>A*03:107-340</th><th scope=col>A*03:112-273</th><th scope=col>A*03:118-273</th><th scope=col>A*03:12-318</th><th scope=col>A*03:131-273</th><th scope=col>A*03:132-273</th><th scope=col>A*03:134-365</th><th scope=col>A*03:143-273</th><th scope=col>A*03:159-273</th><th scope=col>A*03:17-298</th><th scope=col>A*03:175-337</th><th scope=col>A*03:181-273</th><th scope=col>A*03:182-337</th><th scope=col>A*03:193-340</th><th scope=col>A*03:195-340</th><th scope=col>A*03:196-340</th><th scope=col>A*03:20-273</th><th scope=col>A*03:200Q-339</th><th scope=col>A*03:204-340</th><th scope=col>A*03:213-365</th><th scope=col>A*03:218-365</th><th scope=col>A*03:220-273</th><th scope=col>A*03:223-340</th><th scope=col>A*03:224-365</th><th scope=col>A*03:225-365</th><th scope=col>A*03:227-312</th><th scope=col>A*03:229-273</th><th scope=col>A*03:231-365</th><th scope=col>A*03:234Q-361</th><th scope=col>A*03:26-365</th><th scope=col>A*03:35-273</th><th scope=col>A*03:36N-356</th><th scope=col>A*03:37-337</th><th scope=col>A*03:39-365</th><th scope=col>A*03:42-273</th><th scope=col>A*03:43-273</th><th scope=col>A*03:44-273</th><th scope=col>A*03:45-273</th><th scope=col>A*03:48-340</th><th scope=col>A*03:55-273</th><th scope=col>A*03:72-273</th><th scope=col>A*03:77-365</th><th scope=col>A*03:78-365</th><th scope=col>A*03:89-365</th><th scope=col>A*11:25-365</th><th scope=col>A*30:89-365</th><th scope=col>A*69:01-365</th></tr></thead>\n",
       "<tbody>\n",
       "\t<tr><th scope=row>1</th><td>0</td><td>0</td><td>0</td><td>0</td><td>0</td><td>0</td><td>0</td><td>0</td><td>0</td><td>0</td><td>0</td><td>0</td><td>0</td><td>0</td><td>0</td><td>0</td><td>0</td><td>0</td><td>0</td><td>0</td><td>0</td><td>0</td><td>0</td><td>0</td><td>0</td><td>0</td><td>0</td><td>0</td><td>0</td><td>0</td><td>0</td><td>0</td><td>0</td><td>0</td><td>0</td><td>0</td><td>0</td><td>0</td><td>0</td><td>0</td><td>0</td><td>0</td><td>0</td><td>0</td><td>0</td><td>0</td><td>0</td><td>0</td><td>0</td><td>0</td><td>0</td><td>0</td><td>0</td><td>0</td><td>0</td><td>0</td><td>0</td><td>0</td><td>0</td><td>0</td><td>0</td><td>0</td><td>0</td><td>0</td><td>0</td><td>0</td><td>0</td><td>0</td><td>0</td><td>0</td><td>0</td><td>0</td><td>0</td><td>0</td><td>0</td><td>0</td><td>0</td><td>0</td><td>0</td><td>0</td><td>0</td><td>0</td><td>0</td><td>0</td><td>0</td><td>0</td><td>0</td><td>0</td><td>0</td><td>0</td><td>0</td><td>0</td><td>0</td><td>0</td><td>0</td><td>0</td><td>0</td><td>0</td><td>0</td><td>0</td><td>0</td><td>0</td><td>0</td><td>0</td><td>0</td><td>0</td><td>0</td><td>0</td><td>0</td><td>0</td><td>0</td><td>0</td><td>0</td><td>0</td><td>0</td><td>0</td><td>0</td><td>0</td><td>0</td><td>0</td><td>0</td><td>0</td><td>0</td><td>0</td><td>0</td><td>0</td><td>0</td><td>0</td><td>0</td><td>0</td><td>0</td><td>0</td><td>0</td><td>0</td><td>0</td><td>0</td><td>0</td><td>0</td><td>0</td><td>0</td><td>0</td><td>0</td><td>0</td><td>0</td><td>0</td><td>0</td><td>0</td><td>0</td><td>0</td><td>0</td><td>0</td><td>0</td><td>0</td><td>0</td><td>0</td><td>0</td><td>0</td><td>0</td><td>0</td><td>0</td><td>0</td><td>0</td><td>0</td><td>0</td><td>0</td><td>0</td><td>0</td><td>0</td><td>0</td><td>0</td><td>0</td><td>0</td><td>0</td><td>0</td><td>0</td><td>0</td><td>0</td><td>0</td><td>0</td><td>0</td><td>0</td><td>0</td><td>0</td><td>0</td><td>0</td><td>0</td><td>0</td><td>0</td><td>0</td><td>NA</td><td>NA</td><td>0</td><td>NA</td><td>0</td><td>0</td><td>NA</td><td>NA</td><td>NA</td><td>NA</td><td>NA</td><td>NA</td><td>NA</td><td>NA</td><td>NA</td><td>NA</td><td>0</td><td>NA</td><td>NA</td><td>NA</td><td>NA</td><td>NA</td><td>NA</td><td>0</td><td>NA</td><td>NA</td><td>0</td><td>NA</td><td>0</td><td>NA</td><td>0</td><td>NA</td><td>0</td><td>NA</td><td>NA</td><td>NA</td><td>NA</td><td>NA</td><td>NA</td><td>NA</td><td>0</td><td>NA</td><td>NA</td><td>NA</td><td>NA</td><td>NA</td><td>NA</td><td>NA</td><td>NA</td><td>NA</td><td>0</td><td>NA</td><td>0</td></tr>\n",
       "\t<tr><th scope=row>2</th><td>0</td><td>0</td><td>0</td><td>0</td><td>0</td><td>0</td><td>0</td><td>0</td><td>0</td><td>0</td><td>0</td><td>0</td><td>0</td><td>0</td><td>0</td><td>0</td><td>0</td><td>0</td><td>0</td><td>0</td><td>0</td><td>0</td><td>0</td><td>0</td><td>0</td><td>0</td><td>0</td><td>0</td><td>0</td><td>0</td><td>0</td><td>0</td><td>0</td><td>0</td><td>0</td><td>0</td><td>0</td><td>0</td><td>0</td><td>0</td><td>0</td><td>0</td><td>0</td><td>0</td><td>0</td><td>0</td><td>0</td><td>0</td><td>0</td><td>0</td><td>0</td><td>0</td><td>0</td><td>0</td><td>0</td><td>0</td><td>0</td><td>0</td><td>0</td><td>0</td><td>0</td><td>0</td><td>0</td><td>0</td><td>0</td><td>0</td><td>0</td><td>0</td><td>0</td><td>0</td><td>0</td><td>0</td><td>0</td><td>0</td><td>0</td><td>0</td><td>0</td><td>0</td><td>0</td><td>0</td><td>0</td><td>0</td><td>0</td><td>0</td><td>0</td><td>0</td><td>0</td><td>0</td><td>0</td><td>0</td><td>0</td><td>0</td><td>0</td><td>0</td><td>0</td><td>0</td><td>0</td><td>0</td><td>0</td><td>0</td><td>0</td><td>0</td><td>0</td><td>0</td><td>0</td><td>0</td><td>0</td><td>0</td><td>0</td><td>0</td><td>0</td><td>0</td><td>0</td><td>0</td><td>0</td><td>0</td><td>0</td><td>0</td><td>0</td><td>0</td><td>0</td><td>0</td><td>0</td><td>0</td><td>0</td><td>0</td><td>0</td><td>0</td><td>0</td><td>0</td><td>0</td><td>0</td><td>0</td><td>0</td><td>0</td><td>0</td><td>0</td><td>0</td><td>0</td><td>0</td><td>0</td><td>0</td><td>0</td><td>0</td><td>0</td><td>0</td><td>0</td><td>0</td><td>0</td><td>0</td><td>0</td><td>0</td><td>0</td><td>0</td><td>0</td><td>0</td><td>0</td><td>0</td><td>0</td><td>0</td><td>0</td><td>0</td><td>0</td><td>0</td><td>0</td><td>0</td><td>0</td><td>0</td><td>0</td><td>0</td><td>0</td><td>0</td><td>0</td><td>0</td><td>0</td><td>0</td><td>0</td><td>0</td><td>0</td><td>0</td><td>0</td><td>0</td><td>0</td><td>0</td><td>0</td><td>0</td><td>0</td><td>0</td><td>0</td><td>NA</td><td>NA</td><td>NA</td><td>NA</td><td>NA</td><td>NA</td><td>0</td><td>NA</td><td>NA</td><td>NA</td><td>NA</td><td>NA</td><td>NA</td><td>NA</td><td>NA</td><td>NA</td><td>NA</td><td>0</td><td>NA</td><td>NA</td><td>NA</td><td>NA</td><td>NA</td><td>NA</td><td>NA</td><td>NA</td><td>NA</td><td>NA</td><td>NA</td><td>NA</td><td>NA</td><td>NA</td><td>NA</td><td>NA</td><td>NA</td><td>NA</td><td>NA</td><td>0</td><td>NA</td><td>NA</td><td>NA</td><td>NA</td><td>NA</td><td>NA</td><td>NA</td><td>0</td><td>NA</td><td>NA</td><td>NA</td><td>0</td><td>0</td><td>0</td><td>0</td></tr>\n",
       "\t<tr><th scope=row>3</th><td>NA</td><td>NA</td><td>NA</td><td>NA</td><td>NA</td><td>NA</td><td>0</td><td>NA</td><td>NA</td><td>NA</td><td>NA</td><td>NA</td><td>NA</td><td>NA</td><td>NA</td><td>0</td><td>NA</td><td>NA</td><td>NA</td><td>0</td><td>NA</td><td>NA</td><td>NA</td><td>NA</td><td>NA</td><td>NA</td><td>NA</td><td>NA</td><td>NA</td><td>NA</td><td>NA</td><td>NA</td><td>NA</td><td>NA</td><td>NA</td><td>NA</td><td>NA</td><td>NA</td><td>NA</td><td>NA</td><td>NA</td><td>NA</td><td>NA</td><td>0</td><td>NA</td><td>NA</td><td>NA</td><td>NA</td><td>NA</td><td>0</td><td>NA</td><td>NA</td><td>0</td><td>NA</td><td>NA</td><td>NA</td><td>NA</td><td>0</td><td>0</td><td>NA</td><td>NA</td><td>NA</td><td>NA</td><td>NA</td><td>NA</td><td>NA</td><td>NA</td><td>NA</td><td>NA</td><td>0</td><td>NA</td><td>NA</td><td>NA</td><td>NA</td><td>NA</td><td>NA</td><td>NA</td><td>NA</td><td>NA</td><td>NA</td><td>NA</td><td>NA</td><td>NA</td><td>NA</td><td>NA</td><td>NA</td><td>NA</td><td>NA</td><td>NA</td><td>NA</td><td>NA</td><td>NA</td><td>NA</td><td>NA</td><td>NA</td><td>NA</td><td>NA</td><td>0</td><td>NA</td><td>NA</td><td>NA</td><td>NA</td><td>NA</td><td>0</td><td>NA</td><td>NA</td><td>NA</td><td>NA</td><td>NA</td><td>NA</td><td>NA</td><td>NA</td><td>NA</td><td>NA</td><td>NA</td><td>NA</td><td>NA</td><td>NA</td><td>NA</td><td>NA</td><td>0</td><td>NA</td><td>NA</td><td>NA</td><td>NA</td><td>NA</td><td>NA</td><td>NA</td><td>NA</td><td>NA</td><td>NA</td><td>NA</td><td>NA</td><td>NA</td><td>NA</td><td>NA</td><td>NA</td><td>NA</td><td>0</td><td>NA</td><td>NA</td><td>NA</td><td>NA</td><td>0</td><td>NA</td><td>NA</td><td>NA</td><td>NA</td><td>NA</td><td>NA</td><td>NA</td><td>NA</td><td>NA</td><td>NA</td><td>0</td><td>NA</td><td>NA</td><td>NA</td><td>0</td><td>NA</td><td>NA</td><td>NA</td><td>NA</td><td>NA</td><td>NA</td><td>NA</td><td>NA</td><td>0</td><td>NA</td><td>NA</td><td>NA</td><td>NA</td><td>NA</td><td>NA</td><td>NA</td><td>0</td><td>NA</td><td>NA</td><td>NA</td><td>NA</td><td>NA</td><td>NA</td><td>NA</td><td>NA</td><td>0</td><td>NA</td><td>NA</td><td>NA</td><td>0</td><td>0</td><td>0</td><td>0</td><td>0</td><td>0</td><td>0</td><td>0</td><td>0</td><td>0</td><td>0</td><td>0</td><td>0</td><td>0</td><td>0</td><td>0</td><td>0</td><td>0</td><td>0</td><td>0</td><td>0</td><td>0</td><td>0</td><td>0</td><td>0</td><td>0</td><td>0</td><td>0</td><td>0</td><td>0</td><td>0</td><td>0</td><td>0</td><td>0</td><td>0</td><td>0</td><td>0</td><td>0</td><td>0</td><td>0</td><td>0</td><td>0</td><td>0</td><td>0</td><td>0</td><td>0</td><td>0</td><td>0</td><td>0</td><td>0</td><td>0</td><td>0</td><td>0</td><td>NA</td></tr>\n",
       "\t<tr><th scope=row>4</th><td>NA</td><td>NA</td><td>NA</td><td>NA</td><td>NA</td><td>NA</td><td>NA</td><td>NA</td><td>0</td><td>NA</td><td>NA</td><td>NA</td><td>NA</td><td>0</td><td>NA</td><td>NA</td><td>NA</td><td>NA</td><td>NA</td><td>NA</td><td>NA</td><td>NA</td><td>NA</td><td>NA</td><td>0</td><td>NA</td><td>NA</td><td>NA</td><td>NA</td><td>NA</td><td>NA</td><td>NA</td><td>NA</td><td>NA</td><td>NA</td><td>NA</td><td>0</td><td>NA</td><td>NA</td><td>NA</td><td>NA</td><td>NA</td><td>NA</td><td>NA</td><td>NA</td><td>NA</td><td>0</td><td>NA</td><td>NA</td><td>NA</td><td>NA</td><td>NA</td><td>NA</td><td>NA</td><td>NA</td><td>NA</td><td>NA</td><td>NA</td><td>NA</td><td>0</td><td>NA</td><td>NA</td><td>NA</td><td>NA</td><td>NA</td><td>NA</td><td>NA</td><td>NA</td><td>NA</td><td>NA</td><td>NA</td><td>NA</td><td>NA</td><td>NA</td><td>NA</td><td>NA</td><td>NA</td><td>NA</td><td>NA</td><td>NA</td><td>NA</td><td>NA</td><td>NA</td><td>NA</td><td>NA</td><td>NA</td><td>NA</td><td>0</td><td>NA</td><td>NA</td><td>NA</td><td>NA</td><td>NA</td><td>NA</td><td>NA</td><td>NA</td><td>NA</td><td>NA</td><td>NA</td><td>NA</td><td>NA</td><td>NA</td><td>NA</td><td>NA</td><td>0</td><td>NA</td><td>NA</td><td>NA</td><td>NA</td><td>NA</td><td>0</td><td>NA</td><td>NA</td><td>NA</td><td>NA</td><td>NA</td><td>NA</td><td>0</td><td>NA</td><td>NA</td><td>NA</td><td>NA</td><td>NA</td><td>0</td><td>NA</td><td>NA</td><td>NA</td><td>NA</td><td>NA</td><td>0</td><td>0</td><td>NA</td><td>NA</td><td>NA</td><td>NA</td><td>NA</td><td>0</td><td>0</td><td>NA</td><td>NA</td><td>NA</td><td>NA</td><td>0</td><td>NA</td><td>NA</td><td>NA</td><td>NA</td><td>NA</td><td>NA</td><td>NA</td><td>NA</td><td>0</td><td>NA</td><td>NA</td><td>NA</td><td>NA</td><td>NA</td><td>NA</td><td>NA</td><td>NA</td><td>NA</td><td>NA</td><td>NA</td><td>NA</td><td>NA</td><td>NA</td><td>NA</td><td>NA</td><td>NA</td><td>NA</td><td>NA</td><td>NA</td><td>NA</td><td>NA</td><td>NA</td><td>NA</td><td>NA</td><td>NA</td><td>NA</td><td>NA</td><td>0</td><td>NA</td><td>NA</td><td>0</td><td>NA</td><td>0</td><td>NA</td><td>0</td><td>NA</td><td>0</td><td>0</td><td>0</td><td>0</td><td>0</td><td>0</td><td>0</td><td>0</td><td>0</td><td>0</td><td>0</td><td>0</td><td>0</td><td>0</td><td>0</td><td>0</td><td>0</td><td>0</td><td>0</td><td>0</td><td>0</td><td>0</td><td>0</td><td>0</td><td>0</td><td>0</td><td>0</td><td>0</td><td>0</td><td>0</td><td>0</td><td>0</td><td>0</td><td>0</td><td>0</td><td>0</td><td>0</td><td>0</td><td>0</td><td>0</td><td>0</td><td>0</td><td>0</td><td>0</td><td>0</td><td>0</td><td>0</td><td>0</td><td>0</td><td>NA</td><td>0</td><td>0</td><td>0</td></tr>\n",
       "\t<tr><th scope=row>5</th><td>NA</td><td>0</td><td>NA</td><td>0</td><td>NA</td><td>0</td><td>NA</td><td>0</td><td>NA</td><td>0</td><td>NA</td><td>NA</td><td>NA</td><td>NA</td><td>NA</td><td>NA</td><td>NA</td><td>NA</td><td>NA</td><td>NA</td><td>NA</td><td>NA</td><td>NA</td><td>NA</td><td>NA</td><td>NA</td><td>NA</td><td>0</td><td>NA</td><td>NA</td><td>0</td><td>NA</td><td>NA</td><td>0</td><td>NA</td><td>NA</td><td>NA</td><td>NA</td><td>NA</td><td>NA</td><td>NA</td><td>NA</td><td>NA</td><td>NA</td><td>0</td><td>NA</td><td>NA</td><td>NA</td><td>NA</td><td>NA</td><td>NA</td><td>NA</td><td>NA</td><td>NA</td><td>NA</td><td>NA</td><td>NA</td><td>0</td><td>NA</td><td>NA</td><td>0</td><td>NA</td><td>NA</td><td>NA</td><td>NA</td><td>NA</td><td>NA</td><td>NA</td><td>NA</td><td>NA</td><td>NA</td><td>NA</td><td>0</td><td>NA</td><td>0</td><td>NA</td><td>0</td><td>NA</td><td>NA</td><td>NA</td><td>NA</td><td>0</td><td>NA</td><td>NA</td><td>NA</td><td>0</td><td>NA</td><td>NA</td><td>NA</td><td>NA</td><td>0</td><td>NA</td><td>NA</td><td>NA</td><td>0</td><td>0</td><td>NA</td><td>NA</td><td>NA</td><td>NA</td><td>0</td><td>NA</td><td>NA</td><td>0</td><td>NA</td><td>NA</td><td>NA</td><td>0</td><td>NA</td><td>NA</td><td>NA</td><td>NA</td><td>NA</td><td>NA</td><td>NA</td><td>NA</td><td>0</td><td>0</td><td>0</td><td>0</td><td>0</td><td>NA</td><td>NA</td><td>NA</td><td>NA</td><td>NA</td><td>NA</td><td>NA</td><td>NA</td><td>NA</td><td>NA</td><td>0</td><td>0</td><td>NA</td><td>0</td><td>0</td><td>NA</td><td>NA</td><td>NA</td><td>NA</td><td>NA</td><td>NA</td><td>NA</td><td>NA</td><td>NA</td><td>NA</td><td>NA</td><td>0</td><td>NA</td><td>0</td><td>NA</td><td>NA</td><td>NA</td><td>NA</td><td>NA</td><td>NA</td><td>NA</td><td>NA</td><td>NA</td><td>0</td><td>NA</td><td>0</td><td>NA</td><td>NA</td><td>NA</td><td>NA</td><td>NA</td><td>NA</td><td>NA</td><td>NA</td><td>NA</td><td>NA</td><td>NA</td><td>0</td><td>NA</td><td>NA</td><td>NA</td><td>NA</td><td>NA</td><td>NA</td><td>NA</td><td>0</td><td>NA</td><td>NA</td><td>NA</td><td>NA</td><td>0</td><td>0</td><td>NA</td><td>0</td><td>0</td><td>0</td><td>0</td><td>0</td><td>0</td><td>0</td><td>0</td><td>0</td><td>0</td><td>0</td><td>0</td><td>0</td><td>0</td><td>0</td><td>0</td><td>0</td><td>0</td><td>0</td><td>0</td><td>0</td><td>0</td><td>0</td><td>0</td><td>0</td><td>0</td><td>0</td><td>0</td><td>0</td><td>0</td><td>0</td><td>0</td><td>0</td><td>0</td><td>0</td><td>0</td><td>0</td><td>0</td><td>0</td><td>0</td><td>0</td><td>0</td><td>0</td><td>0</td><td>0</td><td>0</td><td>0</td><td>0</td><td>0</td><td>0</td><td>0</td><td>0</td><td>NA</td></tr>\n",
       "\t<tr><th scope=row>6</th><td>NA</td><td>NA</td><td>NA</td><td>NA</td><td>NA</td><td>NA</td><td>NA</td><td>NA</td><td>0</td><td>NA</td><td>NA</td><td>NA</td><td>NA</td><td>0</td><td>NA</td><td>NA</td><td>NA</td><td>NA</td><td>NA</td><td>NA</td><td>NA</td><td>NA</td><td>NA</td><td>NA</td><td>0</td><td>NA</td><td>NA</td><td>NA</td><td>NA</td><td>NA</td><td>NA</td><td>NA</td><td>NA</td><td>NA</td><td>NA</td><td>NA</td><td>0</td><td>NA</td><td>NA</td><td>NA</td><td>NA</td><td>NA</td><td>NA</td><td>NA</td><td>NA</td><td>NA</td><td>0</td><td>NA</td><td>NA</td><td>NA</td><td>NA</td><td>NA</td><td>NA</td><td>NA</td><td>NA</td><td>NA</td><td>NA</td><td>NA</td><td>NA</td><td>0</td><td>NA</td><td>NA</td><td>NA</td><td>NA</td><td>NA</td><td>NA</td><td>NA</td><td>NA</td><td>NA</td><td>NA</td><td>NA</td><td>NA</td><td>NA</td><td>NA</td><td>NA</td><td>NA</td><td>NA</td><td>NA</td><td>NA</td><td>NA</td><td>NA</td><td>NA</td><td>NA</td><td>NA</td><td>NA</td><td>NA</td><td>NA</td><td>0</td><td>NA</td><td>NA</td><td>NA</td><td>NA</td><td>NA</td><td>NA</td><td>NA</td><td>NA</td><td>NA</td><td>NA</td><td>NA</td><td>NA</td><td>NA</td><td>NA</td><td>NA</td><td>NA</td><td>0</td><td>NA</td><td>NA</td><td>NA</td><td>NA</td><td>NA</td><td>0</td><td>NA</td><td>NA</td><td>NA</td><td>NA</td><td>NA</td><td>NA</td><td>0</td><td>NA</td><td>NA</td><td>NA</td><td>NA</td><td>NA</td><td>0</td><td>NA</td><td>NA</td><td>NA</td><td>NA</td><td>NA</td><td>0</td><td>0</td><td>NA</td><td>NA</td><td>NA</td><td>NA</td><td>NA</td><td>0</td><td>0</td><td>NA</td><td>NA</td><td>NA</td><td>NA</td><td>0</td><td>NA</td><td>NA</td><td>NA</td><td>NA</td><td>NA</td><td>NA</td><td>NA</td><td>NA</td><td>0</td><td>NA</td><td>NA</td><td>NA</td><td>NA</td><td>NA</td><td>NA</td><td>NA</td><td>NA</td><td>NA</td><td>NA</td><td>NA</td><td>NA</td><td>NA</td><td>NA</td><td>NA</td><td>NA</td><td>NA</td><td>NA</td><td>NA</td><td>NA</td><td>NA</td><td>NA</td><td>NA</td><td>NA</td><td>NA</td><td>NA</td><td>NA</td><td>NA</td><td>0</td><td>NA</td><td>NA</td><td>0</td><td>NA</td><td>0</td><td>NA</td><td>0</td><td>NA</td><td>0</td><td>0</td><td>0</td><td>0</td><td>0</td><td>0</td><td>0</td><td>0</td><td>0</td><td>0</td><td>0</td><td>0</td><td>0</td><td>0</td><td>0</td><td>0</td><td>0</td><td>0</td><td>0</td><td>0</td><td>0</td><td>0</td><td>0</td><td>0</td><td>0</td><td>0</td><td>0</td><td>0</td><td>0</td><td>0</td><td>0</td><td>0</td><td>0</td><td>0</td><td>0</td><td>0</td><td>0</td><td>0</td><td>0</td><td>0</td><td>0</td><td>0</td><td>0</td><td>0</td><td>0</td><td>0</td><td>0</td><td>0</td><td>0</td><td>NA</td><td>0</td><td>0</td><td>0</td></tr>\n",
       "</tbody>\n",
       "</table>\n"
      ],
      "text/latex": [
       "\\begin{tabular}{r|llllllllllllllllllllllllllllllllllllllllllllllllllllllllllllllllllllllllllllllllllllllllllllllllllllllllllllllllllllllllllllllllllllllllllllllllllllllllllllllllllllllllllllllllllllllllllllllllllllllllllllllllllllllllllllllllllllllllllllllllll}\n",
       "  & A*02:01-365 & A*02:02-365 & A*02:03-365 & A*02:04-365 & A*02:06-365 & A*02:07-365 & A*02:09-365 & A*02:10-365 & A*02:11-365 & A*02:110-273 & A*02:12-365 & A*02:121-273 & A*02:123-273 & A*02:124-365 & A*02:13-365 & A*02:131-273 & A*02:133-273 & A*02:134-337 & A*02:137-273 & A*02:140-273 & A*02:142-273 & A*02:143-273 & A*02:144-273 & A*02:145-273 & A*02:146-273 & A*02:150-273 & A*02:153-337 & A*02:157-273 & A*02:16-365 & A*02:169-273 & A*02:17-365 & A*02:170-273 & A*02:171-273 & A*02:191-273 & A*02:193-365 & A*02:20-273 & A*02:207-273 & A*02:21-365 & A*02:217-273 & A*02:22-365 & A*02:221-273 & A*02:230-365 & A*02:24-365 & A*02:241-273 & A*02:242-273 & A*02:243-337 & A*02:247-273 & A*02:249-365 & A*02:251-365 & A*02:252-365 & A*02:253-365 & A*02:254-298 & A*02:256-298 & A*02:259-365 & A*02:26-363 & A*02:260-273 & A*02:262-273 & A*02:265-365 & A*02:266-365 & A*02:269-365 & A*02:279-365 & A*02:28-273 & A*02:29-273 & A*02:291-273 & A*02:294-273 & A*02:295-273 & A*02:30-365 & A*02:315-273 & A*02:322-273 & A*02:327-273 & A*02:328-273 & A*02:329-273 & A*02:33-365 & A*02:333-273 & A*02:335-273 & A*02:336-273 & A*02:338-273 & A*02:342-337 & A*02:355-273 & A*02:356N-255 & A*02:358-273 & A*02:369-273 & A*02:370-273 & A*02:372-298 & A*02:374-357 & A*02:390-337 & A*02:393-273 & A*02:394-273 & A*02:397-273 & A*02:40-273 & A*02:403-273 & A*02:404-337 & A*02:405-273 & A*02:406-273 & A*02:407-273 & A*02:409-337 & A*02:41-273 & A*02:411-273 & A*02:415-273 & A*02:416-273 & A*02:418-273 & A*02:419-337 & A*02:42-273 & A*02:426-337 & A*02:427-273 & A*02:428-337 & A*02:436-339 & A*02:437-273 & A*02:441-273 & A*02:442-337 & A*02:443-337 & A*02:444-337 & A*02:445-337 & A*02:446-337 & A*02:447-337 & A*02:448-337 & A*02:449-337 & A*02:450-337 & A*02:451-337 & A*02:452-337 & A*02:453-337 & A*02:454-273 & A*02:455-365 & A*02:463-273 & A*02:464-273 & A*02:465-337 & A*02:467-337 & A*02:469-337 & A*02:470-337 & A*02:471-337 & A*02:472-337 & A*02:473-337 & A*02:474-337 & A*02:475-337 & A*02:477-337 & A*02:478-337 & A*02:479-337 & A*02:48-365 & A*02:480-337 & A*02:481-273 & A*02:482-273 & A*02:488-273 & A*02:493-337 & A*02:506N-262 & A*02:509-273 & A*02:51-365 & A*02:512-273 & A*02:523-340 & A*02:524-340 & A*02:526-340 & A*02:533-365 & A*02:534-340 & A*02:535-340 & A*02:537-340 & A*02:538-273 & A*02:539-273 & A*02:543-273 & A*02:547-340 & A*02:557-273 & A*02:558-273 & A*02:559-273 & A*02:57-365 & A*02:59-273 & A*02:590-337 & A*02:60-365 & A*02:61-273 & A*02:64-365 & A*02:66-289 & A*02:67-270 & A*02:68-365 & A*02:70-273 & A*02:71-273 & A*02:72-273 & A*02:73-273 & A*02:74-273 & A*02:75-273 & A*02:76-273 & A*02:77-365 & A*02:79-365 & A*02:80-273 & A*02:81-365 & A*02:84-282 & A*02:85-273 & A*02:87-273 & A*02:89-365 & A*02:90-273 & A*02:95-365 & A*02:96-273 & A*02:97-273 & A*03:01-365 & A*03:01:01:02N-319 & A*03:02-365 & A*03:03N-363 & A*03:04-365 & A*03:05-285 & A*03:107-340 & A*03:112-273 & A*03:118-273 & A*03:12-318 & A*03:131-273 & A*03:132-273 & A*03:134-365 & A*03:143-273 & A*03:159-273 & A*03:17-298 & A*03:175-337 & A*03:181-273 & A*03:182-337 & A*03:193-340 & A*03:195-340 & A*03:196-340 & A*03:20-273 & A*03:200Q-339 & A*03:204-340 & A*03:213-365 & A*03:218-365 & A*03:220-273 & A*03:223-340 & A*03:224-365 & A*03:225-365 & A*03:227-312 & A*03:229-273 & A*03:231-365 & A*03:234Q-361 & A*03:26-365 & A*03:35-273 & A*03:36N-356 & A*03:37-337 & A*03:39-365 & A*03:42-273 & A*03:43-273 & A*03:44-273 & A*03:45-273 & A*03:48-340 & A*03:55-273 & A*03:72-273 & A*03:77-365 & A*03:78-365 & A*03:89-365 & A*11:25-365 & A*30:89-365 & A*69:01-365\\\\\n",
       "\\hline\n",
       "\t1 & 0 & 0 & 0 & 0 & 0 & 0 & 0 & 0 & 0 & 0 & 0 & 0 & 0 & 0 & 0 & 0 & 0 & 0 & 0 & 0 & 0 & 0 & 0 & 0 & 0 & 0 & 0 & 0 & 0 & 0 & 0 & 0 & 0 & 0 & 0 & 0 & 0 & 0 & 0 & 0 & 0 & 0 & 0 & 0 & 0 & 0 & 0 & 0 & 0 & 0 & 0 & 0 & 0 & 0 & 0 & 0 & 0 & 0 & 0 & 0 & 0 & 0 & 0 & 0 & 0 & 0 & 0 & 0 & 0 & 0 & 0 & 0 & 0 & 0 & 0 & 0 & 0 & 0 & 0 & 0 & 0 & 0 & 0 & 0 & 0 & 0 & 0 & 0 & 0 & 0 & 0 & 0 & 0 & 0 & 0 & 0 & 0 & 0 & 0 & 0 & 0 & 0 & 0 & 0 & 0 & 0 & 0 & 0 & 0 & 0 & 0 & 0 & 0 & 0 & 0 & 0 & 0 & 0 & 0 & 0 & 0 & 0 & 0 & 0 & 0 & 0 & 0 & 0 & 0 & 0 & 0 & 0 & 0 & 0 & 0 & 0 & 0 & 0 & 0 & 0 & 0 & 0 & 0 & 0 & 0 & 0 & 0 & 0 & 0 & 0 & 0 & 0 & 0 & 0 & 0 & 0 & 0 & 0 & 0 & 0 & 0 & 0 & 0 & 0 & 0 & 0 & 0 & 0 & 0 & 0 & 0 & 0 & 0 & 0 & 0 & 0 & 0 & 0 & 0 & 0 & 0 & 0 & 0 & 0 & 0 & 0 & 0 & 0 & 0 & NA & NA & 0 & NA & 0 & 0 & NA & NA & NA & NA & NA & NA & NA & NA & NA & NA & 0 & NA & NA & NA & NA & NA & NA & 0 & NA & NA & 0 & NA & 0 & NA & 0 & NA & 0 & NA & NA & NA & NA & NA & NA & NA & 0 & NA & NA & NA & NA & NA & NA & NA & NA & NA & 0 & NA & 0\\\\\n",
       "\t2 & 0 & 0 & 0 & 0 & 0 & 0 & 0 & 0 & 0 & 0 & 0 & 0 & 0 & 0 & 0 & 0 & 0 & 0 & 0 & 0 & 0 & 0 & 0 & 0 & 0 & 0 & 0 & 0 & 0 & 0 & 0 & 0 & 0 & 0 & 0 & 0 & 0 & 0 & 0 & 0 & 0 & 0 & 0 & 0 & 0 & 0 & 0 & 0 & 0 & 0 & 0 & 0 & 0 & 0 & 0 & 0 & 0 & 0 & 0 & 0 & 0 & 0 & 0 & 0 & 0 & 0 & 0 & 0 & 0 & 0 & 0 & 0 & 0 & 0 & 0 & 0 & 0 & 0 & 0 & 0 & 0 & 0 & 0 & 0 & 0 & 0 & 0 & 0 & 0 & 0 & 0 & 0 & 0 & 0 & 0 & 0 & 0 & 0 & 0 & 0 & 0 & 0 & 0 & 0 & 0 & 0 & 0 & 0 & 0 & 0 & 0 & 0 & 0 & 0 & 0 & 0 & 0 & 0 & 0 & 0 & 0 & 0 & 0 & 0 & 0 & 0 & 0 & 0 & 0 & 0 & 0 & 0 & 0 & 0 & 0 & 0 & 0 & 0 & 0 & 0 & 0 & 0 & 0 & 0 & 0 & 0 & 0 & 0 & 0 & 0 & 0 & 0 & 0 & 0 & 0 & 0 & 0 & 0 & 0 & 0 & 0 & 0 & 0 & 0 & 0 & 0 & 0 & 0 & 0 & 0 & 0 & 0 & 0 & 0 & 0 & 0 & 0 & 0 & 0 & 0 & 0 & 0 & 0 & 0 & 0 & 0 & 0 & 0 & 0 & NA & NA & NA & NA & NA & NA & 0 & NA & NA & NA & NA & NA & NA & NA & NA & NA & NA & 0 & NA & NA & NA & NA & NA & NA & NA & NA & NA & NA & NA & NA & NA & NA & NA & NA & NA & NA & NA & 0 & NA & NA & NA & NA & NA & NA & NA & 0 & NA & NA & NA & 0 & 0 & 0 & 0\\\\\n",
       "\t3 & NA & NA & NA & NA & NA & NA & 0 & NA & NA & NA & NA & NA & NA & NA & NA & 0 & NA & NA & NA & 0 & NA & NA & NA & NA & NA & NA & NA & NA & NA & NA & NA & NA & NA & NA & NA & NA & NA & NA & NA & NA & NA & NA & NA & 0 & NA & NA & NA & NA & NA & 0 & NA & NA & 0 & NA & NA & NA & NA & 0 & 0 & NA & NA & NA & NA & NA & NA & NA & NA & NA & NA & 0 & NA & NA & NA & NA & NA & NA & NA & NA & NA & NA & NA & NA & NA & NA & NA & NA & NA & NA & NA & NA & NA & NA & NA & NA & NA & NA & NA & 0 & NA & NA & NA & NA & NA & 0 & NA & NA & NA & NA & NA & NA & NA & NA & NA & NA & NA & NA & NA & NA & NA & NA & 0 & NA & NA & NA & NA & NA & NA & NA & NA & NA & NA & NA & NA & NA & NA & NA & NA & NA & 0 & NA & NA & NA & NA & 0 & NA & NA & NA & NA & NA & NA & NA & NA & NA & NA & 0 & NA & NA & NA & 0 & NA & NA & NA & NA & NA & NA & NA & NA & 0 & NA & NA & NA & NA & NA & NA & NA & 0 & NA & NA & NA & NA & NA & NA & NA & NA & 0 & NA & NA & NA & 0 & 0 & 0 & 0 & 0 & 0 & 0 & 0 & 0 & 0 & 0 & 0 & 0 & 0 & 0 & 0 & 0 & 0 & 0 & 0 & 0 & 0 & 0 & 0 & 0 & 0 & 0 & 0 & 0 & 0 & 0 & 0 & 0 & 0 & 0 & 0 & 0 & 0 & 0 & 0 & 0 & 0 & 0 & 0 & 0 & 0 & 0 & 0 & 0 & 0 & 0 & 0 & 0 & NA\\\\\n",
       "\t4 & NA & NA & NA & NA & NA & NA & NA & NA & 0 & NA & NA & NA & NA & 0 & NA & NA & NA & NA & NA & NA & NA & NA & NA & NA & 0 & NA & NA & NA & NA & NA & NA & NA & NA & NA & NA & NA & 0 & NA & NA & NA & NA & NA & NA & NA & NA & NA & 0 & NA & NA & NA & NA & NA & NA & NA & NA & NA & NA & NA & NA & 0 & NA & NA & NA & NA & NA & NA & NA & NA & NA & NA & NA & NA & NA & NA & NA & NA & NA & NA & NA & NA & NA & NA & NA & NA & NA & NA & NA & 0 & NA & NA & NA & NA & NA & NA & NA & NA & NA & NA & NA & NA & NA & NA & NA & NA & 0 & NA & NA & NA & NA & NA & 0 & NA & NA & NA & NA & NA & NA & 0 & NA & NA & NA & NA & NA & 0 & NA & NA & NA & NA & NA & 0 & 0 & NA & NA & NA & NA & NA & 0 & 0 & NA & NA & NA & NA & 0 & NA & NA & NA & NA & NA & NA & NA & NA & 0 & NA & NA & NA & NA & NA & NA & NA & NA & NA & NA & NA & NA & NA & NA & NA & NA & NA & NA & NA & NA & NA & NA & NA & NA & NA & NA & NA & NA & 0 & NA & NA & 0 & NA & 0 & NA & 0 & NA & 0 & 0 & 0 & 0 & 0 & 0 & 0 & 0 & 0 & 0 & 0 & 0 & 0 & 0 & 0 & 0 & 0 & 0 & 0 & 0 & 0 & 0 & 0 & 0 & 0 & 0 & 0 & 0 & 0 & 0 & 0 & 0 & 0 & 0 & 0 & 0 & 0 & 0 & 0 & 0 & 0 & 0 & 0 & 0 & 0 & 0 & 0 & 0 & 0 & NA & 0 & 0 & 0\\\\\n",
       "\t5 & NA & 0 & NA & 0 & NA & 0 & NA & 0 & NA & 0 & NA & NA & NA & NA & NA & NA & NA & NA & NA & NA & NA & NA & NA & NA & NA & NA & NA & 0 & NA & NA & 0 & NA & NA & 0 & NA & NA & NA & NA & NA & NA & NA & NA & NA & NA & 0 & NA & NA & NA & NA & NA & NA & NA & NA & NA & NA & NA & NA & 0 & NA & NA & 0 & NA & NA & NA & NA & NA & NA & NA & NA & NA & NA & NA & 0 & NA & 0 & NA & 0 & NA & NA & NA & NA & 0 & NA & NA & NA & 0 & NA & NA & NA & NA & 0 & NA & NA & NA & 0 & 0 & NA & NA & NA & NA & 0 & NA & NA & 0 & NA & NA & NA & 0 & NA & NA & NA & NA & NA & NA & NA & NA & 0 & 0 & 0 & 0 & 0 & NA & NA & NA & NA & NA & NA & NA & NA & NA & NA & 0 & 0 & NA & 0 & 0 & NA & NA & NA & NA & NA & NA & NA & NA & NA & NA & NA & 0 & NA & 0 & NA & NA & NA & NA & NA & NA & NA & NA & NA & 0 & NA & 0 & NA & NA & NA & NA & NA & NA & NA & NA & NA & NA & NA & 0 & NA & NA & NA & NA & NA & NA & NA & 0 & NA & NA & NA & NA & 0 & 0 & NA & 0 & 0 & 0 & 0 & 0 & 0 & 0 & 0 & 0 & 0 & 0 & 0 & 0 & 0 & 0 & 0 & 0 & 0 & 0 & 0 & 0 & 0 & 0 & 0 & 0 & 0 & 0 & 0 & 0 & 0 & 0 & 0 & 0 & 0 & 0 & 0 & 0 & 0 & 0 & 0 & 0 & 0 & 0 & 0 & 0 & 0 & 0 & 0 & 0 & 0 & 0 & 0 & NA\\\\\n",
       "\t6 & NA & NA & NA & NA & NA & NA & NA & NA & 0 & NA & NA & NA & NA & 0 & NA & NA & NA & NA & NA & NA & NA & NA & NA & NA & 0 & NA & NA & NA & NA & NA & NA & NA & NA & NA & NA & NA & 0 & NA & NA & NA & NA & NA & NA & NA & NA & NA & 0 & NA & NA & NA & NA & NA & NA & NA & NA & NA & NA & NA & NA & 0 & NA & NA & NA & NA & NA & NA & NA & NA & NA & NA & NA & NA & NA & NA & NA & NA & NA & NA & NA & NA & NA & NA & NA & NA & NA & NA & NA & 0 & NA & NA & NA & NA & NA & NA & NA & NA & NA & NA & NA & NA & NA & NA & NA & NA & 0 & NA & NA & NA & NA & NA & 0 & NA & NA & NA & NA & NA & NA & 0 & NA & NA & NA & NA & NA & 0 & NA & NA & NA & NA & NA & 0 & 0 & NA & NA & NA & NA & NA & 0 & 0 & NA & NA & NA & NA & 0 & NA & NA & NA & NA & NA & NA & NA & NA & 0 & NA & NA & NA & NA & NA & NA & NA & NA & NA & NA & NA & NA & NA & NA & NA & NA & NA & NA & NA & NA & NA & NA & NA & NA & NA & NA & NA & NA & 0 & NA & NA & 0 & NA & 0 & NA & 0 & NA & 0 & 0 & 0 & 0 & 0 & 0 & 0 & 0 & 0 & 0 & 0 & 0 & 0 & 0 & 0 & 0 & 0 & 0 & 0 & 0 & 0 & 0 & 0 & 0 & 0 & 0 & 0 & 0 & 0 & 0 & 0 & 0 & 0 & 0 & 0 & 0 & 0 & 0 & 0 & 0 & 0 & 0 & 0 & 0 & 0 & 0 & 0 & 0 & 0 & NA & 0 & 0 & 0\\\\\n",
       "\\end{tabular}\n"
      ],
      "text/plain": [
       "   A*02:01-365 A*02:02-365 A*02:03-365 A*02:04-365 A*02:06-365 A*02:07-365\n",
       "1:           0           0           0           0           0           0\n",
       "2:           0           0           0           0           0           0\n",
       "3:          NA          NA          NA          NA          NA          NA\n",
       "4:          NA          NA          NA          NA          NA          NA\n",
       "5:          NA           0          NA           0          NA           0\n",
       "6:          NA          NA          NA          NA          NA          NA\n",
       "   A*02:09-365 A*02:10-365 A*02:11-365 A*02:110-273 A*02:12-365 A*02:121-273\n",
       "1:           0           0           0            0           0            0\n",
       "2:           0           0           0            0           0            0\n",
       "3:           0          NA          NA           NA          NA           NA\n",
       "4:          NA          NA           0           NA          NA           NA\n",
       "5:          NA           0          NA            0          NA           NA\n",
       "6:          NA          NA           0           NA          NA           NA\n",
       "   A*02:123-273 A*02:124-365 A*02:13-365 A*02:131-273 A*02:133-273 A*02:134-337\n",
       "1:            0            0           0            0            0            0\n",
       "2:            0            0           0            0            0            0\n",
       "3:           NA           NA          NA            0           NA           NA\n",
       "4:           NA            0          NA           NA           NA           NA\n",
       "5:           NA           NA          NA           NA           NA           NA\n",
       "6:           NA            0          NA           NA           NA           NA\n",
       "   A*02:137-273 A*02:140-273 A*02:142-273 A*02:143-273 A*02:144-273\n",
       "1:            0            0            0            0            0\n",
       "2:            0            0            0            0            0\n",
       "3:           NA            0           NA           NA           NA\n",
       "4:           NA           NA           NA           NA           NA\n",
       "5:           NA           NA           NA           NA           NA\n",
       "6:           NA           NA           NA           NA           NA\n",
       "   A*02:145-273 A*02:146-273 A*02:150-273 A*02:153-337 A*02:157-273 A*02:16-365\n",
       "1:            0            0            0            0            0           0\n",
       "2:            0            0            0            0            0           0\n",
       "3:           NA           NA           NA           NA           NA          NA\n",
       "4:           NA            0           NA           NA           NA          NA\n",
       "5:           NA           NA           NA           NA            0          NA\n",
       "6:           NA            0           NA           NA           NA          NA\n",
       "   A*02:169-273 A*02:17-365 A*02:170-273 A*02:171-273 A*02:191-273 A*02:193-365\n",
       "1:            0           0            0            0            0            0\n",
       "2:            0           0            0            0            0            0\n",
       "3:           NA          NA           NA           NA           NA           NA\n",
       "4:           NA          NA           NA           NA           NA           NA\n",
       "5:           NA           0           NA           NA            0           NA\n",
       "6:           NA          NA           NA           NA           NA           NA\n",
       "   A*02:20-273 A*02:207-273 A*02:21-365 A*02:217-273 A*02:22-365 A*02:221-273\n",
       "1:           0            0           0            0           0            0\n",
       "2:           0            0           0            0           0            0\n",
       "3:          NA           NA          NA           NA          NA           NA\n",
       "4:          NA            0          NA           NA          NA           NA\n",
       "5:          NA           NA          NA           NA          NA           NA\n",
       "6:          NA            0          NA           NA          NA           NA\n",
       "   A*02:230-365 A*02:24-365 A*02:241-273 A*02:242-273 A*02:243-337 A*02:247-273\n",
       "1:            0           0            0            0            0            0\n",
       "2:            0           0            0            0            0            0\n",
       "3:           NA          NA            0           NA           NA           NA\n",
       "4:           NA          NA           NA           NA           NA            0\n",
       "5:           NA          NA           NA            0           NA           NA\n",
       "6:           NA          NA           NA           NA           NA            0\n",
       "   A*02:249-365 A*02:251-365 A*02:252-365 A*02:253-365 A*02:254-298\n",
       "1:            0            0            0            0            0\n",
       "2:            0            0            0            0            0\n",
       "3:           NA           NA            0           NA           NA\n",
       "4:           NA           NA           NA           NA           NA\n",
       "5:           NA           NA           NA           NA           NA\n",
       "6:           NA           NA           NA           NA           NA\n",
       "   A*02:256-298 A*02:259-365 A*02:26-363 A*02:260-273 A*02:262-273 A*02:265-365\n",
       "1:            0            0           0            0            0            0\n",
       "2:            0            0           0            0            0            0\n",
       "3:            0           NA          NA           NA           NA            0\n",
       "4:           NA           NA          NA           NA           NA           NA\n",
       "5:           NA           NA          NA           NA           NA            0\n",
       "6:           NA           NA          NA           NA           NA           NA\n",
       "   A*02:266-365 A*02:269-365 A*02:279-365 A*02:28-273 A*02:29-273 A*02:291-273\n",
       "1:            0            0            0           0           0            0\n",
       "2:            0            0            0           0           0            0\n",
       "3:            0           NA           NA          NA          NA           NA\n",
       "4:           NA            0           NA          NA          NA           NA\n",
       "5:           NA           NA            0          NA          NA           NA\n",
       "6:           NA            0           NA          NA          NA           NA\n",
       "   A*02:294-273 A*02:295-273 A*02:30-365 A*02:315-273 A*02:322-273 A*02:327-273\n",
       "1:            0            0           0            0            0            0\n",
       "2:            0            0           0            0            0            0\n",
       "3:           NA           NA          NA           NA           NA            0\n",
       "4:           NA           NA          NA           NA           NA           NA\n",
       "5:           NA           NA          NA           NA           NA           NA\n",
       "6:           NA           NA          NA           NA           NA           NA\n",
       "   A*02:328-273 A*02:329-273 A*02:33-365 A*02:333-273 A*02:335-273 A*02:336-273\n",
       "1:            0            0           0            0            0            0\n",
       "2:            0            0           0            0            0            0\n",
       "3:           NA           NA          NA           NA           NA           NA\n",
       "4:           NA           NA          NA           NA           NA           NA\n",
       "5:           NA           NA           0           NA            0           NA\n",
       "6:           NA           NA          NA           NA           NA           NA\n",
       "   A*02:338-273 A*02:342-337 A*02:355-273 A*02:356N-255 A*02:358-273\n",
       "1:            0            0            0             0            0\n",
       "2:            0            0            0             0            0\n",
       "3:           NA           NA           NA            NA           NA\n",
       "4:           NA           NA           NA            NA           NA\n",
       "5:            0           NA           NA            NA           NA\n",
       "6:           NA           NA           NA            NA           NA\n",
       "   A*02:369-273 A*02:370-273 A*02:372-298 A*02:374-357 A*02:390-337\n",
       "1:            0            0            0            0            0\n",
       "2:            0            0            0            0            0\n",
       "3:           NA           NA           NA           NA           NA\n",
       "4:           NA           NA           NA           NA           NA\n",
       "5:            0           NA           NA           NA            0\n",
       "6:           NA           NA           NA           NA           NA\n",
       "   A*02:393-273 A*02:394-273 A*02:397-273 A*02:40-273 A*02:403-273 A*02:404-337\n",
       "1:            0            0            0           0            0            0\n",
       "2:            0            0            0           0            0            0\n",
       "3:           NA           NA           NA          NA           NA           NA\n",
       "4:           NA            0           NA          NA           NA           NA\n",
       "5:           NA           NA           NA          NA            0           NA\n",
       "6:           NA            0           NA          NA           NA           NA\n",
       "   A*02:405-273 A*02:406-273 A*02:407-273 A*02:409-337 A*02:41-273 A*02:411-273\n",
       "1:            0            0            0            0           0            0\n",
       "2:            0            0            0            0           0            0\n",
       "3:           NA           NA           NA           NA          NA            0\n",
       "4:           NA           NA           NA           NA          NA           NA\n",
       "5:           NA           NA            0            0          NA           NA\n",
       "6:           NA           NA           NA           NA          NA           NA\n",
       "   A*02:415-273 A*02:416-273 A*02:418-273 A*02:419-337 A*02:42-273 A*02:426-337\n",
       "1:            0            0            0            0           0            0\n",
       "2:            0            0            0            0           0            0\n",
       "3:           NA           NA           NA           NA          NA            0\n",
       "4:           NA           NA           NA           NA          NA           NA\n",
       "5:           NA           NA            0           NA          NA            0\n",
       "6:           NA           NA           NA           NA          NA           NA\n",
       "   A*02:427-273 A*02:428-337 A*02:436-339 A*02:437-273 A*02:441-273\n",
       "1:            0            0            0            0            0\n",
       "2:            0            0            0            0            0\n",
       "3:           NA           NA           NA           NA           NA\n",
       "4:            0           NA           NA           NA           NA\n",
       "5:           NA           NA           NA            0           NA\n",
       "6:            0           NA           NA           NA           NA\n",
       "   A*02:442-337 A*02:443-337 A*02:444-337 A*02:445-337 A*02:446-337\n",
       "1:            0            0            0            0            0\n",
       "2:            0            0            0            0            0\n",
       "3:           NA           NA           NA           NA           NA\n",
       "4:           NA            0           NA           NA           NA\n",
       "5:           NA           NA           NA           NA           NA\n",
       "6:           NA            0           NA           NA           NA\n",
       "   A*02:447-337 A*02:448-337 A*02:449-337 A*02:450-337 A*02:451-337\n",
       "1:            0            0            0            0            0\n",
       "2:            0            0            0            0            0\n",
       "3:           NA           NA           NA           NA           NA\n",
       "4:           NA           NA           NA            0           NA\n",
       "5:           NA           NA            0            0            0\n",
       "6:           NA           NA           NA            0           NA\n",
       "   A*02:452-337 A*02:453-337 A*02:454-273 A*02:455-365 A*02:463-273\n",
       "1:            0            0            0            0            0\n",
       "2:            0            0            0            0            0\n",
       "3:           NA            0           NA           NA           NA\n",
       "4:           NA           NA           NA           NA            0\n",
       "5:            0            0           NA           NA           NA\n",
       "6:           NA           NA           NA           NA            0\n",
       "   A*02:464-273 A*02:465-337 A*02:467-337 A*02:469-337 A*02:470-337\n",
       "1:            0            0            0            0            0\n",
       "2:            0            0            0            0            0\n",
       "3:           NA           NA           NA           NA           NA\n",
       "4:           NA           NA           NA           NA           NA\n",
       "5:           NA           NA           NA           NA           NA\n",
       "6:           NA           NA           NA           NA           NA\n",
       "   A*02:471-337 A*02:472-337 A*02:473-337 A*02:474-337 A*02:475-337\n",
       "1:            0            0            0            0            0\n",
       "2:            0            0            0            0            0\n",
       "3:           NA           NA           NA           NA           NA\n",
       "4:            0            0           NA           NA           NA\n",
       "5:           NA           NA            0            0           NA\n",
       "6:            0            0           NA           NA           NA\n",
       "   A*02:477-337 A*02:478-337 A*02:479-337 A*02:48-365 A*02:480-337 A*02:481-273\n",
       "1:            0            0            0           0            0            0\n",
       "2:            0            0            0           0            0            0\n",
       "3:           NA           NA           NA          NA            0           NA\n",
       "4:           NA           NA            0           0           NA           NA\n",
       "5:            0            0           NA          NA           NA           NA\n",
       "6:           NA           NA            0           0           NA           NA\n",
       "   A*02:482-273 A*02:488-273 A*02:493-337 A*02:506N-262 A*02:509-273\n",
       "1:            0            0            0             0            0\n",
       "2:            0            0            0             0            0\n",
       "3:           NA           NA           NA             0           NA\n",
       "4:           NA           NA            0            NA           NA\n",
       "5:           NA           NA           NA            NA           NA\n",
       "6:           NA           NA            0            NA           NA\n",
       "   A*02:51-365 A*02:512-273 A*02:523-340 A*02:524-340 A*02:526-340 A*02:533-365\n",
       "1:           0            0            0            0            0            0\n",
       "2:           0            0            0            0            0            0\n",
       "3:          NA           NA           NA           NA           NA           NA\n",
       "4:          NA           NA           NA           NA           NA           NA\n",
       "5:          NA           NA            0           NA            0           NA\n",
       "6:          NA           NA           NA           NA           NA           NA\n",
       "   A*02:534-340 A*02:535-340 A*02:537-340 A*02:538-273 A*02:539-273\n",
       "1:            0            0            0            0            0\n",
       "2:            0            0            0            0            0\n",
       "3:           NA           NA           NA            0           NA\n",
       "4:            0           NA           NA           NA           NA\n",
       "5:           NA           NA           NA           NA           NA\n",
       "6:            0           NA           NA           NA           NA\n",
       "   A*02:543-273 A*02:547-340 A*02:557-273 A*02:558-273 A*02:559-273 A*02:57-365\n",
       "1:            0            0            0            0            0           0\n",
       "2:            0            0            0            0            0           0\n",
       "3:           NA           NA            0           NA           NA          NA\n",
       "4:           NA           NA           NA           NA           NA          NA\n",
       "5:           NA           NA           NA            0           NA           0\n",
       "6:           NA           NA           NA           NA           NA          NA\n",
       "   A*02:59-273 A*02:590-337 A*02:60-365 A*02:61-273 A*02:64-365 A*02:66-289\n",
       "1:           0            0           0           0           0           0\n",
       "2:           0            0           0           0           0           0\n",
       "3:          NA           NA          NA          NA          NA           0\n",
       "4:          NA           NA          NA          NA          NA          NA\n",
       "5:          NA           NA          NA          NA          NA          NA\n",
       "6:          NA           NA          NA          NA          NA          NA\n",
       "   A*02:67-270 A*02:68-365 A*02:70-273 A*02:71-273 A*02:72-273 A*02:73-273\n",
       "1:           0           0           0           0           0           0\n",
       "2:           0           0           0           0           0           0\n",
       "3:          NA          NA          NA          NA          NA          NA\n",
       "4:          NA          NA          NA          NA          NA          NA\n",
       "5:          NA          NA          NA          NA          NA           0\n",
       "6:          NA          NA          NA          NA          NA          NA\n",
       "   A*02:74-273 A*02:75-273 A*02:76-273 A*02:77-365 A*02:79-365 A*02:80-273\n",
       "1:           0           0           0           0           0           0\n",
       "2:           0           0           0           0           0           0\n",
       "3:          NA           0          NA          NA          NA          NA\n",
       "4:          NA          NA          NA          NA          NA          NA\n",
       "5:          NA          NA          NA          NA          NA          NA\n",
       "6:          NA          NA          NA          NA          NA          NA\n",
       "   A*02:81-365 A*02:84-282 A*02:85-273 A*02:87-273 A*02:89-365 A*02:90-273\n",
       "1:           0           0           0           0           0           0\n",
       "2:           0           0           0           0           0           0\n",
       "3:          NA          NA          NA          NA           0          NA\n",
       "4:           0          NA          NA           0          NA           0\n",
       "5:          NA           0          NA          NA          NA          NA\n",
       "6:           0          NA          NA           0          NA           0\n",
       "   A*02:95-365 A*02:96-273 A*02:97-273 A*03:01-365 A*03:01:01:02N-319\n",
       "1:           0           0           0          NA                 NA\n",
       "2:           0           0           0          NA                 NA\n",
       "3:          NA          NA           0           0                  0\n",
       "4:          NA           0          NA           0                  0\n",
       "5:           0           0          NA           0                  0\n",
       "6:          NA           0          NA           0                  0\n",
       "   A*03:02-365 A*03:03N-363 A*03:04-365 A*03:05-285 A*03:107-340 A*03:112-273\n",
       "1:           0           NA           0           0           NA           NA\n",
       "2:          NA           NA          NA          NA            0           NA\n",
       "3:           0            0           0           0            0            0\n",
       "4:           0            0           0           0            0            0\n",
       "5:           0            0           0           0            0            0\n",
       "6:           0            0           0           0            0            0\n",
       "   A*03:118-273 A*03:12-318 A*03:131-273 A*03:132-273 A*03:134-365 A*03:143-273\n",
       "1:           NA          NA           NA           NA           NA           NA\n",
       "2:           NA          NA           NA           NA           NA           NA\n",
       "3:            0           0            0            0            0            0\n",
       "4:            0           0            0            0            0            0\n",
       "5:            0           0            0            0            0            0\n",
       "6:            0           0            0            0            0            0\n",
       "   A*03:159-273 A*03:17-298 A*03:175-337 A*03:181-273 A*03:182-337 A*03:193-340\n",
       "1:           NA          NA            0           NA           NA           NA\n",
       "2:           NA          NA           NA            0           NA           NA\n",
       "3:            0           0            0            0            0            0\n",
       "4:            0           0            0            0            0            0\n",
       "5:            0           0            0            0            0            0\n",
       "6:            0           0            0            0            0            0\n",
       "   A*03:195-340 A*03:196-340 A*03:20-273 A*03:200Q-339 A*03:204-340\n",
       "1:           NA           NA          NA             0           NA\n",
       "2:           NA           NA          NA            NA           NA\n",
       "3:            0            0           0             0            0\n",
       "4:            0            0           0             0            0\n",
       "5:            0            0           0             0            0\n",
       "6:            0            0           0             0            0\n",
       "   A*03:213-365 A*03:218-365 A*03:220-273 A*03:223-340 A*03:224-365\n",
       "1:           NA            0           NA            0           NA\n",
       "2:           NA           NA           NA           NA           NA\n",
       "3:            0            0            0            0            0\n",
       "4:            0            0            0            0            0\n",
       "5:            0            0            0            0            0\n",
       "6:            0            0            0            0            0\n",
       "   A*03:225-365 A*03:227-312 A*03:229-273 A*03:231-365 A*03:234Q-361\n",
       "1:            0           NA            0           NA            NA\n",
       "2:           NA           NA           NA           NA            NA\n",
       "3:            0            0            0            0             0\n",
       "4:            0            0            0            0             0\n",
       "5:            0            0            0            0             0\n",
       "6:            0            0            0            0             0\n",
       "   A*03:26-365 A*03:35-273 A*03:36N-356 A*03:37-337 A*03:39-365 A*03:42-273\n",
       "1:          NA          NA           NA          NA          NA           0\n",
       "2:          NA          NA            0          NA          NA          NA\n",
       "3:           0           0            0           0           0           0\n",
       "4:           0           0            0           0           0           0\n",
       "5:           0           0            0           0           0           0\n",
       "6:           0           0            0           0           0           0\n",
       "   A*03:43-273 A*03:44-273 A*03:45-273 A*03:48-340 A*03:55-273 A*03:72-273\n",
       "1:          NA          NA          NA          NA          NA          NA\n",
       "2:          NA          NA          NA          NA           0          NA\n",
       "3:           0           0           0           0           0           0\n",
       "4:           0           0           0           0           0           0\n",
       "5:           0           0           0           0           0           0\n",
       "6:           0           0           0           0           0           0\n",
       "   A*03:77-365 A*03:78-365 A*03:89-365 A*11:25-365 A*30:89-365 A*69:01-365\n",
       "1:          NA          NA          NA           0          NA           0\n",
       "2:          NA          NA           0           0           0           0\n",
       "3:           0           0           0           0           0          NA\n",
       "4:           0           0          NA           0           0           0\n",
       "5:           0           0           0           0           0          NA\n",
       "6:           0           0          NA           0           0           0"
      ]
     },
     "execution_count": 28,
     "metadata": {},
     "output_type": "execute_result"
    }
   ],
   "source": [
    "head(am)"
   ]
  },
  {
   "cell_type": "code",
   "execution_count": 26,
   "metadata": {
    "collapsed": false
   },
   "outputs": [
    {
     "data": {
      "text/html": [
       "<dl class=dl-horizontal>\n",
       "</dl>\n"
      ],
      "text/latex": [
       "\\begin{description*}\n",
       "\\end{description*}\n"
      ],
      "text/markdown": [
       "\n",
       "\n"
      ],
      "text/plain": [
       "named numeric(0)"
      ]
     },
     "execution_count": 26,
     "metadata": {},
     "output_type": "execute_result"
    }
   ],
   "source": [
    "tail(sort(colSums(am)), 50)"
   ]
  },
  {
   "cell_type": "code",
   "execution_count": 27,
   "metadata": {
    "collapsed": false
   },
   "outputs": [
    {
     "data": {
      "text/plain": [
       "[1] NA"
      ]
     },
     "execution_count": 27,
     "metadata": {},
     "output_type": "execute_result"
    }
   ],
   "source": [
    "sum(pmax((am[, 'A*03:01-365', with = F] + am[, 'A*02:01-365', with = F])))"
   ]
  },
  {
   "cell_type": "code",
   "execution_count": 30,
   "metadata": {
    "collapsed": false
   },
   "outputs": [
    {
     "data": {
      "text/html": [
       "11919"
      ],
      "text/latex": [
       "11919"
      ],
      "text/markdown": [
       "11919"
      ],
      "text/plain": [
       "[1] 11919"
      ]
     },
     "execution_count": 30,
     "metadata": {},
     "output_type": "execute_result"
    }
   ],
   "source": [
    "sum(pmax((am[, 'A*03:26-365', with = F] + am[, 'A*02:96-273', with = F])))"
   ]
  },
  {
   "cell_type": "code",
   "execution_count": 31,
   "metadata": {
    "collapsed": false
   },
   "outputs": [
    {
     "data": {
      "text/html": [
       "11722"
      ],
      "text/latex": [
       "11722"
      ],
      "text/markdown": [
       "11722"
      ],
      "text/plain": [
       "[1] 11722"
      ]
     },
     "execution_count": 31,
     "metadata": {},
     "output_type": "execute_result"
    }
   ],
   "source": [
    "sum(pmax((am[, 'A*03:26-365', with = F] + am[, 'A*02:01-365', with = F])))"
   ]
  },
  {
   "cell_type": "code",
   "execution_count": 26,
   "metadata": {
    "collapsed": false
   },
   "outputs": [
    {
     "data": {
      "text/html": [
       "11603"
      ],
      "text/latex": [
       "11603"
      ],
      "text/markdown": [
       "11603"
      ],
      "text/plain": [
       "[1] 11603"
      ]
     },
     "execution_count": 26,
     "metadata": {},
     "output_type": "execute_result"
    }
   ],
   "source": [
    "sum(pmax((am[, 'A*03:89-365', with = F] + am[, 'A*02:01-365', with = F])))"
   ]
  },
  {
   "cell_type": "code",
   "execution_count": 18,
   "metadata": {
    "collapsed": false
   },
   "outputs": [
    {
     "data": {
      "text/html": [
       "0.859424920127795"
      ],
      "text/latex": [
       "0.859424920127795"
      ],
      "text/markdown": [
       "0.859424920127795"
      ],
      "text/plain": [
       "[1] 0.8594249"
      ]
     },
     "execution_count": 18,
     "metadata": {},
     "output_type": "execute_result"
    }
   ],
   "source": [
    "sum((am[, 'A*03:26-365', with = F] + am[, 'A*02:01-365', with = F]) > 0) / nrow(am)"
   ]
  },
  {
   "cell_type": "code",
   "execution_count": 19,
   "metadata": {
    "collapsed": false
   },
   "outputs": [
    {
     "data": {
      "text/html": [
       "0.779552715654952"
      ],
      "text/latex": [
       "0.779552715654952"
      ],
      "text/markdown": [
       "0.779552715654952"
      ],
      "text/plain": [
       "[1] 0.7795527"
      ]
     },
     "execution_count": 19,
     "metadata": {},
     "output_type": "execute_result"
    }
   ],
   "source": [
    "sum((am[, 'A*03:89-365', with = F] + am[, 'A*02:01-365', with = F]) > 0) / nrow(am)"
   ]
  },
  {
   "cell_type": "code",
   "execution_count": 20,
   "metadata": {
    "collapsed": false
   },
   "outputs": [
    {
     "data": {
      "text/html": [
       "0.600638977635783"
      ],
      "text/latex": [
       "0.600638977635783"
      ],
      "text/markdown": [
       "0.600638977635783"
      ],
      "text/plain": [
       "[1] 0.600639"
      ]
     },
     "execution_count": 20,
     "metadata": {},
     "output_type": "execute_result"
    }
   ],
   "source": [
    "sum((am[, 'A*03:26-365', with = F] + am[, 'A*03:77-365', with = F]) > 0) / nrow(am)"
   ]
  },
  {
   "cell_type": "code",
   "execution_count": 18,
   "metadata": {
    "collapsed": false
   },
   "outputs": [],
   "source": [
    "nr <- nrow(am)\n",
    "am <- data.frame(am)\n",
    "pairs <- mclapply(combn(colnames(am), 2, simplify = F), function(pair) sum((am[, pair[1]] + am[, pair[2]]) > 0) / nr)"
   ]
  },
  {
   "cell_type": "code",
   "execution_count": 153,
   "metadata": {
    "collapsed": false
   },
   "outputs": [
    {
     "data": {
      "text/html": [
       "\n",
       "<table width=\"100%\" summary=\"page for combn {utils}\"><tr><td>combn {utils}</td><td style=\"text-align: right;\">R Documentation</td></tr></table>\n",
       "\n",
       "<h2>Generate All Combinations of n Elements, Taken m at a Time</h2>\n",
       "\n",
       "<h3>Description</h3>\n",
       "\n",
       "<p>Generate all combinations of the elements of <code>x</code> taken <code>m</code>\n",
       "at a time.  If <code>x</code> is a positive integer, returns all\n",
       "combinations of the elements of <code>seq(x)</code> taken <code>m</code> at a\n",
       "time.  If argument <code>FUN</code> is not <code>NULL</code>, applies a function given\n",
       "by the argument to each point.  If simplify is FALSE,  returns\n",
       "a list; otherwise returns an <code>array</code>, typically a\n",
       "<code>matrix</code>.  <code>...</code> are passed unchanged to the\n",
       "<code>FUN</code> function, if specified.\n",
       "</p>\n",
       "\n",
       "\n",
       "<h3>Usage</h3>\n",
       "\n",
       "<pre>\n",
       "combn(x, m, FUN = NULL, simplify = TRUE, ...)\n",
       "</pre>\n",
       "\n",
       "\n",
       "<h3>Arguments</h3>\n",
       "\n",
       "<table summary=\"R argblock\">\n",
       "<tr valign=\"top\"><td><code>x</code></td>\n",
       "<td>\n",
       "<p>vector source for combinations, or integer <code>n</code> for\n",
       "<code>x &lt;- seq_len(n)</code>.</p>\n",
       "</td></tr>\n",
       "<tr valign=\"top\"><td><code>m</code></td>\n",
       "<td>\n",
       "<p>number of elements to choose.</p>\n",
       "</td></tr>\n",
       "<tr valign=\"top\"><td><code>FUN</code></td>\n",
       "<td>\n",
       "<p>function to be applied to each combination; default\n",
       "<code>NULL</code> means the identity, i.e., to return the combination\n",
       "(vector of length <code>m</code>).</p>\n",
       "</td></tr>\n",
       "<tr valign=\"top\"><td><code>simplify</code></td>\n",
       "<td>\n",
       "<p>logical indicating if the result should be simplified\n",
       "to an <code>array</code> (typically a <code>matrix</code>); if\n",
       "FALSE, the function returns a <code>list</code>.  Note that when\n",
       "<code>simplify = TRUE</code> as by default, the dimension of the result is\n",
       "simply determined from <code>FUN(<var>1st combination</var>)</code> (for\n",
       "efficiency reasons).  This will badly fail if <code>FUN(u)</code> is not of\n",
       "constant length.</p>\n",
       "</td></tr>\n",
       "<tr valign=\"top\"><td><code>...</code></td>\n",
       "<td>\n",
       "<p>optionally, further arguments to <code>FUN</code>.</p>\n",
       "</td></tr>\n",
       "</table>\n",
       "\n",
       "\n",
       "<h3>Details</h3>\n",
       "\n",
       "<p>Factors <code>x</code> are accepted from <span style=\"font-family: Courier New, Courier; color: #666666;\"><b>R</b></span> 3.1.0 (although coincidentally\n",
       "they worked for <code>simplify = FALSE</code> in earlier versions).\n",
       "</p>\n",
       "\n",
       "\n",
       "<h3>Value</h3>\n",
       "\n",
       "<p>a <code>list</code> or <code>array</code>, see the <code>simplify</code>\n",
       "argument above.  In the latter case, the identity\n",
       "<code>dim(combn(n, m)) == c(m, choose(n, m))</code> holds.\n",
       "</p>\n",
       "\n",
       "\n",
       "<h3>Author(s)</h3>\n",
       "\n",
       "<p>Scott Chasalow wrote the original in 1994 for S;\n",
       "R package <a href=\"http://CRAN.R-project.org/package=combinat\"><span class=\"pkg\">combinat</span></a> and documentation by Vince Carey\n",
       "<a href=\"mailto:stvjc@channing.harvard.edu\">stvjc@channing.harvard.edu</a>;\n",
       "small changes by the R core team, notably to return an array in all\n",
       "cases of <code>simplify = TRUE</code>, e.g., for <code>combn(5,5)</code>.\n",
       "</p>\n",
       "\n",
       "\n",
       "<h3>References</h3>\n",
       "\n",
       "<p>Nijenhuis, A. and Wilf, H.S. (1978)\n",
       "<em>Combinatorial Algorithms for Computers and Calculators</em>;\n",
       "Academic Press, NY.\n",
       "</p>\n",
       "\n",
       "\n",
       "<h3>See Also</h3>\n",
       "\n",
       "<p><code>choose</code> for fast computation of the <em>number</em> of\n",
       "combinations. <code>expand.grid</code> for creating a data frame from\n",
       "all combinations of factors or vectors.\n",
       "</p>\n",
       "\n",
       "\n",
       "<h3>Examples</h3>\n",
       "\n",
       "<pre>\n",
       "combn(letters[1:4], 2)\n",
       "(m &lt;- combn(10, 5, min))   # minimum value in each combination\n",
       "mm &lt;- combn(15, 6, function(x) matrix(x, 2, 3))\n",
       "stopifnot(round(choose(10, 5)) == length(m),\n",
       "          c(2,3, round(choose(15, 6))) == dim(mm))\n",
       "\n",
       "## Different way of encoding points:\n",
       "combn(c(1,1,1,1,2,2,2,3,3,4), 3, tabulate, nbins = 4)\n",
       "\n",
       "## Compute support points and (scaled) probabilities for a\n",
       "## Multivariate-Hypergeometric(n = 3, N = c(4,3,2,1)) p.f.:\n",
       "# table.mat(t(combn(c(1,1,1,1,2,2,2,3,3,4), 3, tabulate, nbins = 4)))\n",
       "\n",
       "## Assuring the identity\n",
       "for(n in 1:7)\n",
       " for(m in 0:n) stopifnot(is.array(cc &lt;- combn(n, m)),\n",
       "                         dim(cc) == c(m, choose(n, m)))\n",
       "</pre>\n",
       "\n",
       "<hr /><div style=\"text-align: center;\">[Package <em>utils</em> version 3.2.1 ]</div>"
      ],
      "text/latex": [
       "\\inputencoding{utf8}\n",
       "\\HeaderA{combn}{Generate All Combinations of n Elements, Taken m at a Time}{combn}\n",
       "\\keyword{utilities}{combn}\n",
       "\\keyword{iteration}{combn}\n",
       "%\n",
       "\\begin{Description}\\relax\n",
       "Generate all combinations of the elements of \\code{x} taken \\code{m}\n",
       "at a time.  If \\code{x} is a positive integer, returns all\n",
       "combinations of the elements of \\code{seq(x)} taken \\code{m} at a\n",
       "time.  If argument \\code{FUN} is not \\code{NULL}, applies a function given\n",
       "by the argument to each point.  If simplify is FALSE,  returns\n",
       "a list; otherwise returns an \\code{\\LinkA{array}{array}}, typically a\n",
       "\\code{\\LinkA{matrix}{matrix}}.  \\code{...} are passed unchanged to the\n",
       "\\code{FUN} function, if specified.\n",
       "\\end{Description}\n",
       "%\n",
       "\\begin{Usage}\n",
       "\\begin{verbatim}\n",
       "combn(x, m, FUN = NULL, simplify = TRUE, ...)\n",
       "\\end{verbatim}\n",
       "\\end{Usage}\n",
       "%\n",
       "\\begin{Arguments}\n",
       "\\begin{ldescription}\n",
       "\\item[\\code{x}] vector source for combinations, or integer \\code{n} for\n",
       "\\code{x <- \\LinkA{seq\\_len}{seq.Rul.len}(n)}.\n",
       "\\item[\\code{m}] number of elements to choose.\n",
       "\\item[\\code{FUN}] function to be applied to each combination; default\n",
       "\\code{NULL} means the identity, i.e., to return the combination\n",
       "(vector of length \\code{m}).\n",
       "\\item[\\code{simplify}] logical indicating if the result should be simplified\n",
       "to an \\code{\\LinkA{array}{array}} (typically a \\code{\\LinkA{matrix}{matrix}}); if\n",
       "FALSE, the function returns a \\code{\\LinkA{list}{list}}.  Note that when\n",
       "\\code{simplify = TRUE} as by default, the dimension of the result is\n",
       "simply determined from \\code{FUN(\\var{1st combination})} (for\n",
       "efficiency reasons).  This will badly fail if \\code{FUN(u)} is not of\n",
       "constant length.\n",
       "\\item[\\code{...}] optionally, further arguments to \\code{FUN}.\n",
       "\\end{ldescription}\n",
       "\\end{Arguments}\n",
       "%\n",
       "\\begin{Details}\\relax\n",
       "Factors \\code{x} are accepted from \\R{} 3.1.0 (although coincidentally\n",
       "they worked for \\code{simplify = FALSE} in earlier versions).\n",
       "\\end{Details}\n",
       "%\n",
       "\\begin{Value}\n",
       "a \\code{\\LinkA{list}{list}} or \\code{\\LinkA{array}{array}}, see the \\code{simplify}\n",
       "argument above.  In the latter case, the identity\n",
       "\\code{dim(combn(n, m)) == c(m, choose(n, m))} holds.\n",
       "\\end{Value}\n",
       "%\n",
       "\\begin{Author}\\relax\n",
       "Scott Chasalow wrote the original in 1994 for S;\n",
       "R package \\Rhref{http://CRAN.R-project.org/package=combinat}{\\pkg{combinat}} and documentation by Vince Carey\n",
       "\\email{stvjc@channing.harvard.edu};\n",
       "small changes by the R core team, notably to return an array in all\n",
       "cases of \\code{simplify = TRUE}, e.g., for \\code{combn(5,5)}.\n",
       "\\end{Author}\n",
       "%\n",
       "\\begin{References}\\relax\n",
       "Nijenhuis, A. and Wilf, H.S. (1978)\n",
       "\\emph{Combinatorial Algorithms for Computers and Calculators};\n",
       "Academic Press, NY.\n",
       "\\end{References}\n",
       "%\n",
       "\\begin{SeeAlso}\\relax\n",
       "\\code{\\LinkA{choose}{choose}} for fast computation of the \\emph{number} of\n",
       "combinations. \\code{\\LinkA{expand.grid}{expand.grid}} for creating a data frame from\n",
       "all combinations of factors or vectors.\n",
       "\\end{SeeAlso}\n",
       "%\n",
       "\\begin{Examples}\n",
       "\\begin{ExampleCode}\n",
       "combn(letters[1:4], 2)\n",
       "(m <- combn(10, 5, min))   # minimum value in each combination\n",
       "mm <- combn(15, 6, function(x) matrix(x, 2, 3))\n",
       "stopifnot(round(choose(10, 5)) == length(m),\n",
       "          c(2,3, round(choose(15, 6))) == dim(mm))\n",
       "\n",
       "## Different way of encoding points:\n",
       "combn(c(1,1,1,1,2,2,2,3,3,4), 3, tabulate, nbins = 4)\n",
       "\n",
       "## Compute support points and (scaled) probabilities for a\n",
       "## Multivariate-Hypergeometric(n = 3, N = c(4,3,2,1)) p.f.:\n",
       "# table.mat(t(combn(c(1,1,1,1,2,2,2,3,3,4), 3, tabulate, nbins = 4)))\n",
       "\n",
       "## Assuring the identity\n",
       "for(n in 1:7)\n",
       " for(m in 0:n) stopifnot(is.array(cc <- combn(n, m)),\n",
       "                         dim(cc) == c(m, choose(n, m)))\n",
       "\\end{ExampleCode}\n",
       "\\end{Examples}"
      ],
      "text/plain": [
       "combn                  package:utils                   R Documentation\n",
       "\n",
       "_\bG_\be_\bn_\be_\br_\ba_\bt_\be _\bA_\bl_\bl _\bC_\bo_\bm_\bb_\bi_\bn_\ba_\bt_\bi_\bo_\bn_\bs _\bo_\bf _\bn _\bE_\bl_\be_\bm_\be_\bn_\bt_\bs, _\bT_\ba_\bk_\be_\bn _\bm _\ba_\bt _\ba _\bT_\bi_\bm_\be\n",
       "\n",
       "_\bD_\be_\bs_\bc_\br_\bi_\bp_\bt_\bi_\bo_\bn:\n",
       "\n",
       "     Generate all combinations of the elements of ‘x’ taken ‘m’ at a\n",
       "     time.  If ‘x’ is a positive integer, returns all combinations of\n",
       "     the elements of ‘seq(x)’ taken ‘m’ at a time.  If argument ‘FUN’\n",
       "     is not ‘NULL’, applies a function given by the argument to each\n",
       "     point.  If simplify is FALSE, returns a list; otherwise returns an\n",
       "     ‘array’, typically a ‘matrix’.  ‘...’ are passed unchanged to the\n",
       "     ‘FUN’ function, if specified.\n",
       "\n",
       "_\bU_\bs_\ba_\bg_\be:\n",
       "\n",
       "     combn(x, m, FUN = NULL, simplify = TRUE, ...)\n",
       "     \n",
       "_\bA_\br_\bg_\bu_\bm_\be_\bn_\bt_\bs:\n",
       "\n",
       "       x: vector source for combinations, or integer ‘n’ for ‘x <-\n",
       "          seq_len(n)’.\n",
       "\n",
       "       m: number of elements to choose.\n",
       "\n",
       "     FUN: function to be applied to each combination; default ‘NULL’\n",
       "          means the identity, i.e., to return the combination (vector\n",
       "          of length ‘m’).\n",
       "\n",
       "simplify: logical indicating if the result should be simplified to an\n",
       "          ‘array’ (typically a ‘matrix’); if FALSE, the function\n",
       "          returns a ‘list’.  Note that when ‘simplify = TRUE’ as by\n",
       "          default, the dimension of the result is simply determined\n",
       "          from ‘FUN(1st combination)’ (for efficiency reasons).  This\n",
       "          will badly fail if ‘FUN(u)’ is not of constant length.\n",
       "\n",
       "     ...: optionally, further arguments to ‘FUN’.\n",
       "\n",
       "_\bD_\be_\bt_\ba_\bi_\bl_\bs:\n",
       "\n",
       "     Factors ‘x’ are accepted from R 3.1.0 (although coincidentally\n",
       "     they worked for ‘simplify = FALSE’ in earlier versions).\n",
       "\n",
       "_\bV_\ba_\bl_\bu_\be:\n",
       "\n",
       "     a ‘list’ or ‘array’, see the ‘simplify’ argument above.  In the\n",
       "     latter case, the identity ‘dim(combn(n, m)) == c(m, choose(n, m))’\n",
       "     holds.\n",
       "\n",
       "_\bA_\bu_\bt_\bh_\bo_\br(_\bs):\n",
       "\n",
       "     Scott Chasalow wrote the original in 1994 for S; R package\n",
       "     ‘combinat’ and documentation by Vince Carey <email:\n",
       "     stvjc@channing.harvard.edu>; small changes by the R core team,\n",
       "     notably to return an array in all cases of ‘simplify = TRUE’,\n",
       "     e.g., for ‘combn(5,5)’.\n",
       "\n",
       "_\bR_\be_\bf_\be_\br_\be_\bn_\bc_\be_\bs:\n",
       "\n",
       "     Nijenhuis, A. and Wilf, H.S. (1978) _Combinatorial Algorithms for\n",
       "     Computers and Calculators_; Academic Press, NY.\n",
       "\n",
       "_\bS_\be_\be _\bA_\bl_\bs_\bo:\n",
       "\n",
       "     ‘choose’ for fast computation of the _number_ of combinations.\n",
       "     ‘expand.grid’ for creating a data frame from all combinations of\n",
       "     factors or vectors.\n",
       "\n",
       "_\bE_\bx_\ba_\bm_\bp_\bl_\be_\bs:\n",
       "\n",
       "     combn(letters[1:4], 2)\n",
       "     (m <- combn(10, 5, min))   # minimum value in each combination\n",
       "     mm <- combn(15, 6, function(x) matrix(x, 2, 3))\n",
       "     stopifnot(round(choose(10, 5)) == length(m),\n",
       "               c(2,3, round(choose(15, 6))) == dim(mm))\n",
       "     \n",
       "     ## Different way of encoding points:\n",
       "     combn(c(1,1,1,1,2,2,2,3,3,4), 3, tabulate, nbins = 4)\n",
       "     \n",
       "     ## Compute support points and (scaled) probabilities for a\n",
       "     ## Multivariate-Hypergeometric(n = 3, N = c(4,3,2,1)) p.f.:\n",
       "     # table.mat(t(combn(c(1,1,1,1,2,2,2,3,3,4), 3, tabulate, nbins = 4)))\n",
       "     \n",
       "     ## Assuring the identity\n",
       "     for(n in 1:7)\n",
       "      for(m in 0:n) stopifnot(is.array(cc <- combn(n, m)),\n",
       "                              dim(cc) == c(m, choose(n, m)))\n",
       "     "
      ]
     },
     "execution_count": 153,
     "metadata": {},
     "output_type": "execute_result"
    }
   ],
   "source": [
    "?combn"
   ]
  },
  {
   "cell_type": "code",
   "execution_count": null,
   "metadata": {
    "collapsed": true
   },
   "outputs": [],
   "source": []
  }
 ],
 "metadata": {
  "kernelspec": {
   "display_name": "R",
   "language": "R",
   "name": "ir"
  },
  "language_info": {
   "codemirror_mode": "r",
   "file_extension": ".r",
   "mimetype": "text/x-r-source",
   "name": "R",
   "pygments_lexer": "r",
   "version": "3.2.1"
  }
 },
 "nbformat": 4,
 "nbformat_minor": 0
}
