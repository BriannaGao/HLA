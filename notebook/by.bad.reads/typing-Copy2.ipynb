{
 "cells": [
  {
   "cell_type": "code",
   "execution_count": 2,
   "metadata": {
    "collapsed": false
   },
   "outputs": [],
   "source": [
    "library(data.table)\n",
    "library(IRanges)"
   ]
  },
  {
   "cell_type": "code",
   "execution_count": 3,
   "metadata": {
    "collapsed": true
   },
   "outputs": [],
   "source": [
    "library(parallel)\n",
    "options(mc.cores = detectCores())"
   ]
  },
  {
   "cell_type": "code",
   "execution_count": 4,
   "metadata": {
    "collapsed": true
   },
   "outputs": [],
   "source": [
    "real <- c('A*02:01', 'A*03:01', 'B*13:02', 'B*51:01', 'C*01:02', 'C*06:02', 'DRB1*07:01', 'DRB1*11:01', 'DQB1*02:AB', 'DQB1*03:01', 'DPB1*02:01', 'DPB1*02:01')"
   ]
  },
  {
   "cell_type": "code",
   "execution_count": 48,
   "metadata": {
    "collapsed": false
   },
   "outputs": [
    {
     "name": "stdout",
     "output_type": "stream",
     "text": [
      "\r",
      "Read 25.7% of 5846112 rows\r",
      "Read 44.3% of 5846112 rows\r",
      "Read 63.1% of 5846112 rows\r",
      "Read 81.8% of 5846112 rows\r",
      "Read 5846112 rows and 12 (of 12) columns from 0.421 GB file in 00:00:07\n"
     ]
    }
   ],
   "source": [
    "dt <- fread('187521910.m8')"
   ]
  },
  {
   "cell_type": "code",
   "execution_count": 49,
   "metadata": {
    "collapsed": false
   },
   "outputs": [],
   "source": [
    "setnames(dt, c('q', 't', 'iden', 'len', 'mis', 'gap', 'qf', 'qt', 'tf', 'tt', 'e', 'score'))\n",
    "#dt <- dt[iden == 100]\n",
    "tt <- dt[, gene := sub('\\\\*.+', '', t)]\n",
    "setkey(dt, q)"
   ]
  },
  {
   "cell_type": "code",
   "execution_count": 50,
   "metadata": {
    "collapsed": false
   },
   "outputs": [],
   "source": [
    "nexpr <- dt[grepl('\\\\D-', t)]\n",
    "dt <- dt[grepl('\\\\d-', t)]\n",
    "tt <- dt[, c('LEN', 'GOOD', 'GOOD.N', 'BAD.N', 'N') := .(\n",
    "    max(len), \n",
    "    paste(unique(gene[len == max(len)]), collapse = ','),\n",
    "    sum(len == max(len) & iden == 100),\n",
    "    sum(len < max(len) | iden < 100),\n",
    "    .N)\n",
    ", by = q]"
   ]
  },
  {
   "cell_type": "code",
   "execution_count": 195,
   "metadata": {
    "collapsed": true
   },
   "outputs": [],
   "source": [
    "good <- dt[len == LEN & iden == 100]\n",
    "tt <- good[, pure := gene == GOOD]\n",
    "dt <- dt[q %in% good$q]\n",
    "bad <- dt[len < LEN | iden < 100]"
   ]
  },
  {
   "cell_type": "code",
   "execution_count": 165,
   "metadata": {
    "collapsed": true
   },
   "outputs": [],
   "source": [
    "ir.score <- function(tf, tt){\n",
    "    ir <- reduce(IRanges(tf, tt), min.gapwidth = 0)\n",
    "    return(list(\n",
    "        nreads = length(tf),\n",
    "        cov = sum(width(ir)),\n",
    "        nseg = length(ir),\n",
    "        nbreaks = sum(width(gaps(ir - 1)) == 2)\n",
    "    ))\n",
    "}"
   ]
  },
  {
   "cell_type": "code",
   "execution_count": 166,
   "metadata": {
    "collapsed": false
   },
   "outputs": [],
   "source": [
    "ir1 <- good[, ir.score(tf, tt), keyby = t]\n",
    "ir2 <- good[pure==T, ir.score(tf, tt), keyby = t]\n",
    "setnames(ir2, c('t', 'nreads2', 'cov2', 'nseg2', 'nbreaks2'))\n",
    "score <- ir2[ir1][order(-cov)]"
   ]
  },
  {
   "cell_type": "code",
   "execution_count": 237,
   "metadata": {
    "collapsed": false
   },
   "outputs": [],
   "source": [
    "get.bad <- function(g){\n",
    "    bad.score <- bad[gene == g & grepl(sprintf('^%s', g), GOOD), ir.score(tf, tt), keyby = t]\n",
    "    setnames(bad.score, c('t', 'bad.nreads', 'bad.cov', 'bad.nseg', 'bad.nbreaks'))\n",
    "    bad.score <- bad.score[score[grepl(sprintf(\"^%s\", g), t)]][order(-cov)]\n",
    "    return(bad.score)\n",
    "}\n",
    "bad.reads <- function(bad, hla){\n",
    "    dt[q %in% bad[t == hla, q]]\n",
    "}"
   ]
  },
  {
   "cell_type": "code",
   "execution_count": 219,
   "metadata": {
    "collapsed": false
   },
   "outputs": [
    {
     "data": {
      "text/html": [
       "<table>\n",
       "<thead><tr><th></th><th scope=col>t</th><th scope=col>bad.nreads</th><th scope=col>bad.cov</th><th scope=col>bad.nseg</th><th scope=col>bad.nbreaks</th><th scope=col>nreads2</th><th scope=col>cov2</th><th scope=col>nseg2</th><th scope=col>nbreaks2</th><th scope=col>nreads</th><th scope=col>cov</th><th scope=col>nseg</th><th scope=col>nbreaks</th></tr></thead>\n",
       "<tbody>\n",
       "\t<tr><th scope=row>1</th><td>A*03:01-365</td><td>50</td><td>286</td><td>3</td><td>0</td><td>34</td><td>153</td><td>1</td><td>0</td><td>147</td><td>296</td><td>3</td><td>0</td></tr>\n",
       "\t<tr><th scope=row>2</th><td>A*03:89-365</td><td>50</td><td>279</td><td>4</td><td>0</td><td>30</td><td>144</td><td>1</td><td>0</td><td>148</td><td>296</td><td>3</td><td>0</td></tr>\n",
       "\t<tr><th scope=row>3</th><td>A*03:26-365</td><td>51</td><td>286</td><td>3</td><td>0</td><td>34</td><td>153</td><td>1</td><td>0</td><td>146</td><td>294</td><td>3</td><td>0</td></tr>\n",
       "\t<tr><th scope=row>4</th><td>A*02:01-365</td><td>91</td><td>254</td><td>5</td><td>0</td><td>54</td><td>247</td><td>3</td><td>0</td><td>107</td><td>297</td><td>2</td><td>0</td></tr>\n",
       "\t<tr><th scope=row>5</th><td>A*02:24-365</td><td>104</td><td>281</td><td>5</td><td>0</td><td>44</td><td>247</td><td>3</td><td>0</td><td>97</td><td>297</td><td>2</td><td>0</td></tr>\n",
       "\t<tr><th scope=row>6</th><td>A*02:249-365</td><td>105</td><td>261</td><td>4</td><td>0</td><td>45</td><td>223</td><td>3</td><td>0</td><td>93</td><td>296</td><td>3</td><td>0</td></tr>\n",
       "</tbody>\n",
       "</table>\n"
      ],
      "text/latex": [
       "\\begin{tabular}{r|lllllllllllll}\n",
       "  & t & bad.nreads & bad.cov & bad.nseg & bad.nbreaks & nreads2 & cov2 & nseg2 & nbreaks2 & nreads & cov & nseg & nbreaks\\\\\n",
       "\\hline\n",
       "\t1 & A*03:01-365 & 50 & 286 & 3 & 0 & 34 & 153 & 1 & 0 & 147 & 296 & 3 & 0\\\\\n",
       "\t2 & A*03:89-365 & 50 & 279 & 4 & 0 & 30 & 144 & 1 & 0 & 148 & 296 & 3 & 0\\\\\n",
       "\t3 & A*03:26-365 & 51 & 286 & 3 & 0 & 34 & 153 & 1 & 0 & 146 & 294 & 3 & 0\\\\\n",
       "\t4 & A*02:01-365 & 91 & 254 & 5 & 0 & 54 & 247 & 3 & 0 & 107 & 297 & 2 & 0\\\\\n",
       "\t5 & A*02:24-365 & 104 & 281 & 5 & 0 & 44 & 247 & 3 & 0 & 97 & 297 & 2 & 0\\\\\n",
       "\t6 & A*02:249-365 & 105 & 261 & 4 & 0 & 45 & 223 & 3 & 0 & 93 & 296 & 3 & 0\\\\\n",
       "\\end{tabular}\n"
      ],
      "text/plain": [
       "              t bad.nreads bad.cov bad.nseg bad.nbreaks nreads2 cov2 nseg2\n",
       "1:  A*03:01-365         50     286        3           0      34  153     1\n",
       "2:  A*03:89-365         50     279        4           0      30  144     1\n",
       "3:  A*03:26-365         51     286        3           0      34  153     1\n",
       "4:  A*02:01-365         91     254        5           0      54  247     3\n",
       "5:  A*02:24-365        104     281        5           0      44  247     3\n",
       "6: A*02:249-365        105     261        4           0      45  223     3\n",
       "   nbreaks2 nreads cov nseg nbreaks\n",
       "1:        0    147 296    3       0\n",
       "2:        0    148 296    3       0\n",
       "3:        0    146 294    3       0\n",
       "4:        0    107 297    2       0\n",
       "5:        0     97 297    2       0\n",
       "6:        0     93 296    3       0"
      ]
     },
     "execution_count": 219,
     "metadata": {},
     "output_type": "execute_result"
    }
   ],
   "source": [
    "head(get.bad('A')[order(bad.nreads/10-cov)])"
   ]
  },
  {
   "cell_type": "code",
   "execution_count": 210,
   "metadata": {
    "collapsed": false
   },
   "outputs": [
    {
     "data": {
      "text/html": [
       "<table>\n",
       "<thead><tr><th></th><th scope=col>t</th><th scope=col>bad.nreads</th><th scope=col>bad.cov</th><th scope=col>bad.nseg</th><th scope=col>bad.nbreaks</th><th scope=col>nreads2</th><th scope=col>cov2</th><th scope=col>nseg2</th><th scope=col>nbreaks2</th><th scope=col>nreads</th><th scope=col>cov</th><th scope=col>nseg</th><th scope=col>nbreaks</th></tr></thead>\n",
       "<tbody>\n",
       "\t<tr><th scope=row>1</th><td>B*51:01-362</td><td>54</td><td>237</td><td>2</td><td>0</td><td>17</td><td>151</td><td>3</td><td>0</td><td>80</td><td>297</td><td>2</td><td>0</td></tr>\n",
       "\t<tr><th scope=row>2</th><td>B*51:193-362</td><td>54</td><td>237</td><td>2</td><td>0</td><td>17</td><td>151</td><td>3</td><td>0</td><td>80</td><td>297</td><td>2</td><td>0</td></tr>\n",
       "\t<tr><th scope=row>3</th><td>B*51:96-337</td><td>53</td><td>227</td><td>2</td><td>0</td><td>16</td><td>129</td><td>2</td><td>0</td><td>79</td><td>295</td><td>2</td><td>0</td></tr>\n",
       "\t<tr><th scope=row>4</th><td>B*51:187-362</td><td>55</td><td>237</td><td>2</td><td>0</td><td>17</td><td>151</td><td>3</td><td>0</td><td>78</td><td>294</td><td>3</td><td>0</td></tr>\n",
       "\t<tr><th scope=row>5</th><td>B*51:04-362</td><td>47</td><td>237</td><td>2</td><td>0</td><td>8</td><td>99</td><td>3</td><td>0</td><td>71</td><td>291</td><td>3</td><td>0</td></tr>\n",
       "\t<tr><th scope=row>6</th><td>B*51:192-362</td><td>66</td><td>237</td><td>2</td><td>0</td><td>9</td><td>119</td><td>3</td><td>0</td><td>65</td><td>292</td><td>3</td><td>0</td></tr>\n",
       "</tbody>\n",
       "</table>\n"
      ],
      "text/latex": [
       "\\begin{tabular}{r|lllllllllllll}\n",
       "  & t & bad.nreads & bad.cov & bad.nseg & bad.nbreaks & nreads2 & cov2 & nseg2 & nbreaks2 & nreads & cov & nseg & nbreaks\\\\\n",
       "\\hline\n",
       "\t1 & B*51:01-362 & 54 & 237 & 2 & 0 & 17 & 151 & 3 & 0 & 80 & 297 & 2 & 0\\\\\n",
       "\t2 & B*51:193-362 & 54 & 237 & 2 & 0 & 17 & 151 & 3 & 0 & 80 & 297 & 2 & 0\\\\\n",
       "\t3 & B*51:96-337 & 53 & 227 & 2 & 0 & 16 & 129 & 2 & 0 & 79 & 295 & 2 & 0\\\\\n",
       "\t4 & B*51:187-362 & 55 & 237 & 2 & 0 & 17 & 151 & 3 & 0 & 78 & 294 & 3 & 0\\\\\n",
       "\t5 & B*51:04-362 & 47 & 237 & 2 & 0 & 8 & 99 & 3 & 0 & 71 & 291 & 3 & 0\\\\\n",
       "\t6 & B*51:192-362 & 66 & 237 & 2 & 0 & 9 & 119 & 3 & 0 & 65 & 292 & 3 & 0\\\\\n",
       "\\end{tabular}\n"
      ],
      "text/plain": [
       "              t bad.nreads bad.cov bad.nseg bad.nbreaks nreads2 cov2 nseg2\n",
       "1:  B*51:01-362         54     237        2           0      17  151     3\n",
       "2: B*51:193-362         54     237        2           0      17  151     3\n",
       "3:  B*51:96-337         53     227        2           0      16  129     2\n",
       "4: B*51:187-362         55     237        2           0      17  151     3\n",
       "5:  B*51:04-362         47     237        2           0       8   99     3\n",
       "6: B*51:192-362         66     237        2           0       9  119     3\n",
       "   nbreaks2 nreads cov nseg nbreaks\n",
       "1:        0     80 297    2       0\n",
       "2:        0     80 297    2       0\n",
       "3:        0     79 295    2       0\n",
       "4:        0     78 294    3       0\n",
       "5:        0     71 291    3       0\n",
       "6:        0     65 292    3       0"
      ]
     },
     "execution_count": 210,
     "metadata": {},
     "output_type": "execute_result"
    }
   ],
   "source": [
    "head(get.bad('B')[order(bad.nreads/10-cov)])"
   ]
  },
  {
   "cell_type": "code",
   "execution_count": 211,
   "metadata": {
    "collapsed": false
   },
   "outputs": [
    {
     "data": {
      "text/html": [
       "<table>\n",
       "<thead><tr><th></th><th scope=col>t</th><th scope=col>bad.nreads</th><th scope=col>bad.cov</th><th scope=col>bad.nseg</th><th scope=col>bad.nbreaks</th><th scope=col>nreads2</th><th scope=col>cov2</th><th scope=col>nseg2</th><th scope=col>nbreaks2</th><th scope=col>nreads</th><th scope=col>cov</th><th scope=col>nseg</th><th scope=col>nbreaks</th></tr></thead>\n",
       "<tbody>\n",
       "\t<tr><th scope=row>1</th><td>C*06:107-349</td><td>56</td><td>245</td><td>4</td><td>0</td><td>4</td><td>29</td><td>1</td><td>0</td><td>91</td><td>263</td><td>4</td><td>1</td></tr>\n",
       "\t<tr><th scope=row>2</th><td>C*06:73-273</td><td>46</td><td>245</td><td>4</td><td>0</td><td>4</td><td>29</td><td>1</td><td>0</td><td>105</td><td>262</td><td>4</td><td>1</td></tr>\n",
       "\t<tr><th scope=row>3</th><td>C*06:55-273</td><td>39</td><td>244</td><td>4</td><td>0</td><td>4</td><td>29</td><td>1</td><td>0</td><td>98</td><td>261</td><td>4</td><td>1</td></tr>\n",
       "\t<tr><th scope=row>4</th><td>C*06:02-366</td><td>46</td><td>245</td><td>4</td><td>0</td><td>4</td><td>29</td><td>1</td><td>0</td><td>98</td><td>261</td><td>4</td><td>1</td></tr>\n",
       "\t<tr><th scope=row>5</th><td>C*06:108-273</td><td>46</td><td>245</td><td>4</td><td>0</td><td>4</td><td>29</td><td>1</td><td>0</td><td>98</td><td>261</td><td>4</td><td>1</td></tr>\n",
       "\t<tr><th scope=row>6</th><td>C*06:110-298</td><td>46</td><td>245</td><td>4</td><td>0</td><td>4</td><td>29</td><td>1</td><td>0</td><td>98</td><td>261</td><td>4</td><td>1</td></tr>\n",
       "</tbody>\n",
       "</table>\n"
      ],
      "text/latex": [
       "\\begin{tabular}{r|lllllllllllll}\n",
       "  & t & bad.nreads & bad.cov & bad.nseg & bad.nbreaks & nreads2 & cov2 & nseg2 & nbreaks2 & nreads & cov & nseg & nbreaks\\\\\n",
       "\\hline\n",
       "\t1 & C*06:107-349 & 56 & 245 & 4 & 0 & 4 & 29 & 1 & 0 & 91 & 263 & 4 & 1\\\\\n",
       "\t2 & C*06:73-273 & 46 & 245 & 4 & 0 & 4 & 29 & 1 & 0 & 105 & 262 & 4 & 1\\\\\n",
       "\t3 & C*06:55-273 & 39 & 244 & 4 & 0 & 4 & 29 & 1 & 0 & 98 & 261 & 4 & 1\\\\\n",
       "\t4 & C*06:02-366 & 46 & 245 & 4 & 0 & 4 & 29 & 1 & 0 & 98 & 261 & 4 & 1\\\\\n",
       "\t5 & C*06:108-273 & 46 & 245 & 4 & 0 & 4 & 29 & 1 & 0 & 98 & 261 & 4 & 1\\\\\n",
       "\t6 & C*06:110-298 & 46 & 245 & 4 & 0 & 4 & 29 & 1 & 0 & 98 & 261 & 4 & 1\\\\\n",
       "\\end{tabular}\n"
      ],
      "text/plain": [
       "              t bad.nreads bad.cov bad.nseg bad.nbreaks nreads2 cov2 nseg2\n",
       "1: C*06:107-349         56     245        4           0       4   29     1\n",
       "2:  C*06:73-273         46     245        4           0       4   29     1\n",
       "3:  C*06:55-273         39     244        4           0       4   29     1\n",
       "4:  C*06:02-366         46     245        4           0       4   29     1\n",
       "5: C*06:108-273         46     245        4           0       4   29     1\n",
       "6: C*06:110-298         46     245        4           0       4   29     1\n",
       "   nbreaks2 nreads cov nseg nbreaks\n",
       "1:        0     91 263    4       1\n",
       "2:        0    105 262    4       1\n",
       "3:        0     98 261    4       1\n",
       "4:        0     98 261    4       1\n",
       "5:        0     98 261    4       1\n",
       "6:        0     98 261    4       1"
      ]
     },
     "execution_count": 211,
     "metadata": {},
     "output_type": "execute_result"
    }
   ],
   "source": [
    "head(get.bad('C')[order(bad.nreads/10-cov)])"
   ]
  },
  {
   "cell_type": "code",
   "execution_count": 212,
   "metadata": {
    "collapsed": false
   },
   "outputs": [
    {
     "data": {
      "text/html": [
       "<table>\n",
       "<thead><tr><th></th><th scope=col>t</th><th scope=col>bad.nreads</th><th scope=col>bad.cov</th><th scope=col>bad.nseg</th><th scope=col>bad.nbreaks</th><th scope=col>nreads2</th><th scope=col>cov2</th><th scope=col>nseg2</th><th scope=col>nbreaks2</th><th scope=col>nreads</th><th scope=col>cov</th><th scope=col>nseg</th><th scope=col>nbreaks</th></tr></thead>\n",
       "<tbody>\n",
       "\t<tr><th scope=row>1</th><td>DQB1*03:01-261</td><td>19</td><td>131</td><td>2</td><td>0</td><td>52</td><td>217</td><td>3</td><td>1</td><td>54</td><td>240</td><td>4</td><td>2</td></tr>\n",
       "\t<tr><th scope=row>2</th><td>DQB1*03:116-261</td><td>27</td><td>131</td><td>2</td><td>0</td><td>44</td><td>212</td><td>4</td><td>1</td><td>46</td><td>235</td><td>5</td><td>2</td></tr>\n",
       "\t<tr><th scope=row>3</th><td>DQB1*03:94-261</td><td>26</td><td>131</td><td>2</td><td>0</td><td>41</td><td>199</td><td>3</td><td>1</td><td>43</td><td>222</td><td>4</td><td>1</td></tr>\n",
       "\t<tr><th scope=row>4</th><td>DQB1*02:02-261</td><td>31</td><td>131</td><td>2</td><td>0</td><td>34</td><td>199</td><td>3</td><td>1</td><td>36</td><td>222</td><td>4</td><td>2</td></tr>\n",
       "\t<tr><th scope=row>5</th><td>DQB1*02:12-261</td><td>31</td><td>131</td><td>2</td><td>0</td><td>34</td><td>199</td><td>3</td><td>1</td><td>36</td><td>222</td><td>4</td><td>2</td></tr>\n",
       "\t<tr><th scope=row>6</th><td>DQB1*02:01-261</td><td>32</td><td>131</td><td>2</td><td>0</td><td>33</td><td>199</td><td>4</td><td>2</td><td>35</td><td>222</td><td>5</td><td>3</td></tr>\n",
       "</tbody>\n",
       "</table>\n"
      ],
      "text/latex": [
       "\\begin{tabular}{r|lllllllllllll}\n",
       "  & t & bad.nreads & bad.cov & bad.nseg & bad.nbreaks & nreads2 & cov2 & nseg2 & nbreaks2 & nreads & cov & nseg & nbreaks\\\\\n",
       "\\hline\n",
       "\t1 & DQB1*03:01-261 & 19 & 131 & 2 & 0 & 52 & 217 & 3 & 1 & 54 & 240 & 4 & 2\\\\\n",
       "\t2 & DQB1*03:116-261 & 27 & 131 & 2 & 0 & 44 & 212 & 4 & 1 & 46 & 235 & 5 & 2\\\\\n",
       "\t3 & DQB1*03:94-261 & 26 & 131 & 2 & 0 & 41 & 199 & 3 & 1 & 43 & 222 & 4 & 1\\\\\n",
       "\t4 & DQB1*02:02-261 & 31 & 131 & 2 & 0 & 34 & 199 & 3 & 1 & 36 & 222 & 4 & 2\\\\\n",
       "\t5 & DQB1*02:12-261 & 31 & 131 & 2 & 0 & 34 & 199 & 3 & 1 & 36 & 222 & 4 & 2\\\\\n",
       "\t6 & DQB1*02:01-261 & 32 & 131 & 2 & 0 & 33 & 199 & 4 & 2 & 35 & 222 & 5 & 3\\\\\n",
       "\\end{tabular}\n"
      ],
      "text/plain": [
       "                 t bad.nreads bad.cov bad.nseg bad.nbreaks nreads2 cov2 nseg2\n",
       "1:  DQB1*03:01-261         19     131        2           0      52  217     3\n",
       "2: DQB1*03:116-261         27     131        2           0      44  212     4\n",
       "3:  DQB1*03:94-261         26     131        2           0      41  199     3\n",
       "4:  DQB1*02:02-261         31     131        2           0      34  199     3\n",
       "5:  DQB1*02:12-261         31     131        2           0      34  199     3\n",
       "6:  DQB1*02:01-261         32     131        2           0      33  199     4\n",
       "   nbreaks2 nreads cov nseg nbreaks\n",
       "1:        1     54 240    4       2\n",
       "2:        1     46 235    5       2\n",
       "3:        1     43 222    4       1\n",
       "4:        1     36 222    4       2\n",
       "5:        1     36 222    4       2\n",
       "6:        2     35 222    5       3"
      ]
     },
     "execution_count": 212,
     "metadata": {},
     "output_type": "execute_result"
    }
   ],
   "source": [
    "head(get.bad('DQB1')[order(bad.nreads/10-cov)])"
   ]
  },
  {
   "cell_type": "code",
   "execution_count": 213,
   "metadata": {
    "collapsed": false
   },
   "outputs": [
    {
     "data": {
      "text/html": [
       "<table>\n",
       "<thead><tr><th></th><th scope=col>t</th><th scope=col>bad.nreads</th><th scope=col>bad.cov</th><th scope=col>bad.nseg</th><th scope=col>bad.nbreaks</th><th scope=col>nreads2</th><th scope=col>cov2</th><th scope=col>nseg2</th><th scope=col>nbreaks2</th><th scope=col>nreads</th><th scope=col>cov</th><th scope=col>nseg</th><th scope=col>nbreaks</th></tr></thead>\n",
       "<tbody>\n",
       "\t<tr><th scope=row>1</th><td>DRB1*07:01-266</td><td>57</td><td>200</td><td>4</td><td>1</td><td>3</td><td>45</td><td>1</td><td>0</td><td>65</td><td>253</td><td>4</td><td>2</td></tr>\n",
       "\t<tr><th scope=row>2</th><td>DRB1*11:01-266</td><td>79</td><td>180</td><td>3</td><td>0</td><td>6</td><td>81</td><td>2</td><td>0</td><td>69</td><td>251</td><td>4</td><td>1</td></tr>\n",
       "\t<tr><th scope=row>3</th><td>DRB1*14:141-266</td><td>79</td><td>151</td><td>3</td><td>1</td><td>3</td><td>25</td><td>1</td><td>0</td><td>53</td><td>251</td><td>4</td><td>1</td></tr>\n",
       "\t<tr><th scope=row>4</th><td>DRB1*11:04-266</td><td>81</td><td>216</td><td>3</td><td>1</td><td>6</td><td>81</td><td>2</td><td>0</td><td>67</td><td>242</td><td>4</td><td>0</td></tr>\n",
       "\t<tr><th scope=row>5</th><td>DRB1*11:15-266</td><td>94</td><td>208</td><td>3</td><td>0</td><td>3</td><td>25</td><td>1</td><td>0</td><td>54</td><td>243</td><td>5</td><td>1</td></tr>\n",
       "\t<tr><th scope=row>6</th><td>DRB1*11:29-266</td><td>94</td><td>208</td><td>3</td><td>0</td><td>3</td><td>25</td><td>1</td><td>0</td><td>54</td><td>243</td><td>5</td><td>1</td></tr>\n",
       "</tbody>\n",
       "</table>\n"
      ],
      "text/latex": [
       "\\begin{tabular}{r|lllllllllllll}\n",
       "  & t & bad.nreads & bad.cov & bad.nseg & bad.nbreaks & nreads2 & cov2 & nseg2 & nbreaks2 & nreads & cov & nseg & nbreaks\\\\\n",
       "\\hline\n",
       "\t1 & DRB1*07:01-266 & 57 & 200 & 4 & 1 & 3 & 45 & 1 & 0 & 65 & 253 & 4 & 2\\\\\n",
       "\t2 & DRB1*11:01-266 & 79 & 180 & 3 & 0 & 6 & 81 & 2 & 0 & 69 & 251 & 4 & 1\\\\\n",
       "\t3 & DRB1*14:141-266 & 79 & 151 & 3 & 1 & 3 & 25 & 1 & 0 & 53 & 251 & 4 & 1\\\\\n",
       "\t4 & DRB1*11:04-266 & 81 & 216 & 3 & 1 & 6 & 81 & 2 & 0 & 67 & 242 & 4 & 0\\\\\n",
       "\t5 & DRB1*11:15-266 & 94 & 208 & 3 & 0 & 3 & 25 & 1 & 0 & 54 & 243 & 5 & 1\\\\\n",
       "\t6 & DRB1*11:29-266 & 94 & 208 & 3 & 0 & 3 & 25 & 1 & 0 & 54 & 243 & 5 & 1\\\\\n",
       "\\end{tabular}\n"
      ],
      "text/plain": [
       "                 t bad.nreads bad.cov bad.nseg bad.nbreaks nreads2 cov2 nseg2\n",
       "1:  DRB1*07:01-266         57     200        4           1       3   45     1\n",
       "2:  DRB1*11:01-266         79     180        3           0       6   81     2\n",
       "3: DRB1*14:141-266         79     151        3           1       3   25     1\n",
       "4:  DRB1*11:04-266         81     216        3           1       6   81     2\n",
       "5:  DRB1*11:15-266         94     208        3           0       3   25     1\n",
       "6:  DRB1*11:29-266         94     208        3           0       3   25     1\n",
       "   nbreaks2 nreads cov nseg nbreaks\n",
       "1:        0     65 253    4       2\n",
       "2:        0     69 251    4       1\n",
       "3:        0     53 251    4       1\n",
       "4:        0     67 242    4       0\n",
       "5:        0     54 243    5       1\n",
       "6:        0     54 243    5       1"
      ]
     },
     "execution_count": 213,
     "metadata": {},
     "output_type": "execute_result"
    }
   ],
   "source": [
    "head(get.bad('DRB1')[order(bad.nreads/10-cov)])"
   ]
  },
  {
   "cell_type": "code",
   "execution_count": 214,
   "metadata": {
    "collapsed": false
   },
   "outputs": [
    {
     "data": {
      "text/html": [
       "<table>\n",
       "<thead><tr><th></th><th scope=col>t</th><th scope=col>bad.nreads</th><th scope=col>bad.cov</th><th scope=col>bad.nseg</th><th scope=col>bad.nbreaks</th><th scope=col>nreads2</th><th scope=col>cov2</th><th scope=col>nseg2</th><th scope=col>nbreaks2</th><th scope=col>nreads</th><th scope=col>cov</th><th scope=col>nseg</th><th scope=col>nbreaks</th></tr></thead>\n",
       "<tbody>\n",
       "\t<tr><th scope=row>1</th><td>DPB1*02:01-258</td><td>1</td><td>36</td><td>1</td><td>0</td><td>160</td><td>215</td><td>3</td><td>2</td><td>187</td><td>215</td><td>3</td><td>2</td></tr>\n",
       "\t<tr><th scope=row>2</th><td>DPB1*105:01-258</td><td>35</td><td>77</td><td>1</td><td>0</td><td>129</td><td>213</td><td>4</td><td>2</td><td>153</td><td>214</td><td>4</td><td>2</td></tr>\n",
       "\t<tr><th scope=row>3</th><td>DPB1*02:02-258</td><td>40</td><td>88</td><td>1</td><td>0</td><td>125</td><td>208</td><td>4</td><td>2</td><td>148</td><td>208</td><td>4</td><td>2</td></tr>\n",
       "\t<tr><th scope=row>4</th><td>DPB1*04:02-258</td><td>73</td><td>133</td><td>2</td><td>0</td><td>113</td><td>204</td><td>4</td><td>2</td><td>115</td><td>205</td><td>4</td><td>2</td></tr>\n",
       "\t<tr><th scope=row>5</th><td>DPB1*463:01-258</td><td>118</td><td>171</td><td>2</td><td>1</td><td>69</td><td>190</td><td>4</td><td>1</td><td>70</td><td>191</td><td>4</td><td>1</td></tr>\n",
       "\t<tr><th scope=row>6</th><td>DPB1*04:01-258</td><td>52</td><td>88</td><td>1</td><td>0</td><td>113</td><td>179</td><td>4</td><td>2</td><td>136</td><td>179</td><td>4</td><td>2</td></tr>\n",
       "</tbody>\n",
       "</table>\n"
      ],
      "text/latex": [
       "\\begin{tabular}{r|lllllllllllll}\n",
       "  & t & bad.nreads & bad.cov & bad.nseg & bad.nbreaks & nreads2 & cov2 & nseg2 & nbreaks2 & nreads & cov & nseg & nbreaks\\\\\n",
       "\\hline\n",
       "\t1 & DPB1*02:01-258 & 1 & 36 & 1 & 0 & 160 & 215 & 3 & 2 & 187 & 215 & 3 & 2\\\\\n",
       "\t2 & DPB1*105:01-258 & 35 & 77 & 1 & 0 & 129 & 213 & 4 & 2 & 153 & 214 & 4 & 2\\\\\n",
       "\t3 & DPB1*02:02-258 & 40 & 88 & 1 & 0 & 125 & 208 & 4 & 2 & 148 & 208 & 4 & 2\\\\\n",
       "\t4 & DPB1*04:02-258 & 73 & 133 & 2 & 0 & 113 & 204 & 4 & 2 & 115 & 205 & 4 & 2\\\\\n",
       "\t5 & DPB1*463:01-258 & 118 & 171 & 2 & 1 & 69 & 190 & 4 & 1 & 70 & 191 & 4 & 1\\\\\n",
       "\t6 & DPB1*04:01-258 & 52 & 88 & 1 & 0 & 113 & 179 & 4 & 2 & 136 & 179 & 4 & 2\\\\\n",
       "\\end{tabular}\n"
      ],
      "text/plain": [
       "                 t bad.nreads bad.cov bad.nseg bad.nbreaks nreads2 cov2 nseg2\n",
       "1:  DPB1*02:01-258          1      36        1           0     160  215     3\n",
       "2: DPB1*105:01-258         35      77        1           0     129  213     4\n",
       "3:  DPB1*02:02-258         40      88        1           0     125  208     4\n",
       "4:  DPB1*04:02-258         73     133        2           0     113  204     4\n",
       "5: DPB1*463:01-258        118     171        2           1      69  190     4\n",
       "6:  DPB1*04:01-258         52      88        1           0     113  179     4\n",
       "   nbreaks2 nreads cov nseg nbreaks\n",
       "1:        2    187 215    3       2\n",
       "2:        2    153 214    4       2\n",
       "3:        2    148 208    4       2\n",
       "4:        2    115 205    4       2\n",
       "5:        1     70 191    4       1\n",
       "6:        2    136 179    4       2"
      ]
     },
     "execution_count": 214,
     "metadata": {},
     "output_type": "execute_result"
    }
   ],
   "source": [
    "head(get.bad('DPB1')[order(bad.nreads/10-cov)])"
   ]
  },
  {
   "cell_type": "code",
   "execution_count": 215,
   "metadata": {
    "collapsed": false
   },
   "outputs": [
    {
     "data": {
      "text/html": [
       "<table>\n",
       "<thead><tr><th></th><th scope=col>q</th><th scope=col>t</th><th scope=col>iden</th><th scope=col>len</th><th scope=col>mis</th><th scope=col>gap</th><th scope=col>qf</th><th scope=col>qt</th><th scope=col>tf</th><th scope=col>tt</th><th scope=col>e</th><th scope=col>score</th><th scope=col>gene</th><th scope=col>LEN</th><th scope=col>GOOD</th><th scope=col>GOOD.N</th><th scope=col>BAD.N</th><th scope=col>N</th><th scope=col>pure</th></tr></thead>\n",
       "<tbody>\n",
       "\t<tr><th scope=row>1</th><td>H5JCKCCXX:1:12:3432746:0/2</td><td>A*01:01-365</td><td>100</td><td>42</td><td>0</td><td>0</td><td>1</td><td>126</td><td>250</td><td>291</td><td>7.6e-21</td><td>93.2</td><td>A</td><td>42</td><td>A,B,C,E,F,G</td><td>2370</td><td>129</td><td>2499</td><td>FALSE</td></tr>\n",
       "\t<tr><th scope=row>2</th><td>H5JCKCCXX:1:12:3432746:0/2</td><td>A*01:02-365</td><td>100</td><td>42</td><td>0</td><td>0</td><td>1</td><td>126</td><td>250</td><td>291</td><td>7.6e-21</td><td>93.2</td><td>A</td><td>42</td><td>A,B,C,E,F,G</td><td>2370</td><td>129</td><td>2499</td><td>FALSE</td></tr>\n",
       "\t<tr><th scope=row>3</th><td>H5JCKCCXX:1:12:3432746:0/2</td><td>A*01:03-365</td><td>100</td><td>42</td><td>0</td><td>0</td><td>1</td><td>126</td><td>250</td><td>291</td><td>7.6e-21</td><td>93.2</td><td>A</td><td>42</td><td>A,B,C,E,F,G</td><td>2370</td><td>129</td><td>2499</td><td>FALSE</td></tr>\n",
       "\t<tr><th scope=row>4</th><td>H5JCKCCXX:1:12:3432746:0/2</td><td>A*01:09-365</td><td>100</td><td>42</td><td>0</td><td>0</td><td>1</td><td>126</td><td>250</td><td>291</td><td>7.6e-21</td><td>93.2</td><td>A</td><td>42</td><td>A,B,C,E,F,G</td><td>2370</td><td>129</td><td>2499</td><td>FALSE</td></tr>\n",
       "\t<tr><th scope=row>5</th><td>H5JCKCCXX:1:12:3432746:0/2</td><td>A*01:103-273</td><td>100</td><td>42</td><td>0</td><td>0</td><td>1</td><td>126</td><td>225</td><td>266</td><td>7.6e-21</td><td>93.2</td><td>A</td><td>42</td><td>A,B,C,E,F,G</td><td>2370</td><td>129</td><td>2499</td><td>FALSE</td></tr>\n",
       "\t<tr><th scope=row>6</th><td>H5JCKCCXX:1:12:3432746:0/2</td><td>A*01:104-273</td><td>100</td><td>42</td><td>0</td><td>0</td><td>1</td><td>126</td><td>225</td><td>266</td><td>7.6e-21</td><td>93.2</td><td>A</td><td>42</td><td>A,B,C,E,F,G</td><td>2370</td><td>129</td><td>2499</td><td>FALSE</td></tr>\n",
       "</tbody>\n",
       "</table>\n"
      ],
      "text/latex": [
       "\\begin{tabular}{r|lllllllllllllllllll}\n",
       "  & q & t & iden & len & mis & gap & qf & qt & tf & tt & e & score & gene & LEN & GOOD & GOOD.N & BAD.N & N & pure\\\\\n",
       "\\hline\n",
       "\t1 & H5JCKCCXX:1:12:3432746:0/2 & A*01:01-365 & 100 & 42 & 0 & 0 & 1 & 126 & 250 & 291 & 7.6e-21 & 93.2 & A & 42 & A,B,C,E,F,G & 2370 & 129 & 2499 & FALSE\\\\\n",
       "\t2 & H5JCKCCXX:1:12:3432746:0/2 & A*01:02-365 & 100 & 42 & 0 & 0 & 1 & 126 & 250 & 291 & 7.6e-21 & 93.2 & A & 42 & A,B,C,E,F,G & 2370 & 129 & 2499 & FALSE\\\\\n",
       "\t3 & H5JCKCCXX:1:12:3432746:0/2 & A*01:03-365 & 100 & 42 & 0 & 0 & 1 & 126 & 250 & 291 & 7.6e-21 & 93.2 & A & 42 & A,B,C,E,F,G & 2370 & 129 & 2499 & FALSE\\\\\n",
       "\t4 & H5JCKCCXX:1:12:3432746:0/2 & A*01:09-365 & 100 & 42 & 0 & 0 & 1 & 126 & 250 & 291 & 7.6e-21 & 93.2 & A & 42 & A,B,C,E,F,G & 2370 & 129 & 2499 & FALSE\\\\\n",
       "\t5 & H5JCKCCXX:1:12:3432746:0/2 & A*01:103-273 & 100 & 42 & 0 & 0 & 1 & 126 & 225 & 266 & 7.6e-21 & 93.2 & A & 42 & A,B,C,E,F,G & 2370 & 129 & 2499 & FALSE\\\\\n",
       "\t6 & H5JCKCCXX:1:12:3432746:0/2 & A*01:104-273 & 100 & 42 & 0 & 0 & 1 & 126 & 225 & 266 & 7.6e-21 & 93.2 & A & 42 & A,B,C,E,F,G & 2370 & 129 & 2499 & FALSE\\\\\n",
       "\\end{tabular}\n"
      ],
      "text/plain": [
       "                            q            t iden len mis gap qf  qt  tf  tt\n",
       "1: H5JCKCCXX:1:12:3432746:0/2  A*01:01-365  100  42   0   0  1 126 250 291\n",
       "2: H5JCKCCXX:1:12:3432746:0/2  A*01:02-365  100  42   0   0  1 126 250 291\n",
       "3: H5JCKCCXX:1:12:3432746:0/2  A*01:03-365  100  42   0   0  1 126 250 291\n",
       "4: H5JCKCCXX:1:12:3432746:0/2  A*01:09-365  100  42   0   0  1 126 250 291\n",
       "5: H5JCKCCXX:1:12:3432746:0/2 A*01:103-273  100  42   0   0  1 126 225 266\n",
       "6: H5JCKCCXX:1:12:3432746:0/2 A*01:104-273  100  42   0   0  1 126 225 266\n",
       "         e score gene LEN        GOOD GOOD.N BAD.N    N  pure\n",
       "1: 7.6e-21  93.2    A  42 A,B,C,E,F,G   2370   129 2499 FALSE\n",
       "2: 7.6e-21  93.2    A  42 A,B,C,E,F,G   2370   129 2499 FALSE\n",
       "3: 7.6e-21  93.2    A  42 A,B,C,E,F,G   2370   129 2499 FALSE\n",
       "4: 7.6e-21  93.2    A  42 A,B,C,E,F,G   2370   129 2499 FALSE\n",
       "5: 7.6e-21  93.2    A  42 A,B,C,E,F,G   2370   129 2499 FALSE\n",
       "6: 7.6e-21  93.2    A  42 A,B,C,E,F,G   2370   129 2499 FALSE"
      ]
     },
     "execution_count": 215,
     "metadata": {},
     "output_type": "execute_result"
    }
   ],
   "source": [
    "head(good)"
   ]
  },
  {
   "cell_type": "code",
   "execution_count": 216,
   "metadata": {
    "collapsed": false
   },
   "outputs": [
    {
     "data": {
      "text/html": [
       "<table>\n",
       "<thead><tr><th></th><th scope=col>q</th><th scope=col>t</th><th scope=col>iden</th><th scope=col>len</th><th scope=col>mis</th><th scope=col>gap</th><th scope=col>qf</th><th scope=col>qt</th><th scope=col>tf</th><th scope=col>tt</th><th scope=col>e</th><th scope=col>score</th><th scope=col>gene</th><th scope=col>LEN</th><th scope=col>GOOD</th><th scope=col>GOOD.N</th><th scope=col>BAD.N</th><th scope=col>N</th></tr></thead>\n",
       "<tbody>\n",
       "\t<tr><th scope=row>1</th><td>H5JCKCCXX:1:12:3432746:0/2</td><td>A*02:01-365</td><td>97.6</td><td>42</td><td>1</td><td>0</td><td>1</td><td>126</td><td>250</td><td>291</td><td>1.7e-20</td><td>92</td><td>A</td><td>42</td><td>A,B,C,E,F,G</td><td>2370</td><td>129</td><td>2499</td></tr>\n",
       "\t<tr><th scope=row>2</th><td>H5JCKCCXX:1:12:3432746:0/2</td><td>A*02:02-365</td><td>97.6</td><td>42</td><td>1</td><td>0</td><td>1</td><td>126</td><td>250</td><td>291</td><td>1.7e-20</td><td>92</td><td>A</td><td>42</td><td>A,B,C,E,F,G</td><td>2370</td><td>129</td><td>2499</td></tr>\n",
       "\t<tr><th scope=row>3</th><td>H5JCKCCXX:1:12:3432746:0/2</td><td>A*02:03-365</td><td>97.6</td><td>42</td><td>1</td><td>0</td><td>1</td><td>126</td><td>250</td><td>291</td><td>1.7e-20</td><td>92</td><td>A</td><td>42</td><td>A,B,C,E,F,G</td><td>2370</td><td>129</td><td>2499</td></tr>\n",
       "\t<tr><th scope=row>4</th><td>H5JCKCCXX:1:12:3432746:0/2</td><td>A*02:04-365</td><td>97.6</td><td>42</td><td>1</td><td>0</td><td>1</td><td>126</td><td>250</td><td>291</td><td>1.7e-20</td><td>92</td><td>A</td><td>42</td><td>A,B,C,E,F,G</td><td>2370</td><td>129</td><td>2499</td></tr>\n",
       "\t<tr><th scope=row>5</th><td>H5JCKCCXX:1:12:3432746:0/2</td><td>A*02:05-365</td><td>97.6</td><td>42</td><td>1</td><td>0</td><td>1</td><td>126</td><td>250</td><td>291</td><td>1.7e-20</td><td>92</td><td>A</td><td>42</td><td>A,B,C,E,F,G</td><td>2370</td><td>129</td><td>2499</td></tr>\n",
       "\t<tr><th scope=row>6</th><td>H5JCKCCXX:1:12:3432746:0/2</td><td>A*02:06-365</td><td>97.6</td><td>42</td><td>1</td><td>0</td><td>1</td><td>126</td><td>250</td><td>291</td><td>1.7e-20</td><td>92</td><td>A</td><td>42</td><td>A,B,C,E,F,G</td><td>2370</td><td>129</td><td>2499</td></tr>\n",
       "</tbody>\n",
       "</table>\n"
      ],
      "text/latex": [
       "\\begin{tabular}{r|llllllllllllllllll}\n",
       "  & q & t & iden & len & mis & gap & qf & qt & tf & tt & e & score & gene & LEN & GOOD & GOOD.N & BAD.N & N\\\\\n",
       "\\hline\n",
       "\t1 & H5JCKCCXX:1:12:3432746:0/2 & A*02:01-365 & 97.6 & 42 & 1 & 0 & 1 & 126 & 250 & 291 & 1.7e-20 & 92 & A & 42 & A,B,C,E,F,G & 2370 & 129 & 2499\\\\\n",
       "\t2 & H5JCKCCXX:1:12:3432746:0/2 & A*02:02-365 & 97.6 & 42 & 1 & 0 & 1 & 126 & 250 & 291 & 1.7e-20 & 92 & A & 42 & A,B,C,E,F,G & 2370 & 129 & 2499\\\\\n",
       "\t3 & H5JCKCCXX:1:12:3432746:0/2 & A*02:03-365 & 97.6 & 42 & 1 & 0 & 1 & 126 & 250 & 291 & 1.7e-20 & 92 & A & 42 & A,B,C,E,F,G & 2370 & 129 & 2499\\\\\n",
       "\t4 & H5JCKCCXX:1:12:3432746:0/2 & A*02:04-365 & 97.6 & 42 & 1 & 0 & 1 & 126 & 250 & 291 & 1.7e-20 & 92 & A & 42 & A,B,C,E,F,G & 2370 & 129 & 2499\\\\\n",
       "\t5 & H5JCKCCXX:1:12:3432746:0/2 & A*02:05-365 & 97.6 & 42 & 1 & 0 & 1 & 126 & 250 & 291 & 1.7e-20 & 92 & A & 42 & A,B,C,E,F,G & 2370 & 129 & 2499\\\\\n",
       "\t6 & H5JCKCCXX:1:12:3432746:0/2 & A*02:06-365 & 97.6 & 42 & 1 & 0 & 1 & 126 & 250 & 291 & 1.7e-20 & 92 & A & 42 & A,B,C,E,F,G & 2370 & 129 & 2499\\\\\n",
       "\\end{tabular}\n"
      ],
      "text/plain": [
       "                            q           t iden len mis gap qf  qt  tf  tt\n",
       "1: H5JCKCCXX:1:12:3432746:0/2 A*02:01-365 97.6  42   1   0  1 126 250 291\n",
       "2: H5JCKCCXX:1:12:3432746:0/2 A*02:02-365 97.6  42   1   0  1 126 250 291\n",
       "3: H5JCKCCXX:1:12:3432746:0/2 A*02:03-365 97.6  42   1   0  1 126 250 291\n",
       "4: H5JCKCCXX:1:12:3432746:0/2 A*02:04-365 97.6  42   1   0  1 126 250 291\n",
       "5: H5JCKCCXX:1:12:3432746:0/2 A*02:05-365 97.6  42   1   0  1 126 250 291\n",
       "6: H5JCKCCXX:1:12:3432746:0/2 A*02:06-365 97.6  42   1   0  1 126 250 291\n",
       "         e score gene LEN        GOOD GOOD.N BAD.N    N\n",
       "1: 1.7e-20    92    A  42 A,B,C,E,F,G   2370   129 2499\n",
       "2: 1.7e-20    92    A  42 A,B,C,E,F,G   2370   129 2499\n",
       "3: 1.7e-20    92    A  42 A,B,C,E,F,G   2370   129 2499\n",
       "4: 1.7e-20    92    A  42 A,B,C,E,F,G   2370   129 2499\n",
       "5: 1.7e-20    92    A  42 A,B,C,E,F,G   2370   129 2499\n",
       "6: 1.7e-20    92    A  42 A,B,C,E,F,G   2370   129 2499"
      ]
     },
     "execution_count": 216,
     "metadata": {},
     "output_type": "execute_result"
    }
   ],
   "source": [
    "head(bad)"
   ]
  },
  {
   "cell_type": "code",
   "execution_count": 217,
   "metadata": {
    "collapsed": false
   },
   "outputs": [
    {
     "data": {
      "text/html": [
       "<table>\n",
       "<thead><tr><th></th><th scope=col>t</th><th scope=col>bad.nreads</th><th scope=col>bad.cov</th><th scope=col>bad.nseg</th><th scope=col>bad.nbreaks</th><th scope=col>nreads2</th><th scope=col>cov2</th><th scope=col>nseg2</th><th scope=col>nbreaks2</th><th scope=col>nreads</th><th scope=col>cov</th><th scope=col>nseg</th><th scope=col>nbreaks</th></tr></thead>\n",
       "<tbody>\n",
       "\t<tr><th scope=row>1</th><td>A*03:01-365</td><td>50</td><td>286</td><td>3</td><td>0</td><td>34</td><td>153</td><td>1</td><td>0</td><td>147</td><td>296</td><td>3</td><td>0</td></tr>\n",
       "\t<tr><th scope=row>2</th><td>A*03:89-365</td><td>50</td><td>279</td><td>4</td><td>0</td><td>30</td><td>144</td><td>1</td><td>0</td><td>148</td><td>296</td><td>3</td><td>0</td></tr>\n",
       "\t<tr><th scope=row>3</th><td>A*03:26-365</td><td>51</td><td>286</td><td>3</td><td>0</td><td>34</td><td>153</td><td>1</td><td>0</td><td>146</td><td>294</td><td>3</td><td>0</td></tr>\n",
       "\t<tr><th scope=row>4</th><td>A*02:01-365</td><td>91</td><td>254</td><td>5</td><td>0</td><td>54</td><td>247</td><td>3</td><td>0</td><td>107</td><td>297</td><td>2</td><td>0</td></tr>\n",
       "\t<tr><th scope=row>5</th><td>A*02:24-365</td><td>104</td><td>281</td><td>5</td><td>0</td><td>44</td><td>247</td><td>3</td><td>0</td><td>97</td><td>297</td><td>2</td><td>0</td></tr>\n",
       "\t<tr><th scope=row>6</th><td>A*02:249-365</td><td>105</td><td>261</td><td>4</td><td>0</td><td>45</td><td>223</td><td>3</td><td>0</td><td>93</td><td>296</td><td>3</td><td>0</td></tr>\n",
       "</tbody>\n",
       "</table>\n"
      ],
      "text/latex": [
       "\\begin{tabular}{r|lllllllllllll}\n",
       "  & t & bad.nreads & bad.cov & bad.nseg & bad.nbreaks & nreads2 & cov2 & nseg2 & nbreaks2 & nreads & cov & nseg & nbreaks\\\\\n",
       "\\hline\n",
       "\t1 & A*03:01-365 & 50 & 286 & 3 & 0 & 34 & 153 & 1 & 0 & 147 & 296 & 3 & 0\\\\\n",
       "\t2 & A*03:89-365 & 50 & 279 & 4 & 0 & 30 & 144 & 1 & 0 & 148 & 296 & 3 & 0\\\\\n",
       "\t3 & A*03:26-365 & 51 & 286 & 3 & 0 & 34 & 153 & 1 & 0 & 146 & 294 & 3 & 0\\\\\n",
       "\t4 & A*02:01-365 & 91 & 254 & 5 & 0 & 54 & 247 & 3 & 0 & 107 & 297 & 2 & 0\\\\\n",
       "\t5 & A*02:24-365 & 104 & 281 & 5 & 0 & 44 & 247 & 3 & 0 & 97 & 297 & 2 & 0\\\\\n",
       "\t6 & A*02:249-365 & 105 & 261 & 4 & 0 & 45 & 223 & 3 & 0 & 93 & 296 & 3 & 0\\\\\n",
       "\\end{tabular}\n"
      ],
      "text/plain": [
       "              t bad.nreads bad.cov bad.nseg bad.nbreaks nreads2 cov2 nseg2\n",
       "1:  A*03:01-365         50     286        3           0      34  153     1\n",
       "2:  A*03:89-365         50     279        4           0      30  144     1\n",
       "3:  A*03:26-365         51     286        3           0      34  153     1\n",
       "4:  A*02:01-365         91     254        5           0      54  247     3\n",
       "5:  A*02:24-365        104     281        5           0      44  247     3\n",
       "6: A*02:249-365        105     261        4           0      45  223     3\n",
       "   nbreaks2 nreads cov nseg nbreaks\n",
       "1:        0    147 296    3       0\n",
       "2:        0    148 296    3       0\n",
       "3:        0    146 294    3       0\n",
       "4:        0    107 297    2       0\n",
       "5:        0     97 297    2       0\n",
       "6:        0     93 296    3       0"
      ]
     },
     "execution_count": 217,
     "metadata": {},
     "output_type": "execute_result"
    }
   ],
   "source": [
    "head(get.bad('A')[order(bad.nreads/10-cov)])"
   ]
  },
  {
   "cell_type": "code",
   "execution_count": 261,
   "metadata": {
    "collapsed": false
   },
   "outputs": [
    {
     "data": {
      "text/html": [
       "<table>\n",
       "<thead><tr><th></th><th scope=col>t</th><th scope=col>worst.nreads</th><th scope=col>worst.cov</th><th scope=col>worst.nseg</th><th scope=col>worst.nbreaks</th><th scope=col>rescue.by</th></tr></thead>\n",
       "<tbody>\n",
       "\t<tr><th scope=row>1</th><td>A*03:01-365</td><td>4</td><td>85</td><td>2</td><td>0</td><td>A*02:01-365</td></tr>\n",
       "</tbody>\n",
       "</table>\n"
      ],
      "text/latex": [
       "\\begin{tabular}{r|llllll}\n",
       "  & t & worst.nreads & worst.cov & worst.nseg & worst.nbreaks & rescue.by\\\\\n",
       "\\hline\n",
       "\t1 & A*03:01-365 & 4 & 85 & 2 & 0 & A*02:01-365\\\\\n",
       "\\end{tabular}\n"
      ],
      "text/plain": [
       "             t worst.nreads worst.cov worst.nseg worst.nbreaks   rescue.by\n",
       "1: A*03:01-365            4        85          2             0 A*02:01-365"
      ]
     },
     "execution_count": 261,
     "metadata": {},
     "output_type": "execute_result"
    }
   ],
   "source": [
    "hopeless <- function(to.rescue, rescue.by, BAD = bad){\n",
    "    explained <- unique(good[t %in% rescue.by, q])\n",
    "    g <- sub('\\\\*.+', '', to.rescue)\n",
    "    #BAD[t %in% to.rescue & grepl(sprintf('^%s', g), GOOD) & !(q %in% explained)]\n",
    "    BAD[t %in% to.rescue & GOOD == g & !(q %in% explained)]\n",
    "}\n",
    "rescue <- function(to.rescue, rescue.by, BAD = bad){\n",
    "    bad.score <- hopeless(to.rescue, rescue.by, BAD)[, ir.score(tf, tt), keyby = t]\n",
    "    setnames(bad.score, c('t', 'worst.nreads', 'worst.cov', 'worst.nseg', 'worst.nbreaks'))\n",
    "    bad.score[, rescue.by := rescue.by]\n",
    "    return(bad.score)\n",
    "}\n",
    "a <- 'A*02:01-365'\n",
    "b <- 'A*03:01-365'\n",
    "rescue(b, a)"
   ]
  },
  {
   "cell_type": "code",
   "execution_count": 262,
   "metadata": {
    "collapsed": false
   },
   "outputs": [
    {
     "data": {
      "text/plain": [
       "   user  system elapsed \n",
       "  0.148   0.000   0.147 "
      ]
     },
     "execution_count": 262,
     "metadata": {},
     "output_type": "execute_result"
    }
   ],
   "source": [
    "system.time(rescue(a, b))"
   ]
  },
  {
   "cell_type": "code",
   "execution_count": 263,
   "metadata": {
    "collapsed": false
   },
   "outputs": [
    {
     "data": {
      "text/plain": [
       "   user  system elapsed \n",
       "  0.024   0.000   0.025 "
      ]
     },
     "execution_count": 263,
     "metadata": {},
     "output_type": "execute_result"
    }
   ],
   "source": [
    "badA <- bad[gene == 'A' & grepl('^A', GOOD)]\n",
    "system.time(rescue(a, b, badA))"
   ]
  },
  {
   "cell_type": "code",
   "execution_count": 264,
   "metadata": {
    "collapsed": false
   },
   "outputs": [
    {
     "data": {
      "text/html": [
       "45"
      ],
      "text/latex": [
       "45"
      ],
      "text/markdown": [
       "45"
      ],
      "text/plain": [
       "[1] 45"
      ]
     },
     "execution_count": 264,
     "metadata": {},
     "output_type": "execute_result"
    }
   ],
   "source": [
    "scoreA <- get.bad('A')\n",
    "scoreA <- scoreA[cov/max(cov) > 0.95]\n",
    "nrow(scoreA)"
   ]
  },
  {
   "cell_type": "code",
   "execution_count": 265,
   "metadata": {
    "collapsed": false
   },
   "outputs": [
    {
     "data": {
      "text/html": [
       "<table>\n",
       "<thead><tr><th></th><th scope=col>t</th><th scope=col>worst.nreads</th><th scope=col>worst.cov</th><th scope=col>worst.nseg</th><th scope=col>worst.nbreaks</th><th scope=col>rescue.by</th></tr></thead>\n",
       "<tbody>\n",
       "\t<tr><th scope=row>1</th><td>A*02:01-365</td><td>5</td><td>110</td><td>2</td><td>0</td><td>A*03:01-365</td></tr>\n",
       "</tbody>\n",
       "</table>\n"
      ],
      "text/latex": [
       "\\begin{tabular}{r|llllll}\n",
       "  & t & worst.nreads & worst.cov & worst.nseg & worst.nbreaks & rescue.by\\\\\n",
       "\\hline\n",
       "\t1 & A*02:01-365 & 5 & 110 & 2 & 0 & A*03:01-365\\\\\n",
       "\\end{tabular}\n"
      ],
      "text/plain": [
       "             t worst.nreads worst.cov worst.nseg worst.nbreaks   rescue.by\n",
       "1: A*02:01-365            5       110          2             0 A*03:01-365"
      ]
     },
     "execution_count": 265,
     "metadata": {},
     "output_type": "execute_result"
    }
   ],
   "source": [
    "rescue(a, b, badA)"
   ]
  },
  {
   "cell_type": "code",
   "execution_count": 266,
   "metadata": {
    "collapsed": false
   },
   "outputs": [
    {
     "data": {
      "text/html": [
       "<table>\n",
       "<thead><tr><th></th><th scope=col>t</th><th scope=col>worst.nreads</th><th scope=col>worst.cov</th><th scope=col>worst.nseg</th><th scope=col>worst.nbreaks</th><th scope=col>rescue.by</th></tr></thead>\n",
       "<tbody>\n",
       "\t<tr><th scope=row>1</th><td>A*03:01-365</td><td>4</td><td>85</td><td>2</td><td>0</td><td>A*02:01-365</td></tr>\n",
       "</tbody>\n",
       "</table>\n"
      ],
      "text/latex": [
       "\\begin{tabular}{r|llllll}\n",
       "  & t & worst.nreads & worst.cov & worst.nseg & worst.nbreaks & rescue.by\\\\\n",
       "\\hline\n",
       "\t1 & A*03:01-365 & 4 & 85 & 2 & 0 & A*02:01-365\\\\\n",
       "\\end{tabular}\n"
      ],
      "text/plain": [
       "             t worst.nreads worst.cov worst.nseg worst.nbreaks   rescue.by\n",
       "1: A*03:01-365            4        85          2             0 A*02:01-365"
      ]
     },
     "execution_count": 266,
     "metadata": {},
     "output_type": "execute_result"
    }
   ],
   "source": [
    "rescue(b, a, badA)"
   ]
  },
  {
   "cell_type": "code",
   "execution_count": 270,
   "metadata": {
    "collapsed": false
   },
   "outputs": [
    {
     "data": {
      "text/html": [
       "<table>\n",
       "<thead><tr><th></th><th scope=col>t</th><th scope=col>worst.nreads</th><th scope=col>worst.cov</th><th scope=col>worst.nseg</th><th scope=col>worst.nbreaks</th><th scope=col>rescue.by</th></tr></thead>\n",
       "<tbody>\n",
       "\t<tr><th scope=row>1</th><td>A*03:89-365</td><td>13</td><td>152</td><td>3</td><td>0</td><td>A*03:01-365</td></tr>\n",
       "</tbody>\n",
       "</table>\n"
      ],
      "text/latex": [
       "\\begin{tabular}{r|llllll}\n",
       "  & t & worst.nreads & worst.cov & worst.nseg & worst.nbreaks & rescue.by\\\\\n",
       "\\hline\n",
       "\t1 & A*03:89-365 & 13 & 152 & 3 & 0 & A*03:01-365\\\\\n",
       "\\end{tabular}\n"
      ],
      "text/plain": [
       "             t worst.nreads worst.cov worst.nseg worst.nbreaks   rescue.by\n",
       "1: A*03:89-365           13       152          3             0 A*03:01-365"
      ]
     },
     "execution_count": 270,
     "metadata": {},
     "output_type": "execute_result"
    }
   ],
   "source": [
    "rescue('A*03:89-365', b, badA)"
   ]
  },
  {
   "cell_type": "code",
   "execution_count": 259,
   "metadata": {
    "collapsed": false
   },
   "outputs": [
    {
     "data": {
      "text/html": [
       "<table>\n",
       "<thead><tr><th></th><th scope=col>q</th><th scope=col>t</th><th scope=col>iden</th><th scope=col>len</th><th scope=col>mis</th><th scope=col>gap</th><th scope=col>qf</th><th scope=col>qt</th><th scope=col>tf</th><th scope=col>tt</th><th scope=col>e</th><th scope=col>score</th><th scope=col>gene</th><th scope=col>LEN</th><th scope=col>GOOD</th><th scope=col>GOOD.N</th><th scope=col>BAD.N</th><th scope=col>N</th><th scope=col>pure</th></tr></thead>\n",
       "<tbody>\n",
       "\t<tr><th scope=row>1</th><td>H5JCKCCXX:3:6:4089392:0/2</td><td>A*02:137-273</td><td>100</td><td>49</td><td>0</td><td>0</td><td>149</td><td>3</td><td>121</td><td>169</td><td>1e-24</td><td>106.3</td><td>A</td><td>49</td><td>A</td><td>609</td><td>1</td><td>610</td><td>TRUE</td></tr>\n",
       "\t<tr><th scope=row>2</th><td>H5JCKCCXX:3:6:4089392:0/2</td><td>A*02:24-365</td><td>100</td><td>49</td><td>0</td><td>0</td><td>149</td><td>3</td><td>146</td><td>194</td><td>1e-24</td><td>106.3</td><td>A</td><td>49</td><td>A</td><td>609</td><td>1</td><td>610</td><td>TRUE</td></tr>\n",
       "\t<tr><th scope=row>3</th><td>H5JCKCCXX:3:6:4089392:0/2</td><td>A*02:503-181</td><td>100</td><td>49</td><td>0</td><td>0</td><td>149</td><td>3</td><td>121</td><td>169</td><td>1e-24</td><td>106.3</td><td>A</td><td>49</td><td>A</td><td>609</td><td>1</td><td>610</td><td>TRUE</td></tr>\n",
       "\t<tr><th scope=row>4</th><td>H5JCKCCXX:3:6:4089392:0/2</td><td>A*29:51-273</td><td>100</td><td>49</td><td>0</td><td>0</td><td>149</td><td>3</td><td>121</td><td>169</td><td>1e-24</td><td>106.3</td><td>A</td><td>49</td><td>A</td><td>609</td><td>1</td><td>610</td><td>TRUE</td></tr>\n",
       "</tbody>\n",
       "</table>\n"
      ],
      "text/latex": [
       "\\begin{tabular}{r|lllllllllllllllllll}\n",
       "  & q & t & iden & len & mis & gap & qf & qt & tf & tt & e & score & gene & LEN & GOOD & GOOD.N & BAD.N & N & pure\\\\\n",
       "\\hline\n",
       "\t1 & H5JCKCCXX:3:6:4089392:0/2 & A*02:137-273 & 100 & 49 & 0 & 0 & 149 & 3 & 121 & 169 & 1e-24 & 106.3 & A & 49 & A & 609 & 1 & 610 & TRUE\\\\\n",
       "\t2 & H5JCKCCXX:3:6:4089392:0/2 & A*02:24-365 & 100 & 49 & 0 & 0 & 149 & 3 & 146 & 194 & 1e-24 & 106.3 & A & 49 & A & 609 & 1 & 610 & TRUE\\\\\n",
       "\t3 & H5JCKCCXX:3:6:4089392:0/2 & A*02:503-181 & 100 & 49 & 0 & 0 & 149 & 3 & 121 & 169 & 1e-24 & 106.3 & A & 49 & A & 609 & 1 & 610 & TRUE\\\\\n",
       "\t4 & H5JCKCCXX:3:6:4089392:0/2 & A*29:51-273 & 100 & 49 & 0 & 0 & 149 & 3 & 121 & 169 & 1e-24 & 106.3 & A & 49 & A & 609 & 1 & 610 & TRUE\\\\\n",
       "\\end{tabular}\n"
      ],
      "text/plain": [
       "                           q            t iden len mis gap  qf qt  tf  tt     e\n",
       "1: H5JCKCCXX:3:6:4089392:0/2 A*02:137-273  100  49   0   0 149  3 121 169 1e-24\n",
       "2: H5JCKCCXX:3:6:4089392:0/2  A*02:24-365  100  49   0   0 149  3 146 194 1e-24\n",
       "3: H5JCKCCXX:3:6:4089392:0/2 A*02:503-181  100  49   0   0 149  3 121 169 1e-24\n",
       "4: H5JCKCCXX:3:6:4089392:0/2  A*29:51-273  100  49   0   0 149  3 121 169 1e-24\n",
       "   score gene LEN GOOD GOOD.N BAD.N   N pure\n",
       "1: 106.3    A  49    A    609     1 610 TRUE\n",
       "2: 106.3    A  49    A    609     1 610 TRUE\n",
       "3: 106.3    A  49    A    609     1 610 TRUE\n",
       "4: 106.3    A  49    A    609     1 610 TRUE"
      ]
     },
     "execution_count": 259,
     "metadata": {},
     "output_type": "execute_result"
    }
   ],
   "source": [
    "good[q == 'H5JCKCCXX:3:6:4089392:0/2']"
   ]
  },
  {
   "cell_type": "code",
   "execution_count": null,
   "metadata": {
    "collapsed": true
   },
   "outputs": [],
   "source": []
  }
 ],
 "metadata": {
  "kernelspec": {
   "display_name": "R",
   "language": "R",
   "name": "ir"
  },
  "language_info": {
   "codemirror_mode": "r",
   "file_extension": ".r",
   "mimetype": "text/x-r-source",
   "name": "R",
   "pygments_lexer": "r",
   "version": "3.2.1"
  }
 },
 "nbformat": 4,
 "nbformat_minor": 0
}
