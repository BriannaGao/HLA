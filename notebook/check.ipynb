{
 "cells": [
  {
   "cell_type": "code",
   "execution_count": 59,
   "metadata": {
    "collapsed": true
   },
   "outputs": [],
   "source": [
    "load('temp.rda')"
   ]
  },
  {
   "cell_type": "code",
   "execution_count": 60,
   "metadata": {
    "collapsed": true
   },
   "outputs": [],
   "source": [
    "library(data.table)"
   ]
  },
  {
   "cell_type": "code",
   "execution_count": 61,
   "metadata": {
    "collapsed": false
   },
   "outputs": [
    {
     "data": {
      "text/html": [
       "<ol class=list-inline>\n",
       "\t<li>'bad'</li>\n",
       "\t<li>'en'</li>\n",
       "\t<li>'es'</li>\n",
       "\t<li>'exons'</li>\n",
       "\t<li>'good'</li>\n",
       "\t<li>'hla'</li>\n",
       "\t<li>'ir.bad'</li>\n",
       "\t<li>'ir.good'</li>\n",
       "\t<li>'key.match'</li>\n",
       "\t<li>'noncore.match'</li>\n",
       "\t<li>'plotRanges'</li>\n",
       "\t<li>'tt'</li>\n",
       "</ol>\n"
      ],
      "text/latex": [
       "\\begin{enumerate*}\n",
       "\\item 'bad'\n",
       "\\item 'en'\n",
       "\\item 'es'\n",
       "\\item 'exons'\n",
       "\\item 'good'\n",
       "\\item 'hla'\n",
       "\\item 'ir.bad'\n",
       "\\item 'ir.good'\n",
       "\\item 'key.match'\n",
       "\\item 'noncore.match'\n",
       "\\item 'plotRanges'\n",
       "\\item 'tt'\n",
       "\\end{enumerate*}\n"
      ],
      "text/markdown": [
       "1. 'bad'\n",
       "2. 'en'\n",
       "3. 'es'\n",
       "4. 'exons'\n",
       "5. 'good'\n",
       "6. 'hla'\n",
       "7. 'ir.bad'\n",
       "8. 'ir.good'\n",
       "9. 'key.match'\n",
       "10. 'noncore.match'\n",
       "11. 'plotRanges'\n",
       "12. 'tt'\n",
       "\n",
       "\n"
      ],
      "text/plain": [
       " [1] \"bad\"           \"en\"            \"es\"            \"exons\"        \n",
       " [5] \"good\"          \"hla\"           \"ir.bad\"        \"ir.good\"      \n",
       " [9] \"key.match\"     \"noncore.match\" \"plotRanges\"    \"tt\"           "
      ]
     },
     "execution_count": 61,
     "metadata": {},
     "output_type": "execute_result"
    }
   ],
   "source": [
    "ls()"
   ]
  },
  {
   "cell_type": "code",
   "execution_count": 62,
   "metadata": {
    "collapsed": false
   },
   "outputs": [
    {
     "data": {
      "text/html": [
       "915"
      ],
      "text/latex": [
       "915"
      ],
      "text/markdown": [
       "915"
      ],
      "text/plain": [
       "[1] 915"
      ]
     },
     "execution_count": 62,
     "metadata": {},
     "output_type": "execute_result"
    }
   ],
   "source": [
    "nrow(key.match)"
   ]
  },
  {
   "cell_type": "code",
   "execution_count": 63,
   "metadata": {
    "collapsed": false
   },
   "outputs": [
    {
     "data": {
      "text/html": [
       "627"
      ],
      "text/latex": [
       "627"
      ],
      "text/markdown": [
       "627"
      ],
      "text/plain": [
       "[1] 627"
      ]
     },
     "execution_count": 63,
     "metadata": {},
     "output_type": "execute_result"
    }
   ],
   "source": [
    "length(unique(key.match$q))"
   ]
  },
  {
   "cell_type": "code",
   "execution_count": 112,
   "metadata": {
    "collapsed": true
   },
   "outputs": [],
   "source": [
    "#bad <- key.match[type == 'A*01:04N']\n",
    "#good <- key.match[type == 'A*01:01']\n",
    "wrong <- c('DRB1*14:01', 'DRB1*14:54')\n",
    "good1 <- key.match[type == wrong[1]]\n",
    "bad1 <- key.match[type == wrong[2]]\n",
    "rest1 <- key.match[!type %in% wrong]\n",
    "good2 <- noncore.match[type == wrong[1]]\n",
    "bad2 <- noncore.match[type == wrong[2]]\n",
    "rest2 <- noncore.match[!type %in% wrong]\n",
    "rest <- rbind(rest1, rest2)"
   ]
  },
  {
   "cell_type": "code",
   "execution_count": 69,
   "metadata": {
    "collapsed": false
   },
   "outputs": [
    {
     "data": {
      "text/plain": [
       "\n",
       "E2 \n",
       "33 "
      ]
     },
     "execution_count": 69,
     "metadata": {},
     "output_type": "execute_result"
    }
   ],
   "source": [
    "table(bad1$EXON)"
   ]
  },
  {
   "cell_type": "code",
   "execution_count": 70,
   "metadata": {
    "collapsed": false
   },
   "outputs": [
    {
     "data": {
      "text/plain": [
       "\n",
       "E2 \n",
       "33 "
      ]
     },
     "execution_count": 70,
     "metadata": {},
     "output_type": "execute_result"
    }
   ],
   "source": [
    "table(good1$EXON)"
   ]
  },
  {
   "cell_type": "code",
   "execution_count": 71,
   "metadata": {
    "collapsed": false
   },
   "outputs": [
    {
     "data": {
      "text/plain": [
       "\n",
       "E1 E3 E4 \n",
       "31 27 44 "
      ]
     },
     "execution_count": 71,
     "metadata": {},
     "output_type": "execute_result"
    },
    {
     "data": {
      "text/plain": [
       "\n",
       "E1 E3 E4 \n",
       "31 16 44 "
      ]
     },
     "execution_count": 71,
     "metadata": {},
     "output_type": "execute_result"
    }
   ],
   "source": [
    "table(bad2$EXON)\n",
    "table(good2$EXON)"
   ]
  },
  {
   "cell_type": "code",
   "execution_count": 97,
   "metadata": {
    "collapsed": false
   },
   "outputs": [
    {
     "data": {
      "text/html": [
       "<table>\n",
       "<thead><tr><th></th><th scope=col>qp</th><th scope=col>type</th><th scope=col>pair2</th><th scope=col>pair1</th><th scope=col>EXON</th><th scope=col>shift</th><th scope=col>MSA</th><th scope=col>mapped</th><th scope=col>q</th><th scope=col>qpos0</th><th scope=col>ellip.h</th><th scope=col>tlen</th><th scope=col>ts</th><th scope=col>te</th><th scope=col>mis</th><th scope=col>msa</th><th scope=col>specific</th><th scope=col>left</th><th scope=col>right</th><th scope=col>start</th><th scope=col>end</th></tr></thead>\n",
       "<tbody>\n",
       "\t<tr><th scope=row>1</th><td>H5LYCCCXX:1:10:3019765:0</td><td>DRB1*14:01</td><td>1</td><td>1</td><td>E4</td><td>NA</td><td>NA</td><td>NA</td><td>H5LYCCCXX:1:10:3019765:0/1</td><td>149:37-144</td><td>⋯</td><td>36</td><td>1</td><td>36</td><td>0</td><td>DRB1</td><td>0</td><td>0</td><td>0</td><td>0</td><td>36</td></tr>\n",
       "\t<tr><th scope=row>2</th><td>H5LYCCCXX:1:13:1775804:0</td><td>DRB1*14:01</td><td>1</td><td>1</td><td>E4</td><td>NA</td><td>NA</td><td>NA</td><td>H5LYCCCXX:1:13:1775804:0/2</td><td>146:2-106</td><td>⋯</td><td>36</td><td>2</td><td>36</td><td>0</td><td>DRB1</td><td>0</td><td>0</td><td>0</td><td>1</td><td>36</td></tr>\n",
       "\t<tr><th scope=row>3</th><td>H5LYCCCXX:1:14:3448361:0</td><td>DRB1*14:01</td><td>1</td><td>1</td><td>E1</td><td>NA</td><td>NA</td><td>NA</td><td>H5LYCCCXX:1:14:3448361:0/1</td><td>150:44-6</td><td>⋯</td><td>33</td><td>1</td><td>13</td><td>0</td><td>DRB1</td><td>1</td><td>0</td><td>0</td><td>0</td><td>18</td></tr>\n",
       "\t<tr><th scope=row>4</th><td>H5LYCCCXX:1:17:1235925:0</td><td>DRB1*14:01</td><td>1</td><td>1</td><td>E4</td><td>NA</td><td>NA</td><td>NA</td><td>H5LYCCCXX:1:17:1235925:0/1</td><td>150:3-59</td><td>⋯</td><td>36</td><td>18</td><td>36</td><td>0</td><td>DRB1</td><td>0</td><td>0</td><td>0</td><td>17</td><td>36</td></tr>\n",
       "\t<tr><th scope=row>5</th><td>H5LYCCCXX:1:17:2512879:0</td><td>DRB1*14:01</td><td>1</td><td>1</td><td>E1</td><td>NA</td><td>NA</td><td>NA</td><td>H5LYCCCXX:1:17:2512879:0/1</td><td>150:133-35</td><td>⋯</td><td>33</td><td>1</td><td>33</td><td>0</td><td>DRB1</td><td>1</td><td>0</td><td>0</td><td>0</td><td>38</td></tr>\n",
       "\t<tr><th scope=row>6</th><td>H5LYCCCXX:1:1:337550:0</td><td>DRB1*14:01</td><td>1</td><td>1</td><td>E4</td><td>NA</td><td>NA</td><td>NA</td><td>H5LYCCCXX:1:1:337550:0/2</td><td>150:145-38</td><td>⋯</td><td>36</td><td>1</td><td>36</td><td>0</td><td>DRB1</td><td>0</td><td>0</td><td>0</td><td>0</td><td>36</td></tr>\n",
       "</tbody>\n",
       "</table>\n"
      ],
      "text/latex": [
       "\\begin{tabular}{r|llllllllllllllllllllll}\n",
       "  & qp & type & pair2 & pair1 & EXON & shift & MSA & mapped & q & qpos0 & ellip.h & tlen & ts & te & mis & msa & specific & left & right & start & end\\\\\n",
       "\\hline\n",
       "\t1 & H5LYCCCXX:1:10:3019765:0 & DRB1*14:01 & 1 & 1 & E4 & NA & NA & NA & H5LYCCCXX:1:10:3019765:0/1 & 149:37-144 & ⋯ & 36 & 1 & 36 & 0 & DRB1 & 0 & 0 & 0 & 0 & 36\\\\\n",
       "\t2 & H5LYCCCXX:1:13:1775804:0 & DRB1*14:01 & 1 & 1 & E4 & NA & NA & NA & H5LYCCCXX:1:13:1775804:0/2 & 146:2-106 & ⋯ & 36 & 2 & 36 & 0 & DRB1 & 0 & 0 & 0 & 1 & 36\\\\\n",
       "\t3 & H5LYCCCXX:1:14:3448361:0 & DRB1*14:01 & 1 & 1 & E1 & NA & NA & NA & H5LYCCCXX:1:14:3448361:0/1 & 150:44-6 & ⋯ & 33 & 1 & 13 & 0 & DRB1 & 1 & 0 & 0 & 0 & 18\\\\\n",
       "\t4 & H5LYCCCXX:1:17:1235925:0 & DRB1*14:01 & 1 & 1 & E4 & NA & NA & NA & H5LYCCCXX:1:17:1235925:0/1 & 150:3-59 & ⋯ & 36 & 18 & 36 & 0 & DRB1 & 0 & 0 & 0 & 17 & 36\\\\\n",
       "\t5 & H5LYCCCXX:1:17:2512879:0 & DRB1*14:01 & 1 & 1 & E1 & NA & NA & NA & H5LYCCCXX:1:17:2512879:0/1 & 150:133-35 & ⋯ & 33 & 1 & 33 & 0 & DRB1 & 1 & 0 & 0 & 0 & 38\\\\\n",
       "\t6 & H5LYCCCXX:1:1:337550:0 & DRB1*14:01 & 1 & 1 & E4 & NA & NA & NA & H5LYCCCXX:1:1:337550:0/2 & 150:145-38 & ⋯ & 36 & 1 & 36 & 0 & DRB1 & 0 & 0 & 0 & 0 & 36\\\\\n",
       "\\end{tabular}\n"
      ],
      "text/plain": [
       "                         qp       type pair2 pair1 EXON shift MSA mapped\n",
       "1: H5LYCCCXX:1:10:3019765:0 DRB1*14:01     1     1   E4    NA  NA     NA\n",
       "2: H5LYCCCXX:1:13:1775804:0 DRB1*14:01     1     1   E4    NA  NA     NA\n",
       "3: H5LYCCCXX:1:14:3448361:0 DRB1*14:01     1     1   E1    NA  NA     NA\n",
       "4: H5LYCCCXX:1:17:1235925:0 DRB1*14:01     1     1   E4    NA  NA     NA\n",
       "5: H5LYCCCXX:1:17:2512879:0 DRB1*14:01     1     1   E1    NA  NA     NA\n",
       "6:   H5LYCCCXX:1:1:337550:0 DRB1*14:01     1     1   E4    NA  NA     NA\n",
       "                            q      qpos0        qpos\n",
       "1: H5LYCCCXX:1:10:3019765:0/1 149:37-144  149:37-144\n",
       "2: H5LYCCCXX:1:13:1775804:0/2  146:2-106   146:2-106\n",
       "3: H5LYCCCXX:1:14:3448361:0/1   150:44-6 150:107-145\n",
       "4: H5LYCCCXX:1:17:1235925:0/1   150:3-59    150:3-59\n",
       "5: H5LYCCCXX:1:17:2512879:0/1 150:133-35  150:18-116\n",
       "6:   H5LYCCCXX:1:1:337550:0/2 150:145-38   150:6-113\n",
       "                                      t tlen ts te mis  msa specific left right\n",
       "1: DRB1*14:01-E4-L36-pre-GA-suf-G-suf2-   36  1 36   0 DRB1        0    0     0\n",
       "2: DRB1*14:01-E4-L36-pre-GA-suf-G-suf2-   36  2 36   0 DRB1        0    0     0\n",
       "3:   DRB1*14:01-E1-L33-pre--suf-C-suf2-   33  1 13   0 DRB1        1    0     0\n",
       "4: DRB1*14:01-E4-L36-pre-GA-suf-G-suf2-   36 18 36   0 DRB1        0    0     0\n",
       "5:   DRB1*14:01-E1-L33-pre--suf-C-suf2-   33  1 33   0 DRB1        1    0     0\n",
       "6: DRB1*14:01-E4-L36-pre-GA-suf-G-suf2-   36  1 36   0 DRB1        0    0     0\n",
       "   start end\n",
       "1:     0  36\n",
       "2:     1  36\n",
       "3:     0  18\n",
       "4:    17  36\n",
       "5:     0  38\n",
       "6:     0  36"
      ]
     },
     "execution_count": 97,
     "metadata": {},
     "output_type": "execute_result"
    }
   ],
   "source": [
    "head(good2)"
   ]
  },
  {
   "cell_type": "code",
   "execution_count": 104,
   "metadata": {
    "collapsed": false
   },
   "outputs": [],
   "source": [
    "good <- good2[EXON == 'E3'][order(ts), .(ts, te, q)]"
   ]
  },
  {
   "cell_type": "code",
   "execution_count": 105,
   "metadata": {
    "collapsed": false
   },
   "outputs": [],
   "source": [
    "bad <- bad2[EXON == 'E3'][order(ts), .(ts, te, q)]"
   ]
  },
  {
   "cell_type": "code",
   "execution_count": 106,
   "metadata": {
    "collapsed": false
   },
   "outputs": [],
   "source": [
    "library(IRanges)"
   ]
  },
  {
   "cell_type": "code",
   "execution_count": 122,
   "metadata": {
    "collapsed": true
   },
   "outputs": [],
   "source": [
    "ir.good <- IRanges(good$ts, good$te, names = good$q)\n",
    "good.col <- ifelse(names(ir.good) %in% rest$q, 'gray50', 'black')"
   ]
  },
  {
   "cell_type": "code",
   "execution_count": 114,
   "metadata": {
    "collapsed": false
   },
   "outputs": [
    {
     "data": {
      "text/plain": [
       "IRanges of length 16\n",
       "     start end width                      names\n",
       "[1]     21  70    50   H5LYCCCXX:7:3:448002:0/2\n",
       "[2]     31  78    48  H5LYCCCXX:2:12:194195:0/2\n",
       "[3]     31  80    50 H5LYCCCXX:6:17:3783750:0/1\n",
       "[4]     32  81    50  H5LYCCCXX:8:3:4059464:0/2\n",
       "[5]     34  83    50  H5LYCCCXX:6:18:530912:0/1\n",
       "...    ... ...   ...                        ...\n",
       "[12]    80  93    14 H5LYCCCXX:8:14:1998440:0/2\n",
       "[13]    82  93    12 H5LYCCCXX:4:15:4838343:0/2\n",
       "[14]    84  93    10  H5LYCCCXX:1:5:3660215:0/1\n",
       "[15]    84  93    10 H5LYCCCXX:5:15:4078218:0/1\n",
       "[16]    84  93    10  H5LYCCCXX:8:3:4715471:0/2"
      ]
     },
     "execution_count": 114,
     "metadata": {},
     "output_type": "execute_result"
    }
   ],
   "source": [
    "ir.good"
   ]
  },
  {
   "cell_type": "code",
   "execution_count": 125,
   "metadata": {
    "collapsed": true
   },
   "outputs": [],
   "source": [
    "ir.bad <- IRanges(bad$ts, bad$te, names = bad$q)\n",
    "bad.col <- ifelse(names(ir.bad) %in% rest$q, 'gray50', 'black')"
   ]
  },
  {
   "cell_type": "code",
   "execution_count": 117,
   "metadata": {
    "collapsed": true
   },
   "outputs": [],
   "source": [
    "plotRanges <- function(x, xlim = x, main = deparse(substitute(x)), col = \"black\", sep = 0.5, ...)\n",
    " {\n",
    " height <- 1\n",
    " if (is(xlim, \"Ranges\"))\n",
    " xlim <- c(0, max(end(xlim)))\n",
    " bins <- disjointBins(IRanges(start(x), end(x) + 1))\n",
    " plot.new()\n",
    " plot.window(xlim, c(0, max(bins)*(height + sep)))\n",
    " ybottom <- bins * (sep + height) - height\n",
    " rect(start(x)-0.5, ybottom, end(x)+0.5, ybottom + height, col = col, ...)\n",
    " title(main)\n",
    " axis(1)\n",
    " }"
   ]
  },
  {
   "cell_type": "code",
   "execution_count": 127,
   "metadata": {
    "collapsed": false
   },
   "outputs": [
    {
     "data": {
      "image/png": "[encoded data removed]",
      "image/svg+xml": [
       "<?xml version=\"1.0\" encoding=\"UTF-8\"?>\n",
       "<svg xmlns=\"http://www.w3.org/2000/svg\" xmlns:xlink=\"http://www.w3.org/1999/xlink\" width=\"504pt\" height=\"504pt\" viewBox=\"0 0 504 504\" version=\"1.1\">\n",
       "<defs>\n",
       "<g>\n",
       "<symbol overflow=\"visible\" id=\"glyph0-0\">\n",
       "<path style=\"stroke:none;\" d=\"\"/>\n",
       "</symbol>\n",
       "<symbol overflow=\"visible\" id=\"glyph0-1\">\n",
       "<path style=\"stroke:none;\" d=\"M 2.984375 -7.78125 L 0.96875 -7.78125 L 0.96875 0 L 2.984375 0 Z M 2.984375 -10.5 L 0.96875 -10.5 L 0.96875 -8.703125 L 2.984375 -8.703125 Z M 2.984375 -10.5 \"/>\n",
       "</symbol>\n",
       "<symbol overflow=\"visible\" id=\"glyph0-2\">\n",
       "<path style=\"stroke:none;\" d=\"M 0.90625 -7.78125 L 0.90625 0 L 2.921875 0 L 2.921875 -4.140625 C 2.921875 -5.3125 3.515625 -5.90625 4.703125 -5.90625 C 4.90625 -5.90625 5.0625 -5.890625 5.328125 -5.84375 L 5.328125 -7.890625 C 5.21875 -7.90625 5.140625 -7.90625 5.078125 -7.90625 C 4.15625 -7.90625 3.359375 -7.296875 2.921875 -6.25 L 2.921875 -7.78125 Z M 0.90625 -7.78125 \"/>\n",
       "</symbol>\n",
       "<symbol overflow=\"visible\" id=\"glyph0-3\">\n",
       "<path style=\"stroke:none;\" d=\"M 3.078125 -2.109375 L 0.921875 -2.109375 L 0.921875 0 L 3.078125 0 Z M 3.078125 -2.109375 \"/>\n",
       "</symbol>\n",
       "<symbol overflow=\"visible\" id=\"glyph0-4\">\n",
       "<path style=\"stroke:none;\" d=\"M 5.875 -7.78125 L 5.875 -6.578125 C 5.265625 -7.5 4.609375 -7.90625 3.71875 -7.90625 C 1.875 -7.90625 0.484375 -6.109375 0.484375 -3.703125 C 0.484375 -1.28125 1.75 0.328125 3.671875 0.328125 C 4.578125 0.328125 5.125 0.0625 5.875 -0.796875 L 5.875 0.265625 C 5.875 1.203125 5.171875 1.84375 4.15625 1.84375 C 3.40625 1.84375 2.890625 1.53125 2.734375 0.9375 L 0.640625 0.9375 C 0.65625 1.546875 0.890625 1.953125 1.40625 2.390625 C 2.03125 2.890625 2.890625 3.140625 4.09375 3.140625 C 6.4375 3.140625 7.796875 2.09375 7.796875 0.265625 L 7.796875 -7.78125 Z M 4.15625 -6.21875 C 5.15625 -6.21875 5.90625 -5.171875 5.90625 -3.734375 C 5.90625 -2.3125 5.171875 -1.359375 4.125 -1.359375 C 3.171875 -1.359375 2.5 -2.3125 2.5 -3.734375 C 2.5 -5.203125 3.171875 -6.21875 4.15625 -6.21875 Z M 4.15625 -6.21875 \"/>\n",
       "</symbol>\n",
       "<symbol overflow=\"visible\" id=\"glyph0-5\">\n",
       "<path style=\"stroke:none;\" d=\"M 4.34375 -7.90625 C 1.953125 -7.90625 0.5 -6.34375 0.5 -3.78125 C 0.5 -1.21875 1.953125 0.328125 4.34375 0.328125 C 6.71875 0.328125 8.203125 -1.234375 8.203125 -3.734375 C 8.203125 -6.375 6.765625 -7.90625 4.34375 -7.90625 Z M 4.34375 -6.28125 C 5.453125 -6.28125 6.1875 -5.28125 6.1875 -3.765625 C 6.1875 -2.3125 5.4375 -1.296875 4.34375 -1.296875 C 3.25 -1.296875 2.515625 -2.3125 2.515625 -3.78125 C 2.515625 -5.265625 3.25 -6.28125 4.34375 -6.28125 Z M 4.34375 -6.28125 \"/>\n",
       "</symbol>\n",
       "<symbol overflow=\"visible\" id=\"glyph0-6\">\n",
       "<path style=\"stroke:none;\" d=\"M 5.828125 0 L 7.84375 0 L 7.84375 -10.5 L 5.828125 -10.5 L 5.828125 -6.765625 C 5.328125 -7.546875 4.65625 -7.90625 3.6875 -7.90625 C 1.828125 -7.90625 0.421875 -6.125 0.421875 -3.78125 C 0.421875 -2.71875 0.734375 -1.65625 1.25 -0.90625 C 1.78125 -0.15625 2.734375 0.328125 3.6875 0.328125 C 4.65625 0.328125 5.328125 -0.03125 5.828125 -0.796875 Z M 4.140625 -6.21875 C 5.15625 -6.21875 5.828125 -5.234375 5.828125 -3.75 C 5.828125 -2.328125 5.140625 -1.359375 4.140625 -1.359375 C 3.125 -1.359375 2.4375 -2.34375 2.4375 -3.78125 C 2.4375 -5.21875 3.125 -6.21875 4.140625 -6.21875 Z M 4.140625 -6.21875 \"/>\n",
       "</symbol>\n",
       "<symbol overflow=\"visible\" id=\"glyph1-0\">\n",
       "<path style=\"stroke:none;\" d=\"\"/>\n",
       "</symbol>\n",
       "<symbol overflow=\"visible\" id=\"glyph1-1\">\n",
       "<path style=\"stroke:none;\" d=\"M 3.296875 -8.515625 C 2.515625 -8.515625 1.78125 -8.15625 1.34375 -7.578125 C 0.796875 -6.828125 0.515625 -5.6875 0.515625 -4.109375 C 0.515625 -1.25 1.46875 0.28125 3.296875 0.28125 C 5.09375 0.28125 6.078125 -1.25 6.078125 -4.046875 C 6.078125 -5.703125 5.8125 -6.796875 5.25 -7.578125 C 4.8125 -8.171875 4.109375 -8.515625 3.296875 -8.515625 Z M 3.296875 -7.578125 C 4.4375 -7.578125 5 -6.421875 5 -4.140625 C 5 -1.734375 4.453125 -0.59375 3.28125 -0.59375 C 2.15625 -0.59375 1.59375 -1.78125 1.59375 -4.109375 C 1.59375 -6.4375 2.15625 -7.578125 3.296875 -7.578125 Z M 3.296875 -7.578125 \"/>\n",
       "</symbol>\n",
       "<symbol overflow=\"visible\" id=\"glyph1-2\">\n",
       "<path style=\"stroke:none;\" d=\"M 6.078125 -1.046875 L 1.59375 -1.046875 C 1.703125 -1.734375 2.09375 -2.1875 3.125 -2.796875 L 4.328125 -3.4375 C 5.515625 -4.09375 6.125 -4.96875 6.125 -6.015625 C 6.125 -6.71875 5.84375 -7.375 5.34375 -7.84375 C 4.84375 -8.296875 4.21875 -8.515625 3.40625 -8.515625 C 2.328125 -8.515625 1.53125 -8.125 1.0625 -7.40625 C 0.75 -6.953125 0.625 -6.421875 0.59375 -5.5625 L 1.65625 -5.5625 C 1.6875 -6.125 1.765625 -6.484375 1.90625 -6.75 C 2.1875 -7.265625 2.734375 -7.578125 3.375 -7.578125 C 4.328125 -7.578125 5.046875 -6.90625 5.046875 -5.984375 C 5.046875 -5.3125 4.65625 -4.734375 3.90625 -4.3125 L 2.796875 -3.6875 C 1.015625 -2.671875 0.5 -1.875 0.40625 0 L 6.078125 0 Z M 6.078125 -1.046875 \"/>\n",
       "</symbol>\n",
       "<symbol overflow=\"visible\" id=\"glyph1-3\">\n",
       "<path style=\"stroke:none;\" d=\"M 3.921875 -2.046875 L 3.921875 0 L 4.984375 0 L 4.984375 -2.046875 L 6.234375 -2.046875 L 6.234375 -2.984375 L 4.984375 -2.984375 L 4.984375 -8.515625 L 4.203125 -8.515625 L 0.34375 -3.15625 L 0.34375 -2.046875 Z M 3.921875 -2.984375 L 1.265625 -2.984375 L 3.921875 -6.703125 Z M 3.921875 -2.984375 \"/>\n",
       "</symbol>\n",
       "<symbol overflow=\"visible\" id=\"glyph1-4\">\n",
       "<path style=\"stroke:none;\" d=\"M 5.96875 -6.28125 C 5.765625 -7.6875 4.859375 -8.515625 3.5625 -8.515625 C 2.625 -8.515625 1.78125 -8.046875 1.28125 -7.296875 C 0.75 -6.46875 0.515625 -5.421875 0.515625 -3.875 C 0.515625 -2.453125 0.734375 -1.53125 1.234375 -0.78125 C 1.6875 -0.09375 2.4375 0.28125 3.375 0.28125 C 4.984375 0.28125 6.15625 -0.921875 6.15625 -2.59375 C 6.15625 -4.171875 5.078125 -5.296875 3.546875 -5.296875 C 2.71875 -5.296875 2.046875 -4.96875 1.59375 -4.34375 C 1.609375 -6.421875 2.28125 -7.578125 3.484375 -7.578125 C 4.234375 -7.578125 4.75 -7.109375 4.921875 -6.28125 Z M 3.421875 -4.359375 C 4.4375 -4.359375 5.078125 -3.640625 5.078125 -2.515625 C 5.078125 -1.4375 4.359375 -0.65625 3.390625 -0.65625 C 2.40625 -0.65625 1.65625 -1.46875 1.65625 -2.5625 C 1.65625 -3.625 2.375 -4.359375 3.421875 -4.359375 Z M 3.421875 -4.359375 \"/>\n",
       "</symbol>\n",
       "<symbol overflow=\"visible\" id=\"glyph1-5\">\n",
       "<path style=\"stroke:none;\" d=\"M 4.6875 -4.46875 C 5.5625 -5 5.859375 -5.4375 5.859375 -6.234375 C 5.859375 -7.578125 4.8125 -8.515625 3.296875 -8.515625 C 1.796875 -8.515625 0.75 -7.578125 0.75 -6.234375 C 0.75 -5.453125 1.03125 -5.015625 1.890625 -4.46875 C 0.921875 -4.015625 0.4375 -3.296875 0.4375 -2.359375 C 0.4375 -0.796875 1.625 0.28125 3.296875 0.28125 C 4.984375 0.28125 6.15625 -0.796875 6.15625 -2.359375 C 6.15625 -3.296875 5.671875 -4.015625 4.6875 -4.46875 Z M 3.296875 -7.578125 C 4.203125 -7.578125 4.78125 -7.046875 4.78125 -6.21875 C 4.78125 -5.421875 4.1875 -4.890625 3.296875 -4.890625 C 2.40625 -4.890625 1.828125 -5.421875 1.828125 -6.234375 C 1.828125 -7.046875 2.40625 -7.578125 3.296875 -7.578125 Z M 3.296875 -4.015625 C 4.359375 -4.015625 5.078125 -3.34375 5.078125 -2.34375 C 5.078125 -1.328125 4.359375 -0.65625 3.28125 -0.65625 C 2.25 -0.65625 1.53125 -1.34375 1.53125 -2.34375 C 1.53125 -3.34375 2.25 -4.015625 3.296875 -4.015625 Z M 3.296875 -4.015625 \"/>\n",
       "</symbol>\n",
       "</g>\n",
       "</defs>\n",
       "<g id=\"surface202\">\n",
       "<rect x=\"0\" y=\"0\" width=\"504\" height=\"504\" style=\"fill:rgb(100%,100%,100%);fill-opacity:1;stroke:none;\"/>\n",
       "<path style=\"fill-rule:nonzero;fill:rgb(0%,0%,0%);fill-opacity:1;stroke-width:0.75;stroke-linecap:round;stroke-linejoin:round;stroke:rgb(0%,0%,0%);stroke-opacity:1;stroke-miterlimit:10;\" d=\"M 159.046875 407.246094 L 365.5 407.246094 L 365.5 388.136719 L 159.046875 388.136719 Z M 159.046875 407.246094 \"/>\n",
       "<path style=\"fill-rule:nonzero;fill:rgb(0%,0%,0%);fill-opacity:1;stroke-width:0.75;stroke-linecap:round;stroke-linejoin:round;stroke:rgb(0%,0%,0%);stroke-opacity:1;stroke-miterlimit:10;\" d=\"M 200.335938 378.578125 L 398.53125 378.578125 L 398.53125 359.46875 L 200.335938 359.46875 Z M 200.335938 378.578125 \"/>\n",
       "<path style=\"fill-rule:nonzero;fill:rgb(0%,0%,0%);fill-opacity:1;stroke-width:0.75;stroke-linecap:round;stroke-linejoin:round;stroke:rgb(0%,0%,0%);stroke-opacity:1;stroke-miterlimit:10;\" d=\"M 200.335938 349.910156 L 406.789062 349.910156 L 406.789062 330.800781 L 200.335938 330.800781 Z M 200.335938 349.910156 \"/>\n",
       "<path style=\"fill-rule:nonzero;fill:rgb(0%,0%,0%);fill-opacity:1;stroke-width:0.75;stroke-linecap:round;stroke-linejoin:round;stroke:rgb(0%,0%,0%);stroke-opacity:1;stroke-miterlimit:10;\" d=\"M 204.464844 321.246094 L 410.917969 321.246094 L 410.917969 302.136719 L 204.464844 302.136719 Z M 204.464844 321.246094 \"/>\n",
       "<path style=\"fill-rule:nonzero;fill:rgb(0%,0%,0%);fill-opacity:1;stroke-width:0.75;stroke-linecap:round;stroke-linejoin:round;stroke:rgb(0%,0%,0%);stroke-opacity:1;stroke-miterlimit:10;\" d=\"M 212.722656 292.578125 L 419.175781 292.578125 L 419.175781 273.46875 L 212.722656 273.46875 Z M 212.722656 292.578125 \"/>\n",
       "<path style=\"fill-rule:nonzero;fill:rgb(0%,0%,0%);fill-opacity:1;stroke-width:0.75;stroke-linecap:round;stroke-linejoin:round;stroke:rgb(0%,0%,0%);stroke-opacity:1;stroke-miterlimit:10;\" d=\"M 220.980469 263.910156 L 423.304688 263.910156 L 423.304688 244.800781 L 220.980469 244.800781 Z M 220.980469 263.910156 \"/>\n",
       "<path style=\"fill-rule:nonzero;fill:rgb(0%,0%,0%);fill-opacity:1;stroke-width:0.75;stroke-linecap:round;stroke-linejoin:round;stroke:rgb(0%,0%,0%);stroke-opacity:1;stroke-miterlimit:10;\" d=\"M 237.496094 235.246094 L 439.820312 235.246094 L 439.820312 216.136719 L 237.496094 216.136719 Z M 237.496094 235.246094 \"/>\n",
       "<path style=\"fill-rule:nonzero;fill:rgb(0%,0%,0%);fill-opacity:1;stroke-width:0.75;stroke-linecap:round;stroke-linejoin:round;stroke:rgb(0%,0%,0%);stroke-opacity:1;stroke-miterlimit:10;\" d=\"M 291.175781 206.578125 L 460.464844 206.578125 L 460.464844 187.46875 L 291.175781 187.46875 Z M 291.175781 206.578125 \"/>\n",
       "<path style=\"fill-rule:nonzero;fill:rgb(0%,0%,0%);fill-opacity:1;stroke-width:0.75;stroke-linecap:round;stroke-linejoin:round;stroke:rgb(0%,0%,0%);stroke-opacity:1;stroke-miterlimit:10;\" d=\"M 377.882812 407.246094 L 460.464844 407.246094 L 460.464844 388.136719 L 377.882812 388.136719 Z M 377.882812 407.246094 \"/>\n",
       "<path style=\"fill-rule:nonzero;fill:rgb(0%,0%,0%);fill-opacity:1;stroke-width:0.75;stroke-linecap:round;stroke-linejoin:round;stroke:rgb(0%,0%,0%);stroke-opacity:1;stroke-miterlimit:10;\" d=\"M 386.140625 177.910156 L 460.464844 177.910156 L 460.464844 158.800781 L 386.140625 158.800781 Z M 386.140625 177.910156 \"/>\n",
       "<path style=\"fill-rule:nonzero;fill:rgb(0%,0%,0%);fill-opacity:1;stroke-width:0.75;stroke-linecap:round;stroke-linejoin:round;stroke:rgb(0%,0%,0%);stroke-opacity:1;stroke-miterlimit:10;\" d=\"M 394.398438 149.246094 L 460.464844 149.246094 L 460.464844 130.136719 L 394.398438 130.136719 Z M 394.398438 149.246094 \"/>\n",
       "<path style=\"fill-rule:nonzero;fill:rgb(0%,0%,0%);fill-opacity:1;stroke-width:0.75;stroke-linecap:round;stroke-linejoin:round;stroke:rgb(0%,0%,0%);stroke-opacity:1;stroke-miterlimit:10;\" d=\"M 402.65625 378.578125 L 460.460938 378.578125 L 460.460938 359.46875 L 402.65625 359.46875 Z M 402.65625 378.578125 \"/>\n",
       "<path style=\"fill-rule:nonzero;fill:rgb(0%,0%,0%);fill-opacity:1;stroke-width:0.75;stroke-linecap:round;stroke-linejoin:round;stroke:rgb(0%,0%,0%);stroke-opacity:1;stroke-miterlimit:10;\" d=\"M 410.917969 349.910156 L 460.464844 349.910156 L 460.464844 330.800781 L 410.917969 330.800781 Z M 410.917969 349.910156 \"/>\n",
       "<path style=\"fill-rule:nonzero;fill:rgb(0%,0%,0%);fill-opacity:1;stroke-width:0.75;stroke-linecap:round;stroke-linejoin:round;stroke:rgb(0%,0%,0%);stroke-opacity:1;stroke-miterlimit:10;\" d=\"M 419.175781 321.246094 L 460.464844 321.246094 L 460.464844 302.136719 L 419.175781 302.136719 Z M 419.175781 321.246094 \"/>\n",
       "<path style=\"fill-rule:nonzero;fill:rgb(0%,0%,0%);fill-opacity:1;stroke-width:0.75;stroke-linecap:round;stroke-linejoin:round;stroke:rgb(0%,0%,0%);stroke-opacity:1;stroke-miterlimit:10;\" d=\"M 419.175781 120.578125 L 460.464844 120.578125 L 460.464844 101.46875 L 419.175781 101.46875 Z M 419.175781 120.578125 \"/>\n",
       "<path style=\"fill-rule:nonzero;fill:rgb(0%,0%,0%);fill-opacity:1;stroke-width:0.75;stroke-linecap:round;stroke-linejoin:round;stroke:rgb(0%,0%,0%);stroke-opacity:1;stroke-miterlimit:10;\" d=\"M 419.175781 91.910156 L 460.464844 91.910156 L 460.464844 72.800781 L 419.175781 72.800781 Z M 419.175781 91.910156 \"/>\n",
       "<g style=\"fill:rgb(0%,0%,0%);fill-opacity:1;\">\n",
       "  <use xlink:href=\"#glyph0-1\" x=\"241.898438\" y=\"34.116211\"/>\n",
       "  <use xlink:href=\"#glyph0-2\" x=\"245.90332\" y=\"34.116211\"/>\n",
       "  <use xlink:href=\"#glyph0-3\" x=\"251.507812\" y=\"34.116211\"/>\n",
       "  <use xlink:href=\"#glyph0-4\" x=\"255.512695\" y=\"34.116211\"/>\n",
       "  <use xlink:href=\"#glyph0-5\" x=\"264.314453\" y=\"34.116211\"/>\n",
       "  <use xlink:href=\"#glyph0-5\" x=\"273.116211\" y=\"34.116211\"/>\n",
       "  <use xlink:href=\"#glyph0-6\" x=\"281.917969\" y=\"34.116211\"/>\n",
       "</g>\n",
       "<path style=\"fill:none;stroke-width:0.75;stroke-linecap:round;stroke-linejoin:round;stroke:rgb(0%,0%,0%);stroke-opacity:1;stroke-miterlimit:10;\" d=\"M 74.398438 430.558594 L 404.722656 430.558594 \"/>\n",
       "<path style=\"fill:none;stroke-width:0.75;stroke-linecap:round;stroke-linejoin:round;stroke:rgb(0%,0%,0%);stroke-opacity:1;stroke-miterlimit:10;\" d=\"M 74.398438 430.558594 L 74.398438 437.761719 \"/>\n",
       "<path style=\"fill:none;stroke-width:0.75;stroke-linecap:round;stroke-linejoin:round;stroke:rgb(0%,0%,0%);stroke-opacity:1;stroke-miterlimit:10;\" d=\"M 156.980469 430.558594 L 156.980469 437.761719 \"/>\n",
       "<path style=\"fill:none;stroke-width:0.75;stroke-linecap:round;stroke-linejoin:round;stroke:rgb(0%,0%,0%);stroke-opacity:1;stroke-miterlimit:10;\" d=\"M 239.5625 430.558594 L 239.5625 437.761719 \"/>\n",
       "<path style=\"fill:none;stroke-width:0.75;stroke-linecap:round;stroke-linejoin:round;stroke:rgb(0%,0%,0%);stroke-opacity:1;stroke-miterlimit:10;\" d=\"M 322.140625 430.558594 L 322.140625 437.761719 \"/>\n",
       "<path style=\"fill:none;stroke-width:0.75;stroke-linecap:round;stroke-linejoin:round;stroke:rgb(0%,0%,0%);stroke-opacity:1;stroke-miterlimit:10;\" d=\"M 404.722656 430.558594 L 404.722656 437.761719 \"/>\n",
       "<g style=\"fill:rgb(0%,0%,0%);fill-opacity:1;\">\n",
       "  <use xlink:href=\"#glyph1-1\" x=\"70.898438\" y=\"455.916016\"/>\n",
       "</g>\n",
       "<g style=\"fill:rgb(0%,0%,0%);fill-opacity:1;\">\n",
       "  <use xlink:href=\"#glyph1-2\" x=\"149.980469\" y=\"455.916016\"/>\n",
       "  <use xlink:href=\"#glyph1-1\" x=\"156.652344\" y=\"455.916016\"/>\n",
       "</g>\n",
       "<g style=\"fill:rgb(0%,0%,0%);fill-opacity:1;\">\n",
       "  <use xlink:href=\"#glyph1-3\" x=\"232.5625\" y=\"455.916016\"/>\n",
       "  <use xlink:href=\"#glyph1-1\" x=\"239.234375\" y=\"455.916016\"/>\n",
       "</g>\n",
       "<g style=\"fill:rgb(0%,0%,0%);fill-opacity:1;\">\n",
       "  <use xlink:href=\"#glyph1-4\" x=\"315.140625\" y=\"455.916016\"/>\n",
       "  <use xlink:href=\"#glyph1-1\" x=\"321.8125\" y=\"455.916016\"/>\n",
       "</g>\n",
       "<g style=\"fill:rgb(0%,0%,0%);fill-opacity:1;\">\n",
       "  <use xlink:href=\"#glyph1-5\" x=\"397.722656\" y=\"455.916016\"/>\n",
       "  <use xlink:href=\"#glyph1-1\" x=\"404.394531\" y=\"455.916016\"/>\n",
       "</g>\n",
       "</g>\n",
       "</svg>\n"
      ],
      "text/plain": [
       "Plot with title “ir.good”"
      ]
     },
     "metadata": {
      "image/svg+xml": {
       "isolated": true
      }
     },
     "output_type": "display_data"
    }
   ],
   "source": [
    "plotRanges(ir.good, col = good.col)"
   ]
  },
  {
   "cell_type": "code",
   "execution_count": 128,
   "metadata": {
    "collapsed": false
   },
   "outputs": [
    {
     "data": {
      "image/png": "[encoded data removed]",
      "image/svg+xml": [
       "<?xml version=\"1.0\" encoding=\"UTF-8\"?>\n",
       "<svg xmlns=\"http://www.w3.org/2000/svg\" xmlns:xlink=\"http://www.w3.org/1999/xlink\" width=\"504pt\" height=\"504pt\" viewBox=\"0 0 504 504\" version=\"1.1\">\n",
       "<defs>\n",
       "<g>\n",
       "<symbol overflow=\"visible\" id=\"glyph0-0\">\n",
       "<path style=\"stroke:none;\" d=\"\"/>\n",
       "</symbol>\n",
       "<symbol overflow=\"visible\" id=\"glyph0-1\">\n",
       "<path style=\"stroke:none;\" d=\"M 2.984375 -7.78125 L 0.96875 -7.78125 L 0.96875 0 L 2.984375 0 Z M 2.984375 -10.5 L 0.96875 -10.5 L 0.96875 -8.703125 L 2.984375 -8.703125 Z M 2.984375 -10.5 \"/>\n",
       "</symbol>\n",
       "<symbol overflow=\"visible\" id=\"glyph0-2\">\n",
       "<path style=\"stroke:none;\" d=\"M 0.90625 -7.78125 L 0.90625 0 L 2.921875 0 L 2.921875 -4.140625 C 2.921875 -5.3125 3.515625 -5.90625 4.703125 -5.90625 C 4.90625 -5.90625 5.0625 -5.890625 5.328125 -5.84375 L 5.328125 -7.890625 C 5.21875 -7.90625 5.140625 -7.90625 5.078125 -7.90625 C 4.15625 -7.90625 3.359375 -7.296875 2.921875 -6.25 L 2.921875 -7.78125 Z M 0.90625 -7.78125 \"/>\n",
       "</symbol>\n",
       "<symbol overflow=\"visible\" id=\"glyph0-3\">\n",
       "<path style=\"stroke:none;\" d=\"M 3.078125 -2.109375 L 0.921875 -2.109375 L 0.921875 0 L 3.078125 0 Z M 3.078125 -2.109375 \"/>\n",
       "</symbol>\n",
       "<symbol overflow=\"visible\" id=\"glyph0-4\">\n",
       "<path style=\"stroke:none;\" d=\"M 0.84375 -10.5 L 0.84375 0 L 2.859375 0 L 2.859375 -0.796875 C 3.359375 -0.03125 4.03125 0.328125 5.015625 0.328125 C 6.875 0.328125 8.28125 -1.4375 8.28125 -3.78125 C 8.28125 -4.84375 7.96875 -5.90625 7.453125 -6.65625 C 6.921875 -7.421875 5.96875 -7.90625 5.015625 -7.90625 C 4.046875 -7.90625 3.359375 -7.546875 2.859375 -6.765625 L 2.859375 -10.5 Z M 4.5625 -6.21875 C 5.5625 -6.21875 6.265625 -5.21875 6.265625 -3.78125 C 6.265625 -2.359375 5.5625 -1.359375 4.5625 -1.359375 C 3.546875 -1.359375 2.859375 -2.328125 2.859375 -3.8125 C 2.859375 -5.234375 3.5625 -6.21875 4.5625 -6.21875 Z M 4.5625 -6.21875 \"/>\n",
       "</symbol>\n",
       "<symbol overflow=\"visible\" id=\"glyph0-5\">\n",
       "<path style=\"stroke:none;\" d=\"M 7.546875 -0.25 C 7.1875 -0.578125 7.09375 -0.796875 7.09375 -1.203125 L 7.09375 -5.515625 C 7.09375 -7.109375 6 -7.90625 3.90625 -7.90625 C 1.796875 -7.90625 0.703125 -7.015625 0.578125 -5.21875 L 2.515625 -5.21875 C 2.625 -6.015625 2.953125 -6.28125 3.953125 -6.28125 C 4.71875 -6.28125 5.109375 -6.015625 5.109375 -5.5 C 5.109375 -5.25 4.984375 -5.015625 4.765625 -4.890625 C 4.5 -4.75 4.5 -4.75 3.5 -4.59375 L 2.6875 -4.453125 C 1.15625 -4.1875 0.40625 -3.40625 0.40625 -2 C 0.40625 -1.34375 0.59375 -0.796875 0.953125 -0.40625 C 1.390625 0.0625 2.078125 0.328125 2.765625 0.328125 C 3.625 0.328125 4.421875 -0.046875 5.125 -0.78125 C 5.125 -0.375 5.171875 -0.234375 5.359375 0 L 7.546875 0 Z M 5.109375 -3.125 C 5.109375 -1.953125 4.53125 -1.296875 3.515625 -1.296875 C 2.84375 -1.296875 2.421875 -1.65625 2.421875 -2.234375 C 2.421875 -2.84375 2.734375 -3.125 3.578125 -3.296875 L 4.265625 -3.421875 C 4.796875 -3.53125 4.890625 -3.5625 5.109375 -3.671875 Z M 5.109375 -3.125 \"/>\n",
       "</symbol>\n",
       "<symbol overflow=\"visible\" id=\"glyph0-6\">\n",
       "<path style=\"stroke:none;\" d=\"M 5.828125 0 L 7.84375 0 L 7.84375 -10.5 L 5.828125 -10.5 L 5.828125 -6.765625 C 5.328125 -7.546875 4.65625 -7.90625 3.6875 -7.90625 C 1.828125 -7.90625 0.421875 -6.125 0.421875 -3.78125 C 0.421875 -2.71875 0.734375 -1.65625 1.25 -0.90625 C 1.78125 -0.15625 2.734375 0.328125 3.6875 0.328125 C 4.65625 0.328125 5.328125 -0.03125 5.828125 -0.796875 Z M 4.140625 -6.21875 C 5.15625 -6.21875 5.828125 -5.234375 5.828125 -3.75 C 5.828125 -2.328125 5.140625 -1.359375 4.140625 -1.359375 C 3.125 -1.359375 2.4375 -2.34375 2.4375 -3.78125 C 2.4375 -5.21875 3.125 -6.21875 4.140625 -6.21875 Z M 4.140625 -6.21875 \"/>\n",
       "</symbol>\n",
       "<symbol overflow=\"visible\" id=\"glyph1-0\">\n",
       "<path style=\"stroke:none;\" d=\"\"/>\n",
       "</symbol>\n",
       "<symbol overflow=\"visible\" id=\"glyph1-1\">\n",
       "<path style=\"stroke:none;\" d=\"M 3.296875 -8.515625 C 2.515625 -8.515625 1.78125 -8.15625 1.34375 -7.578125 C 0.796875 -6.828125 0.515625 -5.6875 0.515625 -4.109375 C 0.515625 -1.25 1.46875 0.28125 3.296875 0.28125 C 5.09375 0.28125 6.078125 -1.25 6.078125 -4.046875 C 6.078125 -5.703125 5.8125 -6.796875 5.25 -7.578125 C 4.8125 -8.171875 4.109375 -8.515625 3.296875 -8.515625 Z M 3.296875 -7.578125 C 4.4375 -7.578125 5 -6.421875 5 -4.140625 C 5 -1.734375 4.453125 -0.59375 3.28125 -0.59375 C 2.15625 -0.59375 1.59375 -1.78125 1.59375 -4.109375 C 1.59375 -6.4375 2.15625 -7.578125 3.296875 -7.578125 Z M 3.296875 -7.578125 \"/>\n",
       "</symbol>\n",
       "<symbol overflow=\"visible\" id=\"glyph1-2\">\n",
       "<path style=\"stroke:none;\" d=\"M 6.078125 -1.046875 L 1.59375 -1.046875 C 1.703125 -1.734375 2.09375 -2.1875 3.125 -2.796875 L 4.328125 -3.4375 C 5.515625 -4.09375 6.125 -4.96875 6.125 -6.015625 C 6.125 -6.71875 5.84375 -7.375 5.34375 -7.84375 C 4.84375 -8.296875 4.21875 -8.515625 3.40625 -8.515625 C 2.328125 -8.515625 1.53125 -8.125 1.0625 -7.40625 C 0.75 -6.953125 0.625 -6.421875 0.59375 -5.5625 L 1.65625 -5.5625 C 1.6875 -6.125 1.765625 -6.484375 1.90625 -6.75 C 2.1875 -7.265625 2.734375 -7.578125 3.375 -7.578125 C 4.328125 -7.578125 5.046875 -6.90625 5.046875 -5.984375 C 5.046875 -5.3125 4.65625 -4.734375 3.90625 -4.3125 L 2.796875 -3.6875 C 1.015625 -2.671875 0.5 -1.875 0.40625 0 L 6.078125 0 Z M 6.078125 -1.046875 \"/>\n",
       "</symbol>\n",
       "<symbol overflow=\"visible\" id=\"glyph1-3\">\n",
       "<path style=\"stroke:none;\" d=\"M 3.921875 -2.046875 L 3.921875 0 L 4.984375 0 L 4.984375 -2.046875 L 6.234375 -2.046875 L 6.234375 -2.984375 L 4.984375 -2.984375 L 4.984375 -8.515625 L 4.203125 -8.515625 L 0.34375 -3.15625 L 0.34375 -2.046875 Z M 3.921875 -2.984375 L 1.265625 -2.984375 L 3.921875 -6.703125 Z M 3.921875 -2.984375 \"/>\n",
       "</symbol>\n",
       "<symbol overflow=\"visible\" id=\"glyph1-4\">\n",
       "<path style=\"stroke:none;\" d=\"M 5.96875 -6.28125 C 5.765625 -7.6875 4.859375 -8.515625 3.5625 -8.515625 C 2.625 -8.515625 1.78125 -8.046875 1.28125 -7.296875 C 0.75 -6.46875 0.515625 -5.421875 0.515625 -3.875 C 0.515625 -2.453125 0.734375 -1.53125 1.234375 -0.78125 C 1.6875 -0.09375 2.4375 0.28125 3.375 0.28125 C 4.984375 0.28125 6.15625 -0.921875 6.15625 -2.59375 C 6.15625 -4.171875 5.078125 -5.296875 3.546875 -5.296875 C 2.71875 -5.296875 2.046875 -4.96875 1.59375 -4.34375 C 1.609375 -6.421875 2.28125 -7.578125 3.484375 -7.578125 C 4.234375 -7.578125 4.75 -7.109375 4.921875 -6.28125 Z M 3.421875 -4.359375 C 4.4375 -4.359375 5.078125 -3.640625 5.078125 -2.515625 C 5.078125 -1.4375 4.359375 -0.65625 3.390625 -0.65625 C 2.40625 -0.65625 1.65625 -1.46875 1.65625 -2.5625 C 1.65625 -3.625 2.375 -4.359375 3.421875 -4.359375 Z M 3.421875 -4.359375 \"/>\n",
       "</symbol>\n",
       "<symbol overflow=\"visible\" id=\"glyph1-5\">\n",
       "<path style=\"stroke:none;\" d=\"M 4.6875 -4.46875 C 5.5625 -5 5.859375 -5.4375 5.859375 -6.234375 C 5.859375 -7.578125 4.8125 -8.515625 3.296875 -8.515625 C 1.796875 -8.515625 0.75 -7.578125 0.75 -6.234375 C 0.75 -5.453125 1.03125 -5.015625 1.890625 -4.46875 C 0.921875 -4.015625 0.4375 -3.296875 0.4375 -2.359375 C 0.4375 -0.796875 1.625 0.28125 3.296875 0.28125 C 4.984375 0.28125 6.15625 -0.796875 6.15625 -2.359375 C 6.15625 -3.296875 5.671875 -4.015625 4.6875 -4.46875 Z M 3.296875 -7.578125 C 4.203125 -7.578125 4.78125 -7.046875 4.78125 -6.21875 C 4.78125 -5.421875 4.1875 -4.890625 3.296875 -4.890625 C 2.40625 -4.890625 1.828125 -5.421875 1.828125 -6.234375 C 1.828125 -7.046875 2.40625 -7.578125 3.296875 -7.578125 Z M 3.296875 -4.015625 C 4.359375 -4.015625 5.078125 -3.34375 5.078125 -2.34375 C 5.078125 -1.328125 4.359375 -0.65625 3.28125 -0.65625 C 2.25 -0.65625 1.53125 -1.34375 1.53125 -2.34375 C 1.53125 -3.34375 2.25 -4.015625 3.296875 -4.015625 Z M 3.296875 -4.015625 \"/>\n",
       "</symbol>\n",
       "</g>\n",
       "</defs>\n",
       "<g id=\"surface214\">\n",
       "<rect x=\"0\" y=\"0\" width=\"504\" height=\"504\" style=\"fill:rgb(100%,100%,100%);fill-opacity:1;stroke:none;\"/>\n",
       "<path style=\"fill-rule:nonzero;fill:rgb(0%,0%,0%);fill-opacity:1;stroke-width:0.75;stroke-linecap:round;stroke-linejoin:round;stroke:rgb(0%,0%,0%);stroke-opacity:1;stroke-miterlimit:10;\" d=\"M 76.464844 407.980469 L 208.59375 407.980469 L 208.59375 390.339844 L 76.464844 390.339844 Z M 76.464844 407.980469 \"/>\n",
       "<path style=\"fill-rule:nonzero;fill:rgb(0%,0%,0%);fill-opacity:1;stroke-width:0.75;stroke-linecap:round;stroke-linejoin:round;stroke:rgb(0%,0%,0%);stroke-opacity:1;stroke-miterlimit:10;\" d=\"M 76.464844 381.519531 L 208.59375 381.519531 L 208.59375 363.878906 L 76.464844 363.878906 Z M 76.464844 381.519531 \"/>\n",
       "<path style=\"fill-rule:nonzero;fill:rgb(0%,0%,0%);fill-opacity:1;stroke-width:0.75;stroke-linecap:round;stroke-linejoin:round;stroke:rgb(0%,0%,0%);stroke-opacity:1;stroke-miterlimit:10;\" d=\"M 76.464844 355.054688 L 171.433594 355.054688 L 171.433594 337.414062 L 76.464844 337.414062 Z M 76.464844 355.054688 \"/>\n",
       "<path style=\"fill-rule:nonzero;fill:rgb(0%,0%,0%);fill-opacity:1;stroke-width:0.75;stroke-linecap:round;stroke-linejoin:round;stroke:rgb(0%,0%,0%);stroke-opacity:1;stroke-miterlimit:10;\" d=\"M 76.464844 328.59375 L 229.238281 328.59375 L 229.238281 310.953125 L 76.464844 310.953125 Z M 76.464844 328.59375 \"/>\n",
       "<path style=\"fill-rule:nonzero;fill:rgb(0%,0%,0%);fill-opacity:1;stroke-width:0.75;stroke-linecap:round;stroke-linejoin:round;stroke:rgb(0%,0%,0%);stroke-opacity:1;stroke-miterlimit:10;\" d=\"M 76.464844 302.132812 L 171.433594 302.132812 L 171.433594 284.492188 L 76.464844 284.492188 Z M 76.464844 302.132812 \"/>\n",
       "<path style=\"fill-rule:nonzero;fill:rgb(0%,0%,0%);fill-opacity:1;stroke-width:0.75;stroke-linecap:round;stroke-linejoin:round;stroke:rgb(0%,0%,0%);stroke-opacity:1;stroke-miterlimit:10;\" d=\"M 76.464844 275.671875 L 266.398438 275.671875 L 266.398438 258.03125 L 76.464844 258.03125 Z M 76.464844 275.671875 \"/>\n",
       "<path style=\"fill-rule:nonzero;fill:rgb(0%,0%,0%);fill-opacity:1;stroke-width:0.75;stroke-linecap:round;stroke-linejoin:round;stroke:rgb(0%,0%,0%);stroke-opacity:1;stroke-miterlimit:10;\" d=\"M 76.464844 249.210938 L 274.660156 249.210938 L 274.660156 231.570312 L 76.464844 231.570312 Z M 76.464844 249.210938 \"/>\n",
       "<path style=\"fill-rule:nonzero;fill:rgb(0%,0%,0%);fill-opacity:1;stroke-width:0.75;stroke-linecap:round;stroke-linejoin:round;stroke:rgb(0%,0%,0%);stroke-opacity:1;stroke-miterlimit:10;\" d=\"M 76.464844 222.75 L 274.660156 222.75 L 274.660156 205.109375 L 76.464844 205.109375 Z M 76.464844 222.75 \"/>\n",
       "<path style=\"fill-rule:nonzero;fill:rgb(0%,0%,0%);fill-opacity:1;stroke-width:0.75;stroke-linecap:round;stroke-linejoin:round;stroke:rgb(0%,0%,0%);stroke-opacity:1;stroke-miterlimit:10;\" d=\"M 97.109375 196.289062 L 299.433594 196.289062 L 299.433594 178.648438 L 97.109375 178.648438 Z M 97.109375 196.289062 \"/>\n",
       "<path style=\"fill-rule:nonzero;fill:rgb(0%,0%,0%);fill-opacity:1;stroke-width:0.75;stroke-linecap:round;stroke-linejoin:round;stroke:rgb(0%,0%,0%);stroke-opacity:1;stroke-miterlimit:10;\" d=\"M 101.238281 169.824219 L 303.5625 169.824219 L 303.5625 152.183594 L 101.238281 152.183594 Z M 101.238281 169.824219 \"/>\n",
       "<path style=\"fill-rule:nonzero;fill:rgb(0%,0%,0%);fill-opacity:1;stroke-width:0.75;stroke-linecap:round;stroke-linejoin:round;stroke:rgb(0%,0%,0%);stroke-opacity:1;stroke-miterlimit:10;\" d=\"M 101.238281 143.363281 L 303.5625 143.363281 L 303.5625 125.722656 L 101.238281 125.722656 Z M 101.238281 143.363281 \"/>\n",
       "<path style=\"fill-rule:nonzero;fill:rgb(0%,0%,0%);fill-opacity:1;stroke-width:0.75;stroke-linecap:round;stroke-linejoin:round;stroke:rgb(0%,0%,0%);stroke-opacity:1;stroke-miterlimit:10;\" d=\"M 159.046875 116.902344 L 365.5 116.902344 L 365.5 99.261719 L 159.046875 99.261719 Z M 159.046875 116.902344 \"/>\n",
       "<path style=\"fill-rule:nonzero;fill:rgb(0%,0%,0%);fill-opacity:1;stroke-width:0.75;stroke-linecap:round;stroke-linejoin:round;stroke:rgb(0%,0%,0%);stroke-opacity:1;stroke-miterlimit:10;\" d=\"M 200.335938 355.054688 L 398.53125 355.054688 L 398.53125 337.414062 L 200.335938 337.414062 Z M 200.335938 355.054688 \"/>\n",
       "<path style=\"fill-rule:nonzero;fill:rgb(0%,0%,0%);fill-opacity:1;stroke-width:0.75;stroke-linecap:round;stroke-linejoin:round;stroke:rgb(0%,0%,0%);stroke-opacity:1;stroke-miterlimit:10;\" d=\"M 200.335938 302.132812 L 406.789062 302.132812 L 406.789062 284.492188 L 200.335938 284.492188 Z M 200.335938 302.132812 \"/>\n",
       "<path style=\"fill-rule:nonzero;fill:rgb(0%,0%,0%);fill-opacity:1;stroke-width:0.75;stroke-linecap:round;stroke-linejoin:round;stroke:rgb(0%,0%,0%);stroke-opacity:1;stroke-miterlimit:10;\" d=\"M 204.464844 90.441406 L 410.917969 90.441406 L 410.917969 72.800781 L 204.464844 72.800781 Z M 204.464844 90.441406 \"/>\n",
       "<path style=\"fill-rule:nonzero;fill:rgb(0%,0%,0%);fill-opacity:1;stroke-width:0.75;stroke-linecap:round;stroke-linejoin:round;stroke:rgb(0%,0%,0%);stroke-opacity:1;stroke-miterlimit:10;\" d=\"M 212.722656 407.980469 L 419.175781 407.980469 L 419.175781 390.339844 L 212.722656 390.339844 Z M 212.722656 407.980469 \"/>\n",
       "<path style=\"fill-rule:nonzero;fill:rgb(0%,0%,0%);fill-opacity:1;stroke-width:0.75;stroke-linecap:round;stroke-linejoin:round;stroke:rgb(0%,0%,0%);stroke-opacity:1;stroke-miterlimit:10;\" d=\"M 220.980469 381.519531 L 423.304688 381.519531 L 423.304688 363.878906 L 220.980469 363.878906 Z M 220.980469 381.519531 \"/>\n",
       "<path style=\"fill-rule:nonzero;fill:rgb(0%,0%,0%);fill-opacity:1;stroke-width:0.75;stroke-linecap:round;stroke-linejoin:round;stroke:rgb(0%,0%,0%);stroke-opacity:1;stroke-miterlimit:10;\" d=\"M 237.496094 328.59375 L 439.820312 328.59375 L 439.820312 310.953125 L 237.496094 310.953125 Z M 237.496094 328.59375 \"/>\n",
       "<path style=\"fill-rule:nonzero;fill:rgb(0%,0%,0%);fill-opacity:1;stroke-width:0.75;stroke-linecap:round;stroke-linejoin:round;stroke:rgb(0%,0%,0%);stroke-opacity:1;stroke-miterlimit:10;\" d=\"M 291.175781 275.671875 L 460.464844 275.671875 L 460.464844 258.03125 L 291.175781 258.03125 Z M 291.175781 275.671875 \"/>\n",
       "<path style=\"fill-rule:nonzero;fill:rgb(0%,0%,0%);fill-opacity:1;stroke-width:0.75;stroke-linecap:round;stroke-linejoin:round;stroke:rgb(0%,0%,0%);stroke-opacity:1;stroke-miterlimit:10;\" d=\"M 377.882812 249.210938 L 460.464844 249.210938 L 460.464844 231.570312 L 377.882812 231.570312 Z M 377.882812 249.210938 \"/>\n",
       "<path style=\"fill-rule:nonzero;fill:rgb(0%,0%,0%);fill-opacity:1;stroke-width:0.75;stroke-linecap:round;stroke-linejoin:round;stroke:rgb(0%,0%,0%);stroke-opacity:1;stroke-miterlimit:10;\" d=\"M 386.140625 222.75 L 460.464844 222.75 L 460.464844 205.109375 L 386.140625 205.109375 Z M 386.140625 222.75 \"/>\n",
       "<path style=\"fill-rule:nonzero;fill:rgb(0%,0%,0%);fill-opacity:1;stroke-width:0.75;stroke-linecap:round;stroke-linejoin:round;stroke:rgb(0%,0%,0%);stroke-opacity:1;stroke-miterlimit:10;\" d=\"M 394.398438 196.289062 L 460.464844 196.289062 L 460.464844 178.648438 L 394.398438 178.648438 Z M 394.398438 196.289062 \"/>\n",
       "<path style=\"fill-rule:nonzero;fill:rgb(0%,0%,0%);fill-opacity:1;stroke-width:0.75;stroke-linecap:round;stroke-linejoin:round;stroke:rgb(0%,0%,0%);stroke-opacity:1;stroke-miterlimit:10;\" d=\"M 402.65625 355.054688 L 460.460938 355.054688 L 460.460938 337.414062 L 402.65625 337.414062 Z M 402.65625 355.054688 \"/>\n",
       "<path style=\"fill-rule:nonzero;fill:rgb(0%,0%,0%);fill-opacity:1;stroke-width:0.75;stroke-linecap:round;stroke-linejoin:round;stroke:rgb(0%,0%,0%);stroke-opacity:1;stroke-miterlimit:10;\" d=\"M 410.917969 302.132812 L 460.464844 302.132812 L 460.464844 284.492188 L 410.917969 284.492188 Z M 410.917969 302.132812 \"/>\n",
       "<path style=\"fill-rule:nonzero;fill:rgb(0%,0%,0%);fill-opacity:1;stroke-width:0.75;stroke-linecap:round;stroke-linejoin:round;stroke:rgb(0%,0%,0%);stroke-opacity:1;stroke-miterlimit:10;\" d=\"M 419.175781 169.824219 L 460.464844 169.824219 L 460.464844 152.183594 L 419.175781 152.183594 Z M 419.175781 169.824219 \"/>\n",
       "<path style=\"fill-rule:nonzero;fill:rgb(0%,0%,0%);fill-opacity:1;stroke-width:0.75;stroke-linecap:round;stroke-linejoin:round;stroke:rgb(0%,0%,0%);stroke-opacity:1;stroke-miterlimit:10;\" d=\"M 419.175781 143.363281 L 460.464844 143.363281 L 460.464844 125.722656 L 419.175781 125.722656 Z M 419.175781 143.363281 \"/>\n",
       "<path style=\"fill-rule:nonzero;fill:rgb(0%,0%,0%);fill-opacity:1;stroke-width:0.75;stroke-linecap:round;stroke-linejoin:round;stroke:rgb(0%,0%,0%);stroke-opacity:1;stroke-miterlimit:10;\" d=\"M 419.175781 116.902344 L 460.464844 116.902344 L 460.464844 99.261719 L 419.175781 99.261719 Z M 419.175781 116.902344 \"/>\n",
       "<g style=\"fill:rgb(0%,0%,0%);fill-opacity:1;\">\n",
       "  <use xlink:href=\"#glyph0-1\" x=\"246.398438\" y=\"34.116211\"/>\n",
       "  <use xlink:href=\"#glyph0-2\" x=\"250.40332\" y=\"34.116211\"/>\n",
       "  <use xlink:href=\"#glyph0-3\" x=\"256.007812\" y=\"34.116211\"/>\n",
       "  <use xlink:href=\"#glyph0-4\" x=\"260.012695\" y=\"34.116211\"/>\n",
       "  <use xlink:href=\"#glyph0-5\" x=\"268.814453\" y=\"34.116211\"/>\n",
       "  <use xlink:href=\"#glyph0-6\" x=\"276.824219\" y=\"34.116211\"/>\n",
       "</g>\n",
       "<path style=\"fill:none;stroke-width:0.75;stroke-linecap:round;stroke-linejoin:round;stroke:rgb(0%,0%,0%);stroke-opacity:1;stroke-miterlimit:10;\" d=\"M 74.398438 430.558594 L 404.722656 430.558594 \"/>\n",
       "<path style=\"fill:none;stroke-width:0.75;stroke-linecap:round;stroke-linejoin:round;stroke:rgb(0%,0%,0%);stroke-opacity:1;stroke-miterlimit:10;\" d=\"M 74.398438 430.558594 L 74.398438 437.761719 \"/>\n",
       "<path style=\"fill:none;stroke-width:0.75;stroke-linecap:round;stroke-linejoin:round;stroke:rgb(0%,0%,0%);stroke-opacity:1;stroke-miterlimit:10;\" d=\"M 156.980469 430.558594 L 156.980469 437.761719 \"/>\n",
       "<path style=\"fill:none;stroke-width:0.75;stroke-linecap:round;stroke-linejoin:round;stroke:rgb(0%,0%,0%);stroke-opacity:1;stroke-miterlimit:10;\" d=\"M 239.5625 430.558594 L 239.5625 437.761719 \"/>\n",
       "<path style=\"fill:none;stroke-width:0.75;stroke-linecap:round;stroke-linejoin:round;stroke:rgb(0%,0%,0%);stroke-opacity:1;stroke-miterlimit:10;\" d=\"M 322.140625 430.558594 L 322.140625 437.761719 \"/>\n",
       "<path style=\"fill:none;stroke-width:0.75;stroke-linecap:round;stroke-linejoin:round;stroke:rgb(0%,0%,0%);stroke-opacity:1;stroke-miterlimit:10;\" d=\"M 404.722656 430.558594 L 404.722656 437.761719 \"/>\n",
       "<g style=\"fill:rgb(0%,0%,0%);fill-opacity:1;\">\n",
       "  <use xlink:href=\"#glyph1-1\" x=\"70.898438\" y=\"455.916016\"/>\n",
       "</g>\n",
       "<g style=\"fill:rgb(0%,0%,0%);fill-opacity:1;\">\n",
       "  <use xlink:href=\"#glyph1-2\" x=\"149.980469\" y=\"455.916016\"/>\n",
       "  <use xlink:href=\"#glyph1-1\" x=\"156.652344\" y=\"455.916016\"/>\n",
       "</g>\n",
       "<g style=\"fill:rgb(0%,0%,0%);fill-opacity:1;\">\n",
       "  <use xlink:href=\"#glyph1-3\" x=\"232.5625\" y=\"455.916016\"/>\n",
       "  <use xlink:href=\"#glyph1-1\" x=\"239.234375\" y=\"455.916016\"/>\n",
       "</g>\n",
       "<g style=\"fill:rgb(0%,0%,0%);fill-opacity:1;\">\n",
       "  <use xlink:href=\"#glyph1-4\" x=\"315.140625\" y=\"455.916016\"/>\n",
       "  <use xlink:href=\"#glyph1-1\" x=\"321.8125\" y=\"455.916016\"/>\n",
       "</g>\n",
       "<g style=\"fill:rgb(0%,0%,0%);fill-opacity:1;\">\n",
       "  <use xlink:href=\"#glyph1-5\" x=\"397.722656\" y=\"455.916016\"/>\n",
       "  <use xlink:href=\"#glyph1-1\" x=\"404.394531\" y=\"455.916016\"/>\n",
       "</g>\n",
       "</g>\n",
       "</svg>\n"
      ],
      "text/plain": [
       "Plot with title “ir.bad”"
      ]
     },
     "metadata": {
      "image/svg+xml": {
       "isolated": true
      }
     },
     "output_type": "display_data"
    }
   ],
   "source": [
    "plotRanges(ir.bad, col = bad.col)"
   ]
  },
  {
   "cell_type": "code",
   "execution_count": 132,
   "metadata": {
    "collapsed": false
   },
   "outputs": [],
   "source": [
    "save(good, bad, plotRanges, ir.good, ir.bad, good.col, bad.col, file = 'wrong.187521889.rda')"
   ]
  },
  {
   "cell_type": "code",
   "execution_count": 133,
   "metadata": {
    "collapsed": false
   },
   "outputs": [
    {
     "data": {
      "text/html": [
       "<strong>pdf:</strong> 2"
      ],
      "text/latex": [
       "\\textbf{pdf:} 2"
      ],
      "text/markdown": [
       "**pdf:** 2"
      ],
      "text/plain": [
       "pdf \n",
       "  2 "
      ]
     },
     "execution_count": 133,
     "metadata": {},
     "output_type": "execute_result"
    },
    {
     "data": {
      "text/html": [
       "<strong>pdf:</strong> 2"
      ],
      "text/latex": [
       "\\textbf{pdf:} 2"
      ],
      "text/markdown": [
       "**pdf:** 2"
      ],
      "text/plain": [
       "pdf \n",
       "  2 "
      ]
     },
     "execution_count": 133,
     "metadata": {},
     "output_type": "execute_result"
    }
   ],
   "source": [
    "pdf('wrong/wrong.187521889.good.pdf')\n",
    "plotRanges(ir.good, col = good.col)\n",
    "dev.off()\n",
    "pdf('wrong/wrong.187521889.bad.pdf')\n",
    "plotRanges(ir.bad, col = bad.col)\n",
    "dev.off()"
   ]
  },
  {
   "cell_type": "code",
   "execution_count": 27,
   "metadata": {
    "collapsed": false
   },
   "outputs": [
    {
     "data": {
      "text/plain": [
       "IRanges of length 1\n",
       "    start end width\n",
       "[1]     1  89    89"
      ]
     },
     "execution_count": 27,
     "metadata": {},
     "output_type": "execute_result"
    }
   ],
   "source": [
    "reduce(ir.bad)"
   ]
  },
  {
   "cell_type": "code",
   "execution_count": 31,
   "metadata": {
    "collapsed": false
   },
   "outputs": [
    {
     "data": {
      "text/plain": [
       "IRanges of length 10\n",
       "     start end width\n",
       "[1]      1  12    12\n",
       "[2]      1  10    10\n",
       "[3]      1  17    17\n",
       "[4]      1  12    12\n",
       "[5]      1  11    11\n",
       "[6]      1  11    11\n",
       "[7]      1  11    11\n",
       "[8]      1  18    18\n",
       "[9]      1  29    29\n",
       "[10]     1  29    29"
      ]
     },
     "execution_count": 31,
     "metadata": {},
     "output_type": "execute_result"
    }
   ],
   "source": [
    "ir.bad[1:10]"
   ]
  },
  {
   "cell_type": "code",
   "execution_count": 32,
   "metadata": {
    "collapsed": false
   },
   "outputs": [
    {
     "name": "stderr",
     "output_type": "stream",
     "text": [
      "Warning message:\n",
      "In fread(\"data/hla.tsv\"): Bumped column 8 to type character on data row 1046, field contains 'GA'. Coercing previously read values in this column from logical, integer or numeric back to character which may not be lossless; e.g., if '00' and '000' occurred before they will now be just '0', and there may be inconsistencies with treatment of ',,' and ',NA,' too (if they occurred in this column before the bump). If this matters please rerun and set 'colClasses' to 'character' for this column. Please note that column type detection uses the first 5 rows, the middle 5 rows and the last 5 rows, so hopefully this message should be very rare. If reporting to datatable-help, please rerun and include the output from verbose=TRUE."
     ]
    }
   ],
   "source": [
    "hla <- fread('data/hla.tsv')"
   ]
  },
  {
   "cell_type": "code",
   "execution_count": 33,
   "metadata": {
    "collapsed": false
   },
   "outputs": [
    {
     "data": {
      "text/html": [
       "<table>\n",
       "<thead><tr><th></th><th scope=col>V1</th><th scope=col>V2</th><th scope=col>V3</th><th scope=col>V4</th><th scope=col>V5</th><th scope=col>V6</th><th scope=col>V7</th><th scope=col>V8</th><th scope=col>V9</th></tr></thead>\n",
       "<tbody>\n",
       "\t<tr><th scope=row>1</th><td>DPB1*01:01-E1-L33-pre--suf-G-suf2-</td><td>DPB1*01:01</td><td>E1</td><td>33</td><td>33</td><td></td><td>G</td><td></td><td>MMVLQVSAAPRTVALTALLMVLLTSVVQGRATP</td></tr>\n",
       "\t<tr><th scope=row>2</th><td>DPB1*01:01-E2-L87-pre-AG-suf-G-suf2-</td><td>DPB1*01:01</td><td>E2</td><td>87</td><td>87</td><td>AG</td><td>G</td><td></td><td>NYVYQGRQECYAFNGTQRFLERYIYNREEYARFDSDVGEFRAVTELGRPAAEYWNSQKDILEEKRAVPDRVCRHNYELDEAVTLQRR</td></tr>\n",
       "\t<tr><th scope=row>3</th><td>DPB1*01:01-E3-L93-pre-TC-suf-A-suf2-</td><td>DPB1*01:01</td><td>E3</td><td>93</td><td>93</td><td>TC</td><td>A</td><td></td><td>QPKVNVSPSKKGPLQHHNLLVCHVTDFYPGSIQVRWFLNGQEETAGVVSTNLIRNGDWTFQILVMLEMTPQQGDVYICQVEHTSLDSPVTVEW</td></tr>\n",
       "\t<tr><th scope=row>4</th><td>DPB1*01:01-E4-L36-pre-AG-suf-G-suf2-</td><td>DPB1*01:01</td><td>E4</td><td>36</td><td>36</td><td>AG</td><td>G</td><td></td><td>AQSDSAQSKTLTGAGGFVLGLIICGVGIFMHRRSKK</td></tr>\n",
       "\t<tr><th scope=row>5</th><td>DPB1*02:01-E1-L33-pre--suf-G-suf2-</td><td>DPB1*02:01</td><td>E1</td><td>33</td><td>33</td><td></td><td>G</td><td></td><td>MMVLQVSAAPRTVALTALLMVLLTSVVQGRATP</td></tr>\n",
       "\t<tr><th scope=row>6</th><td>DPB1*02:01-E2-L87-pre-AG-suf-*-suf2-</td><td>DPB1*02:01</td><td>E2</td><td>87</td><td>87</td><td>AG</td><td>*</td><td></td><td>NYLFQGRQECYAFNGTQRFLERYIYNREEFVRFDSDVGEFRAVTELGRPDEEYWNSQKDILEEERAVPDRMCRHNYELGGPMTLQRR</td></tr>\n",
       "</tbody>\n",
       "</table>\n"
      ],
      "text/latex": [
       "\\begin{tabular}{r|lllllllll}\n",
       "  & V1 & V2 & V3 & V4 & V5 & V6 & V7 & V8 & V9\\\\\n",
       "\\hline\n",
       "\t1 & DPB1*01:01-E1-L33-pre--suf-G-suf2- & DPB1*01:01 & E1 & 33 & 33 &  & G &  & MMVLQVSAAPRTVALTALLMVLLTSVVQGRATP\\\\\n",
       "\t2 & DPB1*01:01-E2-L87-pre-AG-suf-G-suf2- & DPB1*01:01 & E2 & 87 & 87 & AG & G &  & NYVYQGRQECYAFNGTQRFLERYIYNREEYARFDSDVGEFRAVTELGRPAAEYWNSQKDILEEKRAVPDRVCRHNYELDEAVTLQRR\\\\\n",
       "\t3 & DPB1*01:01-E3-L93-pre-TC-suf-A-suf2- & DPB1*01:01 & E3 & 93 & 93 & TC & A &  & QPKVNVSPSKKGPLQHHNLLVCHVTDFYPGSIQVRWFLNGQEETAGVVSTNLIRNGDWTFQILVMLEMTPQQGDVYICQVEHTSLDSPVTVEW\\\\\n",
       "\t4 & DPB1*01:01-E4-L36-pre-AG-suf-G-suf2- & DPB1*01:01 & E4 & 36 & 36 & AG & G &  & AQSDSAQSKTLTGAGGFVLGLIICGVGIFMHRRSKK\\\\\n",
       "\t5 & DPB1*02:01-E1-L33-pre--suf-G-suf2- & DPB1*02:01 & E1 & 33 & 33 &  & G &  & MMVLQVSAAPRTVALTALLMVLLTSVVQGRATP\\\\\n",
       "\t6 & DPB1*02:01-E2-L87-pre-AG-suf-*-suf2- & DPB1*02:01 & E2 & 87 & 87 & AG & * &  & NYLFQGRQECYAFNGTQRFLERYIYNREEFVRFDSDVGEFRAVTELGRPDEEYWNSQKDILEEERAVPDRMCRHNYELGGPMTLQRR\\\\\n",
       "\\end{tabular}\n"
      ],
      "text/plain": [
       "                                     V1         V2 V3 V4 V5 V6 V7 V8\n",
       "1:   DPB1*01:01-E1-L33-pre--suf-G-suf2- DPB1*01:01 E1 33 33     G   \n",
       "2: DPB1*01:01-E2-L87-pre-AG-suf-G-suf2- DPB1*01:01 E2 87 87 AG  G   \n",
       "3: DPB1*01:01-E3-L93-pre-TC-suf-A-suf2- DPB1*01:01 E3 93 93 TC  A   \n",
       "4: DPB1*01:01-E4-L36-pre-AG-suf-G-suf2- DPB1*01:01 E4 36 36 AG  G   \n",
       "5:   DPB1*02:01-E1-L33-pre--suf-G-suf2- DPB1*02:01 E1 33 33     G   \n",
       "6: DPB1*02:01-E2-L87-pre-AG-suf-*-suf2- DPB1*02:01 E2 87 87 AG  *   \n",
       "                                                                                              V9\n",
       "1:                                                             MMVLQVSAAPRTVALTALLMVLLTSVVQGRATP\n",
       "2:       NYVYQGRQECYAFNGTQRFLERYIYNREEYARFDSDVGEFRAVTELGRPAAEYWNSQKDILEEKRAVPDRVCRHNYELDEAVTLQRR\n",
       "3: QPKVNVSPSKKGPLQHHNLLVCHVTDFYPGSIQVRWFLNGQEETAGVVSTNLIRNGDWTFQILVMLEMTPQQGDVYICQVEHTSLDSPVTVEW\n",
       "4:                                                          AQSDSAQSKTLTGAGGFVLGLIICGVGIFMHRRSKK\n",
       "5:                                                             MMVLQVSAAPRTVALTALLMVLLTSVVQGRATP\n",
       "6:       NYLFQGRQECYAFNGTQRFLERYIYNREEFVRFDSDVGEFRAVTELGRPDEEYWNSQKDILEEERAVPDRMCRHNYELGGPMTLQRR"
      ]
     },
     "execution_count": 33,
     "metadata": {},
     "output_type": "execute_result"
    }
   ],
   "source": [
    "head(hla)"
   ]
  },
  {
   "cell_type": "code",
   "execution_count": 34,
   "metadata": {
    "collapsed": false
   },
   "outputs": [
    {
     "name": "stderr",
     "output_type": "stream",
     "text": [
      "Using 'V9' as value column. Use 'value.var' to override\n",
      "Aggregate function missing, defaulting to 'length'\n"
     ]
    }
   ],
   "source": [
    "exons <- dcast(hla, V2~V3)"
   ]
  },
  {
   "cell_type": "code",
   "execution_count": 35,
   "metadata": {
    "collapsed": false
   },
   "outputs": [
    {
     "ename": "ERROR",
     "evalue": "Error in rbindlist(l, use.names, fill, idcol): Item 2 of list input is not a data.frame, data.table or list\n",
     "output_type": "error",
     "traceback": [
      "Error in rbindlist(l, use.names, fill, idcol): Item 2 of list input is not a data.frame, data.table or list\n"
     ]
    },
    {
     "data": {
      "text/plain": [
       "               V2 E1 E2 E3 E4 E5 E6 E7 E8\n",
       "    1:    A*01:01  1  1  1  1  1  1  1  0\n",
       "    2:   A*01:01L  1  1  1  1  1  1  1  0\n",
       "    3:   A*01:01N  1  1  1  1  1  1  1  0\n",
       "    4:    A*01:02  1  1  1  1  1  1  1  0\n",
       "    5:    A*01:03  1  1  1  1  1  1  1  0\n",
       "   ---                                   \n",
       "10226: DRB5*02:06  0  1  1  0  0  0  0  0\n",
       "10227: DRB6*02:01  0  1  1  1  0  0  0  0\n",
       "10228: DRB7*01:01  1  1  1  1  0  0  0  0\n",
       "10229: DRB8*01:01  0  0  1  1  0  0  0  0\n",
       "10230: DRB9*01:01  0  1  0  0  0  0  0  0"
      ]
     },
     "execution_count": 35,
     "metadata": {},
     "output_type": "execute_result"
    }
   ],
   "source": [
    "exons"
   ]
  },
  {
   "cell_type": "code",
   "execution_count": 39,
   "metadata": {
    "collapsed": false
   },
   "outputs": [
    {
     "data": {
      "text/html": [
       "<dl class=dl-horizontal>\n",
       "\t<dt>E1</dt>\n",
       "\t\t<dd>1636</dd>\n",
       "\t<dt>E2</dt>\n",
       "\t\t<dd>10256</dd>\n",
       "\t<dt>E3</dt>\n",
       "\t\t<dd>8219</dd>\n",
       "\t<dt>E4</dt>\n",
       "\t\t<dd>2997</dd>\n",
       "\t<dt>E5</dt>\n",
       "\t\t<dd>1389</dd>\n",
       "\t<dt>E6</dt>\n",
       "\t\t<dd>979</dd>\n",
       "\t<dt>E7</dt>\n",
       "\t\t<dd>904</dd>\n",
       "\t<dt>E8</dt>\n",
       "\t\t<dd>1</dd>\n",
       "</dl>\n"
      ],
      "text/latex": [
       "\\begin{description*}\n",
       "\\item[E1] 1636\n",
       "\\item[E2] 10256\n",
       "\\item[E3] 8219\n",
       "\\item[E4] 2997\n",
       "\\item[E5] 1389\n",
       "\\item[E6] 979\n",
       "\\item[E7] 904\n",
       "\\item[E8] 1\n",
       "\\end{description*}\n"
      ],
      "text/markdown": [
       "E1\n",
       ":   1636E2\n",
       ":   10256E3\n",
       ":   8219E4\n",
       ":   2997E5\n",
       ":   1389E6\n",
       ":   979E7\n",
       ":   904E8\n",
       ":   1\n",
       "\n"
      ],
      "text/plain": [
       "   E1    E2    E3    E4    E5    E6    E7    E8 \n",
       " 1636 10256  8219  2997  1389   979   904     1 "
      ]
     },
     "execution_count": 39,
     "metadata": {},
     "output_type": "execute_result"
    }
   ],
   "source": [
    "colSums(data.frame(exons)[,-1])"
   ]
  },
  {
   "cell_type": "code",
   "execution_count": 40,
   "metadata": {
    "collapsed": true
   },
   "outputs": [],
   "source": [
    "en <- exons$V2\n",
    "tt <- exons[, V2:=NULL]"
   ]
  },
  {
   "cell_type": "code",
   "execution_count": 43,
   "metadata": {
    "collapsed": false
   },
   "outputs": [
    {
     "name": "stdout",
     "output_type": "stream",
     "text": [
      "[1] 2467\n"
     ]
    },
    {
     "data": {
      "text/html": [
       "<dl class=dl-horizontal>\n",
       "\t<dt>E1</dt>\n",
       "\t\t<dd>404</dd>\n",
       "\t<dt>E2</dt>\n",
       "\t\t<dd>2467</dd>\n",
       "\t<dt>E3</dt>\n",
       "\t\t<dd>2470</dd>\n",
       "\t<dt>E4</dt>\n",
       "\t\t<dd>898</dd>\n",
       "\t<dt>E5</dt>\n",
       "\t\t<dd>427</dd>\n",
       "\t<dt>E6</dt>\n",
       "\t\t<dd>265</dd>\n",
       "\t<dt>E7</dt>\n",
       "\t\t<dd>265</dd>\n",
       "\t<dt>E8</dt>\n",
       "\t\t<dd>0</dd>\n",
       "</dl>\n"
      ],
      "text/latex": [
       "\\begin{description*}\n",
       "\\item[E1] 404\n",
       "\\item[E2] 2467\n",
       "\\item[E3] 2470\n",
       "\\item[E4] 898\n",
       "\\item[E5] 427\n",
       "\\item[E6] 265\n",
       "\\item[E7] 265\n",
       "\\item[E8] 0\n",
       "\\end{description*}\n"
      ],
      "text/markdown": [
       "E1\n",
       ":   404E2\n",
       ":   2467E3\n",
       ":   2470E4\n",
       ":   898E5\n",
       ":   427E6\n",
       ":   265E7\n",
       ":   265E8\n",
       ":   0\n",
       "\n"
      ],
      "text/plain": [
       "  E1   E2   E3   E4   E5   E6   E7   E8 \n",
       " 404 2467 2470  898  427  265  265    0 "
      ]
     },
     "execution_count": 43,
     "metadata": {},
     "output_type": "execute_result"
    }
   ],
   "source": [
    "es <- grep('^A', en)\n",
    "print(length(es))\n",
    "colSums(exons[es])"
   ]
  },
  {
   "cell_type": "code",
   "execution_count": 44,
   "metadata": {
    "collapsed": false
   },
   "outputs": [
    {
     "name": "stdout",
     "output_type": "stream",
     "text": [
      "[1] 3138\n"
     ]
    },
    {
     "data": {
      "text/html": [
       "<dl class=dl-horizontal>\n",
       "\t<dt>E1</dt>\n",
       "\t\t<dd>650</dd>\n",
       "\t<dt>E2</dt>\n",
       "\t\t<dd>3139</dd>\n",
       "\t<dt>E3</dt>\n",
       "\t\t<dd>3142</dd>\n",
       "\t<dt>E4</dt>\n",
       "\t\t<dd>1146</dd>\n",
       "\t<dt>E5</dt>\n",
       "\t\t<dd>601</dd>\n",
       "\t<dt>E6</dt>\n",
       "\t\t<dd>374</dd>\n",
       "\t<dt>E7</dt>\n",
       "\t\t<dd>366</dd>\n",
       "\t<dt>E8</dt>\n",
       "\t\t<dd>0</dd>\n",
       "</dl>\n"
      ],
      "text/latex": [
       "\\begin{description*}\n",
       "\\item[E1] 650\n",
       "\\item[E2] 3139\n",
       "\\item[E3] 3142\n",
       "\\item[E4] 1146\n",
       "\\item[E5] 601\n",
       "\\item[E6] 374\n",
       "\\item[E7] 366\n",
       "\\item[E8] 0\n",
       "\\end{description*}\n"
      ],
      "text/markdown": [
       "E1\n",
       ":   650E2\n",
       ":   3139E3\n",
       ":   3142E4\n",
       ":   1146E5\n",
       ":   601E6\n",
       ":   374E7\n",
       ":   366E8\n",
       ":   0\n",
       "\n"
      ],
      "text/plain": [
       "  E1   E2   E3   E4   E5   E6   E7   E8 \n",
       " 650 3139 3142 1146  601  374  366    0 "
      ]
     },
     "execution_count": 44,
     "metadata": {},
     "output_type": "execute_result"
    }
   ],
   "source": [
    "es <- grep('^B', en)\n",
    "print(length(es))\n",
    "colSums(exons[es])"
   ]
  },
  {
   "cell_type": "code",
   "execution_count": 45,
   "metadata": {
    "collapsed": false
   },
   "outputs": [
    {
     "name": "stdout",
     "output_type": "stream",
     "text": [
      "[1] 2078\n"
     ]
    },
    {
     "data": {
      "text/html": [
       "<dl class=dl-horizontal>\n",
       "\t<dt>E1</dt>\n",
       "\t\t<dd>375</dd>\n",
       "\t<dt>E2</dt>\n",
       "\t\t<dd>2082</dd>\n",
       "\t<dt>E3</dt>\n",
       "\t\t<dd>2082</dd>\n",
       "\t<dt>E4</dt>\n",
       "\t\t<dd>663</dd>\n",
       "\t<dt>E5</dt>\n",
       "\t\t<dd>361</dd>\n",
       "\t<dt>E6</dt>\n",
       "\t\t<dd>340</dd>\n",
       "\t<dt>E7</dt>\n",
       "\t\t<dd>273</dd>\n",
       "\t<dt>E8</dt>\n",
       "\t\t<dd>1</dd>\n",
       "</dl>\n"
      ],
      "text/latex": [
       "\\begin{description*}\n",
       "\\item[E1] 375\n",
       "\\item[E2] 2082\n",
       "\\item[E3] 2082\n",
       "\\item[E4] 663\n",
       "\\item[E5] 361\n",
       "\\item[E6] 340\n",
       "\\item[E7] 273\n",
       "\\item[E8] 1\n",
       "\\end{description*}\n"
      ],
      "text/markdown": [
       "E1\n",
       ":   375E2\n",
       ":   2082E3\n",
       ":   2082E4\n",
       ":   663E5\n",
       ":   361E6\n",
       ":   340E7\n",
       ":   273E8\n",
       ":   1\n",
       "\n"
      ],
      "text/plain": [
       "  E1   E2   E3   E4   E5   E6   E7   E8 \n",
       " 375 2082 2082  663  361  340  273    1 "
      ]
     },
     "execution_count": 45,
     "metadata": {},
     "output_type": "execute_result"
    }
   ],
   "source": [
    "es <- grep('^C', en)\n",
    "print(length(es))\n",
    "colSums(exons[es])"
   ]
  },
  {
   "cell_type": "code",
   "execution_count": 46,
   "metadata": {
    "collapsed": false
   },
   "outputs": [
    {
     "name": "stdout",
     "output_type": "stream",
     "text": [
      "[1] 1361\n"
     ]
    },
    {
     "data": {
      "text/html": [
       "<dl class=dl-horizontal>\n",
       "\t<dt>E1</dt>\n",
       "\t\t<dd>113</dd>\n",
       "\t<dt>E2</dt>\n",
       "\t\t<dd>1376</dd>\n",
       "\t<dt>E3</dt>\n",
       "\t\t<dd>194</dd>\n",
       "\t<dt>E4</dt>\n",
       "\t\t<dd>142</dd>\n",
       "\t<dt>E5</dt>\n",
       "\t\t<dd>0</dd>\n",
       "\t<dt>E6</dt>\n",
       "\t\t<dd>0</dd>\n",
       "\t<dt>E7</dt>\n",
       "\t\t<dd>0</dd>\n",
       "\t<dt>E8</dt>\n",
       "\t\t<dd>0</dd>\n",
       "</dl>\n"
      ],
      "text/latex": [
       "\\begin{description*}\n",
       "\\item[E1] 113\n",
       "\\item[E2] 1376\n",
       "\\item[E3] 194\n",
       "\\item[E4] 142\n",
       "\\item[E5] 0\n",
       "\\item[E6] 0\n",
       "\\item[E7] 0\n",
       "\\item[E8] 0\n",
       "\\end{description*}\n"
      ],
      "text/markdown": [
       "E1\n",
       ":   113E2\n",
       ":   1376E3\n",
       ":   194E4\n",
       ":   142E5\n",
       ":   0E6\n",
       ":   0E7\n",
       ":   0E8\n",
       ":   0\n",
       "\n"
      ],
      "text/plain": [
       "  E1   E2   E3   E4   E5   E6   E7   E8 \n",
       " 113 1376  194  142    0    0    0    0 "
      ]
     },
     "execution_count": 46,
     "metadata": {},
     "output_type": "execute_result"
    }
   ],
   "source": [
    "es <- grep('^DRB1', en)\n",
    "print(length(es))\n",
    "colSums(exons[es])"
   ]
  },
  {
   "cell_type": "code",
   "execution_count": 47,
   "metadata": {
    "collapsed": false
   },
   "outputs": [
    {
     "name": "stdout",
     "output_type": "stream",
     "text": [
      "[1] 615\n"
     ]
    },
    {
     "data": {
      "text/html": [
       "<dl class=dl-horizontal>\n",
       "\t<dt>E1</dt>\n",
       "\t\t<dd>54</dd>\n",
       "\t<dt>E2</dt>\n",
       "\t\t<dd>617</dd>\n",
       "\t<dt>E3</dt>\n",
       "\t\t<dd>225</dd>\n",
       "\t<dt>E4</dt>\n",
       "\t\t<dd>83</dd>\n",
       "\t<dt>E5</dt>\n",
       "\t\t<dd>0</dd>\n",
       "\t<dt>E6</dt>\n",
       "\t\t<dd>0</dd>\n",
       "\t<dt>E7</dt>\n",
       "\t\t<dd>0</dd>\n",
       "\t<dt>E8</dt>\n",
       "\t\t<dd>0</dd>\n",
       "</dl>\n"
      ],
      "text/latex": [
       "\\begin{description*}\n",
       "\\item[E1] 54\n",
       "\\item[E2] 617\n",
       "\\item[E3] 225\n",
       "\\item[E4] 83\n",
       "\\item[E5] 0\n",
       "\\item[E6] 0\n",
       "\\item[E7] 0\n",
       "\\item[E8] 0\n",
       "\\end{description*}\n"
      ],
      "text/markdown": [
       "E1\n",
       ":   54E2\n",
       ":   617E3\n",
       ":   225E4\n",
       ":   83E5\n",
       ":   0E6\n",
       ":   0E7\n",
       ":   0E8\n",
       ":   0\n",
       "\n"
      ],
      "text/plain": [
       " E1  E2  E3  E4  E5  E6  E7  E8 \n",
       " 54 617 225  83   0   0   0   0 "
      ]
     },
     "execution_count": 47,
     "metadata": {},
     "output_type": "execute_result"
    }
   ],
   "source": [
    "es <- grep('^DQB1', en)\n",
    "print(length(es))\n",
    "colSums(exons[es])"
   ]
  },
  {
   "cell_type": "code",
   "execution_count": 48,
   "metadata": {
    "collapsed": false
   },
   "outputs": [
    {
     "name": "stdout",
     "output_type": "stream",
     "text": [
      "[1] 488\n"
     ]
    },
    {
     "data": {
      "text/html": [
       "<dl class=dl-horizontal>\n",
       "\t<dt>E1</dt>\n",
       "\t\t<dd>30</dd>\n",
       "\t<dt>E2</dt>\n",
       "\t\t<dd>492</dd>\n",
       "\t<dt>E3</dt>\n",
       "\t\t<dd>71</dd>\n",
       "\t<dt>E4</dt>\n",
       "\t\t<dd>49</dd>\n",
       "\t<dt>E5</dt>\n",
       "\t\t<dd>0</dd>\n",
       "\t<dt>E6</dt>\n",
       "\t\t<dd>0</dd>\n",
       "\t<dt>E7</dt>\n",
       "\t\t<dd>0</dd>\n",
       "\t<dt>E8</dt>\n",
       "\t\t<dd>0</dd>\n",
       "</dl>\n"
      ],
      "text/latex": [
       "\\begin{description*}\n",
       "\\item[E1] 30\n",
       "\\item[E2] 492\n",
       "\\item[E3] 71\n",
       "\\item[E4] 49\n",
       "\\item[E5] 0\n",
       "\\item[E6] 0\n",
       "\\item[E7] 0\n",
       "\\item[E8] 0\n",
       "\\end{description*}\n"
      ],
      "text/markdown": [
       "E1\n",
       ":   30E2\n",
       ":   492E3\n",
       ":   71E4\n",
       ":   49E5\n",
       ":   0E6\n",
       ":   0E7\n",
       ":   0E8\n",
       ":   0\n",
       "\n"
      ],
      "text/plain": [
       " E1  E2  E3  E4  E5  E6  E7  E8 \n",
       " 30 492  71  49   0   0   0   0 "
      ]
     },
     "execution_count": 48,
     "metadata": {},
     "output_type": "execute_result"
    }
   ],
   "source": [
    "es <- grep('^DPB1', en)\n",
    "print(length(es))\n",
    "colSums(exons[es])"
   ]
  },
  {
   "cell_type": "code",
   "execution_count": 91,
   "metadata": {
    "collapsed": false
   },
   "outputs": [
    {
     "data": {
      "image/png": "[encoded data removed]",
      "image/svg+xml": [
       "<?xml version=\"1.0\" encoding=\"UTF-8\"?>\n",
       "<svg xmlns=\"http://www.w3.org/2000/svg\" xmlns:xlink=\"http://www.w3.org/1999/xlink\" width=\"504pt\" height=\"504pt\" viewBox=\"0 0 504 504\" version=\"1.1\">\n",
       "<defs>\n",
       "<g>\n",
       "<symbol overflow=\"visible\" id=\"glyph0-0\">\n",
       "<path style=\"stroke:none;\" d=\"\"/>\n",
       "</symbol>\n",
       "<symbol overflow=\"visible\" id=\"glyph0-1\">\n",
       "<path style=\"stroke:none;\" d=\"M 2.984375 -7.78125 L 0.96875 -7.78125 L 0.96875 0 L 2.984375 0 Z M 2.984375 -10.5 L 0.96875 -10.5 L 0.96875 -8.703125 L 2.984375 -8.703125 Z M 2.984375 -10.5 \"/>\n",
       "</symbol>\n",
       "<symbol overflow=\"visible\" id=\"glyph0-2\">\n",
       "<path style=\"stroke:none;\" d=\"M 0.90625 -7.78125 L 0.90625 0 L 2.921875 0 L 2.921875 -4.140625 C 2.921875 -5.3125 3.515625 -5.90625 4.703125 -5.90625 C 4.90625 -5.90625 5.0625 -5.890625 5.328125 -5.84375 L 5.328125 -7.890625 C 5.21875 -7.90625 5.140625 -7.90625 5.078125 -7.90625 C 4.15625 -7.90625 3.359375 -7.296875 2.921875 -6.25 L 2.921875 -7.78125 Z M 0.90625 -7.78125 \"/>\n",
       "</symbol>\n",
       "<symbol overflow=\"visible\" id=\"glyph0-3\">\n",
       "<path style=\"stroke:none;\" d=\"M 3.078125 -2.109375 L 0.921875 -2.109375 L 0.921875 0 L 3.078125 0 Z M 3.078125 -2.109375 \"/>\n",
       "</symbol>\n",
       "<symbol overflow=\"visible\" id=\"glyph0-4\">\n",
       "<path style=\"stroke:none;\" d=\"M 5.875 -7.78125 L 5.875 -6.578125 C 5.265625 -7.5 4.609375 -7.90625 3.71875 -7.90625 C 1.875 -7.90625 0.484375 -6.109375 0.484375 -3.703125 C 0.484375 -1.28125 1.75 0.328125 3.671875 0.328125 C 4.578125 0.328125 5.125 0.0625 5.875 -0.796875 L 5.875 0.265625 C 5.875 1.203125 5.171875 1.84375 4.15625 1.84375 C 3.40625 1.84375 2.890625 1.53125 2.734375 0.9375 L 0.640625 0.9375 C 0.65625 1.546875 0.890625 1.953125 1.40625 2.390625 C 2.03125 2.890625 2.890625 3.140625 4.09375 3.140625 C 6.4375 3.140625 7.796875 2.09375 7.796875 0.265625 L 7.796875 -7.78125 Z M 4.15625 -6.21875 C 5.15625 -6.21875 5.90625 -5.171875 5.90625 -3.734375 C 5.90625 -2.3125 5.171875 -1.359375 4.125 -1.359375 C 3.171875 -1.359375 2.5 -2.3125 2.5 -3.734375 C 2.5 -5.203125 3.171875 -6.21875 4.15625 -6.21875 Z M 4.15625 -6.21875 \"/>\n",
       "</symbol>\n",
       "<symbol overflow=\"visible\" id=\"glyph0-5\">\n",
       "<path style=\"stroke:none;\" d=\"M 4.34375 -7.90625 C 1.953125 -7.90625 0.5 -6.34375 0.5 -3.78125 C 0.5 -1.21875 1.953125 0.328125 4.34375 0.328125 C 6.71875 0.328125 8.203125 -1.234375 8.203125 -3.734375 C 8.203125 -6.375 6.765625 -7.90625 4.34375 -7.90625 Z M 4.34375 -6.28125 C 5.453125 -6.28125 6.1875 -5.28125 6.1875 -3.765625 C 6.1875 -2.3125 5.4375 -1.296875 4.34375 -1.296875 C 3.25 -1.296875 2.515625 -2.3125 2.515625 -3.78125 C 2.515625 -5.265625 3.25 -6.28125 4.34375 -6.28125 Z M 4.34375 -6.28125 \"/>\n",
       "</symbol>\n",
       "<symbol overflow=\"visible\" id=\"glyph0-6\">\n",
       "<path style=\"stroke:none;\" d=\"M 5.828125 0 L 7.84375 0 L 7.84375 -10.5 L 5.828125 -10.5 L 5.828125 -6.765625 C 5.328125 -7.546875 4.65625 -7.90625 3.6875 -7.90625 C 1.828125 -7.90625 0.421875 -6.125 0.421875 -3.78125 C 0.421875 -2.71875 0.734375 -1.65625 1.25 -0.90625 C 1.78125 -0.15625 2.734375 0.328125 3.6875 0.328125 C 4.65625 0.328125 5.328125 -0.03125 5.828125 -0.796875 Z M 4.140625 -6.21875 C 5.15625 -6.21875 5.828125 -5.234375 5.828125 -3.75 C 5.828125 -2.328125 5.140625 -1.359375 4.140625 -1.359375 C 3.125 -1.359375 2.4375 -2.34375 2.4375 -3.78125 C 2.4375 -5.21875 3.125 -6.21875 4.140625 -6.21875 Z M 4.140625 -6.21875 \"/>\n",
       "</symbol>\n",
       "<symbol overflow=\"visible\" id=\"glyph1-0\">\n",
       "<path style=\"stroke:none;\" d=\"\"/>\n",
       "</symbol>\n",
       "<symbol overflow=\"visible\" id=\"glyph1-1\">\n",
       "<path style=\"stroke:none;\" d=\"M 3.296875 -8.515625 C 2.515625 -8.515625 1.78125 -8.15625 1.34375 -7.578125 C 0.796875 -6.828125 0.515625 -5.6875 0.515625 -4.109375 C 0.515625 -1.25 1.46875 0.28125 3.296875 0.28125 C 5.09375 0.28125 6.078125 -1.25 6.078125 -4.046875 C 6.078125 -5.703125 5.8125 -6.796875 5.25 -7.578125 C 4.8125 -8.171875 4.109375 -8.515625 3.296875 -8.515625 Z M 3.296875 -7.578125 C 4.4375 -7.578125 5 -6.421875 5 -4.140625 C 5 -1.734375 4.453125 -0.59375 3.28125 -0.59375 C 2.15625 -0.59375 1.59375 -1.78125 1.59375 -4.109375 C 1.59375 -6.4375 2.15625 -7.578125 3.296875 -7.578125 Z M 3.296875 -7.578125 \"/>\n",
       "</symbol>\n",
       "<symbol overflow=\"visible\" id=\"glyph1-2\">\n",
       "<path style=\"stroke:none;\" d=\"M 6.078125 -1.046875 L 1.59375 -1.046875 C 1.703125 -1.734375 2.09375 -2.1875 3.125 -2.796875 L 4.328125 -3.4375 C 5.515625 -4.09375 6.125 -4.96875 6.125 -6.015625 C 6.125 -6.71875 5.84375 -7.375 5.34375 -7.84375 C 4.84375 -8.296875 4.21875 -8.515625 3.40625 -8.515625 C 2.328125 -8.515625 1.53125 -8.125 1.0625 -7.40625 C 0.75 -6.953125 0.625 -6.421875 0.59375 -5.5625 L 1.65625 -5.5625 C 1.6875 -6.125 1.765625 -6.484375 1.90625 -6.75 C 2.1875 -7.265625 2.734375 -7.578125 3.375 -7.578125 C 4.328125 -7.578125 5.046875 -6.90625 5.046875 -5.984375 C 5.046875 -5.3125 4.65625 -4.734375 3.90625 -4.3125 L 2.796875 -3.6875 C 1.015625 -2.671875 0.5 -1.875 0.40625 0 L 6.078125 0 Z M 6.078125 -1.046875 \"/>\n",
       "</symbol>\n",
       "<symbol overflow=\"visible\" id=\"glyph1-3\">\n",
       "<path style=\"stroke:none;\" d=\"M 3.921875 -2.046875 L 3.921875 0 L 4.984375 0 L 4.984375 -2.046875 L 6.234375 -2.046875 L 6.234375 -2.984375 L 4.984375 -2.984375 L 4.984375 -8.515625 L 4.203125 -8.515625 L 0.34375 -3.15625 L 0.34375 -2.046875 Z M 3.921875 -2.984375 L 1.265625 -2.984375 L 3.921875 -6.703125 Z M 3.921875 -2.984375 \"/>\n",
       "</symbol>\n",
       "<symbol overflow=\"visible\" id=\"glyph1-4\">\n",
       "<path style=\"stroke:none;\" d=\"M 5.96875 -6.28125 C 5.765625 -7.6875 4.859375 -8.515625 3.5625 -8.515625 C 2.625 -8.515625 1.78125 -8.046875 1.28125 -7.296875 C 0.75 -6.46875 0.515625 -5.421875 0.515625 -3.875 C 0.515625 -2.453125 0.734375 -1.53125 1.234375 -0.78125 C 1.6875 -0.09375 2.4375 0.28125 3.375 0.28125 C 4.984375 0.28125 6.15625 -0.921875 6.15625 -2.59375 C 6.15625 -4.171875 5.078125 -5.296875 3.546875 -5.296875 C 2.71875 -5.296875 2.046875 -4.96875 1.59375 -4.34375 C 1.609375 -6.421875 2.28125 -7.578125 3.484375 -7.578125 C 4.234375 -7.578125 4.75 -7.109375 4.921875 -6.28125 Z M 3.421875 -4.359375 C 4.4375 -4.359375 5.078125 -3.640625 5.078125 -2.515625 C 5.078125 -1.4375 4.359375 -0.65625 3.390625 -0.65625 C 2.40625 -0.65625 1.65625 -1.46875 1.65625 -2.5625 C 1.65625 -3.625 2.375 -4.359375 3.421875 -4.359375 Z M 3.421875 -4.359375 \"/>\n",
       "</symbol>\n",
       "<symbol overflow=\"visible\" id=\"glyph1-5\">\n",
       "<path style=\"stroke:none;\" d=\"M 4.6875 -4.46875 C 5.5625 -5 5.859375 -5.4375 5.859375 -6.234375 C 5.859375 -7.578125 4.8125 -8.515625 3.296875 -8.515625 C 1.796875 -8.515625 0.75 -7.578125 0.75 -6.234375 C 0.75 -5.453125 1.03125 -5.015625 1.890625 -4.46875 C 0.921875 -4.015625 0.4375 -3.296875 0.4375 -2.359375 C 0.4375 -0.796875 1.625 0.28125 3.296875 0.28125 C 4.984375 0.28125 6.15625 -0.796875 6.15625 -2.359375 C 6.15625 -3.296875 5.671875 -4.015625 4.6875 -4.46875 Z M 3.296875 -7.578125 C 4.203125 -7.578125 4.78125 -7.046875 4.78125 -6.21875 C 4.78125 -5.421875 4.1875 -4.890625 3.296875 -4.890625 C 2.40625 -4.890625 1.828125 -5.421875 1.828125 -6.234375 C 1.828125 -7.046875 2.40625 -7.578125 3.296875 -7.578125 Z M 3.296875 -4.015625 C 4.359375 -4.015625 5.078125 -3.34375 5.078125 -2.34375 C 5.078125 -1.328125 4.359375 -0.65625 3.28125 -0.65625 C 2.25 -0.65625 1.53125 -1.34375 1.53125 -2.34375 C 1.53125 -3.34375 2.25 -4.015625 3.296875 -4.015625 Z M 3.296875 -4.015625 \"/>\n",
       "</symbol>\n",
       "</g>\n",
       "</defs>\n",
       "<g id=\"surface160\">\n",
       "<rect x=\"0\" y=\"0\" width=\"504\" height=\"504\" style=\"fill:rgb(100%,100%,100%);fill-opacity:1;stroke:none;\"/>\n",
       "<path style=\"fill-rule:nonzero;fill:rgb(0%,0%,0%);fill-opacity:1;stroke-width:0.75;stroke-linecap:round;stroke-linejoin:round;stroke:rgb(0%,0%,0%);stroke-opacity:1;stroke-miterlimit:10;\" d=\"M 159.046875 407.246094 L 365.5 407.246094 L 365.5 388.136719 L 159.046875 388.136719 Z M 159.046875 407.246094 \"/>\n",
       "<path style=\"fill-rule:nonzero;fill:rgb(49.803922%,49.803922%,49.803922%);fill-opacity:1;stroke-width:0.75;stroke-linecap:round;stroke-linejoin:round;stroke:rgb(0%,0%,0%);stroke-opacity:1;stroke-miterlimit:10;\" d=\"M 200.335938 378.578125 L 398.53125 378.578125 L 398.53125 359.46875 L 200.335938 359.46875 Z M 200.335938 378.578125 \"/>\n",
       "<path style=\"fill-rule:nonzero;fill:rgb(0%,0%,0%);fill-opacity:1;stroke-width:0.75;stroke-linecap:round;stroke-linejoin:round;stroke:rgb(0%,0%,0%);stroke-opacity:1;stroke-miterlimit:10;\" d=\"M 200.335938 349.910156 L 406.789062 349.910156 L 406.789062 330.800781 L 200.335938 330.800781 Z M 200.335938 349.910156 \"/>\n",
       "<path style=\"fill-rule:nonzero;fill:rgb(49.803922%,49.803922%,49.803922%);fill-opacity:1;stroke-width:0.75;stroke-linecap:round;stroke-linejoin:round;stroke:rgb(0%,0%,0%);stroke-opacity:1;stroke-miterlimit:10;\" d=\"M 204.464844 321.246094 L 410.917969 321.246094 L 410.917969 302.136719 L 204.464844 302.136719 Z M 204.464844 321.246094 \"/>\n",
       "<path style=\"fill-rule:nonzero;fill:rgb(0%,0%,0%);fill-opacity:1;stroke-width:0.75;stroke-linecap:round;stroke-linejoin:round;stroke:rgb(0%,0%,0%);stroke-opacity:1;stroke-miterlimit:10;\" d=\"M 212.722656 292.578125 L 419.175781 292.578125 L 419.175781 273.46875 L 212.722656 273.46875 Z M 212.722656 292.578125 \"/>\n",
       "<path style=\"fill-rule:nonzero;fill:rgb(49.803922%,49.803922%,49.803922%);fill-opacity:1;stroke-width:0.75;stroke-linecap:round;stroke-linejoin:round;stroke:rgb(0%,0%,0%);stroke-opacity:1;stroke-miterlimit:10;\" d=\"M 220.980469 263.910156 L 423.304688 263.910156 L 423.304688 244.800781 L 220.980469 244.800781 Z M 220.980469 263.910156 \"/>\n",
       "<path style=\"fill-rule:nonzero;fill:rgb(0%,0%,0%);fill-opacity:1;stroke-width:0.75;stroke-linecap:round;stroke-linejoin:round;stroke:rgb(0%,0%,0%);stroke-opacity:1;stroke-miterlimit:10;\" d=\"M 237.496094 235.246094 L 439.820312 235.246094 L 439.820312 216.136719 L 237.496094 216.136719 Z M 237.496094 235.246094 \"/>\n",
       "<path style=\"fill-rule:nonzero;fill:rgb(49.803922%,49.803922%,49.803922%);fill-opacity:1;stroke-width:0.75;stroke-linecap:round;stroke-linejoin:round;stroke:rgb(0%,0%,0%);stroke-opacity:1;stroke-miterlimit:10;\" d=\"M 291.175781 206.578125 L 460.464844 206.578125 L 460.464844 187.46875 L 291.175781 187.46875 Z M 291.175781 206.578125 \"/>\n",
       "<path style=\"fill-rule:nonzero;fill:rgb(0%,0%,0%);fill-opacity:1;stroke-width:0.75;stroke-linecap:round;stroke-linejoin:round;stroke:rgb(0%,0%,0%);stroke-opacity:1;stroke-miterlimit:10;\" d=\"M 377.882812 407.246094 L 460.464844 407.246094 L 460.464844 388.136719 L 377.882812 388.136719 Z M 377.882812 407.246094 \"/>\n",
       "<path style=\"fill-rule:nonzero;fill:rgb(49.803922%,49.803922%,49.803922%);fill-opacity:1;stroke-width:0.75;stroke-linecap:round;stroke-linejoin:round;stroke:rgb(0%,0%,0%);stroke-opacity:1;stroke-miterlimit:10;\" d=\"M 386.140625 177.910156 L 460.464844 177.910156 L 460.464844 158.800781 L 386.140625 158.800781 Z M 386.140625 177.910156 \"/>\n",
       "<path style=\"fill-rule:nonzero;fill:rgb(0%,0%,0%);fill-opacity:1;stroke-width:0.75;stroke-linecap:round;stroke-linejoin:round;stroke:rgb(0%,0%,0%);stroke-opacity:1;stroke-miterlimit:10;\" d=\"M 394.398438 149.246094 L 460.464844 149.246094 L 460.464844 130.136719 L 394.398438 130.136719 Z M 394.398438 149.246094 \"/>\n",
       "<path style=\"fill-rule:nonzero;fill:rgb(49.803922%,49.803922%,49.803922%);fill-opacity:1;stroke-width:0.75;stroke-linecap:round;stroke-linejoin:round;stroke:rgb(0%,0%,0%);stroke-opacity:1;stroke-miterlimit:10;\" d=\"M 402.65625 378.578125 L 460.460938 378.578125 L 460.460938 359.46875 L 402.65625 359.46875 Z M 402.65625 378.578125 \"/>\n",
       "<path style=\"fill-rule:nonzero;fill:rgb(0%,0%,0%);fill-opacity:1;stroke-width:0.75;stroke-linecap:round;stroke-linejoin:round;stroke:rgb(0%,0%,0%);stroke-opacity:1;stroke-miterlimit:10;\" d=\"M 410.917969 349.910156 L 460.464844 349.910156 L 460.464844 330.800781 L 410.917969 330.800781 Z M 410.917969 349.910156 \"/>\n",
       "<path style=\"fill-rule:nonzero;fill:rgb(49.803922%,49.803922%,49.803922%);fill-opacity:1;stroke-width:0.75;stroke-linecap:round;stroke-linejoin:round;stroke:rgb(0%,0%,0%);stroke-opacity:1;stroke-miterlimit:10;\" d=\"M 419.175781 321.246094 L 460.464844 321.246094 L 460.464844 302.136719 L 419.175781 302.136719 Z M 419.175781 321.246094 \"/>\n",
       "<path style=\"fill-rule:nonzero;fill:rgb(0%,0%,0%);fill-opacity:1;stroke-width:0.75;stroke-linecap:round;stroke-linejoin:round;stroke:rgb(0%,0%,0%);stroke-opacity:1;stroke-miterlimit:10;\" d=\"M 419.175781 120.578125 L 460.464844 120.578125 L 460.464844 101.46875 L 419.175781 101.46875 Z M 419.175781 120.578125 \"/>\n",
       "<path style=\"fill-rule:nonzero;fill:rgb(49.803922%,49.803922%,49.803922%);fill-opacity:1;stroke-width:0.75;stroke-linecap:round;stroke-linejoin:round;stroke:rgb(0%,0%,0%);stroke-opacity:1;stroke-miterlimit:10;\" d=\"M 419.175781 91.910156 L 460.464844 91.910156 L 460.464844 72.800781 L 419.175781 72.800781 Z M 419.175781 91.910156 \"/>\n",
       "<g style=\"fill:rgb(0%,0%,0%);fill-opacity:1;\">\n",
       "  <use xlink:href=\"#glyph0-1\" x=\"241.898438\" y=\"34.116211\"/>\n",
       "  <use xlink:href=\"#glyph0-2\" x=\"245.90332\" y=\"34.116211\"/>\n",
       "  <use xlink:href=\"#glyph0-3\" x=\"251.507812\" y=\"34.116211\"/>\n",
       "  <use xlink:href=\"#glyph0-4\" x=\"255.512695\" y=\"34.116211\"/>\n",
       "  <use xlink:href=\"#glyph0-5\" x=\"264.314453\" y=\"34.116211\"/>\n",
       "  <use xlink:href=\"#glyph0-5\" x=\"273.116211\" y=\"34.116211\"/>\n",
       "  <use xlink:href=\"#glyph0-6\" x=\"281.917969\" y=\"34.116211\"/>\n",
       "</g>\n",
       "<path style=\"fill:none;stroke-width:0.75;stroke-linecap:round;stroke-linejoin:round;stroke:rgb(0%,0%,0%);stroke-opacity:1;stroke-miterlimit:10;\" d=\"M 74.398438 430.558594 L 404.722656 430.558594 \"/>\n",
       "<path style=\"fill:none;stroke-width:0.75;stroke-linecap:round;stroke-linejoin:round;stroke:rgb(0%,0%,0%);stroke-opacity:1;stroke-miterlimit:10;\" d=\"M 74.398438 430.558594 L 74.398438 437.761719 \"/>\n",
       "<path style=\"fill:none;stroke-width:0.75;stroke-linecap:round;stroke-linejoin:round;stroke:rgb(0%,0%,0%);stroke-opacity:1;stroke-miterlimit:10;\" d=\"M 156.980469 430.558594 L 156.980469 437.761719 \"/>\n",
       "<path style=\"fill:none;stroke-width:0.75;stroke-linecap:round;stroke-linejoin:round;stroke:rgb(0%,0%,0%);stroke-opacity:1;stroke-miterlimit:10;\" d=\"M 239.5625 430.558594 L 239.5625 437.761719 \"/>\n",
       "<path style=\"fill:none;stroke-width:0.75;stroke-linecap:round;stroke-linejoin:round;stroke:rgb(0%,0%,0%);stroke-opacity:1;stroke-miterlimit:10;\" d=\"M 322.140625 430.558594 L 322.140625 437.761719 \"/>\n",
       "<path style=\"fill:none;stroke-width:0.75;stroke-linecap:round;stroke-linejoin:round;stroke:rgb(0%,0%,0%);stroke-opacity:1;stroke-miterlimit:10;\" d=\"M 404.722656 430.558594 L 404.722656 437.761719 \"/>\n",
       "<g style=\"fill:rgb(0%,0%,0%);fill-opacity:1;\">\n",
       "  <use xlink:href=\"#glyph1-1\" x=\"70.898438\" y=\"455.916016\"/>\n",
       "</g>\n",
       "<g style=\"fill:rgb(0%,0%,0%);fill-opacity:1;\">\n",
       "  <use xlink:href=\"#glyph1-2\" x=\"149.980469\" y=\"455.916016\"/>\n",
       "  <use xlink:href=\"#glyph1-1\" x=\"156.652344\" y=\"455.916016\"/>\n",
       "</g>\n",
       "<g style=\"fill:rgb(0%,0%,0%);fill-opacity:1;\">\n",
       "  <use xlink:href=\"#glyph1-3\" x=\"232.5625\" y=\"455.916016\"/>\n",
       "  <use xlink:href=\"#glyph1-1\" x=\"239.234375\" y=\"455.916016\"/>\n",
       "</g>\n",
       "<g style=\"fill:rgb(0%,0%,0%);fill-opacity:1;\">\n",
       "  <use xlink:href=\"#glyph1-4\" x=\"315.140625\" y=\"455.916016\"/>\n",
       "  <use xlink:href=\"#glyph1-1\" x=\"321.8125\" y=\"455.916016\"/>\n",
       "</g>\n",
       "<g style=\"fill:rgb(0%,0%,0%);fill-opacity:1;\">\n",
       "  <use xlink:href=\"#glyph1-5\" x=\"397.722656\" y=\"455.916016\"/>\n",
       "  <use xlink:href=\"#glyph1-1\" x=\"404.394531\" y=\"455.916016\"/>\n",
       "</g>\n",
       "</g>\n",
       "</svg>\n"
      ],
      "text/plain": [
       "Plot with title “ir.good”"
      ]
     },
     "metadata": {
      "image/svg+xml": {
       "isolated": true
      }
     },
     "output_type": "display_data"
    }
   ],
   "source": [
    "plotRanges2 <- function(x, xlim = x, main = deparse(substitute(x)), col = \"black\", sep = 0.5, ...)\n",
    " {\n",
    " height <- 1\n",
    " if (is(xlim, \"Ranges\"))\n",
    " xlim <- c(0, max(end(xlim)))\n",
    " bins <- disjointBins(IRanges(start(x), end(x) + 1))\n",
    " plot.new()\n",
    " plot.window(xlim, c(0, max(bins)*(height + sep)))\n",
    " ybottom <- bins * (sep + height) - height\n",
    " rect(start(x)-0.5, ybottom, end(x)+0.5, ybottom + height, col = col, ...)\n",
    " title(main)\n",
    " axis(1)\n",
    " }\n",
    "plotRanges2(ir.good, col = rep(c('black', 'gray50'), 8))"
   ]
  },
  {
   "cell_type": "code",
   "execution_count": 92,
   "metadata": {
    "collapsed": false
   },
   "outputs": [
    {
     "data": {
      "text/html": [
       "\n",
       "<table width=\"100%\" summary=\"page for IRanges-constructor {IRanges}\"><tr><td>IRanges-constructor {IRanges}</td><td style=\"text-align: right;\">R Documentation</td></tr></table>\n",
       "\n",
       "<h2>The IRanges constructor and supporting functions</h2>\n",
       "\n",
       "<h3>Description</h3>\n",
       "\n",
       "<p>The <code>IRanges</code> function is a constructor that can be used\n",
       "to create IRanges instances.\n",
       "</p>\n",
       "<p><code>solveUserSEW0</code> and <code>solveUserSEW</code> are utility functions that\n",
       "solve a set of user-supplied start/end/width values.\n",
       "</p>\n",
       "\n",
       "\n",
       "<h3>Usage</h3>\n",
       "\n",
       "<pre>\n",
       "## IRanges constructor:\n",
       "IRanges(start=NULL, end=NULL, width=NULL, names=NULL)\n",
       "\n",
       "## Supporting functions (not for the end user):\n",
       "solveUserSEW0(start=NULL, end=NULL, width=NULL)\n",
       "solveUserSEW(refwidths, start=NA, end=NA, width=NA,\n",
       "             rep.refwidths=FALSE,\n",
       "             translate.negative.coord=TRUE,\n",
       "             allow.nonnarrowing=FALSE)\n",
       "</pre>\n",
       "\n",
       "\n",
       "<h3>Arguments</h3>\n",
       "\n",
       "<table summary=\"R argblock\">\n",
       "<tr valign=\"top\"><td><code>start, end, width</code></td>\n",
       "<td>\n",
       "\n",
       "<p>For <code>IRanges</code> and <code>solveUserSEW0</code>: <code>NULL</code>,\n",
       "or vector of integers (eventually with NAs).\n",
       "</p>\n",
       "<p>For <code>solveUserSEW</code>: vector of integers (eventually\n",
       "with NAs).\n",
       "</p>\n",
       "</td></tr>\n",
       "<tr valign=\"top\"><td><code>names</code></td>\n",
       "<td>\n",
       "\n",
       "<p>A character vector or <code>NULL</code>.\n",
       "</p>\n",
       "</td></tr>\n",
       "<tr valign=\"top\"><td><code>refwidths</code></td>\n",
       "<td>\n",
       "\n",
       "<p>Vector of non-NA non-negative integers containing the\n",
       "reference widths.\n",
       "</p>\n",
       "</td></tr>\n",
       "<tr valign=\"top\"><td><code>rep.refwidths</code></td>\n",
       "<td>\n",
       "\n",
       "<p><code>TRUE</code> or <code>FALSE</code>.\n",
       "Use of <code>rep.refwidths=TRUE</code> is supported only when\n",
       "<code>refwidths</code> is of length 1.\n",
       "</p>\n",
       "</td></tr>\n",
       "<tr valign=\"top\"><td><code>translate.negative.coord, allow.nonnarrowing</code></td>\n",
       "<td>\n",
       "\n",
       "<p><code>TRUE</code> or <code>FALSE</code>.\n",
       "</p>\n",
       "</td></tr>\n",
       "</table>\n",
       "\n",
       "\n",
       "<h3>IRanges constructor</h3>\n",
       "\n",
       "<p>Return the IRanges object containing the ranges specified by\n",
       "<code>start</code>, <code>end</code> and <code>width</code>.\n",
       "Input falls into one of two categories:\n",
       "</p>\n",
       "\n",
       "<dl>\n",
       "<dt>Category 1</dt><dd>\n",
       "<p><code>start</code>, <code>end</code> and <code>width</code> are numeric vectors\n",
       "(or NULLs). If necessary they are recycled to the\n",
       "length of the longest (NULL arguments are filled with NAs).\n",
       "After this recycling, each row in the 3-column matrix obtained\n",
       "by binding those 3 vectors together is &quot;solved&quot; i.e. NAs are\n",
       "treated as unknown in the equation <code>end = start + width - 1</code>.\n",
       "Finally, the solved matrix is returned as an IRanges\n",
       "instance.\n",
       "</p>\n",
       "</dd>\n",
       "<dt>Category 2</dt><dd>\n",
       "<p>The <code>start</code> argument is a logical vector or logical Rle object\n",
       "and <code>IRanges(start)</code> produces the same result as\n",
       "<code>as(start, \"IRanges\")</code>.\n",
       "Note that, in that case, the returned IRanges instance is guaranteed\n",
       "to be normal.\n",
       "</p>\n",
       "</dd>\n",
       "</dl>\n",
       "\n",
       "<p>Note that the <code>names</code> argument is never recycled (to remain\n",
       "consistent with what <code>`names&lt;-`</code> does on standard vectors).\n",
       "</p>\n",
       "\n",
       "\n",
       "<h3>Supporting functions</h3>\n",
       "\n",
       "\n",
       "<dl>\n",
       "<dt></dt><dd>\n",
       "<p><code>solveUserSEW0(start=NULL, end=NULL, width=NULL)</code>:\n",
       "</p>\n",
       "</dd>\n",
       "<dt></dt><dd>\n",
       "<p><code>solveUserSEW(refwidths, start=NA, end=NA, width=NA,\n",
       "               rep.refwidths=FALSE,\n",
       "               translate.negative.coord=TRUE,\n",
       "               allow.nonnarrowing=FALSE)</code>:\n",
       "Use of <code>rep.refwidths=TRUE</code> is supported only when\n",
       "<code>refwidths</code> is of length 1.\n",
       "If <code>rep.refwidths=FALSE</code> (the default) then\n",
       "<code>start</code>, <code>end</code> and <code>width</code> are recycled to\n",
       "the length of <code>refwidths</code> (it's an error if one of them\n",
       "is longer than <code>refwidths</code>, or is of zero length while\n",
       "<code>refwidths</code> is not).\n",
       "If <code>rep.refwidths=TRUE</code> then <code>refwidths</code> is first\n",
       "replicated L times where L is the length of the longest of\n",
       "<code>start</code>, <code>end</code> and <code>width</code>. After this replication,\n",
       "<code>start</code>, <code>end</code> and <code>width</code> are recycled to\n",
       "the new length of <code>refwidths</code> (L) (it's an error if one\n",
       "of them is of zero length while L is != 0).\n",
       "</p>\n",
       "<p>From now, <code>refwidths</code>, <code>start</code>, <code>end</code> and\n",
       "<code>width</code> are integer vectors of equal lengths.\n",
       "Each row in the 3-column matrix obtained by binding those\n",
       "3 vectors together must contain at least one NA (otherwise\n",
       "an error is returned).\n",
       "Then each row is &quot;solved&quot; i.e. the 2 following transformations\n",
       "are performed (<code>i</code> is the indice of the row):\n",
       "(1) if <code>translate.negative.coord</code> is TRUE then a\n",
       "negative value of <code>start[i]</code> or <code>end[i]</code> is\n",
       "considered to be a <code>-refwidths[i]</code>-based coordinate so\n",
       "<code>refwidths[i]+1</code> is added to it to make it 1-based;\n",
       "(2) the NAs in the row are treated as unknowns which values are\n",
       "deduced from the known values in the row and from\n",
       "<code>refwidths[i]</code>.\n",
       "</p>\n",
       "<p>The exact rules for (2) are the following.\n",
       "Rule (2a): if the row contains at least 2 NAs, then <code>width[i]</code>\n",
       "must be one of them (otherwise an error is returned), and if\n",
       "<code>start[i]</code> is one of them it is replaced by 1, and if <code>end[i]</code>\n",
       "is one of them it is replaced by <code>refwidths[i]</code>, and finally\n",
       "<code>width[i]</code> is replaced by <code>end[i] - start[i] + 1</code>.\n",
       "Rule (2b): if the row contains only 1 NA, then it is replaced by the\n",
       "solution of the <code>width[i] == end[i] - start[i] + 1</code> equation.\n",
       "</p>\n",
       "<p>Finally, the set of solved rows is returned as an IRanges\n",
       "object of the same length as <code>refwidths</code> (after replication\n",
       "if <code>rep.refwidths=TRUE</code>).\n",
       "</p>\n",
       "<p>Note that an error is raised if either (1) the set of\n",
       "user-supplied start/end/width values is invalid or (2)\n",
       "<code>allow.nonnarrowing</code> is FALSE and the ranges represented by the\n",
       "solved start/end/width values are not narrowing\n",
       "the ranges represented by the user-supplied start/end/width values.\n",
       "</p>\n",
       "</dd>\n",
       "</dl>\n",
       "\n",
       "\n",
       "\n",
       "<h3>Author(s)</h3>\n",
       "\n",
       "<p>H. Pages</p>\n",
       "\n",
       "\n",
       "<h3>See Also</h3>\n",
       "\n",
       "<p>IRanges-class,\n",
       "<code>narrow</code>\n",
       "</p>\n",
       "\n",
       "\n",
       "<h3>Examples</h3>\n",
       "\n",
       "<pre>\n",
       "  ## ---------------------------------------------------------------------\n",
       "  ## A. USING THE IRanges() CONSTRUCTOR\n",
       "  ## ---------------------------------------------------------------------\n",
       "  IRanges(start=11, end=rep.int(20, 5))\n",
       "  IRanges(start=11, width=rep.int(20, 5))\n",
       "  IRanges(-2, 20)  # only one range\n",
       "  IRanges(start=c(2, 0, NA), end=c(NA, NA, 14), width=11:0)\n",
       "  IRanges()  # IRanges instance of length zero\n",
       "  IRanges(names=character())\n",
       "\n",
       "  ## With logical input:\n",
       "  x &lt;- IRanges(c(FALSE, TRUE, TRUE, FALSE, TRUE))  # logical vector input\n",
       "  isNormal(x)  # TRUE\n",
       "  x &lt;- IRanges(Rle(1:30) %% 5 &lt;= 2)  # logical Rle input\n",
       "  isNormal(x)  # TRUE\n",
       "\n",
       "  ## ---------------------------------------------------------------------\n",
       "  ## B. USING solveUserSEW()\n",
       "  ## ---------------------------------------------------------------------\n",
       "  refwidths &lt;- c(5:3, 6:7)\n",
       "  refwidths\n",
       "\n",
       "  solveUserSEW(refwidths)\n",
       "  solveUserSEW(refwidths, start=4)\n",
       "  solveUserSEW(refwidths, end=3, width=2)\n",
       "  solveUserSEW(refwidths, start=-3)\n",
       "  solveUserSEW(refwidths, start=-3, width=2)\n",
       "  solveUserSEW(refwidths, end=-4)\n",
       "\n",
       "  ## The start/end/width arguments are recycled:\n",
       "  solveUserSEW(refwidths, start=c(3, -4, NA), end=c(-2, NA))\n",
       "\n",
       "  ## Using 'rep.refwidths=TRUE':\n",
       "  solveUserSEW(10, start=-(1:6), rep.refwidths=TRUE)\n",
       "  solveUserSEW(10, end=-(1:6), width=3, rep.refwidths=TRUE)\n",
       "</pre>\n",
       "\n",
       "<hr /><div style=\"text-align: center;\">[Package <em>IRanges</em> version 2.4.6 ]</div>"
      ],
      "text/latex": [
       "\\inputencoding{utf8}\n",
       "\\HeaderA{IRanges-constructor}{The IRanges constructor and supporting functions}{IRanges.Rdash.constructor}\n",
       "\\aliasA{IRanges}{IRanges-constructor}{IRanges}\n",
       "\\aliasA{solveUserSEW}{IRanges-constructor}{solveUserSEW}\n",
       "\\aliasA{solveUserSEW0}{IRanges-constructor}{solveUserSEW0}\n",
       "\\keyword{utilities}{IRanges-constructor}\n",
       "%\n",
       "\\begin{Description}\\relax\n",
       "The \\code{IRanges} function is a constructor that can be used\n",
       "to create IRanges instances.\n",
       "\n",
       "\\code{solveUserSEW0} and \\code{solveUserSEW} are utility functions that\n",
       "solve a set of user-supplied start/end/width values.\n",
       "\\end{Description}\n",
       "%\n",
       "\\begin{Usage}\n",
       "\\begin{verbatim}\n",
       "## IRanges constructor:\n",
       "IRanges(start=NULL, end=NULL, width=NULL, names=NULL)\n",
       "\n",
       "## Supporting functions (not for the end user):\n",
       "solveUserSEW0(start=NULL, end=NULL, width=NULL)\n",
       "solveUserSEW(refwidths, start=NA, end=NA, width=NA,\n",
       "             rep.refwidths=FALSE,\n",
       "             translate.negative.coord=TRUE,\n",
       "             allow.nonnarrowing=FALSE)\n",
       "\\end{verbatim}\n",
       "\\end{Usage}\n",
       "%\n",
       "\\begin{Arguments}\n",
       "\\begin{ldescription}\n",
       "\\item[\\code{start, end, width}] \n",
       "For \\code{IRanges} and \\code{solveUserSEW0}: \\code{NULL},\n",
       "or vector of integers (eventually with NAs).\n",
       "\n",
       "For \\code{solveUserSEW}: vector of integers (eventually\n",
       "with NAs).\n",
       "\n",
       "\\item[\\code{names}] \n",
       "A character vector or \\code{NULL}.\n",
       "\n",
       "\\item[\\code{refwidths}] \n",
       "Vector of non-NA non-negative integers containing the\n",
       "reference widths.\n",
       "\n",
       "\\item[\\code{rep.refwidths}] \n",
       "\\code{TRUE} or \\code{FALSE}.\n",
       "Use of \\code{rep.refwidths=TRUE} is supported only when\n",
       "\\code{refwidths} is of length 1.\n",
       "\n",
       "\\item[\\code{translate.negative.coord, allow.nonnarrowing}] \n",
       "\\code{TRUE} or \\code{FALSE}.\n",
       "\n",
       "\\end{ldescription}\n",
       "\\end{Arguments}\n",
       "%\n",
       "\\begin{Section}{IRanges constructor}\n",
       "Return the IRanges object containing the ranges specified by\n",
       "\\code{start}, \\code{end} and \\code{width}.\n",
       "Input falls into one of two categories:\n",
       "\\begin{description}\n",
       "\n",
       "\\item[Category 1] \n",
       "\\code{start}, \\code{end} and \\code{width} are numeric vectors\n",
       "(or NULLs). If necessary they are recycled to the\n",
       "length of the longest (NULL arguments are filled with NAs).\n",
       "After this recycling, each row in the 3-column matrix obtained\n",
       "by binding those 3 vectors together is \"solved\" i.e. NAs are\n",
       "treated as unknown in the equation \\code{end = start + width - 1}.\n",
       "Finally, the solved matrix is returned as an \\LinkA{IRanges}{IRanges}\n",
       "instance.\n",
       "\n",
       "\\item[Category 2] \n",
       "The \\code{start} argument is a logical vector or logical Rle object\n",
       "and \\code{IRanges(start)} produces the same result as\n",
       "\\code{as(start, \"IRanges\")}.\n",
       "Note that, in that case, the returned IRanges instance is guaranteed\n",
       "to be normal.\n",
       "\n",
       "\n",
       "\\end{description}\n",
       "\n",
       "Note that the \\code{names} argument is never recycled (to remain\n",
       "consistent with what \\code{`names<-`} does on standard vectors).\n",
       "\\end{Section}\n",
       "%\n",
       "\\begin{Section}{Supporting functions}\n",
       "\\begin{description}\n",
       "\n",
       "\\item[] \n",
       "\\code{solveUserSEW0(start=NULL, end=NULL, width=NULL)}:\n",
       "\n",
       "\\item[] \n",
       "\\code{solveUserSEW(refwidths, start=NA, end=NA, width=NA,\n",
       "               rep.refwidths=FALSE,\n",
       "               translate.negative.coord=TRUE,\n",
       "               allow.nonnarrowing=FALSE)}:\n",
       "Use of \\code{rep.refwidths=TRUE} is supported only when\n",
       "\\code{refwidths} is of length 1.\n",
       "If \\code{rep.refwidths=FALSE} (the default) then\n",
       "\\code{start}, \\code{end} and \\code{width} are recycled to\n",
       "the length of \\code{refwidths} (it's an error if one of them\n",
       "is longer than \\code{refwidths}, or is of zero length while\n",
       "\\code{refwidths} is not).\n",
       "If \\code{rep.refwidths=TRUE} then \\code{refwidths} is first\n",
       "replicated L times where L is the length of the longest of\n",
       "\\code{start}, \\code{end} and \\code{width}. After this replication,\n",
       "\\code{start}, \\code{end} and \\code{width} are recycled to\n",
       "the new length of \\code{refwidths} (L) (it's an error if one\n",
       "of them is of zero length while L is != 0).\n",
       "\n",
       "From now, \\code{refwidths}, \\code{start}, \\code{end} and\n",
       "\\code{width} are integer vectors of equal lengths.\n",
       "Each row in the 3-column matrix obtained by binding those\n",
       "3 vectors together must contain at least one NA (otherwise\n",
       "an error is returned).\n",
       "Then each row is \"solved\" i.e. the 2 following transformations\n",
       "are performed (\\code{i} is the indice of the row):\n",
       "(1) if \\code{translate.negative.coord} is TRUE then a\n",
       "negative value of \\code{start[i]} or \\code{end[i]} is\n",
       "considered to be a \\code{-refwidths[i]}-based coordinate so\n",
       "\\code{refwidths[i]+1} is added to it to make it 1-based;\n",
       "(2) the NAs in the row are treated as unknowns which values are\n",
       "deduced from the known values in the row and from\n",
       "\\code{refwidths[i]}.\n",
       "\n",
       "The exact rules for (2) are the following.\n",
       "Rule (2a): if the row contains at least 2 NAs, then \\code{width[i]}\n",
       "must be one of them (otherwise an error is returned), and if\n",
       "\\code{start[i]} is one of them it is replaced by 1, and if \\code{end[i]}\n",
       "is one of them it is replaced by \\code{refwidths[i]}, and finally\n",
       "\\code{width[i]} is replaced by \\code{end[i] - start[i] + 1}.\n",
       "Rule (2b): if the row contains only 1 NA, then it is replaced by the\n",
       "solution of the \\code{width[i] == end[i] - start[i] + 1} equation.\n",
       "\n",
       "Finally, the set of solved rows is returned as an \\LinkA{IRanges}{IRanges}\n",
       "object of the same length as \\code{refwidths} (after replication\n",
       "if \\code{rep.refwidths=TRUE}).\n",
       "\n",
       "Note that an error is raised if either (1) the set of\n",
       "user-supplied start/end/width values is invalid or (2)\n",
       "\\code{allow.nonnarrowing} is FALSE and the ranges represented by the\n",
       "solved start/end/width values are not narrowing\n",
       "the ranges represented by the user-supplied start/end/width values.\n",
       "\n",
       "\n",
       "\\end{description}\n",
       "\n",
       "\\end{Section}\n",
       "%\n",
       "\\begin{Author}\\relax\n",
       "H. Pages\n",
       "\\end{Author}\n",
       "%\n",
       "\\begin{SeeAlso}\\relax\n",
       "\\LinkA{IRanges-class}{IRanges.Rdash.class},\n",
       "\\code{\\LinkA{narrow}{narrow}}\n",
       "\\end{SeeAlso}\n",
       "%\n",
       "\\begin{Examples}\n",
       "\\begin{ExampleCode}\n",
       "  ## ---------------------------------------------------------------------\n",
       "  ## A. USING THE IRanges() CONSTRUCTOR\n",
       "  ## ---------------------------------------------------------------------\n",
       "  IRanges(start=11, end=rep.int(20, 5))\n",
       "  IRanges(start=11, width=rep.int(20, 5))\n",
       "  IRanges(-2, 20)  # only one range\n",
       "  IRanges(start=c(2, 0, NA), end=c(NA, NA, 14), width=11:0)\n",
       "  IRanges()  # IRanges instance of length zero\n",
       "  IRanges(names=character())\n",
       "\n",
       "  ## With logical input:\n",
       "  x <- IRanges(c(FALSE, TRUE, TRUE, FALSE, TRUE))  # logical vector input\n",
       "  isNormal(x)  # TRUE\n",
       "  x <- IRanges(Rle(1:30) %% 5 <= 2)  # logical Rle input\n",
       "  isNormal(x)  # TRUE\n",
       "\n",
       "  ## ---------------------------------------------------------------------\n",
       "  ## B. USING solveUserSEW()\n",
       "  ## ---------------------------------------------------------------------\n",
       "  refwidths <- c(5:3, 6:7)\n",
       "  refwidths\n",
       "\n",
       "  solveUserSEW(refwidths)\n",
       "  solveUserSEW(refwidths, start=4)\n",
       "  solveUserSEW(refwidths, end=3, width=2)\n",
       "  solveUserSEW(refwidths, start=-3)\n",
       "  solveUserSEW(refwidths, start=-3, width=2)\n",
       "  solveUserSEW(refwidths, end=-4)\n",
       "\n",
       "  ## The start/end/width arguments are recycled:\n",
       "  solveUserSEW(refwidths, start=c(3, -4, NA), end=c(-2, NA))\n",
       "\n",
       "  ## Using 'rep.refwidths=TRUE':\n",
       "  solveUserSEW(10, start=-(1:6), rep.refwidths=TRUE)\n",
       "  solveUserSEW(10, end=-(1:6), width=3, rep.refwidths=TRUE)\n",
       "\\end{ExampleCode}\n",
       "\\end{Examples}"
      ],
      "text/plain": [
       "IRanges-constructor          package:IRanges           R Documentation\n",
       "\n",
       "_\bT_\bh_\be _\bI_\bR_\ba_\bn_\bg_\be_\bs _\bc_\bo_\bn_\bs_\bt_\br_\bu_\bc_\bt_\bo_\br _\ba_\bn_\bd _\bs_\bu_\bp_\bp_\bo_\br_\bt_\bi_\bn_\bg _\bf_\bu_\bn_\bc_\bt_\bi_\bo_\bn_\bs\n",
       "\n",
       "_\bD_\be_\bs_\bc_\br_\bi_\bp_\bt_\bi_\bo_\bn:\n",
       "\n",
       "     The ‘IRanges’ function is a constructor that can be used to create\n",
       "     IRanges instances.\n",
       "\n",
       "     ‘solveUserSEW0’ and ‘solveUserSEW’ are utility functions that\n",
       "     solve a set of user-supplied start/end/width values.\n",
       "\n",
       "_\bU_\bs_\ba_\bg_\be:\n",
       "\n",
       "     ## IRanges constructor:\n",
       "     IRanges(start=NULL, end=NULL, width=NULL, names=NULL)\n",
       "     \n",
       "     ## Supporting functions (not for the end user):\n",
       "     solveUserSEW0(start=NULL, end=NULL, width=NULL)\n",
       "     solveUserSEW(refwidths, start=NA, end=NA, width=NA,\n",
       "                  rep.refwidths=FALSE,\n",
       "                  translate.negative.coord=TRUE,\n",
       "                  allow.nonnarrowing=FALSE)\n",
       "     \n",
       "_\bA_\br_\bg_\bu_\bm_\be_\bn_\bt_\bs:\n",
       "\n",
       "start, end, width: For ‘IRanges’ and ‘solveUserSEW0’: ‘NULL’, or vector\n",
       "          of integers (eventually with NAs).\n",
       "\n",
       "          For ‘solveUserSEW’: vector of integers (eventually with NAs).\n",
       "\n",
       "   names: A character vector or ‘NULL’.\n",
       "\n",
       "refwidths: Vector of non-NA non-negative integers containing the\n",
       "          reference widths.\n",
       "\n",
       "rep.refwidths: ‘TRUE’ or ‘FALSE’.  Use of ‘rep.refwidths=TRUE’ is\n",
       "          supported only when ‘refwidths’ is of length 1.\n",
       "\n",
       "translate.negative.coord, allow.nonnarrowing: ‘TRUE’ or ‘FALSE’.\n",
       "\n",
       "_\bI_\bR_\ba_\bn_\bg_\be_\bs _\bc_\bo_\bn_\bs_\bt_\br_\bu_\bc_\bt_\bo_\br:\n",
       "\n",
       "     Return the IRanges object containing the ranges specified by\n",
       "     ‘start’, ‘end’ and ‘width’.  Input falls into one of two\n",
       "     categories:\n",
       "\n",
       "     Category 1 ‘start’, ‘end’ and ‘width’ are numeric vectors (or\n",
       "          NULLs). If necessary they are recycled to the length of the\n",
       "          longest (NULL arguments are filled with NAs).  After this\n",
       "          recycling, each row in the 3-column matrix obtained by\n",
       "          binding those 3 vectors together is \"solved\" i.e. NAs are\n",
       "          treated as unknown in the equation ‘end = start + width - 1’.\n",
       "          Finally, the solved matrix is returned as an IRanges\n",
       "          instance.\n",
       "\n",
       "     Category 2 The ‘start’ argument is a logical vector or logical Rle\n",
       "          object and ‘IRanges(start)’ produces the same result as\n",
       "          ‘as(start, \"IRanges\")’.  Note that, in that case, the\n",
       "          returned IRanges instance is guaranteed to be normal.\n",
       "\n",
       "     Note that the ‘names’ argument is never recycled (to remain\n",
       "     consistent with what ‘`names<-`’ does on standard vectors).\n",
       "\n",
       "_\bS_\bu_\bp_\bp_\bo_\br_\bt_\bi_\bn_\bg _\bf_\bu_\bn_\bc_\bt_\bi_\bo_\bn_\bs:\n",
       "\n",
       "‘solveUserSEW0(start=NULL, end=NULL, width=NULL)’:\n",
       "\n",
       "‘solveUserSEW(refwidths, start=NA, end=NA, width=NA,\n",
       "          rep.refwidths=FALSE, translate.negative.coord=TRUE,\n",
       "          allow.nonnarrowing=FALSE)’: Use of ‘rep.refwidths=TRUE’ is\n",
       "          supported only when ‘refwidths’ is of length 1.  If\n",
       "          ‘rep.refwidths=FALSE’ (the default) then ‘start’, ‘end’ and\n",
       "          ‘width’ are recycled to the length of ‘refwidths’ (it's an\n",
       "          error if one of them is longer than ‘refwidths’, or is of\n",
       "          zero length while ‘refwidths’ is not).  If\n",
       "          ‘rep.refwidths=TRUE’ then ‘refwidths’ is first replicated L\n",
       "          times where L is the length of the longest of ‘start’, ‘end’\n",
       "          and ‘width’. After this replication, ‘start’, ‘end’ and\n",
       "          ‘width’ are recycled to the new length of ‘refwidths’ (L)\n",
       "          (it's an error if one of them is of zero length while L is !=\n",
       "          0).\n",
       "\n",
       "          From now, ‘refwidths’, ‘start’, ‘end’ and ‘width’ are integer\n",
       "          vectors of equal lengths.  Each row in the 3-column matrix\n",
       "          obtained by binding those 3 vectors together must contain at\n",
       "          least one NA (otherwise an error is returned).  Then each row\n",
       "          is \"solved\" i.e. the 2 following transformations are\n",
       "          performed (‘i’ is the indice of the row): (1) if\n",
       "          ‘translate.negative.coord’ is TRUE then a negative value of\n",
       "          ‘start[i]’ or ‘end[i]’ is considered to be a\n",
       "          ‘-refwidths[i]’-based coordinate so ‘refwidths[i]+1’ is added\n",
       "          to it to make it 1-based; (2) the NAs in the row are treated\n",
       "          as unknowns which values are deduced from the known values in\n",
       "          the row and from ‘refwidths[i]’.\n",
       "\n",
       "          The exact rules for (2) are the following.  Rule (2a): if the\n",
       "          row contains at least 2 NAs, then ‘width[i]’ must be one of\n",
       "          them (otherwise an error is returned), and if ‘start[i]’ is\n",
       "          one of them it is replaced by 1, and if ‘end[i]’ is one of\n",
       "          them it is replaced by ‘refwidths[i]’, and finally ‘width[i]’\n",
       "          is replaced by ‘end[i] - start[i] + 1’.  Rule (2b): if the\n",
       "          row contains only 1 NA, then it is replaced by the solution\n",
       "          of the ‘width[i] == end[i] - start[i] + 1’ equation.\n",
       "\n",
       "          Finally, the set of solved rows is returned as an IRanges\n",
       "          object of the same length as ‘refwidths’ (after replication\n",
       "          if ‘rep.refwidths=TRUE’).\n",
       "\n",
       "          Note that an error is raised if either (1) the set of\n",
       "          user-supplied start/end/width values is invalid or (2)\n",
       "          ‘allow.nonnarrowing’ is FALSE and the ranges represented by\n",
       "          the solved start/end/width values are not narrowing the\n",
       "          ranges represented by the user-supplied start/end/width\n",
       "          values.\n",
       "\n",
       "_\bA_\bu_\bt_\bh_\bo_\br(_\bs):\n",
       "\n",
       "     H. Pages\n",
       "\n",
       "_\bS_\be_\be _\bA_\bl_\bs_\bo:\n",
       "\n",
       "     IRanges-class, ‘narrow’\n",
       "\n",
       "_\bE_\bx_\ba_\bm_\bp_\bl_\be_\bs:\n",
       "\n",
       "       ## ---------------------------------------------------------------------\n",
       "       ## A. USING THE IRanges() CONSTRUCTOR\n",
       "       ## ---------------------------------------------------------------------\n",
       "       IRanges(start=11, end=rep.int(20, 5))\n",
       "       IRanges(start=11, width=rep.int(20, 5))\n",
       "       IRanges(-2, 20)  # only one range\n",
       "       IRanges(start=c(2, 0, NA), end=c(NA, NA, 14), width=11:0)\n",
       "       IRanges()  # IRanges instance of length zero\n",
       "       IRanges(names=character())\n",
       "     \n",
       "       ## With logical input:\n",
       "       x <- IRanges(c(FALSE, TRUE, TRUE, FALSE, TRUE))  # logical vector input\n",
       "       isNormal(x)  # TRUE\n",
       "       x <- IRanges(Rle(1:30) %% 5 <= 2)  # logical Rle input\n",
       "       isNormal(x)  # TRUE\n",
       "     \n",
       "       ## ---------------------------------------------------------------------\n",
       "       ## B. USING solveUserSEW()\n",
       "       ## ---------------------------------------------------------------------\n",
       "       refwidths <- c(5:3, 6:7)\n",
       "       refwidths\n",
       "     \n",
       "       solveUserSEW(refwidths)\n",
       "       solveUserSEW(refwidths, start=4)\n",
       "       solveUserSEW(refwidths, end=3, width=2)\n",
       "       solveUserSEW(refwidths, start=-3)\n",
       "       solveUserSEW(refwidths, start=-3, width=2)\n",
       "       solveUserSEW(refwidths, end=-4)\n",
       "     \n",
       "       ## The start/end/width arguments are recycled:\n",
       "       solveUserSEW(refwidths, start=c(3, -4, NA), end=c(-2, NA))\n",
       "     \n",
       "       ## Using 'rep.refwidths=TRUE':\n",
       "       solveUserSEW(10, start=-(1:6), rep.refwidths=TRUE)\n",
       "       solveUserSEW(10, end=-(1:6), width=3, rep.refwidths=TRUE)\n",
       "     "
      ]
     },
     "execution_count": 92,
     "metadata": {},
     "output_type": "execute_result"
    }
   ],
   "source": [
    "?IRanges"
   ]
  },
  {
   "cell_type": "code",
   "execution_count": null,
   "metadata": {
    "collapsed": true
   },
   "outputs": [],
   "source": []
  }
 ],
 "metadata": {
  "kernelspec": {
   "display_name": "R",
   "language": "R",
   "name": "ir"
  },
  "language_info": {
   "codemirror_mode": "r",
   "file_extension": ".r",
   "mimetype": "text/x-r-source",
   "name": "R",
   "pygments_lexer": "r",
   "version": "3.2.2"
  }
 },
 "nbformat": 4,
 "nbformat_minor": 0
}
