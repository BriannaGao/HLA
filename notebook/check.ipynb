{
 "cells": [
  {
   "cell_type": "code",
   "execution_count": 1,
   "metadata": {
    "collapsed": true
   },
   "outputs": [],
   "source": [
    "load('../temp.rda')"
   ]
  },
  {
   "cell_type": "code",
   "execution_count": 2,
   "metadata": {
    "collapsed": true
   },
   "outputs": [],
   "source": [
    "library(data.table)"
   ]
  },
  {
   "cell_type": "code",
   "execution_count": 3,
   "metadata": {
    "collapsed": false
   },
   "outputs": [
    {
     "data": {
      "text/html": [
       "<ol class=list-inline>\n",
       "\t<li>'key.match'</li>\n",
       "\t<li>'noncore.match'</li>\n",
       "</ol>\n"
      ],
      "text/latex": [
       "\\begin{enumerate*}\n",
       "\\item 'key.match'\n",
       "\\item 'noncore.match'\n",
       "\\end{enumerate*}\n"
      ],
      "text/markdown": [
       "1. 'key.match'\n",
       "2. 'noncore.match'\n",
       "\n",
       "\n"
      ],
      "text/plain": [
       "[1] \"key.match\"     \"noncore.match\""
      ]
     },
     "execution_count": 3,
     "metadata": {},
     "output_type": "execute_result"
    }
   ],
   "source": [
    "ls()"
   ]
  },
  {
   "cell_type": "code",
   "execution_count": 4,
   "metadata": {
    "collapsed": false
   },
   "outputs": [
    {
     "data": {
      "text/html": [
       "573"
      ],
      "text/latex": [
       "573"
      ],
      "text/markdown": [
       "573"
      ],
      "text/plain": [
       "[1] 573"
      ]
     },
     "execution_count": 4,
     "metadata": {},
     "output_type": "execute_result"
    }
   ],
   "source": [
    "nrow(key.match)"
   ]
  },
  {
   "cell_type": "code",
   "execution_count": 5,
   "metadata": {
    "collapsed": false
   },
   "outputs": [
    {
     "data": {
      "text/html": [
       "481"
      ],
      "text/latex": [
       "481"
      ],
      "text/markdown": [
       "481"
      ],
      "text/plain": [
       "[1] 481"
      ]
     },
     "execution_count": 5,
     "metadata": {},
     "output_type": "execute_result"
    }
   ],
   "source": [
    "length(unique(key.match$q))"
   ]
  },
  {
   "cell_type": "code",
   "execution_count": 6,
   "metadata": {
    "collapsed": true
   },
   "outputs": [],
   "source": [
    "#bad <- key.match[type == 'A*01:04N']\n",
    "#good <- key.match[type == 'A*01:01']\n",
    "wrong <- c('C*04:09N', 'C*04:01')\n",
    "good1 <- key.match[type == wrong[1]]\n",
    "bad1 <- key.match[type == wrong[2]]\n",
    "rest1 <- key.match[!type %in% wrong]\n",
    "good2 <- noncore.match[type == wrong[1]]\n",
    "bad2 <- noncore.match[type == wrong[2]]\n",
    "rest2 <- noncore.match[!type %in% wrong]\n",
    "rest <- rbind(rest1, rest2)"
   ]
  },
  {
   "cell_type": "code",
   "execution_count": 7,
   "metadata": {
    "collapsed": false
   },
   "outputs": [
    {
     "data": {
      "text/html": [
       "<strong>C*07:01:</strong> 4"
      ],
      "text/latex": [
       "\\textbf{C*07:01:} 4"
      ],
      "text/markdown": [
       "**C*07:01:** 4"
      ],
      "text/plain": [
       "C*07:01 \n",
       "      4 "
      ]
     },
     "execution_count": 7,
     "metadata": {},
     "output_type": "execute_result"
    }
   ],
   "source": [
    "sort(table(rest[q %in% c(good1$q, bad1$q), type]))"
   ]
  },
  {
   "cell_type": "code",
   "execution_count": 8,
   "metadata": {
    "collapsed": false
   },
   "outputs": [
    {
     "data": {
      "text/html": [
       "<strong>C*07:01:</strong> 35"
      ],
      "text/latex": [
       "\\textbf{C*07:01:} 35"
      ],
      "text/markdown": [
       "**C*07:01:** 35"
      ],
      "text/plain": [
       "C*07:01 \n",
       "     35 "
      ]
     },
     "execution_count": 8,
     "metadata": {},
     "output_type": "execute_result"
    }
   ],
   "source": [
    "sort(table(rest[q %in% c(good2$q, bad2$q), type]))"
   ]
  },
  {
   "cell_type": "code",
   "execution_count": 9,
   "metadata": {
    "collapsed": false
   },
   "outputs": [
    {
     "data": {
      "text/plain": [
       "\n",
       "E2 E3 \n",
       "27 30 "
      ]
     },
     "execution_count": 9,
     "metadata": {},
     "output_type": "execute_result"
    }
   ],
   "source": [
    "table(bad1$EXON)"
   ]
  },
  {
   "cell_type": "code",
   "execution_count": 10,
   "metadata": {
    "collapsed": false
   },
   "outputs": [
    {
     "data": {
      "text/plain": [
       "\n",
       "E2 E3 \n",
       "27 28 "
      ]
     },
     "execution_count": 10,
     "metadata": {},
     "output_type": "execute_result"
    }
   ],
   "source": [
    "table(good1$EXON)"
   ]
  },
  {
   "cell_type": "code",
   "execution_count": 11,
   "metadata": {
    "collapsed": false
   },
   "outputs": [
    {
     "data": {
      "text/plain": [
       "\n",
       "E1 E4 E5 E6 \n",
       " 6 18 14 35 "
      ]
     },
     "execution_count": 11,
     "metadata": {},
     "output_type": "execute_result"
    },
    {
     "data": {
      "text/plain": [
       "\n",
       "E1 E4 E5 E6 E7 \n",
       " 6 18 14 36  7 "
      ]
     },
     "execution_count": 11,
     "metadata": {},
     "output_type": "execute_result"
    }
   ],
   "source": [
    "table(bad2$EXON)\n",
    "table(good2$EXON)"
   ]
  },
  {
   "cell_type": "code",
   "execution_count": 12,
   "metadata": {
    "collapsed": false
   },
   "outputs": [],
   "source": [
    "good <- good2[EXON == 'E6'][order(ts), .(ts, te, q)]"
   ]
  },
  {
   "cell_type": "code",
   "execution_count": 13,
   "metadata": {
    "collapsed": false
   },
   "outputs": [],
   "source": [
    "bad <- bad2[EXON == 'E6'][order(ts), .(ts, te, q)]"
   ]
  },
  {
   "cell_type": "code",
   "execution_count": 15,
   "metadata": {
    "collapsed": false
   },
   "outputs": [],
   "source": [
    "library(IRanges)"
   ]
  },
  {
   "cell_type": "code",
   "execution_count": 16,
   "metadata": {
    "collapsed": true
   },
   "outputs": [],
   "source": [
    "ir.good <- IRanges(good$ts, good$te, names = good$q)\n",
    "good.col <- ifelse(names(ir.good) %in% rest$q, 'gray50', 'black')"
   ]
  },
  {
   "cell_type": "code",
   "execution_count": 17,
   "metadata": {
    "collapsed": false
   },
   "outputs": [
    {
     "data": {
      "text/plain": [
       "IRanges of length 36\n",
       "     start end width                      names\n",
       "[1]      1  10    10  H5HVHCCXX:1:11:816456:0/1\n",
       "[2]      1  10    10  H5HVHCCXX:1:11:817538:0/1\n",
       "[3]      1  10    10 H5HVHCCXX:1:14:1758889:0/1\n",
       "[4]      1  10    10  H5HVHCCXX:1:7:4878781:0/1\n",
       "[5]      1  10    10  H5HVHCCXX:2:11:435082:0/2\n",
       "...    ... ...   ...                        ...\n",
       "[32]     1  10    10 H5HVHCCXX:7:16:1505808:0/2\n",
       "[33]     1  10    10  H5HVHCCXX:7:6:2186237:0/2\n",
       "[34]     1  10    10   H5HVHCCXX:7:9:568495:0/1\n",
       "[35]     1  10    10   H5HVHCCXX:7:9:904758:0/1\n",
       "[36]     1  10    10 H5HVHCCXX:8:15:3422617:0/1"
      ]
     },
     "execution_count": 17,
     "metadata": {},
     "output_type": "execute_result"
    }
   ],
   "source": [
    "ir.good"
   ]
  },
  {
   "cell_type": "code",
   "execution_count": 18,
   "metadata": {
    "collapsed": true
   },
   "outputs": [],
   "source": [
    "ir.bad <- IRanges(bad$ts, bad$te, names = bad$q)\n",
    "bad.col <- ifelse(names(ir.bad) %in% rest$q, 'gray50', 'black')"
   ]
  },
  {
   "cell_type": "code",
   "execution_count": 19,
   "metadata": {
    "collapsed": true
   },
   "outputs": [],
   "source": [
    "plotRanges <- function(x, xlim = x, main = deparse(substitute(x)), col = \"black\", sep = 0.5, ...)\n",
    " {\n",
    " height <- 1\n",
    " if (is(xlim, \"Ranges\"))\n",
    " xlim <- c(0, max(end(xlim)))\n",
    " bins <- disjointBins(IRanges(start(x), end(x) + 1))\n",
    " plot.new()\n",
    " plot.window(xlim, c(0, max(bins)*(height + sep)))\n",
    " ybottom <- bins * (sep + height) - height\n",
    " rect(start(x)-0.5, ybottom, end(x)+0.5, ybottom + height, col = col, ...)\n",
    " title(main)\n",
    " axis(1)\n",
    " }"
   ]
  },
  {
   "cell_type": "code",
   "execution_count": 20,
   "metadata": {
    "collapsed": false
   },
   "outputs": [
    {
     "data": {
      "image/png": "[encoded data removed]",
      "image/svg+xml": [
       "<?xml version=\"1.0\" encoding=\"UTF-8\"?>\n",
       "<svg xmlns=\"http://www.w3.org/2000/svg\" xmlns:xlink=\"http://www.w3.org/1999/xlink\" width=\"504pt\" height=\"504pt\" viewBox=\"0 0 504 504\" version=\"1.1\">\n",
       "<defs>\n",
       "<g>\n",
       "<symbol overflow=\"visible\" id=\"glyph0-0\">\n",
       "<path style=\"stroke:none;\" d=\"\"/>\n",
       "</symbol>\n",
       "<symbol overflow=\"visible\" id=\"glyph0-1\">\n",
       "<path style=\"stroke:none;\" d=\"M 2.984375 -7.78125 L 0.96875 -7.78125 L 0.96875 0 L 2.984375 0 Z M 2.984375 -10.5 L 0.96875 -10.5 L 0.96875 -8.703125 L 2.984375 -8.703125 Z M 2.984375 -10.5 \"/>\n",
       "</symbol>\n",
       "<symbol overflow=\"visible\" id=\"glyph0-2\">\n",
       "<path style=\"stroke:none;\" d=\"M 0.90625 -7.78125 L 0.90625 0 L 2.921875 0 L 2.921875 -4.140625 C 2.921875 -5.3125 3.515625 -5.90625 4.703125 -5.90625 C 4.90625 -5.90625 5.0625 -5.890625 5.328125 -5.84375 L 5.328125 -7.890625 C 5.21875 -7.90625 5.140625 -7.90625 5.078125 -7.90625 C 4.15625 -7.90625 3.359375 -7.296875 2.921875 -6.25 L 2.921875 -7.78125 Z M 0.90625 -7.78125 \"/>\n",
       "</symbol>\n",
       "<symbol overflow=\"visible\" id=\"glyph0-3\">\n",
       "<path style=\"stroke:none;\" d=\"M 3.078125 -2.109375 L 0.921875 -2.109375 L 0.921875 0 L 3.078125 0 Z M 3.078125 -2.109375 \"/>\n",
       "</symbol>\n",
       "<symbol overflow=\"visible\" id=\"glyph0-4\">\n",
       "<path style=\"stroke:none;\" d=\"M 5.875 -7.78125 L 5.875 -6.578125 C 5.265625 -7.5 4.609375 -7.90625 3.71875 -7.90625 C 1.875 -7.90625 0.484375 -6.109375 0.484375 -3.703125 C 0.484375 -1.28125 1.75 0.328125 3.671875 0.328125 C 4.578125 0.328125 5.125 0.0625 5.875 -0.796875 L 5.875 0.265625 C 5.875 1.203125 5.171875 1.84375 4.15625 1.84375 C 3.40625 1.84375 2.890625 1.53125 2.734375 0.9375 L 0.640625 0.9375 C 0.65625 1.546875 0.890625 1.953125 1.40625 2.390625 C 2.03125 2.890625 2.890625 3.140625 4.09375 3.140625 C 6.4375 3.140625 7.796875 2.09375 7.796875 0.265625 L 7.796875 -7.78125 Z M 4.15625 -6.21875 C 5.15625 -6.21875 5.90625 -5.171875 5.90625 -3.734375 C 5.90625 -2.3125 5.171875 -1.359375 4.125 -1.359375 C 3.171875 -1.359375 2.5 -2.3125 2.5 -3.734375 C 2.5 -5.203125 3.171875 -6.21875 4.15625 -6.21875 Z M 4.15625 -6.21875 \"/>\n",
       "</symbol>\n",
       "<symbol overflow=\"visible\" id=\"glyph0-5\">\n",
       "<path style=\"stroke:none;\" d=\"M 4.34375 -7.90625 C 1.953125 -7.90625 0.5 -6.34375 0.5 -3.78125 C 0.5 -1.21875 1.953125 0.328125 4.34375 0.328125 C 6.71875 0.328125 8.203125 -1.234375 8.203125 -3.734375 C 8.203125 -6.375 6.765625 -7.90625 4.34375 -7.90625 Z M 4.34375 -6.28125 C 5.453125 -6.28125 6.1875 -5.28125 6.1875 -3.765625 C 6.1875 -2.3125 5.4375 -1.296875 4.34375 -1.296875 C 3.25 -1.296875 2.515625 -2.3125 2.515625 -3.78125 C 2.515625 -5.265625 3.25 -6.28125 4.34375 -6.28125 Z M 4.34375 -6.28125 \"/>\n",
       "</symbol>\n",
       "<symbol overflow=\"visible\" id=\"glyph0-6\">\n",
       "<path style=\"stroke:none;\" d=\"M 5.828125 0 L 7.84375 0 L 7.84375 -10.5 L 5.828125 -10.5 L 5.828125 -6.765625 C 5.328125 -7.546875 4.65625 -7.90625 3.6875 -7.90625 C 1.828125 -7.90625 0.421875 -6.125 0.421875 -3.78125 C 0.421875 -2.71875 0.734375 -1.65625 1.25 -0.90625 C 1.78125 -0.15625 2.734375 0.328125 3.6875 0.328125 C 4.65625 0.328125 5.328125 -0.03125 5.828125 -0.796875 Z M 4.140625 -6.21875 C 5.15625 -6.21875 5.828125 -5.234375 5.828125 -3.75 C 5.828125 -2.328125 5.140625 -1.359375 4.140625 -1.359375 C 3.125 -1.359375 2.4375 -2.34375 2.4375 -3.78125 C 2.4375 -5.21875 3.125 -6.21875 4.140625 -6.21875 Z M 4.140625 -6.21875 \"/>\n",
       "</symbol>\n",
       "<symbol overflow=\"visible\" id=\"glyph1-0\">\n",
       "<path style=\"stroke:none;\" d=\"\"/>\n",
       "</symbol>\n",
       "<symbol overflow=\"visible\" id=\"glyph1-1\">\n",
       "<path style=\"stroke:none;\" d=\"M 3.296875 -8.515625 C 2.515625 -8.515625 1.78125 -8.15625 1.34375 -7.578125 C 0.796875 -6.828125 0.515625 -5.6875 0.515625 -4.109375 C 0.515625 -1.25 1.46875 0.28125 3.296875 0.28125 C 5.09375 0.28125 6.078125 -1.25 6.078125 -4.046875 C 6.078125 -5.703125 5.8125 -6.796875 5.25 -7.578125 C 4.8125 -8.171875 4.109375 -8.515625 3.296875 -8.515625 Z M 3.296875 -7.578125 C 4.4375 -7.578125 5 -6.421875 5 -4.140625 C 5 -1.734375 4.453125 -0.59375 3.28125 -0.59375 C 2.15625 -0.59375 1.59375 -1.78125 1.59375 -4.109375 C 1.59375 -6.4375 2.15625 -7.578125 3.296875 -7.578125 Z M 3.296875 -7.578125 \"/>\n",
       "</symbol>\n",
       "<symbol overflow=\"visible\" id=\"glyph1-2\">\n",
       "<path style=\"stroke:none;\" d=\"M 6.078125 -1.046875 L 1.59375 -1.046875 C 1.703125 -1.734375 2.09375 -2.1875 3.125 -2.796875 L 4.328125 -3.4375 C 5.515625 -4.09375 6.125 -4.96875 6.125 -6.015625 C 6.125 -6.71875 5.84375 -7.375 5.34375 -7.84375 C 4.84375 -8.296875 4.21875 -8.515625 3.40625 -8.515625 C 2.328125 -8.515625 1.53125 -8.125 1.0625 -7.40625 C 0.75 -6.953125 0.625 -6.421875 0.59375 -5.5625 L 1.65625 -5.5625 C 1.6875 -6.125 1.765625 -6.484375 1.90625 -6.75 C 2.1875 -7.265625 2.734375 -7.578125 3.375 -7.578125 C 4.328125 -7.578125 5.046875 -6.90625 5.046875 -5.984375 C 5.046875 -5.3125 4.65625 -4.734375 3.90625 -4.3125 L 2.796875 -3.6875 C 1.015625 -2.671875 0.5 -1.875 0.40625 0 L 6.078125 0 Z M 6.078125 -1.046875 \"/>\n",
       "</symbol>\n",
       "<symbol overflow=\"visible\" id=\"glyph1-3\">\n",
       "<path style=\"stroke:none;\" d=\"M 3.921875 -2.046875 L 3.921875 0 L 4.984375 0 L 4.984375 -2.046875 L 6.234375 -2.046875 L 6.234375 -2.984375 L 4.984375 -2.984375 L 4.984375 -8.515625 L 4.203125 -8.515625 L 0.34375 -3.15625 L 0.34375 -2.046875 Z M 3.921875 -2.984375 L 1.265625 -2.984375 L 3.921875 -6.703125 Z M 3.921875 -2.984375 \"/>\n",
       "</symbol>\n",
       "<symbol overflow=\"visible\" id=\"glyph1-4\">\n",
       "<path style=\"stroke:none;\" d=\"M 5.96875 -6.28125 C 5.765625 -7.6875 4.859375 -8.515625 3.5625 -8.515625 C 2.625 -8.515625 1.78125 -8.046875 1.28125 -7.296875 C 0.75 -6.46875 0.515625 -5.421875 0.515625 -3.875 C 0.515625 -2.453125 0.734375 -1.53125 1.234375 -0.78125 C 1.6875 -0.09375 2.4375 0.28125 3.375 0.28125 C 4.984375 0.28125 6.15625 -0.921875 6.15625 -2.59375 C 6.15625 -4.171875 5.078125 -5.296875 3.546875 -5.296875 C 2.71875 -5.296875 2.046875 -4.96875 1.59375 -4.34375 C 1.609375 -6.421875 2.28125 -7.578125 3.484375 -7.578125 C 4.234375 -7.578125 4.75 -7.109375 4.921875 -6.28125 Z M 3.421875 -4.359375 C 4.4375 -4.359375 5.078125 -3.640625 5.078125 -2.515625 C 5.078125 -1.4375 4.359375 -0.65625 3.390625 -0.65625 C 2.40625 -0.65625 1.65625 -1.46875 1.65625 -2.5625 C 1.65625 -3.625 2.375 -4.359375 3.421875 -4.359375 Z M 3.421875 -4.359375 \"/>\n",
       "</symbol>\n",
       "<symbol overflow=\"visible\" id=\"glyph1-5\">\n",
       "<path style=\"stroke:none;\" d=\"M 4.6875 -4.46875 C 5.5625 -5 5.859375 -5.4375 5.859375 -6.234375 C 5.859375 -7.578125 4.8125 -8.515625 3.296875 -8.515625 C 1.796875 -8.515625 0.75 -7.578125 0.75 -6.234375 C 0.75 -5.453125 1.03125 -5.015625 1.890625 -4.46875 C 0.921875 -4.015625 0.4375 -3.296875 0.4375 -2.359375 C 0.4375 -0.796875 1.625 0.28125 3.296875 0.28125 C 4.984375 0.28125 6.15625 -0.796875 6.15625 -2.359375 C 6.15625 -3.296875 5.671875 -4.015625 4.6875 -4.46875 Z M 3.296875 -7.578125 C 4.203125 -7.578125 4.78125 -7.046875 4.78125 -6.21875 C 4.78125 -5.421875 4.1875 -4.890625 3.296875 -4.890625 C 2.40625 -4.890625 1.828125 -5.421875 1.828125 -6.234375 C 1.828125 -7.046875 2.40625 -7.578125 3.296875 -7.578125 Z M 3.296875 -4.015625 C 4.359375 -4.015625 5.078125 -3.34375 5.078125 -2.34375 C 5.078125 -1.328125 4.359375 -0.65625 3.28125 -0.65625 C 2.25 -0.65625 1.53125 -1.34375 1.53125 -2.34375 C 1.53125 -3.34375 2.25 -4.015625 3.296875 -4.015625 Z M 3.296875 -4.015625 \"/>\n",
       "</symbol>\n",
       "<symbol overflow=\"visible\" id=\"glyph1-6\">\n",
       "<path style=\"stroke:none;\" d=\"M 3.109375 -6.0625 L 3.109375 0 L 4.15625 0 L 4.15625 -8.515625 L 3.46875 -8.515625 C 3.09375 -7.203125 2.859375 -7.015625 1.21875 -6.8125 L 1.21875 -6.0625 Z M 3.109375 -6.0625 \"/>\n",
       "</symbol>\n",
       "</g>\n",
       "<clipPath id=\"clip1\">\n",
       "  <path d=\"M 93 407 L 474.757812 407 L 474.757812 414 L 93 414 Z M 93 407 \"/>\n",
       "</clipPath>\n",
       "<clipPath id=\"clip2\">\n",
       "  <path d=\"M 93 406 L 474.757812 406 L 474.757812 414 L 93 414 Z M 93 406 \"/>\n",
       "</clipPath>\n",
       "<clipPath id=\"clip3\">\n",
       "  <path d=\"M 93 397 L 474.757812 397 L 474.757812 405 L 93 405 Z M 93 397 \"/>\n",
       "</clipPath>\n",
       "<clipPath id=\"clip4\">\n",
       "  <path d=\"M 93 388 L 474.757812 388 L 474.757812 395 L 93 395 Z M 93 388 \"/>\n",
       "</clipPath>\n",
       "<clipPath id=\"clip5\">\n",
       "  <path d=\"M 93 387 L 474.757812 387 L 474.757812 395 L 93 395 Z M 93 387 \"/>\n",
       "</clipPath>\n",
       "<clipPath id=\"clip6\">\n",
       "  <path d=\"M 93 378 L 474.757812 378 L 474.757812 385 L 93 385 Z M 93 378 \"/>\n",
       "</clipPath>\n",
       "<clipPath id=\"clip7\">\n",
       "  <path d=\"M 93 378 L 474.757812 378 L 474.757812 386 L 93 386 Z M 93 378 \"/>\n",
       "</clipPath>\n",
       "<clipPath id=\"clip8\">\n",
       "  <path d=\"M 93 369 L 474.757812 369 L 474.757812 376 L 93 376 Z M 93 369 \"/>\n",
       "</clipPath>\n",
       "<clipPath id=\"clip9\">\n",
       "  <path d=\"M 93 368 L 474.757812 368 L 474.757812 376 L 93 376 Z M 93 368 \"/>\n",
       "</clipPath>\n",
       "<clipPath id=\"clip10\">\n",
       "  <path d=\"M 93 359 L 474.757812 359 L 474.757812 366 L 93 366 Z M 93 359 \"/>\n",
       "</clipPath>\n",
       "<clipPath id=\"clip11\">\n",
       "  <path d=\"M 93 359 L 474.757812 359 L 474.757812 367 L 93 367 Z M 93 359 \"/>\n",
       "</clipPath>\n",
       "<clipPath id=\"clip12\">\n",
       "  <path d=\"M 93 349 L 474.757812 349 L 474.757812 357 L 93 357 Z M 93 349 \"/>\n",
       "</clipPath>\n",
       "<clipPath id=\"clip13\">\n",
       "  <path d=\"M 93 340 L 474.757812 340 L 474.757812 347 L 93 347 Z M 93 340 \"/>\n",
       "</clipPath>\n",
       "<clipPath id=\"clip14\">\n",
       "  <path d=\"M 93 339 L 474.757812 339 L 474.757812 348 L 93 348 Z M 93 339 \"/>\n",
       "</clipPath>\n",
       "<clipPath id=\"clip15\">\n",
       "  <path d=\"M 93 330 L 474.757812 330 L 474.757812 338 L 93 338 Z M 93 330 \"/>\n",
       "</clipPath>\n",
       "<clipPath id=\"clip16\">\n",
       "  <path d=\"M 93 321 L 474.757812 321 L 474.757812 328 L 93 328 Z M 93 321 \"/>\n",
       "</clipPath>\n",
       "<clipPath id=\"clip17\">\n",
       "  <path d=\"M 93 320 L 474.757812 320 L 474.757812 328 L 93 328 Z M 93 320 \"/>\n",
       "</clipPath>\n",
       "<clipPath id=\"clip18\">\n",
       "  <path d=\"M 93 311 L 474.757812 311 L 474.757812 319 L 93 319 Z M 93 311 \"/>\n",
       "</clipPath>\n",
       "<clipPath id=\"clip19\">\n",
       "  <path d=\"M 93 302 L 474.757812 302 L 474.757812 309 L 93 309 Z M 93 302 \"/>\n",
       "</clipPath>\n",
       "<clipPath id=\"clip20\">\n",
       "  <path d=\"M 93 301 L 474.757812 301 L 474.757812 309 L 93 309 Z M 93 301 \"/>\n",
       "</clipPath>\n",
       "<clipPath id=\"clip21\">\n",
       "  <path d=\"M 93 292 L 474.757812 292 L 474.757812 299 L 93 299 Z M 93 292 \"/>\n",
       "</clipPath>\n",
       "<clipPath id=\"clip22\">\n",
       "  <path d=\"M 93 292 L 474.757812 292 L 474.757812 300 L 93 300 Z M 93 292 \"/>\n",
       "</clipPath>\n",
       "<clipPath id=\"clip23\">\n",
       "  <path d=\"M 93 283 L 474.757812 283 L 474.757812 290 L 93 290 Z M 93 283 \"/>\n",
       "</clipPath>\n",
       "<clipPath id=\"clip24\">\n",
       "  <path d=\"M 93 282 L 474.757812 282 L 474.757812 290 L 93 290 Z M 93 282 \"/>\n",
       "</clipPath>\n",
       "<clipPath id=\"clip25\">\n",
       "  <path d=\"M 93 273 L 474.757812 273 L 474.757812 280 L 93 280 Z M 93 273 \"/>\n",
       "</clipPath>\n",
       "<clipPath id=\"clip26\">\n",
       "  <path d=\"M 93 273 L 474.757812 273 L 474.757812 281 L 93 281 Z M 93 273 \"/>\n",
       "</clipPath>\n",
       "<clipPath id=\"clip27\">\n",
       "  <path d=\"M 93 263 L 474.757812 263 L 474.757812 271 L 93 271 Z M 93 263 \"/>\n",
       "</clipPath>\n",
       "<clipPath id=\"clip28\">\n",
       "  <path d=\"M 93 254 L 474.757812 254 L 474.757812 261 L 93 261 Z M 93 254 \"/>\n",
       "</clipPath>\n",
       "<clipPath id=\"clip29\">\n",
       "  <path d=\"M 93 253 L 474.757812 253 L 474.757812 262 L 93 262 Z M 93 253 \"/>\n",
       "</clipPath>\n",
       "<clipPath id=\"clip30\">\n",
       "  <path d=\"M 93 244 L 474.757812 244 L 474.757812 252 L 93 252 Z M 93 244 \"/>\n",
       "</clipPath>\n",
       "<clipPath id=\"clip31\">\n",
       "  <path d=\"M 93 235 L 474.757812 235 L 474.757812 242 L 93 242 Z M 93 235 \"/>\n",
       "</clipPath>\n",
       "<clipPath id=\"clip32\">\n",
       "  <path d=\"M 93 234 L 474.757812 234 L 474.757812 242 L 93 242 Z M 93 234 \"/>\n",
       "</clipPath>\n",
       "<clipPath id=\"clip33\">\n",
       "  <path d=\"M 93 225 L 474.757812 225 L 474.757812 233 L 93 233 Z M 93 225 \"/>\n",
       "</clipPath>\n",
       "<clipPath id=\"clip34\">\n",
       "  <path d=\"M 93 216 L 474.757812 216 L 474.757812 223 L 93 223 Z M 93 216 \"/>\n",
       "</clipPath>\n",
       "<clipPath id=\"clip35\">\n",
       "  <path d=\"M 93 215 L 474.757812 215 L 474.757812 223 L 93 223 Z M 93 215 \"/>\n",
       "</clipPath>\n",
       "<clipPath id=\"clip36\">\n",
       "  <path d=\"M 93 206 L 474.757812 206 L 474.757812 213 L 93 213 Z M 93 206 \"/>\n",
       "</clipPath>\n",
       "<clipPath id=\"clip37\">\n",
       "  <path d=\"M 93 206 L 474.757812 206 L 474.757812 214 L 93 214 Z M 93 206 \"/>\n",
       "</clipPath>\n",
       "<clipPath id=\"clip38\">\n",
       "  <path d=\"M 93 197 L 474.757812 197 L 474.757812 204 L 93 204 Z M 93 197 \"/>\n",
       "</clipPath>\n",
       "<clipPath id=\"clip39\">\n",
       "  <path d=\"M 93 196 L 474.757812 196 L 474.757812 204 L 93 204 Z M 93 196 \"/>\n",
       "</clipPath>\n",
       "<clipPath id=\"clip40\">\n",
       "  <path d=\"M 93 187 L 474.757812 187 L 474.757812 194 L 93 194 Z M 93 187 \"/>\n",
       "</clipPath>\n",
       "<clipPath id=\"clip41\">\n",
       "  <path d=\"M 93 187 L 474.757812 187 L 474.757812 195 L 93 195 Z M 93 187 \"/>\n",
       "</clipPath>\n",
       "<clipPath id=\"clip42\">\n",
       "  <path d=\"M 93 177 L 474.757812 177 L 474.757812 185 L 93 185 Z M 93 177 \"/>\n",
       "</clipPath>\n",
       "<clipPath id=\"clip43\">\n",
       "  <path d=\"M 93 168 L 474.757812 168 L 474.757812 175 L 93 175 Z M 93 168 \"/>\n",
       "</clipPath>\n",
       "<clipPath id=\"clip44\">\n",
       "  <path d=\"M 93 167 L 474.757812 167 L 474.757812 176 L 93 176 Z M 93 167 \"/>\n",
       "</clipPath>\n",
       "<clipPath id=\"clip45\">\n",
       "  <path d=\"M 93 158 L 474.757812 158 L 474.757812 166 L 93 166 Z M 93 158 \"/>\n",
       "</clipPath>\n",
       "<clipPath id=\"clip46\">\n",
       "  <path d=\"M 93 149 L 474.757812 149 L 474.757812 156 L 93 156 Z M 93 149 \"/>\n",
       "</clipPath>\n",
       "<clipPath id=\"clip47\">\n",
       "  <path d=\"M 93 148 L 474.757812 148 L 474.757812 156 L 93 156 Z M 93 148 \"/>\n",
       "</clipPath>\n",
       "<clipPath id=\"clip48\">\n",
       "  <path d=\"M 93 139 L 474.757812 139 L 474.757812 147 L 93 147 Z M 93 139 \"/>\n",
       "</clipPath>\n",
       "<clipPath id=\"clip49\">\n",
       "  <path d=\"M 93 130 L 474.757812 130 L 474.757812 137 L 93 137 Z M 93 130 \"/>\n",
       "</clipPath>\n",
       "<clipPath id=\"clip50\">\n",
       "  <path d=\"M 93 129 L 474.757812 129 L 474.757812 137 L 93 137 Z M 93 129 \"/>\n",
       "</clipPath>\n",
       "<clipPath id=\"clip51\">\n",
       "  <path d=\"M 93 120 L 474.757812 120 L 474.757812 127 L 93 127 Z M 93 120 \"/>\n",
       "</clipPath>\n",
       "<clipPath id=\"clip52\">\n",
       "  <path d=\"M 93 120 L 474.757812 120 L 474.757812 128 L 93 128 Z M 93 120 \"/>\n",
       "</clipPath>\n",
       "<clipPath id=\"clip53\">\n",
       "  <path d=\"M 93 111 L 474.757812 111 L 474.757812 118 L 93 118 Z M 93 111 \"/>\n",
       "</clipPath>\n",
       "<clipPath id=\"clip54\">\n",
       "  <path d=\"M 93 110 L 474.757812 110 L 474.757812 118 L 93 118 Z M 93 110 \"/>\n",
       "</clipPath>\n",
       "<clipPath id=\"clip55\">\n",
       "  <path d=\"M 93 101 L 474.757812 101 L 474.757812 108 L 93 108 Z M 93 101 \"/>\n",
       "</clipPath>\n",
       "<clipPath id=\"clip56\">\n",
       "  <path d=\"M 93 101 L 474.757812 101 L 474.757812 109 L 93 109 Z M 93 101 \"/>\n",
       "</clipPath>\n",
       "<clipPath id=\"clip57\">\n",
       "  <path d=\"M 93 91 L 474.757812 91 L 474.757812 99 L 93 99 Z M 93 91 \"/>\n",
       "</clipPath>\n",
       "<clipPath id=\"clip58\">\n",
       "  <path d=\"M 93 82 L 474.757812 82 L 474.757812 89 L 93 89 Z M 93 82 \"/>\n",
       "</clipPath>\n",
       "<clipPath id=\"clip59\">\n",
       "  <path d=\"M 93 81 L 474.757812 81 L 474.757812 90 L 93 90 Z M 93 81 \"/>\n",
       "</clipPath>\n",
       "<clipPath id=\"clip60\">\n",
       "  <path d=\"M 93 72 L 474.757812 72 L 474.757812 80 L 93 80 Z M 93 72 \"/>\n",
       "</clipPath>\n",
       "</defs>\n",
       "<g id=\"surface21\">\n",
       "<rect x=\"0\" y=\"0\" width=\"504\" height=\"504\" style=\"fill:rgb(100%,100%,100%);fill-opacity:1;stroke:none;\"/>\n",
       "<g clip-path=\"url(#clip1)\" clip-rule=\"nonzero\">\n",
       "<path style=\" stroke:none;fill-rule:nonzero;fill:rgb(49.803922%,49.803922%,49.803922%);fill-opacity:1;\" d=\"M 93.601562 413.613281 L 477.601562 413.613281 L 477.601562 407.242188 L 93.601562 407.242188 Z M 93.601562 413.613281 \"/>\n",
       "</g>\n",
       "<g clip-path=\"url(#clip2)\" clip-rule=\"nonzero\">\n",
       "<path style=\"fill:none;stroke-width:0.75;stroke-linecap:round;stroke-linejoin:round;stroke:rgb(0%,0%,0%);stroke-opacity:1;stroke-miterlimit:10;\" d=\"M 93.601562 413.613281 L 477.601562 413.613281 L 477.601562 407.242188 L 93.601562 407.242188 Z M 93.601562 413.613281 \"/>\n",
       "</g>\n",
       "<g clip-path=\"url(#clip3)\" clip-rule=\"nonzero\">\n",
       "<path style=\"fill-rule:nonzero;fill:rgb(49.803922%,49.803922%,49.803922%);fill-opacity:1;stroke-width:0.75;stroke-linecap:round;stroke-linejoin:round;stroke:rgb(0%,0%,0%);stroke-opacity:1;stroke-miterlimit:10;\" d=\"M 93.601562 404.058594 L 477.601562 404.058594 L 477.601562 397.6875 L 93.601562 397.6875 Z M 93.601562 404.058594 \"/>\n",
       "</g>\n",
       "<g clip-path=\"url(#clip4)\" clip-rule=\"nonzero\">\n",
       "<path style=\" stroke:none;fill-rule:nonzero;fill:rgb(49.803922%,49.803922%,49.803922%);fill-opacity:1;\" d=\"M 93.601562 394.503906 L 477.601562 394.503906 L 477.601562 388.132812 L 93.601562 388.132812 Z M 93.601562 394.503906 \"/>\n",
       "</g>\n",
       "<g clip-path=\"url(#clip5)\" clip-rule=\"nonzero\">\n",
       "<path style=\"fill:none;stroke-width:0.75;stroke-linecap:round;stroke-linejoin:round;stroke:rgb(0%,0%,0%);stroke-opacity:1;stroke-miterlimit:10;\" d=\"M 93.601562 394.503906 L 477.601562 394.503906 L 477.601562 388.132812 L 93.601562 388.132812 Z M 93.601562 394.503906 \"/>\n",
       "</g>\n",
       "<g clip-path=\"url(#clip6)\" clip-rule=\"nonzero\">\n",
       "<path style=\" stroke:none;fill-rule:nonzero;fill:rgb(49.803922%,49.803922%,49.803922%);fill-opacity:1;\" d=\"M 93.601562 384.949219 L 477.601562 384.949219 L 477.601562 378.578125 L 93.601562 378.578125 Z M 93.601562 384.949219 \"/>\n",
       "</g>\n",
       "<g clip-path=\"url(#clip7)\" clip-rule=\"nonzero\">\n",
       "<path style=\"fill:none;stroke-width:0.75;stroke-linecap:round;stroke-linejoin:round;stroke:rgb(0%,0%,0%);stroke-opacity:1;stroke-miterlimit:10;\" d=\"M 93.601562 384.949219 L 477.601562 384.949219 L 477.601562 378.578125 L 93.601562 378.578125 Z M 93.601562 384.949219 \"/>\n",
       "</g>\n",
       "<g clip-path=\"url(#clip8)\" clip-rule=\"nonzero\">\n",
       "<path style=\" stroke:none;fill-rule:nonzero;fill:rgb(49.803922%,49.803922%,49.803922%);fill-opacity:1;\" d=\"M 93.601562 375.394531 L 477.601562 375.394531 L 477.601562 369.023438 L 93.601562 369.023438 Z M 93.601562 375.394531 \"/>\n",
       "</g>\n",
       "<g clip-path=\"url(#clip9)\" clip-rule=\"nonzero\">\n",
       "<path style=\"fill:none;stroke-width:0.75;stroke-linecap:round;stroke-linejoin:round;stroke:rgb(0%,0%,0%);stroke-opacity:1;stroke-miterlimit:10;\" d=\"M 93.601562 375.394531 L 477.601562 375.394531 L 477.601562 369.023438 L 93.601562 369.023438 Z M 93.601562 375.394531 \"/>\n",
       "</g>\n",
       "<g clip-path=\"url(#clip10)\" clip-rule=\"nonzero\">\n",
       "<path style=\" stroke:none;fill-rule:nonzero;fill:rgb(0%,0%,0%);fill-opacity:1;\" d=\"M 93.601562 365.835938 L 477.601562 365.835938 L 477.601562 359.464844 L 93.601562 359.464844 Z M 93.601562 365.835938 \"/>\n",
       "</g>\n",
       "<g clip-path=\"url(#clip11)\" clip-rule=\"nonzero\">\n",
       "<path style=\"fill:none;stroke-width:0.75;stroke-linecap:round;stroke-linejoin:round;stroke:rgb(0%,0%,0%);stroke-opacity:1;stroke-miterlimit:10;\" d=\"M 93.601562 365.835938 L 477.601562 365.835938 L 477.601562 359.464844 L 93.601562 359.464844 Z M 93.601562 365.835938 \"/>\n",
       "</g>\n",
       "<g clip-path=\"url(#clip12)\" clip-rule=\"nonzero\">\n",
       "<path style=\"fill-rule:nonzero;fill:rgb(49.803922%,49.803922%,49.803922%);fill-opacity:1;stroke-width:0.75;stroke-linecap:round;stroke-linejoin:round;stroke:rgb(0%,0%,0%);stroke-opacity:1;stroke-miterlimit:10;\" d=\"M 93.601562 356.28125 L 477.601562 356.28125 L 477.601562 349.910156 L 93.601562 349.910156 Z M 93.601562 356.28125 \"/>\n",
       "</g>\n",
       "<g clip-path=\"url(#clip13)\" clip-rule=\"nonzero\">\n",
       "<path style=\" stroke:none;fill-rule:nonzero;fill:rgb(49.803922%,49.803922%,49.803922%);fill-opacity:1;\" d=\"M 93.601562 346.726562 L 477.601562 346.726562 L 477.601562 340.355469 L 93.601562 340.355469 Z M 93.601562 346.726562 \"/>\n",
       "</g>\n",
       "<g clip-path=\"url(#clip14)\" clip-rule=\"nonzero\">\n",
       "<path style=\"fill:none;stroke-width:0.75;stroke-linecap:round;stroke-linejoin:round;stroke:rgb(0%,0%,0%);stroke-opacity:1;stroke-miterlimit:10;\" d=\"M 93.601562 346.726562 L 477.601562 346.726562 L 477.601562 340.355469 L 93.601562 340.355469 Z M 93.601562 346.726562 \"/>\n",
       "</g>\n",
       "<g clip-path=\"url(#clip15)\" clip-rule=\"nonzero\">\n",
       "<path style=\"fill-rule:nonzero;fill:rgb(49.803922%,49.803922%,49.803922%);fill-opacity:1;stroke-width:0.75;stroke-linecap:round;stroke-linejoin:round;stroke:rgb(0%,0%,0%);stroke-opacity:1;stroke-miterlimit:10;\" d=\"M 93.601562 337.171875 L 477.601562 337.171875 L 477.601562 330.800781 L 93.601562 330.800781 Z M 93.601562 337.171875 \"/>\n",
       "</g>\n",
       "<g clip-path=\"url(#clip16)\" clip-rule=\"nonzero\">\n",
       "<path style=\" stroke:none;fill-rule:nonzero;fill:rgb(49.803922%,49.803922%,49.803922%);fill-opacity:1;\" d=\"M 93.601562 327.613281 L 477.601562 327.613281 L 477.601562 321.242188 L 93.601562 321.242188 Z M 93.601562 327.613281 \"/>\n",
       "</g>\n",
       "<g clip-path=\"url(#clip17)\" clip-rule=\"nonzero\">\n",
       "<path style=\"fill:none;stroke-width:0.75;stroke-linecap:round;stroke-linejoin:round;stroke:rgb(0%,0%,0%);stroke-opacity:1;stroke-miterlimit:10;\" d=\"M 93.601562 327.613281 L 477.601562 327.613281 L 477.601562 321.242188 L 93.601562 321.242188 Z M 93.601562 327.613281 \"/>\n",
       "</g>\n",
       "<g clip-path=\"url(#clip18)\" clip-rule=\"nonzero\">\n",
       "<path style=\"fill-rule:nonzero;fill:rgb(49.803922%,49.803922%,49.803922%);fill-opacity:1;stroke-width:0.75;stroke-linecap:round;stroke-linejoin:round;stroke:rgb(0%,0%,0%);stroke-opacity:1;stroke-miterlimit:10;\" d=\"M 93.601562 318.058594 L 477.601562 318.058594 L 477.601562 311.6875 L 93.601562 311.6875 Z M 93.601562 318.058594 \"/>\n",
       "</g>\n",
       "<g clip-path=\"url(#clip19)\" clip-rule=\"nonzero\">\n",
       "<path style=\" stroke:none;fill-rule:nonzero;fill:rgb(49.803922%,49.803922%,49.803922%);fill-opacity:1;\" d=\"M 93.601562 308.503906 L 477.601562 308.503906 L 477.601562 302.132812 L 93.601562 302.132812 Z M 93.601562 308.503906 \"/>\n",
       "</g>\n",
       "<g clip-path=\"url(#clip20)\" clip-rule=\"nonzero\">\n",
       "<path style=\"fill:none;stroke-width:0.75;stroke-linecap:round;stroke-linejoin:round;stroke:rgb(0%,0%,0%);stroke-opacity:1;stroke-miterlimit:10;\" d=\"M 93.601562 308.503906 L 477.601562 308.503906 L 477.601562 302.132812 L 93.601562 302.132812 Z M 93.601562 308.503906 \"/>\n",
       "</g>\n",
       "<g clip-path=\"url(#clip21)\" clip-rule=\"nonzero\">\n",
       "<path style=\" stroke:none;fill-rule:nonzero;fill:rgb(49.803922%,49.803922%,49.803922%);fill-opacity:1;\" d=\"M 93.601562 298.949219 L 477.601562 298.949219 L 477.601562 292.578125 L 93.601562 292.578125 Z M 93.601562 298.949219 \"/>\n",
       "</g>\n",
       "<g clip-path=\"url(#clip22)\" clip-rule=\"nonzero\">\n",
       "<path style=\"fill:none;stroke-width:0.75;stroke-linecap:round;stroke-linejoin:round;stroke:rgb(0%,0%,0%);stroke-opacity:1;stroke-miterlimit:10;\" d=\"M 93.601562 298.949219 L 477.601562 298.949219 L 477.601562 292.578125 L 93.601562 292.578125 Z M 93.601562 298.949219 \"/>\n",
       "</g>\n",
       "<g clip-path=\"url(#clip23)\" clip-rule=\"nonzero\">\n",
       "<path style=\" stroke:none;fill-rule:nonzero;fill:rgb(49.803922%,49.803922%,49.803922%);fill-opacity:1;\" d=\"M 93.601562 289.394531 L 477.601562 289.394531 L 477.601562 283.023438 L 93.601562 283.023438 Z M 93.601562 289.394531 \"/>\n",
       "</g>\n",
       "<g clip-path=\"url(#clip24)\" clip-rule=\"nonzero\">\n",
       "<path style=\"fill:none;stroke-width:0.75;stroke-linecap:round;stroke-linejoin:round;stroke:rgb(0%,0%,0%);stroke-opacity:1;stroke-miterlimit:10;\" d=\"M 93.601562 289.394531 L 477.601562 289.394531 L 477.601562 283.023438 L 93.601562 283.023438 Z M 93.601562 289.394531 \"/>\n",
       "</g>\n",
       "<g clip-path=\"url(#clip25)\" clip-rule=\"nonzero\">\n",
       "<path style=\" stroke:none;fill-rule:nonzero;fill:rgb(49.803922%,49.803922%,49.803922%);fill-opacity:1;\" d=\"M 93.601562 279.835938 L 477.601562 279.835938 L 477.601562 273.464844 L 93.601562 273.464844 Z M 93.601562 279.835938 \"/>\n",
       "</g>\n",
       "<g clip-path=\"url(#clip26)\" clip-rule=\"nonzero\">\n",
       "<path style=\"fill:none;stroke-width:0.75;stroke-linecap:round;stroke-linejoin:round;stroke:rgb(0%,0%,0%);stroke-opacity:1;stroke-miterlimit:10;\" d=\"M 93.601562 279.835938 L 477.601562 279.835938 L 477.601562 273.464844 L 93.601562 273.464844 Z M 93.601562 279.835938 \"/>\n",
       "</g>\n",
       "<g clip-path=\"url(#clip27)\" clip-rule=\"nonzero\">\n",
       "<path style=\"fill-rule:nonzero;fill:rgb(49.803922%,49.803922%,49.803922%);fill-opacity:1;stroke-width:0.75;stroke-linecap:round;stroke-linejoin:round;stroke:rgb(0%,0%,0%);stroke-opacity:1;stroke-miterlimit:10;\" d=\"M 93.601562 270.28125 L 477.601562 270.28125 L 477.601562 263.910156 L 93.601562 263.910156 Z M 93.601562 270.28125 \"/>\n",
       "</g>\n",
       "<g clip-path=\"url(#clip28)\" clip-rule=\"nonzero\">\n",
       "<path style=\" stroke:none;fill-rule:nonzero;fill:rgb(49.803922%,49.803922%,49.803922%);fill-opacity:1;\" d=\"M 93.601562 260.726562 L 477.601562 260.726562 L 477.601562 254.355469 L 93.601562 254.355469 Z M 93.601562 260.726562 \"/>\n",
       "</g>\n",
       "<g clip-path=\"url(#clip29)\" clip-rule=\"nonzero\">\n",
       "<path style=\"fill:none;stroke-width:0.75;stroke-linecap:round;stroke-linejoin:round;stroke:rgb(0%,0%,0%);stroke-opacity:1;stroke-miterlimit:10;\" d=\"M 93.601562 260.726562 L 477.601562 260.726562 L 477.601562 254.355469 L 93.601562 254.355469 Z M 93.601562 260.726562 \"/>\n",
       "</g>\n",
       "<g clip-path=\"url(#clip30)\" clip-rule=\"nonzero\">\n",
       "<path style=\"fill-rule:nonzero;fill:rgb(49.803922%,49.803922%,49.803922%);fill-opacity:1;stroke-width:0.75;stroke-linecap:round;stroke-linejoin:round;stroke:rgb(0%,0%,0%);stroke-opacity:1;stroke-miterlimit:10;\" d=\"M 93.601562 251.171875 L 477.601562 251.171875 L 477.601562 244.800781 L 93.601562 244.800781 Z M 93.601562 251.171875 \"/>\n",
       "</g>\n",
       "<g clip-path=\"url(#clip31)\" clip-rule=\"nonzero\">\n",
       "<path style=\" stroke:none;fill-rule:nonzero;fill:rgb(49.803922%,49.803922%,49.803922%);fill-opacity:1;\" d=\"M 93.601562 241.613281 L 477.601562 241.613281 L 477.601562 235.242188 L 93.601562 235.242188 Z M 93.601562 241.613281 \"/>\n",
       "</g>\n",
       "<g clip-path=\"url(#clip32)\" clip-rule=\"nonzero\">\n",
       "<path style=\"fill:none;stroke-width:0.75;stroke-linecap:round;stroke-linejoin:round;stroke:rgb(0%,0%,0%);stroke-opacity:1;stroke-miterlimit:10;\" d=\"M 93.601562 241.613281 L 477.601562 241.613281 L 477.601562 235.242188 L 93.601562 235.242188 Z M 93.601562 241.613281 \"/>\n",
       "</g>\n",
       "<g clip-path=\"url(#clip33)\" clip-rule=\"nonzero\">\n",
       "<path style=\"fill-rule:nonzero;fill:rgb(49.803922%,49.803922%,49.803922%);fill-opacity:1;stroke-width:0.75;stroke-linecap:round;stroke-linejoin:round;stroke:rgb(0%,0%,0%);stroke-opacity:1;stroke-miterlimit:10;\" d=\"M 93.601562 232.058594 L 477.601562 232.058594 L 477.601562 225.6875 L 93.601562 225.6875 Z M 93.601562 232.058594 \"/>\n",
       "</g>\n",
       "<g clip-path=\"url(#clip34)\" clip-rule=\"nonzero\">\n",
       "<path style=\" stroke:none;fill-rule:nonzero;fill:rgb(49.803922%,49.803922%,49.803922%);fill-opacity:1;\" d=\"M 93.601562 222.503906 L 477.601562 222.503906 L 477.601562 216.132812 L 93.601562 216.132812 Z M 93.601562 222.503906 \"/>\n",
       "</g>\n",
       "<g clip-path=\"url(#clip35)\" clip-rule=\"nonzero\">\n",
       "<path style=\"fill:none;stroke-width:0.75;stroke-linecap:round;stroke-linejoin:round;stroke:rgb(0%,0%,0%);stroke-opacity:1;stroke-miterlimit:10;\" d=\"M 93.601562 222.503906 L 477.601562 222.503906 L 477.601562 216.132812 L 93.601562 216.132812 Z M 93.601562 222.503906 \"/>\n",
       "</g>\n",
       "<g clip-path=\"url(#clip36)\" clip-rule=\"nonzero\">\n",
       "<path style=\" stroke:none;fill-rule:nonzero;fill:rgb(49.803922%,49.803922%,49.803922%);fill-opacity:1;\" d=\"M 93.601562 212.949219 L 477.601562 212.949219 L 477.601562 206.578125 L 93.601562 206.578125 Z M 93.601562 212.949219 \"/>\n",
       "</g>\n",
       "<g clip-path=\"url(#clip37)\" clip-rule=\"nonzero\">\n",
       "<path style=\"fill:none;stroke-width:0.75;stroke-linecap:round;stroke-linejoin:round;stroke:rgb(0%,0%,0%);stroke-opacity:1;stroke-miterlimit:10;\" d=\"M 93.601562 212.949219 L 477.601562 212.949219 L 477.601562 206.578125 L 93.601562 206.578125 Z M 93.601562 212.949219 \"/>\n",
       "</g>\n",
       "<g clip-path=\"url(#clip38)\" clip-rule=\"nonzero\">\n",
       "<path style=\" stroke:none;fill-rule:nonzero;fill:rgb(49.803922%,49.803922%,49.803922%);fill-opacity:1;\" d=\"M 93.601562 203.394531 L 477.601562 203.394531 L 477.601562 197.023438 L 93.601562 197.023438 Z M 93.601562 203.394531 \"/>\n",
       "</g>\n",
       "<g clip-path=\"url(#clip39)\" clip-rule=\"nonzero\">\n",
       "<path style=\"fill:none;stroke-width:0.75;stroke-linecap:round;stroke-linejoin:round;stroke:rgb(0%,0%,0%);stroke-opacity:1;stroke-miterlimit:10;\" d=\"M 93.601562 203.394531 L 477.601562 203.394531 L 477.601562 197.023438 L 93.601562 197.023438 Z M 93.601562 203.394531 \"/>\n",
       "</g>\n",
       "<g clip-path=\"url(#clip40)\" clip-rule=\"nonzero\">\n",
       "<path style=\" stroke:none;fill-rule:nonzero;fill:rgb(49.803922%,49.803922%,49.803922%);fill-opacity:1;\" d=\"M 93.601562 193.835938 L 477.601562 193.835938 L 477.601562 187.464844 L 93.601562 187.464844 Z M 93.601562 193.835938 \"/>\n",
       "</g>\n",
       "<g clip-path=\"url(#clip41)\" clip-rule=\"nonzero\">\n",
       "<path style=\"fill:none;stroke-width:0.75;stroke-linecap:round;stroke-linejoin:round;stroke:rgb(0%,0%,0%);stroke-opacity:1;stroke-miterlimit:10;\" d=\"M 93.601562 193.835938 L 477.601562 193.835938 L 477.601562 187.464844 L 93.601562 187.464844 Z M 93.601562 193.835938 \"/>\n",
       "</g>\n",
       "<g clip-path=\"url(#clip42)\" clip-rule=\"nonzero\">\n",
       "<path style=\"fill-rule:nonzero;fill:rgb(49.803922%,49.803922%,49.803922%);fill-opacity:1;stroke-width:0.75;stroke-linecap:round;stroke-linejoin:round;stroke:rgb(0%,0%,0%);stroke-opacity:1;stroke-miterlimit:10;\" d=\"M 93.601562 184.28125 L 477.601562 184.28125 L 477.601562 177.910156 L 93.601562 177.910156 Z M 93.601562 184.28125 \"/>\n",
       "</g>\n",
       "<g clip-path=\"url(#clip43)\" clip-rule=\"nonzero\">\n",
       "<path style=\" stroke:none;fill-rule:nonzero;fill:rgb(49.803922%,49.803922%,49.803922%);fill-opacity:1;\" d=\"M 93.601562 174.726562 L 477.601562 174.726562 L 477.601562 168.355469 L 93.601562 168.355469 Z M 93.601562 174.726562 \"/>\n",
       "</g>\n",
       "<g clip-path=\"url(#clip44)\" clip-rule=\"nonzero\">\n",
       "<path style=\"fill:none;stroke-width:0.75;stroke-linecap:round;stroke-linejoin:round;stroke:rgb(0%,0%,0%);stroke-opacity:1;stroke-miterlimit:10;\" d=\"M 93.601562 174.726562 L 477.601562 174.726562 L 477.601562 168.355469 L 93.601562 168.355469 Z M 93.601562 174.726562 \"/>\n",
       "</g>\n",
       "<g clip-path=\"url(#clip45)\" clip-rule=\"nonzero\">\n",
       "<path style=\"fill-rule:nonzero;fill:rgb(49.803922%,49.803922%,49.803922%);fill-opacity:1;stroke-width:0.75;stroke-linecap:round;stroke-linejoin:round;stroke:rgb(0%,0%,0%);stroke-opacity:1;stroke-miterlimit:10;\" d=\"M 93.601562 165.171875 L 477.601562 165.171875 L 477.601562 158.800781 L 93.601562 158.800781 Z M 93.601562 165.171875 \"/>\n",
       "</g>\n",
       "<g clip-path=\"url(#clip46)\" clip-rule=\"nonzero\">\n",
       "<path style=\" stroke:none;fill-rule:nonzero;fill:rgb(49.803922%,49.803922%,49.803922%);fill-opacity:1;\" d=\"M 93.601562 155.613281 L 477.601562 155.613281 L 477.601562 149.242188 L 93.601562 149.242188 Z M 93.601562 155.613281 \"/>\n",
       "</g>\n",
       "<g clip-path=\"url(#clip47)\" clip-rule=\"nonzero\">\n",
       "<path style=\"fill:none;stroke-width:0.75;stroke-linecap:round;stroke-linejoin:round;stroke:rgb(0%,0%,0%);stroke-opacity:1;stroke-miterlimit:10;\" d=\"M 93.601562 155.613281 L 477.601562 155.613281 L 477.601562 149.242188 L 93.601562 149.242188 Z M 93.601562 155.613281 \"/>\n",
       "</g>\n",
       "<g clip-path=\"url(#clip48)\" clip-rule=\"nonzero\">\n",
       "<path style=\"fill-rule:nonzero;fill:rgb(49.803922%,49.803922%,49.803922%);fill-opacity:1;stroke-width:0.75;stroke-linecap:round;stroke-linejoin:round;stroke:rgb(0%,0%,0%);stroke-opacity:1;stroke-miterlimit:10;\" d=\"M 93.601562 146.058594 L 477.601562 146.058594 L 477.601562 139.6875 L 93.601562 139.6875 Z M 93.601562 146.058594 \"/>\n",
       "</g>\n",
       "<g clip-path=\"url(#clip49)\" clip-rule=\"nonzero\">\n",
       "<path style=\" stroke:none;fill-rule:nonzero;fill:rgb(49.803922%,49.803922%,49.803922%);fill-opacity:1;\" d=\"M 93.601562 136.503906 L 477.601562 136.503906 L 477.601562 130.132812 L 93.601562 130.132812 Z M 93.601562 136.503906 \"/>\n",
       "</g>\n",
       "<g clip-path=\"url(#clip50)\" clip-rule=\"nonzero\">\n",
       "<path style=\"fill:none;stroke-width:0.75;stroke-linecap:round;stroke-linejoin:round;stroke:rgb(0%,0%,0%);stroke-opacity:1;stroke-miterlimit:10;\" d=\"M 93.601562 136.503906 L 477.601562 136.503906 L 477.601562 130.132812 L 93.601562 130.132812 Z M 93.601562 136.503906 \"/>\n",
       "</g>\n",
       "<g clip-path=\"url(#clip51)\" clip-rule=\"nonzero\">\n",
       "<path style=\" stroke:none;fill-rule:nonzero;fill:rgb(49.803922%,49.803922%,49.803922%);fill-opacity:1;\" d=\"M 93.601562 126.949219 L 477.601562 126.949219 L 477.601562 120.578125 L 93.601562 120.578125 Z M 93.601562 126.949219 \"/>\n",
       "</g>\n",
       "<g clip-path=\"url(#clip52)\" clip-rule=\"nonzero\">\n",
       "<path style=\"fill:none;stroke-width:0.75;stroke-linecap:round;stroke-linejoin:round;stroke:rgb(0%,0%,0%);stroke-opacity:1;stroke-miterlimit:10;\" d=\"M 93.601562 126.949219 L 477.601562 126.949219 L 477.601562 120.578125 L 93.601562 120.578125 Z M 93.601562 126.949219 \"/>\n",
       "</g>\n",
       "<g clip-path=\"url(#clip53)\" clip-rule=\"nonzero\">\n",
       "<path style=\" stroke:none;fill-rule:nonzero;fill:rgb(49.803922%,49.803922%,49.803922%);fill-opacity:1;\" d=\"M 93.601562 117.394531 L 477.601562 117.394531 L 477.601562 111.023438 L 93.601562 111.023438 Z M 93.601562 117.394531 \"/>\n",
       "</g>\n",
       "<g clip-path=\"url(#clip54)\" clip-rule=\"nonzero\">\n",
       "<path style=\"fill:none;stroke-width:0.75;stroke-linecap:round;stroke-linejoin:round;stroke:rgb(0%,0%,0%);stroke-opacity:1;stroke-miterlimit:10;\" d=\"M 93.601562 117.394531 L 477.601562 117.394531 L 477.601562 111.023438 L 93.601562 111.023438 Z M 93.601562 117.394531 \"/>\n",
       "</g>\n",
       "<g clip-path=\"url(#clip55)\" clip-rule=\"nonzero\">\n",
       "<path style=\" stroke:none;fill-rule:nonzero;fill:rgb(49.803922%,49.803922%,49.803922%);fill-opacity:1;\" d=\"M 93.601562 107.835938 L 477.601562 107.835938 L 477.601562 101.464844 L 93.601562 101.464844 Z M 93.601562 107.835938 \"/>\n",
       "</g>\n",
       "<g clip-path=\"url(#clip56)\" clip-rule=\"nonzero\">\n",
       "<path style=\"fill:none;stroke-width:0.75;stroke-linecap:round;stroke-linejoin:round;stroke:rgb(0%,0%,0%);stroke-opacity:1;stroke-miterlimit:10;\" d=\"M 93.601562 107.835938 L 477.601562 107.835938 L 477.601562 101.464844 L 93.601562 101.464844 Z M 93.601562 107.835938 \"/>\n",
       "</g>\n",
       "<g clip-path=\"url(#clip57)\" clip-rule=\"nonzero\">\n",
       "<path style=\"fill-rule:nonzero;fill:rgb(49.803922%,49.803922%,49.803922%);fill-opacity:1;stroke-width:0.75;stroke-linecap:round;stroke-linejoin:round;stroke:rgb(0%,0%,0%);stroke-opacity:1;stroke-miterlimit:10;\" d=\"M 93.601562 98.28125 L 477.601562 98.28125 L 477.601562 91.910156 L 93.601562 91.910156 Z M 93.601562 98.28125 \"/>\n",
       "</g>\n",
       "<g clip-path=\"url(#clip58)\" clip-rule=\"nonzero\">\n",
       "<path style=\" stroke:none;fill-rule:nonzero;fill:rgb(49.803922%,49.803922%,49.803922%);fill-opacity:1;\" d=\"M 93.601562 88.726562 L 477.601562 88.726562 L 477.601562 82.355469 L 93.601562 82.355469 Z M 93.601562 88.726562 \"/>\n",
       "</g>\n",
       "<g clip-path=\"url(#clip59)\" clip-rule=\"nonzero\">\n",
       "<path style=\"fill:none;stroke-width:0.75;stroke-linecap:round;stroke-linejoin:round;stroke:rgb(0%,0%,0%);stroke-opacity:1;stroke-miterlimit:10;\" d=\"M 93.601562 88.726562 L 477.601562 88.726562 L 477.601562 82.355469 L 93.601562 82.355469 Z M 93.601562 88.726562 \"/>\n",
       "</g>\n",
       "<g clip-path=\"url(#clip60)\" clip-rule=\"nonzero\">\n",
       "<path style=\"fill-rule:nonzero;fill:rgb(49.803922%,49.803922%,49.803922%);fill-opacity:1;stroke-width:0.75;stroke-linecap:round;stroke-linejoin:round;stroke:rgb(0%,0%,0%);stroke-opacity:1;stroke-miterlimit:10;\" d=\"M 93.601562 79.171875 L 477.601562 79.171875 L 477.601562 72.800781 L 93.601562 72.800781 Z M 93.601562 79.171875 \"/>\n",
       "</g>\n",
       "<g style=\"fill:rgb(0%,0%,0%);fill-opacity:1;\">\n",
       "  <use xlink:href=\"#glyph0-1\" x=\"241.898438\" y=\"34.116211\"/>\n",
       "  <use xlink:href=\"#glyph0-2\" x=\"245.90332\" y=\"34.116211\"/>\n",
       "  <use xlink:href=\"#glyph0-3\" x=\"251.507812\" y=\"34.116211\"/>\n",
       "  <use xlink:href=\"#glyph0-4\" x=\"255.512695\" y=\"34.116211\"/>\n",
       "  <use xlink:href=\"#glyph0-5\" x=\"264.314453\" y=\"34.116211\"/>\n",
       "  <use xlink:href=\"#glyph0-5\" x=\"273.116211\" y=\"34.116211\"/>\n",
       "  <use xlink:href=\"#glyph0-6\" x=\"281.917969\" y=\"34.116211\"/>\n",
       "</g>\n",
       "<path style=\"fill:none;stroke-width:0.75;stroke-linecap:round;stroke-linejoin:round;stroke:rgb(0%,0%,0%);stroke-opacity:1;stroke-miterlimit:10;\" d=\"M 74.398438 430.558594 L 458.398438 430.558594 \"/>\n",
       "<path style=\"fill:none;stroke-width:0.75;stroke-linecap:round;stroke-linejoin:round;stroke:rgb(0%,0%,0%);stroke-opacity:1;stroke-miterlimit:10;\" d=\"M 74.398438 430.558594 L 74.398438 437.761719 \"/>\n",
       "<path style=\"fill:none;stroke-width:0.75;stroke-linecap:round;stroke-linejoin:round;stroke:rgb(0%,0%,0%);stroke-opacity:1;stroke-miterlimit:10;\" d=\"M 151.199219 430.558594 L 151.199219 437.761719 \"/>\n",
       "<path style=\"fill:none;stroke-width:0.75;stroke-linecap:round;stroke-linejoin:round;stroke:rgb(0%,0%,0%);stroke-opacity:1;stroke-miterlimit:10;\" d=\"M 228 430.558594 L 228 437.761719 \"/>\n",
       "<path style=\"fill:none;stroke-width:0.75;stroke-linecap:round;stroke-linejoin:round;stroke:rgb(0%,0%,0%);stroke-opacity:1;stroke-miterlimit:10;\" d=\"M 304.800781 430.558594 L 304.800781 437.761719 \"/>\n",
       "<path style=\"fill:none;stroke-width:0.75;stroke-linecap:round;stroke-linejoin:round;stroke:rgb(0%,0%,0%);stroke-opacity:1;stroke-miterlimit:10;\" d=\"M 381.601562 430.558594 L 381.601562 437.761719 \"/>\n",
       "<path style=\"fill:none;stroke-width:0.75;stroke-linecap:round;stroke-linejoin:round;stroke:rgb(0%,0%,0%);stroke-opacity:1;stroke-miterlimit:10;\" d=\"M 458.398438 430.558594 L 458.398438 437.761719 \"/>\n",
       "<g style=\"fill:rgb(0%,0%,0%);fill-opacity:1;\">\n",
       "  <use xlink:href=\"#glyph1-1\" x=\"70.898438\" y=\"455.916016\"/>\n",
       "</g>\n",
       "<g style=\"fill:rgb(0%,0%,0%);fill-opacity:1;\">\n",
       "  <use xlink:href=\"#glyph1-2\" x=\"147.699219\" y=\"455.916016\"/>\n",
       "</g>\n",
       "<g style=\"fill:rgb(0%,0%,0%);fill-opacity:1;\">\n",
       "  <use xlink:href=\"#glyph1-3\" x=\"224.5\" y=\"455.916016\"/>\n",
       "</g>\n",
       "<g style=\"fill:rgb(0%,0%,0%);fill-opacity:1;\">\n",
       "  <use xlink:href=\"#glyph1-4\" x=\"301.300781\" y=\"455.916016\"/>\n",
       "</g>\n",
       "<g style=\"fill:rgb(0%,0%,0%);fill-opacity:1;\">\n",
       "  <use xlink:href=\"#glyph1-5\" x=\"378.101562\" y=\"455.916016\"/>\n",
       "</g>\n",
       "<g style=\"fill:rgb(0%,0%,0%);fill-opacity:1;\">\n",
       "  <use xlink:href=\"#glyph1-6\" x=\"451.398438\" y=\"455.916016\"/>\n",
       "  <use xlink:href=\"#glyph1-1\" x=\"458.070312\" y=\"455.916016\"/>\n",
       "</g>\n",
       "</g>\n",
       "</svg>\n"
      ],
      "text/plain": [
       "Plot with title “ir.good”"
      ]
     },
     "metadata": {
      "image/svg+xml": {
       "isolated": true
      }
     },
     "output_type": "display_data"
    }
   ],
   "source": [
    "plotRanges(ir.good, col = good.col)"
   ]
  },
  {
   "cell_type": "code",
   "execution_count": 21,
   "metadata": {
    "collapsed": false
   },
   "outputs": [
    {
     "data": {
      "image/png": "[encoded data removed]",
      "image/svg+xml": [
       "<?xml version=\"1.0\" encoding=\"UTF-8\"?>\n",
       "<svg xmlns=\"http://www.w3.org/2000/svg\" xmlns:xlink=\"http://www.w3.org/1999/xlink\" width=\"504pt\" height=\"504pt\" viewBox=\"0 0 504 504\" version=\"1.1\">\n",
       "<defs>\n",
       "<g>\n",
       "<symbol overflow=\"visible\" id=\"glyph0-0\">\n",
       "<path style=\"stroke:none;\" d=\"\"/>\n",
       "</symbol>\n",
       "<symbol overflow=\"visible\" id=\"glyph0-1\">\n",
       "<path style=\"stroke:none;\" d=\"M 2.984375 -7.78125 L 0.96875 -7.78125 L 0.96875 0 L 2.984375 0 Z M 2.984375 -10.5 L 0.96875 -10.5 L 0.96875 -8.703125 L 2.984375 -8.703125 Z M 2.984375 -10.5 \"/>\n",
       "</symbol>\n",
       "<symbol overflow=\"visible\" id=\"glyph0-2\">\n",
       "<path style=\"stroke:none;\" d=\"M 0.90625 -7.78125 L 0.90625 0 L 2.921875 0 L 2.921875 -4.140625 C 2.921875 -5.3125 3.515625 -5.90625 4.703125 -5.90625 C 4.90625 -5.90625 5.0625 -5.890625 5.328125 -5.84375 L 5.328125 -7.890625 C 5.21875 -7.90625 5.140625 -7.90625 5.078125 -7.90625 C 4.15625 -7.90625 3.359375 -7.296875 2.921875 -6.25 L 2.921875 -7.78125 Z M 0.90625 -7.78125 \"/>\n",
       "</symbol>\n",
       "<symbol overflow=\"visible\" id=\"glyph0-3\">\n",
       "<path style=\"stroke:none;\" d=\"M 3.078125 -2.109375 L 0.921875 -2.109375 L 0.921875 0 L 3.078125 0 Z M 3.078125 -2.109375 \"/>\n",
       "</symbol>\n",
       "<symbol overflow=\"visible\" id=\"glyph0-4\">\n",
       "<path style=\"stroke:none;\" d=\"M 0.84375 -10.5 L 0.84375 0 L 2.859375 0 L 2.859375 -0.796875 C 3.359375 -0.03125 4.03125 0.328125 5.015625 0.328125 C 6.875 0.328125 8.28125 -1.4375 8.28125 -3.78125 C 8.28125 -4.84375 7.96875 -5.90625 7.453125 -6.65625 C 6.921875 -7.421875 5.96875 -7.90625 5.015625 -7.90625 C 4.046875 -7.90625 3.359375 -7.546875 2.859375 -6.765625 L 2.859375 -10.5 Z M 4.5625 -6.21875 C 5.5625 -6.21875 6.265625 -5.21875 6.265625 -3.78125 C 6.265625 -2.359375 5.5625 -1.359375 4.5625 -1.359375 C 3.546875 -1.359375 2.859375 -2.328125 2.859375 -3.8125 C 2.859375 -5.234375 3.5625 -6.21875 4.5625 -6.21875 Z M 4.5625 -6.21875 \"/>\n",
       "</symbol>\n",
       "<symbol overflow=\"visible\" id=\"glyph0-5\">\n",
       "<path style=\"stroke:none;\" d=\"M 7.546875 -0.25 C 7.1875 -0.578125 7.09375 -0.796875 7.09375 -1.203125 L 7.09375 -5.515625 C 7.09375 -7.109375 6 -7.90625 3.90625 -7.90625 C 1.796875 -7.90625 0.703125 -7.015625 0.578125 -5.21875 L 2.515625 -5.21875 C 2.625 -6.015625 2.953125 -6.28125 3.953125 -6.28125 C 4.71875 -6.28125 5.109375 -6.015625 5.109375 -5.5 C 5.109375 -5.25 4.984375 -5.015625 4.765625 -4.890625 C 4.5 -4.75 4.5 -4.75 3.5 -4.59375 L 2.6875 -4.453125 C 1.15625 -4.1875 0.40625 -3.40625 0.40625 -2 C 0.40625 -1.34375 0.59375 -0.796875 0.953125 -0.40625 C 1.390625 0.0625 2.078125 0.328125 2.765625 0.328125 C 3.625 0.328125 4.421875 -0.046875 5.125 -0.78125 C 5.125 -0.375 5.171875 -0.234375 5.359375 0 L 7.546875 0 Z M 5.109375 -3.125 C 5.109375 -1.953125 4.53125 -1.296875 3.515625 -1.296875 C 2.84375 -1.296875 2.421875 -1.65625 2.421875 -2.234375 C 2.421875 -2.84375 2.734375 -3.125 3.578125 -3.296875 L 4.265625 -3.421875 C 4.796875 -3.53125 4.890625 -3.5625 5.109375 -3.671875 Z M 5.109375 -3.125 \"/>\n",
       "</symbol>\n",
       "<symbol overflow=\"visible\" id=\"glyph0-6\">\n",
       "<path style=\"stroke:none;\" d=\"M 5.828125 0 L 7.84375 0 L 7.84375 -10.5 L 5.828125 -10.5 L 5.828125 -6.765625 C 5.328125 -7.546875 4.65625 -7.90625 3.6875 -7.90625 C 1.828125 -7.90625 0.421875 -6.125 0.421875 -3.78125 C 0.421875 -2.71875 0.734375 -1.65625 1.25 -0.90625 C 1.78125 -0.15625 2.734375 0.328125 3.6875 0.328125 C 4.65625 0.328125 5.328125 -0.03125 5.828125 -0.796875 Z M 4.140625 -6.21875 C 5.15625 -6.21875 5.828125 -5.234375 5.828125 -3.75 C 5.828125 -2.328125 5.140625 -1.359375 4.140625 -1.359375 C 3.125 -1.359375 2.4375 -2.34375 2.4375 -3.78125 C 2.4375 -5.21875 3.125 -6.21875 4.140625 -6.21875 Z M 4.140625 -6.21875 \"/>\n",
       "</symbol>\n",
       "<symbol overflow=\"visible\" id=\"glyph1-0\">\n",
       "<path style=\"stroke:none;\" d=\"\"/>\n",
       "</symbol>\n",
       "<symbol overflow=\"visible\" id=\"glyph1-1\">\n",
       "<path style=\"stroke:none;\" d=\"M 3.296875 -8.515625 C 2.515625 -8.515625 1.78125 -8.15625 1.34375 -7.578125 C 0.796875 -6.828125 0.515625 -5.6875 0.515625 -4.109375 C 0.515625 -1.25 1.46875 0.28125 3.296875 0.28125 C 5.09375 0.28125 6.078125 -1.25 6.078125 -4.046875 C 6.078125 -5.703125 5.8125 -6.796875 5.25 -7.578125 C 4.8125 -8.171875 4.109375 -8.515625 3.296875 -8.515625 Z M 3.296875 -7.578125 C 4.4375 -7.578125 5 -6.421875 5 -4.140625 C 5 -1.734375 4.453125 -0.59375 3.28125 -0.59375 C 2.15625 -0.59375 1.59375 -1.78125 1.59375 -4.109375 C 1.59375 -6.4375 2.15625 -7.578125 3.296875 -7.578125 Z M 3.296875 -7.578125 \"/>\n",
       "</symbol>\n",
       "<symbol overflow=\"visible\" id=\"glyph1-2\">\n",
       "<path style=\"stroke:none;\" d=\"M 6.078125 -1.046875 L 1.59375 -1.046875 C 1.703125 -1.734375 2.09375 -2.1875 3.125 -2.796875 L 4.328125 -3.4375 C 5.515625 -4.09375 6.125 -4.96875 6.125 -6.015625 C 6.125 -6.71875 5.84375 -7.375 5.34375 -7.84375 C 4.84375 -8.296875 4.21875 -8.515625 3.40625 -8.515625 C 2.328125 -8.515625 1.53125 -8.125 1.0625 -7.40625 C 0.75 -6.953125 0.625 -6.421875 0.59375 -5.5625 L 1.65625 -5.5625 C 1.6875 -6.125 1.765625 -6.484375 1.90625 -6.75 C 2.1875 -7.265625 2.734375 -7.578125 3.375 -7.578125 C 4.328125 -7.578125 5.046875 -6.90625 5.046875 -5.984375 C 5.046875 -5.3125 4.65625 -4.734375 3.90625 -4.3125 L 2.796875 -3.6875 C 1.015625 -2.671875 0.5 -1.875 0.40625 0 L 6.078125 0 Z M 6.078125 -1.046875 \"/>\n",
       "</symbol>\n",
       "<symbol overflow=\"visible\" id=\"glyph1-3\">\n",
       "<path style=\"stroke:none;\" d=\"M 3.921875 -2.046875 L 3.921875 0 L 4.984375 0 L 4.984375 -2.046875 L 6.234375 -2.046875 L 6.234375 -2.984375 L 4.984375 -2.984375 L 4.984375 -8.515625 L 4.203125 -8.515625 L 0.34375 -3.15625 L 0.34375 -2.046875 Z M 3.921875 -2.984375 L 1.265625 -2.984375 L 3.921875 -6.703125 Z M 3.921875 -2.984375 \"/>\n",
       "</symbol>\n",
       "<symbol overflow=\"visible\" id=\"glyph1-4\">\n",
       "<path style=\"stroke:none;\" d=\"M 5.96875 -6.28125 C 5.765625 -7.6875 4.859375 -8.515625 3.5625 -8.515625 C 2.625 -8.515625 1.78125 -8.046875 1.28125 -7.296875 C 0.75 -6.46875 0.515625 -5.421875 0.515625 -3.875 C 0.515625 -2.453125 0.734375 -1.53125 1.234375 -0.78125 C 1.6875 -0.09375 2.4375 0.28125 3.375 0.28125 C 4.984375 0.28125 6.15625 -0.921875 6.15625 -2.59375 C 6.15625 -4.171875 5.078125 -5.296875 3.546875 -5.296875 C 2.71875 -5.296875 2.046875 -4.96875 1.59375 -4.34375 C 1.609375 -6.421875 2.28125 -7.578125 3.484375 -7.578125 C 4.234375 -7.578125 4.75 -7.109375 4.921875 -6.28125 Z M 3.421875 -4.359375 C 4.4375 -4.359375 5.078125 -3.640625 5.078125 -2.515625 C 5.078125 -1.4375 4.359375 -0.65625 3.390625 -0.65625 C 2.40625 -0.65625 1.65625 -1.46875 1.65625 -2.5625 C 1.65625 -3.625 2.375 -4.359375 3.421875 -4.359375 Z M 3.421875 -4.359375 \"/>\n",
       "</symbol>\n",
       "<symbol overflow=\"visible\" id=\"glyph1-5\">\n",
       "<path style=\"stroke:none;\" d=\"M 4.6875 -4.46875 C 5.5625 -5 5.859375 -5.4375 5.859375 -6.234375 C 5.859375 -7.578125 4.8125 -8.515625 3.296875 -8.515625 C 1.796875 -8.515625 0.75 -7.578125 0.75 -6.234375 C 0.75 -5.453125 1.03125 -5.015625 1.890625 -4.46875 C 0.921875 -4.015625 0.4375 -3.296875 0.4375 -2.359375 C 0.4375 -0.796875 1.625 0.28125 3.296875 0.28125 C 4.984375 0.28125 6.15625 -0.796875 6.15625 -2.359375 C 6.15625 -3.296875 5.671875 -4.015625 4.6875 -4.46875 Z M 3.296875 -7.578125 C 4.203125 -7.578125 4.78125 -7.046875 4.78125 -6.21875 C 4.78125 -5.421875 4.1875 -4.890625 3.296875 -4.890625 C 2.40625 -4.890625 1.828125 -5.421875 1.828125 -6.234375 C 1.828125 -7.046875 2.40625 -7.578125 3.296875 -7.578125 Z M 3.296875 -4.015625 C 4.359375 -4.015625 5.078125 -3.34375 5.078125 -2.34375 C 5.078125 -1.328125 4.359375 -0.65625 3.28125 -0.65625 C 2.25 -0.65625 1.53125 -1.34375 1.53125 -2.34375 C 1.53125 -3.34375 2.25 -4.015625 3.296875 -4.015625 Z M 3.296875 -4.015625 \"/>\n",
       "</symbol>\n",
       "<symbol overflow=\"visible\" id=\"glyph1-6\">\n",
       "<path style=\"stroke:none;\" d=\"M 3.109375 -6.0625 L 3.109375 0 L 4.15625 0 L 4.15625 -8.515625 L 3.46875 -8.515625 C 3.09375 -7.203125 2.859375 -7.015625 1.21875 -6.8125 L 1.21875 -6.0625 Z M 3.109375 -6.0625 \"/>\n",
       "</symbol>\n",
       "</g>\n",
       "<clipPath id=\"clip1\">\n",
       "  <path d=\"M 93 406 L 474.757812 406 L 474.757812 414 L 93 414 Z M 93 406 \"/>\n",
       "</clipPath>\n",
       "<clipPath id=\"clip2\">\n",
       "  <path d=\"M 93 397 L 474.757812 397 L 474.757812 404 L 93 404 Z M 93 397 \"/>\n",
       "</clipPath>\n",
       "<clipPath id=\"clip3\">\n",
       "  <path d=\"M 93 396 L 474.757812 396 L 474.757812 405 L 93 405 Z M 93 396 \"/>\n",
       "</clipPath>\n",
       "<clipPath id=\"clip4\">\n",
       "  <path d=\"M 93 387 L 474.757812 387 L 474.757812 394 L 93 394 Z M 93 387 \"/>\n",
       "</clipPath>\n",
       "<clipPath id=\"clip5\">\n",
       "  <path d=\"M 93 386 L 474.757812 386 L 474.757812 395 L 93 395 Z M 93 386 \"/>\n",
       "</clipPath>\n",
       "<clipPath id=\"clip6\">\n",
       "  <path d=\"M 93 377 L 474.757812 377 L 474.757812 385 L 93 385 Z M 93 377 \"/>\n",
       "</clipPath>\n",
       "<clipPath id=\"clip7\">\n",
       "  <path d=\"M 93 367 L 474.757812 367 L 474.757812 375 L 93 375 Z M 93 367 \"/>\n",
       "</clipPath>\n",
       "<clipPath id=\"clip8\">\n",
       "  <path d=\"M 93 357 L 474.757812 357 L 474.757812 365 L 93 365 Z M 93 357 \"/>\n",
       "</clipPath>\n",
       "<clipPath id=\"clip9\">\n",
       "  <path d=\"M 93 348 L 474.757812 348 L 474.757812 355 L 93 355 Z M 93 348 \"/>\n",
       "</clipPath>\n",
       "<clipPath id=\"clip10\">\n",
       "  <path d=\"M 93 347 L 474.757812 347 L 474.757812 355 L 93 355 Z M 93 347 \"/>\n",
       "</clipPath>\n",
       "<clipPath id=\"clip11\">\n",
       "  <path d=\"M 93 338 L 474.757812 338 L 474.757812 345 L 93 345 Z M 93 338 \"/>\n",
       "</clipPath>\n",
       "<clipPath id=\"clip12\">\n",
       "  <path d=\"M 93 337 L 474.757812 337 L 474.757812 346 L 93 346 Z M 93 337 \"/>\n",
       "</clipPath>\n",
       "<clipPath id=\"clip13\">\n",
       "  <path d=\"M 93 328 L 474.757812 328 L 474.757812 335 L 93 335 Z M 93 328 \"/>\n",
       "</clipPath>\n",
       "<clipPath id=\"clip14\">\n",
       "  <path d=\"M 93 327 L 474.757812 327 L 474.757812 336 L 93 336 Z M 93 327 \"/>\n",
       "</clipPath>\n",
       "<clipPath id=\"clip15\">\n",
       "  <path d=\"M 93 318 L 474.757812 318 L 474.757812 326 L 93 326 Z M 93 318 \"/>\n",
       "</clipPath>\n",
       "<clipPath id=\"clip16\">\n",
       "  <path d=\"M 93 308 L 474.757812 308 L 474.757812 316 L 93 316 Z M 93 308 \"/>\n",
       "</clipPath>\n",
       "<clipPath id=\"clip17\">\n",
       "  <path d=\"M 93 298 L 474.757812 298 L 474.757812 306 L 93 306 Z M 93 298 \"/>\n",
       "</clipPath>\n",
       "<clipPath id=\"clip18\">\n",
       "  <path d=\"M 93 289 L 474.757812 289 L 474.757812 296 L 93 296 Z M 93 289 \"/>\n",
       "</clipPath>\n",
       "<clipPath id=\"clip19\">\n",
       "  <path d=\"M 93 288 L 474.757812 288 L 474.757812 296 L 93 296 Z M 93 288 \"/>\n",
       "</clipPath>\n",
       "<clipPath id=\"clip20\">\n",
       "  <path d=\"M 93 279 L 474.757812 279 L 474.757812 286 L 93 286 Z M 93 279 \"/>\n",
       "</clipPath>\n",
       "<clipPath id=\"clip21\">\n",
       "  <path d=\"M 93 278 L 474.757812 278 L 474.757812 287 L 93 287 Z M 93 278 \"/>\n",
       "</clipPath>\n",
       "<clipPath id=\"clip22\">\n",
       "  <path d=\"M 93 269 L 474.757812 269 L 474.757812 276 L 93 276 Z M 93 269 \"/>\n",
       "</clipPath>\n",
       "<clipPath id=\"clip23\">\n",
       "  <path d=\"M 93 268 L 474.757812 268 L 474.757812 277 L 93 277 Z M 93 268 \"/>\n",
       "</clipPath>\n",
       "<clipPath id=\"clip24\">\n",
       "  <path d=\"M 93 259 L 474.757812 259 L 474.757812 267 L 93 267 Z M 93 259 \"/>\n",
       "</clipPath>\n",
       "<clipPath id=\"clip25\">\n",
       "  <path d=\"M 93 249 L 474.757812 249 L 474.757812 257 L 93 257 Z M 93 249 \"/>\n",
       "</clipPath>\n",
       "<clipPath id=\"clip26\">\n",
       "  <path d=\"M 93 239 L 474.757812 239 L 474.757812 247 L 93 247 Z M 93 239 \"/>\n",
       "</clipPath>\n",
       "<clipPath id=\"clip27\">\n",
       "  <path d=\"M 93 230 L 474.757812 230 L 474.757812 237 L 93 237 Z M 93 230 \"/>\n",
       "</clipPath>\n",
       "<clipPath id=\"clip28\">\n",
       "  <path d=\"M 93 229 L 474.757812 229 L 474.757812 237 L 93 237 Z M 93 229 \"/>\n",
       "</clipPath>\n",
       "<clipPath id=\"clip29\">\n",
       "  <path d=\"M 93 220 L 474.757812 220 L 474.757812 227 L 93 227 Z M 93 220 \"/>\n",
       "</clipPath>\n",
       "<clipPath id=\"clip30\">\n",
       "  <path d=\"M 93 219 L 474.757812 219 L 474.757812 228 L 93 228 Z M 93 219 \"/>\n",
       "</clipPath>\n",
       "<clipPath id=\"clip31\">\n",
       "  <path d=\"M 93 210 L 474.757812 210 L 474.757812 217 L 93 217 Z M 93 210 \"/>\n",
       "</clipPath>\n",
       "<clipPath id=\"clip32\">\n",
       "  <path d=\"M 93 210 L 474.757812 210 L 474.757812 218 L 93 218 Z M 93 210 \"/>\n",
       "</clipPath>\n",
       "<clipPath id=\"clip33\">\n",
       "  <path d=\"M 93 200 L 474.757812 200 L 474.757812 208 L 93 208 Z M 93 200 \"/>\n",
       "</clipPath>\n",
       "<clipPath id=\"clip34\">\n",
       "  <path d=\"M 93 190 L 474.757812 190 L 474.757812 198 L 93 198 Z M 93 190 \"/>\n",
       "</clipPath>\n",
       "<clipPath id=\"clip35\">\n",
       "  <path d=\"M 93 180 L 474.757812 180 L 474.757812 188 L 93 188 Z M 93 180 \"/>\n",
       "</clipPath>\n",
       "<clipPath id=\"clip36\">\n",
       "  <path d=\"M 93 171 L 474.757812 171 L 474.757812 178 L 93 178 Z M 93 171 \"/>\n",
       "</clipPath>\n",
       "<clipPath id=\"clip37\">\n",
       "  <path d=\"M 93 170 L 474.757812 170 L 474.757812 179 L 93 179 Z M 93 170 \"/>\n",
       "</clipPath>\n",
       "<clipPath id=\"clip38\">\n",
       "  <path d=\"M 93 161 L 474.757812 161 L 474.757812 168 L 93 168 Z M 93 161 \"/>\n",
       "</clipPath>\n",
       "<clipPath id=\"clip39\">\n",
       "  <path d=\"M 93 160 L 474.757812 160 L 474.757812 169 L 93 169 Z M 93 160 \"/>\n",
       "</clipPath>\n",
       "<clipPath id=\"clip40\">\n",
       "  <path d=\"M 93 151 L 474.757812 151 L 474.757812 158 L 93 158 Z M 93 151 \"/>\n",
       "</clipPath>\n",
       "<clipPath id=\"clip41\">\n",
       "  <path d=\"M 93 151 L 474.757812 151 L 474.757812 159 L 93 159 Z M 93 151 \"/>\n",
       "</clipPath>\n",
       "<clipPath id=\"clip42\">\n",
       "  <path d=\"M 93 141 L 474.757812 141 L 474.757812 149 L 93 149 Z M 93 141 \"/>\n",
       "</clipPath>\n",
       "<clipPath id=\"clip43\">\n",
       "  <path d=\"M 93 131 L 474.757812 131 L 474.757812 139 L 93 139 Z M 93 131 \"/>\n",
       "</clipPath>\n",
       "<clipPath id=\"clip44\">\n",
       "  <path d=\"M 93 121 L 474.757812 121 L 474.757812 129 L 93 129 Z M 93 121 \"/>\n",
       "</clipPath>\n",
       "<clipPath id=\"clip45\">\n",
       "  <path d=\"M 93 112 L 474.757812 112 L 474.757812 119 L 93 119 Z M 93 112 \"/>\n",
       "</clipPath>\n",
       "<clipPath id=\"clip46\">\n",
       "  <path d=\"M 93 111 L 474.757812 111 L 474.757812 120 L 93 120 Z M 93 111 \"/>\n",
       "</clipPath>\n",
       "<clipPath id=\"clip47\">\n",
       "  <path d=\"M 93 102 L 474.757812 102 L 474.757812 109 L 93 109 Z M 93 102 \"/>\n",
       "</clipPath>\n",
       "<clipPath id=\"clip48\">\n",
       "  <path d=\"M 93 101 L 474.757812 101 L 474.757812 110 L 93 110 Z M 93 101 \"/>\n",
       "</clipPath>\n",
       "<clipPath id=\"clip49\">\n",
       "  <path d=\"M 93 92 L 474.757812 92 L 474.757812 100 L 93 100 Z M 93 92 \"/>\n",
       "</clipPath>\n",
       "<clipPath id=\"clip50\">\n",
       "  <path d=\"M 93 82 L 474.757812 82 L 474.757812 90 L 93 90 Z M 93 82 \"/>\n",
       "</clipPath>\n",
       "<clipPath id=\"clip51\">\n",
       "  <path d=\"M 93 72 L 474.757812 72 L 474.757812 80 L 93 80 Z M 93 72 \"/>\n",
       "</clipPath>\n",
       "</defs>\n",
       "<g id=\"surface36\">\n",
       "<rect x=\"0\" y=\"0\" width=\"504\" height=\"504\" style=\"fill:rgb(100%,100%,100%);fill-opacity:1;stroke:none;\"/>\n",
       "<g clip-path=\"url(#clip1)\" clip-rule=\"nonzero\">\n",
       "<path style=\"fill-rule:nonzero;fill:rgb(49.803922%,49.803922%,49.803922%);fill-opacity:1;stroke-width:0.75;stroke-linecap:round;stroke-linejoin:round;stroke:rgb(0%,0%,0%);stroke-opacity:1;stroke-miterlimit:10;\" d=\"M 93.601562 413.523438 L 477.601562 413.523438 L 477.601562 406.972656 L 93.601562 406.972656 Z M 93.601562 413.523438 \"/>\n",
       "</g>\n",
       "<g clip-path=\"url(#clip2)\" clip-rule=\"nonzero\">\n",
       "<path style=\" stroke:none;fill-rule:nonzero;fill:rgb(49.803922%,49.803922%,49.803922%);fill-opacity:1;\" d=\"M 93.601562 403.695312 L 477.601562 403.695312 L 477.601562 397.144531 L 93.601562 397.144531 Z M 93.601562 403.695312 \"/>\n",
       "</g>\n",
       "<g clip-path=\"url(#clip3)\" clip-rule=\"nonzero\">\n",
       "<path style=\"fill:none;stroke-width:0.75;stroke-linecap:round;stroke-linejoin:round;stroke:rgb(0%,0%,0%);stroke-opacity:1;stroke-miterlimit:10;\" d=\"M 93.601562 403.695312 L 477.601562 403.695312 L 477.601562 397.144531 L 93.601562 397.144531 Z M 93.601562 403.695312 \"/>\n",
       "</g>\n",
       "<g clip-path=\"url(#clip4)\" clip-rule=\"nonzero\">\n",
       "<path style=\" stroke:none;fill-rule:nonzero;fill:rgb(49.803922%,49.803922%,49.803922%);fill-opacity:1;\" d=\"M 93.601562 393.867188 L 477.601562 393.867188 L 477.601562 387.316406 L 93.601562 387.316406 Z M 93.601562 393.867188 \"/>\n",
       "</g>\n",
       "<g clip-path=\"url(#clip5)\" clip-rule=\"nonzero\">\n",
       "<path style=\"fill:none;stroke-width:0.75;stroke-linecap:round;stroke-linejoin:round;stroke:rgb(0%,0%,0%);stroke-opacity:1;stroke-miterlimit:10;\" d=\"M 93.601562 393.867188 L 477.601562 393.867188 L 477.601562 387.316406 L 93.601562 387.316406 Z M 93.601562 393.867188 \"/>\n",
       "</g>\n",
       "<g clip-path=\"url(#clip6)\" clip-rule=\"nonzero\">\n",
       "<path style=\"fill-rule:nonzero;fill:rgb(49.803922%,49.803922%,49.803922%);fill-opacity:1;stroke-width:0.75;stroke-linecap:round;stroke-linejoin:round;stroke:rgb(0%,0%,0%);stroke-opacity:1;stroke-miterlimit:10;\" d=\"M 93.601562 384.039062 L 477.601562 384.039062 L 477.601562 377.488281 L 93.601562 377.488281 Z M 93.601562 384.039062 \"/>\n",
       "</g>\n",
       "<g clip-path=\"url(#clip7)\" clip-rule=\"nonzero\">\n",
       "<path style=\"fill-rule:nonzero;fill:rgb(49.803922%,49.803922%,49.803922%);fill-opacity:1;stroke-width:0.75;stroke-linecap:round;stroke-linejoin:round;stroke:rgb(0%,0%,0%);stroke-opacity:1;stroke-miterlimit:10;\" d=\"M 93.601562 374.210938 L 477.601562 374.210938 L 477.601562 367.660156 L 93.601562 367.660156 Z M 93.601562 374.210938 \"/>\n",
       "</g>\n",
       "<g clip-path=\"url(#clip8)\" clip-rule=\"nonzero\">\n",
       "<path style=\"fill-rule:nonzero;fill:rgb(49.803922%,49.803922%,49.803922%);fill-opacity:1;stroke-width:0.75;stroke-linecap:round;stroke-linejoin:round;stroke:rgb(0%,0%,0%);stroke-opacity:1;stroke-miterlimit:10;\" d=\"M 93.601562 364.382812 L 477.601562 364.382812 L 477.601562 357.832031 L 93.601562 357.832031 Z M 93.601562 364.382812 \"/>\n",
       "</g>\n",
       "<g clip-path=\"url(#clip9)\" clip-rule=\"nonzero\">\n",
       "<path style=\" stroke:none;fill-rule:nonzero;fill:rgb(49.803922%,49.803922%,49.803922%);fill-opacity:1;\" d=\"M 93.601562 354.550781 L 477.601562 354.550781 L 477.601562 348 L 93.601562 348 Z M 93.601562 354.550781 \"/>\n",
       "</g>\n",
       "<g clip-path=\"url(#clip10)\" clip-rule=\"nonzero\">\n",
       "<path style=\"fill:none;stroke-width:0.75;stroke-linecap:round;stroke-linejoin:round;stroke:rgb(0%,0%,0%);stroke-opacity:1;stroke-miterlimit:10;\" d=\"M 93.601562 354.550781 L 477.601562 354.550781 L 477.601562 348 L 93.601562 348 Z M 93.601562 354.550781 \"/>\n",
       "</g>\n",
       "<g clip-path=\"url(#clip11)\" clip-rule=\"nonzero\">\n",
       "<path style=\" stroke:none;fill-rule:nonzero;fill:rgb(49.803922%,49.803922%,49.803922%);fill-opacity:1;\" d=\"M 93.601562 344.722656 L 477.601562 344.722656 L 477.601562 338.171875 L 93.601562 338.171875 Z M 93.601562 344.722656 \"/>\n",
       "</g>\n",
       "<g clip-path=\"url(#clip12)\" clip-rule=\"nonzero\">\n",
       "<path style=\"fill:none;stroke-width:0.75;stroke-linecap:round;stroke-linejoin:round;stroke:rgb(0%,0%,0%);stroke-opacity:1;stroke-miterlimit:10;\" d=\"M 93.601562 344.722656 L 477.601562 344.722656 L 477.601562 338.171875 L 93.601562 338.171875 Z M 93.601562 344.722656 \"/>\n",
       "</g>\n",
       "<g clip-path=\"url(#clip13)\" clip-rule=\"nonzero\">\n",
       "<path style=\" stroke:none;fill-rule:nonzero;fill:rgb(49.803922%,49.803922%,49.803922%);fill-opacity:1;\" d=\"M 93.601562 334.894531 L 477.601562 334.894531 L 477.601562 328.34375 L 93.601562 328.34375 Z M 93.601562 334.894531 \"/>\n",
       "</g>\n",
       "<g clip-path=\"url(#clip14)\" clip-rule=\"nonzero\">\n",
       "<path style=\"fill:none;stroke-width:0.75;stroke-linecap:round;stroke-linejoin:round;stroke:rgb(0%,0%,0%);stroke-opacity:1;stroke-miterlimit:10;\" d=\"M 93.601562 334.894531 L 477.601562 334.894531 L 477.601562 328.34375 L 93.601562 328.34375 Z M 93.601562 334.894531 \"/>\n",
       "</g>\n",
       "<g clip-path=\"url(#clip15)\" clip-rule=\"nonzero\">\n",
       "<path style=\"fill-rule:nonzero;fill:rgb(49.803922%,49.803922%,49.803922%);fill-opacity:1;stroke-width:0.75;stroke-linecap:round;stroke-linejoin:round;stroke:rgb(0%,0%,0%);stroke-opacity:1;stroke-miterlimit:10;\" d=\"M 93.601562 325.066406 L 477.601562 325.066406 L 477.601562 318.515625 L 93.601562 318.515625 Z M 93.601562 325.066406 \"/>\n",
       "</g>\n",
       "<g clip-path=\"url(#clip16)\" clip-rule=\"nonzero\">\n",
       "<path style=\"fill-rule:nonzero;fill:rgb(49.803922%,49.803922%,49.803922%);fill-opacity:1;stroke-width:0.75;stroke-linecap:round;stroke-linejoin:round;stroke:rgb(0%,0%,0%);stroke-opacity:1;stroke-miterlimit:10;\" d=\"M 93.601562 315.238281 L 477.601562 315.238281 L 477.601562 308.6875 L 93.601562 308.6875 Z M 93.601562 315.238281 \"/>\n",
       "</g>\n",
       "<g clip-path=\"url(#clip17)\" clip-rule=\"nonzero\">\n",
       "<path style=\"fill-rule:nonzero;fill:rgb(49.803922%,49.803922%,49.803922%);fill-opacity:1;stroke-width:0.75;stroke-linecap:round;stroke-linejoin:round;stroke:rgb(0%,0%,0%);stroke-opacity:1;stroke-miterlimit:10;\" d=\"M 93.601562 305.410156 L 477.601562 305.410156 L 477.601562 298.859375 L 93.601562 298.859375 Z M 93.601562 305.410156 \"/>\n",
       "</g>\n",
       "<g clip-path=\"url(#clip18)\" clip-rule=\"nonzero\">\n",
       "<path style=\" stroke:none;fill-rule:nonzero;fill:rgb(49.803922%,49.803922%,49.803922%);fill-opacity:1;\" d=\"M 93.601562 295.582031 L 477.601562 295.582031 L 477.601562 289.03125 L 93.601562 289.03125 Z M 93.601562 295.582031 \"/>\n",
       "</g>\n",
       "<g clip-path=\"url(#clip19)\" clip-rule=\"nonzero\">\n",
       "<path style=\"fill:none;stroke-width:0.75;stroke-linecap:round;stroke-linejoin:round;stroke:rgb(0%,0%,0%);stroke-opacity:1;stroke-miterlimit:10;\" d=\"M 93.601562 295.582031 L 477.601562 295.582031 L 477.601562 289.03125 L 93.601562 289.03125 Z M 93.601562 295.582031 \"/>\n",
       "</g>\n",
       "<g clip-path=\"url(#clip20)\" clip-rule=\"nonzero\">\n",
       "<path style=\" stroke:none;fill-rule:nonzero;fill:rgb(49.803922%,49.803922%,49.803922%);fill-opacity:1;\" d=\"M 93.601562 285.753906 L 477.601562 285.753906 L 477.601562 279.203125 L 93.601562 279.203125 Z M 93.601562 285.753906 \"/>\n",
       "</g>\n",
       "<g clip-path=\"url(#clip21)\" clip-rule=\"nonzero\">\n",
       "<path style=\"fill:none;stroke-width:0.75;stroke-linecap:round;stroke-linejoin:round;stroke:rgb(0%,0%,0%);stroke-opacity:1;stroke-miterlimit:10;\" d=\"M 93.601562 285.753906 L 477.601562 285.753906 L 477.601562 279.203125 L 93.601562 279.203125 Z M 93.601562 285.753906 \"/>\n",
       "</g>\n",
       "<g clip-path=\"url(#clip22)\" clip-rule=\"nonzero\">\n",
       "<path style=\" stroke:none;fill-rule:nonzero;fill:rgb(49.803922%,49.803922%,49.803922%);fill-opacity:1;\" d=\"M 93.601562 275.921875 L 477.601562 275.921875 L 477.601562 269.371094 L 93.601562 269.371094 Z M 93.601562 275.921875 \"/>\n",
       "</g>\n",
       "<g clip-path=\"url(#clip23)\" clip-rule=\"nonzero\">\n",
       "<path style=\"fill:none;stroke-width:0.75;stroke-linecap:round;stroke-linejoin:round;stroke:rgb(0%,0%,0%);stroke-opacity:1;stroke-miterlimit:10;\" d=\"M 93.601562 275.921875 L 477.601562 275.921875 L 477.601562 269.371094 L 93.601562 269.371094 Z M 93.601562 275.921875 \"/>\n",
       "</g>\n",
       "<g clip-path=\"url(#clip24)\" clip-rule=\"nonzero\">\n",
       "<path style=\"fill-rule:nonzero;fill:rgb(49.803922%,49.803922%,49.803922%);fill-opacity:1;stroke-width:0.75;stroke-linecap:round;stroke-linejoin:round;stroke:rgb(0%,0%,0%);stroke-opacity:1;stroke-miterlimit:10;\" d=\"M 93.601562 266.09375 L 477.601562 266.09375 L 477.601562 259.542969 L 93.601562 259.542969 Z M 93.601562 266.09375 \"/>\n",
       "</g>\n",
       "<g clip-path=\"url(#clip25)\" clip-rule=\"nonzero\">\n",
       "<path style=\"fill-rule:nonzero;fill:rgb(49.803922%,49.803922%,49.803922%);fill-opacity:1;stroke-width:0.75;stroke-linecap:round;stroke-linejoin:round;stroke:rgb(0%,0%,0%);stroke-opacity:1;stroke-miterlimit:10;\" d=\"M 93.601562 256.265625 L 477.601562 256.265625 L 477.601562 249.714844 L 93.601562 249.714844 Z M 93.601562 256.265625 \"/>\n",
       "</g>\n",
       "<g clip-path=\"url(#clip26)\" clip-rule=\"nonzero\">\n",
       "<path style=\"fill-rule:nonzero;fill:rgb(49.803922%,49.803922%,49.803922%);fill-opacity:1;stroke-width:0.75;stroke-linecap:round;stroke-linejoin:round;stroke:rgb(0%,0%,0%);stroke-opacity:1;stroke-miterlimit:10;\" d=\"M 93.601562 246.4375 L 477.601562 246.4375 L 477.601562 239.886719 L 93.601562 239.886719 Z M 93.601562 246.4375 \"/>\n",
       "</g>\n",
       "<g clip-path=\"url(#clip27)\" clip-rule=\"nonzero\">\n",
       "<path style=\" stroke:none;fill-rule:nonzero;fill:rgb(49.803922%,49.803922%,49.803922%);fill-opacity:1;\" d=\"M 93.601562 236.609375 L 477.601562 236.609375 L 477.601562 230.058594 L 93.601562 230.058594 Z M 93.601562 236.609375 \"/>\n",
       "</g>\n",
       "<g clip-path=\"url(#clip28)\" clip-rule=\"nonzero\">\n",
       "<path style=\"fill:none;stroke-width:0.75;stroke-linecap:round;stroke-linejoin:round;stroke:rgb(0%,0%,0%);stroke-opacity:1;stroke-miterlimit:10;\" d=\"M 93.601562 236.609375 L 477.601562 236.609375 L 477.601562 230.058594 L 93.601562 230.058594 Z M 93.601562 236.609375 \"/>\n",
       "</g>\n",
       "<g clip-path=\"url(#clip29)\" clip-rule=\"nonzero\">\n",
       "<path style=\" stroke:none;fill-rule:nonzero;fill:rgb(49.803922%,49.803922%,49.803922%);fill-opacity:1;\" d=\"M 93.601562 226.78125 L 477.601562 226.78125 L 477.601562 220.230469 L 93.601562 220.230469 Z M 93.601562 226.78125 \"/>\n",
       "</g>\n",
       "<g clip-path=\"url(#clip30)\" clip-rule=\"nonzero\">\n",
       "<path style=\"fill:none;stroke-width:0.75;stroke-linecap:round;stroke-linejoin:round;stroke:rgb(0%,0%,0%);stroke-opacity:1;stroke-miterlimit:10;\" d=\"M 93.601562 226.78125 L 477.601562 226.78125 L 477.601562 220.230469 L 93.601562 220.230469 Z M 93.601562 226.78125 \"/>\n",
       "</g>\n",
       "<g clip-path=\"url(#clip31)\" clip-rule=\"nonzero\">\n",
       "<path style=\" stroke:none;fill-rule:nonzero;fill:rgb(49.803922%,49.803922%,49.803922%);fill-opacity:1;\" d=\"M 93.601562 216.953125 L 477.601562 216.953125 L 477.601562 210.402344 L 93.601562 210.402344 Z M 93.601562 216.953125 \"/>\n",
       "</g>\n",
       "<g clip-path=\"url(#clip32)\" clip-rule=\"nonzero\">\n",
       "<path style=\"fill:none;stroke-width:0.75;stroke-linecap:round;stroke-linejoin:round;stroke:rgb(0%,0%,0%);stroke-opacity:1;stroke-miterlimit:10;\" d=\"M 93.601562 216.953125 L 477.601562 216.953125 L 477.601562 210.402344 L 93.601562 210.402344 Z M 93.601562 216.953125 \"/>\n",
       "</g>\n",
       "<g clip-path=\"url(#clip33)\" clip-rule=\"nonzero\">\n",
       "<path style=\"fill-rule:nonzero;fill:rgb(49.803922%,49.803922%,49.803922%);fill-opacity:1;stroke-width:0.75;stroke-linecap:round;stroke-linejoin:round;stroke:rgb(0%,0%,0%);stroke-opacity:1;stroke-miterlimit:10;\" d=\"M 93.601562 207.125 L 477.601562 207.125 L 477.601562 200.574219 L 93.601562 200.574219 Z M 93.601562 207.125 \"/>\n",
       "</g>\n",
       "<g clip-path=\"url(#clip34)\" clip-rule=\"nonzero\">\n",
       "<path style=\"fill-rule:nonzero;fill:rgb(49.803922%,49.803922%,49.803922%);fill-opacity:1;stroke-width:0.75;stroke-linecap:round;stroke-linejoin:round;stroke:rgb(0%,0%,0%);stroke-opacity:1;stroke-miterlimit:10;\" d=\"M 93.601562 197.296875 L 477.601562 197.296875 L 477.601562 190.746094 L 93.601562 190.746094 Z M 93.601562 197.296875 \"/>\n",
       "</g>\n",
       "<g clip-path=\"url(#clip35)\" clip-rule=\"nonzero\">\n",
       "<path style=\"fill-rule:nonzero;fill:rgb(49.803922%,49.803922%,49.803922%);fill-opacity:1;stroke-width:0.75;stroke-linecap:round;stroke-linejoin:round;stroke:rgb(0%,0%,0%);stroke-opacity:1;stroke-miterlimit:10;\" d=\"M 93.601562 187.464844 L 477.601562 187.464844 L 477.601562 180.914062 L 93.601562 180.914062 Z M 93.601562 187.464844 \"/>\n",
       "</g>\n",
       "<g clip-path=\"url(#clip36)\" clip-rule=\"nonzero\">\n",
       "<path style=\" stroke:none;fill-rule:nonzero;fill:rgb(49.803922%,49.803922%,49.803922%);fill-opacity:1;\" d=\"M 93.601562 177.636719 L 477.601562 177.636719 L 477.601562 171.085938 L 93.601562 171.085938 Z M 93.601562 177.636719 \"/>\n",
       "</g>\n",
       "<g clip-path=\"url(#clip37)\" clip-rule=\"nonzero\">\n",
       "<path style=\"fill:none;stroke-width:0.75;stroke-linecap:round;stroke-linejoin:round;stroke:rgb(0%,0%,0%);stroke-opacity:1;stroke-miterlimit:10;\" d=\"M 93.601562 177.636719 L 477.601562 177.636719 L 477.601562 171.085938 L 93.601562 171.085938 Z M 93.601562 177.636719 \"/>\n",
       "</g>\n",
       "<g clip-path=\"url(#clip38)\" clip-rule=\"nonzero\">\n",
       "<path style=\" stroke:none;fill-rule:nonzero;fill:rgb(49.803922%,49.803922%,49.803922%);fill-opacity:1;\" d=\"M 93.601562 167.808594 L 477.601562 167.808594 L 477.601562 161.257812 L 93.601562 161.257812 Z M 93.601562 167.808594 \"/>\n",
       "</g>\n",
       "<g clip-path=\"url(#clip39)\" clip-rule=\"nonzero\">\n",
       "<path style=\"fill:none;stroke-width:0.75;stroke-linecap:round;stroke-linejoin:round;stroke:rgb(0%,0%,0%);stroke-opacity:1;stroke-miterlimit:10;\" d=\"M 93.601562 167.808594 L 477.601562 167.808594 L 477.601562 161.257812 L 93.601562 161.257812 Z M 93.601562 167.808594 \"/>\n",
       "</g>\n",
       "<g clip-path=\"url(#clip40)\" clip-rule=\"nonzero\">\n",
       "<path style=\" stroke:none;fill-rule:nonzero;fill:rgb(49.803922%,49.803922%,49.803922%);fill-opacity:1;\" d=\"M 93.601562 157.980469 L 477.601562 157.980469 L 477.601562 151.429688 L 93.601562 151.429688 Z M 93.601562 157.980469 \"/>\n",
       "</g>\n",
       "<g clip-path=\"url(#clip41)\" clip-rule=\"nonzero\">\n",
       "<path style=\"fill:none;stroke-width:0.75;stroke-linecap:round;stroke-linejoin:round;stroke:rgb(0%,0%,0%);stroke-opacity:1;stroke-miterlimit:10;\" d=\"M 93.601562 157.980469 L 477.601562 157.980469 L 477.601562 151.429688 L 93.601562 151.429688 Z M 93.601562 157.980469 \"/>\n",
       "</g>\n",
       "<g clip-path=\"url(#clip42)\" clip-rule=\"nonzero\">\n",
       "<path style=\"fill-rule:nonzero;fill:rgb(49.803922%,49.803922%,49.803922%);fill-opacity:1;stroke-width:0.75;stroke-linecap:round;stroke-linejoin:round;stroke:rgb(0%,0%,0%);stroke-opacity:1;stroke-miterlimit:10;\" d=\"M 93.601562 148.152344 L 477.601562 148.152344 L 477.601562 141.601562 L 93.601562 141.601562 Z M 93.601562 148.152344 \"/>\n",
       "</g>\n",
       "<g clip-path=\"url(#clip43)\" clip-rule=\"nonzero\">\n",
       "<path style=\"fill-rule:nonzero;fill:rgb(49.803922%,49.803922%,49.803922%);fill-opacity:1;stroke-width:0.75;stroke-linecap:round;stroke-linejoin:round;stroke:rgb(0%,0%,0%);stroke-opacity:1;stroke-miterlimit:10;\" d=\"M 93.601562 138.324219 L 477.601562 138.324219 L 477.601562 131.773438 L 93.601562 131.773438 Z M 93.601562 138.324219 \"/>\n",
       "</g>\n",
       "<g clip-path=\"url(#clip44)\" clip-rule=\"nonzero\">\n",
       "<path style=\"fill-rule:nonzero;fill:rgb(49.803922%,49.803922%,49.803922%);fill-opacity:1;stroke-width:0.75;stroke-linecap:round;stroke-linejoin:round;stroke:rgb(0%,0%,0%);stroke-opacity:1;stroke-miterlimit:10;\" d=\"M 93.601562 128.496094 L 477.601562 128.496094 L 477.601562 121.945312 L 93.601562 121.945312 Z M 93.601562 128.496094 \"/>\n",
       "</g>\n",
       "<g clip-path=\"url(#clip45)\" clip-rule=\"nonzero\">\n",
       "<path style=\" stroke:none;fill-rule:nonzero;fill:rgb(49.803922%,49.803922%,49.803922%);fill-opacity:1;\" d=\"M 93.601562 118.667969 L 477.601562 118.667969 L 477.601562 112.117188 L 93.601562 112.117188 Z M 93.601562 118.667969 \"/>\n",
       "</g>\n",
       "<g clip-path=\"url(#clip46)\" clip-rule=\"nonzero\">\n",
       "<path style=\"fill:none;stroke-width:0.75;stroke-linecap:round;stroke-linejoin:round;stroke:rgb(0%,0%,0%);stroke-opacity:1;stroke-miterlimit:10;\" d=\"M 93.601562 118.667969 L 477.601562 118.667969 L 477.601562 112.117188 L 93.601562 112.117188 Z M 93.601562 118.667969 \"/>\n",
       "</g>\n",
       "<g clip-path=\"url(#clip47)\" clip-rule=\"nonzero\">\n",
       "<path style=\" stroke:none;fill-rule:nonzero;fill:rgb(49.803922%,49.803922%,49.803922%);fill-opacity:1;\" d=\"M 93.601562 108.839844 L 477.601562 108.839844 L 477.601562 102.289062 L 93.601562 102.289062 Z M 93.601562 108.839844 \"/>\n",
       "</g>\n",
       "<g clip-path=\"url(#clip48)\" clip-rule=\"nonzero\">\n",
       "<path style=\"fill:none;stroke-width:0.75;stroke-linecap:round;stroke-linejoin:round;stroke:rgb(0%,0%,0%);stroke-opacity:1;stroke-miterlimit:10;\" d=\"M 93.601562 108.839844 L 477.601562 108.839844 L 477.601562 102.289062 L 93.601562 102.289062 Z M 93.601562 108.839844 \"/>\n",
       "</g>\n",
       "<g clip-path=\"url(#clip49)\" clip-rule=\"nonzero\">\n",
       "<path style=\"fill-rule:nonzero;fill:rgb(49.803922%,49.803922%,49.803922%);fill-opacity:1;stroke-width:0.75;stroke-linecap:round;stroke-linejoin:round;stroke:rgb(0%,0%,0%);stroke-opacity:1;stroke-miterlimit:10;\" d=\"M 93.601562 99.007812 L 477.601562 99.007812 L 477.601562 92.457031 L 93.601562 92.457031 Z M 93.601562 99.007812 \"/>\n",
       "</g>\n",
       "<g clip-path=\"url(#clip50)\" clip-rule=\"nonzero\">\n",
       "<path style=\"fill-rule:nonzero;fill:rgb(49.803922%,49.803922%,49.803922%);fill-opacity:1;stroke-width:0.75;stroke-linecap:round;stroke-linejoin:round;stroke:rgb(0%,0%,0%);stroke-opacity:1;stroke-miterlimit:10;\" d=\"M 93.601562 89.179688 L 477.601562 89.179688 L 477.601562 82.628906 L 93.601562 82.628906 Z M 93.601562 89.179688 \"/>\n",
       "</g>\n",
       "<g clip-path=\"url(#clip51)\" clip-rule=\"nonzero\">\n",
       "<path style=\"fill-rule:nonzero;fill:rgb(49.803922%,49.803922%,49.803922%);fill-opacity:1;stroke-width:0.75;stroke-linecap:round;stroke-linejoin:round;stroke:rgb(0%,0%,0%);stroke-opacity:1;stroke-miterlimit:10;\" d=\"M 93.601562 79.351562 L 477.601562 79.351562 L 477.601562 72.800781 L 93.601562 72.800781 Z M 93.601562 79.351562 \"/>\n",
       "</g>\n",
       "<g style=\"fill:rgb(0%,0%,0%);fill-opacity:1;\">\n",
       "  <use xlink:href=\"#glyph0-1\" x=\"246.398438\" y=\"34.116211\"/>\n",
       "  <use xlink:href=\"#glyph0-2\" x=\"250.40332\" y=\"34.116211\"/>\n",
       "  <use xlink:href=\"#glyph0-3\" x=\"256.007812\" y=\"34.116211\"/>\n",
       "  <use xlink:href=\"#glyph0-4\" x=\"260.012695\" y=\"34.116211\"/>\n",
       "  <use xlink:href=\"#glyph0-5\" x=\"268.814453\" y=\"34.116211\"/>\n",
       "  <use xlink:href=\"#glyph0-6\" x=\"276.824219\" y=\"34.116211\"/>\n",
       "</g>\n",
       "<path style=\"fill:none;stroke-width:0.75;stroke-linecap:round;stroke-linejoin:round;stroke:rgb(0%,0%,0%);stroke-opacity:1;stroke-miterlimit:10;\" d=\"M 74.398438 430.558594 L 458.398438 430.558594 \"/>\n",
       "<path style=\"fill:none;stroke-width:0.75;stroke-linecap:round;stroke-linejoin:round;stroke:rgb(0%,0%,0%);stroke-opacity:1;stroke-miterlimit:10;\" d=\"M 74.398438 430.558594 L 74.398438 437.761719 \"/>\n",
       "<path style=\"fill:none;stroke-width:0.75;stroke-linecap:round;stroke-linejoin:round;stroke:rgb(0%,0%,0%);stroke-opacity:1;stroke-miterlimit:10;\" d=\"M 151.199219 430.558594 L 151.199219 437.761719 \"/>\n",
       "<path style=\"fill:none;stroke-width:0.75;stroke-linecap:round;stroke-linejoin:round;stroke:rgb(0%,0%,0%);stroke-opacity:1;stroke-miterlimit:10;\" d=\"M 228 430.558594 L 228 437.761719 \"/>\n",
       "<path style=\"fill:none;stroke-width:0.75;stroke-linecap:round;stroke-linejoin:round;stroke:rgb(0%,0%,0%);stroke-opacity:1;stroke-miterlimit:10;\" d=\"M 304.800781 430.558594 L 304.800781 437.761719 \"/>\n",
       "<path style=\"fill:none;stroke-width:0.75;stroke-linecap:round;stroke-linejoin:round;stroke:rgb(0%,0%,0%);stroke-opacity:1;stroke-miterlimit:10;\" d=\"M 381.601562 430.558594 L 381.601562 437.761719 \"/>\n",
       "<path style=\"fill:none;stroke-width:0.75;stroke-linecap:round;stroke-linejoin:round;stroke:rgb(0%,0%,0%);stroke-opacity:1;stroke-miterlimit:10;\" d=\"M 458.398438 430.558594 L 458.398438 437.761719 \"/>\n",
       "<g style=\"fill:rgb(0%,0%,0%);fill-opacity:1;\">\n",
       "  <use xlink:href=\"#glyph1-1\" x=\"70.898438\" y=\"455.916016\"/>\n",
       "</g>\n",
       "<g style=\"fill:rgb(0%,0%,0%);fill-opacity:1;\">\n",
       "  <use xlink:href=\"#glyph1-2\" x=\"147.699219\" y=\"455.916016\"/>\n",
       "</g>\n",
       "<g style=\"fill:rgb(0%,0%,0%);fill-opacity:1;\">\n",
       "  <use xlink:href=\"#glyph1-3\" x=\"224.5\" y=\"455.916016\"/>\n",
       "</g>\n",
       "<g style=\"fill:rgb(0%,0%,0%);fill-opacity:1;\">\n",
       "  <use xlink:href=\"#glyph1-4\" x=\"301.300781\" y=\"455.916016\"/>\n",
       "</g>\n",
       "<g style=\"fill:rgb(0%,0%,0%);fill-opacity:1;\">\n",
       "  <use xlink:href=\"#glyph1-5\" x=\"378.101562\" y=\"455.916016\"/>\n",
       "</g>\n",
       "<g style=\"fill:rgb(0%,0%,0%);fill-opacity:1;\">\n",
       "  <use xlink:href=\"#glyph1-6\" x=\"451.398438\" y=\"455.916016\"/>\n",
       "  <use xlink:href=\"#glyph1-1\" x=\"458.070312\" y=\"455.916016\"/>\n",
       "</g>\n",
       "</g>\n",
       "</svg>\n"
      ],
      "text/plain": [
       "Plot with title “ir.bad”"
      ]
     },
     "metadata": {
      "image/svg+xml": {
       "isolated": true
      }
     },
     "output_type": "display_data"
    }
   ],
   "source": [
    "plotRanges(ir.bad, col = bad.col)"
   ]
  },
  {
   "cell_type": "code",
   "execution_count": 22,
   "metadata": {
    "collapsed": false
   },
   "outputs": [],
   "source": [
    "save(good, bad, plotRanges, ir.good, ir.bad, good.col, bad.col, file = 'wrong/wrong.187522124-2.rda')"
   ]
  },
  {
   "cell_type": "code",
   "execution_count": 23,
   "metadata": {
    "collapsed": false
   },
   "outputs": [
    {
     "data": {
      "text/html": [
       "<strong>pdf:</strong> 2"
      ],
      "text/latex": [
       "\\textbf{pdf:} 2"
      ],
      "text/markdown": [
       "**pdf:** 2"
      ],
      "text/plain": [
       "pdf \n",
       "  2 "
      ]
     },
     "execution_count": 23,
     "metadata": {},
     "output_type": "execute_result"
    },
    {
     "data": {
      "text/html": [
       "<strong>pdf:</strong> 2"
      ],
      "text/latex": [
       "\\textbf{pdf:} 2"
      ],
      "text/markdown": [
       "**pdf:** 2"
      ],
      "text/plain": [
       "pdf \n",
       "  2 "
      ]
     },
     "execution_count": 23,
     "metadata": {},
     "output_type": "execute_result"
    }
   ],
   "source": [
    "pdf('wrong/wrong.187522124-2.good.pdf')\n",
    "plotRanges(ir.good, col = good.col)\n",
    "dev.off()\n",
    "pdf('wrong/wrong.187522124-2.bad.pdf')\n",
    "plotRanges(ir.bad, col = bad.col)\n",
    "dev.off()"
   ]
  },
  {
   "cell_type": "code",
   "execution_count": 35,
   "metadata": {
    "collapsed": false
   },
   "outputs": [
    {
     "ename": "ERROR",
     "evalue": "Error in rbindlist(l, use.names, fill, idcol): Item 2 of list input is not a data.frame, data.table or list\n",
     "output_type": "error",
     "traceback": [
      "Error in rbindlist(l, use.names, fill, idcol): Item 2 of list input is not a data.frame, data.table or list\n"
     ]
    },
    {
     "data": {
      "text/plain": [
       "               V2 E1 E2 E3 E4 E5 E6 E7 E8\n",
       "    1:    A*01:01  1  1  1  1  1  1  1  0\n",
       "    2:   A*01:01L  1  1  1  1  1  1  1  0\n",
       "    3:   A*01:01N  1  1  1  1  1  1  1  0\n",
       "    4:    A*01:02  1  1  1  1  1  1  1  0\n",
       "    5:    A*01:03  1  1  1  1  1  1  1  0\n",
       "   ---                                   \n",
       "10226: DRB5*02:06  0  1  1  0  0  0  0  0\n",
       "10227: DRB6*02:01  0  1  1  1  0  0  0  0\n",
       "10228: DRB7*01:01  1  1  1  1  0  0  0  0\n",
       "10229: DRB8*01:01  0  0  1  1  0  0  0  0\n",
       "10230: DRB9*01:01  0  1  0  0  0  0  0  0"
      ]
     },
     "execution_count": 35,
     "metadata": {},
     "output_type": "execute_result"
    }
   ],
   "source": [
    "exons"
   ]
  },
  {
   "cell_type": "code",
   "execution_count": 39,
   "metadata": {
    "collapsed": false
   },
   "outputs": [
    {
     "data": {
      "text/html": [
       "<dl class=dl-horizontal>\n",
       "\t<dt>E1</dt>\n",
       "\t\t<dd>1636</dd>\n",
       "\t<dt>E2</dt>\n",
       "\t\t<dd>10256</dd>\n",
       "\t<dt>E3</dt>\n",
       "\t\t<dd>8219</dd>\n",
       "\t<dt>E4</dt>\n",
       "\t\t<dd>2997</dd>\n",
       "\t<dt>E5</dt>\n",
       "\t\t<dd>1389</dd>\n",
       "\t<dt>E6</dt>\n",
       "\t\t<dd>979</dd>\n",
       "\t<dt>E7</dt>\n",
       "\t\t<dd>904</dd>\n",
       "\t<dt>E8</dt>\n",
       "\t\t<dd>1</dd>\n",
       "</dl>\n"
      ],
      "text/latex": [
       "\\begin{description*}\n",
       "\\item[E1] 1636\n",
       "\\item[E2] 10256\n",
       "\\item[E3] 8219\n",
       "\\item[E4] 2997\n",
       "\\item[E5] 1389\n",
       "\\item[E6] 979\n",
       "\\item[E7] 904\n",
       "\\item[E8] 1\n",
       "\\end{description*}\n"
      ],
      "text/markdown": [
       "E1\n",
       ":   1636E2\n",
       ":   10256E3\n",
       ":   8219E4\n",
       ":   2997E5\n",
       ":   1389E6\n",
       ":   979E7\n",
       ":   904E8\n",
       ":   1\n",
       "\n"
      ],
      "text/plain": [
       "   E1    E2    E3    E4    E5    E6    E7    E8 \n",
       " 1636 10256  8219  2997  1389   979   904     1 "
      ]
     },
     "execution_count": 39,
     "metadata": {},
     "output_type": "execute_result"
    }
   ],
   "source": [
    "colSums(data.frame(exons)[,-1])"
   ]
  },
  {
   "cell_type": "code",
   "execution_count": 40,
   "metadata": {
    "collapsed": true
   },
   "outputs": [],
   "source": [
    "en <- exons$V2\n",
    "tt <- exons[, V2:=NULL]"
   ]
  },
  {
   "cell_type": "code",
   "execution_count": 43,
   "metadata": {
    "collapsed": false
   },
   "outputs": [
    {
     "name": "stdout",
     "output_type": "stream",
     "text": [
      "[1] 2467\n"
     ]
    },
    {
     "data": {
      "text/html": [
       "<dl class=dl-horizontal>\n",
       "\t<dt>E1</dt>\n",
       "\t\t<dd>404</dd>\n",
       "\t<dt>E2</dt>\n",
       "\t\t<dd>2467</dd>\n",
       "\t<dt>E3</dt>\n",
       "\t\t<dd>2470</dd>\n",
       "\t<dt>E4</dt>\n",
       "\t\t<dd>898</dd>\n",
       "\t<dt>E5</dt>\n",
       "\t\t<dd>427</dd>\n",
       "\t<dt>E6</dt>\n",
       "\t\t<dd>265</dd>\n",
       "\t<dt>E7</dt>\n",
       "\t\t<dd>265</dd>\n",
       "\t<dt>E8</dt>\n",
       "\t\t<dd>0</dd>\n",
       "</dl>\n"
      ],
      "text/latex": [
       "\\begin{description*}\n",
       "\\item[E1] 404\n",
       "\\item[E2] 2467\n",
       "\\item[E3] 2470\n",
       "\\item[E4] 898\n",
       "\\item[E5] 427\n",
       "\\item[E6] 265\n",
       "\\item[E7] 265\n",
       "\\item[E8] 0\n",
       "\\end{description*}\n"
      ],
      "text/markdown": [
       "E1\n",
       ":   404E2\n",
       ":   2467E3\n",
       ":   2470E4\n",
       ":   898E5\n",
       ":   427E6\n",
       ":   265E7\n",
       ":   265E8\n",
       ":   0\n",
       "\n"
      ],
      "text/plain": [
       "  E1   E2   E3   E4   E5   E6   E7   E8 \n",
       " 404 2467 2470  898  427  265  265    0 "
      ]
     },
     "execution_count": 43,
     "metadata": {},
     "output_type": "execute_result"
    }
   ],
   "source": [
    "es <- grep('^A', en)\n",
    "print(length(es))\n",
    "colSums(exons[es])"
   ]
  },
  {
   "cell_type": "code",
   "execution_count": 44,
   "metadata": {
    "collapsed": false
   },
   "outputs": [
    {
     "name": "stdout",
     "output_type": "stream",
     "text": [
      "[1] 3138\n"
     ]
    },
    {
     "data": {
      "text/html": [
       "<dl class=dl-horizontal>\n",
       "\t<dt>E1</dt>\n",
       "\t\t<dd>650</dd>\n",
       "\t<dt>E2</dt>\n",
       "\t\t<dd>3139</dd>\n",
       "\t<dt>E3</dt>\n",
       "\t\t<dd>3142</dd>\n",
       "\t<dt>E4</dt>\n",
       "\t\t<dd>1146</dd>\n",
       "\t<dt>E5</dt>\n",
       "\t\t<dd>601</dd>\n",
       "\t<dt>E6</dt>\n",
       "\t\t<dd>374</dd>\n",
       "\t<dt>E7</dt>\n",
       "\t\t<dd>366</dd>\n",
       "\t<dt>E8</dt>\n",
       "\t\t<dd>0</dd>\n",
       "</dl>\n"
      ],
      "text/latex": [
       "\\begin{description*}\n",
       "\\item[E1] 650\n",
       "\\item[E2] 3139\n",
       "\\item[E3] 3142\n",
       "\\item[E4] 1146\n",
       "\\item[E5] 601\n",
       "\\item[E6] 374\n",
       "\\item[E7] 366\n",
       "\\item[E8] 0\n",
       "\\end{description*}\n"
      ],
      "text/markdown": [
       "E1\n",
       ":   650E2\n",
       ":   3139E3\n",
       ":   3142E4\n",
       ":   1146E5\n",
       ":   601E6\n",
       ":   374E7\n",
       ":   366E8\n",
       ":   0\n",
       "\n"
      ],
      "text/plain": [
       "  E1   E2   E3   E4   E5   E6   E7   E8 \n",
       " 650 3139 3142 1146  601  374  366    0 "
      ]
     },
     "execution_count": 44,
     "metadata": {},
     "output_type": "execute_result"
    }
   ],
   "source": [
    "es <- grep('^B', en)\n",
    "print(length(es))\n",
    "colSums(exons[es])"
   ]
  },
  {
   "cell_type": "code",
   "execution_count": 45,
   "metadata": {
    "collapsed": false
   },
   "outputs": [
    {
     "name": "stdout",
     "output_type": "stream",
     "text": [
      "[1] 2078\n"
     ]
    },
    {
     "data": {
      "text/html": [
       "<dl class=dl-horizontal>\n",
       "\t<dt>E1</dt>\n",
       "\t\t<dd>375</dd>\n",
       "\t<dt>E2</dt>\n",
       "\t\t<dd>2082</dd>\n",
       "\t<dt>E3</dt>\n",
       "\t\t<dd>2082</dd>\n",
       "\t<dt>E4</dt>\n",
       "\t\t<dd>663</dd>\n",
       "\t<dt>E5</dt>\n",
       "\t\t<dd>361</dd>\n",
       "\t<dt>E6</dt>\n",
       "\t\t<dd>340</dd>\n",
       "\t<dt>E7</dt>\n",
       "\t\t<dd>273</dd>\n",
       "\t<dt>E8</dt>\n",
       "\t\t<dd>1</dd>\n",
       "</dl>\n"
      ],
      "text/latex": [
       "\\begin{description*}\n",
       "\\item[E1] 375\n",
       "\\item[E2] 2082\n",
       "\\item[E3] 2082\n",
       "\\item[E4] 663\n",
       "\\item[E5] 361\n",
       "\\item[E6] 340\n",
       "\\item[E7] 273\n",
       "\\item[E8] 1\n",
       "\\end{description*}\n"
      ],
      "text/markdown": [
       "E1\n",
       ":   375E2\n",
       ":   2082E3\n",
       ":   2082E4\n",
       ":   663E5\n",
       ":   361E6\n",
       ":   340E7\n",
       ":   273E8\n",
       ":   1\n",
       "\n"
      ],
      "text/plain": [
       "  E1   E2   E3   E4   E5   E6   E7   E8 \n",
       " 375 2082 2082  663  361  340  273    1 "
      ]
     },
     "execution_count": 45,
     "metadata": {},
     "output_type": "execute_result"
    }
   ],
   "source": [
    "es <- grep('^C', en)\n",
    "print(length(es))\n",
    "colSums(exons[es])"
   ]
  },
  {
   "cell_type": "code",
   "execution_count": 46,
   "metadata": {
    "collapsed": false
   },
   "outputs": [
    {
     "name": "stdout",
     "output_type": "stream",
     "text": [
      "[1] 1361\n"
     ]
    },
    {
     "data": {
      "text/html": [
       "<dl class=dl-horizontal>\n",
       "\t<dt>E1</dt>\n",
       "\t\t<dd>113</dd>\n",
       "\t<dt>E2</dt>\n",
       "\t\t<dd>1376</dd>\n",
       "\t<dt>E3</dt>\n",
       "\t\t<dd>194</dd>\n",
       "\t<dt>E4</dt>\n",
       "\t\t<dd>142</dd>\n",
       "\t<dt>E5</dt>\n",
       "\t\t<dd>0</dd>\n",
       "\t<dt>E6</dt>\n",
       "\t\t<dd>0</dd>\n",
       "\t<dt>E7</dt>\n",
       "\t\t<dd>0</dd>\n",
       "\t<dt>E8</dt>\n",
       "\t\t<dd>0</dd>\n",
       "</dl>\n"
      ],
      "text/latex": [
       "\\begin{description*}\n",
       "\\item[E1] 113\n",
       "\\item[E2] 1376\n",
       "\\item[E3] 194\n",
       "\\item[E4] 142\n",
       "\\item[E5] 0\n",
       "\\item[E6] 0\n",
       "\\item[E7] 0\n",
       "\\item[E8] 0\n",
       "\\end{description*}\n"
      ],
      "text/markdown": [
       "E1\n",
       ":   113E2\n",
       ":   1376E3\n",
       ":   194E4\n",
       ":   142E5\n",
       ":   0E6\n",
       ":   0E7\n",
       ":   0E8\n",
       ":   0\n",
       "\n"
      ],
      "text/plain": [
       "  E1   E2   E3   E4   E5   E6   E7   E8 \n",
       " 113 1376  194  142    0    0    0    0 "
      ]
     },
     "execution_count": 46,
     "metadata": {},
     "output_type": "execute_result"
    }
   ],
   "source": [
    "es <- grep('^DRB1', en)\n",
    "print(length(es))\n",
    "colSums(exons[es])"
   ]
  },
  {
   "cell_type": "code",
   "execution_count": 47,
   "metadata": {
    "collapsed": false
   },
   "outputs": [
    {
     "name": "stdout",
     "output_type": "stream",
     "text": [
      "[1] 615\n"
     ]
    },
    {
     "data": {
      "text/html": [
       "<dl class=dl-horizontal>\n",
       "\t<dt>E1</dt>\n",
       "\t\t<dd>54</dd>\n",
       "\t<dt>E2</dt>\n",
       "\t\t<dd>617</dd>\n",
       "\t<dt>E3</dt>\n",
       "\t\t<dd>225</dd>\n",
       "\t<dt>E4</dt>\n",
       "\t\t<dd>83</dd>\n",
       "\t<dt>E5</dt>\n",
       "\t\t<dd>0</dd>\n",
       "\t<dt>E6</dt>\n",
       "\t\t<dd>0</dd>\n",
       "\t<dt>E7</dt>\n",
       "\t\t<dd>0</dd>\n",
       "\t<dt>E8</dt>\n",
       "\t\t<dd>0</dd>\n",
       "</dl>\n"
      ],
      "text/latex": [
       "\\begin{description*}\n",
       "\\item[E1] 54\n",
       "\\item[E2] 617\n",
       "\\item[E3] 225\n",
       "\\item[E4] 83\n",
       "\\item[E5] 0\n",
       "\\item[E6] 0\n",
       "\\item[E7] 0\n",
       "\\item[E8] 0\n",
       "\\end{description*}\n"
      ],
      "text/markdown": [
       "E1\n",
       ":   54E2\n",
       ":   617E3\n",
       ":   225E4\n",
       ":   83E5\n",
       ":   0E6\n",
       ":   0E7\n",
       ":   0E8\n",
       ":   0\n",
       "\n"
      ],
      "text/plain": [
       " E1  E2  E3  E4  E5  E6  E7  E8 \n",
       " 54 617 225  83   0   0   0   0 "
      ]
     },
     "execution_count": 47,
     "metadata": {},
     "output_type": "execute_result"
    }
   ],
   "source": [
    "es <- grep('^DQB1', en)\n",
    "print(length(es))\n",
    "colSums(exons[es])"
   ]
  },
  {
   "cell_type": "code",
   "execution_count": 48,
   "metadata": {
    "collapsed": false
   },
   "outputs": [
    {
     "name": "stdout",
     "output_type": "stream",
     "text": [
      "[1] 488\n"
     ]
    },
    {
     "data": {
      "text/html": [
       "<dl class=dl-horizontal>\n",
       "\t<dt>E1</dt>\n",
       "\t\t<dd>30</dd>\n",
       "\t<dt>E2</dt>\n",
       "\t\t<dd>492</dd>\n",
       "\t<dt>E3</dt>\n",
       "\t\t<dd>71</dd>\n",
       "\t<dt>E4</dt>\n",
       "\t\t<dd>49</dd>\n",
       "\t<dt>E5</dt>\n",
       "\t\t<dd>0</dd>\n",
       "\t<dt>E6</dt>\n",
       "\t\t<dd>0</dd>\n",
       "\t<dt>E7</dt>\n",
       "\t\t<dd>0</dd>\n",
       "\t<dt>E8</dt>\n",
       "\t\t<dd>0</dd>\n",
       "</dl>\n"
      ],
      "text/latex": [
       "\\begin{description*}\n",
       "\\item[E1] 30\n",
       "\\item[E2] 492\n",
       "\\item[E3] 71\n",
       "\\item[E4] 49\n",
       "\\item[E5] 0\n",
       "\\item[E6] 0\n",
       "\\item[E7] 0\n",
       "\\item[E8] 0\n",
       "\\end{description*}\n"
      ],
      "text/markdown": [
       "E1\n",
       ":   30E2\n",
       ":   492E3\n",
       ":   71E4\n",
       ":   49E5\n",
       ":   0E6\n",
       ":   0E7\n",
       ":   0E8\n",
       ":   0\n",
       "\n"
      ],
      "text/plain": [
       " E1  E2  E3  E4  E5  E6  E7  E8 \n",
       " 30 492  71  49   0   0   0   0 "
      ]
     },
     "execution_count": 48,
     "metadata": {},
     "output_type": "execute_result"
    }
   ],
   "source": [
    "es <- grep('^DPB1', en)\n",
    "print(length(es))\n",
    "colSums(exons[es])"
   ]
  },
  {
   "cell_type": "code",
   "execution_count": 91,
   "metadata": {
    "collapsed": false
   },
   "outputs": [
    {
     "data": {
      "image/png": "[encoded data removed]",
      "image/svg+xml": [
       "<?xml version=\"1.0\" encoding=\"UTF-8\"?>\n",
       "<svg xmlns=\"http://www.w3.org/2000/svg\" xmlns:xlink=\"http://www.w3.org/1999/xlink\" width=\"504pt\" height=\"504pt\" viewBox=\"0 0 504 504\" version=\"1.1\">\n",
       "<defs>\n",
       "<g>\n",
       "<symbol overflow=\"visible\" id=\"glyph0-0\">\n",
       "<path style=\"stroke:none;\" d=\"\"/>\n",
       "</symbol>\n",
       "<symbol overflow=\"visible\" id=\"glyph0-1\">\n",
       "<path style=\"stroke:none;\" d=\"M 2.984375 -7.78125 L 0.96875 -7.78125 L 0.96875 0 L 2.984375 0 Z M 2.984375 -10.5 L 0.96875 -10.5 L 0.96875 -8.703125 L 2.984375 -8.703125 Z M 2.984375 -10.5 \"/>\n",
       "</symbol>\n",
       "<symbol overflow=\"visible\" id=\"glyph0-2\">\n",
       "<path style=\"stroke:none;\" d=\"M 0.90625 -7.78125 L 0.90625 0 L 2.921875 0 L 2.921875 -4.140625 C 2.921875 -5.3125 3.515625 -5.90625 4.703125 -5.90625 C 4.90625 -5.90625 5.0625 -5.890625 5.328125 -5.84375 L 5.328125 -7.890625 C 5.21875 -7.90625 5.140625 -7.90625 5.078125 -7.90625 C 4.15625 -7.90625 3.359375 -7.296875 2.921875 -6.25 L 2.921875 -7.78125 Z M 0.90625 -7.78125 \"/>\n",
       "</symbol>\n",
       "<symbol overflow=\"visible\" id=\"glyph0-3\">\n",
       "<path style=\"stroke:none;\" d=\"M 3.078125 -2.109375 L 0.921875 -2.109375 L 0.921875 0 L 3.078125 0 Z M 3.078125 -2.109375 \"/>\n",
       "</symbol>\n",
       "<symbol overflow=\"visible\" id=\"glyph0-4\">\n",
       "<path style=\"stroke:none;\" d=\"M 5.875 -7.78125 L 5.875 -6.578125 C 5.265625 -7.5 4.609375 -7.90625 3.71875 -7.90625 C 1.875 -7.90625 0.484375 -6.109375 0.484375 -3.703125 C 0.484375 -1.28125 1.75 0.328125 3.671875 0.328125 C 4.578125 0.328125 5.125 0.0625 5.875 -0.796875 L 5.875 0.265625 C 5.875 1.203125 5.171875 1.84375 4.15625 1.84375 C 3.40625 1.84375 2.890625 1.53125 2.734375 0.9375 L 0.640625 0.9375 C 0.65625 1.546875 0.890625 1.953125 1.40625 2.390625 C 2.03125 2.890625 2.890625 3.140625 4.09375 3.140625 C 6.4375 3.140625 7.796875 2.09375 7.796875 0.265625 L 7.796875 -7.78125 Z M 4.15625 -6.21875 C 5.15625 -6.21875 5.90625 -5.171875 5.90625 -3.734375 C 5.90625 -2.3125 5.171875 -1.359375 4.125 -1.359375 C 3.171875 -1.359375 2.5 -2.3125 2.5 -3.734375 C 2.5 -5.203125 3.171875 -6.21875 4.15625 -6.21875 Z M 4.15625 -6.21875 \"/>\n",
       "</symbol>\n",
       "<symbol overflow=\"visible\" id=\"glyph0-5\">\n",
       "<path style=\"stroke:none;\" d=\"M 4.34375 -7.90625 C 1.953125 -7.90625 0.5 -6.34375 0.5 -3.78125 C 0.5 -1.21875 1.953125 0.328125 4.34375 0.328125 C 6.71875 0.328125 8.203125 -1.234375 8.203125 -3.734375 C 8.203125 -6.375 6.765625 -7.90625 4.34375 -7.90625 Z M 4.34375 -6.28125 C 5.453125 -6.28125 6.1875 -5.28125 6.1875 -3.765625 C 6.1875 -2.3125 5.4375 -1.296875 4.34375 -1.296875 C 3.25 -1.296875 2.515625 -2.3125 2.515625 -3.78125 C 2.515625 -5.265625 3.25 -6.28125 4.34375 -6.28125 Z M 4.34375 -6.28125 \"/>\n",
       "</symbol>\n",
       "<symbol overflow=\"visible\" id=\"glyph0-6\">\n",
       "<path style=\"stroke:none;\" d=\"M 5.828125 0 L 7.84375 0 L 7.84375 -10.5 L 5.828125 -10.5 L 5.828125 -6.765625 C 5.328125 -7.546875 4.65625 -7.90625 3.6875 -7.90625 C 1.828125 -7.90625 0.421875 -6.125 0.421875 -3.78125 C 0.421875 -2.71875 0.734375 -1.65625 1.25 -0.90625 C 1.78125 -0.15625 2.734375 0.328125 3.6875 0.328125 C 4.65625 0.328125 5.328125 -0.03125 5.828125 -0.796875 Z M 4.140625 -6.21875 C 5.15625 -6.21875 5.828125 -5.234375 5.828125 -3.75 C 5.828125 -2.328125 5.140625 -1.359375 4.140625 -1.359375 C 3.125 -1.359375 2.4375 -2.34375 2.4375 -3.78125 C 2.4375 -5.21875 3.125 -6.21875 4.140625 -6.21875 Z M 4.140625 -6.21875 \"/>\n",
       "</symbol>\n",
       "<symbol overflow=\"visible\" id=\"glyph1-0\">\n",
       "<path style=\"stroke:none;\" d=\"\"/>\n",
       "</symbol>\n",
       "<symbol overflow=\"visible\" id=\"glyph1-1\">\n",
       "<path style=\"stroke:none;\" d=\"M 3.296875 -8.515625 C 2.515625 -8.515625 1.78125 -8.15625 1.34375 -7.578125 C 0.796875 -6.828125 0.515625 -5.6875 0.515625 -4.109375 C 0.515625 -1.25 1.46875 0.28125 3.296875 0.28125 C 5.09375 0.28125 6.078125 -1.25 6.078125 -4.046875 C 6.078125 -5.703125 5.8125 -6.796875 5.25 -7.578125 C 4.8125 -8.171875 4.109375 -8.515625 3.296875 -8.515625 Z M 3.296875 -7.578125 C 4.4375 -7.578125 5 -6.421875 5 -4.140625 C 5 -1.734375 4.453125 -0.59375 3.28125 -0.59375 C 2.15625 -0.59375 1.59375 -1.78125 1.59375 -4.109375 C 1.59375 -6.4375 2.15625 -7.578125 3.296875 -7.578125 Z M 3.296875 -7.578125 \"/>\n",
       "</symbol>\n",
       "<symbol overflow=\"visible\" id=\"glyph1-2\">\n",
       "<path style=\"stroke:none;\" d=\"M 6.078125 -1.046875 L 1.59375 -1.046875 C 1.703125 -1.734375 2.09375 -2.1875 3.125 -2.796875 L 4.328125 -3.4375 C 5.515625 -4.09375 6.125 -4.96875 6.125 -6.015625 C 6.125 -6.71875 5.84375 -7.375 5.34375 -7.84375 C 4.84375 -8.296875 4.21875 -8.515625 3.40625 -8.515625 C 2.328125 -8.515625 1.53125 -8.125 1.0625 -7.40625 C 0.75 -6.953125 0.625 -6.421875 0.59375 -5.5625 L 1.65625 -5.5625 C 1.6875 -6.125 1.765625 -6.484375 1.90625 -6.75 C 2.1875 -7.265625 2.734375 -7.578125 3.375 -7.578125 C 4.328125 -7.578125 5.046875 -6.90625 5.046875 -5.984375 C 5.046875 -5.3125 4.65625 -4.734375 3.90625 -4.3125 L 2.796875 -3.6875 C 1.015625 -2.671875 0.5 -1.875 0.40625 0 L 6.078125 0 Z M 6.078125 -1.046875 \"/>\n",
       "</symbol>\n",
       "<symbol overflow=\"visible\" id=\"glyph1-3\">\n",
       "<path style=\"stroke:none;\" d=\"M 3.921875 -2.046875 L 3.921875 0 L 4.984375 0 L 4.984375 -2.046875 L 6.234375 -2.046875 L 6.234375 -2.984375 L 4.984375 -2.984375 L 4.984375 -8.515625 L 4.203125 -8.515625 L 0.34375 -3.15625 L 0.34375 -2.046875 Z M 3.921875 -2.984375 L 1.265625 -2.984375 L 3.921875 -6.703125 Z M 3.921875 -2.984375 \"/>\n",
       "</symbol>\n",
       "<symbol overflow=\"visible\" id=\"glyph1-4\">\n",
       "<path style=\"stroke:none;\" d=\"M 5.96875 -6.28125 C 5.765625 -7.6875 4.859375 -8.515625 3.5625 -8.515625 C 2.625 -8.515625 1.78125 -8.046875 1.28125 -7.296875 C 0.75 -6.46875 0.515625 -5.421875 0.515625 -3.875 C 0.515625 -2.453125 0.734375 -1.53125 1.234375 -0.78125 C 1.6875 -0.09375 2.4375 0.28125 3.375 0.28125 C 4.984375 0.28125 6.15625 -0.921875 6.15625 -2.59375 C 6.15625 -4.171875 5.078125 -5.296875 3.546875 -5.296875 C 2.71875 -5.296875 2.046875 -4.96875 1.59375 -4.34375 C 1.609375 -6.421875 2.28125 -7.578125 3.484375 -7.578125 C 4.234375 -7.578125 4.75 -7.109375 4.921875 -6.28125 Z M 3.421875 -4.359375 C 4.4375 -4.359375 5.078125 -3.640625 5.078125 -2.515625 C 5.078125 -1.4375 4.359375 -0.65625 3.390625 -0.65625 C 2.40625 -0.65625 1.65625 -1.46875 1.65625 -2.5625 C 1.65625 -3.625 2.375 -4.359375 3.421875 -4.359375 Z M 3.421875 -4.359375 \"/>\n",
       "</symbol>\n",
       "<symbol overflow=\"visible\" id=\"glyph1-5\">\n",
       "<path style=\"stroke:none;\" d=\"M 4.6875 -4.46875 C 5.5625 -5 5.859375 -5.4375 5.859375 -6.234375 C 5.859375 -7.578125 4.8125 -8.515625 3.296875 -8.515625 C 1.796875 -8.515625 0.75 -7.578125 0.75 -6.234375 C 0.75 -5.453125 1.03125 -5.015625 1.890625 -4.46875 C 0.921875 -4.015625 0.4375 -3.296875 0.4375 -2.359375 C 0.4375 -0.796875 1.625 0.28125 3.296875 0.28125 C 4.984375 0.28125 6.15625 -0.796875 6.15625 -2.359375 C 6.15625 -3.296875 5.671875 -4.015625 4.6875 -4.46875 Z M 3.296875 -7.578125 C 4.203125 -7.578125 4.78125 -7.046875 4.78125 -6.21875 C 4.78125 -5.421875 4.1875 -4.890625 3.296875 -4.890625 C 2.40625 -4.890625 1.828125 -5.421875 1.828125 -6.234375 C 1.828125 -7.046875 2.40625 -7.578125 3.296875 -7.578125 Z M 3.296875 -4.015625 C 4.359375 -4.015625 5.078125 -3.34375 5.078125 -2.34375 C 5.078125 -1.328125 4.359375 -0.65625 3.28125 -0.65625 C 2.25 -0.65625 1.53125 -1.34375 1.53125 -2.34375 C 1.53125 -3.34375 2.25 -4.015625 3.296875 -4.015625 Z M 3.296875 -4.015625 \"/>\n",
       "</symbol>\n",
       "</g>\n",
       "</defs>\n",
       "<g id=\"surface160\">\n",
       "<rect x=\"0\" y=\"0\" width=\"504\" height=\"504\" style=\"fill:rgb(100%,100%,100%);fill-opacity:1;stroke:none;\"/>\n",
       "<path style=\"fill-rule:nonzero;fill:rgb(0%,0%,0%);fill-opacity:1;stroke-width:0.75;stroke-linecap:round;stroke-linejoin:round;stroke:rgb(0%,0%,0%);stroke-opacity:1;stroke-miterlimit:10;\" d=\"M 159.046875 407.246094 L 365.5 407.246094 L 365.5 388.136719 L 159.046875 388.136719 Z M 159.046875 407.246094 \"/>\n",
       "<path style=\"fill-rule:nonzero;fill:rgb(49.803922%,49.803922%,49.803922%);fill-opacity:1;stroke-width:0.75;stroke-linecap:round;stroke-linejoin:round;stroke:rgb(0%,0%,0%);stroke-opacity:1;stroke-miterlimit:10;\" d=\"M 200.335938 378.578125 L 398.53125 378.578125 L 398.53125 359.46875 L 200.335938 359.46875 Z M 200.335938 378.578125 \"/>\n",
       "<path style=\"fill-rule:nonzero;fill:rgb(0%,0%,0%);fill-opacity:1;stroke-width:0.75;stroke-linecap:round;stroke-linejoin:round;stroke:rgb(0%,0%,0%);stroke-opacity:1;stroke-miterlimit:10;\" d=\"M 200.335938 349.910156 L 406.789062 349.910156 L 406.789062 330.800781 L 200.335938 330.800781 Z M 200.335938 349.910156 \"/>\n",
       "<path style=\"fill-rule:nonzero;fill:rgb(49.803922%,49.803922%,49.803922%);fill-opacity:1;stroke-width:0.75;stroke-linecap:round;stroke-linejoin:round;stroke:rgb(0%,0%,0%);stroke-opacity:1;stroke-miterlimit:10;\" d=\"M 204.464844 321.246094 L 410.917969 321.246094 L 410.917969 302.136719 L 204.464844 302.136719 Z M 204.464844 321.246094 \"/>\n",
       "<path style=\"fill-rule:nonzero;fill:rgb(0%,0%,0%);fill-opacity:1;stroke-width:0.75;stroke-linecap:round;stroke-linejoin:round;stroke:rgb(0%,0%,0%);stroke-opacity:1;stroke-miterlimit:10;\" d=\"M 212.722656 292.578125 L 419.175781 292.578125 L 419.175781 273.46875 L 212.722656 273.46875 Z M 212.722656 292.578125 \"/>\n",
       "<path style=\"fill-rule:nonzero;fill:rgb(49.803922%,49.803922%,49.803922%);fill-opacity:1;stroke-width:0.75;stroke-linecap:round;stroke-linejoin:round;stroke:rgb(0%,0%,0%);stroke-opacity:1;stroke-miterlimit:10;\" d=\"M 220.980469 263.910156 L 423.304688 263.910156 L 423.304688 244.800781 L 220.980469 244.800781 Z M 220.980469 263.910156 \"/>\n",
       "<path style=\"fill-rule:nonzero;fill:rgb(0%,0%,0%);fill-opacity:1;stroke-width:0.75;stroke-linecap:round;stroke-linejoin:round;stroke:rgb(0%,0%,0%);stroke-opacity:1;stroke-miterlimit:10;\" d=\"M 237.496094 235.246094 L 439.820312 235.246094 L 439.820312 216.136719 L 237.496094 216.136719 Z M 237.496094 235.246094 \"/>\n",
       "<path style=\"fill-rule:nonzero;fill:rgb(49.803922%,49.803922%,49.803922%);fill-opacity:1;stroke-width:0.75;stroke-linecap:round;stroke-linejoin:round;stroke:rgb(0%,0%,0%);stroke-opacity:1;stroke-miterlimit:10;\" d=\"M 291.175781 206.578125 L 460.464844 206.578125 L 460.464844 187.46875 L 291.175781 187.46875 Z M 291.175781 206.578125 \"/>\n",
       "<path style=\"fill-rule:nonzero;fill:rgb(0%,0%,0%);fill-opacity:1;stroke-width:0.75;stroke-linecap:round;stroke-linejoin:round;stroke:rgb(0%,0%,0%);stroke-opacity:1;stroke-miterlimit:10;\" d=\"M 377.882812 407.246094 L 460.464844 407.246094 L 460.464844 388.136719 L 377.882812 388.136719 Z M 377.882812 407.246094 \"/>\n",
       "<path style=\"fill-rule:nonzero;fill:rgb(49.803922%,49.803922%,49.803922%);fill-opacity:1;stroke-width:0.75;stroke-linecap:round;stroke-linejoin:round;stroke:rgb(0%,0%,0%);stroke-opacity:1;stroke-miterlimit:10;\" d=\"M 386.140625 177.910156 L 460.464844 177.910156 L 460.464844 158.800781 L 386.140625 158.800781 Z M 386.140625 177.910156 \"/>\n",
       "<path style=\"fill-rule:nonzero;fill:rgb(0%,0%,0%);fill-opacity:1;stroke-width:0.75;stroke-linecap:round;stroke-linejoin:round;stroke:rgb(0%,0%,0%);stroke-opacity:1;stroke-miterlimit:10;\" d=\"M 394.398438 149.246094 L 460.464844 149.246094 L 460.464844 130.136719 L 394.398438 130.136719 Z M 394.398438 149.246094 \"/>\n",
       "<path style=\"fill-rule:nonzero;fill:rgb(49.803922%,49.803922%,49.803922%);fill-opacity:1;stroke-width:0.75;stroke-linecap:round;stroke-linejoin:round;stroke:rgb(0%,0%,0%);stroke-opacity:1;stroke-miterlimit:10;\" d=\"M 402.65625 378.578125 L 460.460938 378.578125 L 460.460938 359.46875 L 402.65625 359.46875 Z M 402.65625 378.578125 \"/>\n",
       "<path style=\"fill-rule:nonzero;fill:rgb(0%,0%,0%);fill-opacity:1;stroke-width:0.75;stroke-linecap:round;stroke-linejoin:round;stroke:rgb(0%,0%,0%);stroke-opacity:1;stroke-miterlimit:10;\" d=\"M 410.917969 349.910156 L 460.464844 349.910156 L 460.464844 330.800781 L 410.917969 330.800781 Z M 410.917969 349.910156 \"/>\n",
       "<path style=\"fill-rule:nonzero;fill:rgb(49.803922%,49.803922%,49.803922%);fill-opacity:1;stroke-width:0.75;stroke-linecap:round;stroke-linejoin:round;stroke:rgb(0%,0%,0%);stroke-opacity:1;stroke-miterlimit:10;\" d=\"M 419.175781 321.246094 L 460.464844 321.246094 L 460.464844 302.136719 L 419.175781 302.136719 Z M 419.175781 321.246094 \"/>\n",
       "<path style=\"fill-rule:nonzero;fill:rgb(0%,0%,0%);fill-opacity:1;stroke-width:0.75;stroke-linecap:round;stroke-linejoin:round;stroke:rgb(0%,0%,0%);stroke-opacity:1;stroke-miterlimit:10;\" d=\"M 419.175781 120.578125 L 460.464844 120.578125 L 460.464844 101.46875 L 419.175781 101.46875 Z M 419.175781 120.578125 \"/>\n",
       "<path style=\"fill-rule:nonzero;fill:rgb(49.803922%,49.803922%,49.803922%);fill-opacity:1;stroke-width:0.75;stroke-linecap:round;stroke-linejoin:round;stroke:rgb(0%,0%,0%);stroke-opacity:1;stroke-miterlimit:10;\" d=\"M 419.175781 91.910156 L 460.464844 91.910156 L 460.464844 72.800781 L 419.175781 72.800781 Z M 419.175781 91.910156 \"/>\n",
       "<g style=\"fill:rgb(0%,0%,0%);fill-opacity:1;\">\n",
       "  <use xlink:href=\"#glyph0-1\" x=\"241.898438\" y=\"34.116211\"/>\n",
       "  <use xlink:href=\"#glyph0-2\" x=\"245.90332\" y=\"34.116211\"/>\n",
       "  <use xlink:href=\"#glyph0-3\" x=\"251.507812\" y=\"34.116211\"/>\n",
       "  <use xlink:href=\"#glyph0-4\" x=\"255.512695\" y=\"34.116211\"/>\n",
       "  <use xlink:href=\"#glyph0-5\" x=\"264.314453\" y=\"34.116211\"/>\n",
       "  <use xlink:href=\"#glyph0-5\" x=\"273.116211\" y=\"34.116211\"/>\n",
       "  <use xlink:href=\"#glyph0-6\" x=\"281.917969\" y=\"34.116211\"/>\n",
       "</g>\n",
       "<path style=\"fill:none;stroke-width:0.75;stroke-linecap:round;stroke-linejoin:round;stroke:rgb(0%,0%,0%);stroke-opacity:1;stroke-miterlimit:10;\" d=\"M 74.398438 430.558594 L 404.722656 430.558594 \"/>\n",
       "<path style=\"fill:none;stroke-width:0.75;stroke-linecap:round;stroke-linejoin:round;stroke:rgb(0%,0%,0%);stroke-opacity:1;stroke-miterlimit:10;\" d=\"M 74.398438 430.558594 L 74.398438 437.761719 \"/>\n",
       "<path style=\"fill:none;stroke-width:0.75;stroke-linecap:round;stroke-linejoin:round;stroke:rgb(0%,0%,0%);stroke-opacity:1;stroke-miterlimit:10;\" d=\"M 156.980469 430.558594 L 156.980469 437.761719 \"/>\n",
       "<path style=\"fill:none;stroke-width:0.75;stroke-linecap:round;stroke-linejoin:round;stroke:rgb(0%,0%,0%);stroke-opacity:1;stroke-miterlimit:10;\" d=\"M 239.5625 430.558594 L 239.5625 437.761719 \"/>\n",
       "<path style=\"fill:none;stroke-width:0.75;stroke-linecap:round;stroke-linejoin:round;stroke:rgb(0%,0%,0%);stroke-opacity:1;stroke-miterlimit:10;\" d=\"M 322.140625 430.558594 L 322.140625 437.761719 \"/>\n",
       "<path style=\"fill:none;stroke-width:0.75;stroke-linecap:round;stroke-linejoin:round;stroke:rgb(0%,0%,0%);stroke-opacity:1;stroke-miterlimit:10;\" d=\"M 404.722656 430.558594 L 404.722656 437.761719 \"/>\n",
       "<g style=\"fill:rgb(0%,0%,0%);fill-opacity:1;\">\n",
       "  <use xlink:href=\"#glyph1-1\" x=\"70.898438\" y=\"455.916016\"/>\n",
       "</g>\n",
       "<g style=\"fill:rgb(0%,0%,0%);fill-opacity:1;\">\n",
       "  <use xlink:href=\"#glyph1-2\" x=\"149.980469\" y=\"455.916016\"/>\n",
       "  <use xlink:href=\"#glyph1-1\" x=\"156.652344\" y=\"455.916016\"/>\n",
       "</g>\n",
       "<g style=\"fill:rgb(0%,0%,0%);fill-opacity:1;\">\n",
       "  <use xlink:href=\"#glyph1-3\" x=\"232.5625\" y=\"455.916016\"/>\n",
       "  <use xlink:href=\"#glyph1-1\" x=\"239.234375\" y=\"455.916016\"/>\n",
       "</g>\n",
       "<g style=\"fill:rgb(0%,0%,0%);fill-opacity:1;\">\n",
       "  <use xlink:href=\"#glyph1-4\" x=\"315.140625\" y=\"455.916016\"/>\n",
       "  <use xlink:href=\"#glyph1-1\" x=\"321.8125\" y=\"455.916016\"/>\n",
       "</g>\n",
       "<g style=\"fill:rgb(0%,0%,0%);fill-opacity:1;\">\n",
       "  <use xlink:href=\"#glyph1-5\" x=\"397.722656\" y=\"455.916016\"/>\n",
       "  <use xlink:href=\"#glyph1-1\" x=\"404.394531\" y=\"455.916016\"/>\n",
       "</g>\n",
       "</g>\n",
       "</svg>\n"
      ],
      "text/plain": [
       "Plot with title “ir.good”"
      ]
     },
     "metadata": {
      "image/svg+xml": {
       "isolated": true
      }
     },
     "output_type": "display_data"
    }
   ],
   "source": [
    "plotRanges2 <- function(x, xlim = x, main = deparse(substitute(x)), col = \"black\", sep = 0.5, ...)\n",
    " {\n",
    " height <- 1\n",
    " if (is(xlim, \"Ranges\"))\n",
    " xlim <- c(0, max(end(xlim)))\n",
    " bins <- disjointBins(IRanges(start(x), end(x) + 1))\n",
    " plot.new()\n",
    " plot.window(xlim, c(0, max(bins)*(height + sep)))\n",
    " ybottom <- bins * (sep + height) - height\n",
    " rect(start(x)-0.5, ybottom, end(x)+0.5, ybottom + height, col = col, ...)\n",
    " title(main)\n",
    " axis(1)\n",
    " }\n",
    "plotRanges2(ir.good, col = rep(c('black', 'gray50'), 8))"
   ]
  },
  {
   "cell_type": "code",
   "execution_count": null,
   "metadata": {
    "collapsed": true
   },
   "outputs": [],
   "source": []
  }
 ],
 "metadata": {
  "kernelspec": {
   "display_name": "R",
   "language": "R",
   "name": "ir"
  },
  "language_info": {
   "codemirror_mode": "r",
   "file_extension": ".r",
   "mimetype": "text/x-r-source",
   "name": "R",
   "pygments_lexer": "r",
   "version": "3.2.2"
  }
 },
 "nbformat": 4,
 "nbformat_minor": 0
}
