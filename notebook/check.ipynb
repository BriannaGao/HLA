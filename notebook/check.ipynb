{
 "cells": [
  {
   "cell_type": "code",
   "execution_count": 1,
   "metadata": {
    "collapsed": true
   },
   "outputs": [],
   "source": [
    "load('../temp.rda')"
   ]
  },
  {
   "cell_type": "code",
   "execution_count": 2,
   "metadata": {
    "collapsed": true
   },
   "outputs": [],
   "source": [
    "library(data.table)"
   ]
  },
  {
   "cell_type": "code",
   "execution_count": 3,
   "metadata": {
    "collapsed": false
   },
   "outputs": [
    {
     "data": {
      "text/html": [
       "<ol class=list-inline>\n",
       "\t<li>'key.match'</li>\n",
       "\t<li>'noncore.match'</li>\n",
       "</ol>\n"
      ],
      "text/latex": [
       "\\begin{enumerate*}\n",
       "\\item 'key.match'\n",
       "\\item 'noncore.match'\n",
       "\\end{enumerate*}\n"
      ],
      "text/markdown": [
       "1. 'key.match'\n",
       "2. 'noncore.match'\n",
       "\n",
       "\n"
      ],
      "text/plain": [
       "[1] \"key.match\"     \"noncore.match\""
      ]
     },
     "execution_count": 3,
     "metadata": {},
     "output_type": "execute_result"
    }
   ],
   "source": [
    "ls()"
   ]
  },
  {
   "cell_type": "code",
   "execution_count": 4,
   "metadata": {
    "collapsed": false
   },
   "outputs": [
    {
     "data": {
      "text/html": [
       "546"
      ],
      "text/latex": [
       "546"
      ],
      "text/markdown": [
       "546"
      ],
      "text/plain": [
       "[1] 546"
      ]
     },
     "execution_count": 4,
     "metadata": {},
     "output_type": "execute_result"
    }
   ],
   "source": [
    "nrow(key.match)"
   ]
  },
  {
   "cell_type": "code",
   "execution_count": 5,
   "metadata": {
    "collapsed": false
   },
   "outputs": [
    {
     "data": {
      "text/html": [
       "434"
      ],
      "text/latex": [
       "434"
      ],
      "text/markdown": [
       "434"
      ],
      "text/plain": [
       "[1] 434"
      ]
     },
     "execution_count": 5,
     "metadata": {},
     "output_type": "execute_result"
    }
   ],
   "source": [
    "length(unique(key.match$q))"
   ]
  },
  {
   "cell_type": "code",
   "execution_count": 7,
   "metadata": {
    "collapsed": true
   },
   "outputs": [],
   "source": [
    "#bad <- key.match[type == 'A*01:04N']\n",
    "#good <- key.match[type == 'A*01:01']\n",
    "wrong <- c('DPB1*04:01', 'DPB1*126:01')\n",
    "good1 <- key.match[type == wrong[1]]\n",
    "bad1 <- key.match[type == wrong[2]]\n",
    "rest1 <- key.match[!type %in% wrong]\n",
    "good2 <- noncore.match[type == wrong[1]]\n",
    "bad2 <- noncore.match[type == wrong[2]]\n",
    "rest2 <- noncore.match[!type %in% wrong]\n",
    "rest <- rbind(rest1, rest2)"
   ]
  },
  {
   "cell_type": "code",
   "execution_count": 8,
   "metadata": {
    "collapsed": false
   },
   "outputs": [
    {
     "data": {
      "text/html": [
       "<strong>DPB1*105:01:</strong> 23"
      ],
      "text/latex": [
       "\\textbf{DPB1*105:01:} 23"
      ],
      "text/markdown": [
       "**DPB1*105:01:** 23"
      ],
      "text/plain": [
       "DPB1*105:01 \n",
       "         23 "
      ]
     },
     "execution_count": 8,
     "metadata": {},
     "output_type": "execute_result"
    }
   ],
   "source": [
    "sort(table(rest[q %in% c(good1$q, bad1$q), type]))"
   ]
  },
  {
   "cell_type": "code",
   "execution_count": 9,
   "metadata": {
    "collapsed": false
   },
   "outputs": [
    {
     "data": {
      "text/html": [
       "<strong>DPB1*105:01:</strong> 128"
      ],
      "text/latex": [
       "\\textbf{DPB1*105:01:} 128"
      ],
      "text/markdown": [
       "**DPB1*105:01:** 128"
      ],
      "text/plain": [
       "DPB1*105:01 \n",
       "        128 "
      ]
     },
     "execution_count": 9,
     "metadata": {},
     "output_type": "execute_result"
    }
   ],
   "source": [
    "sort(table(rest[q %in% c(good2$q, bad2$q), type]))"
   ]
  },
  {
   "cell_type": "code",
   "execution_count": 10,
   "metadata": {
    "collapsed": false
   },
   "outputs": [
    {
     "data": {
      "text/plain": [
       "\n",
       "E2 \n",
       "36 "
      ]
     },
     "execution_count": 10,
     "metadata": {},
     "output_type": "execute_result"
    }
   ],
   "source": [
    "table(bad1$EXON)"
   ]
  },
  {
   "cell_type": "code",
   "execution_count": 11,
   "metadata": {
    "collapsed": false
   },
   "outputs": [
    {
     "data": {
      "text/plain": [
       "\n",
       "E2 \n",
       "37 "
      ]
     },
     "execution_count": 11,
     "metadata": {},
     "output_type": "execute_result"
    }
   ],
   "source": [
    "table(good1$EXON)"
   ]
  },
  {
   "cell_type": "code",
   "execution_count": 12,
   "metadata": {
    "collapsed": false
   },
   "outputs": [
    {
     "data": {
      "text/plain": [
       "\n",
       "E3 \n",
       "44 "
      ]
     },
     "execution_count": 12,
     "metadata": {},
     "output_type": "execute_result"
    },
    {
     "data": {
      "text/plain": [
       "\n",
       "E1 E3 E4 \n",
       "43 50 35 "
      ]
     },
     "execution_count": 12,
     "metadata": {},
     "output_type": "execute_result"
    }
   ],
   "source": [
    "table(bad2$EXON)\n",
    "table(good2$EXON)"
   ]
  },
  {
   "cell_type": "code",
   "execution_count": 13,
   "metadata": {
    "collapsed": false
   },
   "outputs": [],
   "source": [
    "good <- good2[EXON == 'E3'][order(ts), .(ts, te, q)]"
   ]
  },
  {
   "cell_type": "code",
   "execution_count": 14,
   "metadata": {
    "collapsed": false
   },
   "outputs": [],
   "source": [
    "bad <- bad2[EXON == 'E3'][order(ts), .(ts, te, q)]"
   ]
  },
  {
   "cell_type": "code",
   "execution_count": 16,
   "metadata": {
    "collapsed": false
   },
   "outputs": [],
   "source": [
    "library(IRanges)"
   ]
  },
  {
   "cell_type": "code",
   "execution_count": 17,
   "metadata": {
    "collapsed": true
   },
   "outputs": [],
   "source": [
    "ir.good <- IRanges(good$ts, good$te, names = good$q)\n",
    "good.col <- ifelse(names(ir.good) %in% rest$q, 'gray50', 'black')"
   ]
  },
  {
   "cell_type": "code",
   "execution_count": 18,
   "metadata": {
    "collapsed": true
   },
   "outputs": [],
   "source": [
    "ir.bad <- IRanges(bad$ts, bad$te, names = bad$q)\n",
    "bad.col <- ifelse(names(ir.bad) %in% rest$q, 'gray50', 'black')"
   ]
  },
  {
   "cell_type": "code",
   "execution_count": 19,
   "metadata": {
    "collapsed": true
   },
   "outputs": [],
   "source": [
    "plotRanges <- function(x, xlim = x, main = deparse(substitute(x)), col = \"black\", sep = 0.5, ...)\n",
    " {\n",
    " height <- 1\n",
    " if (is(xlim, \"Ranges\"))\n",
    " xlim <- c(0, max(end(xlim)))\n",
    " bins <- disjointBins(IRanges(start(x), end(x) + 1))\n",
    " plot.new()\n",
    " plot.window(xlim, c(0, max(bins)*(height + sep)))\n",
    " ybottom <- bins * (sep + height) - height\n",
    " rect(start(x)-0.5, ybottom, end(x)+0.5, ybottom + height, col = col, ...)\n",
    " title(main)\n",
    " axis(1)\n",
    " }"
   ]
  },
  {
   "cell_type": "code",
   "execution_count": 20,
   "metadata": {
    "collapsed": false
   },
   "outputs": [
    {
     "data": {
      "image/png": "[encoded data removed]",
      "image/svg+xml": [
       "<?xml version=\"1.0\" encoding=\"UTF-8\"?>\n",
       "<svg xmlns=\"http://www.w3.org/2000/svg\" xmlns:xlink=\"http://www.w3.org/1999/xlink\" width=\"504pt\" height=\"504pt\" viewBox=\"0 0 504 504\" version=\"1.1\">\n",
       "<defs>\n",
       "<g>\n",
       "<symbol overflow=\"visible\" id=\"glyph0-0\">\n",
       "<path style=\"stroke:none;\" d=\"\"/>\n",
       "</symbol>\n",
       "<symbol overflow=\"visible\" id=\"glyph0-1\">\n",
       "<path style=\"stroke:none;\" d=\"M 2.984375 -7.78125 L 0.96875 -7.78125 L 0.96875 0 L 2.984375 0 Z M 2.984375 -10.5 L 0.96875 -10.5 L 0.96875 -8.703125 L 2.984375 -8.703125 Z M 2.984375 -10.5 \"/>\n",
       "</symbol>\n",
       "<symbol overflow=\"visible\" id=\"glyph0-2\">\n",
       "<path style=\"stroke:none;\" d=\"M 0.90625 -7.78125 L 0.90625 0 L 2.921875 0 L 2.921875 -4.140625 C 2.921875 -5.3125 3.515625 -5.90625 4.703125 -5.90625 C 4.90625 -5.90625 5.0625 -5.890625 5.328125 -5.84375 L 5.328125 -7.890625 C 5.21875 -7.90625 5.140625 -7.90625 5.078125 -7.90625 C 4.15625 -7.90625 3.359375 -7.296875 2.921875 -6.25 L 2.921875 -7.78125 Z M 0.90625 -7.78125 \"/>\n",
       "</symbol>\n",
       "<symbol overflow=\"visible\" id=\"glyph0-3\">\n",
       "<path style=\"stroke:none;\" d=\"M 3.078125 -2.109375 L 0.921875 -2.109375 L 0.921875 0 L 3.078125 0 Z M 3.078125 -2.109375 \"/>\n",
       "</symbol>\n",
       "<symbol overflow=\"visible\" id=\"glyph0-4\">\n",
       "<path style=\"stroke:none;\" d=\"M 5.875 -7.78125 L 5.875 -6.578125 C 5.265625 -7.5 4.609375 -7.90625 3.71875 -7.90625 C 1.875 -7.90625 0.484375 -6.109375 0.484375 -3.703125 C 0.484375 -1.28125 1.75 0.328125 3.671875 0.328125 C 4.578125 0.328125 5.125 0.0625 5.875 -0.796875 L 5.875 0.265625 C 5.875 1.203125 5.171875 1.84375 4.15625 1.84375 C 3.40625 1.84375 2.890625 1.53125 2.734375 0.9375 L 0.640625 0.9375 C 0.65625 1.546875 0.890625 1.953125 1.40625 2.390625 C 2.03125 2.890625 2.890625 3.140625 4.09375 3.140625 C 6.4375 3.140625 7.796875 2.09375 7.796875 0.265625 L 7.796875 -7.78125 Z M 4.15625 -6.21875 C 5.15625 -6.21875 5.90625 -5.171875 5.90625 -3.734375 C 5.90625 -2.3125 5.171875 -1.359375 4.125 -1.359375 C 3.171875 -1.359375 2.5 -2.3125 2.5 -3.734375 C 2.5 -5.203125 3.171875 -6.21875 4.15625 -6.21875 Z M 4.15625 -6.21875 \"/>\n",
       "</symbol>\n",
       "<symbol overflow=\"visible\" id=\"glyph0-5\">\n",
       "<path style=\"stroke:none;\" d=\"M 4.34375 -7.90625 C 1.953125 -7.90625 0.5 -6.34375 0.5 -3.78125 C 0.5 -1.21875 1.953125 0.328125 4.34375 0.328125 C 6.71875 0.328125 8.203125 -1.234375 8.203125 -3.734375 C 8.203125 -6.375 6.765625 -7.90625 4.34375 -7.90625 Z M 4.34375 -6.28125 C 5.453125 -6.28125 6.1875 -5.28125 6.1875 -3.765625 C 6.1875 -2.3125 5.4375 -1.296875 4.34375 -1.296875 C 3.25 -1.296875 2.515625 -2.3125 2.515625 -3.78125 C 2.515625 -5.265625 3.25 -6.28125 4.34375 -6.28125 Z M 4.34375 -6.28125 \"/>\n",
       "</symbol>\n",
       "<symbol overflow=\"visible\" id=\"glyph0-6\">\n",
       "<path style=\"stroke:none;\" d=\"M 5.828125 0 L 7.84375 0 L 7.84375 -10.5 L 5.828125 -10.5 L 5.828125 -6.765625 C 5.328125 -7.546875 4.65625 -7.90625 3.6875 -7.90625 C 1.828125 -7.90625 0.421875 -6.125 0.421875 -3.78125 C 0.421875 -2.71875 0.734375 -1.65625 1.25 -0.90625 C 1.78125 -0.15625 2.734375 0.328125 3.6875 0.328125 C 4.65625 0.328125 5.328125 -0.03125 5.828125 -0.796875 Z M 4.140625 -6.21875 C 5.15625 -6.21875 5.828125 -5.234375 5.828125 -3.75 C 5.828125 -2.328125 5.140625 -1.359375 4.140625 -1.359375 C 3.125 -1.359375 2.4375 -2.34375 2.4375 -3.78125 C 2.4375 -5.21875 3.125 -6.21875 4.140625 -6.21875 Z M 4.140625 -6.21875 \"/>\n",
       "</symbol>\n",
       "<symbol overflow=\"visible\" id=\"glyph1-0\">\n",
       "<path style=\"stroke:none;\" d=\"\"/>\n",
       "</symbol>\n",
       "<symbol overflow=\"visible\" id=\"glyph1-1\">\n",
       "<path style=\"stroke:none;\" d=\"M 3.296875 -8.515625 C 2.515625 -8.515625 1.78125 -8.15625 1.34375 -7.578125 C 0.796875 -6.828125 0.515625 -5.6875 0.515625 -4.109375 C 0.515625 -1.25 1.46875 0.28125 3.296875 0.28125 C 5.09375 0.28125 6.078125 -1.25 6.078125 -4.046875 C 6.078125 -5.703125 5.8125 -6.796875 5.25 -7.578125 C 4.8125 -8.171875 4.109375 -8.515625 3.296875 -8.515625 Z M 3.296875 -7.578125 C 4.4375 -7.578125 5 -6.421875 5 -4.140625 C 5 -1.734375 4.453125 -0.59375 3.28125 -0.59375 C 2.15625 -0.59375 1.59375 -1.78125 1.59375 -4.109375 C 1.59375 -6.4375 2.15625 -7.578125 3.296875 -7.578125 Z M 3.296875 -7.578125 \"/>\n",
       "</symbol>\n",
       "<symbol overflow=\"visible\" id=\"glyph1-2\">\n",
       "<path style=\"stroke:none;\" d=\"M 6.078125 -1.046875 L 1.59375 -1.046875 C 1.703125 -1.734375 2.09375 -2.1875 3.125 -2.796875 L 4.328125 -3.4375 C 5.515625 -4.09375 6.125 -4.96875 6.125 -6.015625 C 6.125 -6.71875 5.84375 -7.375 5.34375 -7.84375 C 4.84375 -8.296875 4.21875 -8.515625 3.40625 -8.515625 C 2.328125 -8.515625 1.53125 -8.125 1.0625 -7.40625 C 0.75 -6.953125 0.625 -6.421875 0.59375 -5.5625 L 1.65625 -5.5625 C 1.6875 -6.125 1.765625 -6.484375 1.90625 -6.75 C 2.1875 -7.265625 2.734375 -7.578125 3.375 -7.578125 C 4.328125 -7.578125 5.046875 -6.90625 5.046875 -5.984375 C 5.046875 -5.3125 4.65625 -4.734375 3.90625 -4.3125 L 2.796875 -3.6875 C 1.015625 -2.671875 0.5 -1.875 0.40625 0 L 6.078125 0 Z M 6.078125 -1.046875 \"/>\n",
       "</symbol>\n",
       "<symbol overflow=\"visible\" id=\"glyph1-3\">\n",
       "<path style=\"stroke:none;\" d=\"M 3.921875 -2.046875 L 3.921875 0 L 4.984375 0 L 4.984375 -2.046875 L 6.234375 -2.046875 L 6.234375 -2.984375 L 4.984375 -2.984375 L 4.984375 -8.515625 L 4.203125 -8.515625 L 0.34375 -3.15625 L 0.34375 -2.046875 Z M 3.921875 -2.984375 L 1.265625 -2.984375 L 3.921875 -6.703125 Z M 3.921875 -2.984375 \"/>\n",
       "</symbol>\n",
       "<symbol overflow=\"visible\" id=\"glyph1-4\">\n",
       "<path style=\"stroke:none;\" d=\"M 5.96875 -6.28125 C 5.765625 -7.6875 4.859375 -8.515625 3.5625 -8.515625 C 2.625 -8.515625 1.78125 -8.046875 1.28125 -7.296875 C 0.75 -6.46875 0.515625 -5.421875 0.515625 -3.875 C 0.515625 -2.453125 0.734375 -1.53125 1.234375 -0.78125 C 1.6875 -0.09375 2.4375 0.28125 3.375 0.28125 C 4.984375 0.28125 6.15625 -0.921875 6.15625 -2.59375 C 6.15625 -4.171875 5.078125 -5.296875 3.546875 -5.296875 C 2.71875 -5.296875 2.046875 -4.96875 1.59375 -4.34375 C 1.609375 -6.421875 2.28125 -7.578125 3.484375 -7.578125 C 4.234375 -7.578125 4.75 -7.109375 4.921875 -6.28125 Z M 3.421875 -4.359375 C 4.4375 -4.359375 5.078125 -3.640625 5.078125 -2.515625 C 5.078125 -1.4375 4.359375 -0.65625 3.390625 -0.65625 C 2.40625 -0.65625 1.65625 -1.46875 1.65625 -2.5625 C 1.65625 -3.625 2.375 -4.359375 3.421875 -4.359375 Z M 3.421875 -4.359375 \"/>\n",
       "</symbol>\n",
       "<symbol overflow=\"visible\" id=\"glyph1-5\">\n",
       "<path style=\"stroke:none;\" d=\"M 4.6875 -4.46875 C 5.5625 -5 5.859375 -5.4375 5.859375 -6.234375 C 5.859375 -7.578125 4.8125 -8.515625 3.296875 -8.515625 C 1.796875 -8.515625 0.75 -7.578125 0.75 -6.234375 C 0.75 -5.453125 1.03125 -5.015625 1.890625 -4.46875 C 0.921875 -4.015625 0.4375 -3.296875 0.4375 -2.359375 C 0.4375 -0.796875 1.625 0.28125 3.296875 0.28125 C 4.984375 0.28125 6.15625 -0.796875 6.15625 -2.359375 C 6.15625 -3.296875 5.671875 -4.015625 4.6875 -4.46875 Z M 3.296875 -7.578125 C 4.203125 -7.578125 4.78125 -7.046875 4.78125 -6.21875 C 4.78125 -5.421875 4.1875 -4.890625 3.296875 -4.890625 C 2.40625 -4.890625 1.828125 -5.421875 1.828125 -6.234375 C 1.828125 -7.046875 2.40625 -7.578125 3.296875 -7.578125 Z M 3.296875 -4.015625 C 4.359375 -4.015625 5.078125 -3.34375 5.078125 -2.34375 C 5.078125 -1.328125 4.359375 -0.65625 3.28125 -0.65625 C 2.25 -0.65625 1.53125 -1.34375 1.53125 -2.34375 C 1.53125 -3.34375 2.25 -4.015625 3.296875 -4.015625 Z M 3.296875 -4.015625 \"/>\n",
       "</symbol>\n",
       "</g>\n",
       "</defs>\n",
       "<g id=\"surface19\">\n",
       "<rect x=\"0\" y=\"0\" width=\"504\" height=\"504\" style=\"fill:rgb(100%,100%,100%);fill-opacity:1;stroke:none;\"/>\n",
       "<path style=\"fill-rule:nonzero;fill:rgb(49.803922%,49.803922%,49.803922%);fill-opacity:1;stroke-width:0.75;stroke-linecap:round;stroke-linejoin:round;stroke:rgb(0%,0%,0%);stroke-opacity:1;stroke-miterlimit:10;\" d=\"M 76.464844 412.214844 L 270.53125 412.214844 L 270.53125 403.042969 L 76.464844 403.042969 Z M 76.464844 412.214844 \"/>\n",
       "<path style=\"fill-rule:nonzero;fill:rgb(49.803922%,49.803922%,49.803922%);fill-opacity:1;stroke-width:0.75;stroke-linecap:round;stroke-linejoin:round;stroke:rgb(0%,0%,0%);stroke-opacity:1;stroke-miterlimit:10;\" d=\"M 76.464844 398.453125 L 121.882812 398.453125 L 121.882812 389.28125 L 76.464844 389.28125 Z M 76.464844 398.453125 \"/>\n",
       "<path style=\"fill-rule:nonzero;fill:rgb(49.803922%,49.803922%,49.803922%);fill-opacity:1;stroke-width:0.75;stroke-linecap:round;stroke-linejoin:round;stroke:rgb(0%,0%,0%);stroke-opacity:1;stroke-miterlimit:10;\" d=\"M 76.464844 384.691406 L 159.046875 384.691406 L 159.046875 375.519531 L 76.464844 375.519531 Z M 76.464844 384.691406 \"/>\n",
       "<path style=\"fill-rule:nonzero;fill:rgb(49.803922%,49.803922%,49.803922%);fill-opacity:1;stroke-width:0.75;stroke-linecap:round;stroke-linejoin:round;stroke:rgb(0%,0%,0%);stroke-opacity:1;stroke-miterlimit:10;\" d=\"M 76.464844 370.933594 L 126.011719 370.933594 L 126.011719 361.761719 L 76.464844 361.761719 Z M 76.464844 370.933594 \"/>\n",
       "<path style=\"fill-rule:nonzero;fill:rgb(49.803922%,49.803922%,49.803922%);fill-opacity:1;stroke-width:0.75;stroke-linecap:round;stroke-linejoin:round;stroke:rgb(0%,0%,0%);stroke-opacity:1;stroke-miterlimit:10;\" d=\"M 76.464844 357.171875 L 171.433594 357.171875 L 171.433594 348 L 76.464844 348 Z M 76.464844 357.171875 \"/>\n",
       "<path style=\"fill-rule:nonzero;fill:rgb(49.803922%,49.803922%,49.803922%);fill-opacity:1;stroke-width:0.75;stroke-linecap:round;stroke-linejoin:round;stroke:rgb(0%,0%,0%);stroke-opacity:1;stroke-miterlimit:10;\" d=\"M 76.464844 343.414062 L 208.59375 343.414062 L 208.59375 334.242188 L 76.464844 334.242188 Z M 76.464844 343.414062 \"/>\n",
       "<path style=\"fill-rule:nonzero;fill:rgb(49.803922%,49.803922%,49.803922%);fill-opacity:1;stroke-width:0.75;stroke-linecap:round;stroke-linejoin:round;stroke:rgb(0%,0%,0%);stroke-opacity:1;stroke-miterlimit:10;\" d=\"M 76.464844 329.652344 L 142.53125 329.652344 L 142.53125 320.480469 L 76.464844 320.480469 Z M 76.464844 329.652344 \"/>\n",
       "<path style=\"fill-rule:nonzero;fill:rgb(49.803922%,49.803922%,49.803922%);fill-opacity:1;stroke-width:0.75;stroke-linecap:round;stroke-linejoin:round;stroke:rgb(0%,0%,0%);stroke-opacity:1;stroke-miterlimit:10;\" d=\"M 76.464844 315.894531 L 187.949219 315.894531 L 187.949219 306.722656 L 76.464844 306.722656 Z M 76.464844 315.894531 \"/>\n",
       "<path style=\"fill-rule:nonzero;fill:rgb(49.803922%,49.803922%,49.803922%);fill-opacity:1;stroke-width:0.75;stroke-linecap:round;stroke-linejoin:round;stroke:rgb(0%,0%,0%);stroke-opacity:1;stroke-miterlimit:10;\" d=\"M 76.464844 302.132812 L 208.59375 302.132812 L 208.59375 292.960938 L 76.464844 292.960938 Z M 76.464844 302.132812 \"/>\n",
       "<path style=\"fill-rule:nonzero;fill:rgb(49.803922%,49.803922%,49.803922%);fill-opacity:1;stroke-width:0.75;stroke-linecap:round;stroke-linejoin:round;stroke:rgb(0%,0%,0%);stroke-opacity:1;stroke-miterlimit:10;\" d=\"M 76.464844 288.375 L 262.269531 288.375 L 262.269531 279.203125 L 76.464844 279.203125 Z M 76.464844 288.375 \"/>\n",
       "<path style=\"fill-rule:nonzero;fill:rgb(49.803922%,49.803922%,49.803922%);fill-opacity:1;stroke-width:0.75;stroke-linecap:round;stroke-linejoin:round;stroke:rgb(0%,0%,0%);stroke-opacity:1;stroke-miterlimit:10;\" d=\"M 76.464844 274.613281 L 278.789062 274.613281 L 278.789062 265.441406 L 76.464844 265.441406 Z M 76.464844 274.613281 \"/>\n",
       "<path style=\"fill-rule:nonzero;fill:rgb(49.803922%,49.803922%,49.803922%);fill-opacity:1;stroke-width:0.75;stroke-linecap:round;stroke-linejoin:round;stroke:rgb(0%,0%,0%);stroke-opacity:1;stroke-miterlimit:10;\" d=\"M 76.464844 260.851562 L 225.109375 260.851562 L 225.109375 251.679688 L 76.464844 251.679688 Z M 76.464844 260.851562 \"/>\n",
       "<path style=\"fill-rule:nonzero;fill:rgb(49.803922%,49.803922%,49.803922%);fill-opacity:1;stroke-width:0.75;stroke-linecap:round;stroke-linejoin:round;stroke:rgb(0%,0%,0%);stroke-opacity:1;stroke-miterlimit:10;\" d=\"M 76.464844 247.09375 L 249.882812 247.09375 L 249.882812 237.921875 L 76.464844 237.921875 Z M 76.464844 247.09375 \"/>\n",
       "<path style=\"fill-rule:nonzero;fill:rgb(49.803922%,49.803922%,49.803922%);fill-opacity:1;stroke-width:0.75;stroke-linecap:round;stroke-linejoin:round;stroke:rgb(0%,0%,0%);stroke-opacity:1;stroke-miterlimit:10;\" d=\"M 76.464844 233.332031 L 121.882812 233.332031 L 121.882812 224.160156 L 76.464844 224.160156 Z M 76.464844 233.332031 \"/>\n",
       "<path style=\"fill-rule:nonzero;fill:rgb(49.803922%,49.803922%,49.803922%);fill-opacity:1;stroke-width:0.75;stroke-linecap:round;stroke-linejoin:round;stroke:rgb(0%,0%,0%);stroke-opacity:1;stroke-miterlimit:10;\" d=\"M 76.464844 219.574219 L 278.789062 219.574219 L 278.789062 210.402344 L 76.464844 210.402344 Z M 76.464844 219.574219 \"/>\n",
       "<path style=\"fill-rule:nonzero;fill:rgb(49.803922%,49.803922%,49.803922%);fill-opacity:1;stroke-width:0.75;stroke-linecap:round;stroke-linejoin:round;stroke:rgb(0%,0%,0%);stroke-opacity:1;stroke-miterlimit:10;\" d=\"M 76.464844 205.8125 L 138.398438 205.8125 L 138.398438 196.640625 L 76.464844 196.640625 Z M 76.464844 205.8125 \"/>\n",
       "<path style=\"fill-rule:nonzero;fill:rgb(49.803922%,49.803922%,49.803922%);fill-opacity:1;stroke-width:0.75;stroke-linecap:round;stroke-linejoin:round;stroke:rgb(0%,0%,0%);stroke-opacity:1;stroke-miterlimit:10;\" d=\"M 76.464844 192.054688 L 237.496094 192.054688 L 237.496094 182.882812 L 76.464844 182.882812 Z M 76.464844 192.054688 \"/>\n",
       "<path style=\"fill-rule:nonzero;fill:rgb(49.803922%,49.803922%,49.803922%);fill-opacity:1;stroke-width:0.75;stroke-linecap:round;stroke-linejoin:round;stroke:rgb(0%,0%,0%);stroke-opacity:1;stroke-miterlimit:10;\" d=\"M 76.464844 178.292969 L 183.820312 178.292969 L 183.820312 169.121094 L 76.464844 169.121094 Z M 76.464844 178.292969 \"/>\n",
       "<path style=\"fill-rule:nonzero;fill:rgb(49.803922%,49.803922%,49.803922%);fill-opacity:1;stroke-width:0.75;stroke-linecap:round;stroke-linejoin:round;stroke:rgb(0%,0%,0%);stroke-opacity:1;stroke-miterlimit:10;\" d=\"M 76.464844 164.535156 L 266.398438 164.535156 L 266.398438 155.363281 L 76.464844 155.363281 Z M 76.464844 164.535156 \"/>\n",
       "<path style=\"fill-rule:nonzero;fill:rgb(49.803922%,49.803922%,49.803922%);fill-opacity:1;stroke-width:0.75;stroke-linecap:round;stroke-linejoin:round;stroke:rgb(0%,0%,0%);stroke-opacity:1;stroke-miterlimit:10;\" d=\"M 76.464844 150.773438 L 175.5625 150.773438 L 175.5625 141.601562 L 76.464844 141.601562 Z M 76.464844 150.773438 \"/>\n",
       "<path style=\"fill-rule:nonzero;fill:rgb(49.803922%,49.803922%,49.803922%);fill-opacity:1;stroke-width:0.75;stroke-linecap:round;stroke-linejoin:round;stroke:rgb(0%,0%,0%);stroke-opacity:1;stroke-miterlimit:10;\" d=\"M 76.464844 137.011719 L 208.59375 137.011719 L 208.59375 127.839844 L 76.464844 127.839844 Z M 76.464844 137.011719 \"/>\n",
       "<path style=\"fill-rule:nonzero;fill:rgb(49.803922%,49.803922%,49.803922%);fill-opacity:1;stroke-width:0.75;stroke-linecap:round;stroke-linejoin:round;stroke:rgb(0%,0%,0%);stroke-opacity:1;stroke-miterlimit:10;\" d=\"M 76.464844 123.253906 L 175.5625 123.253906 L 175.5625 114.082031 L 76.464844 114.082031 Z M 76.464844 123.253906 \"/>\n",
       "<path style=\"fill-rule:nonzero;fill:rgb(49.803922%,49.803922%,49.803922%);fill-opacity:1;stroke-width:0.75;stroke-linecap:round;stroke-linejoin:round;stroke:rgb(0%,0%,0%);stroke-opacity:1;stroke-miterlimit:10;\" d=\"M 88.851562 109.492188 L 291.175781 109.492188 L 291.175781 100.320312 L 88.851562 100.320312 Z M 88.851562 109.492188 \"/>\n",
       "<path style=\"fill-rule:nonzero;fill:rgb(49.803922%,49.803922%,49.803922%);fill-opacity:1;stroke-width:0.75;stroke-linecap:round;stroke-linejoin:round;stroke:rgb(0%,0%,0%);stroke-opacity:1;stroke-miterlimit:10;\" d=\"M 88.851562 95.734375 L 266.398438 95.734375 L 266.398438 86.5625 L 88.851562 86.5625 Z M 88.851562 95.734375 \"/>\n",
       "<path style=\"fill-rule:nonzero;fill:rgb(49.803922%,49.803922%,49.803922%);fill-opacity:1;stroke-width:0.75;stroke-linecap:round;stroke-linejoin:round;stroke:rgb(0%,0%,0%);stroke-opacity:1;stroke-miterlimit:10;\" d=\"M 105.367188 81.972656 L 307.691406 81.972656 L 307.691406 72.800781 L 105.367188 72.800781 Z M 105.367188 81.972656 \"/>\n",
       "<path style=\"fill-rule:nonzero;fill:rgb(49.803922%,49.803922%,49.803922%);fill-opacity:1;stroke-width:0.75;stroke-linecap:round;stroke-linejoin:round;stroke:rgb(0%,0%,0%);stroke-opacity:1;stroke-miterlimit:10;\" d=\"M 130.140625 398.453125 L 324.207031 398.453125 L 324.207031 389.28125 L 130.140625 389.28125 Z M 130.140625 398.453125 \"/>\n",
       "<path style=\"fill-rule:nonzero;fill:rgb(49.803922%,49.803922%,49.803922%);fill-opacity:1;stroke-width:0.75;stroke-linecap:round;stroke-linejoin:round;stroke:rgb(0%,0%,0%);stroke-opacity:1;stroke-miterlimit:10;\" d=\"M 163.175781 384.691406 L 365.5 384.691406 L 365.5 375.519531 L 163.175781 375.519531 Z M 163.175781 384.691406 \"/>\n",
       "<path style=\"fill-rule:nonzero;fill:rgb(49.803922%,49.803922%,49.803922%);fill-opacity:1;stroke-width:0.75;stroke-linecap:round;stroke-linejoin:round;stroke:rgb(0%,0%,0%);stroke-opacity:1;stroke-miterlimit:10;\" d=\"M 187.949219 370.933594 L 390.273438 370.933594 L 390.273438 361.761719 L 187.949219 361.761719 Z M 187.949219 370.933594 \"/>\n",
       "<path style=\"fill-rule:nonzero;fill:rgb(49.803922%,49.803922%,49.803922%);fill-opacity:1;stroke-width:0.75;stroke-linecap:round;stroke-linejoin:round;stroke:rgb(0%,0%,0%);stroke-opacity:1;stroke-miterlimit:10;\" d=\"M 196.207031 357.171875 L 398.53125 357.171875 L 398.53125 348 L 196.207031 348 Z M 196.207031 357.171875 \"/>\n",
       "<path style=\"fill-rule:nonzero;fill:rgb(49.803922%,49.803922%,49.803922%);fill-opacity:1;stroke-width:0.75;stroke-linecap:round;stroke-linejoin:round;stroke:rgb(0%,0%,0%);stroke-opacity:1;stroke-miterlimit:10;\" d=\"M 212.722656 343.414062 L 419.175781 343.414062 L 419.175781 334.242188 L 212.722656 334.242188 Z M 212.722656 343.414062 \"/>\n",
       "<path style=\"fill-rule:nonzero;fill:rgb(49.803922%,49.803922%,49.803922%);fill-opacity:1;stroke-width:0.75;stroke-linecap:round;stroke-linejoin:round;stroke:rgb(0%,0%,0%);stroke-opacity:1;stroke-miterlimit:10;\" d=\"M 216.851562 329.652344 L 423.304688 329.652344 L 423.304688 320.480469 L 216.851562 320.480469 Z M 216.851562 329.652344 \"/>\n",
       "<path style=\"fill-rule:nonzero;fill:rgb(49.803922%,49.803922%,49.803922%);fill-opacity:1;stroke-width:0.75;stroke-linecap:round;stroke-linejoin:round;stroke:rgb(0%,0%,0%);stroke-opacity:1;stroke-miterlimit:10;\" d=\"M 229.238281 315.894531 L 427.433594 315.894531 L 427.433594 306.722656 L 229.238281 306.722656 Z M 229.238281 315.894531 \"/>\n",
       "<path style=\"fill-rule:nonzero;fill:rgb(49.803922%,49.803922%,49.803922%);fill-opacity:1;stroke-width:0.75;stroke-linecap:round;stroke-linejoin:round;stroke:rgb(0%,0%,0%);stroke-opacity:1;stroke-miterlimit:10;\" d=\"M 229.238281 302.132812 L 431.5625 302.132812 L 431.5625 292.960938 L 229.238281 292.960938 Z M 229.238281 302.132812 \"/>\n",
       "<path style=\"fill-rule:nonzero;fill:rgb(49.803922%,49.803922%,49.803922%);fill-opacity:1;stroke-width:0.75;stroke-linecap:round;stroke-linejoin:round;stroke:rgb(0%,0%,0%);stroke-opacity:1;stroke-miterlimit:10;\" d=\"M 270.527344 288.375 L 460.460938 288.375 L 460.460938 279.203125 L 270.527344 279.203125 Z M 270.527344 288.375 \"/>\n",
       "<path style=\"fill-rule:nonzero;fill:rgb(49.803922%,49.803922%,49.803922%);fill-opacity:1;stroke-width:0.75;stroke-linecap:round;stroke-linejoin:round;stroke:rgb(0%,0%,0%);stroke-opacity:1;stroke-miterlimit:10;\" d=\"M 353.109375 412.214844 L 460.464844 412.214844 L 460.464844 403.042969 L 353.109375 403.042969 Z M 353.109375 412.214844 \"/>\n",
       "<path style=\"fill-rule:nonzero;fill:rgb(49.803922%,49.803922%,49.803922%);fill-opacity:1;stroke-width:0.75;stroke-linecap:round;stroke-linejoin:round;stroke:rgb(0%,0%,0%);stroke-opacity:1;stroke-miterlimit:10;\" d=\"M 361.367188 398.453125 L 460.464844 398.453125 L 460.464844 389.28125 L 361.367188 389.28125 Z M 361.367188 398.453125 \"/>\n",
       "<path style=\"fill-rule:nonzero;fill:rgb(49.803922%,49.803922%,49.803922%);fill-opacity:1;stroke-width:0.75;stroke-linecap:round;stroke-linejoin:round;stroke:rgb(0%,0%,0%);stroke-opacity:1;stroke-miterlimit:10;\" d=\"M 361.367188 274.613281 L 460.464844 274.613281 L 460.464844 265.441406 L 361.367188 265.441406 Z M 361.367188 274.613281 \"/>\n",
       "<path style=\"fill-rule:nonzero;fill:rgb(49.803922%,49.803922%,49.803922%);fill-opacity:1;stroke-width:0.75;stroke-linecap:round;stroke-linejoin:round;stroke:rgb(0%,0%,0%);stroke-opacity:1;stroke-miterlimit:10;\" d=\"M 369.625 384.691406 L 460.464844 384.691406 L 460.464844 375.519531 L 369.625 375.519531 Z M 369.625 384.691406 \"/>\n",
       "<path style=\"fill-rule:nonzero;fill:rgb(49.803922%,49.803922%,49.803922%);fill-opacity:1;stroke-width:0.75;stroke-linecap:round;stroke-linejoin:round;stroke:rgb(0%,0%,0%);stroke-opacity:1;stroke-miterlimit:10;\" d=\"M 373.753906 260.851562 L 460.464844 260.851562 L 460.464844 251.679688 L 373.753906 251.679688 Z M 373.753906 260.851562 \"/>\n",
       "<path style=\"fill-rule:nonzero;fill:rgb(49.803922%,49.803922%,49.803922%);fill-opacity:1;stroke-width:0.75;stroke-linecap:round;stroke-linejoin:round;stroke:rgb(0%,0%,0%);stroke-opacity:1;stroke-miterlimit:10;\" d=\"M 390.269531 247.09375 L 460.464844 247.09375 L 460.464844 237.921875 L 390.269531 237.921875 Z M 390.269531 247.09375 \"/>\n",
       "<path style=\"fill-rule:nonzero;fill:rgb(49.803922%,49.803922%,49.803922%);fill-opacity:1;stroke-width:0.75;stroke-linecap:round;stroke-linejoin:round;stroke:rgb(0%,0%,0%);stroke-opacity:1;stroke-miterlimit:10;\" d=\"M 390.269531 233.332031 L 460.464844 233.332031 L 460.464844 224.160156 L 390.269531 224.160156 Z M 390.269531 233.332031 \"/>\n",
       "<path style=\"fill-rule:nonzero;fill:rgb(49.803922%,49.803922%,49.803922%);fill-opacity:1;stroke-width:0.75;stroke-linecap:round;stroke-linejoin:round;stroke:rgb(0%,0%,0%);stroke-opacity:1;stroke-miterlimit:10;\" d=\"M 390.269531 219.574219 L 460.464844 219.574219 L 460.464844 210.402344 L 390.269531 210.402344 Z M 390.269531 219.574219 \"/>\n",
       "<path style=\"fill-rule:nonzero;fill:rgb(49.803922%,49.803922%,49.803922%);fill-opacity:1;stroke-width:0.75;stroke-linecap:round;stroke-linejoin:round;stroke:rgb(0%,0%,0%);stroke-opacity:1;stroke-miterlimit:10;\" d=\"M 390.269531 205.8125 L 460.464844 205.8125 L 460.464844 196.640625 L 390.269531 196.640625 Z M 390.269531 205.8125 \"/>\n",
       "<path style=\"fill-rule:nonzero;fill:rgb(49.803922%,49.803922%,49.803922%);fill-opacity:1;stroke-width:0.75;stroke-linecap:round;stroke-linejoin:round;stroke:rgb(0%,0%,0%);stroke-opacity:1;stroke-miterlimit:10;\" d=\"M 394.398438 370.933594 L 460.464844 370.933594 L 460.464844 361.761719 L 394.398438 361.761719 Z M 394.398438 370.933594 \"/>\n",
       "<path style=\"fill-rule:nonzero;fill:rgb(49.803922%,49.803922%,49.803922%);fill-opacity:1;stroke-width:0.75;stroke-linecap:round;stroke-linejoin:round;stroke:rgb(0%,0%,0%);stroke-opacity:1;stroke-miterlimit:10;\" d=\"M 402.65625 357.171875 L 460.460938 357.171875 L 460.460938 348 L 402.65625 348 Z M 402.65625 357.171875 \"/>\n",
       "<path style=\"fill-rule:nonzero;fill:rgb(49.803922%,49.803922%,49.803922%);fill-opacity:1;stroke-width:0.75;stroke-linecap:round;stroke-linejoin:round;stroke:rgb(0%,0%,0%);stroke-opacity:1;stroke-miterlimit:10;\" d=\"M 410.917969 192.054688 L 460.464844 192.054688 L 460.464844 182.882812 L 410.917969 182.882812 Z M 410.917969 192.054688 \"/>\n",
       "<path style=\"fill-rule:nonzero;fill:rgb(49.803922%,49.803922%,49.803922%);fill-opacity:1;stroke-width:0.75;stroke-linecap:round;stroke-linejoin:round;stroke:rgb(0%,0%,0%);stroke-opacity:1;stroke-miterlimit:10;\" d=\"M 410.917969 178.292969 L 460.464844 178.292969 L 460.464844 169.121094 L 410.917969 169.121094 Z M 410.917969 178.292969 \"/>\n",
       "<path style=\"fill-rule:nonzero;fill:rgb(49.803922%,49.803922%,49.803922%);fill-opacity:1;stroke-width:0.75;stroke-linecap:round;stroke-linejoin:round;stroke:rgb(0%,0%,0%);stroke-opacity:1;stroke-miterlimit:10;\" d=\"M 410.917969 164.535156 L 460.464844 164.535156 L 460.464844 155.363281 L 410.917969 155.363281 Z M 410.917969 164.535156 \"/>\n",
       "<path style=\"fill-rule:nonzero;fill:rgb(49.803922%,49.803922%,49.803922%);fill-opacity:1;stroke-width:0.75;stroke-linecap:round;stroke-linejoin:round;stroke:rgb(0%,0%,0%);stroke-opacity:1;stroke-miterlimit:10;\" d=\"M 415.046875 150.773438 L 460.464844 150.773438 L 460.464844 141.601562 L 415.046875 141.601562 Z M 415.046875 150.773438 \"/>\n",
       "<path style=\"fill-rule:nonzero;fill:rgb(49.803922%,49.803922%,49.803922%);fill-opacity:1;stroke-width:0.75;stroke-linecap:round;stroke-linejoin:round;stroke:rgb(0%,0%,0%);stroke-opacity:1;stroke-miterlimit:10;\" d=\"M 419.175781 137.011719 L 460.464844 137.011719 L 460.464844 127.839844 L 419.175781 127.839844 Z M 419.175781 137.011719 \"/>\n",
       "<g style=\"fill:rgb(0%,0%,0%);fill-opacity:1;\">\n",
       "  <use xlink:href=\"#glyph0-1\" x=\"241.898438\" y=\"34.116211\"/>\n",
       "  <use xlink:href=\"#glyph0-2\" x=\"245.90332\" y=\"34.116211\"/>\n",
       "  <use xlink:href=\"#glyph0-3\" x=\"251.507812\" y=\"34.116211\"/>\n",
       "  <use xlink:href=\"#glyph0-4\" x=\"255.512695\" y=\"34.116211\"/>\n",
       "  <use xlink:href=\"#glyph0-5\" x=\"264.314453\" y=\"34.116211\"/>\n",
       "  <use xlink:href=\"#glyph0-5\" x=\"273.116211\" y=\"34.116211\"/>\n",
       "  <use xlink:href=\"#glyph0-6\" x=\"281.917969\" y=\"34.116211\"/>\n",
       "</g>\n",
       "<path style=\"fill:none;stroke-width:0.75;stroke-linecap:round;stroke-linejoin:round;stroke:rgb(0%,0%,0%);stroke-opacity:1;stroke-miterlimit:10;\" d=\"M 74.398438 430.558594 L 404.722656 430.558594 \"/>\n",
       "<path style=\"fill:none;stroke-width:0.75;stroke-linecap:round;stroke-linejoin:round;stroke:rgb(0%,0%,0%);stroke-opacity:1;stroke-miterlimit:10;\" d=\"M 74.398438 430.558594 L 74.398438 437.761719 \"/>\n",
       "<path style=\"fill:none;stroke-width:0.75;stroke-linecap:round;stroke-linejoin:round;stroke:rgb(0%,0%,0%);stroke-opacity:1;stroke-miterlimit:10;\" d=\"M 156.980469 430.558594 L 156.980469 437.761719 \"/>\n",
       "<path style=\"fill:none;stroke-width:0.75;stroke-linecap:round;stroke-linejoin:round;stroke:rgb(0%,0%,0%);stroke-opacity:1;stroke-miterlimit:10;\" d=\"M 239.5625 430.558594 L 239.5625 437.761719 \"/>\n",
       "<path style=\"fill:none;stroke-width:0.75;stroke-linecap:round;stroke-linejoin:round;stroke:rgb(0%,0%,0%);stroke-opacity:1;stroke-miterlimit:10;\" d=\"M 322.140625 430.558594 L 322.140625 437.761719 \"/>\n",
       "<path style=\"fill:none;stroke-width:0.75;stroke-linecap:round;stroke-linejoin:round;stroke:rgb(0%,0%,0%);stroke-opacity:1;stroke-miterlimit:10;\" d=\"M 404.722656 430.558594 L 404.722656 437.761719 \"/>\n",
       "<g style=\"fill:rgb(0%,0%,0%);fill-opacity:1;\">\n",
       "  <use xlink:href=\"#glyph1-1\" x=\"70.898438\" y=\"455.916016\"/>\n",
       "</g>\n",
       "<g style=\"fill:rgb(0%,0%,0%);fill-opacity:1;\">\n",
       "  <use xlink:href=\"#glyph1-2\" x=\"149.980469\" y=\"455.916016\"/>\n",
       "  <use xlink:href=\"#glyph1-1\" x=\"156.652344\" y=\"455.916016\"/>\n",
       "</g>\n",
       "<g style=\"fill:rgb(0%,0%,0%);fill-opacity:1;\">\n",
       "  <use xlink:href=\"#glyph1-3\" x=\"232.5625\" y=\"455.916016\"/>\n",
       "  <use xlink:href=\"#glyph1-1\" x=\"239.234375\" y=\"455.916016\"/>\n",
       "</g>\n",
       "<g style=\"fill:rgb(0%,0%,0%);fill-opacity:1;\">\n",
       "  <use xlink:href=\"#glyph1-4\" x=\"315.140625\" y=\"455.916016\"/>\n",
       "  <use xlink:href=\"#glyph1-1\" x=\"321.8125\" y=\"455.916016\"/>\n",
       "</g>\n",
       "<g style=\"fill:rgb(0%,0%,0%);fill-opacity:1;\">\n",
       "  <use xlink:href=\"#glyph1-5\" x=\"397.722656\" y=\"455.916016\"/>\n",
       "  <use xlink:href=\"#glyph1-1\" x=\"404.394531\" y=\"455.916016\"/>\n",
       "</g>\n",
       "</g>\n",
       "</svg>\n"
      ],
      "text/plain": [
       "Plot with title “ir.good”"
      ]
     },
     "metadata": {
      "image/svg+xml": {
       "isolated": true
      }
     },
     "output_type": "display_data"
    }
   ],
   "source": [
    "plotRanges(ir.good, col = good.col)"
   ]
  },
  {
   "cell_type": "code",
   "execution_count": 21,
   "metadata": {
    "collapsed": false
   },
   "outputs": [
    {
     "data": {
      "image/png": "[encoded data removed]",
      "image/svg+xml": [
       "<?xml version=\"1.0\" encoding=\"UTF-8\"?>\n",
       "<svg xmlns=\"http://www.w3.org/2000/svg\" xmlns:xlink=\"http://www.w3.org/1999/xlink\" width=\"504pt\" height=\"504pt\" viewBox=\"0 0 504 504\" version=\"1.1\">\n",
       "<defs>\n",
       "<g>\n",
       "<symbol overflow=\"visible\" id=\"glyph0-0\">\n",
       "<path style=\"stroke:none;\" d=\"\"/>\n",
       "</symbol>\n",
       "<symbol overflow=\"visible\" id=\"glyph0-1\">\n",
       "<path style=\"stroke:none;\" d=\"M 2.984375 -7.78125 L 0.96875 -7.78125 L 0.96875 0 L 2.984375 0 Z M 2.984375 -10.5 L 0.96875 -10.5 L 0.96875 -8.703125 L 2.984375 -8.703125 Z M 2.984375 -10.5 \"/>\n",
       "</symbol>\n",
       "<symbol overflow=\"visible\" id=\"glyph0-2\">\n",
       "<path style=\"stroke:none;\" d=\"M 0.90625 -7.78125 L 0.90625 0 L 2.921875 0 L 2.921875 -4.140625 C 2.921875 -5.3125 3.515625 -5.90625 4.703125 -5.90625 C 4.90625 -5.90625 5.0625 -5.890625 5.328125 -5.84375 L 5.328125 -7.890625 C 5.21875 -7.90625 5.140625 -7.90625 5.078125 -7.90625 C 4.15625 -7.90625 3.359375 -7.296875 2.921875 -6.25 L 2.921875 -7.78125 Z M 0.90625 -7.78125 \"/>\n",
       "</symbol>\n",
       "<symbol overflow=\"visible\" id=\"glyph0-3\">\n",
       "<path style=\"stroke:none;\" d=\"M 3.078125 -2.109375 L 0.921875 -2.109375 L 0.921875 0 L 3.078125 0 Z M 3.078125 -2.109375 \"/>\n",
       "</symbol>\n",
       "<symbol overflow=\"visible\" id=\"glyph0-4\">\n",
       "<path style=\"stroke:none;\" d=\"M 0.84375 -10.5 L 0.84375 0 L 2.859375 0 L 2.859375 -0.796875 C 3.359375 -0.03125 4.03125 0.328125 5.015625 0.328125 C 6.875 0.328125 8.28125 -1.4375 8.28125 -3.78125 C 8.28125 -4.84375 7.96875 -5.90625 7.453125 -6.65625 C 6.921875 -7.421875 5.96875 -7.90625 5.015625 -7.90625 C 4.046875 -7.90625 3.359375 -7.546875 2.859375 -6.765625 L 2.859375 -10.5 Z M 4.5625 -6.21875 C 5.5625 -6.21875 6.265625 -5.21875 6.265625 -3.78125 C 6.265625 -2.359375 5.5625 -1.359375 4.5625 -1.359375 C 3.546875 -1.359375 2.859375 -2.328125 2.859375 -3.8125 C 2.859375 -5.234375 3.5625 -6.21875 4.5625 -6.21875 Z M 4.5625 -6.21875 \"/>\n",
       "</symbol>\n",
       "<symbol overflow=\"visible\" id=\"glyph0-5\">\n",
       "<path style=\"stroke:none;\" d=\"M 7.546875 -0.25 C 7.1875 -0.578125 7.09375 -0.796875 7.09375 -1.203125 L 7.09375 -5.515625 C 7.09375 -7.109375 6 -7.90625 3.90625 -7.90625 C 1.796875 -7.90625 0.703125 -7.015625 0.578125 -5.21875 L 2.515625 -5.21875 C 2.625 -6.015625 2.953125 -6.28125 3.953125 -6.28125 C 4.71875 -6.28125 5.109375 -6.015625 5.109375 -5.5 C 5.109375 -5.25 4.984375 -5.015625 4.765625 -4.890625 C 4.5 -4.75 4.5 -4.75 3.5 -4.59375 L 2.6875 -4.453125 C 1.15625 -4.1875 0.40625 -3.40625 0.40625 -2 C 0.40625 -1.34375 0.59375 -0.796875 0.953125 -0.40625 C 1.390625 0.0625 2.078125 0.328125 2.765625 0.328125 C 3.625 0.328125 4.421875 -0.046875 5.125 -0.78125 C 5.125 -0.375 5.171875 -0.234375 5.359375 0 L 7.546875 0 Z M 5.109375 -3.125 C 5.109375 -1.953125 4.53125 -1.296875 3.515625 -1.296875 C 2.84375 -1.296875 2.421875 -1.65625 2.421875 -2.234375 C 2.421875 -2.84375 2.734375 -3.125 3.578125 -3.296875 L 4.265625 -3.421875 C 4.796875 -3.53125 4.890625 -3.5625 5.109375 -3.671875 Z M 5.109375 -3.125 \"/>\n",
       "</symbol>\n",
       "<symbol overflow=\"visible\" id=\"glyph0-6\">\n",
       "<path style=\"stroke:none;\" d=\"M 5.828125 0 L 7.84375 0 L 7.84375 -10.5 L 5.828125 -10.5 L 5.828125 -6.765625 C 5.328125 -7.546875 4.65625 -7.90625 3.6875 -7.90625 C 1.828125 -7.90625 0.421875 -6.125 0.421875 -3.78125 C 0.421875 -2.71875 0.734375 -1.65625 1.25 -0.90625 C 1.78125 -0.15625 2.734375 0.328125 3.6875 0.328125 C 4.65625 0.328125 5.328125 -0.03125 5.828125 -0.796875 Z M 4.140625 -6.21875 C 5.15625 -6.21875 5.828125 -5.234375 5.828125 -3.75 C 5.828125 -2.328125 5.140625 -1.359375 4.140625 -1.359375 C 3.125 -1.359375 2.4375 -2.34375 2.4375 -3.78125 C 2.4375 -5.21875 3.125 -6.21875 4.140625 -6.21875 Z M 4.140625 -6.21875 \"/>\n",
       "</symbol>\n",
       "<symbol overflow=\"visible\" id=\"glyph1-0\">\n",
       "<path style=\"stroke:none;\" d=\"\"/>\n",
       "</symbol>\n",
       "<symbol overflow=\"visible\" id=\"glyph1-1\">\n",
       "<path style=\"stroke:none;\" d=\"M 3.296875 -8.515625 C 2.515625 -8.515625 1.78125 -8.15625 1.34375 -7.578125 C 0.796875 -6.828125 0.515625 -5.6875 0.515625 -4.109375 C 0.515625 -1.25 1.46875 0.28125 3.296875 0.28125 C 5.09375 0.28125 6.078125 -1.25 6.078125 -4.046875 C 6.078125 -5.703125 5.8125 -6.796875 5.25 -7.578125 C 4.8125 -8.171875 4.109375 -8.515625 3.296875 -8.515625 Z M 3.296875 -7.578125 C 4.4375 -7.578125 5 -6.421875 5 -4.140625 C 5 -1.734375 4.453125 -0.59375 3.28125 -0.59375 C 2.15625 -0.59375 1.59375 -1.78125 1.59375 -4.109375 C 1.59375 -6.4375 2.15625 -7.578125 3.296875 -7.578125 Z M 3.296875 -7.578125 \"/>\n",
       "</symbol>\n",
       "<symbol overflow=\"visible\" id=\"glyph1-2\">\n",
       "<path style=\"stroke:none;\" d=\"M 6.078125 -1.046875 L 1.59375 -1.046875 C 1.703125 -1.734375 2.09375 -2.1875 3.125 -2.796875 L 4.328125 -3.4375 C 5.515625 -4.09375 6.125 -4.96875 6.125 -6.015625 C 6.125 -6.71875 5.84375 -7.375 5.34375 -7.84375 C 4.84375 -8.296875 4.21875 -8.515625 3.40625 -8.515625 C 2.328125 -8.515625 1.53125 -8.125 1.0625 -7.40625 C 0.75 -6.953125 0.625 -6.421875 0.59375 -5.5625 L 1.65625 -5.5625 C 1.6875 -6.125 1.765625 -6.484375 1.90625 -6.75 C 2.1875 -7.265625 2.734375 -7.578125 3.375 -7.578125 C 4.328125 -7.578125 5.046875 -6.90625 5.046875 -5.984375 C 5.046875 -5.3125 4.65625 -4.734375 3.90625 -4.3125 L 2.796875 -3.6875 C 1.015625 -2.671875 0.5 -1.875 0.40625 0 L 6.078125 0 Z M 6.078125 -1.046875 \"/>\n",
       "</symbol>\n",
       "<symbol overflow=\"visible\" id=\"glyph1-3\">\n",
       "<path style=\"stroke:none;\" d=\"M 3.921875 -2.046875 L 3.921875 0 L 4.984375 0 L 4.984375 -2.046875 L 6.234375 -2.046875 L 6.234375 -2.984375 L 4.984375 -2.984375 L 4.984375 -8.515625 L 4.203125 -8.515625 L 0.34375 -3.15625 L 0.34375 -2.046875 Z M 3.921875 -2.984375 L 1.265625 -2.984375 L 3.921875 -6.703125 Z M 3.921875 -2.984375 \"/>\n",
       "</symbol>\n",
       "<symbol overflow=\"visible\" id=\"glyph1-4\">\n",
       "<path style=\"stroke:none;\" d=\"M 5.96875 -6.28125 C 5.765625 -7.6875 4.859375 -8.515625 3.5625 -8.515625 C 2.625 -8.515625 1.78125 -8.046875 1.28125 -7.296875 C 0.75 -6.46875 0.515625 -5.421875 0.515625 -3.875 C 0.515625 -2.453125 0.734375 -1.53125 1.234375 -0.78125 C 1.6875 -0.09375 2.4375 0.28125 3.375 0.28125 C 4.984375 0.28125 6.15625 -0.921875 6.15625 -2.59375 C 6.15625 -4.171875 5.078125 -5.296875 3.546875 -5.296875 C 2.71875 -5.296875 2.046875 -4.96875 1.59375 -4.34375 C 1.609375 -6.421875 2.28125 -7.578125 3.484375 -7.578125 C 4.234375 -7.578125 4.75 -7.109375 4.921875 -6.28125 Z M 3.421875 -4.359375 C 4.4375 -4.359375 5.078125 -3.640625 5.078125 -2.515625 C 5.078125 -1.4375 4.359375 -0.65625 3.390625 -0.65625 C 2.40625 -0.65625 1.65625 -1.46875 1.65625 -2.5625 C 1.65625 -3.625 2.375 -4.359375 3.421875 -4.359375 Z M 3.421875 -4.359375 \"/>\n",
       "</symbol>\n",
       "<symbol overflow=\"visible\" id=\"glyph1-5\">\n",
       "<path style=\"stroke:none;\" d=\"M 4.6875 -4.46875 C 5.5625 -5 5.859375 -5.4375 5.859375 -6.234375 C 5.859375 -7.578125 4.8125 -8.515625 3.296875 -8.515625 C 1.796875 -8.515625 0.75 -7.578125 0.75 -6.234375 C 0.75 -5.453125 1.03125 -5.015625 1.890625 -4.46875 C 0.921875 -4.015625 0.4375 -3.296875 0.4375 -2.359375 C 0.4375 -0.796875 1.625 0.28125 3.296875 0.28125 C 4.984375 0.28125 6.15625 -0.796875 6.15625 -2.359375 C 6.15625 -3.296875 5.671875 -4.015625 4.6875 -4.46875 Z M 3.296875 -7.578125 C 4.203125 -7.578125 4.78125 -7.046875 4.78125 -6.21875 C 4.78125 -5.421875 4.1875 -4.890625 3.296875 -4.890625 C 2.40625 -4.890625 1.828125 -5.421875 1.828125 -6.234375 C 1.828125 -7.046875 2.40625 -7.578125 3.296875 -7.578125 Z M 3.296875 -4.015625 C 4.359375 -4.015625 5.078125 -3.34375 5.078125 -2.34375 C 5.078125 -1.328125 4.359375 -0.65625 3.28125 -0.65625 C 2.25 -0.65625 1.53125 -1.34375 1.53125 -2.34375 C 1.53125 -3.34375 2.25 -4.015625 3.296875 -4.015625 Z M 3.296875 -4.015625 \"/>\n",
       "</symbol>\n",
       "</g>\n",
       "</defs>\n",
       "<g id=\"surface33\">\n",
       "<rect x=\"0\" y=\"0\" width=\"504\" height=\"504\" style=\"fill:rgb(100%,100%,100%);fill-opacity:1;stroke:none;\"/>\n",
       "<path style=\"fill-rule:nonzero;fill:rgb(49.803922%,49.803922%,49.803922%);fill-opacity:1;stroke-width:0.75;stroke-linecap:round;stroke-linejoin:round;stroke:rgb(0%,0%,0%);stroke-opacity:1;stroke-miterlimit:10;\" d=\"M 76.464844 413.613281 L 233.367188 413.613281 L 233.367188 407.242188 L 76.464844 407.242188 Z M 76.464844 413.613281 \"/>\n",
       "<path style=\"fill-rule:nonzero;fill:rgb(0%,0%,0%);fill-opacity:1;stroke-width:0.75;stroke-linecap:round;stroke-linejoin:round;stroke:rgb(0%,0%,0%);stroke-opacity:1;stroke-miterlimit:10;\" d=\"M 76.464844 404.058594 L 150.789062 404.058594 L 150.789062 397.6875 L 76.464844 397.6875 Z M 76.464844 404.058594 \"/>\n",
       "<path style=\"fill-rule:nonzero;fill:rgb(49.803922%,49.803922%,49.803922%);fill-opacity:1;stroke-width:0.75;stroke-linecap:round;stroke-linejoin:round;stroke:rgb(0%,0%,0%);stroke-opacity:1;stroke-miterlimit:10;\" d=\"M 76.464844 394.503906 L 216.851562 394.503906 L 216.851562 388.132812 L 76.464844 388.132812 Z M 76.464844 394.503906 \"/>\n",
       "<path style=\"fill-rule:nonzero;fill:rgb(49.803922%,49.803922%,49.803922%);fill-opacity:1;stroke-width:0.75;stroke-linecap:round;stroke-linejoin:round;stroke:rgb(0%,0%,0%);stroke-opacity:1;stroke-miterlimit:10;\" d=\"M 76.464844 384.949219 L 254.011719 384.949219 L 254.011719 378.578125 L 76.464844 378.578125 Z M 76.464844 384.949219 \"/>\n",
       "<path style=\"fill-rule:nonzero;fill:rgb(49.803922%,49.803922%,49.803922%);fill-opacity:1;stroke-width:0.75;stroke-linecap:round;stroke-linejoin:round;stroke:rgb(0%,0%,0%);stroke-opacity:1;stroke-miterlimit:10;\" d=\"M 76.464844 375.394531 L 142.53125 375.394531 L 142.53125 369.023438 L 76.464844 369.023438 Z M 76.464844 375.394531 \"/>\n",
       "<path style=\"fill-rule:nonzero;fill:rgb(49.803922%,49.803922%,49.803922%);fill-opacity:1;stroke-width:0.75;stroke-linecap:round;stroke-linejoin:round;stroke:rgb(0%,0%,0%);stroke-opacity:1;stroke-miterlimit:10;\" d=\"M 76.464844 365.835938 L 262.269531 365.835938 L 262.269531 359.464844 L 76.464844 359.464844 Z M 76.464844 365.835938 \"/>\n",
       "<path style=\"fill-rule:nonzero;fill:rgb(49.803922%,49.803922%,49.803922%);fill-opacity:1;stroke-width:0.75;stroke-linecap:round;stroke-linejoin:round;stroke:rgb(0%,0%,0%);stroke-opacity:1;stroke-miterlimit:10;\" d=\"M 76.464844 356.28125 L 146.660156 356.28125 L 146.660156 349.910156 L 76.464844 349.910156 Z M 76.464844 356.28125 \"/>\n",
       "<path style=\"fill-rule:nonzero;fill:rgb(49.803922%,49.803922%,49.803922%);fill-opacity:1;stroke-width:0.75;stroke-linecap:round;stroke-linejoin:round;stroke:rgb(0%,0%,0%);stroke-opacity:1;stroke-miterlimit:10;\" d=\"M 76.464844 346.726562 L 254.011719 346.726562 L 254.011719 340.355469 L 76.464844 340.355469 Z M 76.464844 346.726562 \"/>\n",
       "<path style=\"fill-rule:nonzero;fill:rgb(49.803922%,49.803922%,49.803922%);fill-opacity:1;stroke-width:0.75;stroke-linecap:round;stroke-linejoin:round;stroke:rgb(0%,0%,0%);stroke-opacity:1;stroke-miterlimit:10;\" d=\"M 76.464844 337.171875 L 229.238281 337.171875 L 229.238281 330.800781 L 76.464844 330.800781 Z M 76.464844 337.171875 \"/>\n",
       "<path style=\"fill-rule:nonzero;fill:rgb(49.803922%,49.803922%,49.803922%);fill-opacity:1;stroke-width:0.75;stroke-linecap:round;stroke-linejoin:round;stroke:rgb(0%,0%,0%);stroke-opacity:1;stroke-miterlimit:10;\" d=\"M 76.464844 327.613281 L 225.109375 327.613281 L 225.109375 321.242188 L 76.464844 321.242188 Z M 76.464844 327.613281 \"/>\n",
       "<path style=\"fill-rule:nonzero;fill:rgb(0%,0%,0%);fill-opacity:1;stroke-width:0.75;stroke-linecap:round;stroke-linejoin:round;stroke:rgb(0%,0%,0%);stroke-opacity:1;stroke-miterlimit:10;\" d=\"M 76.464844 318.058594 L 121.882812 318.058594 L 121.882812 311.6875 L 76.464844 311.6875 Z M 76.464844 318.058594 \"/>\n",
       "<path style=\"fill-rule:nonzero;fill:rgb(49.803922%,49.803922%,49.803922%);fill-opacity:1;stroke-width:0.75;stroke-linecap:round;stroke-linejoin:round;stroke:rgb(0%,0%,0%);stroke-opacity:1;stroke-miterlimit:10;\" d=\"M 76.464844 308.503906 L 146.660156 308.503906 L 146.660156 302.132812 L 76.464844 302.132812 Z M 76.464844 308.503906 \"/>\n",
       "<path style=\"fill-rule:nonzero;fill:rgb(49.803922%,49.803922%,49.803922%);fill-opacity:1;stroke-width:0.75;stroke-linecap:round;stroke-linejoin:round;stroke:rgb(0%,0%,0%);stroke-opacity:1;stroke-miterlimit:10;\" d=\"M 76.464844 298.949219 L 146.660156 298.949219 L 146.660156 292.578125 L 76.464844 292.578125 Z M 76.464844 298.949219 \"/>\n",
       "<path style=\"fill-rule:nonzero;fill:rgb(49.803922%,49.803922%,49.803922%);fill-opacity:1;stroke-width:0.75;stroke-linecap:round;stroke-linejoin:round;stroke:rgb(0%,0%,0%);stroke-opacity:1;stroke-miterlimit:10;\" d=\"M 76.464844 289.394531 L 150.789062 289.394531 L 150.789062 283.023438 L 76.464844 283.023438 Z M 76.464844 289.394531 \"/>\n",
       "<path style=\"fill-rule:nonzero;fill:rgb(49.803922%,49.803922%,49.803922%);fill-opacity:1;stroke-width:0.75;stroke-linecap:round;stroke-linejoin:round;stroke:rgb(0%,0%,0%);stroke-opacity:1;stroke-miterlimit:10;\" d=\"M 76.464844 279.835938 L 154.917969 279.835938 L 154.917969 273.464844 L 76.464844 273.464844 Z M 76.464844 279.835938 \"/>\n",
       "<path style=\"fill-rule:nonzero;fill:rgb(49.803922%,49.803922%,49.803922%);fill-opacity:1;stroke-width:0.75;stroke-linecap:round;stroke-linejoin:round;stroke:rgb(0%,0%,0%);stroke-opacity:1;stroke-miterlimit:10;\" d=\"M 76.464844 270.28125 L 225.109375 270.28125 L 225.109375 263.910156 L 76.464844 263.910156 Z M 76.464844 270.28125 \"/>\n",
       "<path style=\"fill-rule:nonzero;fill:rgb(49.803922%,49.803922%,49.803922%);fill-opacity:1;stroke-width:0.75;stroke-linecap:round;stroke-linejoin:round;stroke:rgb(0%,0%,0%);stroke-opacity:1;stroke-miterlimit:10;\" d=\"M 76.464844 260.726562 L 216.851562 260.726562 L 216.851562 254.355469 L 76.464844 254.355469 Z M 76.464844 260.726562 \"/>\n",
       "<path style=\"fill-rule:nonzero;fill:rgb(49.803922%,49.803922%,49.803922%);fill-opacity:1;stroke-width:0.75;stroke-linecap:round;stroke-linejoin:round;stroke:rgb(0%,0%,0%);stroke-opacity:1;stroke-miterlimit:10;\" d=\"M 76.464844 251.171875 L 241.625 251.171875 L 241.625 244.800781 L 76.464844 244.800781 Z M 76.464844 251.171875 \"/>\n",
       "<path style=\"fill-rule:nonzero;fill:rgb(49.803922%,49.803922%,49.803922%);fill-opacity:1;stroke-width:0.75;stroke-linecap:round;stroke-linejoin:round;stroke:rgb(0%,0%,0%);stroke-opacity:1;stroke-miterlimit:10;\" d=\"M 76.464844 241.613281 L 121.882812 241.613281 L 121.882812 235.242188 L 76.464844 235.242188 Z M 76.464844 241.613281 \"/>\n",
       "<path style=\"fill-rule:nonzero;fill:rgb(49.803922%,49.803922%,49.803922%);fill-opacity:1;stroke-width:0.75;stroke-linecap:round;stroke-linejoin:round;stroke:rgb(0%,0%,0%);stroke-opacity:1;stroke-miterlimit:10;\" d=\"M 76.464844 232.058594 L 258.140625 232.058594 L 258.140625 225.6875 L 76.464844 225.6875 Z M 76.464844 232.058594 \"/>\n",
       "<path style=\"fill-rule:nonzero;fill:rgb(49.803922%,49.803922%,49.803922%);fill-opacity:1;stroke-width:0.75;stroke-linecap:round;stroke-linejoin:round;stroke:rgb(0%,0%,0%);stroke-opacity:1;stroke-miterlimit:10;\" d=\"M 76.464844 222.503906 L 258.140625 222.503906 L 258.140625 216.132812 L 76.464844 216.132812 Z M 76.464844 222.503906 \"/>\n",
       "<path style=\"fill-rule:nonzero;fill:rgb(49.803922%,49.803922%,49.803922%);fill-opacity:1;stroke-width:0.75;stroke-linecap:round;stroke-linejoin:round;stroke:rgb(0%,0%,0%);stroke-opacity:1;stroke-miterlimit:10;\" d=\"M 76.464844 212.949219 L 126.011719 212.949219 L 126.011719 206.578125 L 76.464844 206.578125 Z M 76.464844 212.949219 \"/>\n",
       "<path style=\"fill-rule:nonzero;fill:rgb(49.803922%,49.803922%,49.803922%);fill-opacity:1;stroke-width:0.75;stroke-linecap:round;stroke-linejoin:round;stroke:rgb(0%,0%,0%);stroke-opacity:1;stroke-miterlimit:10;\" d=\"M 76.464844 203.394531 L 262.269531 203.394531 L 262.269531 197.023438 L 76.464844 197.023438 Z M 76.464844 203.394531 \"/>\n",
       "<path style=\"fill-rule:nonzero;fill:rgb(49.803922%,49.803922%,49.803922%);fill-opacity:1;stroke-width:0.75;stroke-linecap:round;stroke-linejoin:round;stroke:rgb(0%,0%,0%);stroke-opacity:1;stroke-miterlimit:10;\" d=\"M 76.464844 193.835938 L 126.011719 193.835938 L 126.011719 187.464844 L 76.464844 187.464844 Z M 76.464844 193.835938 \"/>\n",
       "<path style=\"fill-rule:nonzero;fill:rgb(49.803922%,49.803922%,49.803922%);fill-opacity:1;stroke-width:0.75;stroke-linecap:round;stroke-linejoin:round;stroke:rgb(0%,0%,0%);stroke-opacity:1;stroke-miterlimit:10;\" d=\"M 76.464844 184.28125 L 233.367188 184.28125 L 233.367188 177.910156 L 76.464844 177.910156 Z M 76.464844 184.28125 \"/>\n",
       "<path style=\"fill-rule:nonzero;fill:rgb(0%,0%,0%);fill-opacity:1;stroke-width:0.75;stroke-linecap:round;stroke-linejoin:round;stroke:rgb(0%,0%,0%);stroke-opacity:1;stroke-miterlimit:10;\" d=\"M 76.464844 174.726562 L 146.660156 174.726562 L 146.660156 168.355469 L 76.464844 168.355469 Z M 76.464844 174.726562 \"/>\n",
       "<path style=\"fill-rule:nonzero;fill:rgb(49.803922%,49.803922%,49.803922%);fill-opacity:1;stroke-width:0.75;stroke-linecap:round;stroke-linejoin:round;stroke:rgb(0%,0%,0%);stroke-opacity:1;stroke-miterlimit:10;\" d=\"M 76.464844 165.171875 L 183.820312 165.171875 L 183.820312 158.800781 L 76.464844 158.800781 Z M 76.464844 165.171875 \"/>\n",
       "<path style=\"fill-rule:nonzero;fill:rgb(49.803922%,49.803922%,49.803922%);fill-opacity:1;stroke-width:0.75;stroke-linecap:round;stroke-linejoin:round;stroke:rgb(0%,0%,0%);stroke-opacity:1;stroke-miterlimit:10;\" d=\"M 76.464844 155.613281 L 179.691406 155.613281 L 179.691406 149.242188 L 76.464844 149.242188 Z M 76.464844 155.613281 \"/>\n",
       "<path style=\"fill-rule:nonzero;fill:rgb(49.803922%,49.803922%,49.803922%);fill-opacity:1;stroke-width:0.75;stroke-linecap:round;stroke-linejoin:round;stroke:rgb(0%,0%,0%);stroke-opacity:1;stroke-miterlimit:10;\" d=\"M 76.464844 146.058594 L 270.53125 146.058594 L 270.53125 139.6875 L 76.464844 139.6875 Z M 76.464844 146.058594 \"/>\n",
       "<path style=\"fill-rule:nonzero;fill:rgb(49.803922%,49.803922%,49.803922%);fill-opacity:1;stroke-width:0.75;stroke-linecap:round;stroke-linejoin:round;stroke:rgb(0%,0%,0%);stroke-opacity:1;stroke-miterlimit:10;\" d=\"M 76.464844 136.503906 L 179.691406 136.503906 L 179.691406 130.132812 L 76.464844 130.132812 Z M 76.464844 136.503906 \"/>\n",
       "<path style=\"fill-rule:nonzero;fill:rgb(49.803922%,49.803922%,49.803922%);fill-opacity:1;stroke-width:0.75;stroke-linecap:round;stroke-linejoin:round;stroke:rgb(0%,0%,0%);stroke-opacity:1;stroke-miterlimit:10;\" d=\"M 76.464844 126.949219 L 138.398438 126.949219 L 138.398438 120.578125 L 76.464844 120.578125 Z M 76.464844 126.949219 \"/>\n",
       "<path style=\"fill-rule:nonzero;fill:rgb(49.803922%,49.803922%,49.803922%);fill-opacity:1;stroke-width:0.75;stroke-linecap:round;stroke-linejoin:round;stroke:rgb(0%,0%,0%);stroke-opacity:1;stroke-miterlimit:10;\" d=\"M 76.464844 117.394531 L 266.398438 117.394531 L 266.398438 111.023438 L 76.464844 111.023438 Z M 76.464844 117.394531 \"/>\n",
       "<path style=\"fill-rule:nonzero;fill:rgb(49.803922%,49.803922%,49.803922%);fill-opacity:1;stroke-width:0.75;stroke-linecap:round;stroke-linejoin:round;stroke:rgb(0%,0%,0%);stroke-opacity:1;stroke-miterlimit:10;\" d=\"M 76.464844 107.835938 L 258.140625 107.835938 L 258.140625 101.464844 L 76.464844 101.464844 Z M 76.464844 107.835938 \"/>\n",
       "<path style=\"fill-rule:nonzero;fill:rgb(49.803922%,49.803922%,49.803922%);fill-opacity:1;stroke-width:0.75;stroke-linecap:round;stroke-linejoin:round;stroke:rgb(0%,0%,0%);stroke-opacity:1;stroke-miterlimit:10;\" d=\"M 76.464844 98.28125 L 167.304688 98.28125 L 167.304688 91.910156 L 76.464844 91.910156 Z M 76.464844 98.28125 \"/>\n",
       "<path style=\"fill-rule:nonzero;fill:rgb(49.803922%,49.803922%,49.803922%);fill-opacity:1;stroke-width:0.75;stroke-linecap:round;stroke-linejoin:round;stroke:rgb(0%,0%,0%);stroke-opacity:1;stroke-miterlimit:10;\" d=\"M 80.59375 88.726562 L 282.917969 88.726562 L 282.917969 82.355469 L 80.59375 82.355469 Z M 80.59375 88.726562 \"/>\n",
       "<path style=\"fill-rule:nonzero;fill:rgb(49.803922%,49.803922%,49.803922%);fill-opacity:1;stroke-width:0.75;stroke-linecap:round;stroke-linejoin:round;stroke:rgb(0%,0%,0%);stroke-opacity:1;stroke-miterlimit:10;\" d=\"M 105.367188 79.171875 L 307.691406 79.171875 L 307.691406 72.800781 L 105.367188 72.800781 Z M 105.367188 79.171875 \"/>\n",
       "<path style=\"fill-rule:nonzero;fill:rgb(49.803922%,49.803922%,49.803922%);fill-opacity:1;stroke-width:0.75;stroke-linecap:round;stroke-linejoin:round;stroke:rgb(0%,0%,0%);stroke-opacity:1;stroke-miterlimit:10;\" d=\"M 138.398438 318.058594 L 344.851562 318.058594 L 344.851562 311.6875 L 138.398438 311.6875 Z M 138.398438 318.058594 \"/>\n",
       "<path style=\"fill-rule:nonzero;fill:rgb(49.803922%,49.803922%,49.803922%);fill-opacity:1;stroke-width:0.75;stroke-linecap:round;stroke-linejoin:round;stroke:rgb(0%,0%,0%);stroke-opacity:1;stroke-miterlimit:10;\" d=\"M 142.527344 241.613281 L 348.980469 241.613281 L 348.980469 235.242188 L 142.527344 235.242188 Z M 142.527344 241.613281 \"/>\n",
       "<path style=\"fill-rule:nonzero;fill:rgb(49.803922%,49.803922%,49.803922%);fill-opacity:1;stroke-width:0.75;stroke-linecap:round;stroke-linejoin:round;stroke:rgb(0%,0%,0%);stroke-opacity:1;stroke-miterlimit:10;\" d=\"M 146.65625 375.394531 L 348.980469 375.394531 L 348.980469 369.023438 L 146.65625 369.023438 Z M 146.65625 375.394531 \"/>\n",
       "<path style=\"fill-rule:nonzero;fill:rgb(49.803922%,49.803922%,49.803922%);fill-opacity:1;stroke-width:0.75;stroke-linecap:round;stroke-linejoin:round;stroke:rgb(0%,0%,0%);stroke-opacity:1;stroke-miterlimit:10;\" d=\"M 146.65625 212.949219 L 299.429688 212.949219 L 299.429688 206.578125 L 146.65625 206.578125 Z M 146.65625 212.949219 \"/>\n",
       "<path style=\"fill-rule:nonzero;fill:rgb(49.803922%,49.803922%,49.803922%);fill-opacity:1;stroke-width:0.75;stroke-linecap:round;stroke-linejoin:round;stroke:rgb(0%,0%,0%);stroke-opacity:1;stroke-miterlimit:10;\" d=\"M 150.785156 356.28125 L 353.109375 356.28125 L 353.109375 349.910156 L 150.785156 349.910156 Z M 150.785156 356.28125 \"/>\n",
       "<path style=\"fill-rule:nonzero;fill:rgb(49.803922%,49.803922%,49.803922%);fill-opacity:1;stroke-width:0.75;stroke-linecap:round;stroke-linejoin:round;stroke:rgb(0%,0%,0%);stroke-opacity:1;stroke-miterlimit:10;\" d=\"M 150.785156 308.503906 L 357.238281 308.503906 L 357.238281 302.132812 L 150.785156 302.132812 Z M 150.785156 308.503906 \"/>\n",
       "<path style=\"fill-rule:nonzero;fill:rgb(0%,0%,0%);fill-opacity:1;stroke-width:0.75;stroke-linecap:round;stroke-linejoin:round;stroke:rgb(0%,0%,0%);stroke-opacity:1;stroke-miterlimit:10;\" d=\"M 159.046875 404.058594 L 361.371094 404.058594 L 361.371094 397.6875 L 159.046875 397.6875 Z M 159.046875 404.058594 \"/>\n",
       "<path style=\"fill-rule:nonzero;fill:rgb(49.803922%,49.803922%,49.803922%);fill-opacity:1;stroke-width:0.75;stroke-linecap:round;stroke-linejoin:round;stroke:rgb(0%,0%,0%);stroke-opacity:1;stroke-miterlimit:10;\" d=\"M 171.433594 298.949219 L 373.757812 298.949219 L 373.757812 292.578125 L 171.433594 292.578125 Z M 171.433594 298.949219 \"/>\n",
       "<path style=\"fill-rule:nonzero;fill:rgb(49.803922%,49.803922%,49.803922%);fill-opacity:1;stroke-width:0.75;stroke-linecap:round;stroke-linejoin:round;stroke:rgb(0%,0%,0%);stroke-opacity:1;stroke-miterlimit:10;\" d=\"M 196.207031 289.394531 L 398.53125 289.394531 L 398.53125 283.023438 L 196.207031 283.023438 Z M 196.207031 289.394531 \"/>\n",
       "<path style=\"fill-rule:nonzero;fill:rgb(49.803922%,49.803922%,49.803922%);fill-opacity:1;stroke-width:0.75;stroke-linecap:round;stroke-linejoin:round;stroke:rgb(0%,0%,0%);stroke-opacity:1;stroke-miterlimit:10;\" d=\"M 212.722656 279.835938 L 415.046875 279.835938 L 415.046875 273.464844 L 212.722656 273.464844 Z M 212.722656 279.835938 \"/>\n",
       "<path style=\"fill-rule:nonzero;fill:rgb(49.803922%,49.803922%,49.803922%);fill-opacity:1;stroke-width:0.75;stroke-linecap:round;stroke-linejoin:round;stroke:rgb(0%,0%,0%);stroke-opacity:1;stroke-miterlimit:10;\" d=\"M 212.722656 193.835938 L 410.917969 193.835938 L 410.917969 187.464844 L 212.722656 187.464844 Z M 212.722656 193.835938 \"/>\n",
       "<path style=\"fill-rule:nonzero;fill:rgb(49.803922%,49.803922%,49.803922%);fill-opacity:1;stroke-width:0.75;stroke-linecap:round;stroke-linejoin:round;stroke:rgb(0%,0%,0%);stroke-opacity:1;stroke-miterlimit:10;\" d=\"M 220.980469 394.503906 L 423.304688 394.503906 L 423.304688 388.132812 L 220.980469 388.132812 Z M 220.980469 394.503906 \"/>\n",
       "<path style=\"fill-rule:nonzero;fill:rgb(0%,0%,0%);fill-opacity:1;stroke-width:0.75;stroke-linecap:round;stroke-linejoin:round;stroke:rgb(0%,0%,0%);stroke-opacity:1;stroke-miterlimit:10;\" d=\"M 233.367188 337.171875 L 439.820312 337.171875 L 439.820312 330.800781 L 233.367188 330.800781 Z M 233.367188 337.171875 \"/>\n",
       "<path style=\"fill-rule:nonzero;fill:rgb(0%,0%,0%);fill-opacity:1;stroke-width:0.75;stroke-linecap:round;stroke-linejoin:round;stroke:rgb(0%,0%,0%);stroke-opacity:1;stroke-miterlimit:10;\" d=\"M 258.140625 413.613281 L 460.464844 413.613281 L 460.464844 407.242188 L 258.140625 407.242188 Z M 258.140625 413.613281 \"/>\n",
       "<path style=\"fill-rule:nonzero;fill:rgb(0%,0%,0%);fill-opacity:1;stroke-width:0.75;stroke-linecap:round;stroke-linejoin:round;stroke:rgb(0%,0%,0%);stroke-opacity:1;stroke-miterlimit:10;\" d=\"M 258.140625 384.949219 L 460.464844 384.949219 L 460.464844 378.578125 L 258.140625 378.578125 Z M 258.140625 384.949219 \"/>\n",
       "<path style=\"fill-rule:nonzero;fill:rgb(0%,0%,0%);fill-opacity:1;stroke-width:0.75;stroke-linecap:round;stroke-linejoin:round;stroke:rgb(0%,0%,0%);stroke-opacity:1;stroke-miterlimit:10;\" d=\"M 270.527344 365.835938 L 460.460938 365.835938 L 460.460938 359.464844 L 270.527344 359.464844 Z M 270.527344 365.835938 \"/>\n",
       "<path style=\"fill-rule:nonzero;fill:rgb(0%,0%,0%);fill-opacity:1;stroke-width:0.75;stroke-linecap:round;stroke-linejoin:round;stroke:rgb(0%,0%,0%);stroke-opacity:1;stroke-miterlimit:10;\" d=\"M 278.785156 346.726562 L 460.460938 346.726562 L 460.460938 340.355469 L 278.785156 340.355469 Z M 278.785156 346.726562 \"/>\n",
       "<path style=\"fill-rule:nonzero;fill:rgb(0%,0%,0%);fill-opacity:1;stroke-width:0.75;stroke-linecap:round;stroke-linejoin:round;stroke:rgb(0%,0%,0%);stroke-opacity:1;stroke-miterlimit:10;\" d=\"M 315.949219 327.613281 L 460.464844 327.613281 L 460.464844 321.242188 L 315.949219 321.242188 Z M 315.949219 327.613281 \"/>\n",
       "<path style=\"fill-rule:nonzero;fill:rgb(0%,0%,0%);fill-opacity:1;stroke-width:0.75;stroke-linecap:round;stroke-linejoin:round;stroke:rgb(0%,0%,0%);stroke-opacity:1;stroke-miterlimit:10;\" d=\"M 315.949219 270.28125 L 460.464844 270.28125 L 460.464844 263.910156 L 315.949219 263.910156 Z M 315.949219 270.28125 \"/>\n",
       "<path style=\"fill-rule:nonzero;fill:rgb(0%,0%,0%);fill-opacity:1;stroke-width:0.75;stroke-linecap:round;stroke-linejoin:round;stroke:rgb(0%,0%,0%);stroke-opacity:1;stroke-miterlimit:10;\" d=\"M 328.335938 260.726562 L 460.464844 260.726562 L 460.464844 254.355469 L 328.335938 254.355469 Z M 328.335938 260.726562 \"/>\n",
       "<path style=\"fill-rule:nonzero;fill:rgb(0%,0%,0%);fill-opacity:1;stroke-width:0.75;stroke-linecap:round;stroke-linejoin:round;stroke:rgb(0%,0%,0%);stroke-opacity:1;stroke-miterlimit:10;\" d=\"M 328.335938 251.171875 L 460.464844 251.171875 L 460.464844 244.800781 L 328.335938 244.800781 Z M 328.335938 251.171875 \"/>\n",
       "<path style=\"fill-rule:nonzero;fill:rgb(0%,0%,0%);fill-opacity:1;stroke-width:0.75;stroke-linecap:round;stroke-linejoin:round;stroke:rgb(0%,0%,0%);stroke-opacity:1;stroke-miterlimit:10;\" d=\"M 328.335938 232.058594 L 460.464844 232.058594 L 460.464844 225.6875 L 328.335938 225.6875 Z M 328.335938 232.058594 \"/>\n",
       "<path style=\"fill-rule:nonzero;fill:rgb(0%,0%,0%);fill-opacity:1;stroke-width:0.75;stroke-linecap:round;stroke-linejoin:round;stroke:rgb(0%,0%,0%);stroke-opacity:1;stroke-miterlimit:10;\" d=\"M 332.464844 222.503906 L 460.464844 222.503906 L 460.464844 216.132812 L 332.464844 216.132812 Z M 332.464844 222.503906 \"/>\n",
       "<path style=\"fill-rule:nonzero;fill:rgb(0%,0%,0%);fill-opacity:1;stroke-width:0.75;stroke-linecap:round;stroke-linejoin:round;stroke:rgb(0%,0%,0%);stroke-opacity:1;stroke-miterlimit:10;\" d=\"M 332.464844 212.949219 L 460.464844 212.949219 L 460.464844 206.578125 L 332.464844 206.578125 Z M 332.464844 212.949219 \"/>\n",
       "<path style=\"fill-rule:nonzero;fill:rgb(0%,0%,0%);fill-opacity:1;stroke-width:0.75;stroke-linecap:round;stroke-linejoin:round;stroke:rgb(0%,0%,0%);stroke-opacity:1;stroke-miterlimit:10;\" d=\"M 353.109375 375.394531 L 460.464844 375.394531 L 460.464844 369.023438 L 353.109375 369.023438 Z M 353.109375 375.394531 \"/>\n",
       "<path style=\"fill-rule:nonzero;fill:rgb(0%,0%,0%);fill-opacity:1;stroke-width:0.75;stroke-linecap:round;stroke-linejoin:round;stroke:rgb(0%,0%,0%);stroke-opacity:1;stroke-miterlimit:10;\" d=\"M 365.496094 404.058594 L 460.464844 404.058594 L 460.464844 397.6875 L 365.496094 397.6875 Z M 365.496094 404.058594 \"/>\n",
       "<path style=\"fill-rule:nonzero;fill:rgb(0%,0%,0%);fill-opacity:1;stroke-width:0.75;stroke-linecap:round;stroke-linejoin:round;stroke:rgb(0%,0%,0%);stroke-opacity:1;stroke-miterlimit:10;\" d=\"M 369.625 356.28125 L 460.464844 356.28125 L 460.464844 349.910156 L 369.625 349.910156 Z M 369.625 356.28125 \"/>\n",
       "<path style=\"fill-rule:nonzero;fill:rgb(0%,0%,0%);fill-opacity:1;stroke-width:0.75;stroke-linecap:round;stroke-linejoin:round;stroke:rgb(0%,0%,0%);stroke-opacity:1;stroke-miterlimit:10;\" d=\"M 382.011719 318.058594 L 460.464844 318.058594 L 460.464844 311.6875 L 382.011719 311.6875 Z M 382.011719 318.058594 \"/>\n",
       "<path style=\"fill-rule:nonzero;fill:rgb(0%,0%,0%);fill-opacity:1;stroke-width:0.75;stroke-linecap:round;stroke-linejoin:round;stroke:rgb(0%,0%,0%);stroke-opacity:1;stroke-miterlimit:10;\" d=\"M 386.140625 308.503906 L 460.464844 308.503906 L 460.464844 302.132812 L 386.140625 302.132812 Z M 386.140625 308.503906 \"/>\n",
       "<path style=\"fill-rule:nonzero;fill:rgb(0%,0%,0%);fill-opacity:1;stroke-width:0.75;stroke-linecap:round;stroke-linejoin:round;stroke:rgb(0%,0%,0%);stroke-opacity:1;stroke-miterlimit:10;\" d=\"M 390.269531 298.949219 L 460.464844 298.949219 L 460.464844 292.578125 L 390.269531 292.578125 Z M 390.269531 298.949219 \"/>\n",
       "<path style=\"fill-rule:nonzero;fill:rgb(0%,0%,0%);fill-opacity:1;stroke-width:0.75;stroke-linecap:round;stroke-linejoin:round;stroke:rgb(0%,0%,0%);stroke-opacity:1;stroke-miterlimit:10;\" d=\"M 390.269531 241.613281 L 460.464844 241.613281 L 460.464844 235.242188 L 390.269531 235.242188 Z M 390.269531 241.613281 \"/>\n",
       "<path style=\"fill-rule:nonzero;fill:rgb(0%,0%,0%);fill-opacity:1;stroke-width:0.75;stroke-linecap:round;stroke-linejoin:round;stroke:rgb(0%,0%,0%);stroke-opacity:1;stroke-miterlimit:10;\" d=\"M 398.527344 203.394531 L 460.460938 203.394531 L 460.460938 197.023438 L 398.527344 197.023438 Z M 398.527344 203.394531 \"/>\n",
       "<path style=\"fill-rule:nonzero;fill:rgb(0%,0%,0%);fill-opacity:1;stroke-width:0.75;stroke-linecap:round;stroke-linejoin:round;stroke:rgb(0%,0%,0%);stroke-opacity:1;stroke-miterlimit:10;\" d=\"M 402.65625 289.394531 L 460.460938 289.394531 L 460.460938 283.023438 L 402.65625 283.023438 Z M 402.65625 289.394531 \"/>\n",
       "<path style=\"fill-rule:nonzero;fill:rgb(0%,0%,0%);fill-opacity:1;stroke-width:0.75;stroke-linecap:round;stroke-linejoin:round;stroke:rgb(0%,0%,0%);stroke-opacity:1;stroke-miterlimit:10;\" d=\"M 402.65625 184.28125 L 460.460938 184.28125 L 460.460938 177.910156 L 402.65625 177.910156 Z M 402.65625 184.28125 \"/>\n",
       "<path style=\"fill-rule:nonzero;fill:rgb(0%,0%,0%);fill-opacity:1;stroke-width:0.75;stroke-linecap:round;stroke-linejoin:round;stroke:rgb(0%,0%,0%);stroke-opacity:1;stroke-miterlimit:10;\" d=\"M 415.046875 193.835938 L 460.464844 193.835938 L 460.464844 187.464844 L 415.046875 187.464844 Z M 415.046875 193.835938 \"/>\n",
       "<path style=\"fill-rule:nonzero;fill:rgb(0%,0%,0%);fill-opacity:1;stroke-width:0.75;stroke-linecap:round;stroke-linejoin:round;stroke:rgb(0%,0%,0%);stroke-opacity:1;stroke-miterlimit:10;\" d=\"M 415.046875 174.726562 L 460.464844 174.726562 L 460.464844 168.355469 L 415.046875 168.355469 Z M 415.046875 174.726562 \"/>\n",
       "<path style=\"fill-rule:nonzero;fill:rgb(0%,0%,0%);fill-opacity:1;stroke-width:0.75;stroke-linecap:round;stroke-linejoin:round;stroke:rgb(0%,0%,0%);stroke-opacity:1;stroke-miterlimit:10;\" d=\"M 415.046875 165.171875 L 460.464844 165.171875 L 460.464844 158.800781 L 415.046875 158.800781 Z M 415.046875 165.171875 \"/>\n",
       "<g style=\"fill:rgb(0%,0%,0%);fill-opacity:1;\">\n",
       "  <use xlink:href=\"#glyph0-1\" x=\"246.398438\" y=\"34.116211\"/>\n",
       "  <use xlink:href=\"#glyph0-2\" x=\"250.40332\" y=\"34.116211\"/>\n",
       "  <use xlink:href=\"#glyph0-3\" x=\"256.007812\" y=\"34.116211\"/>\n",
       "  <use xlink:href=\"#glyph0-4\" x=\"260.012695\" y=\"34.116211\"/>\n",
       "  <use xlink:href=\"#glyph0-5\" x=\"268.814453\" y=\"34.116211\"/>\n",
       "  <use xlink:href=\"#glyph0-6\" x=\"276.824219\" y=\"34.116211\"/>\n",
       "</g>\n",
       "<path style=\"fill:none;stroke-width:0.75;stroke-linecap:round;stroke-linejoin:round;stroke:rgb(0%,0%,0%);stroke-opacity:1;stroke-miterlimit:10;\" d=\"M 74.398438 430.558594 L 404.722656 430.558594 \"/>\n",
       "<path style=\"fill:none;stroke-width:0.75;stroke-linecap:round;stroke-linejoin:round;stroke:rgb(0%,0%,0%);stroke-opacity:1;stroke-miterlimit:10;\" d=\"M 74.398438 430.558594 L 74.398438 437.761719 \"/>\n",
       "<path style=\"fill:none;stroke-width:0.75;stroke-linecap:round;stroke-linejoin:round;stroke:rgb(0%,0%,0%);stroke-opacity:1;stroke-miterlimit:10;\" d=\"M 156.980469 430.558594 L 156.980469 437.761719 \"/>\n",
       "<path style=\"fill:none;stroke-width:0.75;stroke-linecap:round;stroke-linejoin:round;stroke:rgb(0%,0%,0%);stroke-opacity:1;stroke-miterlimit:10;\" d=\"M 239.5625 430.558594 L 239.5625 437.761719 \"/>\n",
       "<path style=\"fill:none;stroke-width:0.75;stroke-linecap:round;stroke-linejoin:round;stroke:rgb(0%,0%,0%);stroke-opacity:1;stroke-miterlimit:10;\" d=\"M 322.140625 430.558594 L 322.140625 437.761719 \"/>\n",
       "<path style=\"fill:none;stroke-width:0.75;stroke-linecap:round;stroke-linejoin:round;stroke:rgb(0%,0%,0%);stroke-opacity:1;stroke-miterlimit:10;\" d=\"M 404.722656 430.558594 L 404.722656 437.761719 \"/>\n",
       "<g style=\"fill:rgb(0%,0%,0%);fill-opacity:1;\">\n",
       "  <use xlink:href=\"#glyph1-1\" x=\"70.898438\" y=\"455.916016\"/>\n",
       "</g>\n",
       "<g style=\"fill:rgb(0%,0%,0%);fill-opacity:1;\">\n",
       "  <use xlink:href=\"#glyph1-2\" x=\"149.980469\" y=\"455.916016\"/>\n",
       "  <use xlink:href=\"#glyph1-1\" x=\"156.652344\" y=\"455.916016\"/>\n",
       "</g>\n",
       "<g style=\"fill:rgb(0%,0%,0%);fill-opacity:1;\">\n",
       "  <use xlink:href=\"#glyph1-3\" x=\"232.5625\" y=\"455.916016\"/>\n",
       "  <use xlink:href=\"#glyph1-1\" x=\"239.234375\" y=\"455.916016\"/>\n",
       "</g>\n",
       "<g style=\"fill:rgb(0%,0%,0%);fill-opacity:1;\">\n",
       "  <use xlink:href=\"#glyph1-4\" x=\"315.140625\" y=\"455.916016\"/>\n",
       "  <use xlink:href=\"#glyph1-1\" x=\"321.8125\" y=\"455.916016\"/>\n",
       "</g>\n",
       "<g style=\"fill:rgb(0%,0%,0%);fill-opacity:1;\">\n",
       "  <use xlink:href=\"#glyph1-5\" x=\"397.722656\" y=\"455.916016\"/>\n",
       "  <use xlink:href=\"#glyph1-1\" x=\"404.394531\" y=\"455.916016\"/>\n",
       "</g>\n",
       "</g>\n",
       "</svg>\n"
      ],
      "text/plain": [
       "Plot with title “ir.bad”"
      ]
     },
     "metadata": {
      "image/svg+xml": {
       "isolated": true
      }
     },
     "output_type": "display_data"
    }
   ],
   "source": [
    "plotRanges(ir.bad, col = bad.col)"
   ]
  },
  {
   "cell_type": "code",
   "execution_count": 24,
   "metadata": {
    "collapsed": false
   },
   "outputs": [],
   "source": [
    "save(good, bad, plotRanges, ir.good, ir.bad, good.col, bad.col, file = 'wrong/wrong.187522158.rda')"
   ]
  },
  {
   "cell_type": "code",
   "execution_count": 25,
   "metadata": {
    "collapsed": false
   },
   "outputs": [
    {
     "data": {
      "text/html": [
       "<strong>pdf:</strong> 2"
      ],
      "text/latex": [
       "\\textbf{pdf:} 2"
      ],
      "text/markdown": [
       "**pdf:** 2"
      ],
      "text/plain": [
       "pdf \n",
       "  2 "
      ]
     },
     "execution_count": 25,
     "metadata": {},
     "output_type": "execute_result"
    },
    {
     "data": {
      "text/html": [
       "<strong>pdf:</strong> 2"
      ],
      "text/latex": [
       "\\textbf{pdf:} 2"
      ],
      "text/markdown": [
       "**pdf:** 2"
      ],
      "text/plain": [
       "pdf \n",
       "  2 "
      ]
     },
     "execution_count": 25,
     "metadata": {},
     "output_type": "execute_result"
    }
   ],
   "source": [
    "pdf('wrong/wrong.187522158.good.pdf')\n",
    "plotRanges(ir.good, col = good.col)\n",
    "dev.off()\n",
    "pdf('wrong/wrong.187522158.bad.pdf')\n",
    "plotRanges(ir.bad, col = bad.col)\n",
    "dev.off()"
   ]
  },
  {
   "cell_type": "code",
   "execution_count": 35,
   "metadata": {
    "collapsed": false
   },
   "outputs": [
    {
     "ename": "ERROR",
     "evalue": "Error in rbindlist(l, use.names, fill, idcol): Item 2 of list input is not a data.frame, data.table or list\n",
     "output_type": "error",
     "traceback": [
      "Error in rbindlist(l, use.names, fill, idcol): Item 2 of list input is not a data.frame, data.table or list\n"
     ]
    },
    {
     "data": {
      "text/plain": [
       "               V2 E1 E2 E3 E4 E5 E6 E7 E8\n",
       "    1:    A*01:01  1  1  1  1  1  1  1  0\n",
       "    2:   A*01:01L  1  1  1  1  1  1  1  0\n",
       "    3:   A*01:01N  1  1  1  1  1  1  1  0\n",
       "    4:    A*01:02  1  1  1  1  1  1  1  0\n",
       "    5:    A*01:03  1  1  1  1  1  1  1  0\n",
       "   ---                                   \n",
       "10226: DRB5*02:06  0  1  1  0  0  0  0  0\n",
       "10227: DRB6*02:01  0  1  1  1  0  0  0  0\n",
       "10228: DRB7*01:01  1  1  1  1  0  0  0  0\n",
       "10229: DRB8*01:01  0  0  1  1  0  0  0  0\n",
       "10230: DRB9*01:01  0  1  0  0  0  0  0  0"
      ]
     },
     "execution_count": 35,
     "metadata": {},
     "output_type": "execute_result"
    }
   ],
   "source": [
    "exons"
   ]
  },
  {
   "cell_type": "code",
   "execution_count": 39,
   "metadata": {
    "collapsed": false
   },
   "outputs": [
    {
     "data": {
      "text/html": [
       "<dl class=dl-horizontal>\n",
       "\t<dt>E1</dt>\n",
       "\t\t<dd>1636</dd>\n",
       "\t<dt>E2</dt>\n",
       "\t\t<dd>10256</dd>\n",
       "\t<dt>E3</dt>\n",
       "\t\t<dd>8219</dd>\n",
       "\t<dt>E4</dt>\n",
       "\t\t<dd>2997</dd>\n",
       "\t<dt>E5</dt>\n",
       "\t\t<dd>1389</dd>\n",
       "\t<dt>E6</dt>\n",
       "\t\t<dd>979</dd>\n",
       "\t<dt>E7</dt>\n",
       "\t\t<dd>904</dd>\n",
       "\t<dt>E8</dt>\n",
       "\t\t<dd>1</dd>\n",
       "</dl>\n"
      ],
      "text/latex": [
       "\\begin{description*}\n",
       "\\item[E1] 1636\n",
       "\\item[E2] 10256\n",
       "\\item[E3] 8219\n",
       "\\item[E4] 2997\n",
       "\\item[E5] 1389\n",
       "\\item[E6] 979\n",
       "\\item[E7] 904\n",
       "\\item[E8] 1\n",
       "\\end{description*}\n"
      ],
      "text/markdown": [
       "E1\n",
       ":   1636E2\n",
       ":   10256E3\n",
       ":   8219E4\n",
       ":   2997E5\n",
       ":   1389E6\n",
       ":   979E7\n",
       ":   904E8\n",
       ":   1\n",
       "\n"
      ],
      "text/plain": [
       "   E1    E2    E3    E4    E5    E6    E7    E8 \n",
       " 1636 10256  8219  2997  1389   979   904     1 "
      ]
     },
     "execution_count": 39,
     "metadata": {},
     "output_type": "execute_result"
    }
   ],
   "source": [
    "colSums(data.frame(exons)[,-1])"
   ]
  },
  {
   "cell_type": "code",
   "execution_count": 40,
   "metadata": {
    "collapsed": true
   },
   "outputs": [],
   "source": [
    "en <- exons$V2\n",
    "tt <- exons[, V2:=NULL]"
   ]
  },
  {
   "cell_type": "code",
   "execution_count": 43,
   "metadata": {
    "collapsed": false
   },
   "outputs": [
    {
     "name": "stdout",
     "output_type": "stream",
     "text": [
      "[1] 2467\n"
     ]
    },
    {
     "data": {
      "text/html": [
       "<dl class=dl-horizontal>\n",
       "\t<dt>E1</dt>\n",
       "\t\t<dd>404</dd>\n",
       "\t<dt>E2</dt>\n",
       "\t\t<dd>2467</dd>\n",
       "\t<dt>E3</dt>\n",
       "\t\t<dd>2470</dd>\n",
       "\t<dt>E4</dt>\n",
       "\t\t<dd>898</dd>\n",
       "\t<dt>E5</dt>\n",
       "\t\t<dd>427</dd>\n",
       "\t<dt>E6</dt>\n",
       "\t\t<dd>265</dd>\n",
       "\t<dt>E7</dt>\n",
       "\t\t<dd>265</dd>\n",
       "\t<dt>E8</dt>\n",
       "\t\t<dd>0</dd>\n",
       "</dl>\n"
      ],
      "text/latex": [
       "\\begin{description*}\n",
       "\\item[E1] 404\n",
       "\\item[E2] 2467\n",
       "\\item[E3] 2470\n",
       "\\item[E4] 898\n",
       "\\item[E5] 427\n",
       "\\item[E6] 265\n",
       "\\item[E7] 265\n",
       "\\item[E8] 0\n",
       "\\end{description*}\n"
      ],
      "text/markdown": [
       "E1\n",
       ":   404E2\n",
       ":   2467E3\n",
       ":   2470E4\n",
       ":   898E5\n",
       ":   427E6\n",
       ":   265E7\n",
       ":   265E8\n",
       ":   0\n",
       "\n"
      ],
      "text/plain": [
       "  E1   E2   E3   E4   E5   E6   E7   E8 \n",
       " 404 2467 2470  898  427  265  265    0 "
      ]
     },
     "execution_count": 43,
     "metadata": {},
     "output_type": "execute_result"
    }
   ],
   "source": [
    "es <- grep('^A', en)\n",
    "print(length(es))\n",
    "colSums(exons[es])"
   ]
  },
  {
   "cell_type": "code",
   "execution_count": 44,
   "metadata": {
    "collapsed": false
   },
   "outputs": [
    {
     "name": "stdout",
     "output_type": "stream",
     "text": [
      "[1] 3138\n"
     ]
    },
    {
     "data": {
      "text/html": [
       "<dl class=dl-horizontal>\n",
       "\t<dt>E1</dt>\n",
       "\t\t<dd>650</dd>\n",
       "\t<dt>E2</dt>\n",
       "\t\t<dd>3139</dd>\n",
       "\t<dt>E3</dt>\n",
       "\t\t<dd>3142</dd>\n",
       "\t<dt>E4</dt>\n",
       "\t\t<dd>1146</dd>\n",
       "\t<dt>E5</dt>\n",
       "\t\t<dd>601</dd>\n",
       "\t<dt>E6</dt>\n",
       "\t\t<dd>374</dd>\n",
       "\t<dt>E7</dt>\n",
       "\t\t<dd>366</dd>\n",
       "\t<dt>E8</dt>\n",
       "\t\t<dd>0</dd>\n",
       "</dl>\n"
      ],
      "text/latex": [
       "\\begin{description*}\n",
       "\\item[E1] 650\n",
       "\\item[E2] 3139\n",
       "\\item[E3] 3142\n",
       "\\item[E4] 1146\n",
       "\\item[E5] 601\n",
       "\\item[E6] 374\n",
       "\\item[E7] 366\n",
       "\\item[E8] 0\n",
       "\\end{description*}\n"
      ],
      "text/markdown": [
       "E1\n",
       ":   650E2\n",
       ":   3139E3\n",
       ":   3142E4\n",
       ":   1146E5\n",
       ":   601E6\n",
       ":   374E7\n",
       ":   366E8\n",
       ":   0\n",
       "\n"
      ],
      "text/plain": [
       "  E1   E2   E3   E4   E5   E6   E7   E8 \n",
       " 650 3139 3142 1146  601  374  366    0 "
      ]
     },
     "execution_count": 44,
     "metadata": {},
     "output_type": "execute_result"
    }
   ],
   "source": [
    "es <- grep('^B', en)\n",
    "print(length(es))\n",
    "colSums(exons[es])"
   ]
  },
  {
   "cell_type": "code",
   "execution_count": 45,
   "metadata": {
    "collapsed": false
   },
   "outputs": [
    {
     "name": "stdout",
     "output_type": "stream",
     "text": [
      "[1] 2078\n"
     ]
    },
    {
     "data": {
      "text/html": [
       "<dl class=dl-horizontal>\n",
       "\t<dt>E1</dt>\n",
       "\t\t<dd>375</dd>\n",
       "\t<dt>E2</dt>\n",
       "\t\t<dd>2082</dd>\n",
       "\t<dt>E3</dt>\n",
       "\t\t<dd>2082</dd>\n",
       "\t<dt>E4</dt>\n",
       "\t\t<dd>663</dd>\n",
       "\t<dt>E5</dt>\n",
       "\t\t<dd>361</dd>\n",
       "\t<dt>E6</dt>\n",
       "\t\t<dd>340</dd>\n",
       "\t<dt>E7</dt>\n",
       "\t\t<dd>273</dd>\n",
       "\t<dt>E8</dt>\n",
       "\t\t<dd>1</dd>\n",
       "</dl>\n"
      ],
      "text/latex": [
       "\\begin{description*}\n",
       "\\item[E1] 375\n",
       "\\item[E2] 2082\n",
       "\\item[E3] 2082\n",
       "\\item[E4] 663\n",
       "\\item[E5] 361\n",
       "\\item[E6] 340\n",
       "\\item[E7] 273\n",
       "\\item[E8] 1\n",
       "\\end{description*}\n"
      ],
      "text/markdown": [
       "E1\n",
       ":   375E2\n",
       ":   2082E3\n",
       ":   2082E4\n",
       ":   663E5\n",
       ":   361E6\n",
       ":   340E7\n",
       ":   273E8\n",
       ":   1\n",
       "\n"
      ],
      "text/plain": [
       "  E1   E2   E3   E4   E5   E6   E7   E8 \n",
       " 375 2082 2082  663  361  340  273    1 "
      ]
     },
     "execution_count": 45,
     "metadata": {},
     "output_type": "execute_result"
    }
   ],
   "source": [
    "es <- grep('^C', en)\n",
    "print(length(es))\n",
    "colSums(exons[es])"
   ]
  },
  {
   "cell_type": "code",
   "execution_count": 46,
   "metadata": {
    "collapsed": false
   },
   "outputs": [
    {
     "name": "stdout",
     "output_type": "stream",
     "text": [
      "[1] 1361\n"
     ]
    },
    {
     "data": {
      "text/html": [
       "<dl class=dl-horizontal>\n",
       "\t<dt>E1</dt>\n",
       "\t\t<dd>113</dd>\n",
       "\t<dt>E2</dt>\n",
       "\t\t<dd>1376</dd>\n",
       "\t<dt>E3</dt>\n",
       "\t\t<dd>194</dd>\n",
       "\t<dt>E4</dt>\n",
       "\t\t<dd>142</dd>\n",
       "\t<dt>E5</dt>\n",
       "\t\t<dd>0</dd>\n",
       "\t<dt>E6</dt>\n",
       "\t\t<dd>0</dd>\n",
       "\t<dt>E7</dt>\n",
       "\t\t<dd>0</dd>\n",
       "\t<dt>E8</dt>\n",
       "\t\t<dd>0</dd>\n",
       "</dl>\n"
      ],
      "text/latex": [
       "\\begin{description*}\n",
       "\\item[E1] 113\n",
       "\\item[E2] 1376\n",
       "\\item[E3] 194\n",
       "\\item[E4] 142\n",
       "\\item[E5] 0\n",
       "\\item[E6] 0\n",
       "\\item[E7] 0\n",
       "\\item[E8] 0\n",
       "\\end{description*}\n"
      ],
      "text/markdown": [
       "E1\n",
       ":   113E2\n",
       ":   1376E3\n",
       ":   194E4\n",
       ":   142E5\n",
       ":   0E6\n",
       ":   0E7\n",
       ":   0E8\n",
       ":   0\n",
       "\n"
      ],
      "text/plain": [
       "  E1   E2   E3   E4   E5   E6   E7   E8 \n",
       " 113 1376  194  142    0    0    0    0 "
      ]
     },
     "execution_count": 46,
     "metadata": {},
     "output_type": "execute_result"
    }
   ],
   "source": [
    "es <- grep('^DRB1', en)\n",
    "print(length(es))\n",
    "colSums(exons[es])"
   ]
  },
  {
   "cell_type": "code",
   "execution_count": 47,
   "metadata": {
    "collapsed": false
   },
   "outputs": [
    {
     "name": "stdout",
     "output_type": "stream",
     "text": [
      "[1] 615\n"
     ]
    },
    {
     "data": {
      "text/html": [
       "<dl class=dl-horizontal>\n",
       "\t<dt>E1</dt>\n",
       "\t\t<dd>54</dd>\n",
       "\t<dt>E2</dt>\n",
       "\t\t<dd>617</dd>\n",
       "\t<dt>E3</dt>\n",
       "\t\t<dd>225</dd>\n",
       "\t<dt>E4</dt>\n",
       "\t\t<dd>83</dd>\n",
       "\t<dt>E5</dt>\n",
       "\t\t<dd>0</dd>\n",
       "\t<dt>E6</dt>\n",
       "\t\t<dd>0</dd>\n",
       "\t<dt>E7</dt>\n",
       "\t\t<dd>0</dd>\n",
       "\t<dt>E8</dt>\n",
       "\t\t<dd>0</dd>\n",
       "</dl>\n"
      ],
      "text/latex": [
       "\\begin{description*}\n",
       "\\item[E1] 54\n",
       "\\item[E2] 617\n",
       "\\item[E3] 225\n",
       "\\item[E4] 83\n",
       "\\item[E5] 0\n",
       "\\item[E6] 0\n",
       "\\item[E7] 0\n",
       "\\item[E8] 0\n",
       "\\end{description*}\n"
      ],
      "text/markdown": [
       "E1\n",
       ":   54E2\n",
       ":   617E3\n",
       ":   225E4\n",
       ":   83E5\n",
       ":   0E6\n",
       ":   0E7\n",
       ":   0E8\n",
       ":   0\n",
       "\n"
      ],
      "text/plain": [
       " E1  E2  E3  E4  E5  E6  E7  E8 \n",
       " 54 617 225  83   0   0   0   0 "
      ]
     },
     "execution_count": 47,
     "metadata": {},
     "output_type": "execute_result"
    }
   ],
   "source": [
    "es <- grep('^DQB1', en)\n",
    "print(length(es))\n",
    "colSums(exons[es])"
   ]
  },
  {
   "cell_type": "code",
   "execution_count": 48,
   "metadata": {
    "collapsed": false
   },
   "outputs": [
    {
     "name": "stdout",
     "output_type": "stream",
     "text": [
      "[1] 488\n"
     ]
    },
    {
     "data": {
      "text/html": [
       "<dl class=dl-horizontal>\n",
       "\t<dt>E1</dt>\n",
       "\t\t<dd>30</dd>\n",
       "\t<dt>E2</dt>\n",
       "\t\t<dd>492</dd>\n",
       "\t<dt>E3</dt>\n",
       "\t\t<dd>71</dd>\n",
       "\t<dt>E4</dt>\n",
       "\t\t<dd>49</dd>\n",
       "\t<dt>E5</dt>\n",
       "\t\t<dd>0</dd>\n",
       "\t<dt>E6</dt>\n",
       "\t\t<dd>0</dd>\n",
       "\t<dt>E7</dt>\n",
       "\t\t<dd>0</dd>\n",
       "\t<dt>E8</dt>\n",
       "\t\t<dd>0</dd>\n",
       "</dl>\n"
      ],
      "text/latex": [
       "\\begin{description*}\n",
       "\\item[E1] 30\n",
       "\\item[E2] 492\n",
       "\\item[E3] 71\n",
       "\\item[E4] 49\n",
       "\\item[E5] 0\n",
       "\\item[E6] 0\n",
       "\\item[E7] 0\n",
       "\\item[E8] 0\n",
       "\\end{description*}\n"
      ],
      "text/markdown": [
       "E1\n",
       ":   30E2\n",
       ":   492E3\n",
       ":   71E4\n",
       ":   49E5\n",
       ":   0E6\n",
       ":   0E7\n",
       ":   0E8\n",
       ":   0\n",
       "\n"
      ],
      "text/plain": [
       " E1  E2  E3  E4  E5  E6  E7  E8 \n",
       " 30 492  71  49   0   0   0   0 "
      ]
     },
     "execution_count": 48,
     "metadata": {},
     "output_type": "execute_result"
    }
   ],
   "source": [
    "es <- grep('^DPB1', en)\n",
    "print(length(es))\n",
    "colSums(exons[es])"
   ]
  },
  {
   "cell_type": "code",
   "execution_count": 91,
   "metadata": {
    "collapsed": false
   },
   "outputs": [
    {
     "data": {
      "image/png": "[encoded data removed]",
      "image/svg+xml": [
       "<?xml version=\"1.0\" encoding=\"UTF-8\"?>\n",
       "<svg xmlns=\"http://www.w3.org/2000/svg\" xmlns:xlink=\"http://www.w3.org/1999/xlink\" width=\"504pt\" height=\"504pt\" viewBox=\"0 0 504 504\" version=\"1.1\">\n",
       "<defs>\n",
       "<g>\n",
       "<symbol overflow=\"visible\" id=\"glyph0-0\">\n",
       "<path style=\"stroke:none;\" d=\"\"/>\n",
       "</symbol>\n",
       "<symbol overflow=\"visible\" id=\"glyph0-1\">\n",
       "<path style=\"stroke:none;\" d=\"M 2.984375 -7.78125 L 0.96875 -7.78125 L 0.96875 0 L 2.984375 0 Z M 2.984375 -10.5 L 0.96875 -10.5 L 0.96875 -8.703125 L 2.984375 -8.703125 Z M 2.984375 -10.5 \"/>\n",
       "</symbol>\n",
       "<symbol overflow=\"visible\" id=\"glyph0-2\">\n",
       "<path style=\"stroke:none;\" d=\"M 0.90625 -7.78125 L 0.90625 0 L 2.921875 0 L 2.921875 -4.140625 C 2.921875 -5.3125 3.515625 -5.90625 4.703125 -5.90625 C 4.90625 -5.90625 5.0625 -5.890625 5.328125 -5.84375 L 5.328125 -7.890625 C 5.21875 -7.90625 5.140625 -7.90625 5.078125 -7.90625 C 4.15625 -7.90625 3.359375 -7.296875 2.921875 -6.25 L 2.921875 -7.78125 Z M 0.90625 -7.78125 \"/>\n",
       "</symbol>\n",
       "<symbol overflow=\"visible\" id=\"glyph0-3\">\n",
       "<path style=\"stroke:none;\" d=\"M 3.078125 -2.109375 L 0.921875 -2.109375 L 0.921875 0 L 3.078125 0 Z M 3.078125 -2.109375 \"/>\n",
       "</symbol>\n",
       "<symbol overflow=\"visible\" id=\"glyph0-4\">\n",
       "<path style=\"stroke:none;\" d=\"M 5.875 -7.78125 L 5.875 -6.578125 C 5.265625 -7.5 4.609375 -7.90625 3.71875 -7.90625 C 1.875 -7.90625 0.484375 -6.109375 0.484375 -3.703125 C 0.484375 -1.28125 1.75 0.328125 3.671875 0.328125 C 4.578125 0.328125 5.125 0.0625 5.875 -0.796875 L 5.875 0.265625 C 5.875 1.203125 5.171875 1.84375 4.15625 1.84375 C 3.40625 1.84375 2.890625 1.53125 2.734375 0.9375 L 0.640625 0.9375 C 0.65625 1.546875 0.890625 1.953125 1.40625 2.390625 C 2.03125 2.890625 2.890625 3.140625 4.09375 3.140625 C 6.4375 3.140625 7.796875 2.09375 7.796875 0.265625 L 7.796875 -7.78125 Z M 4.15625 -6.21875 C 5.15625 -6.21875 5.90625 -5.171875 5.90625 -3.734375 C 5.90625 -2.3125 5.171875 -1.359375 4.125 -1.359375 C 3.171875 -1.359375 2.5 -2.3125 2.5 -3.734375 C 2.5 -5.203125 3.171875 -6.21875 4.15625 -6.21875 Z M 4.15625 -6.21875 \"/>\n",
       "</symbol>\n",
       "<symbol overflow=\"visible\" id=\"glyph0-5\">\n",
       "<path style=\"stroke:none;\" d=\"M 4.34375 -7.90625 C 1.953125 -7.90625 0.5 -6.34375 0.5 -3.78125 C 0.5 -1.21875 1.953125 0.328125 4.34375 0.328125 C 6.71875 0.328125 8.203125 -1.234375 8.203125 -3.734375 C 8.203125 -6.375 6.765625 -7.90625 4.34375 -7.90625 Z M 4.34375 -6.28125 C 5.453125 -6.28125 6.1875 -5.28125 6.1875 -3.765625 C 6.1875 -2.3125 5.4375 -1.296875 4.34375 -1.296875 C 3.25 -1.296875 2.515625 -2.3125 2.515625 -3.78125 C 2.515625 -5.265625 3.25 -6.28125 4.34375 -6.28125 Z M 4.34375 -6.28125 \"/>\n",
       "</symbol>\n",
       "<symbol overflow=\"visible\" id=\"glyph0-6\">\n",
       "<path style=\"stroke:none;\" d=\"M 5.828125 0 L 7.84375 0 L 7.84375 -10.5 L 5.828125 -10.5 L 5.828125 -6.765625 C 5.328125 -7.546875 4.65625 -7.90625 3.6875 -7.90625 C 1.828125 -7.90625 0.421875 -6.125 0.421875 -3.78125 C 0.421875 -2.71875 0.734375 -1.65625 1.25 -0.90625 C 1.78125 -0.15625 2.734375 0.328125 3.6875 0.328125 C 4.65625 0.328125 5.328125 -0.03125 5.828125 -0.796875 Z M 4.140625 -6.21875 C 5.15625 -6.21875 5.828125 -5.234375 5.828125 -3.75 C 5.828125 -2.328125 5.140625 -1.359375 4.140625 -1.359375 C 3.125 -1.359375 2.4375 -2.34375 2.4375 -3.78125 C 2.4375 -5.21875 3.125 -6.21875 4.140625 -6.21875 Z M 4.140625 -6.21875 \"/>\n",
       "</symbol>\n",
       "<symbol overflow=\"visible\" id=\"glyph1-0\">\n",
       "<path style=\"stroke:none;\" d=\"\"/>\n",
       "</symbol>\n",
       "<symbol overflow=\"visible\" id=\"glyph1-1\">\n",
       "<path style=\"stroke:none;\" d=\"M 3.296875 -8.515625 C 2.515625 -8.515625 1.78125 -8.15625 1.34375 -7.578125 C 0.796875 -6.828125 0.515625 -5.6875 0.515625 -4.109375 C 0.515625 -1.25 1.46875 0.28125 3.296875 0.28125 C 5.09375 0.28125 6.078125 -1.25 6.078125 -4.046875 C 6.078125 -5.703125 5.8125 -6.796875 5.25 -7.578125 C 4.8125 -8.171875 4.109375 -8.515625 3.296875 -8.515625 Z M 3.296875 -7.578125 C 4.4375 -7.578125 5 -6.421875 5 -4.140625 C 5 -1.734375 4.453125 -0.59375 3.28125 -0.59375 C 2.15625 -0.59375 1.59375 -1.78125 1.59375 -4.109375 C 1.59375 -6.4375 2.15625 -7.578125 3.296875 -7.578125 Z M 3.296875 -7.578125 \"/>\n",
       "</symbol>\n",
       "<symbol overflow=\"visible\" id=\"glyph1-2\">\n",
       "<path style=\"stroke:none;\" d=\"M 6.078125 -1.046875 L 1.59375 -1.046875 C 1.703125 -1.734375 2.09375 -2.1875 3.125 -2.796875 L 4.328125 -3.4375 C 5.515625 -4.09375 6.125 -4.96875 6.125 -6.015625 C 6.125 -6.71875 5.84375 -7.375 5.34375 -7.84375 C 4.84375 -8.296875 4.21875 -8.515625 3.40625 -8.515625 C 2.328125 -8.515625 1.53125 -8.125 1.0625 -7.40625 C 0.75 -6.953125 0.625 -6.421875 0.59375 -5.5625 L 1.65625 -5.5625 C 1.6875 -6.125 1.765625 -6.484375 1.90625 -6.75 C 2.1875 -7.265625 2.734375 -7.578125 3.375 -7.578125 C 4.328125 -7.578125 5.046875 -6.90625 5.046875 -5.984375 C 5.046875 -5.3125 4.65625 -4.734375 3.90625 -4.3125 L 2.796875 -3.6875 C 1.015625 -2.671875 0.5 -1.875 0.40625 0 L 6.078125 0 Z M 6.078125 -1.046875 \"/>\n",
       "</symbol>\n",
       "<symbol overflow=\"visible\" id=\"glyph1-3\">\n",
       "<path style=\"stroke:none;\" d=\"M 3.921875 -2.046875 L 3.921875 0 L 4.984375 0 L 4.984375 -2.046875 L 6.234375 -2.046875 L 6.234375 -2.984375 L 4.984375 -2.984375 L 4.984375 -8.515625 L 4.203125 -8.515625 L 0.34375 -3.15625 L 0.34375 -2.046875 Z M 3.921875 -2.984375 L 1.265625 -2.984375 L 3.921875 -6.703125 Z M 3.921875 -2.984375 \"/>\n",
       "</symbol>\n",
       "<symbol overflow=\"visible\" id=\"glyph1-4\">\n",
       "<path style=\"stroke:none;\" d=\"M 5.96875 -6.28125 C 5.765625 -7.6875 4.859375 -8.515625 3.5625 -8.515625 C 2.625 -8.515625 1.78125 -8.046875 1.28125 -7.296875 C 0.75 -6.46875 0.515625 -5.421875 0.515625 -3.875 C 0.515625 -2.453125 0.734375 -1.53125 1.234375 -0.78125 C 1.6875 -0.09375 2.4375 0.28125 3.375 0.28125 C 4.984375 0.28125 6.15625 -0.921875 6.15625 -2.59375 C 6.15625 -4.171875 5.078125 -5.296875 3.546875 -5.296875 C 2.71875 -5.296875 2.046875 -4.96875 1.59375 -4.34375 C 1.609375 -6.421875 2.28125 -7.578125 3.484375 -7.578125 C 4.234375 -7.578125 4.75 -7.109375 4.921875 -6.28125 Z M 3.421875 -4.359375 C 4.4375 -4.359375 5.078125 -3.640625 5.078125 -2.515625 C 5.078125 -1.4375 4.359375 -0.65625 3.390625 -0.65625 C 2.40625 -0.65625 1.65625 -1.46875 1.65625 -2.5625 C 1.65625 -3.625 2.375 -4.359375 3.421875 -4.359375 Z M 3.421875 -4.359375 \"/>\n",
       "</symbol>\n",
       "<symbol overflow=\"visible\" id=\"glyph1-5\">\n",
       "<path style=\"stroke:none;\" d=\"M 4.6875 -4.46875 C 5.5625 -5 5.859375 -5.4375 5.859375 -6.234375 C 5.859375 -7.578125 4.8125 -8.515625 3.296875 -8.515625 C 1.796875 -8.515625 0.75 -7.578125 0.75 -6.234375 C 0.75 -5.453125 1.03125 -5.015625 1.890625 -4.46875 C 0.921875 -4.015625 0.4375 -3.296875 0.4375 -2.359375 C 0.4375 -0.796875 1.625 0.28125 3.296875 0.28125 C 4.984375 0.28125 6.15625 -0.796875 6.15625 -2.359375 C 6.15625 -3.296875 5.671875 -4.015625 4.6875 -4.46875 Z M 3.296875 -7.578125 C 4.203125 -7.578125 4.78125 -7.046875 4.78125 -6.21875 C 4.78125 -5.421875 4.1875 -4.890625 3.296875 -4.890625 C 2.40625 -4.890625 1.828125 -5.421875 1.828125 -6.234375 C 1.828125 -7.046875 2.40625 -7.578125 3.296875 -7.578125 Z M 3.296875 -4.015625 C 4.359375 -4.015625 5.078125 -3.34375 5.078125 -2.34375 C 5.078125 -1.328125 4.359375 -0.65625 3.28125 -0.65625 C 2.25 -0.65625 1.53125 -1.34375 1.53125 -2.34375 C 1.53125 -3.34375 2.25 -4.015625 3.296875 -4.015625 Z M 3.296875 -4.015625 \"/>\n",
       "</symbol>\n",
       "</g>\n",
       "</defs>\n",
       "<g id=\"surface160\">\n",
       "<rect x=\"0\" y=\"0\" width=\"504\" height=\"504\" style=\"fill:rgb(100%,100%,100%);fill-opacity:1;stroke:none;\"/>\n",
       "<path style=\"fill-rule:nonzero;fill:rgb(0%,0%,0%);fill-opacity:1;stroke-width:0.75;stroke-linecap:round;stroke-linejoin:round;stroke:rgb(0%,0%,0%);stroke-opacity:1;stroke-miterlimit:10;\" d=\"M 159.046875 407.246094 L 365.5 407.246094 L 365.5 388.136719 L 159.046875 388.136719 Z M 159.046875 407.246094 \"/>\n",
       "<path style=\"fill-rule:nonzero;fill:rgb(49.803922%,49.803922%,49.803922%);fill-opacity:1;stroke-width:0.75;stroke-linecap:round;stroke-linejoin:round;stroke:rgb(0%,0%,0%);stroke-opacity:1;stroke-miterlimit:10;\" d=\"M 200.335938 378.578125 L 398.53125 378.578125 L 398.53125 359.46875 L 200.335938 359.46875 Z M 200.335938 378.578125 \"/>\n",
       "<path style=\"fill-rule:nonzero;fill:rgb(0%,0%,0%);fill-opacity:1;stroke-width:0.75;stroke-linecap:round;stroke-linejoin:round;stroke:rgb(0%,0%,0%);stroke-opacity:1;stroke-miterlimit:10;\" d=\"M 200.335938 349.910156 L 406.789062 349.910156 L 406.789062 330.800781 L 200.335938 330.800781 Z M 200.335938 349.910156 \"/>\n",
       "<path style=\"fill-rule:nonzero;fill:rgb(49.803922%,49.803922%,49.803922%);fill-opacity:1;stroke-width:0.75;stroke-linecap:round;stroke-linejoin:round;stroke:rgb(0%,0%,0%);stroke-opacity:1;stroke-miterlimit:10;\" d=\"M 204.464844 321.246094 L 410.917969 321.246094 L 410.917969 302.136719 L 204.464844 302.136719 Z M 204.464844 321.246094 \"/>\n",
       "<path style=\"fill-rule:nonzero;fill:rgb(0%,0%,0%);fill-opacity:1;stroke-width:0.75;stroke-linecap:round;stroke-linejoin:round;stroke:rgb(0%,0%,0%);stroke-opacity:1;stroke-miterlimit:10;\" d=\"M 212.722656 292.578125 L 419.175781 292.578125 L 419.175781 273.46875 L 212.722656 273.46875 Z M 212.722656 292.578125 \"/>\n",
       "<path style=\"fill-rule:nonzero;fill:rgb(49.803922%,49.803922%,49.803922%);fill-opacity:1;stroke-width:0.75;stroke-linecap:round;stroke-linejoin:round;stroke:rgb(0%,0%,0%);stroke-opacity:1;stroke-miterlimit:10;\" d=\"M 220.980469 263.910156 L 423.304688 263.910156 L 423.304688 244.800781 L 220.980469 244.800781 Z M 220.980469 263.910156 \"/>\n",
       "<path style=\"fill-rule:nonzero;fill:rgb(0%,0%,0%);fill-opacity:1;stroke-width:0.75;stroke-linecap:round;stroke-linejoin:round;stroke:rgb(0%,0%,0%);stroke-opacity:1;stroke-miterlimit:10;\" d=\"M 237.496094 235.246094 L 439.820312 235.246094 L 439.820312 216.136719 L 237.496094 216.136719 Z M 237.496094 235.246094 \"/>\n",
       "<path style=\"fill-rule:nonzero;fill:rgb(49.803922%,49.803922%,49.803922%);fill-opacity:1;stroke-width:0.75;stroke-linecap:round;stroke-linejoin:round;stroke:rgb(0%,0%,0%);stroke-opacity:1;stroke-miterlimit:10;\" d=\"M 291.175781 206.578125 L 460.464844 206.578125 L 460.464844 187.46875 L 291.175781 187.46875 Z M 291.175781 206.578125 \"/>\n",
       "<path style=\"fill-rule:nonzero;fill:rgb(0%,0%,0%);fill-opacity:1;stroke-width:0.75;stroke-linecap:round;stroke-linejoin:round;stroke:rgb(0%,0%,0%);stroke-opacity:1;stroke-miterlimit:10;\" d=\"M 377.882812 407.246094 L 460.464844 407.246094 L 460.464844 388.136719 L 377.882812 388.136719 Z M 377.882812 407.246094 \"/>\n",
       "<path style=\"fill-rule:nonzero;fill:rgb(49.803922%,49.803922%,49.803922%);fill-opacity:1;stroke-width:0.75;stroke-linecap:round;stroke-linejoin:round;stroke:rgb(0%,0%,0%);stroke-opacity:1;stroke-miterlimit:10;\" d=\"M 386.140625 177.910156 L 460.464844 177.910156 L 460.464844 158.800781 L 386.140625 158.800781 Z M 386.140625 177.910156 \"/>\n",
       "<path style=\"fill-rule:nonzero;fill:rgb(0%,0%,0%);fill-opacity:1;stroke-width:0.75;stroke-linecap:round;stroke-linejoin:round;stroke:rgb(0%,0%,0%);stroke-opacity:1;stroke-miterlimit:10;\" d=\"M 394.398438 149.246094 L 460.464844 149.246094 L 460.464844 130.136719 L 394.398438 130.136719 Z M 394.398438 149.246094 \"/>\n",
       "<path style=\"fill-rule:nonzero;fill:rgb(49.803922%,49.803922%,49.803922%);fill-opacity:1;stroke-width:0.75;stroke-linecap:round;stroke-linejoin:round;stroke:rgb(0%,0%,0%);stroke-opacity:1;stroke-miterlimit:10;\" d=\"M 402.65625 378.578125 L 460.460938 378.578125 L 460.460938 359.46875 L 402.65625 359.46875 Z M 402.65625 378.578125 \"/>\n",
       "<path style=\"fill-rule:nonzero;fill:rgb(0%,0%,0%);fill-opacity:1;stroke-width:0.75;stroke-linecap:round;stroke-linejoin:round;stroke:rgb(0%,0%,0%);stroke-opacity:1;stroke-miterlimit:10;\" d=\"M 410.917969 349.910156 L 460.464844 349.910156 L 460.464844 330.800781 L 410.917969 330.800781 Z M 410.917969 349.910156 \"/>\n",
       "<path style=\"fill-rule:nonzero;fill:rgb(49.803922%,49.803922%,49.803922%);fill-opacity:1;stroke-width:0.75;stroke-linecap:round;stroke-linejoin:round;stroke:rgb(0%,0%,0%);stroke-opacity:1;stroke-miterlimit:10;\" d=\"M 419.175781 321.246094 L 460.464844 321.246094 L 460.464844 302.136719 L 419.175781 302.136719 Z M 419.175781 321.246094 \"/>\n",
       "<path style=\"fill-rule:nonzero;fill:rgb(0%,0%,0%);fill-opacity:1;stroke-width:0.75;stroke-linecap:round;stroke-linejoin:round;stroke:rgb(0%,0%,0%);stroke-opacity:1;stroke-miterlimit:10;\" d=\"M 419.175781 120.578125 L 460.464844 120.578125 L 460.464844 101.46875 L 419.175781 101.46875 Z M 419.175781 120.578125 \"/>\n",
       "<path style=\"fill-rule:nonzero;fill:rgb(49.803922%,49.803922%,49.803922%);fill-opacity:1;stroke-width:0.75;stroke-linecap:round;stroke-linejoin:round;stroke:rgb(0%,0%,0%);stroke-opacity:1;stroke-miterlimit:10;\" d=\"M 419.175781 91.910156 L 460.464844 91.910156 L 460.464844 72.800781 L 419.175781 72.800781 Z M 419.175781 91.910156 \"/>\n",
       "<g style=\"fill:rgb(0%,0%,0%);fill-opacity:1;\">\n",
       "  <use xlink:href=\"#glyph0-1\" x=\"241.898438\" y=\"34.116211\"/>\n",
       "  <use xlink:href=\"#glyph0-2\" x=\"245.90332\" y=\"34.116211\"/>\n",
       "  <use xlink:href=\"#glyph0-3\" x=\"251.507812\" y=\"34.116211\"/>\n",
       "  <use xlink:href=\"#glyph0-4\" x=\"255.512695\" y=\"34.116211\"/>\n",
       "  <use xlink:href=\"#glyph0-5\" x=\"264.314453\" y=\"34.116211\"/>\n",
       "  <use xlink:href=\"#glyph0-5\" x=\"273.116211\" y=\"34.116211\"/>\n",
       "  <use xlink:href=\"#glyph0-6\" x=\"281.917969\" y=\"34.116211\"/>\n",
       "</g>\n",
       "<path style=\"fill:none;stroke-width:0.75;stroke-linecap:round;stroke-linejoin:round;stroke:rgb(0%,0%,0%);stroke-opacity:1;stroke-miterlimit:10;\" d=\"M 74.398438 430.558594 L 404.722656 430.558594 \"/>\n",
       "<path style=\"fill:none;stroke-width:0.75;stroke-linecap:round;stroke-linejoin:round;stroke:rgb(0%,0%,0%);stroke-opacity:1;stroke-miterlimit:10;\" d=\"M 74.398438 430.558594 L 74.398438 437.761719 \"/>\n",
       "<path style=\"fill:none;stroke-width:0.75;stroke-linecap:round;stroke-linejoin:round;stroke:rgb(0%,0%,0%);stroke-opacity:1;stroke-miterlimit:10;\" d=\"M 156.980469 430.558594 L 156.980469 437.761719 \"/>\n",
       "<path style=\"fill:none;stroke-width:0.75;stroke-linecap:round;stroke-linejoin:round;stroke:rgb(0%,0%,0%);stroke-opacity:1;stroke-miterlimit:10;\" d=\"M 239.5625 430.558594 L 239.5625 437.761719 \"/>\n",
       "<path style=\"fill:none;stroke-width:0.75;stroke-linecap:round;stroke-linejoin:round;stroke:rgb(0%,0%,0%);stroke-opacity:1;stroke-miterlimit:10;\" d=\"M 322.140625 430.558594 L 322.140625 437.761719 \"/>\n",
       "<path style=\"fill:none;stroke-width:0.75;stroke-linecap:round;stroke-linejoin:round;stroke:rgb(0%,0%,0%);stroke-opacity:1;stroke-miterlimit:10;\" d=\"M 404.722656 430.558594 L 404.722656 437.761719 \"/>\n",
       "<g style=\"fill:rgb(0%,0%,0%);fill-opacity:1;\">\n",
       "  <use xlink:href=\"#glyph1-1\" x=\"70.898438\" y=\"455.916016\"/>\n",
       "</g>\n",
       "<g style=\"fill:rgb(0%,0%,0%);fill-opacity:1;\">\n",
       "  <use xlink:href=\"#glyph1-2\" x=\"149.980469\" y=\"455.916016\"/>\n",
       "  <use xlink:href=\"#glyph1-1\" x=\"156.652344\" y=\"455.916016\"/>\n",
       "</g>\n",
       "<g style=\"fill:rgb(0%,0%,0%);fill-opacity:1;\">\n",
       "  <use xlink:href=\"#glyph1-3\" x=\"232.5625\" y=\"455.916016\"/>\n",
       "  <use xlink:href=\"#glyph1-1\" x=\"239.234375\" y=\"455.916016\"/>\n",
       "</g>\n",
       "<g style=\"fill:rgb(0%,0%,0%);fill-opacity:1;\">\n",
       "  <use xlink:href=\"#glyph1-4\" x=\"315.140625\" y=\"455.916016\"/>\n",
       "  <use xlink:href=\"#glyph1-1\" x=\"321.8125\" y=\"455.916016\"/>\n",
       "</g>\n",
       "<g style=\"fill:rgb(0%,0%,0%);fill-opacity:1;\">\n",
       "  <use xlink:href=\"#glyph1-5\" x=\"397.722656\" y=\"455.916016\"/>\n",
       "  <use xlink:href=\"#glyph1-1\" x=\"404.394531\" y=\"455.916016\"/>\n",
       "</g>\n",
       "</g>\n",
       "</svg>\n"
      ],
      "text/plain": [
       "Plot with title “ir.good”"
      ]
     },
     "metadata": {
      "image/svg+xml": {
       "isolated": true
      }
     },
     "output_type": "display_data"
    }
   ],
   "source": [
    "plotRanges2 <- function(x, xlim = x, main = deparse(substitute(x)), col = \"black\", sep = 0.5, ...)\n",
    " {\n",
    " height <- 1\n",
    " if (is(xlim, \"Ranges\"))\n",
    " xlim <- c(0, max(end(xlim)))\n",
    " bins <- disjointBins(IRanges(start(x), end(x) + 1))\n",
    " plot.new()\n",
    " plot.window(xlim, c(0, max(bins)*(height + sep)))\n",
    " ybottom <- bins * (sep + height) - height\n",
    " rect(start(x)-0.5, ybottom, end(x)+0.5, ybottom + height, col = col, ...)\n",
    " title(main)\n",
    " axis(1)\n",
    " }\n",
    "plotRanges2(ir.good, col = rep(c('black', 'gray50'), 8))"
   ]
  },
  {
   "cell_type": "code",
   "execution_count": null,
   "metadata": {
    "collapsed": true
   },
   "outputs": [],
   "source": []
  }
 ],
 "metadata": {
  "kernelspec": {
   "display_name": "R",
   "language": "R",
   "name": "ir"
  },
  "language_info": {
   "codemirror_mode": "r",
   "file_extension": ".r",
   "mimetype": "text/x-r-source",
   "name": "R",
   "pygments_lexer": "r",
   "version": "3.2.2"
  }
 },
 "nbformat": 4,
 "nbformat_minor": 0
}
