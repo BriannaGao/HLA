{
 "cells": [
  {
   "cell_type": "code",
   "execution_count": 1,
   "metadata": {
    "collapsed": true
   },
   "outputs": [],
   "source": [
    "library(data.table)"
   ]
  },
  {
   "cell_type": "code",
   "execution_count": 2,
   "metadata": {
    "collapsed": true
   },
   "outputs": [],
   "source": [
    "dt <- fread('out.I.tsv')"
   ]
  },
  {
   "cell_type": "code",
   "execution_count": 3,
   "metadata": {
    "collapsed": false
   },
   "outputs": [
    {
     "data": {
      "text/html": [
       "<table>\n",
       "<thead><tr><th></th><th scope=col>V1</th><th scope=col>V2</th><th scope=col>V3</th><th scope=col>V4</th><th scope=col>V5</th><th scope=col>V6</th><th scope=col>V7</th></tr></thead>\n",
       "<tbody>\n",
       "\t<tr><th scope=row>1</th><td>H5JCKCCXX:7:10:724696:0/1</td><td>C*01:20</td><td>28</td><td>16</td><td>16</td><td>1</td><td>MKYFFTSVSRPGRGEP</td></tr>\n",
       "\t<tr><th scope=row>2</th><td>H5JCKCCXX:7:10:724696:0/1</td><td>C*01:58</td><td>28</td><td>16</td><td>16</td><td>1</td><td>MKYFFTSVSRPGRGEP</td></tr>\n",
       "\t<tr><th scope=row>3</th><td>H5JCKCCXX:7:10:724696:0/1</td><td>C*01:86N</td><td>28</td><td>16</td><td>16</td><td>1</td><td>MKYFFTSVSRPGRGEP</td></tr>\n",
       "\t<tr><th scope=row>4</th><td>H5JCKCCXX:7:10:724696:0/1</td><td>C*01:22</td><td>28</td><td>16</td><td>16</td><td>1</td><td>MKYFFTSVSRPGRGEP</td></tr>\n",
       "\t<tr><th scope=row>5</th><td>H5JCKCCXX:7:10:724696:0/1</td><td>C*01:13</td><td>28</td><td>16</td><td>16</td><td>1</td><td>MKYFFTSVSRPGRGEP</td></tr>\n",
       "\t<tr><th scope=row>6</th><td>H5JCKCCXX:7:10:724696:0/1</td><td>C*01:40</td><td>28</td><td>16</td><td>16</td><td>1</td><td>MKYFFTSVSRPGRGEP</td></tr>\n",
       "</tbody>\n",
       "</table>\n"
      ],
      "text/latex": [
       "\\begin{tabular}{r|lllllll}\n",
       "  & V1 & V2 & V3 & V4 & V5 & V6 & V7\\\\\n",
       "\\hline\n",
       "\t1 & H5JCKCCXX:7:10:724696:0/1 & C*01:20 & 28 & 16 & 16 & 1 & MKYFFTSVSRPGRGEP\\\\\n",
       "\t2 & H5JCKCCXX:7:10:724696:0/1 & C*01:58 & 28 & 16 & 16 & 1 & MKYFFTSVSRPGRGEP\\\\\n",
       "\t3 & H5JCKCCXX:7:10:724696:0/1 & C*01:86N & 28 & 16 & 16 & 1 & MKYFFTSVSRPGRGEP\\\\\n",
       "\t4 & H5JCKCCXX:7:10:724696:0/1 & C*01:22 & 28 & 16 & 16 & 1 & MKYFFTSVSRPGRGEP\\\\\n",
       "\t5 & H5JCKCCXX:7:10:724696:0/1 & C*01:13 & 28 & 16 & 16 & 1 & MKYFFTSVSRPGRGEP\\\\\n",
       "\t6 & H5JCKCCXX:7:10:724696:0/1 & C*01:40 & 28 & 16 & 16 & 1 & MKYFFTSVSRPGRGEP\\\\\n",
       "\\end{tabular}\n"
      ],
      "text/plain": [
       "                          V1       V2 V3 V4 V5 V6               V7\n",
       "1: H5JCKCCXX:7:10:724696:0/1  C*01:20 28 16 16  1 MKYFFTSVSRPGRGEP\n",
       "2: H5JCKCCXX:7:10:724696:0/1  C*01:58 28 16 16  1 MKYFFTSVSRPGRGEP\n",
       "3: H5JCKCCXX:7:10:724696:0/1 C*01:86N 28 16 16  1 MKYFFTSVSRPGRGEP\n",
       "4: H5JCKCCXX:7:10:724696:0/1  C*01:22 28 16 16  1 MKYFFTSVSRPGRGEP\n",
       "5: H5JCKCCXX:7:10:724696:0/1  C*01:13 28 16 16  1 MKYFFTSVSRPGRGEP\n",
       "6: H5JCKCCXX:7:10:724696:0/1  C*01:40 28 16 16  1 MKYFFTSVSRPGRGEP"
      ]
     },
     "execution_count": 3,
     "metadata": {},
     "output_type": "execute_result"
    }
   ],
   "source": [
    "head(dt)"
   ]
  },
  {
   "cell_type": "code",
   "execution_count": 4,
   "metadata": {
    "collapsed": true
   },
   "outputs": [],
   "source": [
    "setnames(dt, c('q', 't', 'pos', 'len', 'align', 'specific', 'seq'))"
   ]
  },
  {
   "cell_type": "code",
   "execution_count": 5,
   "metadata": {
    "collapsed": false
   },
   "outputs": [
    {
     "data": {
      "text/html": [
       "408939"
      ],
      "text/latex": [
       "408939"
      ],
      "text/markdown": [
       "408939"
      ],
      "text/plain": [
       "[1] 408939"
      ]
     },
     "execution_count": 5,
     "metadata": {},
     "output_type": "execute_result"
    }
   ],
   "source": [
    "nrow(dt)"
   ]
  },
  {
   "cell_type": "code",
   "execution_count": 6,
   "metadata": {
    "collapsed": false
   },
   "outputs": [
    {
     "data": {
      "text/html": [
       "<table>\n",
       "<thead><tr><th></th><th scope=col>qp</th><th scope=col>pair</th><th scope=col>q</th><th scope=col>t</th><th scope=col>pos</th><th scope=col>len</th><th scope=col>align</th><th scope=col>specific</th><th scope=col>seq</th></tr></thead>\n",
       "<tbody>\n",
       "\t<tr><th scope=row>1</th><td>H5JCKCCXX:1:10:149660:0</td><td>1</td><td>H5JCKCCXX:1:10:149660:0/1</td><td>B*15:58</td><td>242</td><td>49</td><td>49</td><td>1</td><td>RDGEDQTQDTELVETRPAGDRTFQKWAAVVVPSGEEQRYTCHVQHEGLP</td></tr>\n",
       "\t<tr><th scope=row>2</th><td>H5JCKCCXX:1:10:149660:0</td><td>1</td><td>H5JCKCCXX:1:10:149660:0/1</td><td>B*40:10</td><td>242</td><td>49</td><td>49</td><td>1</td><td>RDGEDQTQDTELVETRPAGDRTFQKWAAVVVPSGEEQRYTCHVQHEGLP</td></tr>\n",
       "\t<tr><th scope=row>3</th><td>H5JCKCCXX:1:10:149660:0</td><td>1</td><td>H5JCKCCXX:1:10:149660:0/1</td><td>B*40:91</td><td>242</td><td>49</td><td>49</td><td>1</td><td>RDGEDQTQDTELVETRPAGDRTFQKWAAVVVPSGEEQRYTCHVQHEGLP</td></tr>\n",
       "\t<tr><th scope=row>4</th><td>H5JCKCCXX:1:10:149660:0</td><td>1</td><td>H5JCKCCXX:1:10:149660:0/1</td><td>B*50:38</td><td>242</td><td>49</td><td>49</td><td>1</td><td>RDGEDQTQDTELVETRPAGDRTFQKWAAVVVPSGEEQRYTCHVQHEGLP</td></tr>\n",
       "\t<tr><th scope=row>5</th><td>H5JCKCCXX:1:10:149660:0</td><td>1</td><td>H5JCKCCXX:1:10:149660:0/1</td><td>B*27:17</td><td>242</td><td>49</td><td>49</td><td>1</td><td>RDGEDQTQDTELVETRPAGDRTFQKWAAVVVPSGEEQRYTCHVQHEGLP</td></tr>\n",
       "\t<tr><th scope=row>6</th><td>H5JCKCCXX:1:10:149660:0</td><td>1</td><td>H5JCKCCXX:1:10:149660:0/1</td><td>B*15:70</td><td>242</td><td>49</td><td>49</td><td>1</td><td>RDGEDQTQDTELVETRPAGDRTFQKWAAVVVPSGEEQRYTCHVQHEGLP</td></tr>\n",
       "</tbody>\n",
       "</table>\n"
      ],
      "text/latex": [
       "\\begin{tabular}{r|lllllllll}\n",
       "  & qp & pair & q & t & pos & len & align & specific & seq\\\\\n",
       "\\hline\n",
       "\t1 & H5JCKCCXX:1:10:149660:0 & 1 & H5JCKCCXX:1:10:149660:0/1 & B*15:58 & 242 & 49 & 49 & 1 & RDGEDQTQDTELVETRPAGDRTFQKWAAVVVPSGEEQRYTCHVQHEGLP\\\\\n",
       "\t2 & H5JCKCCXX:1:10:149660:0 & 1 & H5JCKCCXX:1:10:149660:0/1 & B*40:10 & 242 & 49 & 49 & 1 & RDGEDQTQDTELVETRPAGDRTFQKWAAVVVPSGEEQRYTCHVQHEGLP\\\\\n",
       "\t3 & H5JCKCCXX:1:10:149660:0 & 1 & H5JCKCCXX:1:10:149660:0/1 & B*40:91 & 242 & 49 & 49 & 1 & RDGEDQTQDTELVETRPAGDRTFQKWAAVVVPSGEEQRYTCHVQHEGLP\\\\\n",
       "\t4 & H5JCKCCXX:1:10:149660:0 & 1 & H5JCKCCXX:1:10:149660:0/1 & B*50:38 & 242 & 49 & 49 & 1 & RDGEDQTQDTELVETRPAGDRTFQKWAAVVVPSGEEQRYTCHVQHEGLP\\\\\n",
       "\t5 & H5JCKCCXX:1:10:149660:0 & 1 & H5JCKCCXX:1:10:149660:0/1 & B*27:17 & 242 & 49 & 49 & 1 & RDGEDQTQDTELVETRPAGDRTFQKWAAVVVPSGEEQRYTCHVQHEGLP\\\\\n",
       "\t6 & H5JCKCCXX:1:10:149660:0 & 1 & H5JCKCCXX:1:10:149660:0/1 & B*15:70 & 242 & 49 & 49 & 1 & RDGEDQTQDTELVETRPAGDRTFQKWAAVVVPSGEEQRYTCHVQHEGLP\\\\\n",
       "\\end{tabular}\n"
      ],
      "text/plain": [
       "                        qp pair                         q       t pos len align\n",
       "1: H5JCKCCXX:1:10:149660:0    1 H5JCKCCXX:1:10:149660:0/1 B*15:58 242  49    49\n",
       "2: H5JCKCCXX:1:10:149660:0    1 H5JCKCCXX:1:10:149660:0/1 B*40:10 242  49    49\n",
       "3: H5JCKCCXX:1:10:149660:0    1 H5JCKCCXX:1:10:149660:0/1 B*40:91 242  49    49\n",
       "4: H5JCKCCXX:1:10:149660:0    1 H5JCKCCXX:1:10:149660:0/1 B*50:38 242  49    49\n",
       "5: H5JCKCCXX:1:10:149660:0    1 H5JCKCCXX:1:10:149660:0/1 B*27:17 242  49    49\n",
       "6: H5JCKCCXX:1:10:149660:0    1 H5JCKCCXX:1:10:149660:0/1 B*15:70 242  49    49\n",
       "   specific                                               seq\n",
       "1:        1 RDGEDQTQDTELVETRPAGDRTFQKWAAVVVPSGEEQRYTCHVQHEGLP\n",
       "2:        1 RDGEDQTQDTELVETRPAGDRTFQKWAAVVVPSGEEQRYTCHVQHEGLP\n",
       "3:        1 RDGEDQTQDTELVETRPAGDRTFQKWAAVVVPSGEEQRYTCHVQHEGLP\n",
       "4:        1 RDGEDQTQDTELVETRPAGDRTFQKWAAVVVPSGEEQRYTCHVQHEGLP\n",
       "5:        1 RDGEDQTQDTELVETRPAGDRTFQKWAAVVVPSGEEQRYTCHVQHEGLP\n",
       "6:        1 RDGEDQTQDTELVETRPAGDRTFQKWAAVVVPSGEEQRYTCHVQHEGLP"
      ]
     },
     "execution_count": 6,
     "metadata": {},
     "output_type": "execute_result"
    }
   ],
   "source": [
    "tt <- dt[, qp := sub('/\\\\d$', '', q)]\n",
    "nr <- dt[, .(pair = length(unique(q))), keyby = qp]\n",
    "setkey(dt, qp)\n",
    "dt <- nr[dt]\n",
    "head(dt)"
   ]
  },
  {
   "cell_type": "code",
   "execution_count": 7,
   "metadata": {
    "collapsed": false
   },
   "outputs": [
    {
     "data": {
      "text/html": [
       "<table>\n",
       "<thead><tr><th></th><th scope=col>qp</th><th scope=col>t</th><th scope=col>pair2</th><th scope=col>pair</th><th scope=col>q</th><th scope=col>pos</th><th scope=col>len</th><th scope=col>align</th><th scope=col>specific</th><th scope=col>seq</th></tr></thead>\n",
       "<tbody>\n",
       "\t<tr><th scope=row>1</th><td>H5JCKCCXX:1:10:149660:0</td><td>B*07:02</td><td>1</td><td>1</td><td>H5JCKCCXX:1:10:149660:0/1</td><td>242</td><td>49</td><td>49</td><td>1</td><td>RDGEDQTQDTELVETRPAGDRTFQKWAAVVVPSGEEQRYTCHVQHEGLP</td></tr>\n",
       "\t<tr><th scope=row>2</th><td>H5JCKCCXX:1:10:149660:0</td><td>B*07:03</td><td>1</td><td>1</td><td>H5JCKCCXX:1:10:149660:0/1</td><td>242</td><td>49</td><td>49</td><td>1</td><td>RDGEDQTQDTELVETRPAGDRTFQKWAAVVVPSGEEQRYTCHVQHEGLP</td></tr>\n",
       "\t<tr><th scope=row>3</th><td>H5JCKCCXX:1:10:149660:0</td><td>B*07:04</td><td>1</td><td>1</td><td>H5JCKCCXX:1:10:149660:0/1</td><td>242</td><td>49</td><td>49</td><td>1</td><td>RDGEDQTQDTELVETRPAGDRTFQKWAAVVVPSGEEQRYTCHVQHEGLP</td></tr>\n",
       "\t<tr><th scope=row>4</th><td>H5JCKCCXX:1:10:149660:0</td><td>B*07:05</td><td>1</td><td>1</td><td>H5JCKCCXX:1:10:149660:0/1</td><td>242</td><td>49</td><td>49</td><td>1</td><td>RDGEDQTQDTELVETRPAGDRTFQKWAAVVVPSGEEQRYTCHVQHEGLP</td></tr>\n",
       "\t<tr><th scope=row>5</th><td>H5JCKCCXX:1:10:149660:0</td><td>B*07:06</td><td>1</td><td>1</td><td>H5JCKCCXX:1:10:149660:0/1</td><td>242</td><td>49</td><td>49</td><td>1</td><td>RDGEDQTQDTELVETRPAGDRTFQKWAAVVVPSGEEQRYTCHVQHEGLP</td></tr>\n",
       "\t<tr><th scope=row>6</th><td>H5JCKCCXX:1:10:149660:0</td><td>B*07:07</td><td>1</td><td>1</td><td>H5JCKCCXX:1:10:149660:0/1</td><td>242</td><td>49</td><td>49</td><td>1</td><td>RDGEDQTQDTELVETRPAGDRTFQKWAAVVVPSGEEQRYTCHVQHEGLP</td></tr>\n",
       "</tbody>\n",
       "</table>\n"
      ],
      "text/latex": [
       "\\begin{tabular}{r|llllllllll}\n",
       "  & qp & t & pair2 & pair & q & pos & len & align & specific & seq\\\\\n",
       "\\hline\n",
       "\t1 & H5JCKCCXX:1:10:149660:0 & B*07:02 & 1 & 1 & H5JCKCCXX:1:10:149660:0/1 & 242 & 49 & 49 & 1 & RDGEDQTQDTELVETRPAGDRTFQKWAAVVVPSGEEQRYTCHVQHEGLP\\\\\n",
       "\t2 & H5JCKCCXX:1:10:149660:0 & B*07:03 & 1 & 1 & H5JCKCCXX:1:10:149660:0/1 & 242 & 49 & 49 & 1 & RDGEDQTQDTELVETRPAGDRTFQKWAAVVVPSGEEQRYTCHVQHEGLP\\\\\n",
       "\t3 & H5JCKCCXX:1:10:149660:0 & B*07:04 & 1 & 1 & H5JCKCCXX:1:10:149660:0/1 & 242 & 49 & 49 & 1 & RDGEDQTQDTELVETRPAGDRTFQKWAAVVVPSGEEQRYTCHVQHEGLP\\\\\n",
       "\t4 & H5JCKCCXX:1:10:149660:0 & B*07:05 & 1 & 1 & H5JCKCCXX:1:10:149660:0/1 & 242 & 49 & 49 & 1 & RDGEDQTQDTELVETRPAGDRTFQKWAAVVVPSGEEQRYTCHVQHEGLP\\\\\n",
       "\t5 & H5JCKCCXX:1:10:149660:0 & B*07:06 & 1 & 1 & H5JCKCCXX:1:10:149660:0/1 & 242 & 49 & 49 & 1 & RDGEDQTQDTELVETRPAGDRTFQKWAAVVVPSGEEQRYTCHVQHEGLP\\\\\n",
       "\t6 & H5JCKCCXX:1:10:149660:0 & B*07:07 & 1 & 1 & H5JCKCCXX:1:10:149660:0/1 & 242 & 49 & 49 & 1 & RDGEDQTQDTELVETRPAGDRTFQKWAAVVVPSGEEQRYTCHVQHEGLP\\\\\n",
       "\\end{tabular}\n"
      ],
      "text/plain": [
       "                        qp       t pair2 pair                         q pos len\n",
       "1: H5JCKCCXX:1:10:149660:0 B*07:02     1    1 H5JCKCCXX:1:10:149660:0/1 242  49\n",
       "2: H5JCKCCXX:1:10:149660:0 B*07:03     1    1 H5JCKCCXX:1:10:149660:0/1 242  49\n",
       "3: H5JCKCCXX:1:10:149660:0 B*07:04     1    1 H5JCKCCXX:1:10:149660:0/1 242  49\n",
       "4: H5JCKCCXX:1:10:149660:0 B*07:05     1    1 H5JCKCCXX:1:10:149660:0/1 242  49\n",
       "5: H5JCKCCXX:1:10:149660:0 B*07:06     1    1 H5JCKCCXX:1:10:149660:0/1 242  49\n",
       "6: H5JCKCCXX:1:10:149660:0 B*07:07     1    1 H5JCKCCXX:1:10:149660:0/1 242  49\n",
       "   align specific                                               seq\n",
       "1:    49        1 RDGEDQTQDTELVETRPAGDRTFQKWAAVVVPSGEEQRYTCHVQHEGLP\n",
       "2:    49        1 RDGEDQTQDTELVETRPAGDRTFQKWAAVVVPSGEEQRYTCHVQHEGLP\n",
       "3:    49        1 RDGEDQTQDTELVETRPAGDRTFQKWAAVVVPSGEEQRYTCHVQHEGLP\n",
       "4:    49        1 RDGEDQTQDTELVETRPAGDRTFQKWAAVVVPSGEEQRYTCHVQHEGLP\n",
       "5:    49        1 RDGEDQTQDTELVETRPAGDRTFQKWAAVVVPSGEEQRYTCHVQHEGLP\n",
       "6:    49        1 RDGEDQTQDTELVETRPAGDRTFQKWAAVVVPSGEEQRYTCHVQHEGLP"
      ]
     },
     "execution_count": 7,
     "metadata": {},
     "output_type": "execute_result"
    }
   ],
   "source": [
    "nr <- dt[, .(pair2 = length(unique(q))), keyby = .(qp, t)]\n",
    "setkey(dt, qp, t)\n",
    "dt <- nr[dt]\n",
    "head(dt)"
   ]
  },
  {
   "cell_type": "code",
   "execution_count": 8,
   "metadata": {
    "collapsed": false
   },
   "outputs": [
    {
     "data": {
      "text/html": [
       "371291"
      ],
      "text/latex": [
       "371291"
      ],
      "text/markdown": [
       "371291"
      ],
      "text/plain": [
       "[1] 371291"
      ]
     },
     "execution_count": 8,
     "metadata": {},
     "output_type": "execute_result"
    }
   ],
   "source": [
    "dt <- dt[pair == pair2]\n",
    "nrow(dt)"
   ]
  },
  {
   "cell_type": "code",
   "execution_count": 10,
   "metadata": {
    "collapsed": false
   },
   "outputs": [],
   "source": [
    "library(IRanges)"
   ]
  },
  {
   "cell_type": "code",
   "execution_count": 11,
   "metadata": {
    "collapsed": false
   },
   "outputs": [],
   "source": [
    "dt <- dt[grepl('\\\\d$', t) & align / len > 0.8]\n",
    "setkey(dt, t)\n",
    "cov <- dt[, .(\n",
    "    n0 = .N, \n",
    "    n1 = sum(specific), \n",
    "    cov0 = sum(width(reduce(IRanges(pos, width = len)))),\n",
    "    cov1 = sum(width(reduce(IRanges(pos[specific == 1], width = len[specific == 1]))))\n",
    "), keyby = t]"
   ]
  },
  {
   "cell_type": "code",
   "execution_count": 60,
   "metadata": {
    "collapsed": true
   },
   "outputs": [],
   "source": [
    "real <- c('A*02:01', 'A*03:01', 'B*13:02', 'B*51:01', 'C*01:02', 'C*06:02', 'DRB1*07:01', 'DRB1*11:01', 'DQB1*02:AB', 'DQB1*03:01', 'DPB1*02:01', 'DPB1*02:01')"
   ]
  },
  {
   "cell_type": "code",
   "execution_count": 68,
   "metadata": {
    "collapsed": false
   },
   "outputs": [
    {
     "data": {
      "text/html": [
       "6"
      ],
      "text/latex": [
       "6"
      ],
      "text/markdown": [
       "6"
      ],
      "text/plain": [
       "[1] 6"
      ]
     },
     "execution_count": 68,
     "metadata": {},
     "output_type": "execute_result"
    }
   ],
   "source": [
    "cand <- cov[, t[order(-cov1)][1:100], by = sub('\\\\*.+', '', t)]\n",
    "sum(real %in% cand$V1)"
   ]
  },
  {
   "cell_type": "code",
   "execution_count": 17,
   "metadata": {
    "collapsed": true
   },
   "outputs": [],
   "source": [
    "pure <- dt[specific == 1]\n",
    "nonpure <- dt[specific == 0]"
   ]
  },
  {
   "cell_type": "code",
   "execution_count": 18,
   "metadata": {
    "collapsed": false
   },
   "outputs": [
    {
     "data": {
      "text/html": [
       "202255"
      ],
      "text/latex": [
       "202255"
      ],
      "text/markdown": [
       "202255"
      ],
      "text/plain": [
       "[1] 202255"
      ]
     },
     "execution_count": 18,
     "metadata": {},
     "output_type": "execute_result"
    }
   ],
   "source": [
    "nrow(pure)"
   ]
  },
  {
   "cell_type": "code",
   "execution_count": 19,
   "metadata": {
    "collapsed": false
   },
   "outputs": [
    {
     "data": {
      "text/html": [
       "3353"
      ],
      "text/latex": [
       "3353"
      ],
      "text/markdown": [
       "3353"
      ],
      "text/plain": [
       "[1] 3353"
      ]
     },
     "execution_count": 19,
     "metadata": {},
     "output_type": "execute_result"
    }
   ],
   "source": [
    "nrow(nonpure)"
   ]
  },
  {
   "cell_type": "code",
   "execution_count": 69,
   "metadata": {
    "collapsed": false
   },
   "outputs": [
    {
     "data": {
      "text/html": [
       "205608"
      ],
      "text/latex": [
       "205608"
      ],
      "text/markdown": [
       "205608"
      ],
      "text/plain": [
       "[1] 205608"
      ]
     },
     "execution_count": 69,
     "metadata": {},
     "output_type": "execute_result"
    }
   ],
   "source": [
    "good <- dt[align / len > 0.8]\n",
    "nrow(good)"
   ]
  },
  {
   "cell_type": "code",
   "execution_count": 123,
   "metadata": {
    "collapsed": true
   },
   "outputs": [],
   "source": [
    "tt <- good[, v := ifelse(specific, 1, 0.1)]\n",
    "mat <- dcast(good, q ~ t, value.var = 'v', fill = 0)"
   ]
  },
  {
   "cell_type": "code",
   "execution_count": 124,
   "metadata": {
    "collapsed": false
   },
   "outputs": [],
   "source": [
    "tt <- mat[, q := NULL]"
   ]
  },
  {
   "cell_type": "code",
   "execution_count": 125,
   "metadata": {
    "collapsed": false
   },
   "outputs": [
    {
     "data": {
      "text/html": [
       "<dl class=dl-horizontal>\n",
       "\t<dt>A*03:196</dt>\n",
       "\t\t<dd>163.2</dd>\n",
       "\t<dt>A*03:134</dt>\n",
       "\t\t<dd>167.1</dd>\n",
       "\t<dt>A*03:20</dt>\n",
       "\t\t<dd>169.2</dd>\n",
       "\t<dt>A*03:26</dt>\n",
       "\t\t<dd>174.2</dd>\n",
       "\t<dt>A*03:89</dt>\n",
       "\t\t<dd>175.2</dd>\n",
       "\t<dt>A*03:01</dt>\n",
       "\t\t<dd>176.2</dd>\n",
       "</dl>\n"
      ],
      "text/latex": [
       "\\begin{description*}\n",
       "\\item[A*03:196] 163.2\n",
       "\\item[A*03:134] 167.1\n",
       "\\item[A*03:20] 169.2\n",
       "\\item[A*03:26] 174.2\n",
       "\\item[A*03:89] 175.2\n",
       "\\item[A*03:01] 176.2\n",
       "\\end{description*}\n"
      ],
      "text/markdown": [
       "A*03:196\n",
       ":   163.2A*03:134\n",
       ":   167.1A*03:20\n",
       ":   169.2A*03:26\n",
       ":   174.2A*03:89\n",
       ":   175.2A*03:01\n",
       ":   176.2\n",
       "\n"
      ],
      "text/plain": [
       "A*03:196 A*03:134  A*03:20  A*03:26  A*03:89  A*03:01 \n",
       "   163.2    167.1    169.2    174.2    175.2    176.2 "
      ]
     },
     "execution_count": 125,
     "metadata": {},
     "output_type": "execute_result"
    }
   ],
   "source": [
    "tail(sort(colSums(mat)))"
   ]
  },
  {
   "cell_type": "code",
   "execution_count": 126,
   "metadata": {
    "collapsed": true
   },
   "outputs": [],
   "source": [
    "temp <- sort(colSums(mat))"
   ]
  },
  {
   "cell_type": "code",
   "execution_count": 152,
   "metadata": {
    "collapsed": false
   },
   "outputs": [
    {
     "data": {
      "text/html": [
       "<dl class=dl-horizontal>\n",
       "\t<dt>C*06:111</dt>\n",
       "\t\t<dd>98.1</dd>\n",
       "\t<dt>C*06:105</dt>\n",
       "\t\t<dd>99.2</dd>\n",
       "\t<dt>C*06:02</dt>\n",
       "\t\t<dd>103.2</dd>\n",
       "\t<dt>C*06:12</dt>\n",
       "\t\t<dd>103.2</dd>\n",
       "\t<dt>C*06:129</dt>\n",
       "\t\t<dd>103.2</dd>\n",
       "\t<dt>C*06:153</dt>\n",
       "\t\t<dd>103.2</dd>\n",
       "\t<dt>C*06:24</dt>\n",
       "\t\t<dd>103.2</dd>\n",
       "\t<dt>C*06:83</dt>\n",
       "\t\t<dd>103.2</dd>\n",
       "\t<dt>C*06:93</dt>\n",
       "\t\t<dd>103.2</dd>\n",
       "\t<dt>C*06:06</dt>\n",
       "\t\t<dd>104.2</dd>\n",
       "\t<dt>C*06:09</dt>\n",
       "\t\t<dd>104.2</dd>\n",
       "\t<dt>C*06:138</dt>\n",
       "\t\t<dd>105.2</dd>\n",
       "\t<dt>C*06:55</dt>\n",
       "\t\t<dd>105.2</dd>\n",
       "\t<dt>C*06:56</dt>\n",
       "\t\t<dd>106.2</dd>\n",
       "\t<dt>C*06:100</dt>\n",
       "\t\t<dd>111.1</dd>\n",
       "\t<dt>C*06:30</dt>\n",
       "\t\t<dd>114.2</dd>\n",
       "\t<dt>C*06:108</dt>\n",
       "\t\t<dd>120.2</dd>\n",
       "\t<dt>C*06:109</dt>\n",
       "\t\t<dd>120.2</dd>\n",
       "\t<dt>C*06:110</dt>\n",
       "\t\t<dd>120.2</dd>\n",
       "\t<dt>C*06:73</dt>\n",
       "\t\t<dd>127.2</dd>\n",
       "</dl>\n"
      ],
      "text/latex": [
       "\\begin{description*}\n",
       "\\item[C*06:111] 98.1\n",
       "\\item[C*06:105] 99.2\n",
       "\\item[C*06:02] 103.2\n",
       "\\item[C*06:12] 103.2\n",
       "\\item[C*06:129] 103.2\n",
       "\\item[C*06:153] 103.2\n",
       "\\item[C*06:24] 103.2\n",
       "\\item[C*06:83] 103.2\n",
       "\\item[C*06:93] 103.2\n",
       "\\item[C*06:06] 104.2\n",
       "\\item[C*06:09] 104.2\n",
       "\\item[C*06:138] 105.2\n",
       "\\item[C*06:55] 105.2\n",
       "\\item[C*06:56] 106.2\n",
       "\\item[C*06:100] 111.1\n",
       "\\item[C*06:30] 114.2\n",
       "\\item[C*06:108] 120.2\n",
       "\\item[C*06:109] 120.2\n",
       "\\item[C*06:110] 120.2\n",
       "\\item[C*06:73] 127.2\n",
       "\\end{description*}\n"
      ],
      "text/markdown": [
       "C*06:111\n",
       ":   98.1C*06:105\n",
       ":   99.2C*06:02\n",
       ":   103.2C*06:12\n",
       ":   103.2C*06:129\n",
       ":   103.2C*06:153\n",
       ":   103.2C*06:24\n",
       ":   103.2C*06:83\n",
       ":   103.2C*06:93\n",
       ":   103.2C*06:06\n",
       ":   104.2C*06:09\n",
       ":   104.2C*06:138\n",
       ":   105.2C*06:55\n",
       ":   105.2C*06:56\n",
       ":   106.2C*06:100\n",
       ":   111.1C*06:30\n",
       ":   114.2C*06:108\n",
       ":   120.2C*06:109\n",
       ":   120.2C*06:110\n",
       ":   120.2C*06:73\n",
       ":   127.2\n",
       "\n"
      ],
      "text/plain": [
       "C*06:111 C*06:105  C*06:02  C*06:12 C*06:129 C*06:153  C*06:24  C*06:83 \n",
       "    98.1     99.2    103.2    103.2    103.2    103.2    103.2    103.2 \n",
       " C*06:93  C*06:06  C*06:09 C*06:138  C*06:55  C*06:56 C*06:100  C*06:30 \n",
       "   103.2    104.2    104.2    105.2    105.2    106.2    111.1    114.2 \n",
       "C*06:108 C*06:109 C*06:110  C*06:73 \n",
       "   120.2    120.2    120.2    127.2 "
      ]
     },
     "execution_count": 152,
     "metadata": {},
     "output_type": "execute_result"
    }
   ],
   "source": [
    "tail(temp[grepl('C\\\\*', names(temp))], 20)"
   ]
  },
  {
   "cell_type": "code",
   "execution_count": 130,
   "metadata": {
    "collapsed": false
   },
   "outputs": [
    {
     "data": {
      "text/html": [
       "565"
      ],
      "text/latex": [
       "565"
      ],
      "text/markdown": [
       "565"
      ],
      "text/plain": [
       "[1] 565"
      ]
     },
     "execution_count": 130,
     "metadata": {},
     "output_type": "execute_result"
    }
   ],
   "source": [
    "maxScore <- sum(apply(mat, 1, max))\n",
    "is.specific <- apply(mat, 1, max) == 1\n",
    "sum(is.specific)"
   ]
  },
  {
   "cell_type": "code",
   "execution_count": 143,
   "metadata": {
    "collapsed": false
   },
   "outputs": [
    {
     "data": {
      "text/html": [
       "493.3"
      ],
      "text/latex": [
       "493.3"
      ],
      "text/markdown": [
       "493.3"
      ],
      "text/plain": [
       "[1] 493.3"
      ]
     },
     "execution_count": 143,
     "metadata": {},
     "output_type": "execute_result"
    },
    {
     "data": {
      "text/html": [
       "72"
      ],
      "text/latex": [
       "72"
      ],
      "text/markdown": [
       "72"
      ],
      "text/plain": [
       "[1] 72"
      ]
     },
     "execution_count": 143,
     "metadata": {},
     "output_type": "execute_result"
    }
   ],
   "source": [
    "mat[, sum(pmax(`A*02:01`, `A*03:01`, `B*13:02`, `B*51:01`, `C*01:02`, `C*06:02`))]\n",
    "mat[pmax(`A*02:01`, `A*03:01`, `B*13:02`, `B*51:01`, `C*01:02`, `C*06:02`) == 0 & is.specific, .N] "
   ]
  },
  {
   "cell_type": "code",
   "execution_count": 153,
   "metadata": {
    "collapsed": false
   },
   "outputs": [
    {
     "data": {
      "text/html": [
       "508.3"
      ],
      "text/latex": [
       "508.3"
      ],
      "text/markdown": [
       "508.3"
      ],
      "text/plain": [
       "[1] 508.3"
      ]
     },
     "execution_count": 153,
     "metadata": {},
     "output_type": "execute_result"
    },
    {
     "data": {
      "text/html": [
       "57"
      ],
      "text/latex": [
       "57"
      ],
      "text/markdown": [
       "57"
      ],
      "text/plain": [
       "[1] 57"
      ]
     },
     "execution_count": 153,
     "metadata": {},
     "output_type": "execute_result"
    }
   ],
   "source": [
    "mat[, sum(pmax(`A*02:01`, `A*03:01`, `B*13:02`, `B*51:01`, `C*01:11`, `C*06:109`))]\n",
    "mat[pmax(`A*02:01`, `A*03:01`, `B*13:02`, `B*51:01`, `C*01:11`, `C*06:109`) == 0 & is.specific, .N] "
   ]
  },
  {
   "cell_type": "code",
   "execution_count": 144,
   "metadata": {
    "collapsed": false
   },
   "outputs": [
    {
     "data": {
      "text/html": [
       "503.3"
      ],
      "text/latex": [
       "503.3"
      ],
      "text/markdown": [
       "503.3"
      ],
      "text/plain": [
       "[1] 503.3"
      ]
     },
     "execution_count": 144,
     "metadata": {},
     "output_type": "execute_result"
    },
    {
     "data": {
      "text/html": [
       "62"
      ],
      "text/latex": [
       "62"
      ],
      "text/markdown": [
       "62"
      ],
      "text/plain": [
       "[1] 62"
      ]
     },
     "execution_count": 144,
     "metadata": {},
     "output_type": "execute_result"
    }
   ],
   "source": [
    "mat[, sum(pmax(`A*02:01`, `A*03:01`, `B*13:02`, `B*51:01`, `C*01:47`, `C*06:02`))]\n",
    "mat[pmax(`A*02:01`, `A*03:01`, `B*13:02`, `B*51:01`, `C*01:47`, `C*06:02`) == 0 & is.specific, .N] "
   ]
  },
  {
   "cell_type": "code",
   "execution_count": 133,
   "metadata": {
    "collapsed": false
   },
   "outputs": [
    {
     "data": {
      "text/html": [
       "489.3"
      ],
      "text/latex": [
       "489.3"
      ],
      "text/markdown": [
       "489.3"
      ],
      "text/plain": [
       "[1] 489.3"
      ]
     },
     "execution_count": 133,
     "metadata": {},
     "output_type": "execute_result"
    },
    {
     "data": {
      "text/html": [
       "76"
      ],
      "text/latex": [
       "76"
      ],
      "text/markdown": [
       "76"
      ],
      "text/plain": [
       "[1] 76"
      ]
     },
     "execution_count": 133,
     "metadata": {},
     "output_type": "execute_result"
    }
   ],
   "source": [
    "mat[, sum(pmax(`A*02:01`, `A*03:01`, `B*13:02`, `B*51:30`, `C*01:02`, `C*06:02`))]\n",
    "mat[pmax(`A*02:01`, `A*03:01`, `B*13:02`, `B*51:30`, `C*01:02`, `C*06:02`) == 0 & is.specific, .N]"
   ]
  },
  {
   "cell_type": "code",
   "execution_count": 142,
   "metadata": {
    "collapsed": false
   },
   "outputs": [
    {
     "data": {
      "text/html": [
       "<ol class=list-inline>\n",
       "\t<li>'A*02:01'</li>\n",
       "\t<li>'A*03:01'</li>\n",
       "\t<li>'B*13:02'</li>\n",
       "\t<li>'B*51:01'</li>\n",
       "\t<li>'C*01:02'</li>\n",
       "\t<li>'C*06:02'</li>\n",
       "</ol>\n"
      ],
      "text/latex": [
       "\\begin{enumerate*}\n",
       "\\item 'A*02:01'\n",
       "\\item 'A*03:01'\n",
       "\\item 'B*13:02'\n",
       "\\item 'B*51:01'\n",
       "\\item 'C*01:02'\n",
       "\\item 'C*06:02'\n",
       "\\end{enumerate*}\n"
      ],
      "text/markdown": [
       "1. 'A*02:01'\n",
       "2. 'A*03:01'\n",
       "3. 'B*13:02'\n",
       "4. 'B*51:01'\n",
       "5. 'C*01:02'\n",
       "6. 'C*06:02'\n",
       "\n",
       "\n"
      ],
      "text/plain": [
       "[1] \"A*02:01\" \"A*03:01\" \"B*13:02\" \"B*51:01\" \"C*01:02\" \"C*06:02\""
      ]
     },
     "execution_count": 142,
     "metadata": {},
     "output_type": "execute_result"
    }
   ],
   "source": [
    "real"
   ]
  },
  {
   "cell_type": "code",
   "execution_count": 154,
   "metadata": {
    "collapsed": true
   },
   "outputs": [],
   "source": [
    "allele.names <- colnames(mat)\n",
    "allele.genes <- unique(sub('\\\\*.+', '', allele.names))\n",
    "alleles <- 1:ncol(mat)\n",
    "reads <- 1:nrow(mat)\n",
    "na <- length(alleles)\n",
    "nr <- length(reads)"
   ]
  },
  {
   "cell_type": "code",
   "execution_count": 156,
   "metadata": {
    "collapsed": true
   },
   "outputs": [],
   "source": [
    "library(lpSolve)\n",
    "f.obj <- c(rep(0, na), ifelse(is.specific, 1, 0.1))\n",
    "# constraints for hit incidence matrix\n",
    "f.con <- do.call(rbind, mclapply(1:nr, function(i){\n",
    "    con <- c(test[i,], rep(0, nr))\n",
    "    con[na + i] <- -1\n",
    "    con\n",
    "}))\n",
    "f.dir <- rep('>=', nr)\n",
    "f.rhs <- rep(0, nr)\n",
    "# constraints for 1 or 2 alleles per gene\n",
    "\n",
    "f.con2 <- do.call(rbind, mclapply(allele.genes, function(gene){\n",
    "    con <- c(rep(0, na), rep(0, nr))\n",
    "    con[grep(sprintf(\"^%s\", gene), allele.names)] <- 1\n",
    "    rbind(con, con)\n",
    "}))\n",
    "f.dir2 <- rep(c('>=', '<='), length(allele.genes))\n",
    "f.rhs2 <- rep(c( 1,    2  ), length(allele.genes))\n",
    "\n",
    "# final constraints\n",
    "f.con <- rbind(f.con, f.con2)\n",
    "f.dir <- c(f.dir, f.dir2)\n",
    "f.rhs <- c(f.rhs, f.rhs2)"
   ]
  },
  {
   "cell_type": "code",
   "execution_count": 157,
   "metadata": {
    "collapsed": false
   },
   "outputs": [
    {
     "data": {
      "text/plain": [
       "   user  system elapsed \n",
       "  1.234   0.056   1.290 "
      ]
     },
     "execution_count": 157,
     "metadata": {},
     "output_type": "execute_result"
    }
   ],
   "source": [
    "system.time(lps <- lp('max', f.obj, f.con, f.dir, f.rhs, all.bin = T))"
   ]
  },
  {
   "cell_type": "code",
   "execution_count": 158,
   "metadata": {
    "collapsed": false
   },
   "outputs": [
    {
     "data": {
      "text/plain": [
       "Success: the objective function is 508 "
      ]
     },
     "execution_count": 158,
     "metadata": {},
     "output_type": "execute_result"
    }
   ],
   "source": [
    "lps"
   ]
  },
  {
   "cell_type": "code",
   "execution_count": 159,
   "metadata": {
    "collapsed": false
   },
   "outputs": [
    {
     "data": {
      "text/html": [
       "<dl class=dl-horizontal>\n",
       "\t<dt>A*02:01</dt>\n",
       "\t\t<dd>1</dd>\n",
       "\t<dt>A*03:01</dt>\n",
       "\t\t<dd>1</dd>\n",
       "\t<dt>B*13:02</dt>\n",
       "\t\t<dd>1</dd>\n",
       "\t<dt>B*51:01</dt>\n",
       "\t\t<dd>1</dd>\n",
       "\t<dt>C*01:11</dt>\n",
       "\t\t<dd>1</dd>\n",
       "\t<dt>C*06:109</dt>\n",
       "\t\t<dd>1</dd>\n",
       "</dl>\n"
      ],
      "text/latex": [
       "\\begin{description*}\n",
       "\\item[A*02:01] 1\n",
       "\\item[A*03:01] 1\n",
       "\\item[B*13:02] 1\n",
       "\\item[B*51:01] 1\n",
       "\\item[C*01:11] 1\n",
       "\\item[C*06:109] 1\n",
       "\\end{description*}\n"
      ],
      "text/markdown": [
       "A*02:01\n",
       ":   1A*03:01\n",
       ":   1B*13:02\n",
       ":   1B*51:01\n",
       ":   1C*01:11\n",
       ":   1C*06:109\n",
       ":   1\n",
       "\n"
      ],
      "text/plain": [
       " A*02:01  A*03:01  B*13:02  B*51:01  C*01:11 C*06:109 \n",
       "       1        1        1        1        1        1 "
      ]
     },
     "execution_count": 159,
     "metadata": {},
     "output_type": "execute_result"
    }
   ],
   "source": [
    "solution <- lps$solution[alleles]\n",
    "names(solution) <- allele.names\n",
    "solution <- solution[order(-solution)]\n",
    "solution <- solution[solution > 0]\n",
    "solution"
   ]
  },
  {
   "cell_type": "markdown",
   "metadata": {},
   "source": [
    "#TODO\n",
    "- why C all wrong? reads from pseudo gene? non-unique reads?\n",
    "- Add J/H/E etc\n",
    "- Add bootstraping with reads (random drop reads)\n",
    "- add bootstraping with alleles (remove one of the solution allele each time)\n",
    "- consider cutting the MSA to fit common exon\n",
    "- adjust objective function for position aware (say on the same MSA position, if there are 3 types of different sequences, then one of them must be leaky match)\n",
    "- Adapt Class II\n",
    "- Add homozygous penalty term"
   ]
  },
  {
   "cell_type": "markdown",
   "metadata": {},
   "source": [
    "# C*01:02 vs C*01:11 pair\n",
    "Two differences casued the problem:\n",
    "- one difference at exon boundaries was lost in the mapping: A|AA vs G|AA, no reads able to map to this amino acid, so not possible to distinguish the two HLA types\n",
    "- Another exon bondary: A|GG vs A|xx, reads no able to map to the 01:02 due to exon boundary, but able to map to A|xx (not at full read length), because the intron part happend to lead to matching amino acid\n",
    "\n",
    "Therefore, **need to do mapping at exon level, and then check half codon after alignment**"
   ]
  },
  {
   "cell_type": "code",
   "execution_count": null,
   "metadata": {
    "collapsed": true
   },
   "outputs": [],
   "source": []
  }
 ],
 "metadata": {
  "kernelspec": {
   "display_name": "R",
   "language": "R",
   "name": "ir"
  },
  "language_info": {
   "codemirror_mode": "r",
   "file_extension": ".r",
   "mimetype": "text/x-r-source",
   "name": "R",
   "pygments_lexer": "r",
   "version": "3.2.1"
  }
 },
 "nbformat": 4,
 "nbformat_minor": 0
}
