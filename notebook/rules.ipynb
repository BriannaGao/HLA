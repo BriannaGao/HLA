{
 "cells": [
  {
   "cell_type": "code",
   "execution_count": 44,
   "metadata": {
    "collapsed": true
   },
   "outputs": [],
   "source": [
    "fs <- list.files('../test', '.hla$', full = T)"
   ]
  },
  {
   "cell_type": "code",
   "execution_count": 45,
   "metadata": {
    "collapsed": false
   },
   "outputs": [],
   "source": [
    "library(data.table)"
   ]
  },
  {
   "cell_type": "code",
   "execution_count": 46,
   "metadata": {
    "collapsed": false
   },
   "outputs": [],
   "source": [
    "data <- do.call(rbind, lapply(fs, function(f){\n",
    "    d <- fread(f)\n",
    "    d$sample <- f\n",
    "    d\n",
    "}))"
   ]
  },
  {
   "cell_type": "code",
   "execution_count": 47,
   "metadata": {
    "collapsed": false
   },
   "outputs": [
    {
     "data": {
      "text/html": [
       "<table>\n",
       "<thead><tr><th></th><th scope=col>rank</th><th scope=col>solution</th><th scope=col>competitor</th><th scope=col>missing</th><th scope=col>my.total</th><th scope=col>comp.total</th><th scope=col>my.alone</th><th scope=col>comp.alone</th><th scope=col>my.sp</th><th scope=col>comp.sp</th><th scope=col>missing1</th><th scope=col>missing2</th><th scope=col>my.noncore</th><th scope=col>comp.noncore</th><th scope=col>noncore.diff</th><th scope=col>my.noncore.sp</th><th scope=col>comp.noncore.sp</th><th scope=col>noncore.diff.sp</th><th scope=col>importance</th><th scope=col>sample</th></tr></thead>\n",
       "<tbody>\n",
       "\t<tr><th scope=row>1</th><td>1</td><td>A*01:01</td><td>A*01:01</td><td>0</td><td>69</td><td>69</td><td>47</td><td>47</td><td>0</td><td>0</td><td>0</td><td>74</td><td>127</td><td>127</td><td>0</td><td>3</td><td>3</td><td>0</td><td>0.9368771</td><td>../test/187521889.hla</td></tr>\n",
       "\t<tr><th scope=row>2</th><td>1</td><td>A*11:01</td><td>A*11:01</td><td>0</td><td>96</td><td>96</td><td>74</td><td>74</td><td>0</td><td>0</td><td>0</td><td>47</td><td>127</td><td>127</td><td>0</td><td>3</td><td>3</td><td>0</td><td>1.475083</td><td>../test/187521889.hla</td></tr>\n",
       "\t<tr><th scope=row>3</th><td>1</td><td>B*35:01</td><td>B*35:01</td><td>0</td><td>67</td><td>67</td><td>38</td><td>38</td><td>0</td><td>0</td><td>0</td><td>250</td><td>139</td><td>139</td><td>0</td><td>31</td><td>31</td><td>0</td><td>0.7574751</td><td>../test/187521889.hla</td></tr>\n",
       "\t<tr><th scope=row>4</th><td>1</td><td>B*56:01</td><td>B*56:01</td><td>0</td><td>82</td><td>82</td><td>53</td><td>53</td><td>0</td><td>0</td><td>0</td><td>235</td><td>145</td><td>145</td><td>0</td><td>37</td><td>37</td><td>0</td><td>1.056478</td><td>../test/187521889.hla</td></tr>\n",
       "\t<tr><th scope=row>5</th><td>1</td><td>C*01:02</td><td>C*01:02</td><td>0</td><td>76</td><td>76</td><td>58</td><td>58</td><td>0</td><td>0</td><td>0</td><td>67</td><td>163</td><td>163</td><td>0</td><td>49</td><td>49</td><td>0</td><td>1.156146</td><td>../test/187521889.hla</td></tr>\n",
       "\t<tr><th scope=row>6</th><td>1</td><td>C*04:01</td><td>C*04:01</td><td>0</td><td>85</td><td>85</td><td>67</td><td>67</td><td>0</td><td>0</td><td>0</td><td>58</td><td>151</td><td>151</td><td>0</td><td>37</td><td>37</td><td>0</td><td>1.335548</td><td>../test/187521889.hla</td></tr>\n",
       "</tbody>\n",
       "</table>\n"
      ],
      "text/latex": [
       "\\begin{tabular}{r|llllllllllllllllllll}\n",
       "  & rank & solution & competitor & missing & my.total & comp.total & my.alone & comp.alone & my.sp & comp.sp & missing1 & missing2 & my.noncore & comp.noncore & noncore.diff & my.noncore.sp & comp.noncore.sp & noncore.diff.sp & importance & sample\\\\\n",
       "\\hline\n",
       "\t1 & 1 & A*01:01 & A*01:01 & 0 & 69 & 69 & 47 & 47 & 0 & 0 & 0 & 74 & 127 & 127 & 0 & 3 & 3 & 0 & 0.9368771 & ../test/187521889.hla\\\\\n",
       "\t2 & 1 & A*11:01 & A*11:01 & 0 & 96 & 96 & 74 & 74 & 0 & 0 & 0 & 47 & 127 & 127 & 0 & 3 & 3 & 0 & 1.475083 & ../test/187521889.hla\\\\\n",
       "\t3 & 1 & B*35:01 & B*35:01 & 0 & 67 & 67 & 38 & 38 & 0 & 0 & 0 & 250 & 139 & 139 & 0 & 31 & 31 & 0 & 0.7574751 & ../test/187521889.hla\\\\\n",
       "\t4 & 1 & B*56:01 & B*56:01 & 0 & 82 & 82 & 53 & 53 & 0 & 0 & 0 & 235 & 145 & 145 & 0 & 37 & 37 & 0 & 1.056478 & ../test/187521889.hla\\\\\n",
       "\t5 & 1 & C*01:02 & C*01:02 & 0 & 76 & 76 & 58 & 58 & 0 & 0 & 0 & 67 & 163 & 163 & 0 & 49 & 49 & 0 & 1.156146 & ../test/187521889.hla\\\\\n",
       "\t6 & 1 & C*04:01 & C*04:01 & 0 & 85 & 85 & 67 & 67 & 0 & 0 & 0 & 58 & 151 & 151 & 0 & 37 & 37 & 0 & 1.335548 & ../test/187521889.hla\\\\\n",
       "\\end{tabular}\n"
      ],
      "text/plain": [
       "   rank solution competitor missing my.total comp.total my.alone comp.alone\n",
       "1:    1  A*01:01    A*01:01       0       69         69       47         47\n",
       "2:    1  A*11:01    A*11:01       0       96         96       74         74\n",
       "3:    1  B*35:01    B*35:01       0       67         67       38         38\n",
       "4:    1  B*56:01    B*56:01       0       82         82       53         53\n",
       "5:    1  C*01:02    C*01:02       0       76         76       58         58\n",
       "6:    1  C*04:01    C*04:01       0       85         85       67         67\n",
       "   my.sp comp.sp missing1 missing2 my.noncore comp.noncore noncore.diff\n",
       "1:     0       0        0       74        127          127            0\n",
       "2:     0       0        0       47        127          127            0\n",
       "3:     0       0        0      250        139          139            0\n",
       "4:     0       0        0      235        145          145            0\n",
       "5:     0       0        0       67        163          163            0\n",
       "6:     0       0        0       58        151          151            0\n",
       "   my.noncore.sp comp.noncore.sp noncore.diff.sp importance\n",
       "1:             3               3               0  0.9368771\n",
       "2:             3               3               0  1.4750831\n",
       "3:            31              31               0  0.7574751\n",
       "4:            37              37               0  1.0564784\n",
       "5:            49              49               0  1.1561462\n",
       "6:            37              37               0  1.3355482\n",
       "                  sample\n",
       "1: ../test/187521889.hla\n",
       "2: ../test/187521889.hla\n",
       "3: ../test/187521889.hla\n",
       "4: ../test/187521889.hla\n",
       "5: ../test/187521889.hla\n",
       "6: ../test/187521889.hla"
      ]
     },
     "execution_count": 47,
     "metadata": {},
     "output_type": "execute_result"
    }
   ],
   "source": [
    "head(data)"
   ]
  },
  {
   "cell_type": "code",
   "execution_count": 48,
   "metadata": {
    "collapsed": false
   },
   "outputs": [],
   "source": [
    "#data <- data[missing1 <= 2 & (!grepl('^DPB', solution)) & (!grepl('187521900', sample))]\n",
    "data <- data[(!grepl('^DPB', solution)) & (!grepl('187521900', sample))]"
   ]
  },
  {
   "cell_type": "code",
   "execution_count": 49,
   "metadata": {
    "collapsed": false
   },
   "outputs": [
    {
     "data": {
      "text/html": [
       "<table>\n",
       "<thead><tr><th></th><th scope=col>rank</th><th scope=col>solution</th><th scope=col>competitor</th><th scope=col>missing</th><th scope=col>my.total</th><th scope=col>comp.total</th><th scope=col>my.alone</th><th scope=col>comp.alone</th><th scope=col>my.sp</th><th scope=col>comp.sp</th><th scope=col>missing1</th><th scope=col>missing2</th><th scope=col>my.noncore</th><th scope=col>comp.noncore</th><th scope=col>noncore.diff</th><th scope=col>my.noncore.sp</th><th scope=col>comp.noncore.sp</th><th scope=col>noncore.diff.sp</th><th scope=col>importance</th><th scope=col>sample</th></tr></thead>\n",
       "<tbody>\n",
       "\t<tr><th scope=row>1</th><td>2</td><td>B*35:01</td><td>B*35:241</td><td>1</td><td>67</td><td>66</td><td>38</td><td>37</td><td>1</td><td>0</td><td>1</td><td>251</td><td>139</td><td>117</td><td>22</td><td>31</td><td>16</td><td>15</td><td>0</td><td>../test/187521889.hla</td></tr>\n",
       "</tbody>\n",
       "</table>\n"
      ],
      "text/latex": [
       "\\begin{tabular}{r|llllllllllllllllllll}\n",
       "  & rank & solution & competitor & missing & my.total & comp.total & my.alone & comp.alone & my.sp & comp.sp & missing1 & missing2 & my.noncore & comp.noncore & noncore.diff & my.noncore.sp & comp.noncore.sp & noncore.diff.sp & importance & sample\\\\\n",
       "\\hline\n",
       "\t1 & 2 & B*35:01 & B*35:241 & 1 & 67 & 66 & 38 & 37 & 1 & 0 & 1 & 251 & 139 & 117 & 22 & 31 & 16 & 15 & 0 & ../test/187521889.hla\\\\\n",
       "\\end{tabular}\n"
      ],
      "text/plain": [
       "   rank solution competitor missing my.total comp.total my.alone comp.alone\n",
       "1:    2  B*35:01   B*35:241       1       67         66       38         37\n",
       "   my.sp comp.sp missing1 missing2 my.noncore comp.noncore noncore.diff\n",
       "1:     1       0        1      251        139          117           22\n",
       "   my.noncore.sp comp.noncore.sp noncore.diff.sp importance\n",
       "1:            31              16              15          0\n",
       "                  sample\n",
       "1: ../test/187521889.hla"
      ]
     },
     "execution_count": 49,
     "metadata": {},
     "output_type": "execute_result"
    }
   ],
   "source": [
    "data[13]"
   ]
  },
  {
   "cell_type": "code",
   "execution_count": 61,
   "metadata": {
    "collapsed": false
   },
   "outputs": [
    {
     "data": {
      "text/plain": [
       "   Min. 1st Qu.  Median    Mean 3rd Qu.    Max. \n",
       " -30.00   22.00   45.00   48.86   65.00  405.00 "
      ]
     },
     "execution_count": 61,
     "metadata": {},
     "output_type": "execute_result"
    }
   ],
   "source": [
    "diff <- data[, missing * 5 + noncore.diff.sp]\n",
    "summary(diff)"
   ]
  },
  {
   "cell_type": "code",
   "execution_count": 74,
   "metadata": {
    "collapsed": false
   },
   "outputs": [
    {
     "data": {
      "text/html": [
       "<table>\n",
       "<thead><tr><th></th><th scope=col>rank</th><th scope=col>solution</th><th scope=col>competitor</th><th scope=col>missing</th><th scope=col>my.total</th><th scope=col>comp.total</th><th scope=col>my.alone</th><th scope=col>comp.alone</th><th scope=col>my.sp</th><th scope=col>comp.sp</th><th scope=col>missing1</th><th scope=col>missing2</th><th scope=col>my.noncore</th><th scope=col>comp.noncore</th><th scope=col>noncore.diff</th><th scope=col>my.noncore.sp</th><th scope=col>comp.noncore.sp</th><th scope=col>noncore.diff.sp</th><th scope=col>importance</th><th scope=col>sample</th></tr></thead>\n",
       "<tbody>\n",
       "\t<tr><th scope=row>1</th><td>2</td><td>B*44:27</td><td>B*44:02</td><td>0</td><td>51</td><td>52</td><td>46</td><td>46</td><td>0</td><td>0</td><td>0</td><td>193</td><td>72</td><td>68</td><td>4</td><td>2</td><td>32</td><td>-30</td><td>0</td><td>../test/187523132.hla</td></tr>\n",
       "\t<tr><th scope=row>2</th><td>3</td><td>B*44:27</td><td>B*44:02S</td><td>0</td><td>51</td><td>51</td><td>46</td><td>46</td><td>0</td><td>0</td><td>0</td><td>193</td><td>72</td><td>68</td><td>4</td><td>2</td><td>32</td><td>-30</td><td>0</td><td>../test/187523132.hla</td></tr>\n",
       "</tbody>\n",
       "</table>\n"
      ],
      "text/latex": [
       "\\begin{tabular}{r|llllllllllllllllllll}\n",
       "  & rank & solution & competitor & missing & my.total & comp.total & my.alone & comp.alone & my.sp & comp.sp & missing1 & missing2 & my.noncore & comp.noncore & noncore.diff & my.noncore.sp & comp.noncore.sp & noncore.diff.sp & importance & sample\\\\\n",
       "\\hline\n",
       "\t1 & 2 & B*44:27 & B*44:02 & 0 & 51 & 52 & 46 & 46 & 0 & 0 & 0 & 193 & 72 & 68 & 4 & 2 & 32 & -30 & 0 & ../test/187523132.hla\\\\\n",
       "\t2 & 3 & B*44:27 & B*44:02S & 0 & 51 & 51 & 46 & 46 & 0 & 0 & 0 & 193 & 72 & 68 & 4 & 2 & 32 & -30 & 0 & ../test/187523132.hla\\\\\n",
       "\\end{tabular}\n"
      ],
      "text/plain": [
       "   rank solution competitor missing my.total comp.total my.alone comp.alone\n",
       "1:    2  B*44:27    B*44:02       0       51         52       46         46\n",
       "2:    3  B*44:27   B*44:02S       0       51         51       46         46\n",
       "   my.sp comp.sp missing1 missing2 my.noncore comp.noncore noncore.diff\n",
       "1:     0       0        0      193         72           68            4\n",
       "2:     0       0        0      193         72           68            4\n",
       "   my.noncore.sp comp.noncore.sp noncore.diff.sp importance\n",
       "1:             2              32             -30          0\n",
       "2:             2              32             -30          0\n",
       "                  sample\n",
       "1: ../test/187523132.hla\n",
       "2: ../test/187523132.hla"
      ]
     },
     "execution_count": 74,
     "metadata": {},
     "output_type": "execute_result"
    }
   ],
   "source": [
    "data[comp.noncore.sp > 15 & -noncore.diff.sp > missing*5 & -noncore.diff.sp > 10]"
   ]
  },
  {
   "cell_type": "code",
   "execution_count": 39,
   "metadata": {
    "collapsed": false
   },
   "outputs": [
    {
     "ename": "ERROR",
     "evalue": "Error in eval(expr, envir, enclos): object 'noncore.diff' not found\n",
     "output_type": "error",
     "traceback": [
      "Error in eval(expr, envir, enclos): object 'noncore.diff' not found\n"
     ]
    },
    {
     "data": {
      "text/plain": [
       "   Min. 1st Qu.  Median    Mean 3rd Qu.    Max. \n",
       " -1.667   3.000   7.333  10.620  14.330  69.000 "
      ]
     },
     "execution_count": 39,
     "metadata": {},
     "output_type": "execute_result"
    }
   ],
   "source": [
    "#diff2 <- data[, (my.total - comp.total) + missing1 * 5 + noncore.diff + noncore.diff.sp / 5]\n",
    "#diff2 <- data[, (my.total - comp.total) + missing1 * 5 + noncore.diff]\n",
    "#diff2 <- data[, noncore.diff - (my.noncore - comp.noncore)]\n",
    "diff2 <- data[, my.total - comp.total + missing1 * 5 + noncore.diff / 3]\n",
    "summary(diff2)"
   ]
  },
  {
   "cell_type": "code",
   "execution_count": 14,
   "metadata": {
    "collapsed": false
   },
   "outputs": [
    {
     "data": {
      "text/html": [
       "<table>\n",
       "<thead><tr><th></th><th scope=col>rank</th><th scope=col>solution</th><th scope=col>competitor</th><th scope=col>missing</th><th scope=col>my.total</th><th scope=col>comp.total</th><th scope=col>my.alone</th><th scope=col>comp.alone</th><th scope=col>my.sp</th><th scope=col>comp.sp</th><th scope=col>missing1</th><th scope=col>missing2</th><th scope=col>my.noncore</th><th scope=col>comp.noncore</th><th scope=col>noncore.diff</th><th scope=col>noncore.diff.sp</th><th scope=col>importance</th><th scope=col>sample</th></tr></thead>\n",
       "<tbody>\n",
       "\t<tr><th scope=row>1</th><td>2</td><td>C*04:09N</td><td>C*04:01</td><td>0</td><td>55</td><td>57</td><td>55</td><td>55</td><td>0</td><td>0</td><td>0</td><td>45</td><td>81</td><td>73</td><td>1</td><td>1</td><td>0</td><td>../test/187522143.hla</td></tr>\n",
       "</tbody>\n",
       "</table>\n"
      ],
      "text/latex": [
       "\\begin{tabular}{r|llllllllllllllllll}\n",
       "  & rank & solution & competitor & missing & my.total & comp.total & my.alone & comp.alone & my.sp & comp.sp & missing1 & missing2 & my.noncore & comp.noncore & noncore.diff & noncore.diff.sp & importance & sample\\\\\n",
       "\\hline\n",
       "\t1 & 2 & C*04:09N & C*04:01 & 0 & 55 & 57 & 55 & 55 & 0 & 0 & 0 & 45 & 81 & 73 & 1 & 1 & 0 & ../test/187522143.hla\\\\\n",
       "\\end{tabular}\n"
      ],
      "text/plain": [
       "   rank solution competitor missing my.total comp.total my.alone comp.alone\n",
       "1:    2 C*04:09N    C*04:01       0       55         57       55         55\n",
       "   my.sp comp.sp missing1 missing2 my.noncore comp.noncore noncore.diff\n",
       "1:     0       0        0       45         81           73            1\n",
       "   noncore.diff.sp importance                sample\n",
       "1:               1          0 ../test/187522143.hla"
      ]
     },
     "execution_count": 14,
     "metadata": {},
     "output_type": "execute_result"
    }
   ],
   "source": [
    "data[diff2 < 0]"
   ]
  },
  {
   "cell_type": "code",
   "execution_count": 69,
   "metadata": {
    "collapsed": false
   },
   "outputs": [
    {
     "data": {
      "text/html": [
       "2759"
      ],
      "text/latex": [
       "2759"
      ],
      "text/markdown": [
       "2759"
      ],
      "text/plain": [
       "[1] 2759"
      ]
     },
     "execution_count": 69,
     "metadata": {},
     "output_type": "execute_result"
    }
   ],
   "source": [
    "nrow(data)"
   ]
  },
  {
   "cell_type": "code",
   "execution_count": null,
   "metadata": {
    "collapsed": true
   },
   "outputs": [],
   "source": []
  }
 ],
 "metadata": {
  "kernelspec": {
   "display_name": "R",
   "language": "R",
   "name": "ir"
  },
  "language_info": {
   "codemirror_mode": "r",
   "file_extension": ".r",
   "mimetype": "text/x-r-source",
   "name": "R",
   "pygments_lexer": "r",
   "version": "3.2.2"
  }
 },
 "nbformat": 4,
 "nbformat_minor": 0
}
