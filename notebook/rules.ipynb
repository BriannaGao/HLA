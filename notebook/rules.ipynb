{
 "cells": [
  {
   "cell_type": "code",
   "execution_count": 1,
   "metadata": {
    "collapsed": true
   },
   "outputs": [],
   "source": [
    "fs <- list.files('test', '.hla', full = T)"
   ]
  },
  {
   "cell_type": "code",
   "execution_count": 2,
   "metadata": {
    "collapsed": false
   },
   "outputs": [],
   "source": [
    "library(data.table)"
   ]
  },
  {
   "cell_type": "code",
   "execution_count": 3,
   "metadata": {
    "collapsed": true
   },
   "outputs": [],
   "source": [
    "data <- do.call(rbind, lapply(fs, function(f){\n",
    "    d <- fread(f)\n",
    "    d$sample <- f\n",
    "    d\n",
    "}))"
   ]
  },
  {
   "cell_type": "code",
   "execution_count": 4,
   "metadata": {
    "collapsed": false
   },
   "outputs": [],
   "source": [
    "data <- data[missing1 <= 2 & (!grepl('^DPB', solution)) & (!grepl('187521900', sample))]"
   ]
  },
  {
   "cell_type": "code",
   "execution_count": 5,
   "metadata": {
    "collapsed": false
   },
   "outputs": [
    {
     "data": {
      "text/html": [
       "<table>\n",
       "<thead><tr><th></th><th scope=col>rank</th><th scope=col>solution</th><th scope=col>competitor</th><th scope=col>missing</th><th scope=col>my.total</th><th scope=col>comp.total</th><th scope=col>my.alone</th><th scope=col>comp.alone</th><th scope=col>my.sp</th><th scope=col>comp.sp</th><th scope=col>missing1</th><th scope=col>missing2</th><th scope=col>my.noncore</th><th scope=col>comp.noncore</th><th scope=col>noncore.diff</th><th scope=col>noncore.diff.sp</th><th scope=col>importance</th><th scope=col>sample</th></tr></thead>\n",
       "<tbody>\n",
       "\t<tr><th scope=row>1</th><td>2</td><td>B*35:01</td><td>B*35:241</td><td>1</td><td>67</td><td>66</td><td>38</td><td>37</td><td>1</td><td>0</td><td>1</td><td>251</td><td>139</td><td>117</td><td>22</td><td>15</td><td>0</td><td>test/187521889.hla</td></tr>\n",
       "</tbody>\n",
       "</table>\n"
      ],
      "text/latex": [
       "\\begin{tabular}{r|llllllllllllllllll}\n",
       "  & rank & solution & competitor & missing & my.total & comp.total & my.alone & comp.alone & my.sp & comp.sp & missing1 & missing2 & my.noncore & comp.noncore & noncore.diff & noncore.diff.sp & importance & sample\\\\\n",
       "\\hline\n",
       "\t1 & 2 & B*35:01 & B*35:241 & 1 & 67 & 66 & 38 & 37 & 1 & 0 & 1 & 251 & 139 & 117 & 22 & 15 & 0 & test/187521889.hla\\\\\n",
       "\\end{tabular}\n"
      ],
      "text/plain": [
       "   rank solution competitor missing my.total comp.total my.alone comp.alone\n",
       "1:    2  B*35:01   B*35:241       1       67         66       38         37\n",
       "   my.sp comp.sp missing1 missing2 my.noncore comp.noncore noncore.diff\n",
       "1:     1       0        1      251        139          117           22\n",
       "   noncore.diff.sp importance             sample\n",
       "1:              15          0 test/187521889.hla"
      ]
     },
     "execution_count": 5,
     "metadata": {},
     "output_type": "execute_result"
    }
   ],
   "source": [
    "data[13]"
   ]
  },
  {
   "cell_type": "code",
   "execution_count": 6,
   "metadata": {
    "collapsed": false
   },
   "outputs": [
    {
     "data": {
      "text/plain": [
       "   Min. 1st Qu.  Median    Mean 3rd Qu.    Max. \n",
       "   0.00   20.00   42.40   49.17   65.60  193.80 "
      ]
     },
     "execution_count": 6,
     "metadata": {},
     "output_type": "execute_result"
    }
   ],
   "source": [
    "diff <- data[, my.total - comp.total + missing1 * 5 + (my.noncore - comp.noncore) * 0.8]\n",
    "summary(diff)"
   ]
  },
  {
   "cell_type": "code",
   "execution_count": 87,
   "metadata": {
    "collapsed": false
   },
   "outputs": [
    {
     "data": {
      "text/plain": [
       "   Min. 1st Qu.  Median    Mean 3rd Qu.    Max. \n",
       "   0.00   10.00   20.00   24.87   31.67  110.70 "
      ]
     },
     "execution_count": 87,
     "metadata": {},
     "output_type": "execute_result"
    }
   ],
   "source": [
    "diff <- data[, my.total - comp.total + (my.sp - comp.sp) * 5 + (my.noncore - comp.noncore) /3]\n",
    "summary(diff)"
   ]
  },
  {
   "cell_type": "code",
   "execution_count": 88,
   "metadata": {
    "collapsed": false
   },
   "outputs": [
    {
     "data": {
      "text/html": [
       "<table>\n",
       "<thead><tr><th></th><th scope=col>rank</th><th scope=col>solution</th><th scope=col>competitor</th><th scope=col>missing</th><th scope=col>my.total</th><th scope=col>comp.total</th><th scope=col>my.alone</th><th scope=col>comp.alone</th><th scope=col>my.sp</th><th scope=col>comp.sp</th><th scope=col>missing1</th><th scope=col>missing2</th><th scope=col>my.noncore</th><th scope=col>comp.noncore</th><th scope=col>noncore.diff</th><th scope=col>noncore.diff.sp</th><th scope=col>importance</th><th scope=col>sample</th></tr></thead>\n",
       "<tbody>\n",
       "</tbody>\n",
       "</table>\n"
      ],
      "text/latex": [
       "\\begin{tabular}{r|llllllllllllllllll}\n",
       "  & rank & solution & competitor & missing & my.total & comp.total & my.alone & comp.alone & my.sp & comp.sp & missing1 & missing2 & my.noncore & comp.noncore & noncore.diff & noncore.diff.sp & importance & sample\\\\\n",
       "\\hline\n",
       "\\end{tabular}\n"
      ],
      "text/plain": [
       "Empty data.table (0 rows) of 18 cols: rank,solution,competitor,missing,my.total,comp.total...\n",
       "NULL"
      ]
     },
     "execution_count": 88,
     "metadata": {},
     "output_type": "execute_result"
    }
   ],
   "source": [
    "data[missing1 <= 2 & diff < 0]"
   ]
  },
  {
   "cell_type": "code",
   "execution_count": 89,
   "metadata": {
    "collapsed": false
   },
   "outputs": [
    {
     "data": {
      "text/plain": [
       "   Min. 1st Qu.  Median    Mean 3rd Qu.    Max. \n",
       " -1.667   3.000   7.000  10.540  14.670  69.000 "
      ]
     },
     "execution_count": 89,
     "metadata": {},
     "output_type": "execute_result"
    }
   ],
   "source": [
    "#diff2 <- data[, (my.total - comp.total) + missing1 * 5 + noncore.diff + noncore.diff.sp / 5]\n",
    "#diff2 <- data[, (my.total - comp.total) + missing1 * 5 + noncore.diff]\n",
    "#diff2 <- data[, noncore.diff - (my.noncore - comp.noncore)]\n",
    "diff2 <- data[, my.total - comp.total + missing1 * 5 + noncore.diff / 3]\n",
    "summary(diff2)"
   ]
  },
  {
   "cell_type": "code",
   "execution_count": 90,
   "metadata": {
    "collapsed": false
   },
   "outputs": [
    {
     "data": {
      "text/html": [
       "<table>\n",
       "<thead><tr><th></th><th scope=col>rank</th><th scope=col>solution</th><th scope=col>competitor</th><th scope=col>missing</th><th scope=col>my.total</th><th scope=col>comp.total</th><th scope=col>my.alone</th><th scope=col>comp.alone</th><th scope=col>my.sp</th><th scope=col>comp.sp</th><th scope=col>missing1</th><th scope=col>missing2</th><th scope=col>my.noncore</th><th scope=col>comp.noncore</th><th scope=col>noncore.diff</th><th scope=col>noncore.diff.sp</th><th scope=col>importance</th><th scope=col>sample</th></tr></thead>\n",
       "<tbody>\n",
       "\t<tr><th scope=row>1</th><td>2</td><td>C*04:09N</td><td>C*04:01</td><td>0</td><td>55</td><td>57</td><td>55</td><td>55</td><td>0</td><td>0</td><td>0</td><td>45</td><td>81</td><td>73</td><td>1</td><td>1</td><td>0</td><td>test/187522143.hla</td></tr>\n",
       "</tbody>\n",
       "</table>\n"
      ],
      "text/latex": [
       "\\begin{tabular}{r|llllllllllllllllll}\n",
       "  & rank & solution & competitor & missing & my.total & comp.total & my.alone & comp.alone & my.sp & comp.sp & missing1 & missing2 & my.noncore & comp.noncore & noncore.diff & noncore.diff.sp & importance & sample\\\\\n",
       "\\hline\n",
       "\t1 & 2 & C*04:09N & C*04:01 & 0 & 55 & 57 & 55 & 55 & 0 & 0 & 0 & 45 & 81 & 73 & 1 & 1 & 0 & test/187522143.hla\\\\\n",
       "\\end{tabular}\n"
      ],
      "text/plain": [
       "   rank solution competitor missing my.total comp.total my.alone comp.alone\n",
       "1:    2 C*04:09N    C*04:01       0       55         57       55         55\n",
       "   my.sp comp.sp missing1 missing2 my.noncore comp.noncore noncore.diff\n",
       "1:     0       0        0       45         81           73            1\n",
       "   noncore.diff.sp importance             sample\n",
       "1:               1          0 test/187522143.hla"
      ]
     },
     "execution_count": 90,
     "metadata": {},
     "output_type": "execute_result"
    }
   ],
   "source": [
    "data[diff2 < 0]"
   ]
  },
  {
   "cell_type": "code",
   "execution_count": 69,
   "metadata": {
    "collapsed": false
   },
   "outputs": [
    {
     "data": {
      "text/html": [
       "2759"
      ],
      "text/latex": [
       "2759"
      ],
      "text/markdown": [
       "2759"
      ],
      "text/plain": [
       "[1] 2759"
      ]
     },
     "execution_count": 69,
     "metadata": {},
     "output_type": "execute_result"
    }
   ],
   "source": [
    "nrow(data)"
   ]
  },
  {
   "cell_type": "code",
   "execution_count": null,
   "metadata": {
    "collapsed": true
   },
   "outputs": [],
   "source": []
  }
 ],
 "metadata": {
  "kernelspec": {
   "display_name": "R",
   "language": "R",
   "name": "ir"
  },
  "language_info": {
   "codemirror_mode": "r",
   "file_extension": ".r",
   "mimetype": "text/x-r-source",
   "name": "R",
   "pygments_lexer": "r",
   "version": "3.2.2"
  }
 },
 "nbformat": 4,
 "nbformat_minor": 0
}
