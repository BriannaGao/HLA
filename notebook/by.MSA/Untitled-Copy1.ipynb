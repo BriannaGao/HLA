{
 "cells": [
  {
   "cell_type": "code",
   "execution_count": 29,
   "metadata": {
    "collapsed": true
   },
   "outputs": [],
   "source": [
    "library(data.table)"
   ]
  },
  {
   "cell_type": "code",
   "execution_count": 30,
   "metadata": {
    "collapsed": true
   },
   "outputs": [],
   "source": [
    "dt <- fread('out.A.tsv')"
   ]
  },
  {
   "cell_type": "code",
   "execution_count": 31,
   "metadata": {
    "collapsed": false
   },
   "outputs": [
    {
     "data": {
      "text/html": [
       "<table>\n",
       "<thead><tr><th></th><th scope=col>V1</th><th scope=col>V2</th><th scope=col>V3</th><th scope=col>V4</th><th scope=col>V5</th><th scope=col>V6</th><th scope=col>V7</th></tr></thead>\n",
       "<tbody>\n",
       "\t<tr><th scope=row>1</th><td>H5JCKCCXX:2:14:3646328:0/2</td><td>A*24:281</td><td>205</td><td>17</td><td>1</td><td>1</td><td>TDAPKTHMTHHAVSDHE</td></tr>\n",
       "\t<tr><th scope=row>2</th><td>H5JCKCCXX:2:14:3646328:0/2</td><td>A*26:79</td><td>205</td><td>17</td><td>17</td><td>1</td><td>TDAPKTHMTHHAVSDHE</td></tr>\n",
       "\t<tr><th scope=row>3</th><td>H5JCKCCXX:2:14:3646328:0/2</td><td>A*24:245</td><td>205</td><td>17</td><td>1</td><td>1</td><td>TDAPKTHMTHHAVSDHE</td></tr>\n",
       "\t<tr><th scope=row>4</th><td>H5JCKCCXX:2:14:3646328:0/2</td><td>A*02:335</td><td>205</td><td>17</td><td>17</td><td>1</td><td>TDAPKTHMTHHAVSDHE</td></tr>\n",
       "\t<tr><th scope=row>5</th><td>H5JCKCCXX:2:14:3646328:0/2</td><td>A*02:124</td><td>205</td><td>17</td><td>17</td><td>1</td><td>TDAPKTHMTHHAVSDHE</td></tr>\n",
       "\t<tr><th scope=row>6</th><td>H5JCKCCXX:2:14:3646328:0/2</td><td>A*32:05</td><td>205</td><td>17</td><td>17</td><td>1</td><td>TDAPKTHMTHHAVSDHE</td></tr>\n",
       "</tbody>\n",
       "</table>\n"
      ],
      "text/latex": [
       "\\begin{tabular}{r|lllllll}\n",
       "  & V1 & V2 & V3 & V4 & V5 & V6 & V7\\\\\n",
       "\\hline\n",
       "\t1 & H5JCKCCXX:2:14:3646328:0/2 & A*24:281 & 205 & 17 & 1 & 1 & TDAPKTHMTHHAVSDHE\\\\\n",
       "\t2 & H5JCKCCXX:2:14:3646328:0/2 & A*26:79 & 205 & 17 & 17 & 1 & TDAPKTHMTHHAVSDHE\\\\\n",
       "\t3 & H5JCKCCXX:2:14:3646328:0/2 & A*24:245 & 205 & 17 & 1 & 1 & TDAPKTHMTHHAVSDHE\\\\\n",
       "\t4 & H5JCKCCXX:2:14:3646328:0/2 & A*02:335 & 205 & 17 & 17 & 1 & TDAPKTHMTHHAVSDHE\\\\\n",
       "\t5 & H5JCKCCXX:2:14:3646328:0/2 & A*02:124 & 205 & 17 & 17 & 1 & TDAPKTHMTHHAVSDHE\\\\\n",
       "\t6 & H5JCKCCXX:2:14:3646328:0/2 & A*32:05 & 205 & 17 & 17 & 1 & TDAPKTHMTHHAVSDHE\\\\\n",
       "\\end{tabular}\n"
      ],
      "text/plain": [
       "                           V1       V2  V3 V4 V5 V6                V7\n",
       "1: H5JCKCCXX:2:14:3646328:0/2 A*24:281 205 17  1  1 TDAPKTHMTHHAVSDHE\n",
       "2: H5JCKCCXX:2:14:3646328:0/2  A*26:79 205 17 17  1 TDAPKTHMTHHAVSDHE\n",
       "3: H5JCKCCXX:2:14:3646328:0/2 A*24:245 205 17  1  1 TDAPKTHMTHHAVSDHE\n",
       "4: H5JCKCCXX:2:14:3646328:0/2 A*02:335 205 17 17  1 TDAPKTHMTHHAVSDHE\n",
       "5: H5JCKCCXX:2:14:3646328:0/2 A*02:124 205 17 17  1 TDAPKTHMTHHAVSDHE\n",
       "6: H5JCKCCXX:2:14:3646328:0/2  A*32:05 205 17 17  1 TDAPKTHMTHHAVSDHE"
      ]
     },
     "execution_count": 31,
     "metadata": {},
     "output_type": "execute_result"
    }
   ],
   "source": [
    "head(dt)"
   ]
  },
  {
   "cell_type": "code",
   "execution_count": 32,
   "metadata": {
    "collapsed": true
   },
   "outputs": [],
   "source": [
    "setnames(dt, c('q', 't', 'pos', 'len', 'align', 'specific', 'seq'))"
   ]
  },
  {
   "cell_type": "code",
   "execution_count": 33,
   "metadata": {
    "collapsed": false
   },
   "outputs": [
    {
     "data": {
      "text/html": [
       "123588"
      ],
      "text/latex": [
       "123588"
      ],
      "text/markdown": [
       "123588"
      ],
      "text/plain": [
       "[1] 123588"
      ]
     },
     "execution_count": 33,
     "metadata": {},
     "output_type": "execute_result"
    }
   ],
   "source": [
    "nrow(dt)"
   ]
  },
  {
   "cell_type": "code",
   "execution_count": 34,
   "metadata": {
    "collapsed": false
   },
   "outputs": [
    {
     "data": {
      "text/html": [
       "<table>\n",
       "<thead><tr><th></th><th scope=col>qp</th><th scope=col>pair</th><th scope=col>q</th><th scope=col>t</th><th scope=col>pos</th><th scope=col>len</th><th scope=col>align</th><th scope=col>specific</th><th scope=col>seq</th></tr></thead>\n",
       "<tbody>\n",
       "\t<tr><th scope=row>1</th><td>H5JCKCCXX:1:10:2359481:0</td><td>1</td><td>H5JCKCCXX:1:10:2359481:0/1</td><td>A*24:26</td><td>206</td><td>34</td><td>34</td><td>1</td><td>DPPKTHMTHHPISDHEATLRCWALGFYPAEITLT</td></tr>\n",
       "\t<tr><th scope=row>2</th><td>H5JCKCCXX:1:10:2359481:0</td><td>1</td><td>H5JCKCCXX:1:10:2359481:0/1</td><td>A*24:44</td><td>206</td><td>34</td><td>34</td><td>1</td><td>DPPKTHMTHHPISDHEATLRCWALGFYPAEITLT</td></tr>\n",
       "\t<tr><th scope=row>3</th><td>H5JCKCCXX:1:10:2359481:0</td><td>1</td><td>H5JCKCCXX:1:10:2359481:0/1</td><td>A*24:135</td><td>206</td><td>34</td><td>34</td><td>1</td><td>DPPKTHMTHHPISDHEATLRCWALGFYPAEITLT</td></tr>\n",
       "\t<tr><th scope=row>4</th><td>H5JCKCCXX:1:10:2359481:0</td><td>1</td><td>H5JCKCCXX:1:10:2359481:0/1</td><td>A*03:159</td><td>206</td><td>34</td><td>34</td><td>1</td><td>DPPKTHMTHHPISDHEATLRCWALGFYPAEITLT</td></tr>\n",
       "\t<tr><th scope=row>5</th><td>H5JCKCCXX:1:10:2359481:0</td><td>1</td><td>H5JCKCCXX:1:10:2359481:0/1</td><td>A*23:69</td><td>206</td><td>34</td><td>34</td><td>1</td><td>DPPKTHMTHHPISDHEATLRCWALGFYPAEITLT</td></tr>\n",
       "\t<tr><th scope=row>6</th><td>H5JCKCCXX:1:10:2359481:0</td><td>1</td><td>H5JCKCCXX:1:10:2359481:0/1</td><td>A*30:93</td><td>206</td><td>34</td><td>34</td><td>1</td><td>DPPKTHMTHHPISDHEATLRCWALGFYPAEITLT</td></tr>\n",
       "</tbody>\n",
       "</table>\n"
      ],
      "text/latex": [
       "\\begin{tabular}{r|lllllllll}\n",
       "  & qp & pair & q & t & pos & len & align & specific & seq\\\\\n",
       "\\hline\n",
       "\t1 & H5JCKCCXX:1:10:2359481:0 & 1 & H5JCKCCXX:1:10:2359481:0/1 & A*24:26 & 206 & 34 & 34 & 1 & DPPKTHMTHHPISDHEATLRCWALGFYPAEITLT\\\\\n",
       "\t2 & H5JCKCCXX:1:10:2359481:0 & 1 & H5JCKCCXX:1:10:2359481:0/1 & A*24:44 & 206 & 34 & 34 & 1 & DPPKTHMTHHPISDHEATLRCWALGFYPAEITLT\\\\\n",
       "\t3 & H5JCKCCXX:1:10:2359481:0 & 1 & H5JCKCCXX:1:10:2359481:0/1 & A*24:135 & 206 & 34 & 34 & 1 & DPPKTHMTHHPISDHEATLRCWALGFYPAEITLT\\\\\n",
       "\t4 & H5JCKCCXX:1:10:2359481:0 & 1 & H5JCKCCXX:1:10:2359481:0/1 & A*03:159 & 206 & 34 & 34 & 1 & DPPKTHMTHHPISDHEATLRCWALGFYPAEITLT\\\\\n",
       "\t5 & H5JCKCCXX:1:10:2359481:0 & 1 & H5JCKCCXX:1:10:2359481:0/1 & A*23:69 & 206 & 34 & 34 & 1 & DPPKTHMTHHPISDHEATLRCWALGFYPAEITLT\\\\\n",
       "\t6 & H5JCKCCXX:1:10:2359481:0 & 1 & H5JCKCCXX:1:10:2359481:0/1 & A*30:93 & 206 & 34 & 34 & 1 & DPPKTHMTHHPISDHEATLRCWALGFYPAEITLT\\\\\n",
       "\\end{tabular}\n"
      ],
      "text/plain": [
       "                         qp pair                          q        t pos len\n",
       "1: H5JCKCCXX:1:10:2359481:0    1 H5JCKCCXX:1:10:2359481:0/1  A*24:26 206  34\n",
       "2: H5JCKCCXX:1:10:2359481:0    1 H5JCKCCXX:1:10:2359481:0/1  A*24:44 206  34\n",
       "3: H5JCKCCXX:1:10:2359481:0    1 H5JCKCCXX:1:10:2359481:0/1 A*24:135 206  34\n",
       "4: H5JCKCCXX:1:10:2359481:0    1 H5JCKCCXX:1:10:2359481:0/1 A*03:159 206  34\n",
       "5: H5JCKCCXX:1:10:2359481:0    1 H5JCKCCXX:1:10:2359481:0/1  A*23:69 206  34\n",
       "6: H5JCKCCXX:1:10:2359481:0    1 H5JCKCCXX:1:10:2359481:0/1  A*30:93 206  34\n",
       "   align specific                                seq\n",
       "1:    34        1 DPPKTHMTHHPISDHEATLRCWALGFYPAEITLT\n",
       "2:    34        1 DPPKTHMTHHPISDHEATLRCWALGFYPAEITLT\n",
       "3:    34        1 DPPKTHMTHHPISDHEATLRCWALGFYPAEITLT\n",
       "4:    34        1 DPPKTHMTHHPISDHEATLRCWALGFYPAEITLT\n",
       "5:    34        1 DPPKTHMTHHPISDHEATLRCWALGFYPAEITLT\n",
       "6:    34        1 DPPKTHMTHHPISDHEATLRCWALGFYPAEITLT"
      ]
     },
     "execution_count": 34,
     "metadata": {},
     "output_type": "execute_result"
    }
   ],
   "source": [
    "tt <- dt[, qp := sub('/\\\\d$', '', q)]\n",
    "nr <- dt[, .(pair = length(unique(q))), keyby = qp]\n",
    "setkey(dt, qp)\n",
    "dt <- nr[dt]\n",
    "head(dt)"
   ]
  },
  {
   "cell_type": "code",
   "execution_count": 35,
   "metadata": {
    "collapsed": false
   },
   "outputs": [
    {
     "data": {
      "text/html": [
       "<table>\n",
       "<thead><tr><th></th><th scope=col>qp</th><th scope=col>t</th><th scope=col>pair2</th><th scope=col>pair</th><th scope=col>q</th><th scope=col>pos</th><th scope=col>len</th><th scope=col>align</th><th scope=col>specific</th><th scope=col>seq</th></tr></thead>\n",
       "<tbody>\n",
       "\t<tr><th scope=row>1</th><td>H5JCKCCXX:1:10:2359481:0</td><td>A*01:01</td><td>1</td><td>1</td><td>H5JCKCCXX:1:10:2359481:0/1</td><td>206</td><td>34</td><td>34</td><td>1</td><td>DPPKTHMTHHPISDHEATLRCWALGFYPAEITLT</td></tr>\n",
       "\t<tr><th scope=row>2</th><td>H5JCKCCXX:1:10:2359481:0</td><td>A*01:02</td><td>1</td><td>1</td><td>H5JCKCCXX:1:10:2359481:0/1</td><td>206</td><td>34</td><td>34</td><td>1</td><td>DPPKTHMTHHPISDHEATLRCWALGFYPAEITLT</td></tr>\n",
       "\t<tr><th scope=row>3</th><td>H5JCKCCXX:1:10:2359481:0</td><td>A*01:03</td><td>1</td><td>1</td><td>H5JCKCCXX:1:10:2359481:0/1</td><td>206</td><td>34</td><td>34</td><td>1</td><td>DPPKTHMTHHPISDHEATLRCWALGFYPAEITLT</td></tr>\n",
       "\t<tr><th scope=row>4</th><td>H5JCKCCXX:1:10:2359481:0</td><td>A*01:09</td><td>1</td><td>1</td><td>H5JCKCCXX:1:10:2359481:0/1</td><td>206</td><td>34</td><td>34</td><td>1</td><td>DPPKTHMTHHPISDHEATLRCWALGFYPAEITLT</td></tr>\n",
       "\t<tr><th scope=row>5</th><td>H5JCKCCXX:1:10:2359481:0</td><td>A*01:104</td><td>1</td><td>1</td><td>H5JCKCCXX:1:10:2359481:0/1</td><td>206</td><td>34</td><td>34</td><td>1</td><td>DPPKTHMTHHPISDHEATLRCWALGFYPAEITLT</td></tr>\n",
       "\t<tr><th scope=row>6</th><td>H5JCKCCXX:1:10:2359481:0</td><td>A*01:107</td><td>1</td><td>1</td><td>H5JCKCCXX:1:10:2359481:0/1</td><td>206</td><td>34</td><td>34</td><td>1</td><td>DPPKTHMTHHPISDHEATLRCWALGFYPAEITLT</td></tr>\n",
       "</tbody>\n",
       "</table>\n"
      ],
      "text/latex": [
       "\\begin{tabular}{r|llllllllll}\n",
       "  & qp & t & pair2 & pair & q & pos & len & align & specific & seq\\\\\n",
       "\\hline\n",
       "\t1 & H5JCKCCXX:1:10:2359481:0 & A*01:01 & 1 & 1 & H5JCKCCXX:1:10:2359481:0/1 & 206 & 34 & 34 & 1 & DPPKTHMTHHPISDHEATLRCWALGFYPAEITLT\\\\\n",
       "\t2 & H5JCKCCXX:1:10:2359481:0 & A*01:02 & 1 & 1 & H5JCKCCXX:1:10:2359481:0/1 & 206 & 34 & 34 & 1 & DPPKTHMTHHPISDHEATLRCWALGFYPAEITLT\\\\\n",
       "\t3 & H5JCKCCXX:1:10:2359481:0 & A*01:03 & 1 & 1 & H5JCKCCXX:1:10:2359481:0/1 & 206 & 34 & 34 & 1 & DPPKTHMTHHPISDHEATLRCWALGFYPAEITLT\\\\\n",
       "\t4 & H5JCKCCXX:1:10:2359481:0 & A*01:09 & 1 & 1 & H5JCKCCXX:1:10:2359481:0/1 & 206 & 34 & 34 & 1 & DPPKTHMTHHPISDHEATLRCWALGFYPAEITLT\\\\\n",
       "\t5 & H5JCKCCXX:1:10:2359481:0 & A*01:104 & 1 & 1 & H5JCKCCXX:1:10:2359481:0/1 & 206 & 34 & 34 & 1 & DPPKTHMTHHPISDHEATLRCWALGFYPAEITLT\\\\\n",
       "\t6 & H5JCKCCXX:1:10:2359481:0 & A*01:107 & 1 & 1 & H5JCKCCXX:1:10:2359481:0/1 & 206 & 34 & 34 & 1 & DPPKTHMTHHPISDHEATLRCWALGFYPAEITLT\\\\\n",
       "\\end{tabular}\n"
      ],
      "text/plain": [
       "                         qp        t pair2 pair                          q pos\n",
       "1: H5JCKCCXX:1:10:2359481:0  A*01:01     1    1 H5JCKCCXX:1:10:2359481:0/1 206\n",
       "2: H5JCKCCXX:1:10:2359481:0  A*01:02     1    1 H5JCKCCXX:1:10:2359481:0/1 206\n",
       "3: H5JCKCCXX:1:10:2359481:0  A*01:03     1    1 H5JCKCCXX:1:10:2359481:0/1 206\n",
       "4: H5JCKCCXX:1:10:2359481:0  A*01:09     1    1 H5JCKCCXX:1:10:2359481:0/1 206\n",
       "5: H5JCKCCXX:1:10:2359481:0 A*01:104     1    1 H5JCKCCXX:1:10:2359481:0/1 206\n",
       "6: H5JCKCCXX:1:10:2359481:0 A*01:107     1    1 H5JCKCCXX:1:10:2359481:0/1 206\n",
       "   len align specific                                seq\n",
       "1:  34    34        1 DPPKTHMTHHPISDHEATLRCWALGFYPAEITLT\n",
       "2:  34    34        1 DPPKTHMTHHPISDHEATLRCWALGFYPAEITLT\n",
       "3:  34    34        1 DPPKTHMTHHPISDHEATLRCWALGFYPAEITLT\n",
       "4:  34    34        1 DPPKTHMTHHPISDHEATLRCWALGFYPAEITLT\n",
       "5:  34    34        1 DPPKTHMTHHPISDHEATLRCWALGFYPAEITLT\n",
       "6:  34    34        1 DPPKTHMTHHPISDHEATLRCWALGFYPAEITLT"
      ]
     },
     "execution_count": 35,
     "metadata": {},
     "output_type": "execute_result"
    }
   ],
   "source": [
    "nr <- dt[, .(pair2 = length(unique(q))), keyby = .(qp, t)]\n",
    "setkey(dt, qp, t)\n",
    "dt <- nr[dt]\n",
    "head(dt)"
   ]
  },
  {
   "cell_type": "code",
   "execution_count": 36,
   "metadata": {
    "collapsed": false
   },
   "outputs": [],
   "source": [
    "dt <- dt[pair == pair2]"
   ]
  },
  {
   "cell_type": "code",
   "execution_count": 37,
   "metadata": {
    "collapsed": false
   },
   "outputs": [],
   "source": [
    "library(IRanges)"
   ]
  },
  {
   "cell_type": "code",
   "execution_count": 38,
   "metadata": {
    "collapsed": false
   },
   "outputs": [],
   "source": [
    "dt <- dt[grepl('\\\\d$', t) & align / len > 0.8]\n",
    "setkey(dt, t)\n",
    "cov <- dt[, .(\n",
    "    n0 = .N, \n",
    "    n1 = sum(specific), \n",
    "    cov0 = sum(width(reduce(IRanges(pos, width = len)))),\n",
    "    cov1 = sum(width(reduce(IRanges(pos[specific == 1], width = len[specific == 1]))))\n",
    "), keyby = t]"
   ]
  },
  {
   "cell_type": "code",
   "execution_count": 39,
   "metadata": {
    "collapsed": false
   },
   "outputs": [
    {
     "data": {
      "text/html": [
       "<table>\n",
       "<thead><tr><th></th><th scope=col>t</th><th scope=col>n0</th><th scope=col>n1</th><th scope=col>cov0</th><th scope=col>cov1</th></tr></thead>\n",
       "<tbody>\n",
       "\t<tr><th scope=row>1</th><td>A*02:01</td><td>99</td><td>88</td><td>297</td><td>297</td></tr>\n",
       "\t<tr><th scope=row>2</th><td>A*02:249</td><td>84</td><td>75</td><td>296</td><td>296</td></tr>\n",
       "\t<tr><th scope=row>3</th><td>A*02:523</td><td>85</td><td>74</td><td>296</td><td>296</td></tr>\n",
       "\t<tr><th scope=row>4</th><td>A*02:95</td><td>79</td><td>68</td><td>296</td><td>296</td></tr>\n",
       "\t<tr><th scope=row>5</th><td>A*02:134</td><td>98</td><td>87</td><td>293</td><td>293</td></tr>\n",
       "\t<tr><th scope=row>6</th><td>A*02:24</td><td>87</td><td>76</td><td>292</td><td>292</td></tr>\n",
       "</tbody>\n",
       "</table>\n"
      ],
      "text/latex": [
       "\\begin{tabular}{r|lllll}\n",
       "  & t & n0 & n1 & cov0 & cov1\\\\\n",
       "\\hline\n",
       "\t1 & A*02:01 & 99 & 88 & 297 & 297\\\\\n",
       "\t2 & A*02:249 & 84 & 75 & 296 & 296\\\\\n",
       "\t3 & A*02:523 & 85 & 74 & 296 & 296\\\\\n",
       "\t4 & A*02:95 & 79 & 68 & 296 & 296\\\\\n",
       "\t5 & A*02:134 & 98 & 87 & 293 & 293\\\\\n",
       "\t6 & A*02:24 & 87 & 76 & 292 & 292\\\\\n",
       "\\end{tabular}\n"
      ],
      "text/plain": [
       "          t n0 n1 cov0 cov1\n",
       "1:  A*02:01 99 88  297  297\n",
       "2: A*02:249 84 75  296  296\n",
       "3: A*02:523 85 74  296  296\n",
       "4:  A*02:95 79 68  296  296\n",
       "5: A*02:134 98 87  293  293\n",
       "6:  A*02:24 87 76  292  292"
      ]
     },
     "execution_count": 39,
     "metadata": {},
     "output_type": "execute_result"
    }
   ],
   "source": [
    "head(cov[order(-cov1)])"
   ]
  },
  {
   "cell_type": "code",
   "execution_count": 40,
   "metadata": {
    "collapsed": false
   },
   "outputs": [
    {
     "data": {
      "text/html": [
       "<table>\n",
       "<thead><tr><th></th><th scope=col>t</th><th scope=col>n0</th><th scope=col>n1</th><th scope=col>cov0</th><th scope=col>cov1</th></tr></thead>\n",
       "<tbody>\n",
       "\t<tr><th scope=row>1</th><td>A*03:01</td><td>176</td><td>108</td><td>298</td><td>253</td></tr>\n",
       "\t<tr><th scope=row>2</th><td>A*03:134</td><td>166</td><td>108</td><td>287</td><td>253</td></tr>\n",
       "\t<tr><th scope=row>3</th><td>A*03:26</td><td>174</td><td>108</td><td>295</td><td>253</td></tr>\n",
       "\t<tr><th scope=row>4</th><td>A*03:182</td><td>132</td><td>106</td><td>266</td><td>251</td></tr>\n",
       "\t<tr><th scope=row>5</th><td>A*03:37</td><td>128</td><td>106</td><td>263</td><td>251</td></tr>\n",
       "\t<tr><th scope=row>6</th><td>A*03:89</td><td>175</td><td>105</td><td>298</td><td>253</td></tr>\n",
       "</tbody>\n",
       "</table>\n"
      ],
      "text/latex": [
       "\\begin{tabular}{r|lllll}\n",
       "  & t & n0 & n1 & cov0 & cov1\\\\\n",
       "\\hline\n",
       "\t1 & A*03:01 & 176 & 108 & 298 & 253\\\\\n",
       "\t2 & A*03:134 & 166 & 108 & 287 & 253\\\\\n",
       "\t3 & A*03:26 & 174 & 108 & 295 & 253\\\\\n",
       "\t4 & A*03:182 & 132 & 106 & 266 & 251\\\\\n",
       "\t5 & A*03:37 & 128 & 106 & 263 & 251\\\\\n",
       "\t6 & A*03:89 & 175 & 105 & 298 & 253\\\\\n",
       "\\end{tabular}\n"
      ],
      "text/plain": [
       "          t  n0  n1 cov0 cov1\n",
       "1:  A*03:01 176 108  298  253\n",
       "2: A*03:134 166 108  287  253\n",
       "3:  A*03:26 174 108  295  253\n",
       "4: A*03:182 132 106  266  251\n",
       "5:  A*03:37 128 106  263  251\n",
       "6:  A*03:89 175 105  298  253"
      ]
     },
     "execution_count": 40,
     "metadata": {},
     "output_type": "execute_result"
    }
   ],
   "source": [
    "head(cov[order(-n1)])"
   ]
  },
  {
   "cell_type": "code",
   "execution_count": 41,
   "metadata": {
    "collapsed": true
   },
   "outputs": [],
   "source": [
    "pure <- dt[specific == 1]\n",
    "nonpure <- dt[specific == 0]"
   ]
  },
  {
   "cell_type": "code",
   "execution_count": 42,
   "metadata": {
    "collapsed": false
   },
   "outputs": [
    {
     "data": {
      "text/html": [
       "67598"
      ],
      "text/latex": [
       "67598"
      ],
      "text/markdown": [
       "67598"
      ],
      "text/plain": [
       "[1] 67598"
      ]
     },
     "execution_count": 42,
     "metadata": {},
     "output_type": "execute_result"
    }
   ],
   "source": [
    "nrow(pure)"
   ]
  },
  {
   "cell_type": "code",
   "execution_count": 43,
   "metadata": {
    "collapsed": false
   },
   "outputs": [
    {
     "data": {
      "text/html": [
       "24624"
      ],
      "text/latex": [
       "24624"
      ],
      "text/markdown": [
       "24624"
      ],
      "text/plain": [
       "[1] 24624"
      ]
     },
     "execution_count": 43,
     "metadata": {},
     "output_type": "execute_result"
    }
   ],
   "source": [
    "nrow(nonpure)"
   ]
  },
  {
   "cell_type": "code",
   "execution_count": 44,
   "metadata": {
    "collapsed": false
   },
   "outputs": [
    {
     "data": {
      "text/html": [
       "92222"
      ],
      "text/latex": [
       "92222"
      ],
      "text/markdown": [
       "92222"
      ],
      "text/plain": [
       "[1] 92222"
      ]
     },
     "execution_count": 44,
     "metadata": {},
     "output_type": "execute_result"
    }
   ],
   "source": [
    "#good <- pure[align / len > 0.8]\n",
    "good <- dt[align / len > 0.8]\n",
    "nrow(good)"
   ]
  },
  {
   "cell_type": "code",
   "execution_count": 54,
   "metadata": {
    "collapsed": true
   },
   "outputs": [],
   "source": [
    "tt <- good[, v := (specific + 1)/2]"
   ]
  },
  {
   "cell_type": "code",
   "execution_count": 55,
   "metadata": {
    "collapsed": true
   },
   "outputs": [],
   "source": [
    "mat <- dcast(good, q ~ t, value.var = 'v', fill = 0)"
   ]
  },
  {
   "cell_type": "code",
   "execution_count": 56,
   "metadata": {
    "collapsed": true
   },
   "outputs": [],
   "source": [
    "tt <- mat[, q := NULL]"
   ]
  },
  {
   "cell_type": "code",
   "execution_count": 57,
   "metadata": {
    "collapsed": false
   },
   "outputs": [
    {
     "data": {
      "text/html": [
       "<dl class=dl-horizontal>\n",
       "\t<dt>A*03:196</dt>\n",
       "\t\t<dd>131</dd>\n",
       "\t<dt>A*03:20</dt>\n",
       "\t\t<dd>134.5</dd>\n",
       "\t<dt>A*03:134</dt>\n",
       "\t\t<dd>137</dd>\n",
       "\t<dt>A*03:89</dt>\n",
       "\t\t<dd>140</dd>\n",
       "\t<dt>A*03:26</dt>\n",
       "\t\t<dd>141</dd>\n",
       "\t<dt>A*03:01</dt>\n",
       "\t\t<dd>142</dd>\n",
       "</dl>\n"
      ],
      "text/latex": [
       "\\begin{description*}\n",
       "\\item[A*03:196] 131\n",
       "\\item[A*03:20] 134.5\n",
       "\\item[A*03:134] 137\n",
       "\\item[A*03:89] 140\n",
       "\\item[A*03:26] 141\n",
       "\\item[A*03:01] 142\n",
       "\\end{description*}\n"
      ],
      "text/markdown": [
       "A*03:196\n",
       ":   131A*03:20\n",
       ":   134.5A*03:134\n",
       ":   137A*03:89\n",
       ":   140A*03:26\n",
       ":   141A*03:01\n",
       ":   142\n",
       "\n"
      ],
      "text/plain": [
       "A*03:196  A*03:20 A*03:134  A*03:89  A*03:26  A*03:01 \n",
       "   131.0    134.5    137.0    140.0    141.0    142.0 "
      ]
     },
     "execution_count": 57,
     "metadata": {},
     "output_type": "execute_result"
    }
   ],
   "source": [
    "tail(sort(colSums(mat)))"
   ]
  },
  {
   "cell_type": "code",
   "execution_count": 58,
   "metadata": {
    "collapsed": true
   },
   "outputs": [],
   "source": [
    "temp <- sort(colSums(mat))"
   ]
  },
  {
   "cell_type": "code",
   "execution_count": 62,
   "metadata": {
    "collapsed": false
   },
   "outputs": [
    {
     "data": {
      "text/html": [
       "<dl class=dl-horizontal>\n",
       "\t<dt>A*02:329</dt>\n",
       "\t\t<dd>90.5</dd>\n",
       "\t<dt>A*02:445</dt>\n",
       "\t\t<dd>90.5</dd>\n",
       "\t<dt>A*02:446</dt>\n",
       "\t\t<dd>91</dd>\n",
       "\t<dt>A*02:134</dt>\n",
       "\t\t<dd>92.5</dd>\n",
       "\t<dt>A*02:01</dt>\n",
       "\t\t<dd>93.5</dd>\n",
       "\t<dt>A*02:294</dt>\n",
       "\t\t<dd>100.5</dd>\n",
       "</dl>\n"
      ],
      "text/latex": [
       "\\begin{description*}\n",
       "\\item[A*02:329] 90.5\n",
       "\\item[A*02:445] 90.5\n",
       "\\item[A*02:446] 91\n",
       "\\item[A*02:134] 92.5\n",
       "\\item[A*02:01] 93.5\n",
       "\\item[A*02:294] 100.5\n",
       "\\end{description*}\n"
      ],
      "text/markdown": [
       "A*02:329\n",
       ":   90.5A*02:445\n",
       ":   90.5A*02:446\n",
       ":   91A*02:134\n",
       ":   92.5A*02:01\n",
       ":   93.5A*02:294\n",
       ":   100.5\n",
       "\n"
      ],
      "text/plain": [
       "A*02:329 A*02:445 A*02:446 A*02:134  A*02:01 A*02:294 \n",
       "    90.5     90.5     91.0     92.5     93.5    100.5 "
      ]
     },
     "execution_count": 62,
     "metadata": {},
     "output_type": "execute_result"
    }
   ],
   "source": [
    "tail(temp[grepl('A\\\\*02', names(temp))])"
   ]
  },
  {
   "cell_type": "code",
   "execution_count": 59,
   "metadata": {
    "collapsed": false
   },
   "outputs": [
    {
     "data": {
      "text/html": [
       "212.5"
      ],
      "text/latex": [
       "212.5"
      ],
      "text/markdown": [
       "212.5"
      ],
      "text/plain": [
       "[1] 212.5"
      ]
     },
     "execution_count": 59,
     "metadata": {},
     "output_type": "execute_result"
    }
   ],
   "source": [
    "mat[, sum(pmax(`A*02:01`, `A*03:01`))]"
   ]
  },
  {
   "cell_type": "code",
   "execution_count": 60,
   "metadata": {
    "collapsed": false
   },
   "outputs": [
    {
     "data": {
      "text/html": [
       "211.5"
      ],
      "text/latex": [
       "211.5"
      ],
      "text/markdown": [
       "211.5"
      ],
      "text/plain": [
       "[1] 211.5"
      ]
     },
     "execution_count": 60,
     "metadata": {},
     "output_type": "execute_result"
    }
   ],
   "source": [
    "mat[, sum(pmax(`A*02:01`, `A*03:26`))]"
   ]
  },
  {
   "cell_type": "code",
   "execution_count": 61,
   "metadata": {
    "collapsed": false
   },
   "outputs": [
    {
     "data": {
      "text/html": [
       "193.5"
      ],
      "text/latex": [
       "193.5"
      ],
      "text/markdown": [
       "193.5"
      ],
      "text/plain": [
       "[1] 193.5"
      ]
     },
     "execution_count": 61,
     "metadata": {},
     "output_type": "execute_result"
    }
   ],
   "source": [
    "mat[, sum(pmax(`A*02:01`, `A*03:89`))]"
   ]
  },
  {
   "cell_type": "code",
   "execution_count": 64,
   "metadata": {
    "collapsed": false
   },
   "outputs": [
    {
     "data": {
      "text/html": [
       "188"
      ],
      "text/latex": [
       "188"
      ],
      "text/markdown": [
       "188"
      ],
      "text/plain": [
       "[1] 188"
      ]
     },
     "execution_count": 64,
     "metadata": {},
     "output_type": "execute_result"
    }
   ],
   "source": [
    "mat[, sum(pmax(`A*02:294`, `A*03:89`))]"
   ]
  },
  {
   "cell_type": "code",
   "execution_count": 63,
   "metadata": {
    "collapsed": false
   },
   "outputs": [
    {
     "data": {
      "text/html": [
       "207"
      ],
      "text/latex": [
       "207"
      ],
      "text/markdown": [
       "207"
      ],
      "text/plain": [
       "[1] 207"
      ]
     },
     "execution_count": 63,
     "metadata": {},
     "output_type": "execute_result"
    }
   ],
   "source": [
    "mat[, sum(pmax(`A*02:294`, `A*03:01`))]"
   ]
  },
  {
   "cell_type": "code",
   "execution_count": 65,
   "metadata": {
    "collapsed": false
   },
   "outputs": [
    {
     "data": {
      "text/html": [
       "208"
      ],
      "text/latex": [
       "208"
      ],
      "text/markdown": [
       "208"
      ],
      "text/plain": [
       "[1] 208"
      ]
     },
     "execution_count": 65,
     "metadata": {},
     "output_type": "execute_result"
    }
   ],
   "source": [
    "mat[, sum(pmax(`A*02:294`, `A*03:26`))]"
   ]
  },
  {
   "cell_type": "code",
   "execution_count": 66,
   "metadata": {
    "collapsed": false
   },
   "outputs": [
    {
     "data": {
      "text/html": [
       "210.5"
      ],
      "text/latex": [
       "210.5"
      ],
      "text/markdown": [
       "210.5"
      ],
      "text/plain": [
       "[1] 210.5"
      ]
     },
     "execution_count": 66,
     "metadata": {},
     "output_type": "execute_result"
    }
   ],
   "source": [
    "mat[, sum(pmax(`A*02:134`, `A*03:26`))]"
   ]
  },
  {
   "cell_type": "code",
   "execution_count": 67,
   "metadata": {
    "collapsed": false
   },
   "outputs": [
    {
     "data": {
      "text/html": [
       "211.5"
      ],
      "text/latex": [
       "211.5"
      ],
      "text/markdown": [
       "211.5"
      ],
      "text/plain": [
       "[1] 211.5"
      ]
     },
     "execution_count": 67,
     "metadata": {},
     "output_type": "execute_result"
    }
   ],
   "source": [
    "mat[, sum(pmax(`A*02:134`, `A*03:01`))]"
   ]
  },
  {
   "cell_type": "code",
   "execution_count": 55,
   "metadata": {
    "collapsed": false
   },
   "outputs": [
    {
     "data": {
      "text/html": [
       "151"
      ],
      "text/latex": [
       "151"
      ],
      "text/markdown": [
       "151"
      ],
      "text/plain": [
       "[1] 151"
      ]
     },
     "execution_count": 55,
     "metadata": {},
     "output_type": "execute_result"
    }
   ],
   "source": [
    "nrow(mat)"
   ]
  },
  {
   "cell_type": "code",
   "execution_count": 100,
   "metadata": {
    "collapsed": false
   },
   "outputs": [
    {
     "data": {
      "text/html": [
       "<table>\n",
       "<thead><tr><th></th><th scope=col>t</th><th scope=col>n0</th><th scope=col>n1</th><th scope=col>cov0</th><th scope=col>cov1</th></tr></thead>\n",
       "<tbody>\n",
       "\t<tr><th scope=row>1</th><td>B*07:02</td><td>43</td><td>16</td><td>92</td><td>92</td></tr>\n",
       "\t<tr><th scope=row>2</th><td>B*07:03</td><td>43</td><td>16</td><td>92</td><td>92</td></tr>\n",
       "\t<tr><th scope=row>3</th><td>B*07:04</td><td>43</td><td>16</td><td>92</td><td>92</td></tr>\n",
       "\t<tr><th scope=row>4</th><td>B*07:05</td><td>43</td><td>16</td><td>92</td><td>92</td></tr>\n",
       "\t<tr><th scope=row>5</th><td>B*07:06</td><td>43</td><td>16</td><td>92</td><td>92</td></tr>\n",
       "\t<tr><th scope=row>6</th><td>B*07:07</td><td>43</td><td>16</td><td>92</td><td>92</td></tr>\n",
       "</tbody>\n",
       "</table>\n"
      ],
      "text/latex": [
       "\\begin{tabular}{r|lllll}\n",
       "  & t & n0 & n1 & cov0 & cov1\\\\\n",
       "\\hline\n",
       "\t1 & B*07:02 & 43 & 16 & 92 & 92\\\\\n",
       "\t2 & B*07:03 & 43 & 16 & 92 & 92\\\\\n",
       "\t3 & B*07:04 & 43 & 16 & 92 & 92\\\\\n",
       "\t4 & B*07:05 & 43 & 16 & 92 & 92\\\\\n",
       "\t5 & B*07:06 & 43 & 16 & 92 & 92\\\\\n",
       "\t6 & B*07:07 & 43 & 16 & 92 & 92\\\\\n",
       "\\end{tabular}\n"
      ],
      "text/plain": [
       "         t n0 n1 cov0 cov1\n",
       "1: B*07:02 43 16   92   92\n",
       "2: B*07:03 43 16   92   92\n",
       "3: B*07:04 43 16   92   92\n",
       "4: B*07:05 43 16   92   92\n",
       "5: B*07:06 43 16   92   92\n",
       "6: B*07:07 43 16   92   92"
      ]
     },
     "execution_count": 100,
     "metadata": {},
     "output_type": "execute_result"
    }
   ],
   "source": [
    "head(cov)"
   ]
  },
  {
   "cell_type": "code",
   "execution_count": 24,
   "metadata": {
    "collapsed": false
   },
   "outputs": [
    {
     "data": {
      "text/html": [
       "176"
      ],
      "text/latex": [
       "176"
      ],
      "text/markdown": [
       "176"
      ],
      "text/plain": [
       "[1] 176"
      ]
     },
     "execution_count": 24,
     "metadata": {},
     "output_type": "execute_result"
    }
   ],
   "source": [
    "mat[, sum(pmax(`A*02:01`, `A*03:01`))]"
   ]
  },
  {
   "cell_type": "code",
   "execution_count": 25,
   "metadata": {
    "collapsed": false
   },
   "outputs": [
    {
     "data": {
      "text/html": [
       "176"
      ],
      "text/latex": [
       "176"
      ],
      "text/markdown": [
       "176"
      ],
      "text/plain": [
       "[1] 176"
      ]
     },
     "execution_count": 25,
     "metadata": {},
     "output_type": "execute_result"
    }
   ],
   "source": [
    "mat[, sum(pmax(`A*02:01`, `A*03:26`))]"
   ]
  },
  {
   "cell_type": "code",
   "execution_count": 26,
   "metadata": {
    "collapsed": false
   },
   "outputs": [
    {
     "data": {
      "text/html": [
       "131"
      ],
      "text/latex": [
       "131"
      ],
      "text/markdown": [
       "131"
      ],
      "text/plain": [
       "[1] 131"
      ]
     },
     "execution_count": 26,
     "metadata": {},
     "output_type": "execute_result"
    }
   ],
   "source": [
    "mat[, sum(pmax(`A*02:01`, `A*03:14`))]"
   ]
  },
  {
   "cell_type": "code",
   "execution_count": 27,
   "metadata": {
    "collapsed": false
   },
   "outputs": [
    {
     "data": {
      "text/html": [
       "176"
      ],
      "text/latex": [
       "176"
      ],
      "text/markdown": [
       "176"
      ],
      "text/plain": [
       "[1] 176"
      ]
     },
     "execution_count": 27,
     "metadata": {},
     "output_type": "execute_result"
    }
   ],
   "source": [
    "mat[, sum(pmax(`A*02:01`, `A*03:134`))]"
   ]
  },
  {
   "cell_type": "code",
   "execution_count": 28,
   "metadata": {
    "collapsed": false
   },
   "outputs": [
    {
     "data": {
      "text/html": [
       "174"
      ],
      "text/latex": [
       "174"
      ],
      "text/markdown": [
       "174"
      ],
      "text/plain": [
       "[1] 174"
      ]
     },
     "execution_count": 28,
     "metadata": {},
     "output_type": "execute_result"
    }
   ],
   "source": [
    "mat[, sum(pmax(`A*02:01`, `A*03:37`))]"
   ]
  },
  {
   "cell_type": "code",
   "execution_count": null,
   "metadata": {
    "collapsed": true
   },
   "outputs": [],
   "source": []
  }
 ],
 "metadata": {
  "kernelspec": {
   "display_name": "R",
   "language": "R",
   "name": "ir"
  },
  "language_info": {
   "codemirror_mode": "r",
   "file_extension": ".r",
   "mimetype": "text/x-r-source",
   "name": "R",
   "pygments_lexer": "r",
   "version": "3.2.1"
  }
 },
 "nbformat": 4,
 "nbformat_minor": 0
}
