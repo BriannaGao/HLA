{
 "cells": [
  {
   "cell_type": "code",
   "execution_count": 58,
   "metadata": {
    "collapsed": true
   },
   "outputs": [],
   "source": [
    "load('~/HLI/hla/test.rda')"
   ]
  },
  {
   "cell_type": "code",
   "execution_count": 60,
   "metadata": {
    "collapsed": true
   },
   "outputs": [],
   "source": [
    "allele.names <- colnames(test)\n",
    "allele.genes <- unique(sub('\\\\*.+', '', allele.names))\n",
    "alleles <- 1:ncol(test)\n",
    "reads <- 1:nrow(test)\n",
    "na <- length(alleles)\n",
    "nr <- length(reads)"
   ]
  },
  {
   "cell_type": "code",
   "execution_count": 61,
   "metadata": {
    "collapsed": true
   },
   "outputs": [],
   "source": [
    "library(lpSolve)"
   ]
  },
  {
   "cell_type": "code",
   "execution_count": 62,
   "metadata": {
    "collapsed": false
   },
   "outputs": [],
   "source": [
    "f.obj <- c(rep(0, na), ifelse(is.specific, 1, 0.1))\n",
    "# constraints for hit incidence matrix\n",
    "f.con <- do.call(rbind, lapply(1:nr, function(i){\n",
    "    con <- c(test[i,], rep(0, nr))\n",
    "    con[na + i] <- -1\n",
    "    con\n",
    "}))\n",
    "f.dir <- rep('>=', nr)\n",
    "f.rhs <- rep(0, nr)\n",
    "# constraints for 1 or 2 alleles per gene\n",
    "\n",
    "f.con2 <- do.call(rbind, lapply(allele.genes, function(gene){\n",
    "    con <- c(rep(0, na), rep(0, nr))\n",
    "    con[grep(sprintf(\"^%s\", gene), allele.names)] <- 1\n",
    "    rbind(con, con)\n",
    "}))\n",
    "f.dir2 <- rep(c('>=', '<='), length(allele.genes))\n",
    "f.rhs2 <- rep(c( 1,    2  ), length(allele.genes))\n",
    "\n",
    "# final constraints\n",
    "f.con <- rbind(f.con, f.con2)\n",
    "f.dir <- c(f.dir, f.dir2)\n",
    "f.rhs <- c(f.rhs, f.rhs2)"
   ]
  },
  {
   "cell_type": "code",
   "execution_count": 63,
   "metadata": {
    "collapsed": false
   },
   "outputs": [
    {
     "data": {
      "text/plain": [
       "   user  system elapsed \n",
       "  2.827   0.070   2.899 "
      ]
     },
     "execution_count": 63,
     "metadata": {},
     "output_type": "execute_result"
    }
   ],
   "source": [
    "system.time(lps <- lp('max', f.obj, f.con, f.dir, f.rhs, all.bin = T))"
   ]
  },
  {
   "cell_type": "code",
   "execution_count": 64,
   "metadata": {
    "collapsed": false
   },
   "outputs": [
    {
     "data": {
      "text/plain": [
       "Success: the objective function is 508 "
      ]
     },
     "execution_count": 64,
     "metadata": {},
     "output_type": "execute_result"
    }
   ],
   "source": [
    "lps"
   ]
  },
  {
   "cell_type": "code",
   "execution_count": 65,
   "metadata": {
    "collapsed": false
   },
   "outputs": [
    {
     "data": {
      "text/html": [
       "<dl class=dl-horizontal>\n",
       "\t<dt>A*02:01</dt>\n",
       "\t\t<dd>1</dd>\n",
       "\t<dt>A*03:01</dt>\n",
       "\t\t<dd>1</dd>\n",
       "\t<dt>B*13:02</dt>\n",
       "\t\t<dd>1</dd>\n",
       "\t<dt>B*51:01</dt>\n",
       "\t\t<dd>1</dd>\n",
       "\t<dt>C*01:11</dt>\n",
       "\t\t<dd>1</dd>\n",
       "\t<dt>C*06:109</dt>\n",
       "\t\t<dd>1</dd>\n",
       "</dl>\n"
      ],
      "text/latex": [
       "\\begin{description*}\n",
       "\\item[A*02:01] 1\n",
       "\\item[A*03:01] 1\n",
       "\\item[B*13:02] 1\n",
       "\\item[B*51:01] 1\n",
       "\\item[C*01:11] 1\n",
       "\\item[C*06:109] 1\n",
       "\\end{description*}\n"
      ],
      "text/markdown": [
       "A*02:01\n",
       ":   1A*03:01\n",
       ":   1B*13:02\n",
       ":   1B*51:01\n",
       ":   1C*01:11\n",
       ":   1C*06:109\n",
       ":   1\n",
       "\n"
      ],
      "text/plain": [
       " A*02:01  A*03:01  B*13:02  B*51:01  C*01:11 C*06:109 \n",
       "       1        1        1        1        1        1 "
      ]
     },
     "execution_count": 65,
     "metadata": {},
     "output_type": "execute_result"
    }
   ],
   "source": [
    "solution <- lps$solution[alleles]\n",
    "names(solution) <- allele.names\n",
    "solution <- solution[order(-solution)]\n",
    "solution <- solution[solution > 0]\n",
    "solution"
   ]
  },
  {
   "cell_type": "code",
   "execution_count": 66,
   "metadata": {
    "collapsed": false
   },
   "outputs": [
    {
     "data": {
      "text/html": [
       "575"
      ],
      "text/latex": [
       "575"
      ],
      "text/markdown": [
       "575"
      ],
      "text/plain": [
       "[1] 575"
      ]
     },
     "execution_count": 66,
     "metadata": {},
     "output_type": "execute_result"
    }
   ],
   "source": [
    "nrow(f.con)"
   ]
  },
  {
   "cell_type": "code",
   "execution_count": 67,
   "metadata": {
    "collapsed": false
   },
   "outputs": [
    {
     "data": {
      "text/html": [
       "7015"
      ],
      "text/latex": [
       "7015"
      ],
      "text/markdown": [
       "7015"
      ],
      "text/plain": [
       "[1] 7015"
      ]
     },
     "execution_count": 67,
     "metadata": {},
     "output_type": "execute_result"
    }
   ],
   "source": [
    "ncol(f.con)"
   ]
  },
  {
   "cell_type": "code",
   "execution_count": null,
   "metadata": {
    "collapsed": true
   },
   "outputs": [],
   "source": []
  }
 ],
 "metadata": {
  "kernelspec": {
   "display_name": "R",
   "language": "R",
   "name": "ir"
  },
  "language_info": {
   "codemirror_mode": "r",
   "file_extension": ".r",
   "mimetype": "text/x-r-source",
   "name": "R",
   "pygments_lexer": "r",
   "version": "3.2.1"
  }
 },
 "nbformat": 4,
 "nbformat_minor": 0
}
