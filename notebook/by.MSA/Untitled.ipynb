{
 "cells": [
  {
   "cell_type": "code",
   "execution_count": 1,
   "metadata": {
    "collapsed": true
   },
   "outputs": [],
   "source": [
    "library(data.table)"
   ]
  },
  {
   "cell_type": "code",
   "execution_count": 104,
   "metadata": {
    "collapsed": true
   },
   "outputs": [],
   "source": [
    "dt <- fread('out.B.tsv')"
   ]
  },
  {
   "cell_type": "code",
   "execution_count": 105,
   "metadata": {
    "collapsed": false
   },
   "outputs": [
    {
     "data": {
      "text/html": [
       "<table>\n",
       "<thead><tr><th></th><th scope=col>V1</th><th scope=col>V2</th><th scope=col>V3</th><th scope=col>V4</th><th scope=col>V5</th><th scope=col>V6</th><th scope=col>V7</th></tr></thead>\n",
       "<tbody>\n",
       "\t<tr><th scope=row>1</th><td>H5JCKCCXX:2:6:1932827:0/1</td><td>B*35:52</td><td>245</td><td>47</td><td>47</td><td>1</td><td>EDQTQDTELVETRPAGDRTFQKWAAVVVPSGEEQRYTCHVQHEGLPK</td></tr>\n",
       "\t<tr><th scope=row>2</th><td>H5JCKCCXX:2:6:1932827:0/1</td><td>B*13:67</td><td>245</td><td>47</td><td>47</td><td>1</td><td>EDQTQDTELVETRPAGDRTFQKWAAVVVPSGEEQRYTCHVQHEGLPK</td></tr>\n",
       "\t<tr><th scope=row>3</th><td>H5JCKCCXX:2:6:1932827:0/1</td><td>B*15:163</td><td>245</td><td>47</td><td>47</td><td>1</td><td>EDQTQDTELVETRPAGDRTFQKWAAVVVPSGEEQRYTCHVQHEGLPK</td></tr>\n",
       "\t<tr><th scope=row>4</th><td>H5JCKCCXX:2:6:1932827:0/1</td><td>B*08:132</td><td>245</td><td>47</td><td>47</td><td>1</td><td>EDQTQDTELVETRPAGDRTFQKWAAVVVPSGEEQRYTCHVQHEGLPK</td></tr>\n",
       "\t<tr><th scope=row>5</th><td>H5JCKCCXX:2:6:1932827:0/1</td><td>B*58:70</td><td>245</td><td>47</td><td>47</td><td>1</td><td>EDQTQDTELVETRPAGDRTFQKWAAVVVPSGEEQRYTCHVQHEGLPK</td></tr>\n",
       "\t<tr><th scope=row>6</th><td>H5JCKCCXX:2:6:1932827:0/1</td><td>B*51:01</td><td>245</td><td>47</td><td>47</td><td>1</td><td>EDQTQDTELVETRPAGDRTFQKWAAVVVPSGEEQRYTCHVQHEGLPK</td></tr>\n",
       "</tbody>\n",
       "</table>\n"
      ],
      "text/latex": [
       "\\begin{tabular}{r|lllllll}\n",
       "  & V1 & V2 & V3 & V4 & V5 & V6 & V7\\\\\n",
       "\\hline\n",
       "\t1 & H5JCKCCXX:2:6:1932827:0/1 & B*35:52 & 245 & 47 & 47 & 1 & EDQTQDTELVETRPAGDRTFQKWAAVVVPSGEEQRYTCHVQHEGLPK\\\\\n",
       "\t2 & H5JCKCCXX:2:6:1932827:0/1 & B*13:67 & 245 & 47 & 47 & 1 & EDQTQDTELVETRPAGDRTFQKWAAVVVPSGEEQRYTCHVQHEGLPK\\\\\n",
       "\t3 & H5JCKCCXX:2:6:1932827:0/1 & B*15:163 & 245 & 47 & 47 & 1 & EDQTQDTELVETRPAGDRTFQKWAAVVVPSGEEQRYTCHVQHEGLPK\\\\\n",
       "\t4 & H5JCKCCXX:2:6:1932827:0/1 & B*08:132 & 245 & 47 & 47 & 1 & EDQTQDTELVETRPAGDRTFQKWAAVVVPSGEEQRYTCHVQHEGLPK\\\\\n",
       "\t5 & H5JCKCCXX:2:6:1932827:0/1 & B*58:70 & 245 & 47 & 47 & 1 & EDQTQDTELVETRPAGDRTFQKWAAVVVPSGEEQRYTCHVQHEGLPK\\\\\n",
       "\t6 & H5JCKCCXX:2:6:1932827:0/1 & B*51:01 & 245 & 47 & 47 & 1 & EDQTQDTELVETRPAGDRTFQKWAAVVVPSGEEQRYTCHVQHEGLPK\\\\\n",
       "\\end{tabular}\n"
      ],
      "text/plain": [
       "                          V1       V2  V3 V4 V5 V6\n",
       "1: H5JCKCCXX:2:6:1932827:0/1  B*35:52 245 47 47  1\n",
       "2: H5JCKCCXX:2:6:1932827:0/1  B*13:67 245 47 47  1\n",
       "3: H5JCKCCXX:2:6:1932827:0/1 B*15:163 245 47 47  1\n",
       "4: H5JCKCCXX:2:6:1932827:0/1 B*08:132 245 47 47  1\n",
       "5: H5JCKCCXX:2:6:1932827:0/1  B*58:70 245 47 47  1\n",
       "6: H5JCKCCXX:2:6:1932827:0/1  B*51:01 245 47 47  1\n",
       "                                                V7\n",
       "1: EDQTQDTELVETRPAGDRTFQKWAAVVVPSGEEQRYTCHVQHEGLPK\n",
       "2: EDQTQDTELVETRPAGDRTFQKWAAVVVPSGEEQRYTCHVQHEGLPK\n",
       "3: EDQTQDTELVETRPAGDRTFQKWAAVVVPSGEEQRYTCHVQHEGLPK\n",
       "4: EDQTQDTELVETRPAGDRTFQKWAAVVVPSGEEQRYTCHVQHEGLPK\n",
       "5: EDQTQDTELVETRPAGDRTFQKWAAVVVPSGEEQRYTCHVQHEGLPK\n",
       "6: EDQTQDTELVETRPAGDRTFQKWAAVVVPSGEEQRYTCHVQHEGLPK"
      ]
     },
     "execution_count": 105,
     "metadata": {},
     "output_type": "execute_result"
    }
   ],
   "source": [
    "head(dt)"
   ]
  },
  {
   "cell_type": "code",
   "execution_count": 106,
   "metadata": {
    "collapsed": true
   },
   "outputs": [],
   "source": [
    "setnames(dt, c('q', 't', 'pos', 'len', 'align', 'specific', 'seq'))"
   ]
  },
  {
   "cell_type": "code",
   "execution_count": 107,
   "metadata": {
    "collapsed": false
   },
   "outputs": [
    {
     "data": {
      "text/html": [
       "68124"
      ],
      "text/latex": [
       "68124"
      ],
      "text/markdown": [
       "68124"
      ],
      "text/plain": [
       "[1] 68124"
      ]
     },
     "execution_count": 107,
     "metadata": {},
     "output_type": "execute_result"
    }
   ],
   "source": [
    "nrow(dt)"
   ]
  },
  {
   "cell_type": "code",
   "execution_count": 108,
   "metadata": {
    "collapsed": false
   },
   "outputs": [
    {
     "data": {
      "text/html": [
       "<table>\n",
       "<thead><tr><th></th><th scope=col>qp</th><th scope=col>pair</th><th scope=col>q</th><th scope=col>t</th><th scope=col>pos</th><th scope=col>len</th><th scope=col>align</th><th scope=col>specific</th><th scope=col>seq</th></tr></thead>\n",
       "<tbody>\n",
       "\t<tr><th scope=row>1</th><td>H5JCKCCXX:1:10:149660:0</td><td>1</td><td>H5JCKCCXX:1:10:149660:0/1</td><td>B*35:52</td><td>242</td><td>49</td><td>49</td><td>0</td><td>RDGEDQTQDTELVETRPAGDRTFQKWAAVVVPSGEEQRYTCHVQHEGLP</td></tr>\n",
       "\t<tr><th scope=row>2</th><td>H5JCKCCXX:1:10:149660:0</td><td>1</td><td>H5JCKCCXX:1:10:149660:0/1</td><td>B*13:67</td><td>242</td><td>49</td><td>49</td><td>0</td><td>RDGEDQTQDTELVETRPAGDRTFQKWAAVVVPSGEEQRYTCHVQHEGLP</td></tr>\n",
       "\t<tr><th scope=row>3</th><td>H5JCKCCXX:1:10:149660:0</td><td>1</td><td>H5JCKCCXX:1:10:149660:0/1</td><td>B*15:163</td><td>242</td><td>49</td><td>49</td><td>0</td><td>RDGEDQTQDTELVETRPAGDRTFQKWAAVVVPSGEEQRYTCHVQHEGLP</td></tr>\n",
       "\t<tr><th scope=row>4</th><td>H5JCKCCXX:1:10:149660:0</td><td>1</td><td>H5JCKCCXX:1:10:149660:0/1</td><td>B*08:132</td><td>242</td><td>49</td><td>49</td><td>0</td><td>RDGEDQTQDTELVETRPAGDRTFQKWAAVVVPSGEEQRYTCHVQHEGLP</td></tr>\n",
       "\t<tr><th scope=row>5</th><td>H5JCKCCXX:1:10:149660:0</td><td>1</td><td>H5JCKCCXX:1:10:149660:0/1</td><td>B*58:70</td><td>242</td><td>49</td><td>49</td><td>0</td><td>RDGEDQTQDTELVETRPAGDRTFQKWAAVVVPSGEEQRYTCHVQHEGLP</td></tr>\n",
       "\t<tr><th scope=row>6</th><td>H5JCKCCXX:1:10:149660:0</td><td>1</td><td>H5JCKCCXX:1:10:149660:0/1</td><td>B*51:01</td><td>242</td><td>49</td><td>49</td><td>0</td><td>RDGEDQTQDTELVETRPAGDRTFQKWAAVVVPSGEEQRYTCHVQHEGLP</td></tr>\n",
       "</tbody>\n",
       "</table>\n"
      ],
      "text/latex": [
       "\\begin{tabular}{r|lllllllll}\n",
       "  & qp & pair & q & t & pos & len & align & specific & seq\\\\\n",
       "\\hline\n",
       "\t1 & H5JCKCCXX:1:10:149660:0 & 1 & H5JCKCCXX:1:10:149660:0/1 & B*35:52 & 242 & 49 & 49 & 0 & RDGEDQTQDTELVETRPAGDRTFQKWAAVVVPSGEEQRYTCHVQHEGLP\\\\\n",
       "\t2 & H5JCKCCXX:1:10:149660:0 & 1 & H5JCKCCXX:1:10:149660:0/1 & B*13:67 & 242 & 49 & 49 & 0 & RDGEDQTQDTELVETRPAGDRTFQKWAAVVVPSGEEQRYTCHVQHEGLP\\\\\n",
       "\t3 & H5JCKCCXX:1:10:149660:0 & 1 & H5JCKCCXX:1:10:149660:0/1 & B*15:163 & 242 & 49 & 49 & 0 & RDGEDQTQDTELVETRPAGDRTFQKWAAVVVPSGEEQRYTCHVQHEGLP\\\\\n",
       "\t4 & H5JCKCCXX:1:10:149660:0 & 1 & H5JCKCCXX:1:10:149660:0/1 & B*08:132 & 242 & 49 & 49 & 0 & RDGEDQTQDTELVETRPAGDRTFQKWAAVVVPSGEEQRYTCHVQHEGLP\\\\\n",
       "\t5 & H5JCKCCXX:1:10:149660:0 & 1 & H5JCKCCXX:1:10:149660:0/1 & B*58:70 & 242 & 49 & 49 & 0 & RDGEDQTQDTELVETRPAGDRTFQKWAAVVVPSGEEQRYTCHVQHEGLP\\\\\n",
       "\t6 & H5JCKCCXX:1:10:149660:0 & 1 & H5JCKCCXX:1:10:149660:0/1 & B*51:01 & 242 & 49 & 49 & 0 & RDGEDQTQDTELVETRPAGDRTFQKWAAVVVPSGEEQRYTCHVQHEGLP\\\\\n",
       "\\end{tabular}\n"
      ],
      "text/plain": [
       "                        qp pair                         q        t pos len\n",
       "1: H5JCKCCXX:1:10:149660:0    1 H5JCKCCXX:1:10:149660:0/1  B*35:52 242  49\n",
       "2: H5JCKCCXX:1:10:149660:0    1 H5JCKCCXX:1:10:149660:0/1  B*13:67 242  49\n",
       "3: H5JCKCCXX:1:10:149660:0    1 H5JCKCCXX:1:10:149660:0/1 B*15:163 242  49\n",
       "4: H5JCKCCXX:1:10:149660:0    1 H5JCKCCXX:1:10:149660:0/1 B*08:132 242  49\n",
       "5: H5JCKCCXX:1:10:149660:0    1 H5JCKCCXX:1:10:149660:0/1  B*58:70 242  49\n",
       "6: H5JCKCCXX:1:10:149660:0    1 H5JCKCCXX:1:10:149660:0/1  B*51:01 242  49\n",
       "   align specific                                               seq\n",
       "1:    49        0 RDGEDQTQDTELVETRPAGDRTFQKWAAVVVPSGEEQRYTCHVQHEGLP\n",
       "2:    49        0 RDGEDQTQDTELVETRPAGDRTFQKWAAVVVPSGEEQRYTCHVQHEGLP\n",
       "3:    49        0 RDGEDQTQDTELVETRPAGDRTFQKWAAVVVPSGEEQRYTCHVQHEGLP\n",
       "4:    49        0 RDGEDQTQDTELVETRPAGDRTFQKWAAVVVPSGEEQRYTCHVQHEGLP\n",
       "5:    49        0 RDGEDQTQDTELVETRPAGDRTFQKWAAVVVPSGEEQRYTCHVQHEGLP\n",
       "6:    49        0 RDGEDQTQDTELVETRPAGDRTFQKWAAVVVPSGEEQRYTCHVQHEGLP"
      ]
     },
     "execution_count": 108,
     "metadata": {},
     "output_type": "execute_result"
    }
   ],
   "source": [
    "tt <- dt[, qp := sub('/\\\\d$', '', q)]\n",
    "nr <- dt[, .(pair = length(unique(q))), keyby = qp]\n",
    "setkey(dt, qp)\n",
    "dt <- nr[dt]\n",
    "head(dt)"
   ]
  },
  {
   "cell_type": "code",
   "execution_count": 109,
   "metadata": {
    "collapsed": false
   },
   "outputs": [
    {
     "data": {
      "text/html": [
       "<table>\n",
       "<thead><tr><th></th><th scope=col>qp</th><th scope=col>t</th><th scope=col>pair2</th><th scope=col>pair</th><th scope=col>q</th><th scope=col>pos</th><th scope=col>len</th><th scope=col>align</th><th scope=col>specific</th><th scope=col>seq</th></tr></thead>\n",
       "<tbody>\n",
       "\t<tr><th scope=row>1</th><td>H5JCKCCXX:1:10:149660:0</td><td>B*07:02</td><td>1</td><td>1</td><td>H5JCKCCXX:1:10:149660:0/1</td><td>242</td><td>49</td><td>49</td><td>0</td><td>RDGEDQTQDTELVETRPAGDRTFQKWAAVVVPSGEEQRYTCHVQHEGLP</td></tr>\n",
       "\t<tr><th scope=row>2</th><td>H5JCKCCXX:1:10:149660:0</td><td>B*07:03</td><td>1</td><td>1</td><td>H5JCKCCXX:1:10:149660:0/1</td><td>242</td><td>49</td><td>49</td><td>0</td><td>RDGEDQTQDTELVETRPAGDRTFQKWAAVVVPSGEEQRYTCHVQHEGLP</td></tr>\n",
       "\t<tr><th scope=row>3</th><td>H5JCKCCXX:1:10:149660:0</td><td>B*07:04</td><td>1</td><td>1</td><td>H5JCKCCXX:1:10:149660:0/1</td><td>242</td><td>49</td><td>49</td><td>0</td><td>RDGEDQTQDTELVETRPAGDRTFQKWAAVVVPSGEEQRYTCHVQHEGLP</td></tr>\n",
       "\t<tr><th scope=row>4</th><td>H5JCKCCXX:1:10:149660:0</td><td>B*07:05</td><td>1</td><td>1</td><td>H5JCKCCXX:1:10:149660:0/1</td><td>242</td><td>49</td><td>49</td><td>0</td><td>RDGEDQTQDTELVETRPAGDRTFQKWAAVVVPSGEEQRYTCHVQHEGLP</td></tr>\n",
       "\t<tr><th scope=row>5</th><td>H5JCKCCXX:1:10:149660:0</td><td>B*07:06</td><td>1</td><td>1</td><td>H5JCKCCXX:1:10:149660:0/1</td><td>242</td><td>49</td><td>49</td><td>0</td><td>RDGEDQTQDTELVETRPAGDRTFQKWAAVVVPSGEEQRYTCHVQHEGLP</td></tr>\n",
       "\t<tr><th scope=row>6</th><td>H5JCKCCXX:1:10:149660:0</td><td>B*07:07</td><td>1</td><td>1</td><td>H5JCKCCXX:1:10:149660:0/1</td><td>242</td><td>49</td><td>49</td><td>0</td><td>RDGEDQTQDTELVETRPAGDRTFQKWAAVVVPSGEEQRYTCHVQHEGLP</td></tr>\n",
       "</tbody>\n",
       "</table>\n"
      ],
      "text/latex": [
       "\\begin{tabular}{r|llllllllll}\n",
       "  & qp & t & pair2 & pair & q & pos & len & align & specific & seq\\\\\n",
       "\\hline\n",
       "\t1 & H5JCKCCXX:1:10:149660:0 & B*07:02 & 1 & 1 & H5JCKCCXX:1:10:149660:0/1 & 242 & 49 & 49 & 0 & RDGEDQTQDTELVETRPAGDRTFQKWAAVVVPSGEEQRYTCHVQHEGLP\\\\\n",
       "\t2 & H5JCKCCXX:1:10:149660:0 & B*07:03 & 1 & 1 & H5JCKCCXX:1:10:149660:0/1 & 242 & 49 & 49 & 0 & RDGEDQTQDTELVETRPAGDRTFQKWAAVVVPSGEEQRYTCHVQHEGLP\\\\\n",
       "\t3 & H5JCKCCXX:1:10:149660:0 & B*07:04 & 1 & 1 & H5JCKCCXX:1:10:149660:0/1 & 242 & 49 & 49 & 0 & RDGEDQTQDTELVETRPAGDRTFQKWAAVVVPSGEEQRYTCHVQHEGLP\\\\\n",
       "\t4 & H5JCKCCXX:1:10:149660:0 & B*07:05 & 1 & 1 & H5JCKCCXX:1:10:149660:0/1 & 242 & 49 & 49 & 0 & RDGEDQTQDTELVETRPAGDRTFQKWAAVVVPSGEEQRYTCHVQHEGLP\\\\\n",
       "\t5 & H5JCKCCXX:1:10:149660:0 & B*07:06 & 1 & 1 & H5JCKCCXX:1:10:149660:0/1 & 242 & 49 & 49 & 0 & RDGEDQTQDTELVETRPAGDRTFQKWAAVVVPSGEEQRYTCHVQHEGLP\\\\\n",
       "\t6 & H5JCKCCXX:1:10:149660:0 & B*07:07 & 1 & 1 & H5JCKCCXX:1:10:149660:0/1 & 242 & 49 & 49 & 0 & RDGEDQTQDTELVETRPAGDRTFQKWAAVVVPSGEEQRYTCHVQHEGLP\\\\\n",
       "\\end{tabular}\n"
      ],
      "text/plain": [
       "                        qp       t pair2 pair                         q pos len\n",
       "1: H5JCKCCXX:1:10:149660:0 B*07:02     1    1 H5JCKCCXX:1:10:149660:0/1 242  49\n",
       "2: H5JCKCCXX:1:10:149660:0 B*07:03     1    1 H5JCKCCXX:1:10:149660:0/1 242  49\n",
       "3: H5JCKCCXX:1:10:149660:0 B*07:04     1    1 H5JCKCCXX:1:10:149660:0/1 242  49\n",
       "4: H5JCKCCXX:1:10:149660:0 B*07:05     1    1 H5JCKCCXX:1:10:149660:0/1 242  49\n",
       "5: H5JCKCCXX:1:10:149660:0 B*07:06     1    1 H5JCKCCXX:1:10:149660:0/1 242  49\n",
       "6: H5JCKCCXX:1:10:149660:0 B*07:07     1    1 H5JCKCCXX:1:10:149660:0/1 242  49\n",
       "   align specific                                               seq\n",
       "1:    49        0 RDGEDQTQDTELVETRPAGDRTFQKWAAVVVPSGEEQRYTCHVQHEGLP\n",
       "2:    49        0 RDGEDQTQDTELVETRPAGDRTFQKWAAVVVPSGEEQRYTCHVQHEGLP\n",
       "3:    49        0 RDGEDQTQDTELVETRPAGDRTFQKWAAVVVPSGEEQRYTCHVQHEGLP\n",
       "4:    49        0 RDGEDQTQDTELVETRPAGDRTFQKWAAVVVPSGEEQRYTCHVQHEGLP\n",
       "5:    49        0 RDGEDQTQDTELVETRPAGDRTFQKWAAVVVPSGEEQRYTCHVQHEGLP\n",
       "6:    49        0 RDGEDQTQDTELVETRPAGDRTFQKWAAVVVPSGEEQRYTCHVQHEGLP"
      ]
     },
     "execution_count": 109,
     "metadata": {},
     "output_type": "execute_result"
    }
   ],
   "source": [
    "nr <- dt[, .(pair2 = length(unique(q))), keyby = .(qp, t)]\n",
    "setkey(dt, qp, t)\n",
    "dt <- nr[dt]\n",
    "head(dt)"
   ]
  },
  {
   "cell_type": "code",
   "execution_count": 110,
   "metadata": {
    "collapsed": false
   },
   "outputs": [],
   "source": [
    "dt <- dt[pair == pair2]"
   ]
  },
  {
   "cell_type": "code",
   "execution_count": 111,
   "metadata": {
    "collapsed": false
   },
   "outputs": [],
   "source": [
    "library(IRanges)"
   ]
  },
  {
   "cell_type": "code",
   "execution_count": 112,
   "metadata": {
    "collapsed": false
   },
   "outputs": [],
   "source": [
    "dt <- dt[grepl('\\\\d$', t) & align / len > 0.8]\n",
    "setkey(dt, t)\n",
    "cov <- dt[, .(\n",
    "    n0 = .N, \n",
    "    n1 = sum(specific), \n",
    "    cov0 = sum(width(reduce(IRanges(pos, width = len)))),\n",
    "    cov1 = sum(width(reduce(IRanges(pos[specific == 1], width = len[specific == 1]))))\n",
    "), keyby = t]"
   ]
  },
  {
   "cell_type": "code",
   "execution_count": 113,
   "metadata": {
    "collapsed": false
   },
   "outputs": [
    {
     "data": {
      "text/html": [
       "<table>\n",
       "<thead><tr><th></th><th scope=col>t</th><th scope=col>n0</th><th scope=col>n1</th><th scope=col>cov0</th><th scope=col>cov1</th></tr></thead>\n",
       "<tbody>\n",
       "\t<tr><th scope=row>1</th><td>B*51:01</td><td>76</td><td>45</td><td>297</td><td>297</td></tr>\n",
       "\t<tr><th scope=row>2</th><td>B*51:193</td><td>76</td><td>45</td><td>297</td><td>297</td></tr>\n",
       "\t<tr><th scope=row>3</th><td>B*51:96</td><td>73</td><td>42</td><td>295</td><td>295</td></tr>\n",
       "\t<tr><th scope=row>4</th><td>B*51:130</td><td>63</td><td>35</td><td>294</td><td>294</td></tr>\n",
       "\t<tr><th scope=row>5</th><td>B*51:163</td><td>62</td><td>34</td><td>293</td><td>293</td></tr>\n",
       "\t<tr><th scope=row>6</th><td>B*51:187</td><td>75</td><td>44</td><td>294</td><td>292</td></tr>\n",
       "</tbody>\n",
       "</table>\n"
      ],
      "text/latex": [
       "\\begin{tabular}{r|lllll}\n",
       "  & t & n0 & n1 & cov0 & cov1\\\\\n",
       "\\hline\n",
       "\t1 & B*51:01 & 76 & 45 & 297 & 297\\\\\n",
       "\t2 & B*51:193 & 76 & 45 & 297 & 297\\\\\n",
       "\t3 & B*51:96 & 73 & 42 & 295 & 295\\\\\n",
       "\t4 & B*51:130 & 63 & 35 & 294 & 294\\\\\n",
       "\t5 & B*51:163 & 62 & 34 & 293 & 293\\\\\n",
       "\t6 & B*51:187 & 75 & 44 & 294 & 292\\\\\n",
       "\\end{tabular}\n"
      ],
      "text/plain": [
       "          t n0 n1 cov0 cov1\n",
       "1:  B*51:01 76 45  297  297\n",
       "2: B*51:193 76 45  297  297\n",
       "3:  B*51:96 73 42  295  295\n",
       "4: B*51:130 63 35  294  294\n",
       "5: B*51:163 62 34  293  293\n",
       "6: B*51:187 75 44  294  292"
      ]
     },
     "execution_count": 113,
     "metadata": {},
     "output_type": "execute_result"
    }
   ],
   "source": [
    "head(cov[order(-cov1)])"
   ]
  },
  {
   "cell_type": "code",
   "execution_count": 114,
   "metadata": {
    "collapsed": false
   },
   "outputs": [
    {
     "data": {
      "text/html": [
       "<table>\n",
       "<thead><tr><th></th><th scope=col>t</th><th scope=col>n0</th><th scope=col>n1</th><th scope=col>cov0</th><th scope=col>cov1</th></tr></thead>\n",
       "<tbody>\n",
       "\t<tr><th scope=row>1</th><td>B*13:02</td><td>96</td><td>57</td><td>274</td><td>273</td></tr>\n",
       "\t<tr><th scope=row>2</th><td>B*13:38</td><td>74</td><td>55</td><td>272</td><td>265</td></tr>\n",
       "\t<tr><th scope=row>3</th><td>B*13:70</td><td>85</td><td>54</td><td>267</td><td>267</td></tr>\n",
       "\t<tr><th scope=row>4</th><td>B*13:67</td><td>83</td><td>52</td><td>257</td><td>257</td></tr>\n",
       "\t<tr><th scope=row>5</th><td>B*13:82</td><td>88</td><td>52</td><td>264</td><td>263</td></tr>\n",
       "\t<tr><th scope=row>6</th><td>B*13:15</td><td>86</td><td>50</td><td>262</td><td>261</td></tr>\n",
       "</tbody>\n",
       "</table>\n"
      ],
      "text/latex": [
       "\\begin{tabular}{r|lllll}\n",
       "  & t & n0 & n1 & cov0 & cov1\\\\\n",
       "\\hline\n",
       "\t1 & B*13:02 & 96 & 57 & 274 & 273\\\\\n",
       "\t2 & B*13:38 & 74 & 55 & 272 & 265\\\\\n",
       "\t3 & B*13:70 & 85 & 54 & 267 & 267\\\\\n",
       "\t4 & B*13:67 & 83 & 52 & 257 & 257\\\\\n",
       "\t5 & B*13:82 & 88 & 52 & 264 & 263\\\\\n",
       "\t6 & B*13:15 & 86 & 50 & 262 & 261\\\\\n",
       "\\end{tabular}\n"
      ],
      "text/plain": [
       "         t n0 n1 cov0 cov1\n",
       "1: B*13:02 96 57  274  273\n",
       "2: B*13:38 74 55  272  265\n",
       "3: B*13:70 85 54  267  267\n",
       "4: B*13:67 83 52  257  257\n",
       "5: B*13:82 88 52  264  263\n",
       "6: B*13:15 86 50  262  261"
      ]
     },
     "execution_count": 114,
     "metadata": {},
     "output_type": "execute_result"
    }
   ],
   "source": [
    "head(cov[order(-n1)])"
   ]
  },
  {
   "cell_type": "code",
   "execution_count": 115,
   "metadata": {
    "collapsed": true
   },
   "outputs": [],
   "source": [
    "pure <- dt[specific == 1]\n",
    "nonpure <- dt[specific == 0]"
   ]
  },
  {
   "cell_type": "code",
   "execution_count": 116,
   "metadata": {
    "collapsed": false
   },
   "outputs": [
    {
     "data": {
      "text/html": [
       "26962"
      ],
      "text/latex": [
       "26962"
      ],
      "text/markdown": [
       "26962"
      ],
      "text/plain": [
       "[1] 26962"
      ]
     },
     "execution_count": 116,
     "metadata": {},
     "output_type": "execute_result"
    }
   ],
   "source": [
    "nrow(pure)"
   ]
  },
  {
   "cell_type": "code",
   "execution_count": 117,
   "metadata": {
    "collapsed": false
   },
   "outputs": [
    {
     "data": {
      "text/html": [
       "34892"
      ],
      "text/latex": [
       "34892"
      ],
      "text/markdown": [
       "34892"
      ],
      "text/plain": [
       "[1] 34892"
      ]
     },
     "execution_count": 117,
     "metadata": {},
     "output_type": "execute_result"
    }
   ],
   "source": [
    "nrow(nonpure)"
   ]
  },
  {
   "cell_type": "code",
   "execution_count": 118,
   "metadata": {
    "collapsed": false
   },
   "outputs": [
    {
     "data": {
      "text/html": [
       "61854"
      ],
      "text/latex": [
       "61854"
      ],
      "text/markdown": [
       "61854"
      ],
      "text/plain": [
       "[1] 61854"
      ]
     },
     "execution_count": 118,
     "metadata": {},
     "output_type": "execute_result"
    }
   ],
   "source": [
    "good <- dt[align / len > 0.8]\n",
    "nrow(good)"
   ]
  },
  {
   "cell_type": "code",
   "execution_count": 141,
   "metadata": {
    "collapsed": true
   },
   "outputs": [],
   "source": [
    "tt <- good[, v := specific * 5 + 1]\n",
    "mat <- dcast(good, q ~ t, value.var = 'v', fill = 0)"
   ]
  },
  {
   "cell_type": "code",
   "execution_count": 142,
   "metadata": {
    "collapsed": false
   },
   "outputs": [],
   "source": [
    "tt <- mat[, q := NULL]"
   ]
  },
  {
   "cell_type": "code",
   "execution_count": 143,
   "metadata": {
    "collapsed": false
   },
   "outputs": [
    {
     "data": {
      "text/html": [
       "<dl class=dl-horizontal>\n",
       "\t<dt>B*13:15</dt>\n",
       "\t\t<dd>336</dd>\n",
       "\t<dt>B*13:67</dt>\n",
       "\t\t<dd>343</dd>\n",
       "\t<dt>B*13:82</dt>\n",
       "\t\t<dd>348</dd>\n",
       "\t<dt>B*13:38</dt>\n",
       "\t\t<dd>349</dd>\n",
       "\t<dt>B*13:70</dt>\n",
       "\t\t<dd>355</dd>\n",
       "\t<dt>B*13:02</dt>\n",
       "\t\t<dd>381</dd>\n",
       "</dl>\n"
      ],
      "text/latex": [
       "\\begin{description*}\n",
       "\\item[B*13:15] 336\n",
       "\\item[B*13:67] 343\n",
       "\\item[B*13:82] 348\n",
       "\\item[B*13:38] 349\n",
       "\\item[B*13:70] 355\n",
       "\\item[B*13:02] 381\n",
       "\\end{description*}\n"
      ],
      "text/markdown": [
       "B*13:15\n",
       ":   336B*13:67\n",
       ":   343B*13:82\n",
       ":   348B*13:38\n",
       ":   349B*13:70\n",
       ":   355B*13:02\n",
       ":   381\n",
       "\n"
      ],
      "text/plain": [
       "B*13:15 B*13:67 B*13:82 B*13:38 B*13:70 B*13:02 \n",
       "    336     343     348     349     355     381 "
      ]
     },
     "execution_count": 143,
     "metadata": {},
     "output_type": "execute_result"
    }
   ],
   "source": [
    "tail(sort(colSums(mat)))"
   ]
  },
  {
   "cell_type": "code",
   "execution_count": 144,
   "metadata": {
    "collapsed": true
   },
   "outputs": [],
   "source": [
    "temp <- sort(colSums(mat))"
   ]
  },
  {
   "cell_type": "code",
   "execution_count": 151,
   "metadata": {
    "collapsed": false
   },
   "outputs": [
    {
     "data": {
      "text/html": [
       "<dl class=dl-horizontal>\n",
       "\t<dt>B*51:142</dt>\n",
       "\t\t<dd>265</dd>\n",
       "\t<dt>B*51:50</dt>\n",
       "\t\t<dd>265</dd>\n",
       "\t<dt>B*51:157</dt>\n",
       "\t\t<dd>266</dd>\n",
       "\t<dt>B*51:30</dt>\n",
       "\t\t<dd>267</dd>\n",
       "\t<dt>B*51:78</dt>\n",
       "\t\t<dd>268</dd>\n",
       "\t<dt>B*51:159</dt>\n",
       "\t\t<dd>271</dd>\n",
       "\t<dt>B*51:175</dt>\n",
       "\t\t<dd>271</dd>\n",
       "\t<dt>B*51:161</dt>\n",
       "\t\t<dd>272</dd>\n",
       "\t<dt>B*51:176</dt>\n",
       "\t\t<dd>272</dd>\n",
       "\t<dt>B*51:57</dt>\n",
       "\t\t<dd>272</dd>\n",
       "\t<dt>B*51:169</dt>\n",
       "\t\t<dd>273</dd>\n",
       "\t<dt>B*51:188</dt>\n",
       "\t\t<dd>277</dd>\n",
       "\t<dt>B*51:165</dt>\n",
       "\t\t<dd>280</dd>\n",
       "\t<dt>B*51:96</dt>\n",
       "\t\t<dd>283</dd>\n",
       "\t<dt>B*51:151</dt>\n",
       "\t\t<dd>284</dd>\n",
       "\t<dt>B*51:51</dt>\n",
       "\t\t<dd>286</dd>\n",
       "\t<dt>B*51:164</dt>\n",
       "\t\t<dd>292</dd>\n",
       "\t<dt>B*51:187</dt>\n",
       "\t\t<dd>295</dd>\n",
       "\t<dt>B*51:01</dt>\n",
       "\t\t<dd>301</dd>\n",
       "\t<dt>B*51:193</dt>\n",
       "\t\t<dd>301</dd>\n",
       "</dl>\n"
      ],
      "text/latex": [
       "\\begin{description*}\n",
       "\\item[B*51:142] 265\n",
       "\\item[B*51:50] 265\n",
       "\\item[B*51:157] 266\n",
       "\\item[B*51:30] 267\n",
       "\\item[B*51:78] 268\n",
       "\\item[B*51:159] 271\n",
       "\\item[B*51:175] 271\n",
       "\\item[B*51:161] 272\n",
       "\\item[B*51:176] 272\n",
       "\\item[B*51:57] 272\n",
       "\\item[B*51:169] 273\n",
       "\\item[B*51:188] 277\n",
       "\\item[B*51:165] 280\n",
       "\\item[B*51:96] 283\n",
       "\\item[B*51:151] 284\n",
       "\\item[B*51:51] 286\n",
       "\\item[B*51:164] 292\n",
       "\\item[B*51:187] 295\n",
       "\\item[B*51:01] 301\n",
       "\\item[B*51:193] 301\n",
       "\\end{description*}\n"
      ],
      "text/markdown": [
       "B*51:142\n",
       ":   265B*51:50\n",
       ":   265B*51:157\n",
       ":   266B*51:30\n",
       ":   267B*51:78\n",
       ":   268B*51:159\n",
       ":   271B*51:175\n",
       ":   271B*51:161\n",
       ":   272B*51:176\n",
       ":   272B*51:57\n",
       ":   272B*51:169\n",
       ":   273B*51:188\n",
       ":   277B*51:165\n",
       ":   280B*51:96\n",
       ":   283B*51:151\n",
       ":   284B*51:51\n",
       ":   286B*51:164\n",
       ":   292B*51:187\n",
       ":   295B*51:01\n",
       ":   301B*51:193\n",
       ":   301\n",
       "\n"
      ],
      "text/plain": [
       "B*51:142  B*51:50 B*51:157  B*51:30  B*51:78 B*51:159 B*51:175 B*51:161 \n",
       "     265      265      266      267      268      271      271      272 \n",
       "B*51:176  B*51:57 B*51:169 B*51:188 B*51:165  B*51:96 B*51:151  B*51:51 \n",
       "     272      272      273      277      280      283      284      286 \n",
       "B*51:164 B*51:187  B*51:01 B*51:193 \n",
       "     292      295      301      301 "
      ]
     },
     "execution_count": 151,
     "metadata": {},
     "output_type": "execute_result"
    }
   ],
   "source": [
    "tail(temp[grepl('B*51', names(temp))], 20)"
   ]
  },
  {
   "cell_type": "code",
   "execution_count": 146,
   "metadata": {
    "collapsed": false
   },
   "outputs": [
    {
     "data": {
      "text/html": [
       "646"
      ],
      "text/latex": [
       "646"
      ],
      "text/markdown": [
       "646"
      ],
      "text/plain": [
       "[1] 646"
      ]
     },
     "execution_count": 146,
     "metadata": {},
     "output_type": "execute_result"
    }
   ],
   "source": [
    "mat[, sum(pmax(`B*13:02`, `B*51:30`))]"
   ]
  },
  {
   "cell_type": "code",
   "execution_count": 147,
   "metadata": {
    "collapsed": false
   },
   "outputs": [
    {
     "data": {
      "text/html": [
       "490"
      ],
      "text/latex": [
       "490"
      ],
      "text/markdown": [
       "490"
      ],
      "text/plain": [
       "[1] 490"
      ]
     },
     "execution_count": 147,
     "metadata": {},
     "output_type": "execute_result"
    }
   ],
   "source": [
    "mat[, sum(pmax(`B*13:02`, `B*51:10`))]"
   ]
  },
  {
   "cell_type": "code",
   "execution_count": 148,
   "metadata": {
    "collapsed": false
   },
   "outputs": [
    {
     "data": {
      "text/html": [
       "613"
      ],
      "text/latex": [
       "613"
      ],
      "text/markdown": [
       "613"
      ],
      "text/plain": [
       "[1] 613"
      ]
     },
     "execution_count": 148,
     "metadata": {},
     "output_type": "execute_result"
    }
   ],
   "source": [
    "mat[, sum(pmax(`B*13:82`, `B*51:30`))]"
   ]
  },
  {
   "cell_type": "code",
   "execution_count": 149,
   "metadata": {
    "collapsed": false
   },
   "outputs": [
    {
     "data": {
      "text/html": [
       "613"
      ],
      "text/latex": [
       "613"
      ],
      "text/markdown": [
       "613"
      ],
      "text/plain": [
       "[1] 613"
      ]
     },
     "execution_count": 149,
     "metadata": {},
     "output_type": "execute_result"
    }
   ],
   "source": [
    "mat[, sum(pmax(`B*13:02`, `B*51:193`))]"
   ]
  },
  {
   "cell_type": "code",
   "execution_count": 150,
   "metadata": {
    "collapsed": false
   },
   "outputs": [
    {
     "data": {
      "text/html": [
       "613"
      ],
      "text/latex": [
       "613"
      ],
      "text/markdown": [
       "613"
      ],
      "text/plain": [
       "[1] 613"
      ]
     },
     "execution_count": 150,
     "metadata": {},
     "output_type": "execute_result"
    }
   ],
   "source": [
    "mat[, sum(pmax(`B*13:02`, `B*51:01`))]"
   ]
  },
  {
   "cell_type": "code",
   "execution_count": 128,
   "metadata": {
    "collapsed": false
   },
   "outputs": [
    {
     "data": {
      "text/html": [
       "116"
      ],
      "text/latex": [
       "116"
      ],
      "text/markdown": [
       "116"
      ],
      "text/plain": [
       "[1] 116"
      ]
     },
     "execution_count": 128,
     "metadata": {},
     "output_type": "execute_result"
    }
   ],
   "source": [
    "mat[, sum(pmax(`B*13:02`, `B*51:51`))]"
   ]
  },
  {
   "cell_type": "code",
   "execution_count": 129,
   "metadata": {
    "collapsed": false
   },
   "outputs": [
    {
     "data": {
      "text/html": [
       "116"
      ],
      "text/latex": [
       "116"
      ],
      "text/markdown": [
       "116"
      ],
      "text/plain": [
       "[1] 116"
      ]
     },
     "execution_count": 129,
     "metadata": {},
     "output_type": "execute_result"
    }
   ],
   "source": [
    "mat[, sum(pmax(`B*13:02`, `B*51:165`))]"
   ]
  },
  {
   "cell_type": "code",
   "execution_count": 130,
   "metadata": {
    "collapsed": false
   },
   "outputs": [
    {
     "data": {
      "text/html": [
       "111.5"
      ],
      "text/latex": [
       "111.5"
      ],
      "text/markdown": [
       "111.5"
      ],
      "text/plain": [
       "[1] 111.5"
      ]
     },
     "execution_count": 130,
     "metadata": {},
     "output_type": "execute_result"
    }
   ],
   "source": [
    "mat[, sum(pmax(`B*13:70`, `B*51:193`))]"
   ]
  },
  {
   "cell_type": "code",
   "execution_count": 131,
   "metadata": {
    "collapsed": false
   },
   "outputs": [
    {
     "data": {
      "text/html": [
       "111.5"
      ],
      "text/latex": [
       "111.5"
      ],
      "text/markdown": [
       "111.5"
      ],
      "text/plain": [
       "[1] 111.5"
      ]
     },
     "execution_count": 131,
     "metadata": {},
     "output_type": "execute_result"
    }
   ],
   "source": [
    "mat[, sum(pmax(`B*13:70`, `B*51:01`))]"
   ]
  },
  {
   "cell_type": "code",
   "execution_count": 132,
   "metadata": {
    "collapsed": false
   },
   "outputs": [
    {
     "data": {
      "text/html": [
       "<table>\n",
       "<thead><tr><th></th><th scope=col>t</th><th scope=col>n0</th><th scope=col>n1</th><th scope=col>cov0</th><th scope=col>cov1</th></tr></thead>\n",
       "<tbody>\n",
       "</tbody>\n",
       "</table>\n"
      ],
      "text/latex": [
       "\\begin{tabular}{r|lllll}\n",
       "  & t & n0 & n1 & cov0 & cov1\\\\\n",
       "\\hline\n",
       "\\end{tabular}\n"
      ],
      "text/plain": [
       "Empty data.table (0 rows) of 5 cols: t,n0,n1,cov0,cov1\n",
       "NULL"
      ]
     },
     "execution_count": 132,
     "metadata": {},
     "output_type": "execute_result"
    }
   ],
   "source": [
    "head(cov[grep('B*05:01', t)][order(-cov1)], 30)"
   ]
  },
  {
   "cell_type": "code",
   "execution_count": 133,
   "metadata": {
    "collapsed": false
   },
   "outputs": [
    {
     "data": {
      "text/html": [
       "<table>\n",
       "<thead><tr><th></th><th scope=col>t</th><th scope=col>n0</th><th scope=col>n1</th><th scope=col>cov0</th><th scope=col>cov1</th></tr></thead>\n",
       "<tbody>\n",
       "\t<tr><th scope=row>1</th><td>B*51:01</td><td>76</td><td>45</td><td>297</td><td>297</td></tr>\n",
       "\t<tr><th scope=row>2</th><td>B*51:02</td><td>70</td><td>39</td><td>282</td><td>276</td></tr>\n",
       "\t<tr><th scope=row>3</th><td>B*51:03</td><td>69</td><td>39</td><td>281</td><td>276</td></tr>\n",
       "\t<tr><th scope=row>4</th><td>B*51:04</td><td>66</td><td>35</td><td>291</td><td>291</td></tr>\n",
       "\t<tr><th scope=row>5</th><td>B*51:05</td><td>64</td><td>36</td><td>266</td><td>266</td></tr>\n",
       "\t<tr><th scope=row>6</th><td>B*51:06</td><td>64</td><td>33</td><td>267</td><td>267</td></tr>\n",
       "</tbody>\n",
       "</table>\n"
      ],
      "text/latex": [
       "\\begin{tabular}{r|lllll}\n",
       "  & t & n0 & n1 & cov0 & cov1\\\\\n",
       "\\hline\n",
       "\t1 & B*51:01 & 76 & 45 & 297 & 297\\\\\n",
       "\t2 & B*51:02 & 70 & 39 & 282 & 276\\\\\n",
       "\t3 & B*51:03 & 69 & 39 & 281 & 276\\\\\n",
       "\t4 & B*51:04 & 66 & 35 & 291 & 291\\\\\n",
       "\t5 & B*51:05 & 64 & 36 & 266 & 266\\\\\n",
       "\t6 & B*51:06 & 64 & 33 & 267 & 267\\\\\n",
       "\\end{tabular}\n"
      ],
      "text/plain": [
       "         t n0 n1 cov0 cov1\n",
       "1: B*51:01 76 45  297  297\n",
       "2: B*51:02 70 39  282  276\n",
       "3: B*51:03 69 39  281  276\n",
       "4: B*51:04 66 35  291  291\n",
       "5: B*51:05 64 36  266  266\n",
       "6: B*51:06 64 33  267  267"
      ]
     },
     "execution_count": 133,
     "metadata": {},
     "output_type": "execute_result"
    }
   ],
   "source": [
    "head(cov[grepl('51:', t)])"
   ]
  },
  {
   "cell_type": "code",
   "execution_count": 55,
   "metadata": {
    "collapsed": false
   },
   "outputs": [
    {
     "data": {
      "text/html": [
       "151"
      ],
      "text/latex": [
       "151"
      ],
      "text/markdown": [
       "151"
      ],
      "text/plain": [
       "[1] 151"
      ]
     },
     "execution_count": 55,
     "metadata": {},
     "output_type": "execute_result"
    }
   ],
   "source": [
    "nrow(mat)"
   ]
  },
  {
   "cell_type": "code",
   "execution_count": 100,
   "metadata": {
    "collapsed": false
   },
   "outputs": [
    {
     "data": {
      "text/html": [
       "<table>\n",
       "<thead><tr><th></th><th scope=col>t</th><th scope=col>n0</th><th scope=col>n1</th><th scope=col>cov0</th><th scope=col>cov1</th></tr></thead>\n",
       "<tbody>\n",
       "\t<tr><th scope=row>1</th><td>B*07:02</td><td>43</td><td>16</td><td>92</td><td>92</td></tr>\n",
       "\t<tr><th scope=row>2</th><td>B*07:03</td><td>43</td><td>16</td><td>92</td><td>92</td></tr>\n",
       "\t<tr><th scope=row>3</th><td>B*07:04</td><td>43</td><td>16</td><td>92</td><td>92</td></tr>\n",
       "\t<tr><th scope=row>4</th><td>B*07:05</td><td>43</td><td>16</td><td>92</td><td>92</td></tr>\n",
       "\t<tr><th scope=row>5</th><td>B*07:06</td><td>43</td><td>16</td><td>92</td><td>92</td></tr>\n",
       "\t<tr><th scope=row>6</th><td>B*07:07</td><td>43</td><td>16</td><td>92</td><td>92</td></tr>\n",
       "</tbody>\n",
       "</table>\n"
      ],
      "text/latex": [
       "\\begin{tabular}{r|lllll}\n",
       "  & t & n0 & n1 & cov0 & cov1\\\\\n",
       "\\hline\n",
       "\t1 & B*07:02 & 43 & 16 & 92 & 92\\\\\n",
       "\t2 & B*07:03 & 43 & 16 & 92 & 92\\\\\n",
       "\t3 & B*07:04 & 43 & 16 & 92 & 92\\\\\n",
       "\t4 & B*07:05 & 43 & 16 & 92 & 92\\\\\n",
       "\t5 & B*07:06 & 43 & 16 & 92 & 92\\\\\n",
       "\t6 & B*07:07 & 43 & 16 & 92 & 92\\\\\n",
       "\\end{tabular}\n"
      ],
      "text/plain": [
       "         t n0 n1 cov0 cov1\n",
       "1: B*07:02 43 16   92   92\n",
       "2: B*07:03 43 16   92   92\n",
       "3: B*07:04 43 16   92   92\n",
       "4: B*07:05 43 16   92   92\n",
       "5: B*07:06 43 16   92   92\n",
       "6: B*07:07 43 16   92   92"
      ]
     },
     "execution_count": 100,
     "metadata": {},
     "output_type": "execute_result"
    }
   ],
   "source": [
    "head(cov)"
   ]
  },
  {
   "cell_type": "code",
   "execution_count": null,
   "metadata": {
    "collapsed": true
   },
   "outputs": [],
   "source": []
  }
 ],
 "metadata": {
  "kernelspec": {
   "display_name": "R",
   "language": "R",
   "name": "ir"
  },
  "language_info": {
   "codemirror_mode": "r",
   "file_extension": ".r",
   "mimetype": "text/x-r-source",
   "name": "R",
   "pygments_lexer": "r",
   "version": "3.2.1"
  }
 },
 "nbformat": 4,
 "nbformat_minor": 0
}
